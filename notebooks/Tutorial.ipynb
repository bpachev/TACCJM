{
 "cells": [
  {
   "cell_type": "markdown",
   "id": "2b54650b-b40f-4ff1-874e-a44e1f42780b",
   "metadata": {
    "tags": []
   },
   "source": [
    "# TACCSSHClient Class\n",
    "\n",
    "The TACCSSHClient class is used to establish connections with TACC systems, using a user's login and 2FA code.\n",
    "\n",
    "The class then provides methods for (1)basic file operations, and for (2) execution of arbitrary commands.\n",
    "We will go over these two main areas of functionality in the tutorial"
   ]
  },
  {
   "cell_type": "markdown",
   "id": "a5778dff-6662-453f-8581-44fd089a329a",
   "metadata": {
    "tags": []
   },
   "source": [
    "## Initialization\n",
    "\n",
    "To initialize a `TACCSSHClient` class object, you will to pass in the system you want to connect to. Currently supported systems include:\n",
    "\n",
    "- stampede2 - [Stampede2](https://portal.tacc.utexas.edu/user-guides/stampede)\n",
    "- ls6 - [Lonestar6](https://portal.tacc.utexas.edu/user-guides/lonestar6)\n",
    "- frontera - [Frontera](https://frontera-portal.tacc.utexas.edu/user-guide/)\n",
    "- maverick2 - [Maverick2](https://portal.tacc.utexas.edu/user-guides/maverick2)\n"
   ]
  },
  {
   "cell_type": "markdown",
   "id": "8aacb780-8d74-42e9-9ee7-72a3330ed79c",
   "metadata": {},
   "source": [
    "## Logging \n",
    "\n",
    "You can turn logging on and off using the log module in TACCJM. By default logging is turned off and needs to be enabled."
   ]
  },
  {
   "cell_type": "code",
   "execution_count": 1,
   "id": "20140ec0-35c9-4415-88f1-d1d02a2303bd",
   "metadata": {},
   "outputs": [
    {
     "data": {
      "text/html": [
       "<pre style=\"white-space:pre;overflow-x:auto;line-height:normal;font-family:Menlo,'DejaVu Sans Mono',consolas,'Courier New',monospace\"><span style=\"color: #7fbfbf; text-decoration-color: #7fbfbf\">[03/17/23 20:30:37] </span><span style=\"color: #000080; text-decoration-color: #000080\">INFO    </span> Logger initialized                                                           <a href=\"file:///home/jupyter/MyData/repos/taccjm/src/taccjm/log.py\" target=\"_blank\"><span style=\"color: #7f7f7f; text-decoration-color: #7f7f7f\">log.py</span></a><span style=\"color: #7f7f7f; text-decoration-color: #7f7f7f\">:</span><a href=\"file:///home/jupyter/MyData/repos/taccjm/src/taccjm/log.py#25\" target=\"_blank\"><span style=\"color: #7f7f7f; text-decoration-color: #7f7f7f\">25</span></a>\n",
       "</pre>\n"
      ],
      "text/plain": [
       "\u001b[2;36m[03/17/23 20:30:37]\u001b[0m\u001b[2;36m \u001b[0m\u001b[34mINFO    \u001b[0m Logger initialized                                                           \u001b]8;id=357766;file:///home/jupyter/MyData/repos/taccjm/src/taccjm/log.py\u001b\\\u001b[2mlog.py\u001b[0m\u001b]8;;\u001b\\\u001b[2m:\u001b[0m\u001b]8;id=232628;file:///home/jupyter/MyData/repos/taccjm/src/taccjm/log.py#25\u001b\\\u001b[2m25\u001b[0m\u001b]8;;\u001b\\\n"
      ]
     },
     "metadata": {},
     "output_type": "display_data"
    },
    {
     "data": {
      "text/plain": [
       "<loguru.logger handlers=[(id=1, level=20, sink=<RichHandler (NOTSET)>)]>"
      ]
     },
     "execution_count": 1,
     "metadata": {},
     "output_type": "execute_result"
    }
   ],
   "source": [
    "import taccjm.log as log\n",
    "log.enable(level='INFO')"
   ]
  },
  {
   "cell_type": "code",
   "execution_count": 58,
   "id": "3a5dbc3b-4793-42f9-9c0d-dc48ef613514",
   "metadata": {},
   "outputs": [
    {
     "data": {
      "text/html": [
       "<pre style=\"white-space:pre;overflow-x:auto;line-height:normal;font-family:Menlo,'DejaVu Sans Mono',consolas,'Courier New',monospace\"><span style=\"color: #7fbfbf; text-decoration-color: #7fbfbf\">[03/17/23 20:52:35] </span><span style=\"color: #000080; text-decoration-color: #000080\">INFO    </span> Connecting clos21 to system stampede2<span style=\"color: #808000; text-decoration-color: #808000\">...</span>                          <a href=\"file:///home/jupyter/MyData/repos/taccjm/src/taccjm/client/TACCSSHClient.py\" target=\"_blank\"><span style=\"color: #7f7f7f; text-decoration-color: #7f7f7f\">TACCSSHClient.py</span></a><span style=\"color: #7f7f7f; text-decoration-color: #7f7f7f\">:</span><a href=\"file:///home/jupyter/MyData/repos/taccjm/src/taccjm/client/TACCSSHClient.py#112\" target=\"_blank\"><span style=\"color: #7f7f7f; text-decoration-color: #7f7f7f\">112</span></a>\n",
       "</pre>\n"
      ],
      "text/plain": [
       "\u001b[2;36m[03/17/23 20:52:35]\u001b[0m\u001b[2;36m \u001b[0m\u001b[34mINFO    \u001b[0m Connecting clos21 to system stampede2\u001b[33m...\u001b[0m                          \u001b]8;id=607833;file:///home/jupyter/MyData/repos/taccjm/src/taccjm/client/TACCSSHClient.py\u001b\\\u001b[2mTACCSSHClient.py\u001b[0m\u001b]8;;\u001b\\\u001b[2m:\u001b[0m\u001b]8;id=200987;file:///home/jupyter/MyData/repos/taccjm/src/taccjm/client/TACCSSHClient.py#112\u001b\\\u001b[2m112\u001b[0m\u001b]8;;\u001b\\\n"
      ]
     },
     "metadata": {},
     "output_type": "display_data"
    },
    {
     "name": "stdin",
     "output_type": "stream",
     "text": [
      "Password: ···········\n",
      "TACC Token Code: 641089\n"
     ]
    },
    {
     "data": {
      "text/html": [
       "<pre style=\"white-space:pre;overflow-x:auto;line-height:normal;font-family:Menlo,'DejaVu Sans Mono',consolas,'Courier New',monospace\"><span style=\"color: #7fbfbf; text-decoration-color: #7fbfbf\">[03/17/23 20:52:50] </span><span style=\"color: #000080; text-decoration-color: #000080\">INFO    </span> Succesfuly connected to stampede2                                 <a href=\"file:///home/jupyter/MyData/repos/taccjm/src/taccjm/client/TACCSSHClient.py\" target=\"_blank\"><span style=\"color: #7f7f7f; text-decoration-color: #7f7f7f\">TACCSSHClient.py</span></a><span style=\"color: #7f7f7f; text-decoration-color: #7f7f7f\">:</span><a href=\"file:///home/jupyter/MyData/repos/taccjm/src/taccjm/client/TACCSSHClient.py#116\" target=\"_blank\"><span style=\"color: #7f7f7f; text-decoration-color: #7f7f7f\">116</span></a>\n",
       "</pre>\n"
      ],
      "text/plain": [
       "\u001b[2;36m[03/17/23 20:52:50]\u001b[0m\u001b[2;36m \u001b[0m\u001b[34mINFO    \u001b[0m Succesfuly connected to stampede2                                 \u001b]8;id=851983;file:///home/jupyter/MyData/repos/taccjm/src/taccjm/client/TACCSSHClient.py\u001b\\\u001b[2mTACCSSHClient.py\u001b[0m\u001b]8;;\u001b\\\u001b[2m:\u001b[0m\u001b]8;id=213710;file:///home/jupyter/MyData/repos/taccjm/src/taccjm/client/TACCSSHClient.py#116\u001b\\\u001b[2m116\u001b[0m\u001b]8;;\u001b\\\n"
      ]
     },
     "metadata": {},
     "output_type": "display_data"
    },
    {
     "data": {
      "text/html": [
       "<pre style=\"white-space:pre;overflow-x:auto;line-height:normal;font-family:Menlo,'DejaVu Sans Mono',consolas,'Courier New',monospace\"><span style=\"color: #7fbfbf; text-decoration-color: #7fbfbf\">                    </span><span style=\"color: #000080; text-decoration-color: #000080\">INFO    </span> Opening channel to execute command                                <a href=\"file:///home/jupyter/MyData/repos/taccjm/src/taccjm/client/TACCSSHClient.py\" target=\"_blank\"><span style=\"color: #7f7f7f; text-decoration-color: #7f7f7f\">TACCSSHClient.py</span></a><span style=\"color: #7f7f7f; text-decoration-color: #7f7f7f\">:</span><a href=\"file:///home/jupyter/MyData/repos/taccjm/src/taccjm/client/TACCSSHClient.py#271\" target=\"_blank\"><span style=\"color: #7f7f7f; text-decoration-color: #7f7f7f\">271</span></a>\n",
       "</pre>\n"
      ],
      "text/plain": [
       "\u001b[2;36m                   \u001b[0m\u001b[2;36m \u001b[0m\u001b[34mINFO    \u001b[0m Opening channel to execute command                                \u001b]8;id=231892;file:///home/jupyter/MyData/repos/taccjm/src/taccjm/client/TACCSSHClient.py\u001b\\\u001b[2mTACCSSHClient.py\u001b[0m\u001b]8;;\u001b\\\u001b[2m:\u001b[0m\u001b]8;id=757486;file:///home/jupyter/MyData/repos/taccjm/src/taccjm/client/TACCSSHClient.py#271\u001b\\\u001b[2m271\u001b[0m\u001b]8;;\u001b\\\n"
      ]
     },
     "metadata": {},
     "output_type": "display_data"
    },
    {
     "data": {
      "text/html": [
       "<pre style=\"white-space:pre;overflow-x:auto;line-height:normal;font-family:Menlo,'DejaVu Sans Mono',consolas,'Courier New',monospace\"><span style=\"color: #7fbfbf; text-decoration-color: #7fbfbf\">                    </span><span style=\"color: #000080; text-decoration-color: #000080\">INFO    </span> Submitting command                                                <a href=\"file:///home/jupyter/MyData/repos/taccjm/src/taccjm/client/TACCSSHClient.py\" target=\"_blank\"><span style=\"color: #7f7f7f; text-decoration-color: #7f7f7f\">TACCSSHClient.py</span></a><span style=\"color: #7f7f7f; text-decoration-color: #7f7f7f\">:</span><a href=\"file:///home/jupyter/MyData/repos/taccjm/src/taccjm/client/TACCSSHClient.py#282\" target=\"_blank\"><span style=\"color: #7f7f7f; text-decoration-color: #7f7f7f\">282</span></a>\n",
       "</pre>\n"
      ],
      "text/plain": [
       "\u001b[2;36m                   \u001b[0m\u001b[2;36m \u001b[0m\u001b[34mINFO    \u001b[0m Submitting command                                                \u001b]8;id=770080;file:///home/jupyter/MyData/repos/taccjm/src/taccjm/client/TACCSSHClient.py\u001b\\\u001b[2mTACCSSHClient.py\u001b[0m\u001b]8;;\u001b\\\u001b[2m:\u001b[0m\u001b]8;id=806395;file:///home/jupyter/MyData/repos/taccjm/src/taccjm/client/TACCSSHClient.py#282\u001b\\\u001b[2m282\u001b[0m\u001b]8;;\u001b\\\n"
      ]
     },
     "metadata": {},
     "output_type": "display_data"
    },
    {
     "data": {
      "text/html": [
       "<pre style=\"white-space:pre;overflow-x:auto;line-height:normal;font-family:Menlo,'DejaVu Sans Mono',consolas,'Courier New',monospace\"><span style=\"color: #7fbfbf; text-decoration-color: #7fbfbf\">                    </span><span style=\"color: #000080; text-decoration-color: #000080\">INFO    </span> Adding command to commands list                                   <a href=\"file:///home/jupyter/MyData/repos/taccjm/src/taccjm/client/TACCSSHClient.py\" target=\"_blank\"><span style=\"color: #7f7f7f; text-decoration-color: #7f7f7f\">TACCSSHClient.py</span></a><span style=\"color: #7f7f7f; text-decoration-color: #7f7f7f\">:</span><a href=\"file:///home/jupyter/MyData/repos/taccjm/src/taccjm/client/TACCSSHClient.py#302\" target=\"_blank\"><span style=\"color: #7f7f7f; text-decoration-color: #7f7f7f\">302</span></a>\n",
       "</pre>\n"
      ],
      "text/plain": [
       "\u001b[2;36m                   \u001b[0m\u001b[2;36m \u001b[0m\u001b[34mINFO    \u001b[0m Adding command to commands list                                   \u001b]8;id=589005;file:///home/jupyter/MyData/repos/taccjm/src/taccjm/client/TACCSSHClient.py\u001b\\\u001b[2mTACCSSHClient.py\u001b[0m\u001b]8;;\u001b\\\u001b[2m:\u001b[0m\u001b]8;id=474675;file:///home/jupyter/MyData/repos/taccjm/src/taccjm/client/TACCSSHClient.py#302\u001b\\\u001b[2m302\u001b[0m\u001b]8;;\u001b\\\n"
      ]
     },
     "metadata": {},
     "output_type": "display_data"
    },
    {
     "data": {
      "text/html": [
       "<pre style=\"white-space:pre;overflow-x:auto;line-height:normal;font-family:Menlo,'DejaVu Sans Mono',consolas,'Courier New',monospace\"><span style=\"color: #7fbfbf; text-decoration-color: #7fbfbf\">                    </span><span style=\"color: #000080; text-decoration-color: #000080\">INFO    </span> Waiting for command to finish                                     <a href=\"file:///home/jupyter/MyData/repos/taccjm/src/taccjm/client/TACCSSHClient.py\" target=\"_blank\"><span style=\"color: #7f7f7f; text-decoration-color: #7f7f7f\">TACCSSHClient.py</span></a><span style=\"color: #7f7f7f; text-decoration-color: #7f7f7f\">:</span><a href=\"file:///home/jupyter/MyData/repos/taccjm/src/taccjm/client/TACCSSHClient.py#306\" target=\"_blank\"><span style=\"color: #7f7f7f; text-decoration-color: #7f7f7f\">306</span></a>\n",
       "</pre>\n"
      ],
      "text/plain": [
       "\u001b[2;36m                   \u001b[0m\u001b[2;36m \u001b[0m\u001b[34mINFO    \u001b[0m Waiting for command to finish                                     \u001b]8;id=901502;file:///home/jupyter/MyData/repos/taccjm/src/taccjm/client/TACCSSHClient.py\u001b\\\u001b[2mTACCSSHClient.py\u001b[0m\u001b]8;;\u001b\\\u001b[2m:\u001b[0m\u001b]8;id=844995;file:///home/jupyter/MyData/repos/taccjm/src/taccjm/client/TACCSSHClient.py#306\u001b\\\u001b[2m306\u001b[0m\u001b]8;;\u001b\\\n"
      ]
     },
     "metadata": {},
     "output_type": "display_data"
    },
    {
     "data": {
      "text/html": [
       "<pre style=\"white-space:pre;overflow-x:auto;line-height:normal;font-family:Menlo,'DejaVu Sans Mono',consolas,'Courier New',monospace\"><span style=\"color: #7fbfbf; text-decoration-color: #7fbfbf\">[03/17/23 20:52:52] </span><span style=\"color: #000080; text-decoration-color: #000080\">INFO    </span> TACC dirs resolved to:                                            <a href=\"file:///home/jupyter/MyData/repos/taccjm/src/taccjm/client/TACCSSHClient.py\" target=\"_blank\"><span style=\"color: #7f7f7f; text-decoration-color: #7f7f7f\">TACCSSHClient.py</span></a><span style=\"color: #7f7f7f; text-decoration-color: #7f7f7f\">:</span><a href=\"file:///home/jupyter/MyData/repos/taccjm/src/taccjm/client/TACCSSHClient.py#131\" target=\"_blank\"><span style=\"color: #7f7f7f; text-decoration-color: #7f7f7f\">131</span></a>\n",
       "<span style=\"color: #7fbfbf; text-decoration-color: #7fbfbf\">                    </span>         work : <span style=\"color: #800080; text-decoration-color: #800080\">/work2/06307/clos21/</span><span style=\"color: #ff00ff; text-decoration-color: #ff00ff\">stampede2</span>                              <span style=\"color: #7f7f7f; text-decoration-color: #7f7f7f\">                    </span>\n",
       "<span style=\"color: #7fbfbf; text-decoration-color: #7fbfbf\">                    </span>         home : <span style=\"color: #800080; text-decoration-color: #800080\">/home1/06307/</span><span style=\"color: #ff00ff; text-decoration-color: #ff00ff\">clos21</span>                                        <span style=\"color: #7f7f7f; text-decoration-color: #7f7f7f\">                    </span>\n",
       "<span style=\"color: #7fbfbf; text-decoration-color: #7fbfbf\">                    </span>         scracth : <span style=\"color: #800080; text-decoration-color: #800080\">/scratch/06307/</span><span style=\"color: #ff00ff; text-decoration-color: #ff00ff\">clos21</span>                                   <span style=\"color: #7f7f7f; text-decoration-color: #7f7f7f\">                    </span>\n",
       "</pre>\n"
      ],
      "text/plain": [
       "\u001b[2;36m[03/17/23 20:52:52]\u001b[0m\u001b[2;36m \u001b[0m\u001b[34mINFO    \u001b[0m TACC dirs resolved to:                                            \u001b]8;id=357429;file:///home/jupyter/MyData/repos/taccjm/src/taccjm/client/TACCSSHClient.py\u001b\\\u001b[2mTACCSSHClient.py\u001b[0m\u001b]8;;\u001b\\\u001b[2m:\u001b[0m\u001b]8;id=924171;file:///home/jupyter/MyData/repos/taccjm/src/taccjm/client/TACCSSHClient.py#131\u001b\\\u001b[2m131\u001b[0m\u001b]8;;\u001b\\\n",
       "\u001b[2;36m                    \u001b[0m         work : \u001b[35m/work2/06307/clos21/\u001b[0m\u001b[95mstampede2\u001b[0m                              \u001b[2m                    \u001b[0m\n",
       "\u001b[2;36m                    \u001b[0m         home : \u001b[35m/home1/06307/\u001b[0m\u001b[95mclos21\u001b[0m                                        \u001b[2m                    \u001b[0m\n",
       "\u001b[2;36m                    \u001b[0m         scracth : \u001b[35m/scratch/06307/\u001b[0m\u001b[95mclos21\u001b[0m                                   \u001b[2m                    \u001b[0m\n"
      ]
     },
     "metadata": {},
     "output_type": "display_data"
    }
   ],
   "source": [
    "from taccjm.client.TACCSSHClient import TACCSSHClient\n",
    "\n",
    "tsc = TACCSSHClient(\"stampede2\", \"clos21\")"
   ]
  },
  {
   "cell_type": "markdown",
   "id": "0c8edc01-d7dd-4317-9511-8431c0a3cfb3",
   "metadata": {},
   "source": [
    "## Command Operations"
   ]
  },
  {
   "cell_type": "markdown",
   "id": "3c66849b-5367-4efb-8c93-1be9298ccf71",
   "metadata": {},
   "source": [
    "### `execute_command()`\n",
    "\n",
    "The TACCSSHClient offers the `execute_command()` function to execute arbitrary commands as if one were in an ssh session interactively. \n",
    "The commands are executed on a separately opened channel, spawned from the original paramiko transport object used to establish the main ssh connection when the class was initialized."
   ]
  },
  {
   "cell_type": "code",
   "execution_count": 3,
   "id": "5b8f716a-92a8-4f07-979f-ec59d97c2ee0",
   "metadata": {},
   "outputs": [
    {
     "data": {
      "text/html": [
       "<pre style=\"white-space:pre;overflow-x:auto;line-height:normal;font-family:Menlo,'DejaVu Sans Mono',consolas,'Courier New',monospace\"><span style=\"color: #7fbfbf; text-decoration-color: #7fbfbf\">[03/17/23 20:30:59] </span><span style=\"color: #000080; text-decoration-color: #000080\">INFO    </span> Opening channel to execute command                                <a href=\"file:///home/jupyter/MyData/repos/taccjm/src/taccjm/client/TACCSSHClient.py\" target=\"_blank\"><span style=\"color: #7f7f7f; text-decoration-color: #7f7f7f\">TACCSSHClient.py</span></a><span style=\"color: #7f7f7f; text-decoration-color: #7f7f7f\">:</span><a href=\"file:///home/jupyter/MyData/repos/taccjm/src/taccjm/client/TACCSSHClient.py#271\" target=\"_blank\"><span style=\"color: #7f7f7f; text-decoration-color: #7f7f7f\">271</span></a>\n",
       "</pre>\n"
      ],
      "text/plain": [
       "\u001b[2;36m[03/17/23 20:30:59]\u001b[0m\u001b[2;36m \u001b[0m\u001b[34mINFO    \u001b[0m Opening channel to execute command                                \u001b]8;id=77894;file:///home/jupyter/MyData/repos/taccjm/src/taccjm/client/TACCSSHClient.py\u001b\\\u001b[2mTACCSSHClient.py\u001b[0m\u001b]8;;\u001b\\\u001b[2m:\u001b[0m\u001b]8;id=261110;file:///home/jupyter/MyData/repos/taccjm/src/taccjm/client/TACCSSHClient.py#271\u001b\\\u001b[2m271\u001b[0m\u001b]8;;\u001b\\\n"
      ]
     },
     "metadata": {},
     "output_type": "display_data"
    },
    {
     "data": {
      "text/html": [
       "<pre style=\"white-space:pre;overflow-x:auto;line-height:normal;font-family:Menlo,'DejaVu Sans Mono',consolas,'Courier New',monospace\"><span style=\"color: #7fbfbf; text-decoration-color: #7fbfbf\">                    </span><span style=\"color: #000080; text-decoration-color: #000080\">INFO    </span> Submitting command                                                <a href=\"file:///home/jupyter/MyData/repos/taccjm/src/taccjm/client/TACCSSHClient.py\" target=\"_blank\"><span style=\"color: #7f7f7f; text-decoration-color: #7f7f7f\">TACCSSHClient.py</span></a><span style=\"color: #7f7f7f; text-decoration-color: #7f7f7f\">:</span><a href=\"file:///home/jupyter/MyData/repos/taccjm/src/taccjm/client/TACCSSHClient.py#282\" target=\"_blank\"><span style=\"color: #7f7f7f; text-decoration-color: #7f7f7f\">282</span></a>\n",
       "</pre>\n"
      ],
      "text/plain": [
       "\u001b[2;36m                   \u001b[0m\u001b[2;36m \u001b[0m\u001b[34mINFO    \u001b[0m Submitting command                                                \u001b]8;id=65063;file:///home/jupyter/MyData/repos/taccjm/src/taccjm/client/TACCSSHClient.py\u001b\\\u001b[2mTACCSSHClient.py\u001b[0m\u001b]8;;\u001b\\\u001b[2m:\u001b[0m\u001b]8;id=961930;file:///home/jupyter/MyData/repos/taccjm/src/taccjm/client/TACCSSHClient.py#282\u001b\\\u001b[2m282\u001b[0m\u001b]8;;\u001b\\\n"
      ]
     },
     "metadata": {},
     "output_type": "display_data"
    },
    {
     "data": {
      "text/html": [
       "<pre style=\"white-space:pre;overflow-x:auto;line-height:normal;font-family:Menlo,'DejaVu Sans Mono',consolas,'Courier New',monospace\"><span style=\"color: #7fbfbf; text-decoration-color: #7fbfbf\">                    </span><span style=\"color: #000080; text-decoration-color: #000080\">INFO    </span> Adding command to commands list                                   <a href=\"file:///home/jupyter/MyData/repos/taccjm/src/taccjm/client/TACCSSHClient.py\" target=\"_blank\"><span style=\"color: #7f7f7f; text-decoration-color: #7f7f7f\">TACCSSHClient.py</span></a><span style=\"color: #7f7f7f; text-decoration-color: #7f7f7f\">:</span><a href=\"file:///home/jupyter/MyData/repos/taccjm/src/taccjm/client/TACCSSHClient.py#302\" target=\"_blank\"><span style=\"color: #7f7f7f; text-decoration-color: #7f7f7f\">302</span></a>\n",
       "</pre>\n"
      ],
      "text/plain": [
       "\u001b[2;36m                   \u001b[0m\u001b[2;36m \u001b[0m\u001b[34mINFO    \u001b[0m Adding command to commands list                                   \u001b]8;id=878395;file:///home/jupyter/MyData/repos/taccjm/src/taccjm/client/TACCSSHClient.py\u001b\\\u001b[2mTACCSSHClient.py\u001b[0m\u001b]8;;\u001b\\\u001b[2m:\u001b[0m\u001b]8;id=185987;file:///home/jupyter/MyData/repos/taccjm/src/taccjm/client/TACCSSHClient.py#302\u001b\\\u001b[2m302\u001b[0m\u001b]8;;\u001b\\\n"
      ]
     },
     "metadata": {},
     "output_type": "display_data"
    },
    {
     "data": {
      "text/html": [
       "<pre style=\"white-space:pre;overflow-x:auto;line-height:normal;font-family:Menlo,'DejaVu Sans Mono',consolas,'Courier New',monospace\"><span style=\"color: #7fbfbf; text-decoration-color: #7fbfbf\">                    </span><span style=\"color: #000080; text-decoration-color: #000080\">INFO    </span> Waiting for command to finish                                     <a href=\"file:///home/jupyter/MyData/repos/taccjm/src/taccjm/client/TACCSSHClient.py\" target=\"_blank\"><span style=\"color: #7f7f7f; text-decoration-color: #7f7f7f\">TACCSSHClient.py</span></a><span style=\"color: #7f7f7f; text-decoration-color: #7f7f7f\">:</span><a href=\"file:///home/jupyter/MyData/repos/taccjm/src/taccjm/client/TACCSSHClient.py#306\" target=\"_blank\"><span style=\"color: #7f7f7f; text-decoration-color: #7f7f7f\">306</span></a>\n",
       "</pre>\n"
      ],
      "text/plain": [
       "\u001b[2;36m                   \u001b[0m\u001b[2;36m \u001b[0m\u001b[34mINFO    \u001b[0m Waiting for command to finish                                     \u001b]8;id=126932;file:///home/jupyter/MyData/repos/taccjm/src/taccjm/client/TACCSSHClient.py\u001b\\\u001b[2mTACCSSHClient.py\u001b[0m\u001b]8;;\u001b\\\u001b[2m:\u001b[0m\u001b]8;id=617454;file:///home/jupyter/MyData/repos/taccjm/src/taccjm/client/TACCSSHClient.py#306\u001b\\\u001b[2m306\u001b[0m\u001b]8;;\u001b\\\n"
      ]
     },
     "metadata": {},
     "output_type": "display_data"
    },
    {
     "name": "stdout",
     "output_type": "stream",
     "text": [
      "Using system default configuration file \n",
      "\n",
      "SUMMARY OF JOBS FOR USER: <clos21>\n",
      "\n",
      "ACTIVE JOBS--------------------\n",
      "JOBID     JOBNAME    USERNAME      STATE   NODES REMAINING STARTTIME\n",
      "================================================================================\n",
      "\n",
      "WAITING JOBS------------------------\n",
      "JOBID     JOBNAME    USERNAME      STATE   NODES WCLIMIT   QUEUETIME\n",
      "================================================================================\n",
      "\n",
      "Total Jobs: 0     Active Jobs: 0     Idle Jobs: 0     Blocked Jobs: 0   \n",
      "\n"
     ]
    }
   ],
   "source": [
    "print(tsc.execute_command(\"showq -u clos21\")[\"stdout\"])"
   ]
  },
  {
   "cell_type": "markdown",
   "id": "fa0f1adf-4748-42f7-8dbd-d17c6d0edd65",
   "metadata": {},
   "source": [
    "### Command Errors\n",
    "\n",
    "If the command fails, an error will be thrown:"
   ]
  },
  {
   "cell_type": "code",
   "execution_count": 4,
   "id": "572108de-a5c0-4985-982d-223cdd1d5faf",
   "metadata": {},
   "outputs": [
    {
     "data": {
      "text/html": [
       "<pre style=\"white-space:pre;overflow-x:auto;line-height:normal;font-family:Menlo,'DejaVu Sans Mono',consolas,'Courier New',monospace\"><span style=\"color: #7fbfbf; text-decoration-color: #7fbfbf\">[03/17/23 20:31:04] </span><span style=\"color: #000080; text-decoration-color: #000080\">INFO    </span> Opening channel to execute command                                <a href=\"file:///home/jupyter/MyData/repos/taccjm/src/taccjm/client/TACCSSHClient.py\" target=\"_blank\"><span style=\"color: #7f7f7f; text-decoration-color: #7f7f7f\">TACCSSHClient.py</span></a><span style=\"color: #7f7f7f; text-decoration-color: #7f7f7f\">:</span><a href=\"file:///home/jupyter/MyData/repos/taccjm/src/taccjm/client/TACCSSHClient.py#271\" target=\"_blank\"><span style=\"color: #7f7f7f; text-decoration-color: #7f7f7f\">271</span></a>\n",
       "</pre>\n"
      ],
      "text/plain": [
       "\u001b[2;36m[03/17/23 20:31:04]\u001b[0m\u001b[2;36m \u001b[0m\u001b[34mINFO    \u001b[0m Opening channel to execute command                                \u001b]8;id=311176;file:///home/jupyter/MyData/repos/taccjm/src/taccjm/client/TACCSSHClient.py\u001b\\\u001b[2mTACCSSHClient.py\u001b[0m\u001b]8;;\u001b\\\u001b[2m:\u001b[0m\u001b]8;id=496053;file:///home/jupyter/MyData/repos/taccjm/src/taccjm/client/TACCSSHClient.py#271\u001b\\\u001b[2m271\u001b[0m\u001b]8;;\u001b\\\n"
      ]
     },
     "metadata": {},
     "output_type": "display_data"
    },
    {
     "data": {
      "text/html": [
       "<pre style=\"white-space:pre;overflow-x:auto;line-height:normal;font-family:Menlo,'DejaVu Sans Mono',consolas,'Courier New',monospace\"><span style=\"color: #7fbfbf; text-decoration-color: #7fbfbf\">                    </span><span style=\"color: #000080; text-decoration-color: #000080\">INFO    </span> Submitting command                                                <a href=\"file:///home/jupyter/MyData/repos/taccjm/src/taccjm/client/TACCSSHClient.py\" target=\"_blank\"><span style=\"color: #7f7f7f; text-decoration-color: #7f7f7f\">TACCSSHClient.py</span></a><span style=\"color: #7f7f7f; text-decoration-color: #7f7f7f\">:</span><a href=\"file:///home/jupyter/MyData/repos/taccjm/src/taccjm/client/TACCSSHClient.py#282\" target=\"_blank\"><span style=\"color: #7f7f7f; text-decoration-color: #7f7f7f\">282</span></a>\n",
       "</pre>\n"
      ],
      "text/plain": [
       "\u001b[2;36m                   \u001b[0m\u001b[2;36m \u001b[0m\u001b[34mINFO    \u001b[0m Submitting command                                                \u001b]8;id=935829;file:///home/jupyter/MyData/repos/taccjm/src/taccjm/client/TACCSSHClient.py\u001b\\\u001b[2mTACCSSHClient.py\u001b[0m\u001b]8;;\u001b\\\u001b[2m:\u001b[0m\u001b]8;id=675665;file:///home/jupyter/MyData/repos/taccjm/src/taccjm/client/TACCSSHClient.py#282\u001b\\\u001b[2m282\u001b[0m\u001b]8;;\u001b\\\n"
      ]
     },
     "metadata": {},
     "output_type": "display_data"
    },
    {
     "data": {
      "text/html": [
       "<pre style=\"white-space:pre;overflow-x:auto;line-height:normal;font-family:Menlo,'DejaVu Sans Mono',consolas,'Courier New',monospace\"><span style=\"color: #7fbfbf; text-decoration-color: #7fbfbf\">                    </span><span style=\"color: #000080; text-decoration-color: #000080\">INFO    </span> Adding command to commands list                                   <a href=\"file:///home/jupyter/MyData/repos/taccjm/src/taccjm/client/TACCSSHClient.py\" target=\"_blank\"><span style=\"color: #7f7f7f; text-decoration-color: #7f7f7f\">TACCSSHClient.py</span></a><span style=\"color: #7f7f7f; text-decoration-color: #7f7f7f\">:</span><a href=\"file:///home/jupyter/MyData/repos/taccjm/src/taccjm/client/TACCSSHClient.py#302\" target=\"_blank\"><span style=\"color: #7f7f7f; text-decoration-color: #7f7f7f\">302</span></a>\n",
       "</pre>\n"
      ],
      "text/plain": [
       "\u001b[2;36m                   \u001b[0m\u001b[2;36m \u001b[0m\u001b[34mINFO    \u001b[0m Adding command to commands list                                   \u001b]8;id=14336;file:///home/jupyter/MyData/repos/taccjm/src/taccjm/client/TACCSSHClient.py\u001b\\\u001b[2mTACCSSHClient.py\u001b[0m\u001b]8;;\u001b\\\u001b[2m:\u001b[0m\u001b]8;id=185769;file:///home/jupyter/MyData/repos/taccjm/src/taccjm/client/TACCSSHClient.py#302\u001b\\\u001b[2m302\u001b[0m\u001b]8;;\u001b\\\n"
      ]
     },
     "metadata": {},
     "output_type": "display_data"
    },
    {
     "data": {
      "text/html": [
       "<pre style=\"white-space:pre;overflow-x:auto;line-height:normal;font-family:Menlo,'DejaVu Sans Mono',consolas,'Courier New',monospace\"><span style=\"color: #7fbfbf; text-decoration-color: #7fbfbf\">                    </span><span style=\"color: #000080; text-decoration-color: #000080\">INFO    </span> Waiting for command to finish                                     <a href=\"file:///home/jupyter/MyData/repos/taccjm/src/taccjm/client/TACCSSHClient.py\" target=\"_blank\"><span style=\"color: #7f7f7f; text-decoration-color: #7f7f7f\">TACCSSHClient.py</span></a><span style=\"color: #7f7f7f; text-decoration-color: #7f7f7f\">:</span><a href=\"file:///home/jupyter/MyData/repos/taccjm/src/taccjm/client/TACCSSHClient.py#306\" target=\"_blank\"><span style=\"color: #7f7f7f; text-decoration-color: #7f7f7f\">306</span></a>\n",
       "</pre>\n"
      ],
      "text/plain": [
       "\u001b[2;36m                   \u001b[0m\u001b[2;36m \u001b[0m\u001b[34mINFO    \u001b[0m Waiting for command to finish                                     \u001b]8;id=481315;file:///home/jupyter/MyData/repos/taccjm/src/taccjm/client/TACCSSHClient.py\u001b\\\u001b[2mTACCSSHClient.py\u001b[0m\u001b]8;;\u001b\\\u001b[2m:\u001b[0m\u001b]8;id=457879;file:///home/jupyter/MyData/repos/taccjm/src/taccjm/client/TACCSSHClient.py#306\u001b\\\u001b[2m306\u001b[0m\u001b]8;;\u001b\\\n"
      ]
     },
     "metadata": {},
     "output_type": "display_data"
    },
    {
     "data": {
      "text/html": [
       "<pre style=\"white-space:pre;overflow-x:auto;line-height:normal;font-family:Menlo,'DejaVu Sans Mono',consolas,'Courier New',monospace\"><span style=\"color: #800000; text-decoration-color: #800000\">╭─────────────────────────────── </span><span style=\"color: #800000; text-decoration-color: #800000; font-weight: bold\">Traceback </span><span style=\"color: #bf7f7f; text-decoration-color: #bf7f7f; font-weight: bold\">(most recent call last)</span><span style=\"color: #800000; text-decoration-color: #800000\"> ────────────────────────────────╮</span>\n",
       "<span style=\"color: #800000; text-decoration-color: #800000\">│</span> <span style=\"color: #bfbf7f; text-decoration-color: #bfbf7f\">/tmp/ipykernel_2586219/</span><span style=\"color: #808000; text-decoration-color: #808000; font-weight: bold\">1055021495.py</span>:<span style=\"color: #0000ff; text-decoration-color: #0000ff\">1</span> in <span style=\"color: #00ff00; text-decoration-color: #00ff00\">&lt;module&gt;</span>                                               <span style=\"color: #800000; text-decoration-color: #800000\">│</span>\n",
       "<span style=\"color: #800000; text-decoration-color: #800000\">│</span>                                                                                                  <span style=\"color: #800000; text-decoration-color: #800000\">│</span>\n",
       "<span style=\"color: #800000; text-decoration-color: #800000\">│</span> <span style=\"color: #800000; text-decoration-color: #800000; font-style: italic\">[Errno 2] No such file or directory: '/tmp/ipykernel_2586219/1055021495.py'</span>                      <span style=\"color: #800000; text-decoration-color: #800000\">│</span>\n",
       "<span style=\"color: #800000; text-decoration-color: #800000\">│</span>                                                                                                  <span style=\"color: #800000; text-decoration-color: #800000\">│</span>\n",
       "<span style=\"color: #800000; text-decoration-color: #800000\">│</span> <span style=\"color: #bfbf7f; text-decoration-color: #bfbf7f\">/home/jupyter/MyData/repos/taccjm/src/taccjm/client/</span><span style=\"color: #808000; text-decoration-color: #808000; font-weight: bold\">TACCSSHClient.py</span>:<span style=\"color: #0000ff; text-decoration-color: #0000ff\">307</span> in <span style=\"color: #00ff00; text-decoration-color: #00ff00\">execute_command</span>      <span style=\"color: #800000; text-decoration-color: #800000\">│</span>\n",
       "<span style=\"color: #800000; text-decoration-color: #800000\">│</span>                                                                                                  <span style=\"color: #800000; text-decoration-color: #800000\">│</span>\n",
       "<span style=\"color: #800000; text-decoration-color: #800000\">│</span>   <span style=\"color: #7f7f7f; text-decoration-color: #7f7f7f\">304 │   │   </span>                                                                                   <span style=\"color: #800000; text-decoration-color: #800000\">│</span>\n",
       "<span style=\"color: #800000; text-decoration-color: #800000\">│</span>   <span style=\"color: #7f7f7f; text-decoration-color: #7f7f7f\">305 │   │   </span><span style=\"color: #0000ff; text-decoration-color: #0000ff\">if</span> wait:                                                                           <span style=\"color: #800000; text-decoration-color: #800000\">│</span>\n",
       "<span style=\"color: #800000; text-decoration-color: #800000\">│</span>   <span style=\"color: #7f7f7f; text-decoration-color: #7f7f7f\">306 │   │   │   </span><span style=\"color: #00ffff; text-decoration-color: #00ffff\">self</span>.log.info(<span style=\"color: #808000; text-decoration-color: #808000\">\"Waiting for command to finish\"</span>)                                 <span style=\"color: #800000; text-decoration-color: #800000\">│</span>\n",
       "<span style=\"color: #800000; text-decoration-color: #800000\">│</span> <span style=\"color: #800000; text-decoration-color: #800000\">❱ </span>307 <span style=\"color: #7f7f7f; text-decoration-color: #7f7f7f\">│   │   │   </span><span style=\"color: #0000ff; text-decoration-color: #0000ff\">return</span> <span style=\"color: #00ffff; text-decoration-color: #00ffff\">self</span>.process_command(command_id, wait=<span style=\"color: #0000ff; text-decoration-color: #0000ff\">True</span>, error=fail)                 <span style=\"color: #800000; text-decoration-color: #800000\">│</span>\n",
       "<span style=\"color: #800000; text-decoration-color: #800000\">│</span>   <span style=\"color: #7f7f7f; text-decoration-color: #7f7f7f\">308 │   │   </span><span style=\"color: #0000ff; text-decoration-color: #0000ff\">else</span>:                                                                              <span style=\"color: #800000; text-decoration-color: #800000\">│</span>\n",
       "<span style=\"color: #800000; text-decoration-color: #800000\">│</span>   <span style=\"color: #7f7f7f; text-decoration-color: #7f7f7f\">309 │   │   │   </span><span style=\"color: #0000ff; text-decoration-color: #0000ff\">return</span> command_config                                                          <span style=\"color: #800000; text-decoration-color: #800000\">│</span>\n",
       "<span style=\"color: #800000; text-decoration-color: #800000\">│</span>   <span style=\"color: #7f7f7f; text-decoration-color: #7f7f7f\">310 </span>                                                                                           <span style=\"color: #800000; text-decoration-color: #800000\">│</span>\n",
       "<span style=\"color: #800000; text-decoration-color: #800000\">│</span>                                                                                                  <span style=\"color: #800000; text-decoration-color: #800000\">│</span>\n",
       "<span style=\"color: #800000; text-decoration-color: #800000\">│</span> <span style=\"color: #bfbf7f; text-decoration-color: #bfbf7f\">/home/jupyter/MyData/repos/taccjm/src/taccjm/client/</span><span style=\"color: #808000; text-decoration-color: #808000; font-weight: bold\">TACCSSHClient.py</span>:<span style=\"color: #0000ff; text-decoration-color: #0000ff\">365</span> in <span style=\"color: #00ff00; text-decoration-color: #00ff00\">process_command</span>      <span style=\"color: #800000; text-decoration-color: #800000\">│</span>\n",
       "<span style=\"color: #800000; text-decoration-color: #800000\">│</span>                                                                                                  <span style=\"color: #800000; text-decoration-color: #800000\">│</span>\n",
       "<span style=\"color: #800000; text-decoration-color: #800000\">│</span>   <span style=\"color: #7f7f7f; text-decoration-color: #7f7f7f\">362 │   │   │   │   </span>command_config[<span style=\"color: #808000; text-decoration-color: #808000\">\"status\"</span>] = <span style=\"color: #808000; text-decoration-color: #808000\">\"FAILED\"</span>                                        <span style=\"color: #800000; text-decoration-color: #800000\">│</span>\n",
       "<span style=\"color: #800000; text-decoration-color: #800000\">│</span>   <span style=\"color: #7f7f7f; text-decoration-color: #7f7f7f\">363 │   │   │   │   </span><span style=\"color: #00ffff; text-decoration-color: #00ffff\">self</span>.commands[command_id - <span style=\"color: #0000ff; text-decoration-color: #0000ff\">1</span>] = command_config                             <span style=\"color: #800000; text-decoration-color: #800000\">│</span>\n",
       "<span style=\"color: #800000; text-decoration-color: #800000\">│</span>   <span style=\"color: #7f7f7f; text-decoration-color: #7f7f7f\">364 │   │   │   │   </span><span style=\"color: #0000ff; text-decoration-color: #0000ff\">if</span> error <span style=\"color: #ff00ff; text-decoration-color: #ff00ff\">and</span> command_config[<span style=\"color: #808000; text-decoration-color: #808000\">\"fail\"</span>]:                                       <span style=\"color: #800000; text-decoration-color: #800000\">│</span>\n",
       "<span style=\"color: #800000; text-decoration-color: #800000\">│</span> <span style=\"color: #800000; text-decoration-color: #800000\">❱ </span>365 <span style=\"color: #7f7f7f; text-decoration-color: #7f7f7f\">│   │   │   │   │   </span><span style=\"color: #0000ff; text-decoration-color: #0000ff\">raise</span> SSHCommandError(<span style=\"color: #00ffff; text-decoration-color: #00ffff\">self</span>.system,                                     <span style=\"color: #800000; text-decoration-color: #800000\">│</span>\n",
       "<span style=\"color: #800000; text-decoration-color: #800000\">│</span>   <span style=\"color: #7f7f7f; text-decoration-color: #7f7f7f\">366 │   │   │   │   │   │   │   │   │   │     </span><span style=\"color: #00ffff; text-decoration-color: #00ffff\">self</span>.user, command_config)                       <span style=\"color: #800000; text-decoration-color: #800000\">│</span>\n",
       "<span style=\"color: #800000; text-decoration-color: #800000\">│</span>   <span style=\"color: #7f7f7f; text-decoration-color: #7f7f7f\">367 │   │   │   </span><span style=\"color: #0000ff; text-decoration-color: #0000ff\">else</span>:                                                                          <span style=\"color: #800000; text-decoration-color: #800000\">│</span>\n",
       "<span style=\"color: #800000; text-decoration-color: #800000\">│</span>   <span style=\"color: #7f7f7f; text-decoration-color: #7f7f7f\">368 │   │   │   │   </span>command_config[<span style=\"color: #808000; text-decoration-color: #808000\">\"status\"</span>] = <span style=\"color: #808000; text-decoration-color: #808000\">\"COMPLETE\"</span>                                      <span style=\"color: #800000; text-decoration-color: #800000\">│</span>\n",
       "<span style=\"color: #800000; text-decoration-color: #800000\">╰──────────────────────────────────────────────────────────────────────────────────────────────────╯</span>\n",
       "<span style=\"color: #ff0000; text-decoration-color: #ff0000; font-weight: bold\">SSHCommandError: </span>Non-zero return code.\n",
       "clos21@stampede2.tacc.utexas.edu$ showr\n",
       "rc     : <span style=\"color: #008080; text-decoration-color: #008080; font-weight: bold\">127</span>\n",
       "stdout : \n",
       "stderr : bash: showr: command not found\n",
       "\n",
       "</pre>\n"
      ],
      "text/plain": [
       "\u001b[31m╭─\u001b[0m\u001b[31m──────────────────────────────\u001b[0m\u001b[31m \u001b[0m\u001b[1;31mTraceback \u001b[0m\u001b[1;2;31m(most recent call last)\u001b[0m\u001b[31m \u001b[0m\u001b[31m───────────────────────────────\u001b[0m\u001b[31m─╮\u001b[0m\n",
       "\u001b[31m│\u001b[0m \u001b[2;33m/tmp/ipykernel_2586219/\u001b[0m\u001b[1;33m1055021495.py\u001b[0m:\u001b[94m1\u001b[0m in \u001b[92m<module>\u001b[0m                                               \u001b[31m│\u001b[0m\n",
       "\u001b[31m│\u001b[0m                                                                                                  \u001b[31m│\u001b[0m\n",
       "\u001b[31m│\u001b[0m \u001b[3;31m[Errno 2] No such file or directory: '/tmp/ipykernel_2586219/1055021495.py'\u001b[0m                      \u001b[31m│\u001b[0m\n",
       "\u001b[31m│\u001b[0m                                                                                                  \u001b[31m│\u001b[0m\n",
       "\u001b[31m│\u001b[0m \u001b[2;33m/home/jupyter/MyData/repos/taccjm/src/taccjm/client/\u001b[0m\u001b[1;33mTACCSSHClient.py\u001b[0m:\u001b[94m307\u001b[0m in \u001b[92mexecute_command\u001b[0m      \u001b[31m│\u001b[0m\n",
       "\u001b[31m│\u001b[0m                                                                                                  \u001b[31m│\u001b[0m\n",
       "\u001b[31m│\u001b[0m   \u001b[2m304 \u001b[0m\u001b[2m│   │   \u001b[0m                                                                                   \u001b[31m│\u001b[0m\n",
       "\u001b[31m│\u001b[0m   \u001b[2m305 \u001b[0m\u001b[2m│   │   \u001b[0m\u001b[94mif\u001b[0m wait:                                                                           \u001b[31m│\u001b[0m\n",
       "\u001b[31m│\u001b[0m   \u001b[2m306 \u001b[0m\u001b[2m│   │   │   \u001b[0m\u001b[96mself\u001b[0m.log.info(\u001b[33m\"\u001b[0m\u001b[33mWaiting for command to finish\u001b[0m\u001b[33m\"\u001b[0m)                                 \u001b[31m│\u001b[0m\n",
       "\u001b[31m│\u001b[0m \u001b[31m❱ \u001b[0m307 \u001b[2m│   │   │   \u001b[0m\u001b[94mreturn\u001b[0m \u001b[96mself\u001b[0m.process_command(command_id, wait=\u001b[94mTrue\u001b[0m, error=fail)                 \u001b[31m│\u001b[0m\n",
       "\u001b[31m│\u001b[0m   \u001b[2m308 \u001b[0m\u001b[2m│   │   \u001b[0m\u001b[94melse\u001b[0m:                                                                              \u001b[31m│\u001b[0m\n",
       "\u001b[31m│\u001b[0m   \u001b[2m309 \u001b[0m\u001b[2m│   │   │   \u001b[0m\u001b[94mreturn\u001b[0m command_config                                                          \u001b[31m│\u001b[0m\n",
       "\u001b[31m│\u001b[0m   \u001b[2m310 \u001b[0m                                                                                           \u001b[31m│\u001b[0m\n",
       "\u001b[31m│\u001b[0m                                                                                                  \u001b[31m│\u001b[0m\n",
       "\u001b[31m│\u001b[0m \u001b[2;33m/home/jupyter/MyData/repos/taccjm/src/taccjm/client/\u001b[0m\u001b[1;33mTACCSSHClient.py\u001b[0m:\u001b[94m365\u001b[0m in \u001b[92mprocess_command\u001b[0m      \u001b[31m│\u001b[0m\n",
       "\u001b[31m│\u001b[0m                                                                                                  \u001b[31m│\u001b[0m\n",
       "\u001b[31m│\u001b[0m   \u001b[2m362 \u001b[0m\u001b[2m│   │   │   │   \u001b[0mcommand_config[\u001b[33m\"\u001b[0m\u001b[33mstatus\u001b[0m\u001b[33m\"\u001b[0m] = \u001b[33m\"\u001b[0m\u001b[33mFAILED\u001b[0m\u001b[33m\"\u001b[0m                                        \u001b[31m│\u001b[0m\n",
       "\u001b[31m│\u001b[0m   \u001b[2m363 \u001b[0m\u001b[2m│   │   │   │   \u001b[0m\u001b[96mself\u001b[0m.commands[command_id - \u001b[94m1\u001b[0m] = command_config                             \u001b[31m│\u001b[0m\n",
       "\u001b[31m│\u001b[0m   \u001b[2m364 \u001b[0m\u001b[2m│   │   │   │   \u001b[0m\u001b[94mif\u001b[0m error \u001b[95mand\u001b[0m command_config[\u001b[33m\"\u001b[0m\u001b[33mfail\u001b[0m\u001b[33m\"\u001b[0m]:                                       \u001b[31m│\u001b[0m\n",
       "\u001b[31m│\u001b[0m \u001b[31m❱ \u001b[0m365 \u001b[2m│   │   │   │   │   \u001b[0m\u001b[94mraise\u001b[0m SSHCommandError(\u001b[96mself\u001b[0m.system,                                     \u001b[31m│\u001b[0m\n",
       "\u001b[31m│\u001b[0m   \u001b[2m366 \u001b[0m\u001b[2m│   │   │   │   │   │   │   │   │   │     \u001b[0m\u001b[96mself\u001b[0m.user, command_config)                       \u001b[31m│\u001b[0m\n",
       "\u001b[31m│\u001b[0m   \u001b[2m367 \u001b[0m\u001b[2m│   │   │   \u001b[0m\u001b[94melse\u001b[0m:                                                                          \u001b[31m│\u001b[0m\n",
       "\u001b[31m│\u001b[0m   \u001b[2m368 \u001b[0m\u001b[2m│   │   │   │   \u001b[0mcommand_config[\u001b[33m\"\u001b[0m\u001b[33mstatus\u001b[0m\u001b[33m\"\u001b[0m] = \u001b[33m\"\u001b[0m\u001b[33mCOMPLETE\u001b[0m\u001b[33m\"\u001b[0m                                      \u001b[31m│\u001b[0m\n",
       "\u001b[31m╰──────────────────────────────────────────────────────────────────────────────────────────────────╯\u001b[0m\n",
       "\u001b[1;91mSSHCommandError: \u001b[0mNon-zero return code.\n",
       "clos21@stampede2.tacc.utexas.edu$ showr\n",
       "rc     : \u001b[1;36m127\u001b[0m\n",
       "stdout : \n",
       "stderr : bash: showr: command not found\n",
       "\n"
      ]
     },
     "metadata": {},
     "output_type": "display_data"
    }
   ],
   "source": [
    "tsc.execute_command(\"showr\")"
   ]
  },
  {
   "cell_type": "markdown",
   "id": "501fe44b-0c6e-4d37-b2fd-e3009590bd9f",
   "metadata": {
    "tags": []
   },
   "source": [
    "As we can see, we get a good error clearly indicating:\n",
    "\n",
    "- system on which command was run (Lonestar6)\n",
    "- User running command (clos21)\n",
    "- Command being run, after the \"$\" sign, (showr)\n",
    "- The return code (127), stdout, and stderr\n",
    "\n",
    "So we can clearly see here that the command failed because `showr` is not a valid command. We probably meant `showq`"
   ]
  },
  {
   "cell_type": "markdown",
   "id": "084cae81-1a52-468e-b8df-e1a28a8fa52f",
   "metadata": {},
   "source": [
    "We can also supress the error by setting `fail=False`.\n",
    "This allows use to check the error code/error message and handle it as necessary."
   ]
  },
  {
   "cell_type": "code",
   "execution_count": 5,
   "id": "4a6b018d-cb30-4ade-8676-ec32f89eab47",
   "metadata": {},
   "outputs": [
    {
     "data": {
      "text/html": [
       "<pre style=\"white-space:pre;overflow-x:auto;line-height:normal;font-family:Menlo,'DejaVu Sans Mono',consolas,'Courier New',monospace\"><span style=\"color: #7fbfbf; text-decoration-color: #7fbfbf\">[03/17/23 20:31:56] </span><span style=\"color: #000080; text-decoration-color: #000080\">INFO    </span> Opening channel to execute command                                <a href=\"file:///home/jupyter/MyData/repos/taccjm/src/taccjm/client/TACCSSHClient.py\" target=\"_blank\"><span style=\"color: #7f7f7f; text-decoration-color: #7f7f7f\">TACCSSHClient.py</span></a><span style=\"color: #7f7f7f; text-decoration-color: #7f7f7f\">:</span><a href=\"file:///home/jupyter/MyData/repos/taccjm/src/taccjm/client/TACCSSHClient.py#271\" target=\"_blank\"><span style=\"color: #7f7f7f; text-decoration-color: #7f7f7f\">271</span></a>\n",
       "</pre>\n"
      ],
      "text/plain": [
       "\u001b[2;36m[03/17/23 20:31:56]\u001b[0m\u001b[2;36m \u001b[0m\u001b[34mINFO    \u001b[0m Opening channel to execute command                                \u001b]8;id=807800;file:///home/jupyter/MyData/repos/taccjm/src/taccjm/client/TACCSSHClient.py\u001b\\\u001b[2mTACCSSHClient.py\u001b[0m\u001b]8;;\u001b\\\u001b[2m:\u001b[0m\u001b]8;id=832144;file:///home/jupyter/MyData/repos/taccjm/src/taccjm/client/TACCSSHClient.py#271\u001b\\\u001b[2m271\u001b[0m\u001b]8;;\u001b\\\n"
      ]
     },
     "metadata": {},
     "output_type": "display_data"
    },
    {
     "data": {
      "text/html": [
       "<pre style=\"white-space:pre;overflow-x:auto;line-height:normal;font-family:Menlo,'DejaVu Sans Mono',consolas,'Courier New',monospace\"><span style=\"color: #7fbfbf; text-decoration-color: #7fbfbf\">                    </span><span style=\"color: #000080; text-decoration-color: #000080\">INFO    </span> Submitting command                                                <a href=\"file:///home/jupyter/MyData/repos/taccjm/src/taccjm/client/TACCSSHClient.py\" target=\"_blank\"><span style=\"color: #7f7f7f; text-decoration-color: #7f7f7f\">TACCSSHClient.py</span></a><span style=\"color: #7f7f7f; text-decoration-color: #7f7f7f\">:</span><a href=\"file:///home/jupyter/MyData/repos/taccjm/src/taccjm/client/TACCSSHClient.py#282\" target=\"_blank\"><span style=\"color: #7f7f7f; text-decoration-color: #7f7f7f\">282</span></a>\n",
       "</pre>\n"
      ],
      "text/plain": [
       "\u001b[2;36m                   \u001b[0m\u001b[2;36m \u001b[0m\u001b[34mINFO    \u001b[0m Submitting command                                                \u001b]8;id=782031;file:///home/jupyter/MyData/repos/taccjm/src/taccjm/client/TACCSSHClient.py\u001b\\\u001b[2mTACCSSHClient.py\u001b[0m\u001b]8;;\u001b\\\u001b[2m:\u001b[0m\u001b]8;id=123149;file:///home/jupyter/MyData/repos/taccjm/src/taccjm/client/TACCSSHClient.py#282\u001b\\\u001b[2m282\u001b[0m\u001b]8;;\u001b\\\n"
      ]
     },
     "metadata": {},
     "output_type": "display_data"
    },
    {
     "data": {
      "text/html": [
       "<pre style=\"white-space:pre;overflow-x:auto;line-height:normal;font-family:Menlo,'DejaVu Sans Mono',consolas,'Courier New',monospace\"><span style=\"color: #7fbfbf; text-decoration-color: #7fbfbf\">                    </span><span style=\"color: #000080; text-decoration-color: #000080\">INFO    </span> Adding command to commands list                                   <a href=\"file:///home/jupyter/MyData/repos/taccjm/src/taccjm/client/TACCSSHClient.py\" target=\"_blank\"><span style=\"color: #7f7f7f; text-decoration-color: #7f7f7f\">TACCSSHClient.py</span></a><span style=\"color: #7f7f7f; text-decoration-color: #7f7f7f\">:</span><a href=\"file:///home/jupyter/MyData/repos/taccjm/src/taccjm/client/TACCSSHClient.py#302\" target=\"_blank\"><span style=\"color: #7f7f7f; text-decoration-color: #7f7f7f\">302</span></a>\n",
       "</pre>\n"
      ],
      "text/plain": [
       "\u001b[2;36m                   \u001b[0m\u001b[2;36m \u001b[0m\u001b[34mINFO    \u001b[0m Adding command to commands list                                   \u001b]8;id=782999;file:///home/jupyter/MyData/repos/taccjm/src/taccjm/client/TACCSSHClient.py\u001b\\\u001b[2mTACCSSHClient.py\u001b[0m\u001b]8;;\u001b\\\u001b[2m:\u001b[0m\u001b]8;id=568873;file:///home/jupyter/MyData/repos/taccjm/src/taccjm/client/TACCSSHClient.py#302\u001b\\\u001b[2m302\u001b[0m\u001b]8;;\u001b\\\n"
      ]
     },
     "metadata": {},
     "output_type": "display_data"
    },
    {
     "data": {
      "text/html": [
       "<pre style=\"white-space:pre;overflow-x:auto;line-height:normal;font-family:Menlo,'DejaVu Sans Mono',consolas,'Courier New',monospace\"><span style=\"color: #7fbfbf; text-decoration-color: #7fbfbf\">                    </span><span style=\"color: #000080; text-decoration-color: #000080\">INFO    </span> Waiting for command to finish                                     <a href=\"file:///home/jupyter/MyData/repos/taccjm/src/taccjm/client/TACCSSHClient.py\" target=\"_blank\"><span style=\"color: #7f7f7f; text-decoration-color: #7f7f7f\">TACCSSHClient.py</span></a><span style=\"color: #7f7f7f; text-decoration-color: #7f7f7f\">:</span><a href=\"file:///home/jupyter/MyData/repos/taccjm/src/taccjm/client/TACCSSHClient.py#306\" target=\"_blank\"><span style=\"color: #7f7f7f; text-decoration-color: #7f7f7f\">306</span></a>\n",
       "</pre>\n"
      ],
      "text/plain": [
       "\u001b[2;36m                   \u001b[0m\u001b[2;36m \u001b[0m\u001b[34mINFO    \u001b[0m Waiting for command to finish                                     \u001b]8;id=889850;file:///home/jupyter/MyData/repos/taccjm/src/taccjm/client/TACCSSHClient.py\u001b\\\u001b[2mTACCSSHClient.py\u001b[0m\u001b]8;;\u001b\\\u001b[2m:\u001b[0m\u001b]8;id=816952;file:///home/jupyter/MyData/repos/taccjm/src/taccjm/client/TACCSSHClient.py#306\u001b\\\u001b[2m306\u001b[0m\u001b]8;;\u001b\\\n"
      ]
     },
     "metadata": {},
     "output_type": "display_data"
    },
    {
     "data": {
      "text/plain": [
       "{'id': 4,\n",
       " 'key': 'SYSTEM',\n",
       " 'cmd': 'showr',\n",
       " 'ts': datetime.datetime(2023, 3, 17, 20, 31, 58, 383578),\n",
       " 'status': 'FAILED',\n",
       " 'stdout': '',\n",
       " 'stderr': 'bash: showr: command not found\\n',\n",
       " 'history': [{'ts': datetime.datetime(2023, 3, 17, 20, 31, 56, 732121),\n",
       "   'status': 'STARTED'}],\n",
       " 'rt': 1,\n",
       " 'fail': False,\n",
       " 'rc': 127}"
      ]
     },
     "execution_count": 5,
     "metadata": {},
     "output_type": "execute_result"
    }
   ],
   "source": [
    "tsc.execute_command(\"showr\", fail=False)"
   ]
  },
  {
   "cell_type": "markdown",
   "id": "95305744-a7bf-4b7a-8e61-4db137416915",
   "metadata": {},
   "source": [
    "### `process_command()` - Asynchronous commands\n",
    "\n",
    "Commands can also be run in the background, for example if performing a long copy or monitoring some job. \n",
    "This is done by set the `wait=False` parameter, and then using the `process_command()` method to check on the status of the command using the command's ID."
   ]
  },
  {
   "cell_type": "code",
   "execution_count": 6,
   "id": "1b152d6a-9f39-4cf9-8f98-cdec8ee02c5c",
   "metadata": {},
   "outputs": [
    {
     "data": {
      "text/html": [
       "<pre style=\"white-space:pre;overflow-x:auto;line-height:normal;font-family:Menlo,'DejaVu Sans Mono',consolas,'Courier New',monospace\"><span style=\"color: #7fbfbf; text-decoration-color: #7fbfbf\">[03/17/23 20:32:03] </span><span style=\"color: #000080; text-decoration-color: #000080\">INFO    </span> Opening channel to execute command                                <a href=\"file:///home/jupyter/MyData/repos/taccjm/src/taccjm/client/TACCSSHClient.py\" target=\"_blank\"><span style=\"color: #7f7f7f; text-decoration-color: #7f7f7f\">TACCSSHClient.py</span></a><span style=\"color: #7f7f7f; text-decoration-color: #7f7f7f\">:</span><a href=\"file:///home/jupyter/MyData/repos/taccjm/src/taccjm/client/TACCSSHClient.py#271\" target=\"_blank\"><span style=\"color: #7f7f7f; text-decoration-color: #7f7f7f\">271</span></a>\n",
       "</pre>\n"
      ],
      "text/plain": [
       "\u001b[2;36m[03/17/23 20:32:03]\u001b[0m\u001b[2;36m \u001b[0m\u001b[34mINFO    \u001b[0m Opening channel to execute command                                \u001b]8;id=214009;file:///home/jupyter/MyData/repos/taccjm/src/taccjm/client/TACCSSHClient.py\u001b\\\u001b[2mTACCSSHClient.py\u001b[0m\u001b]8;;\u001b\\\u001b[2m:\u001b[0m\u001b]8;id=716848;file:///home/jupyter/MyData/repos/taccjm/src/taccjm/client/TACCSSHClient.py#271\u001b\\\u001b[2m271\u001b[0m\u001b]8;;\u001b\\\n"
      ]
     },
     "metadata": {},
     "output_type": "display_data"
    },
    {
     "data": {
      "text/html": [
       "<pre style=\"white-space:pre;overflow-x:auto;line-height:normal;font-family:Menlo,'DejaVu Sans Mono',consolas,'Courier New',monospace\"><span style=\"color: #7fbfbf; text-decoration-color: #7fbfbf\">                    </span><span style=\"color: #000080; text-decoration-color: #000080\">INFO    </span> Submitting command                                                <a href=\"file:///home/jupyter/MyData/repos/taccjm/src/taccjm/client/TACCSSHClient.py\" target=\"_blank\"><span style=\"color: #7f7f7f; text-decoration-color: #7f7f7f\">TACCSSHClient.py</span></a><span style=\"color: #7f7f7f; text-decoration-color: #7f7f7f\">:</span><a href=\"file:///home/jupyter/MyData/repos/taccjm/src/taccjm/client/TACCSSHClient.py#282\" target=\"_blank\"><span style=\"color: #7f7f7f; text-decoration-color: #7f7f7f\">282</span></a>\n",
       "</pre>\n"
      ],
      "text/plain": [
       "\u001b[2;36m                   \u001b[0m\u001b[2;36m \u001b[0m\u001b[34mINFO    \u001b[0m Submitting command                                                \u001b]8;id=609259;file:///home/jupyter/MyData/repos/taccjm/src/taccjm/client/TACCSSHClient.py\u001b\\\u001b[2mTACCSSHClient.py\u001b[0m\u001b]8;;\u001b\\\u001b[2m:\u001b[0m\u001b]8;id=386891;file:///home/jupyter/MyData/repos/taccjm/src/taccjm/client/TACCSSHClient.py#282\u001b\\\u001b[2m282\u001b[0m\u001b]8;;\u001b\\\n"
      ]
     },
     "metadata": {},
     "output_type": "display_data"
    },
    {
     "data": {
      "text/html": [
       "<pre style=\"white-space:pre;overflow-x:auto;line-height:normal;font-family:Menlo,'DejaVu Sans Mono',consolas,'Courier New',monospace\"><span style=\"color: #7fbfbf; text-decoration-color: #7fbfbf\">                    </span><span style=\"color: #000080; text-decoration-color: #000080\">INFO    </span> Adding command to commands list                                   <a href=\"file:///home/jupyter/MyData/repos/taccjm/src/taccjm/client/TACCSSHClient.py\" target=\"_blank\"><span style=\"color: #7f7f7f; text-decoration-color: #7f7f7f\">TACCSSHClient.py</span></a><span style=\"color: #7f7f7f; text-decoration-color: #7f7f7f\">:</span><a href=\"file:///home/jupyter/MyData/repos/taccjm/src/taccjm/client/TACCSSHClient.py#302\" target=\"_blank\"><span style=\"color: #7f7f7f; text-decoration-color: #7f7f7f\">302</span></a>\n",
       "</pre>\n"
      ],
      "text/plain": [
       "\u001b[2;36m                   \u001b[0m\u001b[2;36m \u001b[0m\u001b[34mINFO    \u001b[0m Adding command to commands list                                   \u001b]8;id=712862;file:///home/jupyter/MyData/repos/taccjm/src/taccjm/client/TACCSSHClient.py\u001b\\\u001b[2mTACCSSHClient.py\u001b[0m\u001b]8;;\u001b\\\u001b[2m:\u001b[0m\u001b]8;id=112981;file:///home/jupyter/MyData/repos/taccjm/src/taccjm/client/TACCSSHClient.py#302\u001b\\\u001b[2m302\u001b[0m\u001b]8;;\u001b\\\n"
      ]
     },
     "metadata": {},
     "output_type": "display_data"
    },
    {
     "data": {
      "text/plain": [
       "{'id': 5,\n",
       " 'key': 'SYSTEM',\n",
       " 'cmd': 'echo START; sleep 10; echo START',\n",
       " 'ts': datetime.datetime(2023, 3, 17, 20, 32, 3, 77210),\n",
       " 'status': 'STARTED',\n",
       " 'stdout': '',\n",
       " 'stderr': '',\n",
       " 'history': [],\n",
       " 'channel': <paramiko.Channel 4 (open) window=2097152 -> <paramiko.Transport at 0x899ddad0 (cipher aes128-ctr, 128 bits) (active; 1 open channel(s))>>,\n",
       " 'rt': None,\n",
       " 'fail': True}"
      ]
     },
     "execution_count": 6,
     "metadata": {},
     "output_type": "execute_result"
    }
   ],
   "source": [
    "cmnd = tsc.execute_command(\"echo START; sleep 10; echo START\", wait=False)\n",
    "cmnd"
   ]
  },
  {
   "cell_type": "code",
   "execution_count": 9,
   "id": "beee81aa-77a0-4c33-bf71-75190b1b1b72",
   "metadata": {},
   "outputs": [
    {
     "data": {
      "text/plain": [
       "{'id': 5,\n",
       " 'key': 'SYSTEM',\n",
       " 'cmd': 'echo START; sleep 10; echo START',\n",
       " 'ts': datetime.datetime(2023, 3, 17, 20, 32, 13, 727508),\n",
       " 'status': 'RUNNING',\n",
       " 'stdout': '',\n",
       " 'stderr': '',\n",
       " 'history': [{'ts': datetime.datetime(2023, 3, 17, 20, 32, 3, 77210),\n",
       "   'status': 'STARTED'}],\n",
       " 'channel': <paramiko.Channel 4 (open) window=2097152 in-buffer=6 -> <paramiko.Transport at 0x899ddad0 (cipher aes128-ctr, 128 bits) (active; 1 open channel(s))>>,\n",
       " 'rt': None,\n",
       " 'fail': True}"
      ]
     },
     "execution_count": 9,
     "metadata": {},
     "output_type": "execute_result"
    }
   ],
   "source": [
    "cmnd = tsc.process_command(cmnd[\"id\"])\n",
    "cmnd"
   ]
  },
  {
   "cell_type": "markdown",
   "id": "9bfa2e43-3cf8-415b-b4ef-7d25efcc7337",
   "metadata": {},
   "source": [
    "Note the command's history of status's is stored.\n",
    "This history is compiled as the process is polled, with duplicate status's removed.\n",
    "Finally note how the `rt` field gives us a rough runtime for the command.\n",
    "Once again if the process was run in the background, this runtime is according to how the process was polled, not necessarily how long the command took to run."
   ]
  },
  {
   "cell_type": "markdown",
   "id": "1634387e-5cac-4363-8a48-b934f2e53a9f",
   "metadata": {},
   "source": [
    "### Buffering stdout from commands\n",
    "\n",
    "You can pass an `nbytes: int=None` parameter to the `process_command()` method to read the next `nbytes` available in the stdout buffer of an actively running command:"
   ]
  },
  {
   "cell_type": "code",
   "execution_count": 10,
   "id": "13b847a0-1a26-4a58-9044-3fb445e93890",
   "metadata": {},
   "outputs": [
    {
     "data": {
      "text/html": [
       "<pre style=\"white-space:pre;overflow-x:auto;line-height:normal;font-family:Menlo,'DejaVu Sans Mono',consolas,'Courier New',monospace\"><span style=\"color: #7fbfbf; text-decoration-color: #7fbfbf\">[03/17/23 20:32:22] </span><span style=\"color: #000080; text-decoration-color: #000080\">INFO    </span> Opening channel to execute command                                <a href=\"file:///home/jupyter/MyData/repos/taccjm/src/taccjm/client/TACCSSHClient.py\" target=\"_blank\"><span style=\"color: #7f7f7f; text-decoration-color: #7f7f7f\">TACCSSHClient.py</span></a><span style=\"color: #7f7f7f; text-decoration-color: #7f7f7f\">:</span><a href=\"file:///home/jupyter/MyData/repos/taccjm/src/taccjm/client/TACCSSHClient.py#271\" target=\"_blank\"><span style=\"color: #7f7f7f; text-decoration-color: #7f7f7f\">271</span></a>\n",
       "</pre>\n"
      ],
      "text/plain": [
       "\u001b[2;36m[03/17/23 20:32:22]\u001b[0m\u001b[2;36m \u001b[0m\u001b[34mINFO    \u001b[0m Opening channel to execute command                                \u001b]8;id=55436;file:///home/jupyter/MyData/repos/taccjm/src/taccjm/client/TACCSSHClient.py\u001b\\\u001b[2mTACCSSHClient.py\u001b[0m\u001b]8;;\u001b\\\u001b[2m:\u001b[0m\u001b]8;id=450491;file:///home/jupyter/MyData/repos/taccjm/src/taccjm/client/TACCSSHClient.py#271\u001b\\\u001b[2m271\u001b[0m\u001b]8;;\u001b\\\n"
      ]
     },
     "metadata": {},
     "output_type": "display_data"
    },
    {
     "data": {
      "text/html": [
       "<pre style=\"white-space:pre;overflow-x:auto;line-height:normal;font-family:Menlo,'DejaVu Sans Mono',consolas,'Courier New',monospace\"><span style=\"color: #7fbfbf; text-decoration-color: #7fbfbf\">                    </span><span style=\"color: #000080; text-decoration-color: #000080\">INFO    </span> Submitting command                                                <a href=\"file:///home/jupyter/MyData/repos/taccjm/src/taccjm/client/TACCSSHClient.py\" target=\"_blank\"><span style=\"color: #7f7f7f; text-decoration-color: #7f7f7f\">TACCSSHClient.py</span></a><span style=\"color: #7f7f7f; text-decoration-color: #7f7f7f\">:</span><a href=\"file:///home/jupyter/MyData/repos/taccjm/src/taccjm/client/TACCSSHClient.py#282\" target=\"_blank\"><span style=\"color: #7f7f7f; text-decoration-color: #7f7f7f\">282</span></a>\n",
       "</pre>\n"
      ],
      "text/plain": [
       "\u001b[2;36m                   \u001b[0m\u001b[2;36m \u001b[0m\u001b[34mINFO    \u001b[0m Submitting command                                                \u001b]8;id=844596;file:///home/jupyter/MyData/repos/taccjm/src/taccjm/client/TACCSSHClient.py\u001b\\\u001b[2mTACCSSHClient.py\u001b[0m\u001b]8;;\u001b\\\u001b[2m:\u001b[0m\u001b]8;id=794043;file:///home/jupyter/MyData/repos/taccjm/src/taccjm/client/TACCSSHClient.py#282\u001b\\\u001b[2m282\u001b[0m\u001b]8;;\u001b\\\n"
      ]
     },
     "metadata": {},
     "output_type": "display_data"
    },
    {
     "data": {
      "text/html": [
       "<pre style=\"white-space:pre;overflow-x:auto;line-height:normal;font-family:Menlo,'DejaVu Sans Mono',consolas,'Courier New',monospace\"><span style=\"color: #7fbfbf; text-decoration-color: #7fbfbf\">                    </span><span style=\"color: #000080; text-decoration-color: #000080\">INFO    </span> Adding command to commands list                                   <a href=\"file:///home/jupyter/MyData/repos/taccjm/src/taccjm/client/TACCSSHClient.py\" target=\"_blank\"><span style=\"color: #7f7f7f; text-decoration-color: #7f7f7f\">TACCSSHClient.py</span></a><span style=\"color: #7f7f7f; text-decoration-color: #7f7f7f\">:</span><a href=\"file:///home/jupyter/MyData/repos/taccjm/src/taccjm/client/TACCSSHClient.py#302\" target=\"_blank\"><span style=\"color: #7f7f7f; text-decoration-color: #7f7f7f\">302</span></a>\n",
       "</pre>\n"
      ],
      "text/plain": [
       "\u001b[2;36m                   \u001b[0m\u001b[2;36m \u001b[0m\u001b[34mINFO    \u001b[0m Adding command to commands list                                   \u001b]8;id=319171;file:///home/jupyter/MyData/repos/taccjm/src/taccjm/client/TACCSSHClient.py\u001b\\\u001b[2mTACCSSHClient.py\u001b[0m\u001b]8;;\u001b\\\u001b[2m:\u001b[0m\u001b]8;id=767714;file:///home/jupyter/MyData/repos/taccjm/src/taccjm/client/TACCSSHClient.py#302\u001b\\\u001b[2m302\u001b[0m\u001b]8;;\u001b\\\n"
      ]
     },
     "metadata": {},
     "output_type": "display_data"
    },
    {
     "name": "stdout",
     "output_type": "stream",
     "text": [
      "stdout at time 0: START\n",
      "stdout at time 5: START\n",
      "\n",
      "stdout at time 10: START\n",
      "1\n",
      "\n",
      "stdout at time 15: START\n",
      "1\n",
      "2\n",
      "\n"
     ]
    }
   ],
   "source": [
    "import time\n",
    "\n",
    "cmnd = tsc.execute_command(\"echo START; sleep 7; echo 1; sleep 6; echo 2\", wait=False)\n",
    "\n",
    "t = 0\n",
    "while cmnd[\"status\"] not in [\"COMPLETE\", \"FAILED\"]:\n",
    "    cmnd = tsc.process_command(cmnd[\"id\"], wait=False, nbytes=5)\n",
    "    print(f\"stdout at time {t}: {cmnd['stdout']}\")\n",
    "    t += 5\n",
    "    time.sleep(5)"
   ]
  },
  {
   "cell_type": "markdown",
   "id": "17373137-d9bd-49e3-9f43-3778aea49792",
   "metadata": {},
   "source": [
    "Note how the output is appended to the 'stdout' field of the command config as it becomes available, and only `nbytes` are read on any given call."
   ]
  },
  {
   "cell_type": "markdown",
   "id": "27a5fbbc-0ba7-468c-9cfd-8066302d7df0",
   "metadata": {
    "tags": []
   },
   "source": [
    "## File Operations\n",
    "\n",
    "The TACCSHClient class uses its underlying ssh connection to open sftp connections and provide programmatic access to files on TACC systems.\n",
    "The following operations are offered to interact with files on TACC systems using the TACCSSHClient Class:\n",
    "\n",
    "- list_files - Get file and directory info (file stats)\n",
    "- upload - Upload a file/directory to TACC system via sftp.\n",
    "- downlaod - Download a file/directory from TACC system via sftp.\n",
    "- read - Read file contents (text or json) directly from TACC system via sftp.\n",
    "- write - Write data (string or dictioanry) directly from TACC system via sftp.\n",
    "\n",
    "Note:\n",
    "\n",
    "    1. All remote paths (paths on TACC systems) must use unix path separators '/'.\n",
    "    2. File operations currently aren't \"safe.\" \n",
    "       That is file uploads/downloads and reads/writes will overwrite contents on remote/local systems.\n",
    "    3. If absolute paths aren't specified, paths are relative to a user's $HOME diretory on TACC systems, and relative to the cwd for the local paths."
   ]
  },
  {
   "cell_type": "markdown",
   "id": "f6415c86-de28-46cd-8ee8-b34dc3ea5da2",
   "metadata": {
    "tags": []
   },
   "source": [
    "### `list_files()`\n",
    "\n",
    "The `list_files()` method provides basic file stat info, much like an `ls` command would in a shell session."
   ]
  },
  {
   "cell_type": "code",
   "execution_count": 11,
   "id": "4275a1f2-0cbb-4fed-8829-125f7df2a059",
   "metadata": {},
   "outputs": [
    {
     "data": {
      "text/html": [
       "<pre style=\"white-space:pre;overflow-x:auto;line-height:normal;font-family:Menlo,'DejaVu Sans Mono',consolas,'Courier New',monospace\"><span style=\"color: #7fbfbf; text-decoration-color: #7fbfbf\">[03/17/23 20:33:23] </span><span style=\"color: #000080; text-decoration-color: #000080\">INFO    </span> list_files operation started on <span style=\"color: #800080; text-decoration-color: #800080\">/scratch/06307/clos21/</span>            <a href=\"file:///home/jupyter/MyData/repos/taccjm/src/taccjm/client/TACCSSHClient.py\" target=\"_blank\"><span style=\"color: #7f7f7f; text-decoration-color: #7f7f7f\">TACCSSHClient.py</span></a><span style=\"color: #7f7f7f; text-decoration-color: #7f7f7f\">:</span><a href=\"file:///home/jupyter/MyData/repos/taccjm/src/taccjm/client/TACCSSHClient.py#461\" target=\"_blank\"><span style=\"color: #7f7f7f; text-decoration-color: #7f7f7f\">461</span></a>\n",
       "</pre>\n"
      ],
      "text/plain": [
       "\u001b[2;36m[03/17/23 20:33:23]\u001b[0m\u001b[2;36m \u001b[0m\u001b[34mINFO    \u001b[0m list_files operation started on \u001b[35m/scratch/06307/clos21/\u001b[0m            \u001b]8;id=629667;file:///home/jupyter/MyData/repos/taccjm/src/taccjm/client/TACCSSHClient.py\u001b\\\u001b[2mTACCSSHClient.py\u001b[0m\u001b]8;;\u001b\\\u001b[2m:\u001b[0m\u001b]8;id=6294;file:///home/jupyter/MyData/repos/taccjm/src/taccjm/client/TACCSSHClient.py#461\u001b\\\u001b[2m461\u001b[0m\u001b]8;;\u001b\\\n"
      ]
     },
     "metadata": {},
     "output_type": "display_data"
    },
    {
     "data": {
      "text/html": [
       "<pre style=\"white-space:pre;overflow-x:auto;line-height:normal;font-family:Menlo,'DejaVu Sans Mono',consolas,'Courier New',monospace\"><span style=\"color: #7fbfbf; text-decoration-color: #7fbfbf\">                    </span><span style=\"color: #000080; text-decoration-color: #000080\">INFO    </span> Opening sftp connection                                           <a href=\"file:///home/jupyter/MyData/repos/taccjm/src/taccjm/client/TACCSSHClient.py\" target=\"_blank\"><span style=\"color: #7f7f7f; text-decoration-color: #7f7f7f\">TACCSSHClient.py</span></a><span style=\"color: #7f7f7f; text-decoration-color: #7f7f7f\">:</span><a href=\"file:///home/jupyter/MyData/repos/taccjm/src/taccjm/client/TACCSSHClient.py#140\" target=\"_blank\"><span style=\"color: #7f7f7f; text-decoration-color: #7f7f7f\">140</span></a>\n",
       "</pre>\n"
      ],
      "text/plain": [
       "\u001b[2;36m                   \u001b[0m\u001b[2;36m \u001b[0m\u001b[34mINFO    \u001b[0m Opening sftp connection                                           \u001b]8;id=143143;file:///home/jupyter/MyData/repos/taccjm/src/taccjm/client/TACCSSHClient.py\u001b\\\u001b[2mTACCSSHClient.py\u001b[0m\u001b]8;;\u001b\\\u001b[2m:\u001b[0m\u001b]8;id=684426;file:///home/jupyter/MyData/repos/taccjm/src/taccjm/client/TACCSSHClient.py#140\u001b\\\u001b[2m140\u001b[0m\u001b]8;;\u001b\\\n"
      ]
     },
     "metadata": {},
     "output_type": "display_data"
    },
    {
     "data": {
      "text/html": [
       "<pre style=\"white-space:pre;overflow-x:auto;line-height:normal;font-family:Menlo,'DejaVu Sans Mono',consolas,'Courier New',monospace\"><span style=\"color: #7fbfbf; text-decoration-color: #7fbfbf\">[03/17/23 20:33:25] </span><span style=\"color: #000080; text-decoration-color: #000080\">INFO    </span> SFTP connection open                                              <a href=\"file:///home/jupyter/MyData/repos/taccjm/src/taccjm/client/TACCSSHClient.py\" target=\"_blank\"><span style=\"color: #7f7f7f; text-decoration-color: #7f7f7f\">TACCSSHClient.py</span></a><span style=\"color: #7f7f7f; text-decoration-color: #7f7f7f\">:</span><a href=\"file:///home/jupyter/MyData/repos/taccjm/src/taccjm/client/TACCSSHClient.py#145\" target=\"_blank\"><span style=\"color: #7f7f7f; text-decoration-color: #7f7f7f\">145</span></a>\n",
       "</pre>\n"
      ],
      "text/plain": [
       "\u001b[2;36m[03/17/23 20:33:25]\u001b[0m\u001b[2;36m \u001b[0m\u001b[34mINFO    \u001b[0m SFTP connection open                                              \u001b]8;id=969780;file:///home/jupyter/MyData/repos/taccjm/src/taccjm/client/TACCSSHClient.py\u001b\\\u001b[2mTACCSSHClient.py\u001b[0m\u001b]8;;\u001b\\\u001b[2m:\u001b[0m\u001b]8;id=731939;file:///home/jupyter/MyData/repos/taccjm/src/taccjm/client/TACCSSHClient.py#145\u001b\\\u001b[2m145\u001b[0m\u001b]8;;\u001b\\\n"
      ]
     },
     "metadata": {},
     "output_type": "display_data"
    },
    {
     "data": {
      "text/html": [
       "<pre style=\"white-space:pre;overflow-x:auto;line-height:normal;font-family:Menlo,'DejaVu Sans Mono',consolas,'Courier New',monospace\"><span style=\"color: #7fbfbf; text-decoration-color: #7fbfbf\">                    </span><span style=\"color: #000080; text-decoration-color: #000080\">INFO    </span> Getting file info <span style=\"color: #800080; text-decoration-color: #800080\">/scratch/06307/clos21/</span>                          <a href=\"file:///home/jupyter/MyData/repos/taccjm/src/taccjm/client/TACCSSHClient.py\" target=\"_blank\"><span style=\"color: #7f7f7f; text-decoration-color: #7f7f7f\">TACCSSHClient.py</span></a><span style=\"color: #7f7f7f; text-decoration-color: #7f7f7f\">:</span><a href=\"file:///home/jupyter/MyData/repos/taccjm/src/taccjm/client/TACCSSHClient.py#463\" target=\"_blank\"><span style=\"color: #7f7f7f; text-decoration-color: #7f7f7f\">463</span></a>\n",
       "</pre>\n"
      ],
      "text/plain": [
       "\u001b[2;36m                   \u001b[0m\u001b[2;36m \u001b[0m\u001b[34mINFO    \u001b[0m Getting file info \u001b[35m/scratch/06307/clos21/\u001b[0m                          \u001b]8;id=106266;file:///home/jupyter/MyData/repos/taccjm/src/taccjm/client/TACCSSHClient.py\u001b\\\u001b[2mTACCSSHClient.py\u001b[0m\u001b]8;;\u001b\\\u001b[2m:\u001b[0m\u001b]8;id=859558;file:///home/jupyter/MyData/repos/taccjm/src/taccjm/client/TACCSSHClient.py#463\u001b\\\u001b[2m463\u001b[0m\u001b]8;;\u001b\\\n"
      ]
     },
     "metadata": {},
     "output_type": "display_data"
    },
    {
     "data": {
      "text/html": [
       "<pre style=\"white-space:pre;overflow-x:auto;line-height:normal;font-family:Menlo,'DejaVu Sans Mono',consolas,'Courier New',monospace\"><span style=\"color: #7fbfbf; text-decoration-color: #7fbfbf\">                    </span><span style=\"color: #000080; text-decoration-color: #000080\">INFO    </span> File Found, returing file info                                    <a href=\"file:///home/jupyter/MyData/repos/taccjm/src/taccjm/client/TACCSSHClient.py\" target=\"_blank\"><span style=\"color: #7f7f7f; text-decoration-color: #7f7f7f\">TACCSSHClient.py</span></a><span style=\"color: #7f7f7f; text-decoration-color: #7f7f7f\">:</span><a href=\"file:///home/jupyter/MyData/repos/taccjm/src/taccjm/client/TACCSSHClient.py#477\" target=\"_blank\"><span style=\"color: #7f7f7f; text-decoration-color: #7f7f7f\">477</span></a>\n",
       "</pre>\n"
      ],
      "text/plain": [
       "\u001b[2;36m                   \u001b[0m\u001b[2;36m \u001b[0m\u001b[34mINFO    \u001b[0m File Found, returing file info                                    \u001b]8;id=614679;file:///home/jupyter/MyData/repos/taccjm/src/taccjm/client/TACCSSHClient.py\u001b\\\u001b[2mTACCSSHClient.py\u001b[0m\u001b]8;;\u001b\\\u001b[2m:\u001b[0m\u001b]8;id=503662;file:///home/jupyter/MyData/repos/taccjm/src/taccjm/client/TACCSSHClient.py#477\u001b\\\u001b[2m477\u001b[0m\u001b]8;;\u001b\\\n"
      ]
     },
     "metadata": {},
     "output_type": "display_data"
    },
    {
     "data": {
      "text/plain": [
       "[{'filename': '/scratch/06307/clos21/',\n",
       "  'st_atime': 1678850077,\n",
       "  'st_gid': 821083,\n",
       "  'st_mode': 16837,\n",
       "  'st_mtime': 1675987758,\n",
       "  'st_size': 4096,\n",
       "  'st_uid': 856065,\n",
       "  'ls_str': b'drwx---r-x   1 856065   821083       4096 10 Feb 00:09 ?'}]"
      ]
     },
     "execution_count": 11,
     "metadata": {},
     "output_type": "execute_result"
    }
   ],
   "source": [
    "scratch_dir = tsc.list_files(\"\")\n",
    "scratch_dir"
   ]
  },
  {
   "cell_type": "code",
   "execution_count": 12,
   "id": "6fc0f7f2-3223-4744-a7e8-6e2034a149a1",
   "metadata": {},
   "outputs": [
    {
     "data": {
      "text/html": [
       "<pre style=\"white-space:pre;overflow-x:auto;line-height:normal;font-family:Menlo,'DejaVu Sans Mono',consolas,'Courier New',monospace\"><span style=\"color: #7fbfbf; text-decoration-color: #7fbfbf\">[03/17/23 20:33:31] </span><span style=\"color: #000080; text-decoration-color: #000080\">INFO    </span> list_files operation started on <span style=\"color: #800080; text-decoration-color: #800080\">/scratch/06307/clos21/</span>            <a href=\"file:///home/jupyter/MyData/repos/taccjm/src/taccjm/client/TACCSSHClient.py\" target=\"_blank\"><span style=\"color: #7f7f7f; text-decoration-color: #7f7f7f\">TACCSSHClient.py</span></a><span style=\"color: #7f7f7f; text-decoration-color: #7f7f7f\">:</span><a href=\"file:///home/jupyter/MyData/repos/taccjm/src/taccjm/client/TACCSSHClient.py#461\" target=\"_blank\"><span style=\"color: #7f7f7f; text-decoration-color: #7f7f7f\">461</span></a>\n",
       "</pre>\n"
      ],
      "text/plain": [
       "\u001b[2;36m[03/17/23 20:33:31]\u001b[0m\u001b[2;36m \u001b[0m\u001b[34mINFO    \u001b[0m list_files operation started on \u001b[35m/scratch/06307/clos21/\u001b[0m            \u001b]8;id=381482;file:///home/jupyter/MyData/repos/taccjm/src/taccjm/client/TACCSSHClient.py\u001b\\\u001b[2mTACCSSHClient.py\u001b[0m\u001b]8;;\u001b\\\u001b[2m:\u001b[0m\u001b]8;id=637492;file:///home/jupyter/MyData/repos/taccjm/src/taccjm/client/TACCSSHClient.py#461\u001b\\\u001b[2m461\u001b[0m\u001b]8;;\u001b\\\n"
      ]
     },
     "metadata": {},
     "output_type": "display_data"
    },
    {
     "data": {
      "text/html": [
       "<pre style=\"white-space:pre;overflow-x:auto;line-height:normal;font-family:Menlo,'DejaVu Sans Mono',consolas,'Courier New',monospace\"><span style=\"color: #7fbfbf; text-decoration-color: #7fbfbf\">                    </span><span style=\"color: #000080; text-decoration-color: #000080\">INFO    </span> Opening sftp connection                                           <a href=\"file:///home/jupyter/MyData/repos/taccjm/src/taccjm/client/TACCSSHClient.py\" target=\"_blank\"><span style=\"color: #7f7f7f; text-decoration-color: #7f7f7f\">TACCSSHClient.py</span></a><span style=\"color: #7f7f7f; text-decoration-color: #7f7f7f\">:</span><a href=\"file:///home/jupyter/MyData/repos/taccjm/src/taccjm/client/TACCSSHClient.py#140\" target=\"_blank\"><span style=\"color: #7f7f7f; text-decoration-color: #7f7f7f\">140</span></a>\n",
       "</pre>\n"
      ],
      "text/plain": [
       "\u001b[2;36m                   \u001b[0m\u001b[2;36m \u001b[0m\u001b[34mINFO    \u001b[0m Opening sftp connection                                           \u001b]8;id=834088;file:///home/jupyter/MyData/repos/taccjm/src/taccjm/client/TACCSSHClient.py\u001b\\\u001b[2mTACCSSHClient.py\u001b[0m\u001b]8;;\u001b\\\u001b[2m:\u001b[0m\u001b]8;id=682806;file:///home/jupyter/MyData/repos/taccjm/src/taccjm/client/TACCSSHClient.py#140\u001b\\\u001b[2m140\u001b[0m\u001b]8;;\u001b\\\n"
      ]
     },
     "metadata": {},
     "output_type": "display_data"
    },
    {
     "data": {
      "text/html": [
       "<pre style=\"white-space:pre;overflow-x:auto;line-height:normal;font-family:Menlo,'DejaVu Sans Mono',consolas,'Courier New',monospace\"><span style=\"color: #7fbfbf; text-decoration-color: #7fbfbf\">[03/17/23 20:33:33] </span><span style=\"color: #000080; text-decoration-color: #000080\">INFO    </span> SFTP connection open                                              <a href=\"file:///home/jupyter/MyData/repos/taccjm/src/taccjm/client/TACCSSHClient.py\" target=\"_blank\"><span style=\"color: #7f7f7f; text-decoration-color: #7f7f7f\">TACCSSHClient.py</span></a><span style=\"color: #7f7f7f; text-decoration-color: #7f7f7f\">:</span><a href=\"file:///home/jupyter/MyData/repos/taccjm/src/taccjm/client/TACCSSHClient.py#145\" target=\"_blank\"><span style=\"color: #7f7f7f; text-decoration-color: #7f7f7f\">145</span></a>\n",
       "</pre>\n"
      ],
      "text/plain": [
       "\u001b[2;36m[03/17/23 20:33:33]\u001b[0m\u001b[2;36m \u001b[0m\u001b[34mINFO    \u001b[0m SFTP connection open                                              \u001b]8;id=71116;file:///home/jupyter/MyData/repos/taccjm/src/taccjm/client/TACCSSHClient.py\u001b\\\u001b[2mTACCSSHClient.py\u001b[0m\u001b]8;;\u001b\\\u001b[2m:\u001b[0m\u001b]8;id=554215;file:///home/jupyter/MyData/repos/taccjm/src/taccjm/client/TACCSSHClient.py#145\u001b\\\u001b[2m145\u001b[0m\u001b]8;;\u001b\\\n"
      ]
     },
     "metadata": {},
     "output_type": "display_data"
    },
    {
     "data": {
      "text/html": [
       "<pre style=\"white-space:pre;overflow-x:auto;line-height:normal;font-family:Menlo,'DejaVu Sans Mono',consolas,'Courier New',monospace\"><span style=\"color: #7fbfbf; text-decoration-color: #7fbfbf\">                    </span><span style=\"color: #000080; text-decoration-color: #000080\">INFO    </span> Getting file info <span style=\"color: #800080; text-decoration-color: #800080\">/scratch/06307/clos21/</span>                          <a href=\"file:///home/jupyter/MyData/repos/taccjm/src/taccjm/client/TACCSSHClient.py\" target=\"_blank\"><span style=\"color: #7f7f7f; text-decoration-color: #7f7f7f\">TACCSSHClient.py</span></a><span style=\"color: #7f7f7f; text-decoration-color: #7f7f7f\">:</span><a href=\"file:///home/jupyter/MyData/repos/taccjm/src/taccjm/client/TACCSSHClient.py#463\" target=\"_blank\"><span style=\"color: #7f7f7f; text-decoration-color: #7f7f7f\">463</span></a>\n",
       "</pre>\n"
      ],
      "text/plain": [
       "\u001b[2;36m                   \u001b[0m\u001b[2;36m \u001b[0m\u001b[34mINFO    \u001b[0m Getting file info \u001b[35m/scratch/06307/clos21/\u001b[0m                          \u001b]8;id=829276;file:///home/jupyter/MyData/repos/taccjm/src/taccjm/client/TACCSSHClient.py\u001b\\\u001b[2mTACCSSHClient.py\u001b[0m\u001b]8;;\u001b\\\u001b[2m:\u001b[0m\u001b]8;id=774402;file:///home/jupyter/MyData/repos/taccjm/src/taccjm/client/TACCSSHClient.py#463\u001b\\\u001b[2m463\u001b[0m\u001b]8;;\u001b\\\n"
      ]
     },
     "metadata": {},
     "output_type": "display_data"
    },
    {
     "data": {
      "text/html": [
       "<pre style=\"white-space:pre;overflow-x:auto;line-height:normal;font-family:Menlo,'DejaVu Sans Mono',consolas,'Courier New',monospace\"><span style=\"color: #7fbfbf; text-decoration-color: #7fbfbf\">                    </span><span style=\"color: #000080; text-decoration-color: #000080\">INFO    </span> Directory found, getting <span style=\"color: #008080; text-decoration-color: #008080; font-weight: bold\">30</span> files                                 <a href=\"file:///home/jupyter/MyData/repos/taccjm/src/taccjm/client/TACCSSHClient.py\" target=\"_blank\"><span style=\"color: #7f7f7f; text-decoration-color: #7f7f7f\">TACCSSHClient.py</span></a><span style=\"color: #7f7f7f; text-decoration-color: #7f7f7f\">:</span><a href=\"file:///home/jupyter/MyData/repos/taccjm/src/taccjm/client/TACCSSHClient.py#469\" target=\"_blank\"><span style=\"color: #7f7f7f; text-decoration-color: #7f7f7f\">469</span></a>\n",
       "</pre>\n"
      ],
      "text/plain": [
       "\u001b[2;36m                   \u001b[0m\u001b[2;36m \u001b[0m\u001b[34mINFO    \u001b[0m Directory found, getting \u001b[1;36m30\u001b[0m files                                 \u001b]8;id=611435;file:///home/jupyter/MyData/repos/taccjm/src/taccjm/client/TACCSSHClient.py\u001b\\\u001b[2mTACCSSHClient.py\u001b[0m\u001b]8;;\u001b\\\u001b[2m:\u001b[0m\u001b]8;id=346807;file:///home/jupyter/MyData/repos/taccjm/src/taccjm/client/TACCSSHClient.py#469\u001b\\\u001b[2m469\u001b[0m\u001b]8;;\u001b\\\n"
      ]
     },
     "metadata": {},
     "output_type": "display_data"
    },
    {
     "data": {
      "text/plain": [
       "30"
      ]
     },
     "execution_count": 12,
     "metadata": {},
     "output_type": "execute_result"
    }
   ],
   "source": [
    "files = tsc.list_files(\"\", recurse=True)\n",
    "len(files)"
   ]
  },
  {
   "cell_type": "markdown",
   "id": "d8912de0-90d3-448e-8aa1-0e4c78485c3d",
   "metadata": {},
   "source": [
    "Note the file dictionary returns a string with the value of performing an `ls -l` transaction on the path itself. "
   ]
  },
  {
   "cell_type": "code",
   "execution_count": 13,
   "id": "08732b6e-f684-4987-b234-e3eff9b3aa81",
   "metadata": {},
   "outputs": [
    {
     "name": "stdout",
     "output_type": "stream",
     "text": [
      "drwx------   1 856065   800588       4096 24 Sep 2021  test-taccjm\n",
      "drwx------   1 856065   800588       4096 01 Jul 2021  test-taccjm-jobs\n",
      "drwx------   1 856065   800588       4096 01 Oct 2021  test-tjm\n",
      "drwx------   1 856065   800588       4096 14 Jul 2022  temp\n",
      "drwx------   1 856065   800588      12288 11 Jun 2021  prod_si_beta_scan_20201101_165332\n",
      "drwx------   1 856065   800588       4096 24 Jun 2021  taccjm-v1-jobs\n",
      "drwx------   1 856065   800588       4096 06 Dec 2021  s2\n",
      "drwx------   1 856065   800588       4096 01 Aug 2021  test-taccjm-apps\n",
      "drwx------   1 856065   800588       4096 10 Aug 2020  adcirc-cg\n",
      "drwxr-xr-x   1 856065   800588       4096 31 Aug 2021  adcirc-app\n",
      "drwx------   1 856065   800588       4096 08 Feb 2022  test-nodal-beta-s2\n",
      "drwx------   1 856065   800588       4096 27 Jul 2021  tests\n",
      "drwx------   1 856065   800588       4096 24 Jun 2021  taccjm-jobs\n",
      "drwxr-xr-x   1 856065   800588       4096 31 Aug 2021  adcirc\n",
      "drwxr-xr-x   1 856065   800588       4096 11 Jun 2021  TX_FEMA_Storms\n",
      "drwx------   1 856065   800588       4096 14 Oct 2021  test-taccjm2\n",
      "drwx------   1 856065   800588       4096 21 Mar 2022  si_cice_test\n",
      "drwx------   1 856065   800588      53248 12 Dec 2020  prod_si_scan_20201101_000004\n",
      "drwx------   1 856065   800588       4096 29 Sep 2021  test_stampede2\n",
      "drwx------   1 856065   800588       4096 22 Jul 2021  tapis-pylauncher\n",
      "drwx---r-x   1 856065   800588       4096 28 Jan 2022  test\n",
      "drwx------   1 856065   800588       4096 28 Jan 2021  scratch\n",
      "drwx------   1 856065   800588       4096 08 Dec 2020  si_scan_data\n",
      "drwx------   1 856065   800588       4096 24 Jun 2021  taccjm-apps\n",
      "drwx------   1 856065   800588       4096 03 Jun 2022  s1\n",
      "drwx------   1 856065   800588       4096 11 Jun 2021  jobs\n",
      "drwx------   1 856065   800588       4096 22 Jul 2021  pylauncher-debug\n",
      "drwx------   1 856065   800588       4096 08 Aug 2021  taccjm\n",
      "drwx------   1 856065   800588       4096 10 Feb 00:09 taccjm-stampede2\n"
     ]
    }
   ],
   "source": [
    "print(\n",
    "    \"\\n\".join(\n",
    "        [\n",
    "            x[\"ls_str\"].decode(\"utf-8\")\n",
    "            for x in files\n",
    "            if not x[\"filename\"].startswith(\".\")\n",
    "        ]\n",
    "    )\n",
    ")"
   ]
  },
  {
   "cell_type": "code",
   "execution_count": 14,
   "id": "db0e0a44-d49e-48a4-8603-f08d3081f916",
   "metadata": {},
   "outputs": [
    {
     "data": {
      "text/html": [
       "<pre style=\"white-space:pre;overflow-x:auto;line-height:normal;font-family:Menlo,'DejaVu Sans Mono',consolas,'Courier New',monospace\"><span style=\"color: #7fbfbf; text-decoration-color: #7fbfbf\">[03/17/23 20:33:39] </span><span style=\"color: #000080; text-decoration-color: #000080\">INFO    </span> Opening channel to execute command                                <a href=\"file:///home/jupyter/MyData/repos/taccjm/src/taccjm/client/TACCSSHClient.py\" target=\"_blank\"><span style=\"color: #7f7f7f; text-decoration-color: #7f7f7f\">TACCSSHClient.py</span></a><span style=\"color: #7f7f7f; text-decoration-color: #7f7f7f\">:</span><a href=\"file:///home/jupyter/MyData/repos/taccjm/src/taccjm/client/TACCSSHClient.py#271\" target=\"_blank\"><span style=\"color: #7f7f7f; text-decoration-color: #7f7f7f\">271</span></a>\n",
       "</pre>\n"
      ],
      "text/plain": [
       "\u001b[2;36m[03/17/23 20:33:39]\u001b[0m\u001b[2;36m \u001b[0m\u001b[34mINFO    \u001b[0m Opening channel to execute command                                \u001b]8;id=423824;file:///home/jupyter/MyData/repos/taccjm/src/taccjm/client/TACCSSHClient.py\u001b\\\u001b[2mTACCSSHClient.py\u001b[0m\u001b]8;;\u001b\\\u001b[2m:\u001b[0m\u001b]8;id=8661;file:///home/jupyter/MyData/repos/taccjm/src/taccjm/client/TACCSSHClient.py#271\u001b\\\u001b[2m271\u001b[0m\u001b]8;;\u001b\\\n"
      ]
     },
     "metadata": {},
     "output_type": "display_data"
    },
    {
     "data": {
      "text/html": [
       "<pre style=\"white-space:pre;overflow-x:auto;line-height:normal;font-family:Menlo,'DejaVu Sans Mono',consolas,'Courier New',monospace\"><span style=\"color: #7fbfbf; text-decoration-color: #7fbfbf\">                    </span><span style=\"color: #000080; text-decoration-color: #000080\">INFO    </span> Submitting command                                                <a href=\"file:///home/jupyter/MyData/repos/taccjm/src/taccjm/client/TACCSSHClient.py\" target=\"_blank\"><span style=\"color: #7f7f7f; text-decoration-color: #7f7f7f\">TACCSSHClient.py</span></a><span style=\"color: #7f7f7f; text-decoration-color: #7f7f7f\">:</span><a href=\"file:///home/jupyter/MyData/repos/taccjm/src/taccjm/client/TACCSSHClient.py#282\" target=\"_blank\"><span style=\"color: #7f7f7f; text-decoration-color: #7f7f7f\">282</span></a>\n",
       "</pre>\n"
      ],
      "text/plain": [
       "\u001b[2;36m                   \u001b[0m\u001b[2;36m \u001b[0m\u001b[34mINFO    \u001b[0m Submitting command                                                \u001b]8;id=322779;file:///home/jupyter/MyData/repos/taccjm/src/taccjm/client/TACCSSHClient.py\u001b\\\u001b[2mTACCSSHClient.py\u001b[0m\u001b]8;;\u001b\\\u001b[2m:\u001b[0m\u001b]8;id=867344;file:///home/jupyter/MyData/repos/taccjm/src/taccjm/client/TACCSSHClient.py#282\u001b\\\u001b[2m282\u001b[0m\u001b]8;;\u001b\\\n"
      ]
     },
     "metadata": {},
     "output_type": "display_data"
    },
    {
     "data": {
      "text/html": [
       "<pre style=\"white-space:pre;overflow-x:auto;line-height:normal;font-family:Menlo,'DejaVu Sans Mono',consolas,'Courier New',monospace\"><span style=\"color: #7fbfbf; text-decoration-color: #7fbfbf\">                    </span><span style=\"color: #000080; text-decoration-color: #000080\">INFO    </span> Adding command to commands list                                   <a href=\"file:///home/jupyter/MyData/repos/taccjm/src/taccjm/client/TACCSSHClient.py\" target=\"_blank\"><span style=\"color: #7f7f7f; text-decoration-color: #7f7f7f\">TACCSSHClient.py</span></a><span style=\"color: #7f7f7f; text-decoration-color: #7f7f7f\">:</span><a href=\"file:///home/jupyter/MyData/repos/taccjm/src/taccjm/client/TACCSSHClient.py#302\" target=\"_blank\"><span style=\"color: #7f7f7f; text-decoration-color: #7f7f7f\">302</span></a>\n",
       "</pre>\n"
      ],
      "text/plain": [
       "\u001b[2;36m                   \u001b[0m\u001b[2;36m \u001b[0m\u001b[34mINFO    \u001b[0m Adding command to commands list                                   \u001b]8;id=908156;file:///home/jupyter/MyData/repos/taccjm/src/taccjm/client/TACCSSHClient.py\u001b\\\u001b[2mTACCSSHClient.py\u001b[0m\u001b]8;;\u001b\\\u001b[2m:\u001b[0m\u001b]8;id=867328;file:///home/jupyter/MyData/repos/taccjm/src/taccjm/client/TACCSSHClient.py#302\u001b\\\u001b[2m302\u001b[0m\u001b]8;;\u001b\\\n"
      ]
     },
     "metadata": {},
     "output_type": "display_data"
    },
    {
     "data": {
      "text/html": [
       "<pre style=\"white-space:pre;overflow-x:auto;line-height:normal;font-family:Menlo,'DejaVu Sans Mono',consolas,'Courier New',monospace\"><span style=\"color: #7fbfbf; text-decoration-color: #7fbfbf\">                    </span><span style=\"color: #000080; text-decoration-color: #000080\">INFO    </span> Waiting for command to finish                                     <a href=\"file:///home/jupyter/MyData/repos/taccjm/src/taccjm/client/TACCSSHClient.py\" target=\"_blank\"><span style=\"color: #7f7f7f; text-decoration-color: #7f7f7f\">TACCSSHClient.py</span></a><span style=\"color: #7f7f7f; text-decoration-color: #7f7f7f\">:</span><a href=\"file:///home/jupyter/MyData/repos/taccjm/src/taccjm/client/TACCSSHClient.py#306\" target=\"_blank\"><span style=\"color: #7f7f7f; text-decoration-color: #7f7f7f\">306</span></a>\n",
       "</pre>\n"
      ],
      "text/plain": [
       "\u001b[2;36m                   \u001b[0m\u001b[2;36m \u001b[0m\u001b[34mINFO    \u001b[0m Waiting for command to finish                                     \u001b]8;id=753303;file:///home/jupyter/MyData/repos/taccjm/src/taccjm/client/TACCSSHClient.py\u001b\\\u001b[2mTACCSSHClient.py\u001b[0m\u001b]8;;\u001b\\\u001b[2m:\u001b[0m\u001b]8;id=543134;file:///home/jupyter/MyData/repos/taccjm/src/taccjm/client/TACCSSHClient.py#306\u001b\\\u001b[2m306\u001b[0m\u001b]8;;\u001b\\\n"
      ]
     },
     "metadata": {},
     "output_type": "display_data"
    },
    {
     "name": "stdout",
     "output_type": "stream",
     "text": [
      "total 176\n",
      "drwx------   4 clos21 G-800588  4096 Feb  9 18:09 taccjm-stampede2\n",
      "drwx------   4 clos21 G-800588  4096 Jul 13  2022 temp\n",
      "drwx------   6 clos21 G-800588  4096 Jun  3  2022 s1\n",
      "drwx------   2 clos21 G-800588  4096 Mar 21  2022 si_cice_test\n",
      "drwx------   2 clos21 G-800588  4096 Feb  7  2022 test-nodal-beta-s2\n",
      "drwx---r-x   6 clos21 G-800588  4096 Jan 28  2022 test\n",
      "drwx------   6 clos21 G-800588  4096 Dec  6  2021 s2\n",
      "drwx------   6 clos21 G-800588  4096 Oct 14  2021 test-taccjm2\n",
      "drwx------   6 clos21 G-800588  4096 Oct  1  2021 test-tjm\n",
      "drwx------   6 clos21 G-800588  4096 Sep 29  2021 test_stampede2\n",
      "drwx------   6 clos21 G-800588  4096 Sep 24  2021 test-taccjm\n",
      "drwxr-xr-x   3 clos21 G-800588  4096 Aug 30  2021 adcirc\n",
      "drwxr-xr-x   3 clos21 G-800588  4096 Aug 30  2021 adcirc-app\n",
      "drwx------   6 clos21 G-800588  4096 Aug  8  2021 taccjm\n",
      "drwx------   6 clos21 G-800588  4096 Jul 31  2021 test-taccjm-apps\n",
      "drwx------   2 clos21 G-800588  4096 Jul 27  2021 tests\n",
      "drwx------  10 clos21 G-800588  4096 Jul 22  2021 pylauncher-debug\n",
      "drwx------   2 clos21 G-800588  4096 Jul 22  2021 tapis-pylauncher\n",
      "drwx------   9 clos21 G-800588  4096 Jun 30  2021 test-taccjm-jobs\n",
      "drwx------   2 clos21 G-800588  4096 Jun 24  2021 taccjm-apps\n",
      "drwx------   2 clos21 G-800588  4096 Jun 23  2021 taccjm-jobs\n",
      "drwx------  21 clos21 G-800588  4096 Jun 23  2021 taccjm-v1-jobs\n",
      "drwxr-xr-x   8 clos21 G-800588  4096 Jun 11  2021 TX_FEMA_Storms\n",
      "drwx------  12 clos21 G-800588 12288 Jun 11  2021 prod_si_beta_scan_20201101_165332\n",
      "drwx------  20 clos21 G-800588  4096 Jun 11  2021 jobs\n",
      "drwx------   5 clos21 G-800588  4096 Jan 28  2021 scratch\n",
      "drwx------ 775 clos21 G-800588 53248 Dec 12  2020 prod_si_scan_20201101_000004\n",
      "drwx------   2 clos21 G-800588  4096 Dec  8  2020 si_scan_data\n",
      "drwx------  18 clos21 G-800588  4096 Aug 10  2020 adcirc-cg\n",
      "\n"
     ]
    }
   ],
   "source": [
    "print(tsc.execute_command(\"ls -lt $SCRATCH\")[\"stdout\"])"
   ]
  },
  {
   "cell_type": "markdown",
   "id": "f01c28c3-f711-44cb-9090-955c791e72ae",
   "metadata": {
    "tags": []
   },
   "source": [
    "### `upload()`/ `download()`\n",
    "\n",
    "To upload a local directory or file to TACC, use the upload method.\n",
    "Lets first create a test file."
   ]
  },
  {
   "cell_type": "code",
   "execution_count": 42,
   "id": "4638c3a1-b2c7-4c2c-8da6-513dc9a176ba",
   "metadata": {},
   "outputs": [
    {
     "name": "stdout",
     "output_type": "stream",
     "text": [
      "mkdir: cannot create directory ‘test’: File exists\n"
     ]
    }
   ],
   "source": [
    "!rm -rf test_dir; mkdir test; echo 'Hello World!' > test/test.txt"
   ]
  },
  {
   "cell_type": "markdown",
   "id": "2aff5a07-3367-4315-97b8-92cc71dbf292",
   "metadata": {},
   "source": [
    "#### Files\n",
    "\n",
    "Note paths are assumed to be relative to a user's scratch directory by default."
   ]
  },
  {
   "cell_type": "code",
   "execution_count": 43,
   "id": "a83a75eb-ae40-4fbf-9faa-6b4044a96dc0",
   "metadata": {},
   "outputs": [
    {
     "data": {
      "text/html": [
       "<pre style=\"white-space:pre;overflow-x:auto;line-height:normal;font-family:Menlo,'DejaVu Sans Mono',consolas,'Courier New',monospace\"><span style=\"color: #7fbfbf; text-decoration-color: #7fbfbf\">[03/17/23 20:42:59] </span><span style=\"color: #000080; text-decoration-color: #000080\">INFO    </span> Starting upload of test/test.txt to                               <a href=\"file:///home/jupyter/MyData/repos/taccjm/src/taccjm/client/TACCSSHClient.py\" target=\"_blank\"><span style=\"color: #7f7f7f; text-decoration-color: #7f7f7f\">TACCSSHClient.py</span></a><span style=\"color: #7f7f7f; text-decoration-color: #7f7f7f\">:</span><a href=\"file:///home/jupyter/MyData/repos/taccjm/src/taccjm/client/TACCSSHClient.py#540\" target=\"_blank\"><span style=\"color: #7f7f7f; text-decoration-color: #7f7f7f\">540</span></a>\n",
       "<span style=\"color: #7fbfbf; text-decoration-color: #7fbfbf\">                    </span>         <span style=\"color: #800080; text-decoration-color: #800080\">/scratch/06307/clos21/</span><span style=\"color: #ff00ff; text-decoration-color: #ff00ff\">test.txt</span>                                    <span style=\"color: #7f7f7f; text-decoration-color: #7f7f7f\">                    </span>\n",
       "</pre>\n"
      ],
      "text/plain": [
       "\u001b[2;36m[03/17/23 20:42:59]\u001b[0m\u001b[2;36m \u001b[0m\u001b[34mINFO    \u001b[0m Starting upload of test/test.txt to                               \u001b]8;id=170361;file:///home/jupyter/MyData/repos/taccjm/src/taccjm/client/TACCSSHClient.py\u001b\\\u001b[2mTACCSSHClient.py\u001b[0m\u001b]8;;\u001b\\\u001b[2m:\u001b[0m\u001b]8;id=976654;file:///home/jupyter/MyData/repos/taccjm/src/taccjm/client/TACCSSHClient.py#540\u001b\\\u001b[2m540\u001b[0m\u001b]8;;\u001b\\\n",
       "\u001b[2;36m                    \u001b[0m         \u001b[35m/scratch/06307/clos21/\u001b[0m\u001b[95mtest.txt\u001b[0m                                    \u001b[2m                    \u001b[0m\n"
      ]
     },
     "metadata": {},
     "output_type": "display_data"
    },
    {
     "data": {
      "text/html": [
       "<pre style=\"white-space:pre;overflow-x:auto;line-height:normal;font-family:Menlo,'DejaVu Sans Mono',consolas,'Courier New',monospace\"><span style=\"color: #7fbfbf; text-decoration-color: #7fbfbf\">                    </span><span style=\"color: #000080; text-decoration-color: #000080\">INFO    </span> Opening sftp connection                                           <a href=\"file:///home/jupyter/MyData/repos/taccjm/src/taccjm/client/TACCSSHClient.py\" target=\"_blank\"><span style=\"color: #7f7f7f; text-decoration-color: #7f7f7f\">TACCSSHClient.py</span></a><span style=\"color: #7f7f7f; text-decoration-color: #7f7f7f\">:</span><a href=\"file:///home/jupyter/MyData/repos/taccjm/src/taccjm/client/TACCSSHClient.py#140\" target=\"_blank\"><span style=\"color: #7f7f7f; text-decoration-color: #7f7f7f\">140</span></a>\n",
       "</pre>\n"
      ],
      "text/plain": [
       "\u001b[2;36m                   \u001b[0m\u001b[2;36m \u001b[0m\u001b[34mINFO    \u001b[0m Opening sftp connection                                           \u001b]8;id=205618;file:///home/jupyter/MyData/repos/taccjm/src/taccjm/client/TACCSSHClient.py\u001b\\\u001b[2mTACCSSHClient.py\u001b[0m\u001b]8;;\u001b\\\u001b[2m:\u001b[0m\u001b]8;id=776818;file:///home/jupyter/MyData/repos/taccjm/src/taccjm/client/TACCSSHClient.py#140\u001b\\\u001b[2m140\u001b[0m\u001b]8;;\u001b\\\n"
      ]
     },
     "metadata": {},
     "output_type": "display_data"
    },
    {
     "data": {
      "text/html": [
       "<pre style=\"white-space:pre;overflow-x:auto;line-height:normal;font-family:Menlo,'DejaVu Sans Mono',consolas,'Courier New',monospace\"><span style=\"color: #7fbfbf; text-decoration-color: #7fbfbf\">[03/17/23 20:43:00] </span><span style=\"color: #000080; text-decoration-color: #000080\">INFO    </span> SFTP connection open                                              <a href=\"file:///home/jupyter/MyData/repos/taccjm/src/taccjm/client/TACCSSHClient.py\" target=\"_blank\"><span style=\"color: #7f7f7f; text-decoration-color: #7f7f7f\">TACCSSHClient.py</span></a><span style=\"color: #7f7f7f; text-decoration-color: #7f7f7f\">:</span><a href=\"file:///home/jupyter/MyData/repos/taccjm/src/taccjm/client/TACCSSHClient.py#145\" target=\"_blank\"><span style=\"color: #7f7f7f; text-decoration-color: #7f7f7f\">145</span></a>\n",
       "</pre>\n"
      ],
      "text/plain": [
       "\u001b[2;36m[03/17/23 20:43:00]\u001b[0m\u001b[2;36m \u001b[0m\u001b[34mINFO    \u001b[0m SFTP connection open                                              \u001b]8;id=726348;file:///home/jupyter/MyData/repos/taccjm/src/taccjm/client/TACCSSHClient.py\u001b\\\u001b[2mTACCSSHClient.py\u001b[0m\u001b]8;;\u001b\\\u001b[2m:\u001b[0m\u001b]8;id=350644;file:///home/jupyter/MyData/repos/taccjm/src/taccjm/client/TACCSSHClient.py#145\u001b\\\u001b[2m145\u001b[0m\u001b]8;;\u001b\\\n"
      ]
     },
     "metadata": {},
     "output_type": "display_data"
    },
    {
     "data": {
      "text/html": [
       "<pre style=\"white-space:pre;overflow-x:auto;line-height:normal;font-family:Menlo,'DejaVu Sans Mono',consolas,'Courier New',monospace\"><span style=\"color: #7fbfbf; text-decoration-color: #7fbfbf\">                    </span><span style=\"color: #000080; text-decoration-color: #000080\">INFO    </span> Done uploading test/test.txt to <span style=\"color: #800080; text-decoration-color: #800080\">/scratch/06307/clos21/</span><span style=\"color: #ff00ff; text-decoration-color: #ff00ff\">test.txt</span>    <a href=\"file:///home/jupyter/MyData/repos/taccjm/src/taccjm/client/TACCSSHClient.py\" target=\"_blank\"><span style=\"color: #7f7f7f; text-decoration-color: #7f7f7f\">TACCSSHClient.py</span></a><span style=\"color: #7f7f7f; text-decoration-color: #7f7f7f\">:</span><a href=\"file:///home/jupyter/MyData/repos/taccjm/src/taccjm/client/TACCSSHClient.py#583\" target=\"_blank\"><span style=\"color: #7f7f7f; text-decoration-color: #7f7f7f\">583</span></a>\n",
       "</pre>\n"
      ],
      "text/plain": [
       "\u001b[2;36m                   \u001b[0m\u001b[2;36m \u001b[0m\u001b[34mINFO    \u001b[0m Done uploading test/test.txt to \u001b[35m/scratch/06307/clos21/\u001b[0m\u001b[95mtest.txt\u001b[0m    \u001b]8;id=723575;file:///home/jupyter/MyData/repos/taccjm/src/taccjm/client/TACCSSHClient.py\u001b\\\u001b[2mTACCSSHClient.py\u001b[0m\u001b]8;;\u001b\\\u001b[2m:\u001b[0m\u001b]8;id=320529;file:///home/jupyter/MyData/repos/taccjm/src/taccjm/client/TACCSSHClient.py#583\u001b\\\u001b[2m583\u001b[0m\u001b]8;;\u001b\\\n"
      ]
     },
     "metadata": {},
     "output_type": "display_data"
    }
   ],
   "source": [
    "tsc.upload('test/test.txt', 'test.txt')"
   ]
  },
  {
   "cell_type": "code",
   "execution_count": 44,
   "id": "17a13221-9618-4c90-bbd2-e397c9caa2d8",
   "metadata": {},
   "outputs": [
    {
     "data": {
      "text/html": [
       "<pre style=\"white-space:pre;overflow-x:auto;line-height:normal;font-family:Menlo,'DejaVu Sans Mono',consolas,'Courier New',monospace\"><span style=\"color: #7fbfbf; text-decoration-color: #7fbfbf\">[03/17/23 20:43:04] </span><span style=\"color: #000080; text-decoration-color: #000080\">INFO    </span> Starting download of folder <span style=\"font-weight: bold\">{</span>remote<span style=\"font-weight: bold\">}</span> to <span style=\"font-weight: bold\">{</span>local<span style=\"font-weight: bold\">}</span>                   <a href=\"file:///home/jupyter/MyData/repos/taccjm/src/taccjm/client/TACCSSHClient.py\" target=\"_blank\"><span style=\"color: #7f7f7f; text-decoration-color: #7f7f7f\">TACCSSHClient.py</span></a><span style=\"color: #7f7f7f; text-decoration-color: #7f7f7f\">:</span><a href=\"file:///home/jupyter/MyData/repos/taccjm/src/taccjm/client/TACCSSHClient.py#635\" target=\"_blank\"><span style=\"color: #7f7f7f; text-decoration-color: #7f7f7f\">635</span></a>\n",
       "</pre>\n"
      ],
      "text/plain": [
       "\u001b[2;36m[03/17/23 20:43:04]\u001b[0m\u001b[2;36m \u001b[0m\u001b[34mINFO    \u001b[0m Starting download of folder \u001b[1m{\u001b[0mremote\u001b[1m}\u001b[0m to \u001b[1m{\u001b[0mlocal\u001b[1m}\u001b[0m                   \u001b]8;id=559245;file:///home/jupyter/MyData/repos/taccjm/src/taccjm/client/TACCSSHClient.py\u001b\\\u001b[2mTACCSSHClient.py\u001b[0m\u001b]8;;\u001b\\\u001b[2m:\u001b[0m\u001b]8;id=60021;file:///home/jupyter/MyData/repos/taccjm/src/taccjm/client/TACCSSHClient.py#635\u001b\\\u001b[2m635\u001b[0m\u001b]8;;\u001b\\\n"
      ]
     },
     "metadata": {},
     "output_type": "display_data"
    },
    {
     "data": {
      "text/html": [
       "<pre style=\"white-space:pre;overflow-x:auto;line-height:normal;font-family:Menlo,'DejaVu Sans Mono',consolas,'Courier New',monospace\"><span style=\"color: #7fbfbf; text-decoration-color: #7fbfbf\">                    </span><span style=\"color: #000080; text-decoration-color: #000080\">INFO    </span> Getting info on path <span style=\"font-weight: bold\">{</span>remote<span style=\"font-weight: bold\">}</span>                                     <a href=\"file:///home/jupyter/MyData/repos/taccjm/src/taccjm/client/TACCSSHClient.py\" target=\"_blank\"><span style=\"color: #7f7f7f; text-decoration-color: #7f7f7f\">TACCSSHClient.py</span></a><span style=\"color: #7f7f7f; text-decoration-color: #7f7f7f\">:</span><a href=\"file:///home/jupyter/MyData/repos/taccjm/src/taccjm/client/TACCSSHClient.py#637\" target=\"_blank\"><span style=\"color: #7f7f7f; text-decoration-color: #7f7f7f\">637</span></a>\n",
       "</pre>\n"
      ],
      "text/plain": [
       "\u001b[2;36m                   \u001b[0m\u001b[2;36m \u001b[0m\u001b[34mINFO    \u001b[0m Getting info on path \u001b[1m{\u001b[0mremote\u001b[1m}\u001b[0m                                     \u001b]8;id=522901;file:///home/jupyter/MyData/repos/taccjm/src/taccjm/client/TACCSSHClient.py\u001b\\\u001b[2mTACCSSHClient.py\u001b[0m\u001b]8;;\u001b\\\u001b[2m:\u001b[0m\u001b]8;id=194494;file:///home/jupyter/MyData/repos/taccjm/src/taccjm/client/TACCSSHClient.py#637\u001b\\\u001b[2m637\u001b[0m\u001b]8;;\u001b\\\n"
      ]
     },
     "metadata": {},
     "output_type": "display_data"
    },
    {
     "data": {
      "text/html": [
       "<pre style=\"white-space:pre;overflow-x:auto;line-height:normal;font-family:Menlo,'DejaVu Sans Mono',consolas,'Courier New',monospace\"><span style=\"color: #7fbfbf; text-decoration-color: #7fbfbf\">                    </span><span style=\"color: #000080; text-decoration-color: #000080\">INFO    </span> Opening sftp connection                                           <a href=\"file:///home/jupyter/MyData/repos/taccjm/src/taccjm/client/TACCSSHClient.py\" target=\"_blank\"><span style=\"color: #7f7f7f; text-decoration-color: #7f7f7f\">TACCSSHClient.py</span></a><span style=\"color: #7f7f7f; text-decoration-color: #7f7f7f\">:</span><a href=\"file:///home/jupyter/MyData/repos/taccjm/src/taccjm/client/TACCSSHClient.py#140\" target=\"_blank\"><span style=\"color: #7f7f7f; text-decoration-color: #7f7f7f\">140</span></a>\n",
       "</pre>\n"
      ],
      "text/plain": [
       "\u001b[2;36m                   \u001b[0m\u001b[2;36m \u001b[0m\u001b[34mINFO    \u001b[0m Opening sftp connection                                           \u001b]8;id=621743;file:///home/jupyter/MyData/repos/taccjm/src/taccjm/client/TACCSSHClient.py\u001b\\\u001b[2mTACCSSHClient.py\u001b[0m\u001b]8;;\u001b\\\u001b[2m:\u001b[0m\u001b]8;id=914374;file:///home/jupyter/MyData/repos/taccjm/src/taccjm/client/TACCSSHClient.py#140\u001b\\\u001b[2m140\u001b[0m\u001b]8;;\u001b\\\n"
      ]
     },
     "metadata": {},
     "output_type": "display_data"
    },
    {
     "data": {
      "text/html": [
       "<pre style=\"white-space:pre;overflow-x:auto;line-height:normal;font-family:Menlo,'DejaVu Sans Mono',consolas,'Courier New',monospace\"><span style=\"color: #7fbfbf; text-decoration-color: #7fbfbf\">[03/17/23 20:43:05] </span><span style=\"color: #000080; text-decoration-color: #000080\">INFO    </span> SFTP connection open                                              <a href=\"file:///home/jupyter/MyData/repos/taccjm/src/taccjm/client/TACCSSHClient.py\" target=\"_blank\"><span style=\"color: #7f7f7f; text-decoration-color: #7f7f7f\">TACCSSHClient.py</span></a><span style=\"color: #7f7f7f; text-decoration-color: #7f7f7f\">:</span><a href=\"file:///home/jupyter/MyData/repos/taccjm/src/taccjm/client/TACCSSHClient.py#145\" target=\"_blank\"><span style=\"color: #7f7f7f; text-decoration-color: #7f7f7f\">145</span></a>\n",
       "</pre>\n"
      ],
      "text/plain": [
       "\u001b[2;36m[03/17/23 20:43:05]\u001b[0m\u001b[2;36m \u001b[0m\u001b[34mINFO    \u001b[0m SFTP connection open                                              \u001b]8;id=354548;file:///home/jupyter/MyData/repos/taccjm/src/taccjm/client/TACCSSHClient.py\u001b\\\u001b[2mTACCSSHClient.py\u001b[0m\u001b]8;;\u001b\\\u001b[2m:\u001b[0m\u001b]8;id=71250;file:///home/jupyter/MyData/repos/taccjm/src/taccjm/client/TACCSSHClient.py#145\u001b\\\u001b[2m145\u001b[0m\u001b]8;;\u001b\\\n"
      ]
     },
     "metadata": {},
     "output_type": "display_data"
    },
    {
     "data": {
      "text/html": [
       "<pre style=\"white-space:pre;overflow-x:auto;line-height:normal;font-family:Menlo,'DejaVu Sans Mono',consolas,'Courier New',monospace\"><span style=\"color: #7fbfbf; text-decoration-color: #7fbfbf\">                    </span><span style=\"color: #000080; text-decoration-color: #000080\">INFO    </span> Download of <span style=\"color: #800080; text-decoration-color: #800080\">/scratch/06307/clos21/</span><span style=\"color: #ff00ff; text-decoration-color: #ff00ff\">test.txt</span> to                     <a href=\"file:///home/jupyter/MyData/repos/taccjm/src/taccjm/client/TACCSSHClient.py\" target=\"_blank\"><span style=\"color: #7f7f7f; text-decoration-color: #7f7f7f\">TACCSSHClient.py</span></a><span style=\"color: #7f7f7f; text-decoration-color: #7f7f7f\">:</span><a href=\"file:///home/jupyter/MyData/repos/taccjm/src/taccjm/client/TACCSSHClient.py#650\" target=\"_blank\"><span style=\"color: #7f7f7f; text-decoration-color: #7f7f7f\">650</span></a>\n",
       "<span style=\"color: #7fbfbf; text-decoration-color: #7fbfbf\">                    </span>         <span style=\"color: #800080; text-decoration-color: #800080\">/home/jupyter/MyData/repos/taccjm/notebooks/</span><span style=\"color: #ff00ff; text-decoration-color: #ff00ff\">foo.txt</span>               <span style=\"color: #7f7f7f; text-decoration-color: #7f7f7f\">                    </span>\n",
       "</pre>\n"
      ],
      "text/plain": [
       "\u001b[2;36m                   \u001b[0m\u001b[2;36m \u001b[0m\u001b[34mINFO    \u001b[0m Download of \u001b[35m/scratch/06307/clos21/\u001b[0m\u001b[95mtest.txt\u001b[0m to                     \u001b]8;id=953328;file:///home/jupyter/MyData/repos/taccjm/src/taccjm/client/TACCSSHClient.py\u001b\\\u001b[2mTACCSSHClient.py\u001b[0m\u001b]8;;\u001b\\\u001b[2m:\u001b[0m\u001b]8;id=630937;file:///home/jupyter/MyData/repos/taccjm/src/taccjm/client/TACCSSHClient.py#650\u001b\\\u001b[2m650\u001b[0m\u001b]8;;\u001b\\\n",
       "\u001b[2;36m                    \u001b[0m         \u001b[35m/home/jupyter/MyData/repos/taccjm/notebooks/\u001b[0m\u001b[95mfoo.txt\u001b[0m               \u001b[2m                    \u001b[0m\n"
      ]
     },
     "metadata": {},
     "output_type": "display_data"
    },
    {
     "data": {
      "text/html": [
       "<pre style=\"white-space:pre;overflow-x:auto;line-height:normal;font-family:Menlo,'DejaVu Sans Mono',consolas,'Courier New',monospace\"><span style=\"color: #7fbfbf; text-decoration-color: #7fbfbf\">                    </span><span style=\"color: #000080; text-decoration-color: #000080\">INFO    </span> Download complete of <span style=\"color: #800080; text-decoration-color: #800080\">/scratch/06307/clos21/</span><span style=\"color: #ff00ff; text-decoration-color: #ff00ff\">test.txt</span> to            <a href=\"file:///home/jupyter/MyData/repos/taccjm/src/taccjm/client/TACCSSHClient.py\" target=\"_blank\"><span style=\"color: #7f7f7f; text-decoration-color: #7f7f7f\">TACCSSHClient.py</span></a><span style=\"color: #7f7f7f; text-decoration-color: #7f7f7f\">:</span><a href=\"file:///home/jupyter/MyData/repos/taccjm/src/taccjm/client/TACCSSHClient.py#670\" target=\"_blank\"><span style=\"color: #7f7f7f; text-decoration-color: #7f7f7f\">670</span></a>\n",
       "<span style=\"color: #7fbfbf; text-decoration-color: #7fbfbf\">                    </span>         <span style=\"color: #800080; text-decoration-color: #800080\">/home/jupyter/MyData/repos/taccjm/notebooks/</span><span style=\"color: #ff00ff; text-decoration-color: #ff00ff\">foo.txt</span>               <span style=\"color: #7f7f7f; text-decoration-color: #7f7f7f\">                    </span>\n",
       "</pre>\n"
      ],
      "text/plain": [
       "\u001b[2;36m                   \u001b[0m\u001b[2;36m \u001b[0m\u001b[34mINFO    \u001b[0m Download complete of \u001b[35m/scratch/06307/clos21/\u001b[0m\u001b[95mtest.txt\u001b[0m to            \u001b]8;id=666699;file:///home/jupyter/MyData/repos/taccjm/src/taccjm/client/TACCSSHClient.py\u001b\\\u001b[2mTACCSSHClient.py\u001b[0m\u001b]8;;\u001b\\\u001b[2m:\u001b[0m\u001b]8;id=20013;file:///home/jupyter/MyData/repos/taccjm/src/taccjm/client/TACCSSHClient.py#670\u001b\\\u001b[2m670\u001b[0m\u001b]8;;\u001b\\\n",
       "\u001b[2;36m                    \u001b[0m         \u001b[35m/home/jupyter/MyData/repos/taccjm/notebooks/\u001b[0m\u001b[95mfoo.txt\u001b[0m               \u001b[2m                    \u001b[0m\n"
      ]
     },
     "metadata": {},
     "output_type": "display_data"
    }
   ],
   "source": [
    "tsc.download(\"test.txt\", \"foo.txt\")"
   ]
  },
  {
   "cell_type": "code",
   "execution_count": 45,
   "id": "a120806d-c806-4d35-aa97-5bd9e1ff5bed",
   "metadata": {},
   "outputs": [
    {
     "name": "stdout",
     "output_type": "stream",
     "text": [
      "Hello World!\n"
     ]
    }
   ],
   "source": [
    "!cat foo.txt"
   ]
  },
  {
   "cell_type": "markdown",
   "id": "723edf85-641c-481c-b211-9334217ea72a",
   "metadata": {},
   "source": [
    "#### Folders\n",
    "\n",
    "Now lets try with a directory. \n",
    "Note when uploading we specify the name of the directory to place on the file system.\n",
    "When downloading, we specify the name of the directory to place the directory we are downloading into.\n",
    "This means that if we want to download the directory into the current directory we specify '.'."
   ]
  },
  {
   "cell_type": "code",
   "execution_count": 50,
   "id": "c4b77841-1011-423a-9e13-623c147a0858",
   "metadata": {},
   "outputs": [
    {
     "data": {
      "text/html": [
       "<pre style=\"white-space:pre;overflow-x:auto;line-height:normal;font-family:Menlo,'DejaVu Sans Mono',consolas,'Courier New',monospace\"><span style=\"color: #7fbfbf; text-decoration-color: #7fbfbf\">[03/17/23 20:47:09] </span><span style=\"color: #000080; text-decoration-color: #000080\">INFO    </span> Starting upload of test to <span style=\"color: #800080; text-decoration-color: #800080\">/scratch/06307/clos21/</span><span style=\"color: #ff00ff; text-decoration-color: #ff00ff\">test_dir</span>         <a href=\"file:///home/jupyter/MyData/repos/taccjm/src/taccjm/client/TACCSSHClient.py\" target=\"_blank\"><span style=\"color: #7f7f7f; text-decoration-color: #7f7f7f\">TACCSSHClient.py</span></a><span style=\"color: #7f7f7f; text-decoration-color: #7f7f7f\">:</span><a href=\"file:///home/jupyter/MyData/repos/taccjm/src/taccjm/client/TACCSSHClient.py#540\" target=\"_blank\"><span style=\"color: #7f7f7f; text-decoration-color: #7f7f7f\">540</span></a>\n",
       "</pre>\n"
      ],
      "text/plain": [
       "\u001b[2;36m[03/17/23 20:47:09]\u001b[0m\u001b[2;36m \u001b[0m\u001b[34mINFO    \u001b[0m Starting upload of test to \u001b[35m/scratch/06307/clos21/\u001b[0m\u001b[95mtest_dir\u001b[0m         \u001b]8;id=491682;file:///home/jupyter/MyData/repos/taccjm/src/taccjm/client/TACCSSHClient.py\u001b\\\u001b[2mTACCSSHClient.py\u001b[0m\u001b]8;;\u001b\\\u001b[2m:\u001b[0m\u001b]8;id=880735;file:///home/jupyter/MyData/repos/taccjm/src/taccjm/client/TACCSSHClient.py#540\u001b\\\u001b[2m540\u001b[0m\u001b]8;;\u001b\\\n"
      ]
     },
     "metadata": {},
     "output_type": "display_data"
    },
    {
     "data": {
      "text/html": [
       "<pre style=\"white-space:pre;overflow-x:auto;line-height:normal;font-family:Menlo,'DejaVu Sans Mono',consolas,'Courier New',monospace\"><span style=\"color: #7fbfbf; text-decoration-color: #7fbfbf\">                    </span><span style=\"color: #000080; text-decoration-color: #000080\">INFO    </span> Packing local tar file .test-vi9m8qd3.taccjm.tar                  <a href=\"file:///home/jupyter/MyData/repos/taccjm/src/taccjm/client/TACCSSHClient.py\" target=\"_blank\"><span style=\"color: #7f7f7f; text-decoration-color: #7f7f7f\">TACCSSHClient.py</span></a><span style=\"color: #7f7f7f; text-decoration-color: #7f7f7f\">:</span><a href=\"file:///home/jupyter/MyData/repos/taccjm/src/taccjm/client/TACCSSHClient.py#551\" target=\"_blank\"><span style=\"color: #7f7f7f; text-decoration-color: #7f7f7f\">551</span></a>\n",
       "</pre>\n"
      ],
      "text/plain": [
       "\u001b[2;36m                   \u001b[0m\u001b[2;36m \u001b[0m\u001b[34mINFO    \u001b[0m Packing local tar file .test-vi9m8qd3.taccjm.tar                  \u001b]8;id=255984;file:///home/jupyter/MyData/repos/taccjm/src/taccjm/client/TACCSSHClient.py\u001b\\\u001b[2mTACCSSHClient.py\u001b[0m\u001b]8;;\u001b\\\u001b[2m:\u001b[0m\u001b]8;id=676653;file:///home/jupyter/MyData/repos/taccjm/src/taccjm/client/TACCSSHClient.py#551\u001b\\\u001b[2m551\u001b[0m\u001b]8;;\u001b\\\n"
      ]
     },
     "metadata": {},
     "output_type": "display_data"
    },
    {
     "data": {
      "text/html": [
       "<pre style=\"white-space:pre;overflow-x:auto;line-height:normal;font-family:Menlo,'DejaVu Sans Mono',consolas,'Courier New',monospace\"><span style=\"color: #7fbfbf; text-decoration-color: #7fbfbf\">                    </span><span style=\"color: #000080; text-decoration-color: #000080\">INFO    </span> Succesfully compressed file                                       <a href=\"file:///home/jupyter/MyData/repos/taccjm/src/taccjm/client/TACCSSHClient.py\" target=\"_blank\"><span style=\"color: #7f7f7f; text-decoration-color: #7f7f7f\">TACCSSHClient.py</span></a><span style=\"color: #7f7f7f; text-decoration-color: #7f7f7f\">:</span><a href=\"file:///home/jupyter/MyData/repos/taccjm/src/taccjm/client/TACCSSHClient.py#558\" target=\"_blank\"><span style=\"color: #7f7f7f; text-decoration-color: #7f7f7f\">558</span></a>\n",
       "</pre>\n"
      ],
      "text/plain": [
       "\u001b[2;36m                   \u001b[0m\u001b[2;36m \u001b[0m\u001b[34mINFO    \u001b[0m Succesfully compressed file                                       \u001b]8;id=450592;file:///home/jupyter/MyData/repos/taccjm/src/taccjm/client/TACCSSHClient.py\u001b\\\u001b[2mTACCSSHClient.py\u001b[0m\u001b]8;;\u001b\\\u001b[2m:\u001b[0m\u001b]8;id=896947;file:///home/jupyter/MyData/repos/taccjm/src/taccjm/client/TACCSSHClient.py#558\u001b\\\u001b[2m558\u001b[0m\u001b]8;;\u001b\\\n"
      ]
     },
     "metadata": {},
     "output_type": "display_data"
    },
    {
     "data": {
      "text/html": [
       "<pre style=\"white-space:pre;overflow-x:auto;line-height:normal;font-family:Menlo,'DejaVu Sans Mono',consolas,'Courier New',monospace\"><span style=\"color: #7fbfbf; text-decoration-color: #7fbfbf\">                    </span><span style=\"color: #000080; text-decoration-color: #000080\">INFO    </span> Opening sftp connection                                           <a href=\"file:///home/jupyter/MyData/repos/taccjm/src/taccjm/client/TACCSSHClient.py\" target=\"_blank\"><span style=\"color: #7f7f7f; text-decoration-color: #7f7f7f\">TACCSSHClient.py</span></a><span style=\"color: #7f7f7f; text-decoration-color: #7f7f7f\">:</span><a href=\"file:///home/jupyter/MyData/repos/taccjm/src/taccjm/client/TACCSSHClient.py#140\" target=\"_blank\"><span style=\"color: #7f7f7f; text-decoration-color: #7f7f7f\">140</span></a>\n",
       "</pre>\n"
      ],
      "text/plain": [
       "\u001b[2;36m                   \u001b[0m\u001b[2;36m \u001b[0m\u001b[34mINFO    \u001b[0m Opening sftp connection                                           \u001b]8;id=53402;file:///home/jupyter/MyData/repos/taccjm/src/taccjm/client/TACCSSHClient.py\u001b\\\u001b[2mTACCSSHClient.py\u001b[0m\u001b]8;;\u001b\\\u001b[2m:\u001b[0m\u001b]8;id=988942;file:///home/jupyter/MyData/repos/taccjm/src/taccjm/client/TACCSSHClient.py#140\u001b\\\u001b[2m140\u001b[0m\u001b]8;;\u001b\\\n"
      ]
     },
     "metadata": {},
     "output_type": "display_data"
    },
    {
     "data": {
      "text/html": [
       "<pre style=\"white-space:pre;overflow-x:auto;line-height:normal;font-family:Menlo,'DejaVu Sans Mono',consolas,'Courier New',monospace\"><span style=\"color: #7fbfbf; text-decoration-color: #7fbfbf\">[03/17/23 20:47:10] </span><span style=\"color: #000080; text-decoration-color: #000080\">INFO    </span> SFTP connection open                                              <a href=\"file:///home/jupyter/MyData/repos/taccjm/src/taccjm/client/TACCSSHClient.py\" target=\"_blank\"><span style=\"color: #7f7f7f; text-decoration-color: #7f7f7f\">TACCSSHClient.py</span></a><span style=\"color: #7f7f7f; text-decoration-color: #7f7f7f\">:</span><a href=\"file:///home/jupyter/MyData/repos/taccjm/src/taccjm/client/TACCSSHClient.py#145\" target=\"_blank\"><span style=\"color: #7f7f7f; text-decoration-color: #7f7f7f\">145</span></a>\n",
       "</pre>\n"
      ],
      "text/plain": [
       "\u001b[2;36m[03/17/23 20:47:10]\u001b[0m\u001b[2;36m \u001b[0m\u001b[34mINFO    \u001b[0m SFTP connection open                                              \u001b]8;id=445591;file:///home/jupyter/MyData/repos/taccjm/src/taccjm/client/TACCSSHClient.py\u001b\\\u001b[2mTACCSSHClient.py\u001b[0m\u001b]8;;\u001b\\\u001b[2m:\u001b[0m\u001b]8;id=735819;file:///home/jupyter/MyData/repos/taccjm/src/taccjm/client/TACCSSHClient.py#145\u001b\\\u001b[2m145\u001b[0m\u001b]8;;\u001b\\\n"
      ]
     },
     "metadata": {},
     "output_type": "display_data"
    },
    {
     "data": {
      "text/html": [
       "<pre style=\"white-space:pre;overflow-x:auto;line-height:normal;font-family:Menlo,'DejaVu Sans Mono',consolas,'Courier New',monospace\"><span style=\"color: #7fbfbf; text-decoration-color: #7fbfbf\">                    </span><span style=\"color: #000080; text-decoration-color: #000080\">INFO    </span> un-tarring the file remotely                                      <a href=\"file:///home/jupyter/MyData/repos/taccjm/src/taccjm/client/TACCSSHClient.py\" target=\"_blank\"><span style=\"color: #7f7f7f; text-decoration-color: #7f7f7f\">TACCSSHClient.py</span></a><span style=\"color: #7f7f7f; text-decoration-color: #7f7f7f\">:</span><a href=\"file:///home/jupyter/MyData/repos/taccjm/src/taccjm/client/TACCSSHClient.py#195\" target=\"_blank\"><span style=\"color: #7f7f7f; text-decoration-color: #7f7f7f\">195</span></a>\n",
       "</pre>\n"
      ],
      "text/plain": [
       "\u001b[2;36m                   \u001b[0m\u001b[2;36m \u001b[0m\u001b[34mINFO    \u001b[0m un-tarring the file remotely                                      \u001b]8;id=713241;file:///home/jupyter/MyData/repos/taccjm/src/taccjm/client/TACCSSHClient.py\u001b\\\u001b[2mTACCSSHClient.py\u001b[0m\u001b]8;;\u001b\\\u001b[2m:\u001b[0m\u001b]8;id=423426;file:///home/jupyter/MyData/repos/taccjm/src/taccjm/client/TACCSSHClient.py#195\u001b\\\u001b[2m195\u001b[0m\u001b]8;;\u001b\\\n"
      ]
     },
     "metadata": {},
     "output_type": "display_data"
    },
    {
     "data": {
      "text/html": [
       "<pre style=\"white-space:pre;overflow-x:auto;line-height:normal;font-family:Menlo,'DejaVu Sans Mono',consolas,'Courier New',monospace\"><span style=\"color: #7fbfbf; text-decoration-color: #7fbfbf\">                    </span><span style=\"color: #000080; text-decoration-color: #000080\">INFO    </span> Opening channel to execute command                                <a href=\"file:///home/jupyter/MyData/repos/taccjm/src/taccjm/client/TACCSSHClient.py\" target=\"_blank\"><span style=\"color: #7f7f7f; text-decoration-color: #7f7f7f\">TACCSSHClient.py</span></a><span style=\"color: #7f7f7f; text-decoration-color: #7f7f7f\">:</span><a href=\"file:///home/jupyter/MyData/repos/taccjm/src/taccjm/client/TACCSSHClient.py#271\" target=\"_blank\"><span style=\"color: #7f7f7f; text-decoration-color: #7f7f7f\">271</span></a>\n",
       "</pre>\n"
      ],
      "text/plain": [
       "\u001b[2;36m                   \u001b[0m\u001b[2;36m \u001b[0m\u001b[34mINFO    \u001b[0m Opening channel to execute command                                \u001b]8;id=140357;file:///home/jupyter/MyData/repos/taccjm/src/taccjm/client/TACCSSHClient.py\u001b\\\u001b[2mTACCSSHClient.py\u001b[0m\u001b]8;;\u001b\\\u001b[2m:\u001b[0m\u001b]8;id=183411;file:///home/jupyter/MyData/repos/taccjm/src/taccjm/client/TACCSSHClient.py#271\u001b\\\u001b[2m271\u001b[0m\u001b]8;;\u001b\\\n"
      ]
     },
     "metadata": {},
     "output_type": "display_data"
    },
    {
     "data": {
      "text/html": [
       "<pre style=\"white-space:pre;overflow-x:auto;line-height:normal;font-family:Menlo,'DejaVu Sans Mono',consolas,'Courier New',monospace\"><span style=\"color: #7fbfbf; text-decoration-color: #7fbfbf\">                    </span><span style=\"color: #000080; text-decoration-color: #000080\">INFO    </span> Submitting command                                                <a href=\"file:///home/jupyter/MyData/repos/taccjm/src/taccjm/client/TACCSSHClient.py\" target=\"_blank\"><span style=\"color: #7f7f7f; text-decoration-color: #7f7f7f\">TACCSSHClient.py</span></a><span style=\"color: #7f7f7f; text-decoration-color: #7f7f7f\">:</span><a href=\"file:///home/jupyter/MyData/repos/taccjm/src/taccjm/client/TACCSSHClient.py#282\" target=\"_blank\"><span style=\"color: #7f7f7f; text-decoration-color: #7f7f7f\">282</span></a>\n",
       "</pre>\n"
      ],
      "text/plain": [
       "\u001b[2;36m                   \u001b[0m\u001b[2;36m \u001b[0m\u001b[34mINFO    \u001b[0m Submitting command                                                \u001b]8;id=847297;file:///home/jupyter/MyData/repos/taccjm/src/taccjm/client/TACCSSHClient.py\u001b\\\u001b[2mTACCSSHClient.py\u001b[0m\u001b]8;;\u001b\\\u001b[2m:\u001b[0m\u001b]8;id=463910;file:///home/jupyter/MyData/repos/taccjm/src/taccjm/client/TACCSSHClient.py#282\u001b\\\u001b[2m282\u001b[0m\u001b]8;;\u001b\\\n"
      ]
     },
     "metadata": {},
     "output_type": "display_data"
    },
    {
     "data": {
      "text/html": [
       "<pre style=\"white-space:pre;overflow-x:auto;line-height:normal;font-family:Menlo,'DejaVu Sans Mono',consolas,'Courier New',monospace\"><span style=\"color: #7fbfbf; text-decoration-color: #7fbfbf\">                    </span><span style=\"color: #000080; text-decoration-color: #000080\">INFO    </span> Adding command to commands list                                   <a href=\"file:///home/jupyter/MyData/repos/taccjm/src/taccjm/client/TACCSSHClient.py\" target=\"_blank\"><span style=\"color: #7f7f7f; text-decoration-color: #7f7f7f\">TACCSSHClient.py</span></a><span style=\"color: #7f7f7f; text-decoration-color: #7f7f7f\">:</span><a href=\"file:///home/jupyter/MyData/repos/taccjm/src/taccjm/client/TACCSSHClient.py#302\" target=\"_blank\"><span style=\"color: #7f7f7f; text-decoration-color: #7f7f7f\">302</span></a>\n",
       "</pre>\n"
      ],
      "text/plain": [
       "\u001b[2;36m                   \u001b[0m\u001b[2;36m \u001b[0m\u001b[34mINFO    \u001b[0m Adding command to commands list                                   \u001b]8;id=435192;file:///home/jupyter/MyData/repos/taccjm/src/taccjm/client/TACCSSHClient.py\u001b\\\u001b[2mTACCSSHClient.py\u001b[0m\u001b]8;;\u001b\\\u001b[2m:\u001b[0m\u001b]8;id=243208;file:///home/jupyter/MyData/repos/taccjm/src/taccjm/client/TACCSSHClient.py#302\u001b\\\u001b[2m302\u001b[0m\u001b]8;;\u001b\\\n"
      ]
     },
     "metadata": {},
     "output_type": "display_data"
    },
    {
     "data": {
      "text/html": [
       "<pre style=\"white-space:pre;overflow-x:auto;line-height:normal;font-family:Menlo,'DejaVu Sans Mono',consolas,'Courier New',monospace\"><span style=\"color: #7fbfbf; text-decoration-color: #7fbfbf\">                    </span><span style=\"color: #000080; text-decoration-color: #000080\">INFO    </span> Waiting for command to finish                                     <a href=\"file:///home/jupyter/MyData/repos/taccjm/src/taccjm/client/TACCSSHClient.py\" target=\"_blank\"><span style=\"color: #7f7f7f; text-decoration-color: #7f7f7f\">TACCSSHClient.py</span></a><span style=\"color: #7f7f7f; text-decoration-color: #7f7f7f\">:</span><a href=\"file:///home/jupyter/MyData/repos/taccjm/src/taccjm/client/TACCSSHClient.py#306\" target=\"_blank\"><span style=\"color: #7f7f7f; text-decoration-color: #7f7f7f\">306</span></a>\n",
       "</pre>\n"
      ],
      "text/plain": [
       "\u001b[2;36m                   \u001b[0m\u001b[2;36m \u001b[0m\u001b[34mINFO    \u001b[0m Waiting for command to finish                                     \u001b]8;id=184776;file:///home/jupyter/MyData/repos/taccjm/src/taccjm/client/TACCSSHClient.py\u001b\\\u001b[2mTACCSSHClient.py\u001b[0m\u001b]8;;\u001b\\\u001b[2m:\u001b[0m\u001b]8;id=728740;file:///home/jupyter/MyData/repos/taccjm/src/taccjm/client/TACCSSHClient.py#306\u001b\\\u001b[2m306\u001b[0m\u001b]8;;\u001b\\\n"
      ]
     },
     "metadata": {},
     "output_type": "display_data"
    },
    {
     "data": {
      "text/html": [
       "<pre style=\"white-space:pre;overflow-x:auto;line-height:normal;font-family:Menlo,'DejaVu Sans Mono',consolas,'Courier New',monospace\"><span style=\"color: #7fbfbf; text-decoration-color: #7fbfbf\">[03/17/23 20:47:12] </span><span style=\"color: #000080; text-decoration-color: #000080\">INFO    </span> Done uploading test to <span style=\"color: #800080; text-decoration-color: #800080\">/scratch/06307/clos21/</span><span style=\"color: #ff00ff; text-decoration-color: #ff00ff\">test_dir</span>             <a href=\"file:///home/jupyter/MyData/repos/taccjm/src/taccjm/client/TACCSSHClient.py\" target=\"_blank\"><span style=\"color: #7f7f7f; text-decoration-color: #7f7f7f\">TACCSSHClient.py</span></a><span style=\"color: #7f7f7f; text-decoration-color: #7f7f7f\">:</span><a href=\"file:///home/jupyter/MyData/repos/taccjm/src/taccjm/client/TACCSSHClient.py#583\" target=\"_blank\"><span style=\"color: #7f7f7f; text-decoration-color: #7f7f7f\">583</span></a>\n",
       "</pre>\n"
      ],
      "text/plain": [
       "\u001b[2;36m[03/17/23 20:47:12]\u001b[0m\u001b[2;36m \u001b[0m\u001b[34mINFO    \u001b[0m Done uploading test to \u001b[35m/scratch/06307/clos21/\u001b[0m\u001b[95mtest_dir\u001b[0m             \u001b]8;id=275737;file:///home/jupyter/MyData/repos/taccjm/src/taccjm/client/TACCSSHClient.py\u001b\\\u001b[2mTACCSSHClient.py\u001b[0m\u001b]8;;\u001b\\\u001b[2m:\u001b[0m\u001b]8;id=120756;file:///home/jupyter/MyData/repos/taccjm/src/taccjm/client/TACCSSHClient.py#583\u001b\\\u001b[2m583\u001b[0m\u001b]8;;\u001b\\\n"
      ]
     },
     "metadata": {},
     "output_type": "display_data"
    }
   ],
   "source": [
    "tsc.upload('test', 'test_dir')"
   ]
  },
  {
   "cell_type": "code",
   "execution_count": 51,
   "id": "cffdb572-abc4-4217-900f-be26de5f6b1f",
   "metadata": {},
   "outputs": [
    {
     "data": {
      "text/html": [
       "<pre style=\"white-space:pre;overflow-x:auto;line-height:normal;font-family:Menlo,'DejaVu Sans Mono',consolas,'Courier New',monospace\"><span style=\"color: #7fbfbf; text-decoration-color: #7fbfbf\">                    </span><span style=\"color: #000080; text-decoration-color: #000080\">INFO    </span> list_files operation started on <span style=\"color: #800080; text-decoration-color: #800080\">/scratch/06307/clos21/</span><span style=\"color: #ff00ff; text-decoration-color: #ff00ff\">test_dir</span>    <a href=\"file:///home/jupyter/MyData/repos/taccjm/src/taccjm/client/TACCSSHClient.py\" target=\"_blank\"><span style=\"color: #7f7f7f; text-decoration-color: #7f7f7f\">TACCSSHClient.py</span></a><span style=\"color: #7f7f7f; text-decoration-color: #7f7f7f\">:</span><a href=\"file:///home/jupyter/MyData/repos/taccjm/src/taccjm/client/TACCSSHClient.py#461\" target=\"_blank\"><span style=\"color: #7f7f7f; text-decoration-color: #7f7f7f\">461</span></a>\n",
       "</pre>\n"
      ],
      "text/plain": [
       "\u001b[2;36m                   \u001b[0m\u001b[2;36m \u001b[0m\u001b[34mINFO    \u001b[0m list_files operation started on \u001b[35m/scratch/06307/clos21/\u001b[0m\u001b[95mtest_dir\u001b[0m    \u001b]8;id=734298;file:///home/jupyter/MyData/repos/taccjm/src/taccjm/client/TACCSSHClient.py\u001b\\\u001b[2mTACCSSHClient.py\u001b[0m\u001b]8;;\u001b\\\u001b[2m:\u001b[0m\u001b]8;id=460993;file:///home/jupyter/MyData/repos/taccjm/src/taccjm/client/TACCSSHClient.py#461\u001b\\\u001b[2m461\u001b[0m\u001b]8;;\u001b\\\n"
      ]
     },
     "metadata": {},
     "output_type": "display_data"
    },
    {
     "data": {
      "text/html": [
       "<pre style=\"white-space:pre;overflow-x:auto;line-height:normal;font-family:Menlo,'DejaVu Sans Mono',consolas,'Courier New',monospace\"><span style=\"color: #7fbfbf; text-decoration-color: #7fbfbf\">                    </span><span style=\"color: #000080; text-decoration-color: #000080\">INFO    </span> Opening sftp connection                                           <a href=\"file:///home/jupyter/MyData/repos/taccjm/src/taccjm/client/TACCSSHClient.py\" target=\"_blank\"><span style=\"color: #7f7f7f; text-decoration-color: #7f7f7f\">TACCSSHClient.py</span></a><span style=\"color: #7f7f7f; text-decoration-color: #7f7f7f\">:</span><a href=\"file:///home/jupyter/MyData/repos/taccjm/src/taccjm/client/TACCSSHClient.py#140\" target=\"_blank\"><span style=\"color: #7f7f7f; text-decoration-color: #7f7f7f\">140</span></a>\n",
       "</pre>\n"
      ],
      "text/plain": [
       "\u001b[2;36m                   \u001b[0m\u001b[2;36m \u001b[0m\u001b[34mINFO    \u001b[0m Opening sftp connection                                           \u001b]8;id=967933;file:///home/jupyter/MyData/repos/taccjm/src/taccjm/client/TACCSSHClient.py\u001b\\\u001b[2mTACCSSHClient.py\u001b[0m\u001b]8;;\u001b\\\u001b[2m:\u001b[0m\u001b]8;id=665611;file:///home/jupyter/MyData/repos/taccjm/src/taccjm/client/TACCSSHClient.py#140\u001b\\\u001b[2m140\u001b[0m\u001b]8;;\u001b\\\n"
      ]
     },
     "metadata": {},
     "output_type": "display_data"
    },
    {
     "data": {
      "text/html": [
       "<pre style=\"white-space:pre;overflow-x:auto;line-height:normal;font-family:Menlo,'DejaVu Sans Mono',consolas,'Courier New',monospace\"><span style=\"color: #7fbfbf; text-decoration-color: #7fbfbf\">[03/17/23 20:47:14] </span><span style=\"color: #000080; text-decoration-color: #000080\">INFO    </span> SFTP connection open                                              <a href=\"file:///home/jupyter/MyData/repos/taccjm/src/taccjm/client/TACCSSHClient.py\" target=\"_blank\"><span style=\"color: #7f7f7f; text-decoration-color: #7f7f7f\">TACCSSHClient.py</span></a><span style=\"color: #7f7f7f; text-decoration-color: #7f7f7f\">:</span><a href=\"file:///home/jupyter/MyData/repos/taccjm/src/taccjm/client/TACCSSHClient.py#145\" target=\"_blank\"><span style=\"color: #7f7f7f; text-decoration-color: #7f7f7f\">145</span></a>\n",
       "</pre>\n"
      ],
      "text/plain": [
       "\u001b[2;36m[03/17/23 20:47:14]\u001b[0m\u001b[2;36m \u001b[0m\u001b[34mINFO    \u001b[0m SFTP connection open                                              \u001b]8;id=746943;file:///home/jupyter/MyData/repos/taccjm/src/taccjm/client/TACCSSHClient.py\u001b\\\u001b[2mTACCSSHClient.py\u001b[0m\u001b]8;;\u001b\\\u001b[2m:\u001b[0m\u001b]8;id=429965;file:///home/jupyter/MyData/repos/taccjm/src/taccjm/client/TACCSSHClient.py#145\u001b\\\u001b[2m145\u001b[0m\u001b]8;;\u001b\\\n"
      ]
     },
     "metadata": {},
     "output_type": "display_data"
    },
    {
     "data": {
      "text/html": [
       "<pre style=\"white-space:pre;overflow-x:auto;line-height:normal;font-family:Menlo,'DejaVu Sans Mono',consolas,'Courier New',monospace\"><span style=\"color: #7fbfbf; text-decoration-color: #7fbfbf\">                    </span><span style=\"color: #000080; text-decoration-color: #000080\">INFO    </span> Getting file info <span style=\"color: #800080; text-decoration-color: #800080\">/scratch/06307/clos21/</span><span style=\"color: #ff00ff; text-decoration-color: #ff00ff\">test_dir</span>                  <a href=\"file:///home/jupyter/MyData/repos/taccjm/src/taccjm/client/TACCSSHClient.py\" target=\"_blank\"><span style=\"color: #7f7f7f; text-decoration-color: #7f7f7f\">TACCSSHClient.py</span></a><span style=\"color: #7f7f7f; text-decoration-color: #7f7f7f\">:</span><a href=\"file:///home/jupyter/MyData/repos/taccjm/src/taccjm/client/TACCSSHClient.py#463\" target=\"_blank\"><span style=\"color: #7f7f7f; text-decoration-color: #7f7f7f\">463</span></a>\n",
       "</pre>\n"
      ],
      "text/plain": [
       "\u001b[2;36m                   \u001b[0m\u001b[2;36m \u001b[0m\u001b[34mINFO    \u001b[0m Getting file info \u001b[35m/scratch/06307/clos21/\u001b[0m\u001b[95mtest_dir\u001b[0m                  \u001b]8;id=998234;file:///home/jupyter/MyData/repos/taccjm/src/taccjm/client/TACCSSHClient.py\u001b\\\u001b[2mTACCSSHClient.py\u001b[0m\u001b]8;;\u001b\\\u001b[2m:\u001b[0m\u001b]8;id=997795;file:///home/jupyter/MyData/repos/taccjm/src/taccjm/client/TACCSSHClient.py#463\u001b\\\u001b[2m463\u001b[0m\u001b]8;;\u001b\\\n"
      ]
     },
     "metadata": {},
     "output_type": "display_data"
    },
    {
     "data": {
      "text/html": [
       "<pre style=\"white-space:pre;overflow-x:auto;line-height:normal;font-family:Menlo,'DejaVu Sans Mono',consolas,'Courier New',monospace\"><span style=\"color: #7fbfbf; text-decoration-color: #7fbfbf\">                    </span><span style=\"color: #000080; text-decoration-color: #000080\">INFO    </span> Directory found, getting <span style=\"color: #008080; text-decoration-color: #008080; font-weight: bold\">1</span> files                                  <a href=\"file:///home/jupyter/MyData/repos/taccjm/src/taccjm/client/TACCSSHClient.py\" target=\"_blank\"><span style=\"color: #7f7f7f; text-decoration-color: #7f7f7f\">TACCSSHClient.py</span></a><span style=\"color: #7f7f7f; text-decoration-color: #7f7f7f\">:</span><a href=\"file:///home/jupyter/MyData/repos/taccjm/src/taccjm/client/TACCSSHClient.py#469\" target=\"_blank\"><span style=\"color: #7f7f7f; text-decoration-color: #7f7f7f\">469</span></a>\n",
       "</pre>\n"
      ],
      "text/plain": [
       "\u001b[2;36m                   \u001b[0m\u001b[2;36m \u001b[0m\u001b[34mINFO    \u001b[0m Directory found, getting \u001b[1;36m1\u001b[0m files                                  \u001b]8;id=723957;file:///home/jupyter/MyData/repos/taccjm/src/taccjm/client/TACCSSHClient.py\u001b\\\u001b[2mTACCSSHClient.py\u001b[0m\u001b]8;;\u001b\\\u001b[2m:\u001b[0m\u001b]8;id=946784;file:///home/jupyter/MyData/repos/taccjm/src/taccjm/client/TACCSSHClient.py#469\u001b\\\u001b[2m469\u001b[0m\u001b]8;;\u001b\\\n"
      ]
     },
     "metadata": {},
     "output_type": "display_data"
    },
    {
     "data": {
      "text/plain": [
       "[{'filename': 'test.txt',\n",
       "  'st_atime': 1679086032,\n",
       "  'st_gid': 800588,\n",
       "  'st_mode': 33152,\n",
       "  'st_mtime': 1679085778,\n",
       "  'st_size': 13,\n",
       "  'st_uid': 856065,\n",
       "  'ls_str': b'-rw-------   1 856065   800588         13 17 Mar 20:42 test.txt'}]"
      ]
     },
     "execution_count": 51,
     "metadata": {},
     "output_type": "execute_result"
    }
   ],
   "source": [
    "tsc.list_files('test_dir', recurse=True)"
   ]
  },
  {
   "cell_type": "code",
   "execution_count": 52,
   "id": "6e97501a-a6d1-49a1-89da-41ba1b70fb62",
   "metadata": {},
   "outputs": [
    {
     "data": {
      "text/html": [
       "<pre style=\"white-space:pre;overflow-x:auto;line-height:normal;font-family:Menlo,'DejaVu Sans Mono',consolas,'Courier New',monospace\"><span style=\"color: #7fbfbf; text-decoration-color: #7fbfbf\">                    </span><span style=\"color: #000080; text-decoration-color: #000080\">INFO    </span> Starting download of folder <span style=\"font-weight: bold\">{</span>remote<span style=\"font-weight: bold\">}</span> to <span style=\"font-weight: bold\">{</span>local<span style=\"font-weight: bold\">}</span>                   <a href=\"file:///home/jupyter/MyData/repos/taccjm/src/taccjm/client/TACCSSHClient.py\" target=\"_blank\"><span style=\"color: #7f7f7f; text-decoration-color: #7f7f7f\">TACCSSHClient.py</span></a><span style=\"color: #7f7f7f; text-decoration-color: #7f7f7f\">:</span><a href=\"file:///home/jupyter/MyData/repos/taccjm/src/taccjm/client/TACCSSHClient.py#635\" target=\"_blank\"><span style=\"color: #7f7f7f; text-decoration-color: #7f7f7f\">635</span></a>\n",
       "</pre>\n"
      ],
      "text/plain": [
       "\u001b[2;36m                   \u001b[0m\u001b[2;36m \u001b[0m\u001b[34mINFO    \u001b[0m Starting download of folder \u001b[1m{\u001b[0mremote\u001b[1m}\u001b[0m to \u001b[1m{\u001b[0mlocal\u001b[1m}\u001b[0m                   \u001b]8;id=973787;file:///home/jupyter/MyData/repos/taccjm/src/taccjm/client/TACCSSHClient.py\u001b\\\u001b[2mTACCSSHClient.py\u001b[0m\u001b]8;;\u001b\\\u001b[2m:\u001b[0m\u001b]8;id=722553;file:///home/jupyter/MyData/repos/taccjm/src/taccjm/client/TACCSSHClient.py#635\u001b\\\u001b[2m635\u001b[0m\u001b]8;;\u001b\\\n"
      ]
     },
     "metadata": {},
     "output_type": "display_data"
    },
    {
     "data": {
      "text/html": [
       "<pre style=\"white-space:pre;overflow-x:auto;line-height:normal;font-family:Menlo,'DejaVu Sans Mono',consolas,'Courier New',monospace\"><span style=\"color: #7fbfbf; text-decoration-color: #7fbfbf\">                    </span><span style=\"color: #000080; text-decoration-color: #000080\">INFO    </span> Getting info on path <span style=\"font-weight: bold\">{</span>remote<span style=\"font-weight: bold\">}</span>                                     <a href=\"file:///home/jupyter/MyData/repos/taccjm/src/taccjm/client/TACCSSHClient.py\" target=\"_blank\"><span style=\"color: #7f7f7f; text-decoration-color: #7f7f7f\">TACCSSHClient.py</span></a><span style=\"color: #7f7f7f; text-decoration-color: #7f7f7f\">:</span><a href=\"file:///home/jupyter/MyData/repos/taccjm/src/taccjm/client/TACCSSHClient.py#637\" target=\"_blank\"><span style=\"color: #7f7f7f; text-decoration-color: #7f7f7f\">637</span></a>\n",
       "</pre>\n"
      ],
      "text/plain": [
       "\u001b[2;36m                   \u001b[0m\u001b[2;36m \u001b[0m\u001b[34mINFO    \u001b[0m Getting info on path \u001b[1m{\u001b[0mremote\u001b[1m}\u001b[0m                                     \u001b]8;id=513072;file:///home/jupyter/MyData/repos/taccjm/src/taccjm/client/TACCSSHClient.py\u001b\\\u001b[2mTACCSSHClient.py\u001b[0m\u001b]8;;\u001b\\\u001b[2m:\u001b[0m\u001b]8;id=381556;file:///home/jupyter/MyData/repos/taccjm/src/taccjm/client/TACCSSHClient.py#637\u001b\\\u001b[2m637\u001b[0m\u001b]8;;\u001b\\\n"
      ]
     },
     "metadata": {},
     "output_type": "display_data"
    },
    {
     "data": {
      "text/html": [
       "<pre style=\"white-space:pre;overflow-x:auto;line-height:normal;font-family:Menlo,'DejaVu Sans Mono',consolas,'Courier New',monospace\"><span style=\"color: #7fbfbf; text-decoration-color: #7fbfbf\">                    </span><span style=\"color: #000080; text-decoration-color: #000080\">INFO    </span> Opening sftp connection                                           <a href=\"file:///home/jupyter/MyData/repos/taccjm/src/taccjm/client/TACCSSHClient.py\" target=\"_blank\"><span style=\"color: #7f7f7f; text-decoration-color: #7f7f7f\">TACCSSHClient.py</span></a><span style=\"color: #7f7f7f; text-decoration-color: #7f7f7f\">:</span><a href=\"file:///home/jupyter/MyData/repos/taccjm/src/taccjm/client/TACCSSHClient.py#140\" target=\"_blank\"><span style=\"color: #7f7f7f; text-decoration-color: #7f7f7f\">140</span></a>\n",
       "</pre>\n"
      ],
      "text/plain": [
       "\u001b[2;36m                   \u001b[0m\u001b[2;36m \u001b[0m\u001b[34mINFO    \u001b[0m Opening sftp connection                                           \u001b]8;id=553053;file:///home/jupyter/MyData/repos/taccjm/src/taccjm/client/TACCSSHClient.py\u001b\\\u001b[2mTACCSSHClient.py\u001b[0m\u001b]8;;\u001b\\\u001b[2m:\u001b[0m\u001b]8;id=26789;file:///home/jupyter/MyData/repos/taccjm/src/taccjm/client/TACCSSHClient.py#140\u001b\\\u001b[2m140\u001b[0m\u001b]8;;\u001b\\\n"
      ]
     },
     "metadata": {},
     "output_type": "display_data"
    },
    {
     "data": {
      "text/html": [
       "<pre style=\"white-space:pre;overflow-x:auto;line-height:normal;font-family:Menlo,'DejaVu Sans Mono',consolas,'Courier New',monospace\"><span style=\"color: #7fbfbf; text-decoration-color: #7fbfbf\">[03/17/23 20:47:15] </span><span style=\"color: #000080; text-decoration-color: #000080\">INFO    </span> SFTP connection open                                              <a href=\"file:///home/jupyter/MyData/repos/taccjm/src/taccjm/client/TACCSSHClient.py\" target=\"_blank\"><span style=\"color: #7f7f7f; text-decoration-color: #7f7f7f\">TACCSSHClient.py</span></a><span style=\"color: #7f7f7f; text-decoration-color: #7f7f7f\">:</span><a href=\"file:///home/jupyter/MyData/repos/taccjm/src/taccjm/client/TACCSSHClient.py#145\" target=\"_blank\"><span style=\"color: #7f7f7f; text-decoration-color: #7f7f7f\">145</span></a>\n",
       "</pre>\n"
      ],
      "text/plain": [
       "\u001b[2;36m[03/17/23 20:47:15]\u001b[0m\u001b[2;36m \u001b[0m\u001b[34mINFO    \u001b[0m SFTP connection open                                              \u001b]8;id=475924;file:///home/jupyter/MyData/repos/taccjm/src/taccjm/client/TACCSSHClient.py\u001b\\\u001b[2mTACCSSHClient.py\u001b[0m\u001b]8;;\u001b\\\u001b[2m:\u001b[0m\u001b]8;id=392115;file:///home/jupyter/MyData/repos/taccjm/src/taccjm/client/TACCSSHClient.py#145\u001b\\\u001b[2m145\u001b[0m\u001b]8;;\u001b\\\n"
      ]
     },
     "metadata": {},
     "output_type": "display_data"
    },
    {
     "data": {
      "text/html": [
       "<pre style=\"white-space:pre;overflow-x:auto;line-height:normal;font-family:Menlo,'DejaVu Sans Mono',consolas,'Courier New',monospace\"><span style=\"color: #7fbfbf; text-decoration-color: #7fbfbf\">                    </span><span style=\"color: #000080; text-decoration-color: #000080\">INFO    </span> Opening channel to execute command                                <a href=\"file:///home/jupyter/MyData/repos/taccjm/src/taccjm/client/TACCSSHClient.py\" target=\"_blank\"><span style=\"color: #7f7f7f; text-decoration-color: #7f7f7f\">TACCSSHClient.py</span></a><span style=\"color: #7f7f7f; text-decoration-color: #7f7f7f\">:</span><a href=\"file:///home/jupyter/MyData/repos/taccjm/src/taccjm/client/TACCSSHClient.py#271\" target=\"_blank\"><span style=\"color: #7f7f7f; text-decoration-color: #7f7f7f\">271</span></a>\n",
       "</pre>\n"
      ],
      "text/plain": [
       "\u001b[2;36m                   \u001b[0m\u001b[2;36m \u001b[0m\u001b[34mINFO    \u001b[0m Opening channel to execute command                                \u001b]8;id=445530;file:///home/jupyter/MyData/repos/taccjm/src/taccjm/client/TACCSSHClient.py\u001b\\\u001b[2mTACCSSHClient.py\u001b[0m\u001b]8;;\u001b\\\u001b[2m:\u001b[0m\u001b]8;id=617251;file:///home/jupyter/MyData/repos/taccjm/src/taccjm/client/TACCSSHClient.py#271\u001b\\\u001b[2m271\u001b[0m\u001b]8;;\u001b\\\n"
      ]
     },
     "metadata": {},
     "output_type": "display_data"
    },
    {
     "data": {
      "text/html": [
       "<pre style=\"white-space:pre;overflow-x:auto;line-height:normal;font-family:Menlo,'DejaVu Sans Mono',consolas,'Courier New',monospace\"><span style=\"color: #7fbfbf; text-decoration-color: #7fbfbf\">                    </span><span style=\"color: #000080; text-decoration-color: #000080\">INFO    </span> Submitting command                                                <a href=\"file:///home/jupyter/MyData/repos/taccjm/src/taccjm/client/TACCSSHClient.py\" target=\"_blank\"><span style=\"color: #7f7f7f; text-decoration-color: #7f7f7f\">TACCSSHClient.py</span></a><span style=\"color: #7f7f7f; text-decoration-color: #7f7f7f\">:</span><a href=\"file:///home/jupyter/MyData/repos/taccjm/src/taccjm/client/TACCSSHClient.py#282\" target=\"_blank\"><span style=\"color: #7f7f7f; text-decoration-color: #7f7f7f\">282</span></a>\n",
       "</pre>\n"
      ],
      "text/plain": [
       "\u001b[2;36m                   \u001b[0m\u001b[2;36m \u001b[0m\u001b[34mINFO    \u001b[0m Submitting command                                                \u001b]8;id=48349;file:///home/jupyter/MyData/repos/taccjm/src/taccjm/client/TACCSSHClient.py\u001b\\\u001b[2mTACCSSHClient.py\u001b[0m\u001b]8;;\u001b\\\u001b[2m:\u001b[0m\u001b]8;id=195398;file:///home/jupyter/MyData/repos/taccjm/src/taccjm/client/TACCSSHClient.py#282\u001b\\\u001b[2m282\u001b[0m\u001b]8;;\u001b\\\n"
      ]
     },
     "metadata": {},
     "output_type": "display_data"
    },
    {
     "data": {
      "text/html": [
       "<pre style=\"white-space:pre;overflow-x:auto;line-height:normal;font-family:Menlo,'DejaVu Sans Mono',consolas,'Courier New',monospace\"><span style=\"color: #7fbfbf; text-decoration-color: #7fbfbf\">                    </span><span style=\"color: #000080; text-decoration-color: #000080\">INFO    </span> Adding command to commands list                                   <a href=\"file:///home/jupyter/MyData/repos/taccjm/src/taccjm/client/TACCSSHClient.py\" target=\"_blank\"><span style=\"color: #7f7f7f; text-decoration-color: #7f7f7f\">TACCSSHClient.py</span></a><span style=\"color: #7f7f7f; text-decoration-color: #7f7f7f\">:</span><a href=\"file:///home/jupyter/MyData/repos/taccjm/src/taccjm/client/TACCSSHClient.py#302\" target=\"_blank\"><span style=\"color: #7f7f7f; text-decoration-color: #7f7f7f\">302</span></a>\n",
       "</pre>\n"
      ],
      "text/plain": [
       "\u001b[2;36m                   \u001b[0m\u001b[2;36m \u001b[0m\u001b[34mINFO    \u001b[0m Adding command to commands list                                   \u001b]8;id=196553;file:///home/jupyter/MyData/repos/taccjm/src/taccjm/client/TACCSSHClient.py\u001b\\\u001b[2mTACCSSHClient.py\u001b[0m\u001b]8;;\u001b\\\u001b[2m:\u001b[0m\u001b]8;id=596876;file:///home/jupyter/MyData/repos/taccjm/src/taccjm/client/TACCSSHClient.py#302\u001b\\\u001b[2m302\u001b[0m\u001b]8;;\u001b\\\n"
      ]
     },
     "metadata": {},
     "output_type": "display_data"
    },
    {
     "data": {
      "text/html": [
       "<pre style=\"white-space:pre;overflow-x:auto;line-height:normal;font-family:Menlo,'DejaVu Sans Mono',consolas,'Courier New',monospace\"><span style=\"color: #7fbfbf; text-decoration-color: #7fbfbf\">                    </span><span style=\"color: #000080; text-decoration-color: #000080\">INFO    </span> Waiting for command to finish                                     <a href=\"file:///home/jupyter/MyData/repos/taccjm/src/taccjm/client/TACCSSHClient.py\" target=\"_blank\"><span style=\"color: #7f7f7f; text-decoration-color: #7f7f7f\">TACCSSHClient.py</span></a><span style=\"color: #7f7f7f; text-decoration-color: #7f7f7f\">:</span><a href=\"file:///home/jupyter/MyData/repos/taccjm/src/taccjm/client/TACCSSHClient.py#306\" target=\"_blank\"><span style=\"color: #7f7f7f; text-decoration-color: #7f7f7f\">306</span></a>\n",
       "</pre>\n"
      ],
      "text/plain": [
       "\u001b[2;36m                   \u001b[0m\u001b[2;36m \u001b[0m\u001b[34mINFO    \u001b[0m Waiting for command to finish                                     \u001b]8;id=893771;file:///home/jupyter/MyData/repos/taccjm/src/taccjm/client/TACCSSHClient.py\u001b\\\u001b[2mTACCSSHClient.py\u001b[0m\u001b]8;;\u001b\\\u001b[2m:\u001b[0m\u001b]8;id=635030;file:///home/jupyter/MyData/repos/taccjm/src/taccjm/client/TACCSSHClient.py#306\u001b\\\u001b[2m306\u001b[0m\u001b]8;;\u001b\\\n"
      ]
     },
     "metadata": {},
     "output_type": "display_data"
    },
    {
     "data": {
      "text/html": [
       "<pre style=\"white-space:pre;overflow-x:auto;line-height:normal;font-family:Menlo,'DejaVu Sans Mono',consolas,'Courier New',monospace\"><span style=\"color: #7fbfbf; text-decoration-color: #7fbfbf\">[03/17/23 20:47:17] </span><span style=\"color: #000080; text-decoration-color: #000080\">INFO    </span> Download of <span style=\"color: #800080; text-decoration-color: #800080\">/scratch/06307/clos21/</span><span style=\"color: #ff00ff; text-decoration-color: #ff00ff\">.test_dir.tar.gz</span> to             <a href=\"file:///home/jupyter/MyData/repos/taccjm/src/taccjm/client/TACCSSHClient.py\" target=\"_blank\"><span style=\"color: #7f7f7f; text-decoration-color: #7f7f7f\">TACCSSHClient.py</span></a><span style=\"color: #7f7f7f; text-decoration-color: #7f7f7f\">:</span><a href=\"file:///home/jupyter/MyData/repos/taccjm/src/taccjm/client/TACCSSHClient.py#650\" target=\"_blank\"><span style=\"color: #7f7f7f; text-decoration-color: #7f7f7f\">650</span></a>\n",
       "<span style=\"color: #7fbfbf; text-decoration-color: #7fbfbf\">                    </span>         <span style=\"color: #800080; text-decoration-color: #800080\">/home/jupyter/MyData/repos/taccjm/</span><span style=\"color: #ff00ff; text-decoration-color: #ff00ff\">notebooks.tar.gz</span>                <span style=\"color: #7f7f7f; text-decoration-color: #7f7f7f\">                    </span>\n",
       "</pre>\n"
      ],
      "text/plain": [
       "\u001b[2;36m[03/17/23 20:47:17]\u001b[0m\u001b[2;36m \u001b[0m\u001b[34mINFO    \u001b[0m Download of \u001b[35m/scratch/06307/clos21/\u001b[0m\u001b[95m.test_dir.tar.gz\u001b[0m to             \u001b]8;id=973826;file:///home/jupyter/MyData/repos/taccjm/src/taccjm/client/TACCSSHClient.py\u001b\\\u001b[2mTACCSSHClient.py\u001b[0m\u001b]8;;\u001b\\\u001b[2m:\u001b[0m\u001b]8;id=908699;file:///home/jupyter/MyData/repos/taccjm/src/taccjm/client/TACCSSHClient.py#650\u001b\\\u001b[2m650\u001b[0m\u001b]8;;\u001b\\\n",
       "\u001b[2;36m                    \u001b[0m         \u001b[35m/home/jupyter/MyData/repos/taccjm/\u001b[0m\u001b[95mnotebooks.tar.gz\u001b[0m                \u001b[2m                    \u001b[0m\n"
      ]
     },
     "metadata": {},
     "output_type": "display_data"
    },
    {
     "data": {
      "text/html": [
       "<pre style=\"white-space:pre;overflow-x:auto;line-height:normal;font-family:Menlo,'DejaVu Sans Mono',consolas,'Courier New',monospace\"><span style=\"color: #7fbfbf; text-decoration-color: #7fbfbf\">                    </span><span style=\"color: #000080; text-decoration-color: #000080\">INFO    </span> Opening channel to execute command                                <a href=\"file:///home/jupyter/MyData/repos/taccjm/src/taccjm/client/TACCSSHClient.py\" target=\"_blank\"><span style=\"color: #7f7f7f; text-decoration-color: #7f7f7f\">TACCSSHClient.py</span></a><span style=\"color: #7f7f7f; text-decoration-color: #7f7f7f\">:</span><a href=\"file:///home/jupyter/MyData/repos/taccjm/src/taccjm/client/TACCSSHClient.py#271\" target=\"_blank\"><span style=\"color: #7f7f7f; text-decoration-color: #7f7f7f\">271</span></a>\n",
       "</pre>\n"
      ],
      "text/plain": [
       "\u001b[2;36m                   \u001b[0m\u001b[2;36m \u001b[0m\u001b[34mINFO    \u001b[0m Opening channel to execute command                                \u001b]8;id=356420;file:///home/jupyter/MyData/repos/taccjm/src/taccjm/client/TACCSSHClient.py\u001b\\\u001b[2mTACCSSHClient.py\u001b[0m\u001b]8;;\u001b\\\u001b[2m:\u001b[0m\u001b]8;id=948819;file:///home/jupyter/MyData/repos/taccjm/src/taccjm/client/TACCSSHClient.py#271\u001b\\\u001b[2m271\u001b[0m\u001b]8;;\u001b\\\n"
      ]
     },
     "metadata": {},
     "output_type": "display_data"
    },
    {
     "data": {
      "text/html": [
       "<pre style=\"white-space:pre;overflow-x:auto;line-height:normal;font-family:Menlo,'DejaVu Sans Mono',consolas,'Courier New',monospace\"><span style=\"color: #7fbfbf; text-decoration-color: #7fbfbf\">                    </span><span style=\"color: #000080; text-decoration-color: #000080\">INFO    </span> Submitting command                                                <a href=\"file:///home/jupyter/MyData/repos/taccjm/src/taccjm/client/TACCSSHClient.py\" target=\"_blank\"><span style=\"color: #7f7f7f; text-decoration-color: #7f7f7f\">TACCSSHClient.py</span></a><span style=\"color: #7f7f7f; text-decoration-color: #7f7f7f\">:</span><a href=\"file:///home/jupyter/MyData/repos/taccjm/src/taccjm/client/TACCSSHClient.py#282\" target=\"_blank\"><span style=\"color: #7f7f7f; text-decoration-color: #7f7f7f\">282</span></a>\n",
       "</pre>\n"
      ],
      "text/plain": [
       "\u001b[2;36m                   \u001b[0m\u001b[2;36m \u001b[0m\u001b[34mINFO    \u001b[0m Submitting command                                                \u001b]8;id=350686;file:///home/jupyter/MyData/repos/taccjm/src/taccjm/client/TACCSSHClient.py\u001b\\\u001b[2mTACCSSHClient.py\u001b[0m\u001b]8;;\u001b\\\u001b[2m:\u001b[0m\u001b]8;id=455199;file:///home/jupyter/MyData/repos/taccjm/src/taccjm/client/TACCSSHClient.py#282\u001b\\\u001b[2m282\u001b[0m\u001b]8;;\u001b\\\n"
      ]
     },
     "metadata": {},
     "output_type": "display_data"
    },
    {
     "data": {
      "text/html": [
       "<pre style=\"white-space:pre;overflow-x:auto;line-height:normal;font-family:Menlo,'DejaVu Sans Mono',consolas,'Courier New',monospace\"><span style=\"color: #7fbfbf; text-decoration-color: #7fbfbf\">                    </span><span style=\"color: #000080; text-decoration-color: #000080\">INFO    </span> Adding command to commands list                                   <a href=\"file:///home/jupyter/MyData/repos/taccjm/src/taccjm/client/TACCSSHClient.py\" target=\"_blank\"><span style=\"color: #7f7f7f; text-decoration-color: #7f7f7f\">TACCSSHClient.py</span></a><span style=\"color: #7f7f7f; text-decoration-color: #7f7f7f\">:</span><a href=\"file:///home/jupyter/MyData/repos/taccjm/src/taccjm/client/TACCSSHClient.py#302\" target=\"_blank\"><span style=\"color: #7f7f7f; text-decoration-color: #7f7f7f\">302</span></a>\n",
       "</pre>\n"
      ],
      "text/plain": [
       "\u001b[2;36m                   \u001b[0m\u001b[2;36m \u001b[0m\u001b[34mINFO    \u001b[0m Adding command to commands list                                   \u001b]8;id=527722;file:///home/jupyter/MyData/repos/taccjm/src/taccjm/client/TACCSSHClient.py\u001b\\\u001b[2mTACCSSHClient.py\u001b[0m\u001b]8;;\u001b\\\u001b[2m:\u001b[0m\u001b]8;id=893120;file:///home/jupyter/MyData/repos/taccjm/src/taccjm/client/TACCSSHClient.py#302\u001b\\\u001b[2m302\u001b[0m\u001b]8;;\u001b\\\n"
      ]
     },
     "metadata": {},
     "output_type": "display_data"
    },
    {
     "data": {
      "text/html": [
       "<pre style=\"white-space:pre;overflow-x:auto;line-height:normal;font-family:Menlo,'DejaVu Sans Mono',consolas,'Courier New',monospace\"><span style=\"color: #7fbfbf; text-decoration-color: #7fbfbf\">                    </span><span style=\"color: #000080; text-decoration-color: #000080\">INFO    </span> Waiting for command to finish                                     <a href=\"file:///home/jupyter/MyData/repos/taccjm/src/taccjm/client/TACCSSHClient.py\" target=\"_blank\"><span style=\"color: #7f7f7f; text-decoration-color: #7f7f7f\">TACCSSHClient.py</span></a><span style=\"color: #7f7f7f; text-decoration-color: #7f7f7f\">:</span><a href=\"file:///home/jupyter/MyData/repos/taccjm/src/taccjm/client/TACCSSHClient.py#306\" target=\"_blank\"><span style=\"color: #7f7f7f; text-decoration-color: #7f7f7f\">306</span></a>\n",
       "</pre>\n"
      ],
      "text/plain": [
       "\u001b[2;36m                   \u001b[0m\u001b[2;36m \u001b[0m\u001b[34mINFO    \u001b[0m Waiting for command to finish                                     \u001b]8;id=978128;file:///home/jupyter/MyData/repos/taccjm/src/taccjm/client/TACCSSHClient.py\u001b\\\u001b[2mTACCSSHClient.py\u001b[0m\u001b]8;;\u001b\\\u001b[2m:\u001b[0m\u001b]8;id=26956;file:///home/jupyter/MyData/repos/taccjm/src/taccjm/client/TACCSSHClient.py#306\u001b\\\u001b[2m306\u001b[0m\u001b]8;;\u001b\\\n"
      ]
     },
     "metadata": {},
     "output_type": "display_data"
    },
    {
     "data": {
      "text/html": [
       "<pre style=\"white-space:pre;overflow-x:auto;line-height:normal;font-family:Menlo,'DejaVu Sans Mono',consolas,'Courier New',monospace\"><span style=\"color: #7fbfbf; text-decoration-color: #7fbfbf\">[03/17/23 20:47:19] </span><span style=\"color: #000080; text-decoration-color: #000080\">INFO    </span> Download complete of <span style=\"color: #800080; text-decoration-color: #800080\">/scratch/06307/clos21/</span><span style=\"color: #ff00ff; text-decoration-color: #ff00ff\">test_dir</span> to            <a href=\"file:///home/jupyter/MyData/repos/taccjm/src/taccjm/client/TACCSSHClient.py\" target=\"_blank\"><span style=\"color: #7f7f7f; text-decoration-color: #7f7f7f\">TACCSSHClient.py</span></a><span style=\"color: #7f7f7f; text-decoration-color: #7f7f7f\">:</span><a href=\"file:///home/jupyter/MyData/repos/taccjm/src/taccjm/client/TACCSSHClient.py#670\" target=\"_blank\"><span style=\"color: #7f7f7f; text-decoration-color: #7f7f7f\">670</span></a>\n",
       "<span style=\"color: #7fbfbf; text-decoration-color: #7fbfbf\">                    </span>         <span style=\"color: #800080; text-decoration-color: #800080\">/home/jupyter/MyData/repos/taccjm/</span><span style=\"color: #ff00ff; text-decoration-color: #ff00ff\">notebooks</span>                       <span style=\"color: #7f7f7f; text-decoration-color: #7f7f7f\">                    </span>\n",
       "</pre>\n"
      ],
      "text/plain": [
       "\u001b[2;36m[03/17/23 20:47:19]\u001b[0m\u001b[2;36m \u001b[0m\u001b[34mINFO    \u001b[0m Download complete of \u001b[35m/scratch/06307/clos21/\u001b[0m\u001b[95mtest_dir\u001b[0m to            \u001b]8;id=748196;file:///home/jupyter/MyData/repos/taccjm/src/taccjm/client/TACCSSHClient.py\u001b\\\u001b[2mTACCSSHClient.py\u001b[0m\u001b]8;;\u001b\\\u001b[2m:\u001b[0m\u001b]8;id=949844;file:///home/jupyter/MyData/repos/taccjm/src/taccjm/client/TACCSSHClient.py#670\u001b\\\u001b[2m670\u001b[0m\u001b]8;;\u001b\\\n",
       "\u001b[2;36m                    \u001b[0m         \u001b[35m/home/jupyter/MyData/repos/taccjm/\u001b[0m\u001b[95mnotebooks\u001b[0m                       \u001b[2m                    \u001b[0m\n"
      ]
     },
     "metadata": {},
     "output_type": "display_data"
    }
   ],
   "source": [
    "tsc.download(\"test_dir\", \".\")"
   ]
  },
  {
   "cell_type": "code",
   "execution_count": 53,
   "id": "4f686462-3128-4034-9f0f-b30525ed6eb6",
   "metadata": {},
   "outputs": [
    {
     "name": "stdout",
     "output_type": "stream",
     "text": [
      "Hello World!\n"
     ]
    }
   ],
   "source": [
    "!cat test_dir/test.txt"
   ]
  },
  {
   "cell_type": "markdown",
   "id": "4869a615-b525-4864-8170-378e8bf98486",
   "metadata": {},
   "source": [
    "### `write()`/`read()`\n",
    "\n",
    "The TACCSSHClient class also supports functionality for opening file streams to read/write directly from/to TACC servers.\n",
    "Once again, note that paths are relative to a user's scratch directory unless otherwise specified."
   ]
  },
  {
   "cell_type": "code",
   "execution_count": 54,
   "id": "aa0a84e8-5782-4011-9dc1-066d0f0bed20",
   "metadata": {},
   "outputs": [
    {
     "data": {
      "text/html": [
       "<pre style=\"white-space:pre;overflow-x:auto;line-height:normal;font-family:Menlo,'DejaVu Sans Mono',consolas,'Courier New',monospace\"><span style=\"color: #7fbfbf; text-decoration-color: #7fbfbf\">[03/17/23 20:49:33] </span><span style=\"color: #000080; text-decoration-color: #000080\">INFO    </span> Writing to <span style=\"color: #800080; text-decoration-color: #800080\">/scratch/06307/clos21/</span><span style=\"color: #ff00ff; text-decoration-color: #ff00ff\">test2.txt</span>                        <a href=\"file:///home/jupyter/MyData/repos/taccjm/src/taccjm/client/TACCSSHClient.py\" target=\"_blank\"><span style=\"color: #7f7f7f; text-decoration-color: #7f7f7f\">TACCSSHClient.py</span></a><span style=\"color: #7f7f7f; text-decoration-color: #7f7f7f\">:</span><a href=\"file:///home/jupyter/MyData/repos/taccjm/src/taccjm/client/TACCSSHClient.py#704\" target=\"_blank\"><span style=\"color: #7f7f7f; text-decoration-color: #7f7f7f\">704</span></a>\n",
       "</pre>\n"
      ],
      "text/plain": [
       "\u001b[2;36m[03/17/23 20:49:33]\u001b[0m\u001b[2;36m \u001b[0m\u001b[34mINFO    \u001b[0m Writing to \u001b[35m/scratch/06307/clos21/\u001b[0m\u001b[95mtest2.txt\u001b[0m                        \u001b]8;id=909719;file:///home/jupyter/MyData/repos/taccjm/src/taccjm/client/TACCSSHClient.py\u001b\\\u001b[2mTACCSSHClient.py\u001b[0m\u001b]8;;\u001b\\\u001b[2m:\u001b[0m\u001b]8;id=586341;file:///home/jupyter/MyData/repos/taccjm/src/taccjm/client/TACCSSHClient.py#704\u001b\\\u001b[2m704\u001b[0m\u001b]8;;\u001b\\\n"
      ]
     },
     "metadata": {},
     "output_type": "display_data"
    }
   ],
   "source": [
    "tsc.write(\"hello world!\\n\", \"test2.txt\")"
   ]
  },
  {
   "cell_type": "code",
   "execution_count": 55,
   "id": "b9a3f115-9bae-454b-b15f-130957d01519",
   "metadata": {},
   "outputs": [
    {
     "data": {
      "text/html": [
       "<pre style=\"white-space:pre;overflow-x:auto;line-height:normal;font-family:Menlo,'DejaVu Sans Mono',consolas,'Courier New',monospace\"><span style=\"color: #7fbfbf; text-decoration-color: #7fbfbf\">[03/17/23 20:49:37] </span><span style=\"color: #000080; text-decoration-color: #000080\">INFO    </span> list_files operation started on <span style=\"color: #800080; text-decoration-color: #800080\">/scratch/06307/clos21/</span><span style=\"color: #ff00ff; text-decoration-color: #ff00ff\">test2.txt</span>   <a href=\"file:///home/jupyter/MyData/repos/taccjm/src/taccjm/client/TACCSSHClient.py\" target=\"_blank\"><span style=\"color: #7f7f7f; text-decoration-color: #7f7f7f\">TACCSSHClient.py</span></a><span style=\"color: #7f7f7f; text-decoration-color: #7f7f7f\">:</span><a href=\"file:///home/jupyter/MyData/repos/taccjm/src/taccjm/client/TACCSSHClient.py#461\" target=\"_blank\"><span style=\"color: #7f7f7f; text-decoration-color: #7f7f7f\">461</span></a>\n",
       "</pre>\n"
      ],
      "text/plain": [
       "\u001b[2;36m[03/17/23 20:49:37]\u001b[0m\u001b[2;36m \u001b[0m\u001b[34mINFO    \u001b[0m list_files operation started on \u001b[35m/scratch/06307/clos21/\u001b[0m\u001b[95mtest2.txt\u001b[0m   \u001b]8;id=587252;file:///home/jupyter/MyData/repos/taccjm/src/taccjm/client/TACCSSHClient.py\u001b\\\u001b[2mTACCSSHClient.py\u001b[0m\u001b]8;;\u001b\\\u001b[2m:\u001b[0m\u001b]8;id=441148;file:///home/jupyter/MyData/repos/taccjm/src/taccjm/client/TACCSSHClient.py#461\u001b\\\u001b[2m461\u001b[0m\u001b]8;;\u001b\\\n"
      ]
     },
     "metadata": {},
     "output_type": "display_data"
    },
    {
     "data": {
      "text/html": [
       "<pre style=\"white-space:pre;overflow-x:auto;line-height:normal;font-family:Menlo,'DejaVu Sans Mono',consolas,'Courier New',monospace\"><span style=\"color: #7fbfbf; text-decoration-color: #7fbfbf\">                    </span><span style=\"color: #000080; text-decoration-color: #000080\">INFO    </span> Opening sftp connection                                           <a href=\"file:///home/jupyter/MyData/repos/taccjm/src/taccjm/client/TACCSSHClient.py\" target=\"_blank\"><span style=\"color: #7f7f7f; text-decoration-color: #7f7f7f\">TACCSSHClient.py</span></a><span style=\"color: #7f7f7f; text-decoration-color: #7f7f7f\">:</span><a href=\"file:///home/jupyter/MyData/repos/taccjm/src/taccjm/client/TACCSSHClient.py#140\" target=\"_blank\"><span style=\"color: #7f7f7f; text-decoration-color: #7f7f7f\">140</span></a>\n",
       "</pre>\n"
      ],
      "text/plain": [
       "\u001b[2;36m                   \u001b[0m\u001b[2;36m \u001b[0m\u001b[34mINFO    \u001b[0m Opening sftp connection                                           \u001b]8;id=348047;file:///home/jupyter/MyData/repos/taccjm/src/taccjm/client/TACCSSHClient.py\u001b\\\u001b[2mTACCSSHClient.py\u001b[0m\u001b]8;;\u001b\\\u001b[2m:\u001b[0m\u001b]8;id=737552;file:///home/jupyter/MyData/repos/taccjm/src/taccjm/client/TACCSSHClient.py#140\u001b\\\u001b[2m140\u001b[0m\u001b]8;;\u001b\\\n"
      ]
     },
     "metadata": {},
     "output_type": "display_data"
    },
    {
     "data": {
      "text/html": [
       "<pre style=\"white-space:pre;overflow-x:auto;line-height:normal;font-family:Menlo,'DejaVu Sans Mono',consolas,'Courier New',monospace\"><span style=\"color: #7fbfbf; text-decoration-color: #7fbfbf\">[03/17/23 20:49:38] </span><span style=\"color: #000080; text-decoration-color: #000080\">INFO    </span> SFTP connection open                                              <a href=\"file:///home/jupyter/MyData/repos/taccjm/src/taccjm/client/TACCSSHClient.py\" target=\"_blank\"><span style=\"color: #7f7f7f; text-decoration-color: #7f7f7f\">TACCSSHClient.py</span></a><span style=\"color: #7f7f7f; text-decoration-color: #7f7f7f\">:</span><a href=\"file:///home/jupyter/MyData/repos/taccjm/src/taccjm/client/TACCSSHClient.py#145\" target=\"_blank\"><span style=\"color: #7f7f7f; text-decoration-color: #7f7f7f\">145</span></a>\n",
       "</pre>\n"
      ],
      "text/plain": [
       "\u001b[2;36m[03/17/23 20:49:38]\u001b[0m\u001b[2;36m \u001b[0m\u001b[34mINFO    \u001b[0m SFTP connection open                                              \u001b]8;id=650091;file:///home/jupyter/MyData/repos/taccjm/src/taccjm/client/TACCSSHClient.py\u001b\\\u001b[2mTACCSSHClient.py\u001b[0m\u001b]8;;\u001b\\\u001b[2m:\u001b[0m\u001b]8;id=668635;file:///home/jupyter/MyData/repos/taccjm/src/taccjm/client/TACCSSHClient.py#145\u001b\\\u001b[2m145\u001b[0m\u001b]8;;\u001b\\\n"
      ]
     },
     "metadata": {},
     "output_type": "display_data"
    },
    {
     "data": {
      "text/html": [
       "<pre style=\"white-space:pre;overflow-x:auto;line-height:normal;font-family:Menlo,'DejaVu Sans Mono',consolas,'Courier New',monospace\"><span style=\"color: #7fbfbf; text-decoration-color: #7fbfbf\">                    </span><span style=\"color: #000080; text-decoration-color: #000080\">INFO    </span> Getting file info <span style=\"color: #800080; text-decoration-color: #800080\">/scratch/06307/clos21/</span><span style=\"color: #ff00ff; text-decoration-color: #ff00ff\">test2.txt</span>                 <a href=\"file:///home/jupyter/MyData/repos/taccjm/src/taccjm/client/TACCSSHClient.py\" target=\"_blank\"><span style=\"color: #7f7f7f; text-decoration-color: #7f7f7f\">TACCSSHClient.py</span></a><span style=\"color: #7f7f7f; text-decoration-color: #7f7f7f\">:</span><a href=\"file:///home/jupyter/MyData/repos/taccjm/src/taccjm/client/TACCSSHClient.py#463\" target=\"_blank\"><span style=\"color: #7f7f7f; text-decoration-color: #7f7f7f\">463</span></a>\n",
       "</pre>\n"
      ],
      "text/plain": [
       "\u001b[2;36m                   \u001b[0m\u001b[2;36m \u001b[0m\u001b[34mINFO    \u001b[0m Getting file info \u001b[35m/scratch/06307/clos21/\u001b[0m\u001b[95mtest2.txt\u001b[0m                 \u001b]8;id=783222;file:///home/jupyter/MyData/repos/taccjm/src/taccjm/client/TACCSSHClient.py\u001b\\\u001b[2mTACCSSHClient.py\u001b[0m\u001b]8;;\u001b\\\u001b[2m:\u001b[0m\u001b]8;id=716921;file:///home/jupyter/MyData/repos/taccjm/src/taccjm/client/TACCSSHClient.py#463\u001b\\\u001b[2m463\u001b[0m\u001b]8;;\u001b\\\n"
      ]
     },
     "metadata": {},
     "output_type": "display_data"
    },
    {
     "data": {
      "text/html": [
       "<pre style=\"white-space:pre;overflow-x:auto;line-height:normal;font-family:Menlo,'DejaVu Sans Mono',consolas,'Courier New',monospace\"><span style=\"color: #7fbfbf; text-decoration-color: #7fbfbf\">                    </span><span style=\"color: #000080; text-decoration-color: #000080\">INFO    </span> File Found, returing file info                                    <a href=\"file:///home/jupyter/MyData/repos/taccjm/src/taccjm/client/TACCSSHClient.py\" target=\"_blank\"><span style=\"color: #7f7f7f; text-decoration-color: #7f7f7f\">TACCSSHClient.py</span></a><span style=\"color: #7f7f7f; text-decoration-color: #7f7f7f\">:</span><a href=\"file:///home/jupyter/MyData/repos/taccjm/src/taccjm/client/TACCSSHClient.py#477\" target=\"_blank\"><span style=\"color: #7f7f7f; text-decoration-color: #7f7f7f\">477</span></a>\n",
       "</pre>\n"
      ],
      "text/plain": [
       "\u001b[2;36m                   \u001b[0m\u001b[2;36m \u001b[0m\u001b[34mINFO    \u001b[0m File Found, returing file info                                    \u001b]8;id=456066;file:///home/jupyter/MyData/repos/taccjm/src/taccjm/client/TACCSSHClient.py\u001b\\\u001b[2mTACCSSHClient.py\u001b[0m\u001b]8;;\u001b\\\u001b[2m:\u001b[0m\u001b]8;id=587341;file:///home/jupyter/MyData/repos/taccjm/src/taccjm/client/TACCSSHClient.py#477\u001b\\\u001b[2m477\u001b[0m\u001b]8;;\u001b\\\n"
      ]
     },
     "metadata": {},
     "output_type": "display_data"
    },
    {
     "data": {
      "text/plain": [
       "[{'filename': '/scratch/06307/clos21/test2.txt',\n",
       "  'st_atime': 1679086175,\n",
       "  'st_gid': 800588,\n",
       "  'st_mode': 33152,\n",
       "  'st_mtime': 1679086175,\n",
       "  'st_size': 13,\n",
       "  'st_uid': 856065,\n",
       "  'ls_str': b'-rw-------   1 856065   800588         13 17 Mar 20:49 ?'}]"
      ]
     },
     "execution_count": 55,
     "metadata": {},
     "output_type": "execute_result"
    }
   ],
   "source": [
    "tsc.list_files(\"test2.txt\")"
   ]
  },
  {
   "cell_type": "code",
   "execution_count": 56,
   "id": "74b3107c-c685-40aa-8f68-509857c5b800",
   "metadata": {},
   "outputs": [
    {
     "data": {
      "text/html": [
       "<pre style=\"white-space:pre;overflow-x:auto;line-height:normal;font-family:Menlo,'DejaVu Sans Mono',consolas,'Courier New',monospace\"><span style=\"color: #7fbfbf; text-decoration-color: #7fbfbf\">[03/17/23 20:49:40] </span><span style=\"color: #000080; text-decoration-color: #000080\">INFO    </span> Reading text from <span style=\"color: #800080; text-decoration-color: #800080\">/scratch/06307/clos21/</span><span style=\"color: #ff00ff; text-decoration-color: #ff00ff\">test2.txt</span>                 <a href=\"file:///home/jupyter/MyData/repos/taccjm/src/taccjm/client/TACCSSHClient.py\" target=\"_blank\"><span style=\"color: #7f7f7f; text-decoration-color: #7f7f7f\">TACCSSHClient.py</span></a><span style=\"color: #7f7f7f; text-decoration-color: #7f7f7f\">:</span><a href=\"file:///home/jupyter/MyData/repos/taccjm/src/taccjm/client/TACCSSHClient.py#757\" target=\"_blank\"><span style=\"color: #7f7f7f; text-decoration-color: #7f7f7f\">757</span></a>\n",
       "</pre>\n"
      ],
      "text/plain": [
       "\u001b[2;36m[03/17/23 20:49:40]\u001b[0m\u001b[2;36m \u001b[0m\u001b[34mINFO    \u001b[0m Reading text from \u001b[35m/scratch/06307/clos21/\u001b[0m\u001b[95mtest2.txt\u001b[0m                 \u001b]8;id=176647;file:///home/jupyter/MyData/repos/taccjm/src/taccjm/client/TACCSSHClient.py\u001b\\\u001b[2mTACCSSHClient.py\u001b[0m\u001b]8;;\u001b\\\u001b[2m:\u001b[0m\u001b]8;id=389047;file:///home/jupyter/MyData/repos/taccjm/src/taccjm/client/TACCSSHClient.py#757\u001b\\\u001b[2m757\u001b[0m\u001b]8;;\u001b\\\n"
      ]
     },
     "metadata": {},
     "output_type": "display_data"
    },
    {
     "name": "stdout",
     "output_type": "stream",
     "text": [
      "hello world!\n",
      "\n"
     ]
    }
   ],
   "source": [
    "msg = tsc.read(\"test2.txt\")\n",
    "print(msg)"
   ]
  },
  {
   "cell_type": "markdown",
   "id": "35f3f96e-35a2-4531-b454-edd947170ec0",
   "metadata": {},
   "source": [
    "# TACC SSH API - tacc_ssh_api.py\n",
    "\n",
    "The problem with managing individual TACCSSHClient classes is that they may time out after a period of inactivity, requiring you to login again.\n",
    "Instead of using the TACCSSHClient class directly, you can use the `tacc_ssh_api` to spawn a server that manages TACCSSHClient classes for you.\n",
    "These connections are kept alive (for as long as the server isn't restarted), and they can be interacted via methods in `tacc_ssh_api`.\n",
    "The main methods provided to interact with the SSH server are the following:\n",
    "\n",
    "- `list()` - List active ssh session\n",
    "- `get(connection_id: int)` - Get a session an active session\n",
    "- `init(...)` - Initialize an ssh session (by initializing a new TACCSSHClient object)\n",
    "- `exec(connection_id:int, ...)` - Run a command using `execute_command()` on a given session.\n",
    "- `process(connection_id:int, cmnd_id:int ...)` - Process a command run on a given session.\n",
    "- `list_files(connection_id:int, path:str ...)` - List files.\n",
    "- `read(connection_id:int, path:str ...)` - Read a file directly via sftp.\n",
    "- `write(connection_id:int, data, path:str)` - Write a file directly via sftp.\n",
    "- `upload(connection_id:int, local_path:str, remote_path:str)` - Upload files/folders\n",
    "- `download(connection_id:int, data, remote_path:str, local_path:Str)` - Download files/folders"
   ]
  },
  {
   "cell_type": "markdown",
   "id": "b2fccd9e-b67f-47f4-842d-6e36f9ee6aec",
   "metadata": {},
   "source": [
    "## Initializing a sessions"
   ]
  },
  {
   "cell_type": "code",
   "execution_count": 1,
   "id": "f09d9059-bb23-40d3-9606-a2e0f5bb3a2d",
   "metadata": {},
   "outputs": [],
   "source": [
    "from taccjm.client import tacc_ssh_api as tsa"
   ]
  },
  {
   "cell_type": "code",
   "execution_count": 2,
   "id": "c8e2629b-3f81-40ef-a739-8396d47c43b3",
   "metadata": {},
   "outputs": [
    {
     "data": {
      "text/html": [
       "<pre style=\"white-space:pre;overflow-x:auto;line-height:normal;font-family:Menlo,'DejaVu Sans Mono',consolas,'Courier New',monospace\"><span style=\"color: #7fbfbf; text-decoration-color: #7fbfbf\">[03/17/23 22:50:48] </span><span style=\"color: #000080; text-decoration-color: #000080\">INFO    </span> Logger initialized                                                           <a href=\"file:///home/jupyter/MyData/repos/taccjm/src/taccjm/log.py\" target=\"_blank\"><span style=\"color: #7f7f7f; text-decoration-color: #7f7f7f\">log.py</span></a><span style=\"color: #7f7f7f; text-decoration-color: #7f7f7f\">:</span><a href=\"file:///home/jupyter/MyData/repos/taccjm/src/taccjm/log.py#28\" target=\"_blank\"><span style=\"color: #7f7f7f; text-decoration-color: #7f7f7f\">28</span></a>\n",
       "</pre>\n"
      ],
      "text/plain": [
       "\u001b[2;36m[03/17/23 22:50:48]\u001b[0m\u001b[2;36m \u001b[0m\u001b[34mINFO    \u001b[0m Logger initialized                                                           \u001b]8;id=493528;file:///home/jupyter/MyData/repos/taccjm/src/taccjm/log.py\u001b\\\u001b[2mlog.py\u001b[0m\u001b]8;;\u001b\\\u001b[2m:\u001b[0m\u001b]8;id=89442;file:///home/jupyter/MyData/repos/taccjm/src/taccjm/log.py#28\u001b\\\u001b[2m28\u001b[0m\u001b]8;;\u001b\\\n"
      ]
     },
     "metadata": {},
     "output_type": "display_data"
    }
   ],
   "source": [
    "import taccjm.log as log\n",
    "_ = log.enable(level='INFO')"
   ]
  },
  {
   "cell_type": "code",
   "execution_count": 3,
   "id": "22760014-158e-4060-bc2d-9c43ade1ccca",
   "metadata": {},
   "outputs": [
    {
     "data": {
      "text/html": [
       "<pre style=\"white-space:pre;overflow-x:auto;line-height:normal;font-family:Menlo,'DejaVu Sans Mono',consolas,'Courier New',monospace\"><span style=\"color: #7fbfbf; text-decoration-color: #7fbfbf\">[03/17/23 22:50:49] </span><span style=\"color: #000080; text-decoration-color: #000080\">INFO    </span> Found server process at <span style=\"color: #008080; text-decoration-color: #008080; font-weight: bold\">2737046</span>                                    <a href=\"file:///home/jupyter/MyData/repos/taccjm/src/taccjm/client/tacc_ssh_api.py\" target=\"_blank\"><span style=\"color: #7f7f7f; text-decoration-color: #7f7f7f\">tacc_ssh_api.py</span></a><span style=\"color: #7f7f7f; text-decoration-color: #7f7f7f\">:</span><a href=\"file:///home/jupyter/MyData/repos/taccjm/src/taccjm/client/tacc_ssh_api.py#120\" target=\"_blank\"><span style=\"color: #7f7f7f; text-decoration-color: #7f7f7f\">120</span></a>\n",
       "</pre>\n"
      ],
      "text/plain": [
       "\u001b[2;36m[03/17/23 22:50:49]\u001b[0m\u001b[2;36m \u001b[0m\u001b[34mINFO    \u001b[0m Found server process at \u001b[1;36m2737046\u001b[0m                                    \u001b]8;id=307167;file:///home/jupyter/MyData/repos/taccjm/src/taccjm/client/tacc_ssh_api.py\u001b\\\u001b[2mtacc_ssh_api.py\u001b[0m\u001b]8;;\u001b\\\u001b[2m:\u001b[0m\u001b]8;id=987164;file:///home/jupyter/MyData/repos/taccjm/src/taccjm/client/tacc_ssh_api.py#120\u001b\\\u001b[2m120\u001b[0m\u001b]8;;\u001b\\\n"
      ]
     },
     "metadata": {},
     "output_type": "display_data"
    },
    {
     "data": {
      "text/html": [
       "<pre style=\"white-space:pre;overflow-x:auto;line-height:normal;font-family:Menlo,'DejaVu Sans Mono',consolas,'Courier New',monospace\"><span style=\"color: #7fbfbf; text-decoration-color: #7fbfbf\">                    </span><span style=\"color: #000080; text-decoration-color: #000080\">INFO    </span> Found heartbeat process at <span style=\"color: #008080; text-decoration-color: #008080; font-weight: bold\">2737047</span>                                 <a href=\"file:///home/jupyter/MyData/repos/taccjm/src/taccjm/client/tacc_ssh_api.py\" target=\"_blank\"><span style=\"color: #7f7f7f; text-decoration-color: #7f7f7f\">tacc_ssh_api.py</span></a><span style=\"color: #7f7f7f; text-decoration-color: #7f7f7f\">:</span><a href=\"file:///home/jupyter/MyData/repos/taccjm/src/taccjm/client/tacc_ssh_api.py#123\" target=\"_blank\"><span style=\"color: #7f7f7f; text-decoration-color: #7f7f7f\">123</span></a>\n",
       "</pre>\n"
      ],
      "text/plain": [
       "\u001b[2;36m                   \u001b[0m\u001b[2;36m \u001b[0m\u001b[34mINFO    \u001b[0m Found heartbeat process at \u001b[1;36m2737047\u001b[0m                                 \u001b]8;id=123793;file:///home/jupyter/MyData/repos/taccjm/src/taccjm/client/tacc_ssh_api.py\u001b\\\u001b[2mtacc_ssh_api.py\u001b[0m\u001b]8;;\u001b\\\u001b[2m:\u001b[0m\u001b]8;id=283272;file:///home/jupyter/MyData/repos/taccjm/src/taccjm/client/tacc_ssh_api.py#123\u001b\\\u001b[2m123\u001b[0m\u001b]8;;\u001b\\\n"
      ]
     },
     "metadata": {},
     "output_type": "display_data"
    },
    {
     "data": {
      "text/plain": [
       "{'server': psutil.Process(pid=2737046, name='python', status='sleeping', started='22:38:18'),\n",
       " 'hb': psutil.Process(pid=2737047, name='python', status='sleeping', started='22:38:18')}"
      ]
     },
     "execution_count": 3,
     "metadata": {},
     "output_type": "execute_result"
    }
   ],
   "source": [
    "tsa.find_server(start=True, kill=False)"
   ]
  },
  {
   "cell_type": "code",
   "execution_count": 10,
   "id": "f6909430-f530-4eff-b0b4-ebabc70b13fb",
   "metadata": {},
   "outputs": [
    {
     "data": {
      "text/html": [
       "<pre style=\"white-space:pre;overflow-x:auto;line-height:normal;font-family:Menlo,'DejaVu Sans Mono',consolas,'Courier New',monospace\"><span style=\"color: #7fbfbf; text-decoration-color: #7fbfbf\">[03/17/23 22:43:09] </span><span style=\"color: #000080; text-decoration-color: #000080\">INFO    </span> Found server process at <span style=\"color: #008080; text-decoration-color: #008080; font-weight: bold\">2689647</span>                                    <a href=\"file:///home/jupyter/MyData/repos/taccjm/src/taccjm/client/tacc_ssh_api.py\" target=\"_blank\"><span style=\"color: #7f7f7f; text-decoration-color: #7f7f7f\">tacc_ssh_api.py</span></a><span style=\"color: #7f7f7f; text-decoration-color: #7f7f7f\">:</span><a href=\"file:///home/jupyter/MyData/repos/taccjm/src/taccjm/client/tacc_ssh_api.py#120\" target=\"_blank\"><span style=\"color: #7f7f7f; text-decoration-color: #7f7f7f\">120</span></a>\n",
       "</pre>\n"
      ],
      "text/plain": [
       "\u001b[2;36m[03/17/23 22:43:09]\u001b[0m\u001b[2;36m \u001b[0m\u001b[34mINFO    \u001b[0m Found server process at \u001b[1;36m2689647\u001b[0m                                    \u001b]8;id=716520;file:///home/jupyter/MyData/repos/taccjm/src/taccjm/client/tacc_ssh_api.py\u001b\\\u001b[2mtacc_ssh_api.py\u001b[0m\u001b]8;;\u001b\\\u001b[2m:\u001b[0m\u001b]8;id=328865;file:///home/jupyter/MyData/repos/taccjm/src/taccjm/client/tacc_ssh_api.py#120\u001b\\\u001b[2m120\u001b[0m\u001b]8;;\u001b\\\n"
      ]
     },
     "metadata": {},
     "output_type": "display_data"
    },
    {
     "data": {
      "text/html": [
       "<pre style=\"white-space:pre;overflow-x:auto;line-height:normal;font-family:Menlo,'DejaVu Sans Mono',consolas,'Courier New',monospace\"><span style=\"color: #7fbfbf; text-decoration-color: #7fbfbf\">                    </span><span style=\"color: #000080; text-decoration-color: #000080\">INFO    </span> Found server process at <span style=\"color: #008080; text-decoration-color: #008080; font-weight: bold\">2737046</span>                                    <a href=\"file:///home/jupyter/MyData/repos/taccjm/src/taccjm/client/tacc_ssh_api.py\" target=\"_blank\"><span style=\"color: #7f7f7f; text-decoration-color: #7f7f7f\">tacc_ssh_api.py</span></a><span style=\"color: #7f7f7f; text-decoration-color: #7f7f7f\">:</span><a href=\"file:///home/jupyter/MyData/repos/taccjm/src/taccjm/client/tacc_ssh_api.py#120\" target=\"_blank\"><span style=\"color: #7f7f7f; text-decoration-color: #7f7f7f\">120</span></a>\n",
       "</pre>\n"
      ],
      "text/plain": [
       "\u001b[2;36m                   \u001b[0m\u001b[2;36m \u001b[0m\u001b[34mINFO    \u001b[0m Found server process at \u001b[1;36m2737046\u001b[0m                                    \u001b]8;id=913677;file:///home/jupyter/MyData/repos/taccjm/src/taccjm/client/tacc_ssh_api.py\u001b\\\u001b[2mtacc_ssh_api.py\u001b[0m\u001b]8;;\u001b\\\u001b[2m:\u001b[0m\u001b]8;id=14061;file:///home/jupyter/MyData/repos/taccjm/src/taccjm/client/tacc_ssh_api.py#120\u001b\\\u001b[2m120\u001b[0m\u001b]8;;\u001b\\\n"
      ]
     },
     "metadata": {},
     "output_type": "display_data"
    },
    {
     "data": {
      "text/html": [
       "<pre style=\"white-space:pre;overflow-x:auto;line-height:normal;font-family:Menlo,'DejaVu Sans Mono',consolas,'Courier New',monospace\"><span style=\"color: #7fbfbf; text-decoration-color: #7fbfbf\">                    </span><span style=\"color: #000080; text-decoration-color: #000080\">INFO    </span> Found heartbeat process at <span style=\"color: #008080; text-decoration-color: #008080; font-weight: bold\">2737047</span>                                 <a href=\"file:///home/jupyter/MyData/repos/taccjm/src/taccjm/client/tacc_ssh_api.py\" target=\"_blank\"><span style=\"color: #7f7f7f; text-decoration-color: #7f7f7f\">tacc_ssh_api.py</span></a><span style=\"color: #7f7f7f; text-decoration-color: #7f7f7f\">:</span><a href=\"file:///home/jupyter/MyData/repos/taccjm/src/taccjm/client/tacc_ssh_api.py#123\" target=\"_blank\"><span style=\"color: #7f7f7f; text-decoration-color: #7f7f7f\">123</span></a>\n",
       "</pre>\n"
      ],
      "text/plain": [
       "\u001b[2;36m                   \u001b[0m\u001b[2;36m \u001b[0m\u001b[34mINFO    \u001b[0m Found heartbeat process at \u001b[1;36m2737047\u001b[0m                                 \u001b]8;id=378446;file:///home/jupyter/MyData/repos/taccjm/src/taccjm/client/tacc_ssh_api.py\u001b\\\u001b[2mtacc_ssh_api.py\u001b[0m\u001b]8;;\u001b\\\u001b[2m:\u001b[0m\u001b]8;id=454805;file:///home/jupyter/MyData/repos/taccjm/src/taccjm/client/tacc_ssh_api.py#123\u001b\\\u001b[2m123\u001b[0m\u001b]8;;\u001b\\\n"
      ]
     },
     "metadata": {},
     "output_type": "display_data"
    },
    {
     "data": {
      "text/plain": [
       "{'server': psutil.Process(pid=2737046, name='python', status='sleeping', started='22:38:18'),\n",
       " 'hb': psutil.Process(pid=2737047, name='python', status='sleeping', started='22:38:18')}"
      ]
     },
     "execution_count": 10,
     "metadata": {},
     "output_type": "execute_result"
    }
   ],
   "source": [
    "tsa.find_server()"
   ]
  },
  {
   "cell_type": "code",
   "execution_count": 11,
   "id": "3e49e3ac-f403-4cf5-b47f-f2697c027b42",
   "metadata": {},
   "outputs": [
    {
     "name": "stdin",
     "output_type": "stream",
     "text": [
      "psw:  ···········\n",
      "mfa:  274610\n"
     ]
    },
    {
     "data": {
      "text/plain": [
       "{'id': 'test',\n",
       " 'sys': 'ls6.tacc.utexas.edu',\n",
       " 'user': 'clos21',\n",
       " 'start': '2023-03-17T22:43:29.828158',\n",
       " 'last_ts': '2023-03-17T22:43:29.828162',\n",
       " 'home_dir': '/home1/06307/clos21',\n",
       " 'work_dir': '/work/06307/clos21/ls6',\n",
       " 'scratch_dir': '/scratch/06307/clos21'}"
      ]
     },
     "execution_count": 11,
     "metadata": {},
     "output_type": "execute_result"
    }
   ],
   "source": [
    "tsa.init(\"test\", \"ls6\", \"clos21\")"
   ]
  },
  {
   "cell_type": "code",
   "execution_count": 12,
   "id": "7ef81728-485c-4460-9591-c189bc8ef8e9",
   "metadata": {},
   "outputs": [
    {
     "data": {
      "text/plain": [
       "{'id': 'test',\n",
       " 'sys': 'ls6.tacc.utexas.edu',\n",
       " 'user': 'clos21',\n",
       " 'start': '2023-03-17T22:43:29.828158',\n",
       " 'last_ts': '2023-03-17T22:43:29.828162',\n",
       " 'home_dir': '/home1/06307/clos21',\n",
       " 'work_dir': '/work/06307/clos21/ls6',\n",
       " 'scratch_dir': '/scratch/06307/clos21'}"
      ]
     },
     "execution_count": 12,
     "metadata": {},
     "output_type": "execute_result"
    }
   ],
   "source": [
    "tsa.get(\"test\")"
   ]
  },
  {
   "cell_type": "code",
   "execution_count": 5,
   "id": "60f55080-2da7-4034-9d52-2ef66c7fe6dd",
   "metadata": {},
   "outputs": [
    {
     "data": {
      "text/plain": [
       "[{'id': 'taccjm-ls6',\n",
       "  'sys': 'ls6.tacc.utexas.edu',\n",
       "  'user': 'clos21',\n",
       "  'start': '2023-03-17T22:38:38.577058',\n",
       "  'last_ts': '2023-03-17T22:39:42.658590',\n",
       "  'home_dir': '/home1/06307/clos21',\n",
       "  'work_dir': '/work/06307/clos21/ls6',\n",
       "  'scratch_dir': '/scratch/06307/clos21'},\n",
       " {'id': 'test',\n",
       "  'sys': 'ls6.tacc.utexas.edu',\n",
       "  'user': 'clos21',\n",
       "  'start': '2023-03-17T22:43:29.828158',\n",
       "  'last_ts': '2023-03-17T22:45:48.537743',\n",
       "  'home_dir': '/home1/06307/clos21',\n",
       "  'work_dir': '/work/06307/clos21/ls6',\n",
       "  'scratch_dir': '/scratch/06307/clos21'}]"
      ]
     },
     "execution_count": 5,
     "metadata": {},
     "output_type": "execute_result"
    }
   ],
   "source": [
    "tsa.list_sessions()"
   ]
  },
  {
   "cell_type": "markdown",
   "id": "3120014b-3929-403e-81ee-7300e960f0a0",
   "metadata": {
    "tags": []
   },
   "source": [
    "## Command Operations"
   ]
  },
  {
   "cell_type": "markdown",
   "id": "859bf398-fb93-4857-95d4-5d4637d7a191",
   "metadata": {},
   "source": [
    "### `exec()` - General Command Execution\n",
    "\n",
    "We can execute commands the same way we did with the base TACCSSHClient class."
   ]
  },
  {
   "cell_type": "code",
   "execution_count": 14,
   "id": "30cb9373-c992-4d75-87ef-424685e8d961",
   "metadata": {},
   "outputs": [
    {
     "data": {
      "text/plain": [
       "{'id': 2,\n",
       " 'key': 'API',\n",
       " 'cmd': 'ls $SCRATCH',\n",
       " 'ts': '2023-03-17T22:43:45.611128',\n",
       " 'status': 'STARTED',\n",
       " 'stdout': '',\n",
       " 'stderr': '',\n",
       " 'history': [],\n",
       " 'rt': None,\n",
       " 'rc': None,\n",
       " 'fail': True}"
      ]
     },
     "execution_count": 14,
     "metadata": {},
     "output_type": "execute_result"
    }
   ],
   "source": [
    "ls_cmnd = tsa.exec(\"test\", \"ls $SCRATCH\", wait=False)\n",
    "ls_cmnd"
   ]
  },
  {
   "cell_type": "markdown",
   "id": "156c3a44-ec02-4678-a32f-fb67ff637e82",
   "metadata": {},
   "source": [
    "### `process()` - Polling commands\n",
    "\n",
    "Pass a command ID to poll a specific command. \n",
    "Set `wait=False`, unless you want to wait until the command finishes.\n",
    "You can set `nbytes=int` to get the latest nbytes from the stdout buff ."
   ]
  },
  {
   "cell_type": "code",
   "execution_count": 15,
   "id": "3aa88cf0-fb03-4b87-9945-d4f07913be8c",
   "metadata": {},
   "outputs": [],
   "source": [
    "ls_cmnd = tsa.exec(\"test\", \"sleep 10; ls $SCRATCH\", wait=False)"
   ]
  },
  {
   "cell_type": "code",
   "execution_count": 16,
   "id": "9e740184-821d-431f-9fb2-404ff99d1fba",
   "metadata": {},
   "outputs": [
    {
     "data": {
      "text/plain": [
       "[{'id': 3,\n",
       "  'key': 'API',\n",
       "  'cmd': 'sleep 10; ls $SCRATCH',\n",
       "  'ts': '2023-03-17T22:43:48.651230',\n",
       "  'status': 'RUNNING',\n",
       "  'stdout': '',\n",
       "  'stderr': '',\n",
       "  'history': [{'ts': '2023-03-17T22:43:47.202813', 'status': 'STARTED'}],\n",
       "  'rt': None,\n",
       "  'rc': None,\n",
       "  'fail': True}]"
      ]
     },
     "execution_count": 16,
     "metadata": {},
     "output_type": "execute_result"
    }
   ],
   "source": [
    "tsa.process(\"test\", ls_cmnd[\"id\"], wait=False)"
   ]
  },
  {
   "cell_type": "markdown",
   "id": "dbb5c81f-33d9-47f5-9461-53cac1887881",
   "metadata": {
    "tags": []
   },
   "source": [
    "### Processing all Active commands\n",
    "\n",
    "If we don't pass a command ID to the process action, then all active processes will be polled and updated.\n",
    "Note how we tag each comand with a 'key' so we can filter the commands table better and just look for the commands associated with this demo."
   ]
  },
  {
   "cell_type": "code",
   "execution_count": 29,
   "id": "1a5766d2-4902-40be-90a3-32fe92cfcfda",
   "metadata": {},
   "outputs": [],
   "source": [
    "cmnd_1 = tsa.exec(\"test\", \"sleep 10; ls $SCRATCH\", wait=False, key='demo')\n",
    "cmnd_2 = tsa.exec(\"test\", \"sleep 20; ls $SCRATCH\", wait=False, key='demo')\n",
    "cmnd_3 = tsa.exec(\"test\", \"sleep 30; ls $SCRATCH\", wait=False, key='demo')"
   ]
  },
  {
   "cell_type": "code",
   "execution_count": 5,
   "id": "ecda11fd-0ec4-4c4e-ab5b-e3dfc8895cae",
   "metadata": {},
   "outputs": [
    {
     "data": {
      "text/plain": [
       "[]"
      ]
     },
     "execution_count": 5,
     "metadata": {},
     "output_type": "execute_result"
    }
   ],
   "source": [
    "tsa.process(\"test\")"
   ]
  },
  {
   "cell_type": "code",
   "execution_count": 6,
   "id": "38fd9cd8-6b01-4eef-a716-338b13ac13b0",
   "metadata": {},
   "outputs": [
    {
     "data": {
      "text/plain": [
       "[{'id': 7,\n",
       "  'key': 'demo',\n",
       "  'cmd': 'sleep 10; ls $SCRATCH',\n",
       "  'ts': '2023-03-17T22:45:48.537157',\n",
       "  'status': 'COMPLETE',\n",
       "  'stdout': '11\\nch-sim\\nch-sim-ls6\\nch-sim-tests\\ngoodbye.txt\\nhello.json\\nhello.txt\\nios-output\\nl1\\nl2\\nls1\\nls6\\nsi-base\\ntaccjm\\ntaccjm-ls6\\ntemp\\ntest\\ntest.ini\\ntest_ls6\\ntest.py\\ntest-taccjm\\ntest.txt\\ntest-upload\\nupload_test.txt\\n',\n",
       "  'stderr': '',\n",
       "  'history': [{'ts': '2023-03-17T22:45:28.006409', 'status': 'STARTED'},\n",
       "   {'ts': '2023-03-17T22:45:37.564939', 'status': 'RUNNING'}],\n",
       "  'rt': 20.0,\n",
       "  'rc': 0,\n",
       "  'fail': True},\n",
       " {'id': 8,\n",
       "  'key': 'demo',\n",
       "  'cmd': 'sleep 20; ls $SCRATCH',\n",
       "  'ts': '2023-03-17T22:51:07.481135',\n",
       "  'status': 'COMPLETE',\n",
       "  'stdout': '11\\nch-sim\\nch-sim-ls6\\nch-sim-tests\\ngoodbye.txt\\nhello.json\\nhello.txt\\nios-output\\nl1\\nl2\\nls1\\nls6\\nsi-base\\ntaccjm\\ntaccjm-ls6\\ntemp\\ntest\\ntest.ini\\ntest_ls6\\ntest.py\\ntest-taccjm\\ntest.txt\\ntest-upload\\nupload_test.txt\\n',\n",
       "  'stderr': '',\n",
       "  'history': [{'ts': '2023-03-17T22:45:28.019948', 'status': 'STARTED'},\n",
       "   {'ts': '2023-03-17T22:45:48.537189', 'status': 'RUNNING'}],\n",
       "  'rt': 339.0,\n",
       "  'rc': 0,\n",
       "  'fail': True},\n",
       " {'id': 9,\n",
       "  'key': 'demo',\n",
       "  'cmd': 'sleep 30; ls $SCRATCH',\n",
       "  'ts': '2023-03-17T22:51:07.481172',\n",
       "  'status': 'COMPLETE',\n",
       "  'stdout': '11\\nch-sim\\nch-sim-ls6\\nch-sim-tests\\ngoodbye.txt\\nhello.json\\nhello.txt\\nios-output\\nl1\\nl2\\nls1\\nls6\\nsi-base\\ntaccjm\\ntaccjm-ls6\\ntemp\\ntest\\ntest.ini\\ntest_ls6\\ntest.py\\ntest-taccjm\\ntest.txt\\ntest-upload\\nupload_test.txt\\n',\n",
       "  'stderr': '',\n",
       "  'history': [{'ts': '2023-03-17T22:45:28.032073', 'status': 'STARTED'},\n",
       "   {'ts': '2023-03-17T22:45:48.537192', 'status': 'RUNNING'}],\n",
       "  'rt': 339.0,\n",
       "  'rc': 0,\n",
       "  'fail': True}]"
      ]
     },
     "execution_count": 6,
     "metadata": {},
     "output_type": "execute_result"
    }
   ],
   "source": [
    "tsa.list_commands('test', key='demo')"
   ]
  },
  {
   "cell_type": "markdown",
   "id": "e5ccc375-ee0f-4f3f-9f21-9d03f140b4dd",
   "metadata": {},
   "source": [
    "## File Operations"
   ]
  },
  {
   "cell_type": "markdown",
   "id": "143a5fef-291f-43a7-bb31-7676b2cb7150",
   "metadata": {
    "tags": []
   },
   "source": [
    "### `list_files()`\n",
    "\n",
    "The `list_files()` method provides basic file stat info, much like an `ls` command would in a shell session."
   ]
  },
  {
   "cell_type": "code",
   "execution_count": 6,
   "id": "ba21aef1-0464-486a-a19f-2ed969a2e883",
   "metadata": {},
   "outputs": [
    {
     "data": {
      "text/plain": [
       "[{'filename': '/scratch/06307/clos21/',\n",
       "  'st_atime': 1634240870,\n",
       "  'st_gid': 800588,\n",
       "  'st_mode': 16832,\n",
       "  'st_mtime': 1675831233,\n",
       "  'st_size': 19,\n",
       "  'st_uid': 856065,\n",
       "  'ls_str': 'drwx------   1 856065   800588         19 07 Feb 22:40 ?'}]"
      ]
     },
     "execution_count": 6,
     "metadata": {},
     "output_type": "execute_result"
    }
   ],
   "source": [
    "scratch_dir = tsa.list_files(\"test\", \"\")\n",
    "scratch_dir "
   ]
  },
  {
   "cell_type": "code",
   "execution_count": 7,
   "id": "383b3cf9-ef4c-405b-8b27-64e577b3c9cf",
   "metadata": {},
   "outputs": [
    {
     "data": {
      "text/plain": [
       "19"
      ]
     },
     "execution_count": 7,
     "metadata": {},
     "output_type": "execute_result"
    }
   ],
   "source": [
    "files = tsa.list_files(\"test\", \"\", recurse=True)\n",
    "len(files)"
   ]
  },
  {
   "cell_type": "code",
   "execution_count": 8,
   "id": "1bb1f282-30ae-4e54-a665-742f6652aff9",
   "metadata": {},
   "outputs": [
    {
     "name": "stdout",
     "output_type": "stream",
     "text": [
      "drwx------   1 856065   800588          4 19 Aug 05:32 11\n",
      "drwx------   1 856065   800588          4 03 Jun 2022  taccjm\n",
      "drwx------   1 856065   800588          4 08 Sep 22:48 test-taccjm\n",
      "drwx------   1 856065   800588          1 02 Feb 12:00 ch-sim-tests\n",
      "drwx------   1 856065   800588          4 09 Sep 12:33 l2\n",
      "drwx------   1 856065   800588          4 14 Dec 2021  ls6\n",
      "-rw-------   1 856065   800588          5 07 Feb 22:31 upload_test.txt\n",
      "drwx------   1 856065   800588          9 12 May 2022  temp\n",
      "drwx------   1 856065   800588          7 02 Dec 2020  si-base\n",
      "drwx------   1 856065   800588          4 31 Jan 16:28 ch-sim-ls6\n",
      "drwx------   1 856065   800588          4 11 Jan 2022  test\n",
      "drwx------   1 856065   800588          2 30 Jan 15:54 ch-sim\n",
      "drwx------   1 856065   800588          1 09 Sep 18:29 ios-output\n",
      "drwx------   1 856065   800588          3 07 Feb 22:31 test-upload\n",
      "-rw-------   1 856065   800588         12 07 Feb 22:15 hello.txt\n",
      "-rw-------   1 856065   800588         36 07 Feb 22:17 hello.json\n",
      "drwx------   1 856065   800588          4 19 Aug 05:48 l1\n",
      "drwx------   1 856065   800588          4 30 Sep 20:52 test_ls6\n",
      "drwx------   1 856065   800588          4 25 Aug 11:21 ls1\n"
     ]
    }
   ],
   "source": [
    "print(\"\\n\".join([x[\"ls_str\"] for x in files if not x[\"filename\"].startswith(\".\")]))"
   ]
  },
  {
   "cell_type": "code",
   "execution_count": 9,
   "id": "dcf5ae2d-38c6-4c7f-a0fb-209eb9fe4325",
   "metadata": {},
   "outputs": [
    {
     "name": "stdout",
     "output_type": "stream",
     "text": [
      "total 10\n",
      "drwx------ 2 clos21 G-800588  3 Feb  7 22:31 test-upload\n",
      "-rw------- 1 clos21 G-800588  5 Feb  7 22:31 upload_test.txt\n",
      "-rw------- 1 clos21 G-800588 36 Feb  7 22:17 hello.json\n",
      "-rw------- 1 clos21 G-800588 12 Feb  7 22:15 hello.txt\n",
      "drwx------ 2 clos21 G-800588  1 Feb  2 12:00 ch-sim-tests\n",
      "drwx------ 6 clos21 G-800588  4 Jan 31 16:28 ch-sim-ls6\n",
      "drwx------ 4 clos21 G-800588  2 Jan 30 15:54 ch-sim\n",
      "drwx------ 6 clos21 G-800588  4 Sep 30 20:52 test_ls6\n",
      "drwx------ 3 clos21 G-800588  1 Sep  9 18:29 ios-output\n",
      "drwx------ 6 clos21 G-800588  4 Sep  9 12:33 l2\n",
      "drwx------ 6 clos21 G-800588  4 Sep  8 22:48 test-taccjm\n",
      "drwx------ 6 clos21 G-800588  4 Aug 25 11:21 ls1\n",
      "drwx------ 6 clos21 G-800588  4 Aug 19 05:48 l1\n",
      "drwx------ 6 clos21 G-800588  4 Aug 19 05:32 11\n",
      "drwx------ 6 clos21 G-800588  4 Jun  3  2022 taccjm\n",
      "drwx------ 2 clos21 G-800588  9 May 12  2022 temp\n",
      "drwx------ 6 clos21 G-800588  4 Jan 11  2022 test\n",
      "drwx------ 6 clos21 G-800588  4 Dec 14  2021 ls6\n",
      "drwx------ 3 clos21 G-800588  7 Dec  2  2020 si-base\n",
      "\n"
     ]
    }
   ],
   "source": [
    "print(tsa.exec(\"test\", \"ls -lt $SCRATCH\")[\"stdout\"])"
   ]
  },
  {
   "cell_type": "markdown",
   "id": "d835d1b6-b8d4-4c4f-87d2-2445bf4a630b",
   "metadata": {
    "tags": []
   },
   "source": [
    "### `write()` and `read()`\n",
    "\n",
    "Use to write directly to a file on TACC systems."
   ]
  },
  {
   "cell_type": "markdown",
   "id": "846268d9-7706-4b83-a4cb-4f7c7c708499",
   "metadata": {},
   "source": [
    "#### Text Data"
   ]
  },
  {
   "cell_type": "code",
   "execution_count": 4,
   "id": "ee9cd38c-9d5c-4bf2-af66-259c96bc31d0",
   "metadata": {},
   "outputs": [],
   "source": [
    "tsa.write(\"test\", \"hello world!\", \"hello.txt\")"
   ]
  },
  {
   "cell_type": "code",
   "execution_count": 5,
   "id": "9282e181-1cb1-45bf-998f-0ab9d2702ed6",
   "metadata": {},
   "outputs": [
    {
     "data": {
      "text/plain": [
       "{'path': 'hello.txt', 'data_type': 'text', 'data': 'hello world!'}"
      ]
     },
     "execution_count": 5,
     "metadata": {},
     "output_type": "execute_result"
    }
   ],
   "source": [
    "tsa.read(\"test\", \"hello.txt\")"
   ]
  },
  {
   "cell_type": "markdown",
   "id": "88cfd5e0-fc20-4909-9a33-895c31e3b517",
   "metadata": {},
   "source": [
    "#### json Data"
   ]
  },
  {
   "cell_type": "code",
   "execution_count": 7,
   "id": "f244bc22-33f6-443a-9fb1-93a9d326d871",
   "metadata": {},
   "outputs": [],
   "source": [
    "tsa.write(\"test\", {\"msg\": \"hello world!\", \"id\": 12312}, \"hello.json\")"
   ]
  },
  {
   "cell_type": "code",
   "execution_count": 8,
   "id": "c54d9218-f964-4659-961a-3225bacb79d0",
   "metadata": {},
   "outputs": [
    {
     "data": {
      "text/plain": [
       "{'path': 'hello.json',\n",
       " 'data_type': 'json',\n",
       " 'data': {'msg': 'hello world!', 'id': 12312}}"
      ]
     },
     "execution_count": 8,
     "metadata": {},
     "output_type": "execute_result"
    }
   ],
   "source": [
    "tsa.read(\"test\", \"hello.json\")"
   ]
  },
  {
   "cell_type": "markdown",
   "id": "3f395195-e6f1-469b-b907-3cc1f6bb1acb",
   "metadata": {},
   "source": [
    "### `upload()` and `download()`\n",
    "\n",
    "To upload a local directory or file to TACC, use the upload method."
   ]
  },
  {
   "cell_type": "code",
   "execution_count": 6,
   "id": "498563d0-c6dc-4096-8a3b-f669fe20452c",
   "metadata": {
    "tags": []
   },
   "outputs": [],
   "source": [
    "!rm -rf test-upload; mkdir test-upload; echo test > test-upload/test.txt"
   ]
  },
  {
   "cell_type": "markdown",
   "id": "a3b31cdc-f73b-4c95-9631-8ed9721a84b3",
   "metadata": {},
   "source": [
    "#### Files"
   ]
  },
  {
   "cell_type": "code",
   "execution_count": 5,
   "id": "afbde34b-8925-42bf-ada2-081f85bb1d78",
   "metadata": {
    "tags": []
   },
   "outputs": [],
   "source": [
    "tsa.upload(\"test\", \"test-upload/test.txt\", \"upload_test.txt\")"
   ]
  },
  {
   "cell_type": "code",
   "execution_count": 6,
   "id": "00d13aa0-c502-4527-91d2-b2671f9b7674",
   "metadata": {},
   "outputs": [
    {
     "data": {
      "text/plain": [
       "[{'filename': '/scratch/06307/clos21/upload_test.txt',\n",
       "  'st_atime': 1675830682,\n",
       "  'st_gid': 800588,\n",
       "  'st_mode': 33152,\n",
       "  'st_mtime': 1675830682,\n",
       "  'st_size': 5,\n",
       "  'st_uid': 856065,\n",
       "  'ls_str': '-rw-------   1 856065   800588          5 07 Feb 22:31 ?'}]"
      ]
     },
     "execution_count": 6,
     "metadata": {},
     "output_type": "execute_result"
    }
   ],
   "source": [
    "tsa.list_files(\"test\", \"upload_test.txt\")"
   ]
  },
  {
   "cell_type": "code",
   "execution_count": 7,
   "id": "49fd91b4-4d95-4da1-a882-d9c6994e2d68",
   "metadata": {},
   "outputs": [
    {
     "data": {
      "text/plain": [
       "'test-upload/download_test.txt'"
      ]
     },
     "execution_count": 7,
     "metadata": {},
     "output_type": "execute_result"
    }
   ],
   "source": [
    "tsa.download(\"test\", \"upload_test.txt\", \"test-upload/download_test.txt\")"
   ]
  },
  {
   "cell_type": "code",
   "execution_count": 8,
   "id": "99979c4e-fd5d-4c52-b5b2-400de2d89f0b",
   "metadata": {},
   "outputs": [
    {
     "name": "stdout",
     "output_type": "stream",
     "text": [
      "test\n"
     ]
    }
   ],
   "source": [
    "!cat test-upload/download_test.txt"
   ]
  },
  {
   "cell_type": "markdown",
   "id": "45047a95-d9e1-460a-9cd4-0a2917c8f749",
   "metadata": {},
   "source": [
    "#### Directories"
   ]
  },
  {
   "cell_type": "code",
   "execution_count": 5,
   "id": "1efe81e1-62b0-4c1b-83a3-3cbc718fb66e",
   "metadata": {},
   "outputs": [],
   "source": [
    "!echo 'another test' > test-upload/test2.txt"
   ]
  },
  {
   "cell_type": "code",
   "execution_count": 4,
   "id": "4fe6130f-9536-40bf-9412-b919b5caba32",
   "metadata": {},
   "outputs": [],
   "source": [
    "tsa.upload(\"test\", \"test-upload\", \"test-upload\")"
   ]
  },
  {
   "cell_type": "code",
   "execution_count": 5,
   "id": "004b6481-5606-4f9f-81e6-079fee19518f",
   "metadata": {},
   "outputs": [
    {
     "data": {
      "text/plain": [
       "[{'filename': 'download_test.txt',\n",
       "  'st_atime': 1675831198,\n",
       "  'st_gid': 800588,\n",
       "  'st_mode': 33152,\n",
       "  'st_mtime': 1675830687,\n",
       "  'st_size': 5,\n",
       "  'st_uid': 856065,\n",
       "  'ls_str': '-rw-------   1 856065   800588          5 07 Feb 22:31 download_test.txt'},\n",
       " {'filename': 'test2.txt',\n",
       "  'st_atime': 1675831199,\n",
       "  'st_gid': 800588,\n",
       "  'st_mode': 33152,\n",
       "  'st_mtime': 1675830915,\n",
       "  'st_size': 13,\n",
       "  'st_uid': 856065,\n",
       "  'ls_str': '-rw-------   1 856065   800588         13 07 Feb 22:35 test2.txt'},\n",
       " {'filename': 'test.txt',\n",
       "  'st_atime': 1675831199,\n",
       "  'st_gid': 800588,\n",
       "  'st_mode': 33152,\n",
       "  'st_mtime': 1675830340,\n",
       "  'st_size': 5,\n",
       "  'st_uid': 856065,\n",
       "  'ls_str': '-rw-------   1 856065   800588          5 07 Feb 22:25 test.txt'}]"
      ]
     },
     "execution_count": 5,
     "metadata": {},
     "output_type": "execute_result"
    }
   ],
   "source": [
    "tsa.list_files(\"test\", \"test-upload\")"
   ]
  },
  {
   "cell_type": "code",
   "execution_count": 6,
   "id": "78878cc0-7bd4-41f0-b4ae-c2c83e2c2ee8",
   "metadata": {},
   "outputs": [
    {
     "data": {
      "text/plain": [
       "'test-download'"
      ]
     },
     "execution_count": 6,
     "metadata": {},
     "output_type": "execute_result"
    }
   ],
   "source": [
    "tsa.download(\"test\", \"test-upload\", \"test-download\")"
   ]
  },
  {
   "cell_type": "code",
   "execution_count": 8,
   "id": "81c15ba0-7a4b-41b5-ac46-9b761094fb79",
   "metadata": {
    "tags": []
   },
   "outputs": [
    {
     "name": "stdout",
     "output_type": "stream",
     "text": [
      "test-download:\n",
      "test-upload\n",
      "\n",
      "test-download/test-upload:\n",
      "download_test.txt  test2.txt  test.txt\n"
     ]
    }
   ],
   "source": [
    "!ls -R test-download"
   ]
  },
  {
   "cell_type": "markdown",
   "id": "c68af88e-30ac-419d-bc82-10972c03a584",
   "metadata": {},
   "source": [
    "# TACC Client\n"
   ]
  },
  {
   "cell_type": "code",
   "execution_count": 26,
   "id": "9ae1c39e-816b-426c-a104-7d6980d0a1ef",
   "metadata": {
    "tags": []
   },
   "outputs": [],
   "source": [
    "import importlib\n",
    "import logging\n",
    "import os\n",
    "import sys\n",
    "from pathlib import Path\n",
    "\n",
    "from taccjm import TACCClient"
   ]
  },
  {
   "cell_type": "code",
   "execution_count": 27,
   "id": "a6ee5749-69b7-4d60-8427-4a18159c3d98",
   "metadata": {},
   "outputs": [
    {
     "data": {
      "text/plain": [
       "<module 'taccjm.TACCClient' from '/home/jovyan/work/repos/taccjm/src/taccjm/TACCClient.py'>"
      ]
     },
     "execution_count": 27,
     "metadata": {},
     "output_type": "execute_result"
    }
   ],
   "source": [
    "importlib.reload(TACCClient)"
   ]
  },
  {
   "cell_type": "markdown",
   "id": "4a4b9359-26c9-4ad2-8682-a5420a28e752",
   "metadata": {},
   "source": [
    "## Remote Connections\n",
    "\n",
    "If we aren't running on TACC, SSH session will be started."
   ]
  },
  {
   "cell_type": "code",
   "execution_count": 29,
   "id": "60d1424b-024d-4f3f-888b-ac1260566776",
   "metadata": {},
   "outputs": [],
   "source": [
    "os.environ[\"HOSTNAME\"] = \"\""
   ]
  },
  {
   "cell_type": "code",
   "execution_count": 30,
   "id": "4ac8c555-85f5-4eda-90d0-7ad541aae151",
   "metadata": {},
   "outputs": [],
   "source": [
    "client = TACCClient.TACCClient(system='stampede2')"
   ]
  },
  {
   "cell_type": "code",
   "execution_count": 31,
   "id": "b66c7312-47dd-4230-b60c-a7500bd26910",
   "metadata": {},
   "outputs": [
    {
     "data": {
      "text/plain": [
       "('/scratch/06307/clos21',\n",
       " '/home1/06307/clos21',\n",
       " '/work2/06307/clos21/stampede2')"
      ]
     },
     "execution_count": 31,
     "metadata": {},
     "output_type": "execute_result"
    }
   ],
   "source": [
    "client.scratch_dir, client.home_dir, client.work_dir,"
   ]
  },
  {
   "cell_type": "code",
   "execution_count": 32,
   "id": "1ac83947-277b-4d2f-9918-1c80fd8601a1",
   "metadata": {},
   "outputs": [
    {
     "data": {
      "text/plain": [
       "('/scratch/06307/clos21/taccjm-stampede2/jobs',\n",
       " '/work2/06307/clos21/stampede2/taccjm-stampede2/scripts',\n",
       " '/work2/06307/clos21/stampede2/taccjm-stampede2/apps',\n",
       " '/scratch/06307/clos21/taccjm-stampede2/trash')"
      ]
     },
     "execution_count": 32,
     "metadata": {},
     "output_type": "execute_result"
    }
   ],
   "source": [
    "client.jobs_dir, client.scripts_dir, client.apps_dir, client.trash_dir"
   ]
  },
  {
   "cell_type": "code",
   "execution_count": 33,
   "id": "5636708d-3add-4d1b-ba75-7edacd082fae",
   "metadata": {},
   "outputs": [
    {
     "data": {
      "text/plain": [
       "[{'filename': '/scratch/06307/clos21/',\n",
       "  'st_atime': 1676065094,\n",
       "  'st_gid': 821083,\n",
       "  'st_mode': 16837,\n",
       "  'st_mtime': 1675987758,\n",
       "  'st_size': 4096,\n",
       "  'st_uid': 856065,\n",
       "  'ls_str': 'drwx---r-x   1 856065   821083       4096 09 Feb 18:09 ?'}]"
      ]
     },
     "execution_count": 33,
     "metadata": {},
     "output_type": "execute_result"
    }
   ],
   "source": [
    "scratch_dir = client.list_files()\n",
    "scratch_dir"
   ]
  },
  {
   "cell_type": "code",
   "execution_count": 34,
   "id": "21d4b5ab-34bc-4dd1-93bc-3d6e5ed8837c",
   "metadata": {},
   "outputs": [
    {
     "data": {
      "text/plain": [
       "29"
      ]
     },
     "execution_count": 34,
     "metadata": {},
     "output_type": "execute_result"
    }
   ],
   "source": [
    "files = client.list_files(recurse=True)\n",
    "len(files)"
   ]
  },
  {
   "cell_type": "markdown",
   "id": "f0f8ece0-e989-484d-a92e-d0c1e641dbee",
   "metadata": {},
   "source": [
    "### Mamba Environments"
   ]
  },
  {
   "cell_type": "code",
   "execution_count": 35,
   "id": "c0bcf77a-6ba9-4b70-8915-8c3dcedade62",
   "metadata": {},
   "outputs": [],
   "source": [
    "res = client.mamba_install('taccjm', 'pip', 'taccjm')"
   ]
  },
  {
   "cell_type": "code",
   "execution_count": 42,
   "id": "7d5c0a03-4f84-4a3a-a3c2-58fb2015cf3c",
   "metadata": {},
   "outputs": [
    {
     "name": "stdout",
     "output_type": "stream",
     "text": [
      "['# Name                    Version                   Build  Channel', '_libgcc_mutex             0.1                        main  ', 'ca-certificates           2020.1.1                      0  ', 'certifi                   2020.4.5.1               py38_0  ', 'cffi                      1.14.0           py38he30daa8_1  ', 'chardet                   3.0.4                 py38_1003  ', 'conda                     4.8.3                    py38_0  ', 'conda-package-handling    1.6.1            py38h7b6447c_0  ', 'cryptography              2.9.2            py38h1ba5d50_0  ', 'idna                      2.9                        py_1  ', 'ld_impl_linux-64          2.33.1               h53a641e_7  ', 'libedit                   3.1.20181209         hc058e9b_0  ', 'libffi                    3.3                  he6710b0_1  ', 'libgcc-ng                 9.1.0                hdf63c60_0  ', 'libstdcxx-ng              9.1.0                hdf63c60_0  ', 'ncurses                   6.2                  he6710b0_1  ', 'openssl                   1.1.1g               h7b6447c_0  ', 'pip                       20.0.2                   py38_3  ', 'pycosat                   0.6.3            py38h7b6447c_1  ', 'pycparser                 2.20                       py_0  ', 'pyopenssl                 19.1.0                   py38_0  ', 'pysocks                   1.7.1                    py38_0  ', 'python                    3.8.3                hcff3b4d_0  ', 'readline                  8.0                  h7b6447c_0  ', 'requests                  2.23.0                   py38_0  ', 'ruamel_yaml               0.15.87          py38h7b6447c_0  ', 'setuptools                46.4.0                   py38_0  ', 'six                       1.14.0                   py38_0  ', 'sqlite                    3.31.1               h62c20be_1  ', 'tk                        8.6.8                hbc83047_0  ', 'tqdm                      4.46.0                     py_0  ', 'urllib3                   1.25.8                   py38_0  ', 'wheel                     0.34.2                   py38_0  ', 'xz                        5.2.5                h7b6447c_0  ', 'yaml                      0.1.7                had09818_2  ', 'zlib                      1.2.11               h7b6447c_3  ', '']\n"
     ]
    }
   ],
   "source": [
    "import pandas as pd\n",
    "from io import StringIO"
   ]
  },
  {
   "cell_type": "code",
   "execution_count": 63,
   "id": "1315d5b1-f8ee-4d71-b4bc-96aa56efeff3",
   "metadata": {},
   "outputs": [
    {
     "name": "stdout",
     "output_type": "stream",
     "text": [
      "# packages in environment at /home1/06307/clos21/miniconda3/envs/taccjm:\n",
      "#\n",
      "# Name                    Version                   Build  Channel\n",
      "_libgcc_mutex             0.1                        main  \n",
      "_openmp_mutex             5.1                       1_gnu  \n",
      "bcrypt                    4.0.1                    pypi_0    pypi\n",
      "begins                    0.9                      pypi_0    pypi\n",
      "bzip2                     1.0.8                h7b6447c_0  \n",
      "ca-certificates           2023.01.10           h06a4308_0  \n",
      "certifi                   2022.12.7                pypi_0    pypi\n",
      "cffi                      1.15.1                   pypi_0    pypi\n",
      "charset-normalizer        3.0.1                    pypi_0    pypi\n",
      "click                     8.1.3                    pypi_0    pypi\n",
      "cryptography              39.0.1                   pypi_0    pypi\n",
      "falcon                    2.0.0                    pypi_0    pypi\n",
      "hug                       2.6.1                    pypi_0    pypi\n",
      "idna                      3.4                      pypi_0    pypi\n",
      "jinja2                    3.1.2                    pypi_0    pypi\n",
      "ld_impl_linux-64          2.38                 h1181459_1  \n",
      "libffi                    3.4.2                h6a678d5_6  \n",
      "libgcc-ng                 11.2.0               h1234567_1  \n",
      "libgomp                   11.2.0               h1234567_1  \n",
      "libstdcxx-ng              11.2.0               h1234567_1  \n",
      "libuuid                   1.41.5               h5eee18b_0  \n",
      "markupsafe                2.1.2                    pypi_0    pypi\n",
      "ncurses                   6.4                  h6a678d5_0  \n",
      "numpy                     1.24.2                   pypi_0    pypi\n",
      "openssl                   1.1.1s               h7f8727e_0  \n",
      "paramiko                  3.0.0                    pypi_0    pypi\n",
      "pip                       22.3.1                   pypi_0    pypi\n",
      "prettytable               3.6.0                    pypi_0    pypi\n",
      "psutil                    5.9.4                    pypi_0    pypi\n",
      "pycparser                 2.21                     pypi_0    pypi\n",
      "pynacl                    1.5.0                    pypi_0    pypi\n",
      "python                    3.10.9               h7a1cb2a_0  \n",
      "python-json-logger        2.0.4                    pypi_0    pypi\n",
      "readline                  8.2                  h5eee18b_0  \n",
      "requests                  2.28.2                   pypi_0    pypi\n",
      "setuptools                65.6.3                   pypi_0    pypi\n",
      "sqlite                    3.40.1               h5082296_0  \n",
      "taccjm                    0.0.4                    pypi_0    pypi\n",
      "tk                        8.6.12               h1ccaba5_0  \n",
      "tzdata                    2022g                h04d1e81_0  \n",
      "urllib3                   1.26.14                  pypi_0    pypi\n",
      "wcwidth                   0.2.6                    pypi_0    pypi\n",
      "wheel                     0.37.1             pyhd3eb1b0_0  \n",
      "xz                        5.2.10               h5eee18b_1  \n",
      "zlib                      1.2.13               h5eee18b_0  \n",
      "\n"
     ]
    }
   ],
   "source": [
    "output = client.exec('conda activate taccjm && conda list')['stdout']\n",
    "print(output)"
   ]
  },
  {
   "cell_type": "code",
   "execution_count": 65,
   "id": "197a75e0-be6d-4091-8c6f-b58ccad81339",
   "metadata": {},
   "outputs": [
    {
     "data": {
      "text/html": [
       "<div>\n",
       "<style scoped>\n",
       "    .dataframe tbody tr th:only-of-type {\n",
       "        vertical-align: middle;\n",
       "    }\n",
       "\n",
       "    .dataframe tbody tr th {\n",
       "        vertical-align: top;\n",
       "    }\n",
       "\n",
       "    .dataframe thead th {\n",
       "        text-align: right;\n",
       "    }\n",
       "</style>\n",
       "<table border=\"1\" class=\"dataframe\">\n",
       "  <thead>\n",
       "    <tr style=\"text-align: right;\">\n",
       "      <th></th>\n",
       "      <th>name</th>\n",
       "      <th>version</th>\n",
       "      <th>build</th>\n",
       "      <th>channel</th>\n",
       "    </tr>\n",
       "  </thead>\n",
       "  <tbody>\n",
       "    <tr>\n",
       "      <th>0</th>\n",
       "      <td>_libgcc_mutex</td>\n",
       "      <td>0.1</td>\n",
       "      <td>main</td>\n",
       "      <td>NaN</td>\n",
       "    </tr>\n",
       "    <tr>\n",
       "      <th>1</th>\n",
       "      <td>_openmp_mutex</td>\n",
       "      <td>5.1</td>\n",
       "      <td>1_gnu</td>\n",
       "      <td>NaN</td>\n",
       "    </tr>\n",
       "    <tr>\n",
       "      <th>2</th>\n",
       "      <td>bcrypt</td>\n",
       "      <td>4.0.1</td>\n",
       "      <td>pypi_0</td>\n",
       "      <td>pypi</td>\n",
       "    </tr>\n",
       "    <tr>\n",
       "      <th>3</th>\n",
       "      <td>begins</td>\n",
       "      <td>0.9</td>\n",
       "      <td>pypi_0</td>\n",
       "      <td>pypi</td>\n",
       "    </tr>\n",
       "    <tr>\n",
       "      <th>4</th>\n",
       "      <td>bzip2</td>\n",
       "      <td>1.0.8</td>\n",
       "      <td>h7b6447c_0</td>\n",
       "      <td>NaN</td>\n",
       "    </tr>\n",
       "    <tr>\n",
       "      <th>5</th>\n",
       "      <td>ca-certificates</td>\n",
       "      <td>2023.01.10</td>\n",
       "      <td>h06a4308_0</td>\n",
       "      <td>NaN</td>\n",
       "    </tr>\n",
       "    <tr>\n",
       "      <th>6</th>\n",
       "      <td>certifi</td>\n",
       "      <td>2022.12.7</td>\n",
       "      <td>pypi_0</td>\n",
       "      <td>pypi</td>\n",
       "    </tr>\n",
       "    <tr>\n",
       "      <th>7</th>\n",
       "      <td>cffi</td>\n",
       "      <td>1.15.1</td>\n",
       "      <td>pypi_0</td>\n",
       "      <td>pypi</td>\n",
       "    </tr>\n",
       "    <tr>\n",
       "      <th>8</th>\n",
       "      <td>charset-normalizer</td>\n",
       "      <td>3.0.1</td>\n",
       "      <td>pypi_0</td>\n",
       "      <td>pypi</td>\n",
       "    </tr>\n",
       "    <tr>\n",
       "      <th>9</th>\n",
       "      <td>click</td>\n",
       "      <td>8.1.3</td>\n",
       "      <td>pypi_0</td>\n",
       "      <td>pypi</td>\n",
       "    </tr>\n",
       "    <tr>\n",
       "      <th>10</th>\n",
       "      <td>cryptography</td>\n",
       "      <td>39.0.1</td>\n",
       "      <td>pypi_0</td>\n",
       "      <td>pypi</td>\n",
       "    </tr>\n",
       "    <tr>\n",
       "      <th>11</th>\n",
       "      <td>falcon</td>\n",
       "      <td>2.0.0</td>\n",
       "      <td>pypi_0</td>\n",
       "      <td>pypi</td>\n",
       "    </tr>\n",
       "    <tr>\n",
       "      <th>12</th>\n",
       "      <td>hug</td>\n",
       "      <td>2.6.1</td>\n",
       "      <td>pypi_0</td>\n",
       "      <td>pypi</td>\n",
       "    </tr>\n",
       "    <tr>\n",
       "      <th>13</th>\n",
       "      <td>idna</td>\n",
       "      <td>3.4</td>\n",
       "      <td>pypi_0</td>\n",
       "      <td>pypi</td>\n",
       "    </tr>\n",
       "    <tr>\n",
       "      <th>14</th>\n",
       "      <td>jinja2</td>\n",
       "      <td>3.1.2</td>\n",
       "      <td>pypi_0</td>\n",
       "      <td>pypi</td>\n",
       "    </tr>\n",
       "    <tr>\n",
       "      <th>15</th>\n",
       "      <td>ld_impl_linux-64</td>\n",
       "      <td>2.38</td>\n",
       "      <td>h1181459_1</td>\n",
       "      <td>NaN</td>\n",
       "    </tr>\n",
       "    <tr>\n",
       "      <th>16</th>\n",
       "      <td>libffi</td>\n",
       "      <td>3.4.2</td>\n",
       "      <td>h6a678d5_6</td>\n",
       "      <td>NaN</td>\n",
       "    </tr>\n",
       "    <tr>\n",
       "      <th>17</th>\n",
       "      <td>libgcc-ng</td>\n",
       "      <td>11.2.0</td>\n",
       "      <td>h1234567_1</td>\n",
       "      <td>NaN</td>\n",
       "    </tr>\n",
       "    <tr>\n",
       "      <th>18</th>\n",
       "      <td>libgomp</td>\n",
       "      <td>11.2.0</td>\n",
       "      <td>h1234567_1</td>\n",
       "      <td>NaN</td>\n",
       "    </tr>\n",
       "    <tr>\n",
       "      <th>19</th>\n",
       "      <td>libstdcxx-ng</td>\n",
       "      <td>11.2.0</td>\n",
       "      <td>h1234567_1</td>\n",
       "      <td>NaN</td>\n",
       "    </tr>\n",
       "    <tr>\n",
       "      <th>20</th>\n",
       "      <td>libuuid</td>\n",
       "      <td>1.41.5</td>\n",
       "      <td>h5eee18b_0</td>\n",
       "      <td>NaN</td>\n",
       "    </tr>\n",
       "    <tr>\n",
       "      <th>21</th>\n",
       "      <td>markupsafe</td>\n",
       "      <td>2.1.2</td>\n",
       "      <td>pypi_0</td>\n",
       "      <td>pypi</td>\n",
       "    </tr>\n",
       "    <tr>\n",
       "      <th>22</th>\n",
       "      <td>ncurses</td>\n",
       "      <td>6.4</td>\n",
       "      <td>h6a678d5_0</td>\n",
       "      <td>NaN</td>\n",
       "    </tr>\n",
       "    <tr>\n",
       "      <th>23</th>\n",
       "      <td>numpy</td>\n",
       "      <td>1.24.2</td>\n",
       "      <td>pypi_0</td>\n",
       "      <td>pypi</td>\n",
       "    </tr>\n",
       "    <tr>\n",
       "      <th>24</th>\n",
       "      <td>openssl</td>\n",
       "      <td>1.1.1s</td>\n",
       "      <td>h7f8727e_0</td>\n",
       "      <td>NaN</td>\n",
       "    </tr>\n",
       "    <tr>\n",
       "      <th>25</th>\n",
       "      <td>paramiko</td>\n",
       "      <td>3.0.0</td>\n",
       "      <td>pypi_0</td>\n",
       "      <td>pypi</td>\n",
       "    </tr>\n",
       "    <tr>\n",
       "      <th>26</th>\n",
       "      <td>pip</td>\n",
       "      <td>22.3.1</td>\n",
       "      <td>pypi_0</td>\n",
       "      <td>pypi</td>\n",
       "    </tr>\n",
       "    <tr>\n",
       "      <th>27</th>\n",
       "      <td>prettytable</td>\n",
       "      <td>3.6.0</td>\n",
       "      <td>pypi_0</td>\n",
       "      <td>pypi</td>\n",
       "    </tr>\n",
       "    <tr>\n",
       "      <th>28</th>\n",
       "      <td>psutil</td>\n",
       "      <td>5.9.4</td>\n",
       "      <td>pypi_0</td>\n",
       "      <td>pypi</td>\n",
       "    </tr>\n",
       "    <tr>\n",
       "      <th>29</th>\n",
       "      <td>pycparser</td>\n",
       "      <td>2.21</td>\n",
       "      <td>pypi_0</td>\n",
       "      <td>pypi</td>\n",
       "    </tr>\n",
       "    <tr>\n",
       "      <th>30</th>\n",
       "      <td>pynacl</td>\n",
       "      <td>1.5.0</td>\n",
       "      <td>pypi_0</td>\n",
       "      <td>pypi</td>\n",
       "    </tr>\n",
       "    <tr>\n",
       "      <th>31</th>\n",
       "      <td>python</td>\n",
       "      <td>3.10.9</td>\n",
       "      <td>h7a1cb2a_0</td>\n",
       "      <td>NaN</td>\n",
       "    </tr>\n",
       "    <tr>\n",
       "      <th>32</th>\n",
       "      <td>python-json-logger</td>\n",
       "      <td>2.0.4</td>\n",
       "      <td>pypi_0</td>\n",
       "      <td>pypi</td>\n",
       "    </tr>\n",
       "    <tr>\n",
       "      <th>33</th>\n",
       "      <td>readline</td>\n",
       "      <td>8.2</td>\n",
       "      <td>h5eee18b_0</td>\n",
       "      <td>NaN</td>\n",
       "    </tr>\n",
       "    <tr>\n",
       "      <th>34</th>\n",
       "      <td>requests</td>\n",
       "      <td>2.28.2</td>\n",
       "      <td>pypi_0</td>\n",
       "      <td>pypi</td>\n",
       "    </tr>\n",
       "    <tr>\n",
       "      <th>35</th>\n",
       "      <td>setuptools</td>\n",
       "      <td>65.6.3</td>\n",
       "      <td>pypi_0</td>\n",
       "      <td>pypi</td>\n",
       "    </tr>\n",
       "    <tr>\n",
       "      <th>36</th>\n",
       "      <td>sqlite</td>\n",
       "      <td>3.40.1</td>\n",
       "      <td>h5082296_0</td>\n",
       "      <td>NaN</td>\n",
       "    </tr>\n",
       "    <tr>\n",
       "      <th>37</th>\n",
       "      <td>taccjm</td>\n",
       "      <td>0.0.4</td>\n",
       "      <td>pypi_0</td>\n",
       "      <td>pypi</td>\n",
       "    </tr>\n",
       "    <tr>\n",
       "      <th>38</th>\n",
       "      <td>tk</td>\n",
       "      <td>8.6.12</td>\n",
       "      <td>h1ccaba5_0</td>\n",
       "      <td>NaN</td>\n",
       "    </tr>\n",
       "    <tr>\n",
       "      <th>39</th>\n",
       "      <td>tzdata</td>\n",
       "      <td>2022g</td>\n",
       "      <td>h04d1e81_0</td>\n",
       "      <td>NaN</td>\n",
       "    </tr>\n",
       "    <tr>\n",
       "      <th>40</th>\n",
       "      <td>urllib3</td>\n",
       "      <td>1.26.14</td>\n",
       "      <td>pypi_0</td>\n",
       "      <td>pypi</td>\n",
       "    </tr>\n",
       "    <tr>\n",
       "      <th>41</th>\n",
       "      <td>wcwidth</td>\n",
       "      <td>0.2.6</td>\n",
       "      <td>pypi_0</td>\n",
       "      <td>pypi</td>\n",
       "    </tr>\n",
       "    <tr>\n",
       "      <th>42</th>\n",
       "      <td>wheel</td>\n",
       "      <td>0.37.1</td>\n",
       "      <td>pyhd3eb1b0_0</td>\n",
       "      <td>NaN</td>\n",
       "    </tr>\n",
       "    <tr>\n",
       "      <th>43</th>\n",
       "      <td>xz</td>\n",
       "      <td>5.2.10</td>\n",
       "      <td>h5eee18b_1</td>\n",
       "      <td>NaN</td>\n",
       "    </tr>\n",
       "    <tr>\n",
       "      <th>44</th>\n",
       "      <td>zlib</td>\n",
       "      <td>1.2.13</td>\n",
       "      <td>h5eee18b_0</td>\n",
       "      <td>NaN</td>\n",
       "    </tr>\n",
       "  </tbody>\n",
       "</table>\n",
       "</div>"
      ],
      "text/plain": [
       "                  name     version         build channel\n",
       "0        _libgcc_mutex         0.1          main     NaN\n",
       "1        _openmp_mutex         5.1         1_gnu     NaN\n",
       "2               bcrypt       4.0.1        pypi_0    pypi\n",
       "3               begins         0.9        pypi_0    pypi\n",
       "4                bzip2       1.0.8    h7b6447c_0     NaN\n",
       "5      ca-certificates  2023.01.10    h06a4308_0     NaN\n",
       "6              certifi   2022.12.7        pypi_0    pypi\n",
       "7                 cffi      1.15.1        pypi_0    pypi\n",
       "8   charset-normalizer       3.0.1        pypi_0    pypi\n",
       "9                click       8.1.3        pypi_0    pypi\n",
       "10        cryptography      39.0.1        pypi_0    pypi\n",
       "11              falcon       2.0.0        pypi_0    pypi\n",
       "12                 hug       2.6.1        pypi_0    pypi\n",
       "13                idna         3.4        pypi_0    pypi\n",
       "14              jinja2       3.1.2        pypi_0    pypi\n",
       "15    ld_impl_linux-64        2.38    h1181459_1     NaN\n",
       "16              libffi       3.4.2    h6a678d5_6     NaN\n",
       "17           libgcc-ng      11.2.0    h1234567_1     NaN\n",
       "18             libgomp      11.2.0    h1234567_1     NaN\n",
       "19        libstdcxx-ng      11.2.0    h1234567_1     NaN\n",
       "20             libuuid      1.41.5    h5eee18b_0     NaN\n",
       "21          markupsafe       2.1.2        pypi_0    pypi\n",
       "22             ncurses         6.4    h6a678d5_0     NaN\n",
       "23               numpy      1.24.2        pypi_0    pypi\n",
       "24             openssl      1.1.1s    h7f8727e_0     NaN\n",
       "25            paramiko       3.0.0        pypi_0    pypi\n",
       "26                 pip      22.3.1        pypi_0    pypi\n",
       "27         prettytable       3.6.0        pypi_0    pypi\n",
       "28              psutil       5.9.4        pypi_0    pypi\n",
       "29           pycparser        2.21        pypi_0    pypi\n",
       "30              pynacl       1.5.0        pypi_0    pypi\n",
       "31              python      3.10.9    h7a1cb2a_0     NaN\n",
       "32  python-json-logger       2.0.4        pypi_0    pypi\n",
       "33            readline         8.2    h5eee18b_0     NaN\n",
       "34            requests      2.28.2        pypi_0    pypi\n",
       "35          setuptools      65.6.3        pypi_0    pypi\n",
       "36              sqlite      3.40.1    h5082296_0     NaN\n",
       "37              taccjm       0.0.4        pypi_0    pypi\n",
       "38                  tk      8.6.12    h1ccaba5_0     NaN\n",
       "39              tzdata       2022g    h04d1e81_0     NaN\n",
       "40             urllib3     1.26.14        pypi_0    pypi\n",
       "41             wcwidth       0.2.6        pypi_0    pypi\n",
       "42               wheel      0.37.1  pyhd3eb1b0_0     NaN\n",
       "43                  xz      5.2.10    h5eee18b_1     NaN\n",
       "44                zlib      1.2.13    h5eee18b_0     NaN"
      ]
     },
     "execution_count": 65,
     "metadata": {},
     "output_type": "execute_result"
    }
   ],
   "source": [
    "df = pd.read_csv(StringIO(client.exec('conda activate taccjm && conda list')['stdout']), delim_whitespace=True, names=['name', 'version', 'build', 'channel'], header=None, skiprows=3)\n",
    "df"
   ]
  },
  {
   "cell_type": "markdown",
   "id": "66fa78c6-5d2e-4448-a542-9e48a1618e96",
   "metadata": {
    "tags": []
   },
   "source": [
    "## Local TACC Sessions\n",
    "\n",
    "Can mock being on TACC systems by setting the appropriate environment variables"
   ]
  },
  {
   "cell_type": "code",
   "execution_count": 21,
   "id": "74c77ea3-6b8a-42d2-8961-975f6f6ad74c",
   "metadata": {
    "tags": []
   },
   "outputs": [],
   "source": [
    "import importlib\n",
    "import logging\n",
    "import os\n",
    "import sys\n",
    "from pathlib import Path\n",
    "\n",
    "from taccjm import TACCClient"
   ]
  },
  {
   "cell_type": "code",
   "execution_count": 22,
   "id": "2abfb8b6-97d6-4195-a6c6-da372ac57b6a",
   "metadata": {},
   "outputs": [
    {
     "data": {
      "text/plain": [
       "<module 'taccjm.TACCClient' from '/home/jovyan/work/repos/taccjm/src/taccjm/TACCClient.py'>"
      ]
     },
     "execution_count": 22,
     "metadata": {},
     "output_type": "execute_result"
    }
   ],
   "source": [
    "importlib.reload(TACCClient)"
   ]
  },
  {
   "cell_type": "code",
   "execution_count": 23,
   "id": "07de066d-eb41-4b41-b11e-fb90410eb150",
   "metadata": {},
   "outputs": [
    {
     "name": "stdout",
     "output_type": "stream",
     "text": [
      "mkdir: cannot create directory ‘data/test-scratch’: File exists\n",
      "mkdir: cannot create directory ‘data/test-home’: File exists\n",
      "mkdir: cannot create directory ‘data/test-work’: File exists\n"
     ]
    }
   ],
   "source": [
    "!mkdir data/test-scratch; mkdir data/test-home; mkdir data/test-work"
   ]
  },
  {
   "cell_type": "code",
   "execution_count": 24,
   "id": "5062fba1-0e72-4df5-aa50-eb44e8f163c3",
   "metadata": {},
   "outputs": [
    {
     "name": "stdout",
     "output_type": "stream",
     "text": [
      "{\"asctime\": \"2023-02-11 10:05:21,446\", \"name\": \"taccjm.TACCClient\", \"levelname\": \"INFO\", \"message\": \"Logger taccjm.TACCClient initialized\", \"config\": {\"output\": \"<ipykernel.iostream.OutStream object at 0x7f97b452e770>\", \"fmt\": \"json\", \"level\": 20}}\n",
      "{\"asctime\": \"2023-02-11 10:05:21,446\", \"name\": \"taccjm.TACCClient\", \"levelname\": \"INFO\", \"message\": \"Logger taccjm.TACCClient initialized\", \"config\": {\"output\": \"<ipykernel.iostream.OutStream object at 0x7f97b452e770>\", \"fmt\": \"json\", \"level\": 20}}\n",
      "{\"asctime\": \"2023-02-11 10:05:21,446\", \"name\": \"taccjm.TACCClient\", \"levelname\": \"INFO\", \"message\": \"Logger taccjm.TACCClient initialized\", \"config\": {\"output\": \"<ipykernel.iostream.OutStream object at 0x7f97b452e770>\", \"fmt\": \"json\", \"level\": 20}}\n",
      "{\"asctime\": \"2023-02-11 10:05:21,446\", \"name\": \"taccjm.TACCClient\", \"levelname\": \"INFO\", \"message\": \"Logger taccjm.TACCClient initialized\", \"config\": {\"output\": \"<ipykernel.iostream.OutStream object at 0x7f97b452e770>\", \"fmt\": \"json\", \"level\": 20}}\n",
      "{\"asctime\": \"2023-02-11 10:05:21,451\", \"name\": \"taccjm.TACCClient\", \"levelname\": \"INFO\", \"message\": \"Running command locally\", \"cmnd\": \"whoami\", \"wait\": true, \"error\": true}\n",
      "{\"asctime\": \"2023-02-11 10:05:21,451\", \"name\": \"taccjm.TACCClient\", \"levelname\": \"INFO\", \"message\": \"Running command locally\", \"cmnd\": \"whoami\", \"wait\": true, \"error\": true}\n",
      "{\"asctime\": \"2023-02-11 10:05:21,451\", \"name\": \"taccjm.TACCClient\", \"levelname\": \"INFO\", \"message\": \"Running command locally\", \"cmnd\": \"whoami\", \"wait\": true, \"error\": true}\n",
      "{\"asctime\": \"2023-02-11 10:05:21,451\", \"name\": \"taccjm.TACCClient\", \"levelname\": \"INFO\", \"message\": \"Running command locally\", \"cmnd\": \"whoami\", \"wait\": true, \"error\": true}\n",
      "{\"asctime\": \"2023-02-11 10:05:21,457\", \"name\": \"taccjm.TACCClient\", \"levelname\": \"INFO\", \"message\": \"Getting command 0 from local command list\"}\n",
      "{\"asctime\": \"2023-02-11 10:05:21,457\", \"name\": \"taccjm.TACCClient\", \"levelname\": \"INFO\", \"message\": \"Getting command 0 from local command list\"}\n",
      "{\"asctime\": \"2023-02-11 10:05:21,457\", \"name\": \"taccjm.TACCClient\", \"levelname\": \"INFO\", \"message\": \"Getting command 0 from local command list\"}\n",
      "{\"asctime\": \"2023-02-11 10:05:21,457\", \"name\": \"taccjm.TACCClient\", \"levelname\": \"INFO\", \"message\": \"Getting command 0 from local command list\"}\n",
      "{\"asctime\": \"2023-02-11 10:05:21,461\", \"name\": \"taccjm.TACCClient\", \"levelname\": \"INFO\", \"message\": \"Waiting for command 0 to finish....\"}\n",
      "{\"asctime\": \"2023-02-11 10:05:21,461\", \"name\": \"taccjm.TACCClient\", \"levelname\": \"INFO\", \"message\": \"Waiting for command 0 to finish....\"}\n",
      "{\"asctime\": \"2023-02-11 10:05:21,461\", \"name\": \"taccjm.TACCClient\", \"levelname\": \"INFO\", \"message\": \"Waiting for command 0 to finish....\"}\n",
      "{\"asctime\": \"2023-02-11 10:05:21,461\", \"name\": \"taccjm.TACCClient\", \"levelname\": \"INFO\", \"message\": \"Waiting for command 0 to finish....\"}\n",
      "{\"asctime\": \"2023-02-11 10:05:21,465\", \"name\": \"taccjm.TACCClient\", \"levelname\": \"INFO\", \"message\": \"Command 0 done. Reading output.\"}\n",
      "{\"asctime\": \"2023-02-11 10:05:21,465\", \"name\": \"taccjm.TACCClient\", \"levelname\": \"INFO\", \"message\": \"Command 0 done. Reading output.\"}\n",
      "{\"asctime\": \"2023-02-11 10:05:21,465\", \"name\": \"taccjm.TACCClient\", \"levelname\": \"INFO\", \"message\": \"Command 0 done. Reading output.\"}\n",
      "{\"asctime\": \"2023-02-11 10:05:21,465\", \"name\": \"taccjm.TACCClient\", \"levelname\": \"INFO\", \"message\": \"Command 0 done. Reading output.\"}\n",
      "{\"asctime\": \"2023-02-11 10:05:21,471\", \"name\": \"taccjm.TACCClient\", \"levelname\": \"INFO\", \"message\": \"Command 0 completed!\"}\n",
      "{\"asctime\": \"2023-02-11 10:05:21,471\", \"name\": \"taccjm.TACCClient\", \"levelname\": \"INFO\", \"message\": \"Command 0 completed!\"}\n",
      "{\"asctime\": \"2023-02-11 10:05:21,471\", \"name\": \"taccjm.TACCClient\", \"levelname\": \"INFO\", \"message\": \"Command 0 completed!\"}\n",
      "{\"asctime\": \"2023-02-11 10:05:21,471\", \"name\": \"taccjm.TACCClient\", \"levelname\": \"INFO\", \"message\": \"Command 0 completed!\"}\n",
      "{\"asctime\": \"2023-02-11 10:05:21,474\", \"name\": \"taccjm.TACCClient\", \"levelname\": \"INFO\", \"message\": \"Processed command 0\", \"cmnd_config\": {\"id\": 0, \"cmd\": \"whoami\", \"ts\": \"2023-02-11T10:05:21.471199\", \"status\": \"COMPLETE\", \"stdout\": \"b'jovyan\\\\n'\", \"stderr\": \"b''\", \"history\": [{\"status\": \"STARTED\", \"ts\": \"2023-02-11T10:05:21.457222\"}], \"rt\": 0, \"rc\": 0}}\n",
      "{\"asctime\": \"2023-02-11 10:05:21,474\", \"name\": \"taccjm.TACCClient\", \"levelname\": \"INFO\", \"message\": \"Processed command 0\", \"cmnd_config\": {\"id\": 0, \"cmd\": \"whoami\", \"ts\": \"2023-02-11T10:05:21.471199\", \"status\": \"COMPLETE\", \"stdout\": \"b'jovyan\\\\n'\", \"stderr\": \"b''\", \"history\": [{\"status\": \"STARTED\", \"ts\": \"2023-02-11T10:05:21.457222\"}], \"rt\": 0, \"rc\": 0}}\n",
      "{\"asctime\": \"2023-02-11 10:05:21,474\", \"name\": \"taccjm.TACCClient\", \"levelname\": \"INFO\", \"message\": \"Processed command 0\", \"cmnd_config\": {\"id\": 0, \"cmd\": \"whoami\", \"ts\": \"2023-02-11T10:05:21.471199\", \"status\": \"COMPLETE\", \"stdout\": \"b'jovyan\\\\n'\", \"stderr\": \"b''\", \"history\": [{\"status\": \"STARTED\", \"ts\": \"2023-02-11T10:05:21.457222\"}], \"rt\": 0, \"rc\": 0}}\n",
      "{\"asctime\": \"2023-02-11 10:05:21,474\", \"name\": \"taccjm.TACCClient\", \"levelname\": \"INFO\", \"message\": \"Processed command 0\", \"cmnd_config\": {\"id\": 0, \"cmd\": \"whoami\", \"ts\": \"2023-02-11T10:05:21.471199\", \"status\": \"COMPLETE\", \"stdout\": \"b'jovyan\\\\n'\", \"stderr\": \"b''\", \"history\": [{\"status\": \"STARTED\", \"ts\": \"2023-02-11T10:05:21.457222\"}], \"rt\": 0, \"rc\": 0}}\n",
      "{\"asctime\": \"2023-02-11 10:05:21,478\", \"name\": \"taccjm.TACCClient\", \"levelname\": \"INFO\", \"message\": \"Running command locally\", \"cmnd\": \"mkdir -p /home/jovyan/work/repos/taccjm/notebooks/data/test-work/taccjm-ls6/apps /home/jovyan/work/repos/taccjm/notebooks/data/test-work/taccjm-ls6/scripts /home/jovyan/work/repos/taccjm/notebooks/data/test-scratch/taccjm-ls6/jobs /home/jovyan/work/repos/taccjm/notebooks/data/test-scratch/taccjm-ls6/trash\", \"wait\": true, \"error\": true}\n",
      "{\"asctime\": \"2023-02-11 10:05:21,478\", \"name\": \"taccjm.TACCClient\", \"levelname\": \"INFO\", \"message\": \"Running command locally\", \"cmnd\": \"mkdir -p /home/jovyan/work/repos/taccjm/notebooks/data/test-work/taccjm-ls6/apps /home/jovyan/work/repos/taccjm/notebooks/data/test-work/taccjm-ls6/scripts /home/jovyan/work/repos/taccjm/notebooks/data/test-scratch/taccjm-ls6/jobs /home/jovyan/work/repos/taccjm/notebooks/data/test-scratch/taccjm-ls6/trash\", \"wait\": true, \"error\": true}\n",
      "{\"asctime\": \"2023-02-11 10:05:21,478\", \"name\": \"taccjm.TACCClient\", \"levelname\": \"INFO\", \"message\": \"Running command locally\", \"cmnd\": \"mkdir -p /home/jovyan/work/repos/taccjm/notebooks/data/test-work/taccjm-ls6/apps /home/jovyan/work/repos/taccjm/notebooks/data/test-work/taccjm-ls6/scripts /home/jovyan/work/repos/taccjm/notebooks/data/test-scratch/taccjm-ls6/jobs /home/jovyan/work/repos/taccjm/notebooks/data/test-scratch/taccjm-ls6/trash\", \"wait\": true, \"error\": true}\n",
      "{\"asctime\": \"2023-02-11 10:05:21,478\", \"name\": \"taccjm.TACCClient\", \"levelname\": \"INFO\", \"message\": \"Running command locally\", \"cmnd\": \"mkdir -p /home/jovyan/work/repos/taccjm/notebooks/data/test-work/taccjm-ls6/apps /home/jovyan/work/repos/taccjm/notebooks/data/test-work/taccjm-ls6/scripts /home/jovyan/work/repos/taccjm/notebooks/data/test-scratch/taccjm-ls6/jobs /home/jovyan/work/repos/taccjm/notebooks/data/test-scratch/taccjm-ls6/trash\", \"wait\": true, \"error\": true}\n",
      "{\"asctime\": \"2023-02-11 10:05:21,483\", \"name\": \"taccjm.TACCClient\", \"levelname\": \"INFO\", \"message\": \"Getting command 1 from local command list\"}\n",
      "{\"asctime\": \"2023-02-11 10:05:21,483\", \"name\": \"taccjm.TACCClient\", \"levelname\": \"INFO\", \"message\": \"Getting command 1 from local command list\"}\n",
      "{\"asctime\": \"2023-02-11 10:05:21,483\", \"name\": \"taccjm.TACCClient\", \"levelname\": \"INFO\", \"message\": \"Getting command 1 from local command list\"}\n",
      "{\"asctime\": \"2023-02-11 10:05:21,483\", \"name\": \"taccjm.TACCClient\", \"levelname\": \"INFO\", \"message\": \"Getting command 1 from local command list\"}\n",
      "{\"asctime\": \"2023-02-11 10:05:21,487\", \"name\": \"taccjm.TACCClient\", \"levelname\": \"INFO\", \"message\": \"Waiting for command 1 to finish....\"}\n",
      "{\"asctime\": \"2023-02-11 10:05:21,487\", \"name\": \"taccjm.TACCClient\", \"levelname\": \"INFO\", \"message\": \"Waiting for command 1 to finish....\"}\n",
      "{\"asctime\": \"2023-02-11 10:05:21,487\", \"name\": \"taccjm.TACCClient\", \"levelname\": \"INFO\", \"message\": \"Waiting for command 1 to finish....\"}\n",
      "{\"asctime\": \"2023-02-11 10:05:21,487\", \"name\": \"taccjm.TACCClient\", \"levelname\": \"INFO\", \"message\": \"Waiting for command 1 to finish....\"}\n",
      "{\"asctime\": \"2023-02-11 10:05:21,490\", \"name\": \"taccjm.TACCClient\", \"levelname\": \"INFO\", \"message\": \"Command 1 done. Reading output.\"}\n",
      "{\"asctime\": \"2023-02-11 10:05:21,490\", \"name\": \"taccjm.TACCClient\", \"levelname\": \"INFO\", \"message\": \"Command 1 done. Reading output.\"}\n",
      "{\"asctime\": \"2023-02-11 10:05:21,490\", \"name\": \"taccjm.TACCClient\", \"levelname\": \"INFO\", \"message\": \"Command 1 done. Reading output.\"}\n",
      "{\"asctime\": \"2023-02-11 10:05:21,490\", \"name\": \"taccjm.TACCClient\", \"levelname\": \"INFO\", \"message\": \"Command 1 done. Reading output.\"}\n",
      "{\"asctime\": \"2023-02-11 10:05:21,492\", \"name\": \"taccjm.TACCClient\", \"levelname\": \"INFO\", \"message\": \"Command 1 completed!\"}\n",
      "{\"asctime\": \"2023-02-11 10:05:21,492\", \"name\": \"taccjm.TACCClient\", \"levelname\": \"INFO\", \"message\": \"Command 1 completed!\"}\n",
      "{\"asctime\": \"2023-02-11 10:05:21,492\", \"name\": \"taccjm.TACCClient\", \"levelname\": \"INFO\", \"message\": \"Command 1 completed!\"}\n",
      "{\"asctime\": \"2023-02-11 10:05:21,492\", \"name\": \"taccjm.TACCClient\", \"levelname\": \"INFO\", \"message\": \"Command 1 completed!\"}\n",
      "{\"asctime\": \"2023-02-11 10:05:21,495\", \"name\": \"taccjm.TACCClient\", \"levelname\": \"INFO\", \"message\": \"Processed command 1\", \"cmnd_config\": {\"id\": 1, \"cmd\": \"mkdir -p /home/jovyan/work/repos/taccjm/notebooks/data/test-work/taccjm-ls6/apps /home/jovyan/work/repos/taccjm/notebooks/data/test-work/taccjm-ls6/scripts /home/jovyan/work/repos/taccjm/notebooks/data/test-scratch/taccjm-ls6/jobs /home/jovyan/work/repos/taccjm/notebooks/data/test-scratch/taccjm-ls6/trash\", \"ts\": \"2023-02-11T10:05:21.492913\", \"status\": \"COMPLETE\", \"stdout\": \"b''\", \"stderr\": \"b''\", \"history\": [{\"status\": \"STARTED\", \"ts\": \"2023-02-11T10:05:21.483121\"}], \"rt\": 0, \"rc\": 0}}\n",
      "{\"asctime\": \"2023-02-11 10:05:21,495\", \"name\": \"taccjm.TACCClient\", \"levelname\": \"INFO\", \"message\": \"Processed command 1\", \"cmnd_config\": {\"id\": 1, \"cmd\": \"mkdir -p /home/jovyan/work/repos/taccjm/notebooks/data/test-work/taccjm-ls6/apps /home/jovyan/work/repos/taccjm/notebooks/data/test-work/taccjm-ls6/scripts /home/jovyan/work/repos/taccjm/notebooks/data/test-scratch/taccjm-ls6/jobs /home/jovyan/work/repos/taccjm/notebooks/data/test-scratch/taccjm-ls6/trash\", \"ts\": \"2023-02-11T10:05:21.492913\", \"status\": \"COMPLETE\", \"stdout\": \"b''\", \"stderr\": \"b''\", \"history\": [{\"status\": \"STARTED\", \"ts\": \"2023-02-11T10:05:21.483121\"}], \"rt\": 0, \"rc\": 0}}\n",
      "{\"asctime\": \"2023-02-11 10:05:21,495\", \"name\": \"taccjm.TACCClient\", \"levelname\": \"INFO\", \"message\": \"Processed command 1\", \"cmnd_config\": {\"id\": 1, \"cmd\": \"mkdir -p /home/jovyan/work/repos/taccjm/notebooks/data/test-work/taccjm-ls6/apps /home/jovyan/work/repos/taccjm/notebooks/data/test-work/taccjm-ls6/scripts /home/jovyan/work/repos/taccjm/notebooks/data/test-scratch/taccjm-ls6/jobs /home/jovyan/work/repos/taccjm/notebooks/data/test-scratch/taccjm-ls6/trash\", \"ts\": \"2023-02-11T10:05:21.492913\", \"status\": \"COMPLETE\", \"stdout\": \"b''\", \"stderr\": \"b''\", \"history\": [{\"status\": \"STARTED\", \"ts\": \"2023-02-11T10:05:21.483121\"}], \"rt\": 0, \"rc\": 0}}\n",
      "{\"asctime\": \"2023-02-11 10:05:21,495\", \"name\": \"taccjm.TACCClient\", \"levelname\": \"INFO\", \"message\": \"Processed command 1\", \"cmnd_config\": {\"id\": 1, \"cmd\": \"mkdir -p /home/jovyan/work/repos/taccjm/notebooks/data/test-work/taccjm-ls6/apps /home/jovyan/work/repos/taccjm/notebooks/data/test-work/taccjm-ls6/scripts /home/jovyan/work/repos/taccjm/notebooks/data/test-scratch/taccjm-ls6/jobs /home/jovyan/work/repos/taccjm/notebooks/data/test-scratch/taccjm-ls6/trash\", \"ts\": \"2023-02-11T10:05:21.492913\", \"status\": \"COMPLETE\", \"stdout\": \"b''\", \"stderr\": \"b''\", \"history\": [{\"status\": \"STARTED\", \"ts\": \"2023-02-11T10:05:21.483121\"}], \"rt\": 0, \"rc\": 0}}\n"
     ]
    }
   ],
   "source": [
    "system = \"ls6\"\n",
    "os.environ[\"HOSTNAME\"] = f\"login2.{system}.tacc.utexas.edu\"\n",
    "os.environ[\"SCRATCH\"] = str(Path.cwd() / \"data/test-scratch\")\n",
    "os.environ[\"HOME\"] = str(Path.cwd() / \"data/test-home\")\n",
    "os.environ[\"WORK\"] = str(Path.cwd() / \"data/test-work\")\n",
    "client = TACCClient.TACCClient(\n",
    "    \"ls6\", log_config={'output': sys.stdout, 'fmt': 'json', 'level': logging.INFO}\n",
    ")\n",
    "os.environ[\"HOSTNAME\"] = \"\"\n",
    "os.environ[\"SCRATCH\"] = \"\"\n",
    "os.environ[\"HOME\"] = \"\"\n",
    "os.environ[\"WORK\"] = \"\""
   ]
  },
  {
   "cell_type": "code",
   "execution_count": 12,
   "id": "4fc02cea-9458-4636-8faa-f3e9a1e66f7e",
   "metadata": {},
   "outputs": [
    {
     "data": {
      "text/plain": [
       "('/home/jovyan/work/repos/taccjm/notebooks/data/test-work/taccjm-ls6/apps',\n",
       " '/home/jovyan/work/repos/taccjm/notebooks/data/test-scratch/taccjm-ls6/jobs',\n",
       " '/home/jovyan/work/repos/taccjm/notebooks/data/test-work/taccjm-ls6/scripts',\n",
       " '/home/jovyan/work/repos/taccjm/notebooks/data/test-scratch/taccjm-ls6/jobs',\n",
       " '/home/jovyan/work/repos/taccjm/notebooks/data/test-scratch/taccjm-ls6/trash')"
      ]
     },
     "execution_count": 12,
     "metadata": {},
     "output_type": "execute_result"
    }
   ],
   "source": [
    "client.apps_dir, client.jobs_dir, client.scripts_dir, client.jobs_dir, client.trash_dir"
   ]
  },
  {
   "cell_type": "markdown",
   "id": "65546335-e770-4a85-93b4-500713cde6ea",
   "metadata": {},
   "source": [
    "### Command Operations"
   ]
  },
  {
   "cell_type": "code",
   "execution_count": 26,
   "id": "958d05c4-0354-46c5-a8ab-97830c198147",
   "metadata": {},
   "outputs": [
    {
     "name": "stdout",
     "output_type": "stream",
     "text": [
      "2023-02-08 16:16:07,429 | taccjm.TACCSimulation | INFO | Running command locally\n",
      "2023-02-08 16:16:07,429 | taccjm.TACCSimulation | INFO | Running command locally\n",
      "2023-02-08 16:16:07,429 | taccjm.TACCSimulation | INFO | Running command locally\n",
      "2023-02-08 16:16:07,429 | taccjm.TACCSimulation | INFO | Running command locally\n",
      "2023-02-08 16:16:07,429 | taccjm.TACCSimulation | INFO | Running command locally\n",
      "2023-02-08 16:16:07,435 | taccjm.TACCSimulation | INFO | Getting command 0 from local command list\n",
      "2023-02-08 16:16:07,435 | taccjm.TACCSimulation | INFO | Getting command 0 from local command list\n",
      "2023-02-08 16:16:07,435 | taccjm.TACCSimulation | INFO | Getting command 0 from local command list\n",
      "2023-02-08 16:16:07,435 | taccjm.TACCSimulation | INFO | Getting command 0 from local command list\n",
      "2023-02-08 16:16:07,435 | taccjm.TACCSimulation | INFO | Getting command 0 from local command list\n",
      "2023-02-08 16:16:07,439 | taccjm.TACCSimulation | INFO | Waiting for command 0 to finish....\n",
      "2023-02-08 16:16:07,439 | taccjm.TACCSimulation | INFO | Waiting for command 0 to finish....\n",
      "2023-02-08 16:16:07,439 | taccjm.TACCSimulation | INFO | Waiting for command 0 to finish....\n",
      "2023-02-08 16:16:07,439 | taccjm.TACCSimulation | INFO | Waiting for command 0 to finish....\n",
      "2023-02-08 16:16:07,439 | taccjm.TACCSimulation | INFO | Waiting for command 0 to finish....\n"
     ]
    },
    {
     "data": {
      "text/plain": [
       "{'id': 0,\n",
       " 'cmd': 'ls',\n",
       " 'ts': datetime.datetime(2023, 2, 8, 16, 16, 7, 442880),\n",
       " 'status': 'STARTED',\n",
       " 'stdout': b'data\\ntest.json\\nTutorial.ipynb\\n',\n",
       " 'stderr': b'',\n",
       " 'history': [{'status': 'STARTED',\n",
       "   'ts': datetime.datetime(2023, 2, 8, 16, 16, 7, 435737)}],\n",
       " 'process': <Popen: returncode: 0 args: 'ls'>,\n",
       " 'rt': 0,\n",
       " 'rc': 0}"
      ]
     },
     "execution_count": 26,
     "metadata": {},
     "output_type": "execute_result"
    }
   ],
   "source": [
    "client.exec(\"ls\")"
   ]
  },
  {
   "cell_type": "code",
   "execution_count": 27,
   "id": "dc3a5086-b864-4d3f-972e-64076ea1dd10",
   "metadata": {},
   "outputs": [
    {
     "name": "stdout",
     "output_type": "stream",
     "text": [
      "2023-02-08 16:17:46,454 | taccjm.TACCSimulation | INFO | Running command locally\n",
      "2023-02-08 16:17:46,454 | taccjm.TACCSimulation | INFO | Running command locally\n",
      "2023-02-08 16:17:46,454 | taccjm.TACCSimulation | INFO | Running command locally\n",
      "2023-02-08 16:17:46,454 | taccjm.TACCSimulation | INFO | Running command locally\n",
      "2023-02-08 16:17:46,454 | taccjm.TACCSimulation | INFO | Running command locally\n"
     ]
    },
    {
     "data": {
      "text/plain": [
       "{'id': 1,\n",
       " 'cmd': 'echo START; sleep 10; echo END',\n",
       " 'ts': datetime.datetime(2023, 2, 8, 16, 17, 46, 461570),\n",
       " 'status': 'STARTED',\n",
       " 'stdout': '',\n",
       " 'stderr': '',\n",
       " 'history': [],\n",
       " 'process': <Popen: returncode: None args: 'echo START; sleep 10; echo END'>,\n",
       " 'rt': None}"
      ]
     },
     "execution_count": 27,
     "metadata": {},
     "output_type": "execute_result"
    }
   ],
   "source": [
    "client.exec(\"echo START; sleep 10; echo END\", wait=False)"
   ]
  },
  {
   "cell_type": "code",
   "execution_count": 30,
   "id": "15fe1874-af4e-4e13-a95e-c7a30edd6b05",
   "metadata": {},
   "outputs": [
    {
     "name": "stdout",
     "output_type": "stream",
     "text": [
      "2023-02-08 16:18:09,027 | taccjm.TACCSimulation | INFO | Getting command 1 from local command list\n",
      "2023-02-08 16:18:09,027 | taccjm.TACCSimulation | INFO | Getting command 1 from local command list\n",
      "2023-02-08 16:18:09,027 | taccjm.TACCSimulation | INFO | Getting command 1 from local command list\n",
      "2023-02-08 16:18:09,027 | taccjm.TACCSimulation | INFO | Getting command 1 from local command list\n",
      "2023-02-08 16:18:09,027 | taccjm.TACCSimulation | INFO | Getting command 1 from local command list\n",
      "2023-02-08 16:18:09,032 | taccjm.TACCSimulation | INFO | Waiting for command 1 to finish....\n",
      "2023-02-08 16:18:09,032 | taccjm.TACCSimulation | INFO | Waiting for command 1 to finish....\n",
      "2023-02-08 16:18:09,032 | taccjm.TACCSimulation | INFO | Waiting for command 1 to finish....\n",
      "2023-02-08 16:18:09,032 | taccjm.TACCSimulation | INFO | Waiting for command 1 to finish....\n",
      "2023-02-08 16:18:09,032 | taccjm.TACCSimulation | INFO | Waiting for command 1 to finish....\n"
     ]
    },
    {
     "data": {
      "text/plain": [
       "{'id': 1,\n",
       " 'cmd': 'echo START; sleep 10; echo END',\n",
       " 'ts': datetime.datetime(2023, 2, 8, 16, 18, 9, 36562),\n",
       " 'status': 'STARTED',\n",
       " 'stdout': b'START\\nEND\\n',\n",
       " 'stderr': b'',\n",
       " 'history': [{'status': 'STARTED',\n",
       "   'ts': datetime.datetime(2023, 2, 8, 16, 17, 46, 461570)}],\n",
       " 'process': <Popen: returncode: 0 args: 'echo START; sleep 10; echo END'>,\n",
       " 'rt': 22,\n",
       " 'rc': 0}"
      ]
     },
     "execution_count": 30,
     "metadata": {},
     "output_type": "execute_result"
    }
   ],
   "source": [
    "client.process(1)"
   ]
  },
  {
   "cell_type": "markdown",
   "id": "9f63f862-1283-4bb6-96a4-74319b0cbf61",
   "metadata": {},
   "source": [
    "### File Operations\n",
    "\n",
    "Note: Upload and download don't really mean much when executing on TACC itself. "
   ]
  },
  {
   "cell_type": "code",
   "execution_count": 12,
   "id": "beb09206-8570-421f-ac1c-9cf3372990b8",
   "metadata": {},
   "outputs": [
    {
     "data": {
      "text/plain": [
       "[[{'filename': '/home/jovyan/work/repos/taccjm/notebooks',\n",
       "   'st_atime': 1675972885.788579,\n",
       "   'st_gid': 100,\n",
       "   'st_mode': 17901,\n",
       "   'st_mtime': 1675972885.753579,\n",
       "   'st_size': 4096,\n",
       "   'st_uid': 1000}]]"
      ]
     },
     "execution_count": 12,
     "metadata": {},
     "output_type": "execute_result"
    }
   ],
   "source": [
    "current_dir = client.list_files(\"\")\n",
    "current_dir"
   ]
  },
  {
   "cell_type": "code",
   "execution_count": 15,
   "id": "5c524095-7d4d-4ced-a557-e162cb39995f",
   "metadata": {},
   "outputs": [
    {
     "data": {
      "text/plain": [
       "10"
      ]
     },
     "execution_count": 15,
     "metadata": {},
     "output_type": "execute_result"
    }
   ],
   "source": [
    "files = client.list_files(\"\", recurse=True)\n",
    "len(files)"
   ]
  },
  {
   "cell_type": "code",
   "execution_count": 12,
   "id": "c384ef64-2145-408f-9dd9-fd1dbc3c3a8a",
   "metadata": {},
   "outputs": [],
   "source": [
    "client.write({\"test\": 1231}, \"test.json\")"
   ]
  },
  {
   "cell_type": "code",
   "execution_count": 13,
   "id": "14208b0e-1daa-4e2b-9637-335e23ed8119",
   "metadata": {},
   "outputs": [
    {
     "data": {
      "text/plain": [
       "[{'filename': '/home/jovyan/work/repos/taccjm/notebooks/test.json',\n",
       "  'st_atime': 1675972951.953107,\n",
       "  'st_gid': 100,\n",
       "  'st_mode': 33188,\n",
       "  'st_mtime': 1675977509.267336,\n",
       "  'st_size': 14,\n",
       "  'st_uid': 1000}]"
      ]
     },
     "execution_count": 13,
     "metadata": {},
     "output_type": "execute_result"
    }
   ],
   "source": [
    "client.list_files(\"test.json\")"
   ]
  },
  {
   "cell_type": "code",
   "execution_count": 14,
   "id": "fa24e568-597d-4a49-a692-a31846954805",
   "metadata": {},
   "outputs": [
    {
     "data": {
      "text/plain": [
       "'{\"test\": 1231}'"
      ]
     },
     "execution_count": 14,
     "metadata": {},
     "output_type": "execute_result"
    }
   ],
   "source": [
    "client.read(\"test.json\")"
   ]
  },
  {
   "cell_type": "code",
   "execution_count": 23,
   "id": "b35c4b29-cf15-4ce7-a08f-754eca933ad8",
   "metadata": {},
   "outputs": [
    {
     "data": {
      "text/plain": [
       "[[{'filename': '/home/jovyan/work',\n",
       "   'st_atime': 1675970669.301117,\n",
       "   'st_gid': 100,\n",
       "   'st_mode': 19965,\n",
       "   'st_mtime': 1675966498.928591,\n",
       "   'st_size': 4096,\n",
       "   'st_uid': 1000}]]"
      ]
     },
     "execution_count": 23,
     "metadata": {},
     "output_type": "execute_result"
    }
   ],
   "source": [
    "client.list_files('../../..')"
   ]
  },
  {
   "cell_type": "markdown",
   "id": "07ca91d6-cc39-4b6d-95a9-36733e062362",
   "metadata": {
    "tags": []
   },
   "source": [
    "### Trash operations"
   ]
  },
  {
   "cell_type": "code",
   "execution_count": 4,
   "id": "2d50ef9a-4a06-407e-9490-30bc3e68b986",
   "metadata": {},
   "outputs": [
    {
     "data": {
      "text/plain": [
       "'/home/jovyan/work/repos/taccjm/notebooks/data/test-scratch/taccjm-ls6/trash'"
      ]
     },
     "execution_count": 4,
     "metadata": {},
     "output_type": "execute_result"
    }
   ],
   "source": [
    "client.trash_dir"
   ]
  },
  {
   "cell_type": "code",
   "execution_count": 4,
   "id": "7d80925b-76ab-4832-b0a3-6ea6f1f869e1",
   "metadata": {},
   "outputs": [
    {
     "data": {
      "text/plain": [
       "[]"
      ]
     },
     "execution_count": 4,
     "metadata": {},
     "output_type": "execute_result"
    }
   ],
   "source": [
    "client.ls_trash()"
   ]
  },
  {
   "cell_type": "code",
   "execution_count": 5,
   "id": "16eb44d8-8f76-4337-9c41-360b28f3176b",
   "metadata": {},
   "outputs": [
    {
     "name": "stdout",
     "output_type": "stream",
     "text": [
      "{\"asctime\": \"2023-02-09 15:34:52,791\", \"name\": \"taccjm.TACCClient\", \"levelname\": \"INFO\", \"message\": \"Running command locally\", \"cmnd\": \"rsync -a /home/jovyan/work/repos/taccjm/notebooks/test.json /home/jovyan/work/repos/taccjm/notebooks/data/test-scratch/taccjm-ls6/trash/___home___jovyan___work___repos___taccjm___notebooks___test.json && rm -rf /home/jovyan/work/repos/taccjm/notebooks/test.json\", \"wait\": false, \"error\": true}\n"
     ]
    },
    {
     "data": {
      "text/plain": [
       "{'id': 4,\n",
       " 'cmd': 'rsync -a /home/jovyan/work/repos/taccjm/notebooks/test.json /home/jovyan/work/repos/taccjm/notebooks/data/test-scratch/taccjm-ls6/trash/___home___jovyan___work___repos___taccjm___notebooks___test.json && rm -rf /home/jovyan/work/repos/taccjm/notebooks/test.json',\n",
       " 'ts': datetime.datetime(2023, 2, 9, 15, 34, 52, 792784),\n",
       " 'status': 'STARTED',\n",
       " 'stdout': '',\n",
       " 'stderr': '',\n",
       " 'history': [],\n",
       " 'process': <Popen: returncode: None args: 'rsync -a /home/jovyan/work/repos/taccjm/note...>,\n",
       " 'rt': None}"
      ]
     },
     "execution_count": 5,
     "metadata": {},
     "output_type": "execute_result"
    }
   ],
   "source": [
    "client.rm('test.json')"
   ]
  },
  {
   "cell_type": "code",
   "execution_count": 6,
   "id": "0a21d300-b3a0-4855-b072-2f4b572041f9",
   "metadata": {},
   "outputs": [
    {
     "name": "stdout",
     "output_type": "stream",
     "text": [
      "{\"asctime\": \"2023-02-09 15:34:54,600\", \"name\": \"taccjm.TACCClient\", \"levelname\": \"INFO\", \"message\": \"Getting command 4 from local command list\"}\n",
      "{\"asctime\": \"2023-02-09 15:34:54,603\", \"name\": \"taccjm.TACCClient\", \"levelname\": \"INFO\", \"message\": \"Waiting for command 4 to finish....\"}\n",
      "{\"asctime\": \"2023-02-09 15:34:54,604\", \"name\": \"taccjm.TACCClient\", \"levelname\": \"INFO\", \"message\": \"Command 4 done. Reading output.\"}\n",
      "{\"asctime\": \"2023-02-09 15:34:54,605\", \"name\": \"taccjm.TACCClient\", \"levelname\": \"INFO\", \"message\": \"Command 4 completed!\"}\n",
      "{\"asctime\": \"2023-02-09 15:34:54,606\", \"name\": \"taccjm.TACCClient\", \"levelname\": \"INFO\", \"message\": \"Processed command 4\", \"cmnd_config\": {\"id\": 4, \"cmd\": \"rsync -a /home/jovyan/work/repos/taccjm/notebooks/test.json /home/jovyan/work/repos/taccjm/notebooks/data/test-scratch/taccjm-ls6/trash/___home___jovyan___work___repos___taccjm___notebooks___test.json && rm -rf /home/jovyan/work/repos/taccjm/notebooks/test.json\", \"ts\": \"2023-02-09T15:34:54.605277\", \"status\": \"COMPLETE\", \"stdout\": \"b''\", \"stderr\": \"b''\", \"history\": [{\"status\": \"STARTED\", \"ts\": \"2023-02-09T15:34:52.792784\"}], \"rt\": 1, \"rc\": 0}}\n"
     ]
    },
    {
     "data": {
      "text/plain": [
       "{'id': 4,\n",
       " 'cmd': 'rsync -a /home/jovyan/work/repos/taccjm/notebooks/test.json /home/jovyan/work/repos/taccjm/notebooks/data/test-scratch/taccjm-ls6/trash/___home___jovyan___work___repos___taccjm___notebooks___test.json && rm -rf /home/jovyan/work/repos/taccjm/notebooks/test.json',\n",
       " 'ts': datetime.datetime(2023, 2, 9, 15, 34, 54, 605277),\n",
       " 'status': 'COMPLETE',\n",
       " 'stdout': b'',\n",
       " 'stderr': b'',\n",
       " 'history': [{'status': 'STARTED',\n",
       "   'ts': datetime.datetime(2023, 2, 9, 15, 34, 52, 792784)}],\n",
       " 'process': <Popen: returncode: 0 args: 'rsync -a /home/jovyan/work/repos/taccjm/noteboo...>,\n",
       " 'rt': 1,\n",
       " 'rc': 0}"
      ]
     },
     "execution_count": 6,
     "metadata": {},
     "output_type": "execute_result"
    }
   ],
   "source": [
    "client.process(4)"
   ]
  },
  {
   "cell_type": "code",
   "execution_count": 13,
   "id": "c459acd9-d8a9-4dae-9373-a2a2190a25ce",
   "metadata": {},
   "outputs": [
    {
     "data": {
      "text/plain": [
       "[{'filename': '/home/jovyan/work/repos/taccjm/notebooks/test.json',\n",
       "  'st_atime': 1675978492.799484,\n",
       "  'st_gid': 100,\n",
       "  'st_mode': 33188,\n",
       "  'st_mtime': 1675977509.267336,\n",
       "  'st_size': 14,\n",
       "  'st_uid': 1000}]"
      ]
     },
     "execution_count": 13,
     "metadata": {},
     "output_type": "execute_result"
    }
   ],
   "source": [
    "client.ls_trash()"
   ]
  },
  {
   "cell_type": "code",
   "execution_count": 14,
   "id": "3d2dc95b-b8c6-458e-b18d-da03a12624e3",
   "metadata": {},
   "outputs": [
    {
     "ename": "ValueError",
     "evalue": "Error getting stats for /home/jovyan/work/repos/taccjm/notebooks/test.json: [Errno 2] No such file or directory: '/home/jovyan/work/repos/taccjm/notebooks/test.json'",
     "output_type": "error",
     "traceback": [
      "\u001b[0;31m---------------------------------------------------------------------------\u001b[0m",
      "\u001b[0;31mValueError\u001b[0m                                Traceback (most recent call last)",
      "Cell \u001b[0;32mIn[14], line 1\u001b[0m\n\u001b[0;32m----> 1\u001b[0m \u001b[43mclient\u001b[49m\u001b[38;5;241;43m.\u001b[39;49m\u001b[43mlist_files\u001b[49m\u001b[43m(\u001b[49m\u001b[38;5;124;43m\"\u001b[39;49m\u001b[38;5;124;43mtest.json\u001b[39;49m\u001b[38;5;124;43m\"\u001b[39;49m\u001b[43m)\u001b[49m\n",
      "File \u001b[0;32m~home/jovyan/work/repos/taccjm/src/taccjm/TACCClient.py:170\u001b[0m, in \u001b[0;36mTACCClient.list_files\u001b[0;34m(self, path, attrs, recurse, hidden, search, match, job_id)\u001b[0m\n\u001b[1;32m    167\u001b[0m     path \u001b[38;5;241m=\u001b[39m \u001b[38;5;28mself\u001b[39m\u001b[38;5;241m.\u001b[39mabspath(path)\n\u001b[1;32m    169\u001b[0m \u001b[38;5;28;01mif\u001b[39;00m \u001b[38;5;28mself\u001b[39m\u001b[38;5;241m.\u001b[39mssh_client \u001b[38;5;129;01mis\u001b[39;00m \u001b[38;5;28;01mNone\u001b[39;00m:\n\u001b[0;32m--> 170\u001b[0m     \u001b[38;5;28;01mreturn\u001b[39;00m \u001b[43mstat_all_files_and_folders\u001b[49m\u001b[43m(\u001b[49m\u001b[43mpath\u001b[49m\u001b[43m,\u001b[49m\u001b[43m \u001b[49m\u001b[43mrecurse\u001b[49m\u001b[38;5;241;43m=\u001b[39;49m\u001b[43mrecurse\u001b[49m\u001b[43m)\u001b[49m\n\u001b[1;32m    171\u001b[0m \u001b[38;5;28;01melse\u001b[39;00m:\n\u001b[1;32m    172\u001b[0m     \u001b[38;5;28;01mreturn\u001b[39;00m tsa\u001b[38;5;241m.\u001b[39mlist_files(\n\u001b[1;32m    173\u001b[0m         \u001b[38;5;28mself\u001b[39m\u001b[38;5;241m.\u001b[39mid,\n\u001b[1;32m    174\u001b[0m         path\u001b[38;5;241m=\u001b[39mpath,\n\u001b[0;32m   (...)\u001b[0m\n\u001b[1;32m    179\u001b[0m         match\u001b[38;5;241m=\u001b[39mmatch,\n\u001b[1;32m    180\u001b[0m     )\n",
      "File \u001b[0;32m~home/jovyan/work/repos/taccjm/src/taccjm/utils.py:425\u001b[0m, in \u001b[0;36mstat_all_files_and_folders\u001b[0;34m(path, f_attrs, recurse)\u001b[0m\n\u001b[1;32m    423\u001b[0m result \u001b[38;5;241m=\u001b[39m stat_file_or_folder(\u001b[38;5;28mstr\u001b[39m(Path(path)\u001b[38;5;241m.\u001b[39mresolve()))\n\u001b[1;32m    424\u001b[0m \u001b[38;5;28;01mif\u001b[39;00m \u001b[38;5;28misinstance\u001b[39m(result, \u001b[38;5;28mstr\u001b[39m):\n\u001b[0;32m--> 425\u001b[0m     \u001b[38;5;28;01mraise\u001b[39;00m \u001b[38;5;167;01mValueError\u001b[39;00m(result)\n\u001b[1;32m    426\u001b[0m \u001b[38;5;28;01mif\u001b[39;00m \u001b[38;5;129;01mnot\u001b[39;00m stat\u001b[38;5;241m.\u001b[39mS_ISDIR(result[\u001b[38;5;241m1\u001b[39m]\u001b[38;5;241m.\u001b[39mst_mode) \u001b[38;5;129;01mor\u001b[39;00m \u001b[38;5;129;01mnot\u001b[39;00m recurse:\n\u001b[1;32m    427\u001b[0m     \u001b[38;5;28;01mreturn\u001b[39;00m [_process(result)]\n",
      "\u001b[0;31mValueError\u001b[0m: Error getting stats for /home/jovyan/work/repos/taccjm/notebooks/test.json: [Errno 2] No such file or directory: '/home/jovyan/work/repos/taccjm/notebooks/test.json'"
     ]
    }
   ],
   "source": [
    "client.list_files(\"test.json\")"
   ]
  },
  {
   "cell_type": "code",
   "execution_count": 15,
   "id": "08c8ebd2-9367-4380-8c5e-f0190249ded5",
   "metadata": {},
   "outputs": [
    {
     "name": "stdout",
     "output_type": "stream",
     "text": [
      "{\"asctime\": \"2023-02-09 15:36:16,137\", \"name\": \"taccjm.TACCClient\", \"levelname\": \"INFO\", \"message\": \"Running command locally\", \"cmnd\": \"rsync -a /home/jovyan/work/repos/taccjm/notebooks/data/test-scratch/taccjm-ls6/trash/___home___jovyan___work___repos___taccjm___notebooks___test.json /home/jovyan/work/repos/taccjm/notebooks/test.json && rm -rf /home/jovyan/work/repos/taccjm/notebooks/data/test-scratch/taccjm-ls6/trash/___home___jovyan___work___repos___taccjm___notebooks___test.json\", \"wait\": false, \"error\": true}\n",
      "{\"asctime\": \"2023-02-09 15:36:16,137\", \"name\": \"taccjm.TACCClient\", \"levelname\": \"INFO\", \"message\": \"Running command locally\", \"cmnd\": \"rsync -a /home/jovyan/work/repos/taccjm/notebooks/data/test-scratch/taccjm-ls6/trash/___home___jovyan___work___repos___taccjm___notebooks___test.json /home/jovyan/work/repos/taccjm/notebooks/test.json && rm -rf /home/jovyan/work/repos/taccjm/notebooks/data/test-scratch/taccjm-ls6/trash/___home___jovyan___work___repos___taccjm___notebooks___test.json\", \"wait\": false, \"error\": true}\n"
     ]
    },
    {
     "data": {
      "text/plain": [
       "{'id': 4,\n",
       " 'cmd': 'rsync -a /home/jovyan/work/repos/taccjm/notebooks/data/test-scratch/taccjm-ls6/trash/___home___jovyan___work___repos___taccjm___notebooks___test.json /home/jovyan/work/repos/taccjm/notebooks/test.json && rm -rf /home/jovyan/work/repos/taccjm/notebooks/data/test-scratch/taccjm-ls6/trash/___home___jovyan___work___repos___taccjm___notebooks___test.json',\n",
       " 'ts': datetime.datetime(2023, 2, 9, 15, 36, 16, 139573),\n",
       " 'status': 'STARTED',\n",
       " 'stdout': '',\n",
       " 'stderr': '',\n",
       " 'history': [],\n",
       " 'process': <Popen: returncode: None args: 'rsync -a /home/jovyan/work/repos/taccjm/note...>,\n",
       " 'rt': None}"
      ]
     },
     "execution_count": 15,
     "metadata": {},
     "output_type": "execute_result"
    }
   ],
   "source": [
    "client.rm('test.json', restore=True)"
   ]
  },
  {
   "cell_type": "code",
   "execution_count": 16,
   "id": "949ccbf6-198f-4e77-a9a2-4ba641537121",
   "metadata": {},
   "outputs": [
    {
     "data": {
      "text/plain": [
       "[{'filename': '/home/jovyan/work/repos/taccjm/notebooks/test.json',\n",
       "  'st_atime': 1675978576.145376,\n",
       "  'st_gid': 100,\n",
       "  'st_mode': 33188,\n",
       "  'st_mtime': 1675977509.267336,\n",
       "  'st_size': 14,\n",
       "  'st_uid': 1000}]"
      ]
     },
     "execution_count": 16,
     "metadata": {},
     "output_type": "execute_result"
    }
   ],
   "source": [
    "client.list_files(\"test.json\")"
   ]
  },
  {
   "cell_type": "code",
   "execution_count": 17,
   "id": "084e9682-195d-41e5-87df-f79ed4bc555a",
   "metadata": {},
   "outputs": [
    {
     "data": {
      "text/plain": [
       "'{\"test\": 1231}'"
      ]
     },
     "execution_count": 17,
     "metadata": {},
     "output_type": "execute_result"
    }
   ],
   "source": [
    "client.read('test.json')"
   ]
  },
  {
   "cell_type": "markdown",
   "id": "17be54e3-0c48-460a-8122-bf4afaa024b6",
   "metadata": {},
   "source": [
    "## Mamba/Conda Environments\n",
    "\n",
    "Commands to handle environment set-up on tacc"
   ]
  },
  {
   "cell_type": "code",
   "execution_count": 25,
   "id": "78a04c4a-06fa-4467-a815-76494d19790a",
   "metadata": {},
   "outputs": [
    {
     "name": "stdout",
     "output_type": "stream",
     "text": [
      "{\"asctime\": \"2023-02-11 10:05:26,075\", \"name\": \"taccjm.TACCClient\", \"levelname\": \"INFO\", \"message\": \"Running command locally\", \"cmnd\": \"mamba --help\", \"wait\": false, \"error\": true}\n",
      "{\"asctime\": \"2023-02-11 10:05:26,075\", \"name\": \"taccjm.TACCClient\", \"levelname\": \"INFO\", \"message\": \"Running command locally\", \"cmnd\": \"mamba --help\", \"wait\": false, \"error\": true}\n",
      "{\"asctime\": \"2023-02-11 10:05:26,075\", \"name\": \"taccjm.TACCClient\", \"levelname\": \"INFO\", \"message\": \"Running command locally\", \"cmnd\": \"mamba --help\", \"wait\": false, \"error\": true}\n",
      "{\"asctime\": \"2023-02-11 10:05:26,075\", \"name\": \"taccjm.TACCClient\", \"levelname\": \"INFO\", \"message\": \"Running command locally\", \"cmnd\": \"mamba --help\", \"wait\": false, \"error\": true}\n",
      "{\"asctime\": \"2023-02-11 10:05:26,081\", \"name\": \"taccjm.TACCClient\", \"levelname\": \"INFO\", \"message\": \"Running command locally\", \"cmnd\": \"conda --help\", \"wait\": false, \"error\": true}\n",
      "{\"asctime\": \"2023-02-11 10:05:26,081\", \"name\": \"taccjm.TACCClient\", \"levelname\": \"INFO\", \"message\": \"Running command locally\", \"cmnd\": \"conda --help\", \"wait\": false, \"error\": true}\n",
      "{\"asctime\": \"2023-02-11 10:05:26,081\", \"name\": \"taccjm.TACCClient\", \"levelname\": \"INFO\", \"message\": \"Running command locally\", \"cmnd\": \"conda --help\", \"wait\": false, \"error\": true}\n",
      "{\"asctime\": \"2023-02-11 10:05:26,081\", \"name\": \"taccjm.TACCClient\", \"levelname\": \"INFO\", \"message\": \"Running command locally\", \"cmnd\": \"conda --help\", \"wait\": false, \"error\": true}\n",
      "{\"asctime\": \"2023-02-11 10:05:26,086\", \"name\": \"taccjm.TACCClient\", \"levelname\": \"INFO\", \"message\": \"Getting command 2 from local command list\"}\n",
      "{\"asctime\": \"2023-02-11 10:05:26,086\", \"name\": \"taccjm.TACCClient\", \"levelname\": \"INFO\", \"message\": \"Getting command 2 from local command list\"}\n",
      "{\"asctime\": \"2023-02-11 10:05:26,086\", \"name\": \"taccjm.TACCClient\", \"levelname\": \"INFO\", \"message\": \"Getting command 2 from local command list\"}\n",
      "{\"asctime\": \"2023-02-11 10:05:26,086\", \"name\": \"taccjm.TACCClient\", \"levelname\": \"INFO\", \"message\": \"Getting command 2 from local command list\"}\n",
      "{\"asctime\": \"2023-02-11 10:05:26,090\", \"name\": \"taccjm.TACCClient\", \"levelname\": \"INFO\", \"message\": \"Waiting for command 2 to finish....\"}\n",
      "{\"asctime\": \"2023-02-11 10:05:26,090\", \"name\": \"taccjm.TACCClient\", \"levelname\": \"INFO\", \"message\": \"Waiting for command 2 to finish....\"}\n",
      "{\"asctime\": \"2023-02-11 10:05:26,090\", \"name\": \"taccjm.TACCClient\", \"levelname\": \"INFO\", \"message\": \"Waiting for command 2 to finish....\"}\n",
      "{\"asctime\": \"2023-02-11 10:05:26,090\", \"name\": \"taccjm.TACCClient\", \"levelname\": \"INFO\", \"message\": \"Waiting for command 2 to finish....\"}\n",
      "{\"asctime\": \"2023-02-11 10:05:26,554\", \"name\": \"taccjm.TACCClient\", \"levelname\": \"INFO\", \"message\": \"Command 2 done. Reading output.\"}\n",
      "{\"asctime\": \"2023-02-11 10:05:26,554\", \"name\": \"taccjm.TACCClient\", \"levelname\": \"INFO\", \"message\": \"Command 2 done. Reading output.\"}\n",
      "{\"asctime\": \"2023-02-11 10:05:26,554\", \"name\": \"taccjm.TACCClient\", \"levelname\": \"INFO\", \"message\": \"Command 2 done. Reading output.\"}\n",
      "{\"asctime\": \"2023-02-11 10:05:26,554\", \"name\": \"taccjm.TACCClient\", \"levelname\": \"INFO\", \"message\": \"Command 2 done. Reading output.\"}\n",
      "{\"asctime\": \"2023-02-11 10:05:26,557\", \"name\": \"taccjm.TACCClient\", \"levelname\": \"INFO\", \"message\": \"Command 2 completed!\"}\n",
      "{\"asctime\": \"2023-02-11 10:05:26,557\", \"name\": \"taccjm.TACCClient\", \"levelname\": \"INFO\", \"message\": \"Command 2 completed!\"}\n",
      "{\"asctime\": \"2023-02-11 10:05:26,557\", \"name\": \"taccjm.TACCClient\", \"levelname\": \"INFO\", \"message\": \"Command 2 completed!\"}\n",
      "{\"asctime\": \"2023-02-11 10:05:26,557\", \"name\": \"taccjm.TACCClient\", \"levelname\": \"INFO\", \"message\": \"Command 2 completed!\"}\n",
      "{\"asctime\": \"2023-02-11 10:05:26,560\", \"name\": \"taccjm.TACCClient\", \"levelname\": \"INFO\", \"message\": \"Processed command 2\", \"cmnd_config\": {\"id\": 2, \"cmd\": \"mamba --help\", \"ts\": \"2023-02-11T10:05:26.557733\", \"status\": \"COMPLETE\", \"stdout\": \"b'usage: mamba [-h] [-V] command ...\\\\n\\\\nconda is a tool for managing and deploying applications, environments and packages.\\\\n\\\\nOptions:\\\\n\\\\npositional arguments:\\\\n  command\\\\n    clean        Remove unused packag'\", \"stderr\": \"b''\", \"history\": [{\"status\": \"STARTED\", \"ts\": \"2023-02-11T10:05:26.081639\"}], \"rt\": 0, \"rc\": 0}}\n",
      "{\"asctime\": \"2023-02-11 10:05:26,560\", \"name\": \"taccjm.TACCClient\", \"levelname\": \"INFO\", \"message\": \"Processed command 2\", \"cmnd_config\": {\"id\": 2, \"cmd\": \"mamba --help\", \"ts\": \"2023-02-11T10:05:26.557733\", \"status\": \"COMPLETE\", \"stdout\": \"b'usage: mamba [-h] [-V] command ...\\\\n\\\\nconda is a tool for managing and deploying applications, environments and packages.\\\\n\\\\nOptions:\\\\n\\\\npositional arguments:\\\\n  command\\\\n    clean        Remove unused packag'\", \"stderr\": \"b''\", \"history\": [{\"status\": \"STARTED\", \"ts\": \"2023-02-11T10:05:26.081639\"}], \"rt\": 0, \"rc\": 0}}\n",
      "{\"asctime\": \"2023-02-11 10:05:26,560\", \"name\": \"taccjm.TACCClient\", \"levelname\": \"INFO\", \"message\": \"Processed command 2\", \"cmnd_config\": {\"id\": 2, \"cmd\": \"mamba --help\", \"ts\": \"2023-02-11T10:05:26.557733\", \"status\": \"COMPLETE\", \"stdout\": \"b'usage: mamba [-h] [-V] command ...\\\\n\\\\nconda is a tool for managing and deploying applications, environments and packages.\\\\n\\\\nOptions:\\\\n\\\\npositional arguments:\\\\n  command\\\\n    clean        Remove unused packag'\", \"stderr\": \"b''\", \"history\": [{\"status\": \"STARTED\", \"ts\": \"2023-02-11T10:05:26.081639\"}], \"rt\": 0, \"rc\": 0}}\n",
      "{\"asctime\": \"2023-02-11 10:05:26,560\", \"name\": \"taccjm.TACCClient\", \"levelname\": \"INFO\", \"message\": \"Processed command 2\", \"cmnd_config\": {\"id\": 2, \"cmd\": \"mamba --help\", \"ts\": \"2023-02-11T10:05:26.557733\", \"status\": \"COMPLETE\", \"stdout\": \"b'usage: mamba [-h] [-V] command ...\\\\n\\\\nconda is a tool for managing and deploying applications, environments and packages.\\\\n\\\\nOptions:\\\\n\\\\npositional arguments:\\\\n  command\\\\n    clean        Remove unused packag'\", \"stderr\": \"b''\", \"history\": [{\"status\": \"STARTED\", \"ts\": \"2023-02-11T10:05:26.081639\"}], \"rt\": 0, \"rc\": 0}}\n",
      "{\"asctime\": \"2023-02-11 10:05:26,566\", \"name\": \"taccjm.TACCClient\", \"levelname\": \"INFO\", \"message\": \"Running command locally\", \"cmnd\": \"mamba list --name test\", \"wait\": true, \"error\": true}\n",
      "{\"asctime\": \"2023-02-11 10:05:26,566\", \"name\": \"taccjm.TACCClient\", \"levelname\": \"INFO\", \"message\": \"Running command locally\", \"cmnd\": \"mamba list --name test\", \"wait\": true, \"error\": true}\n",
      "{\"asctime\": \"2023-02-11 10:05:26,566\", \"name\": \"taccjm.TACCClient\", \"levelname\": \"INFO\", \"message\": \"Running command locally\", \"cmnd\": \"mamba list --name test\", \"wait\": true, \"error\": true}\n",
      "{\"asctime\": \"2023-02-11 10:05:26,566\", \"name\": \"taccjm.TACCClient\", \"levelname\": \"INFO\", \"message\": \"Running command locally\", \"cmnd\": \"mamba list --name test\", \"wait\": true, \"error\": true}\n",
      "{\"asctime\": \"2023-02-11 10:05:26,570\", \"name\": \"taccjm.TACCClient\", \"levelname\": \"INFO\", \"message\": \"Getting command 4 from local command list\"}\n",
      "{\"asctime\": \"2023-02-11 10:05:26,570\", \"name\": \"taccjm.TACCClient\", \"levelname\": \"INFO\", \"message\": \"Getting command 4 from local command list\"}\n",
      "{\"asctime\": \"2023-02-11 10:05:26,570\", \"name\": \"taccjm.TACCClient\", \"levelname\": \"INFO\", \"message\": \"Getting command 4 from local command list\"}\n",
      "{\"asctime\": \"2023-02-11 10:05:26,570\", \"name\": \"taccjm.TACCClient\", \"levelname\": \"INFO\", \"message\": \"Getting command 4 from local command list\"}\n",
      "{\"asctime\": \"2023-02-11 10:05:26,574\", \"name\": \"taccjm.TACCClient\", \"levelname\": \"INFO\", \"message\": \"Waiting for command 4 to finish....\"}\n",
      "{\"asctime\": \"2023-02-11 10:05:26,574\", \"name\": \"taccjm.TACCClient\", \"levelname\": \"INFO\", \"message\": \"Waiting for command 4 to finish....\"}\n",
      "{\"asctime\": \"2023-02-11 10:05:26,574\", \"name\": \"taccjm.TACCClient\", \"levelname\": \"INFO\", \"message\": \"Waiting for command 4 to finish....\"}\n",
      "{\"asctime\": \"2023-02-11 10:05:26,574\", \"name\": \"taccjm.TACCClient\", \"levelname\": \"INFO\", \"message\": \"Waiting for command 4 to finish....\"}\n",
      "{\"asctime\": \"2023-02-11 10:05:27,170\", \"name\": \"taccjm.TACCClient\", \"levelname\": \"INFO\", \"message\": \"Command 4 done. Reading output.\"}\n",
      "{\"asctime\": \"2023-02-11 10:05:27,170\", \"name\": \"taccjm.TACCClient\", \"levelname\": \"INFO\", \"message\": \"Command 4 done. Reading output.\"}\n",
      "{\"asctime\": \"2023-02-11 10:05:27,170\", \"name\": \"taccjm.TACCClient\", \"levelname\": \"INFO\", \"message\": \"Command 4 done. Reading output.\"}\n",
      "{\"asctime\": \"2023-02-11 10:05:27,170\", \"name\": \"taccjm.TACCClient\", \"levelname\": \"INFO\", \"message\": \"Command 4 done. Reading output.\"}\n",
      "{\"asctime\": \"2023-02-11 10:05:27,174\", \"name\": \"taccjm.TACCClient\", \"levelname\": \"INFO\", \"message\": \"Command 4 completed!\"}\n",
      "{\"asctime\": \"2023-02-11 10:05:27,174\", \"name\": \"taccjm.TACCClient\", \"levelname\": \"INFO\", \"message\": \"Command 4 completed!\"}\n",
      "{\"asctime\": \"2023-02-11 10:05:27,174\", \"name\": \"taccjm.TACCClient\", \"levelname\": \"INFO\", \"message\": \"Command 4 completed!\"}\n",
      "{\"asctime\": \"2023-02-11 10:05:27,174\", \"name\": \"taccjm.TACCClient\", \"levelname\": \"INFO\", \"message\": \"Command 4 completed!\"}\n",
      "{\"asctime\": \"2023-02-11 10:05:27,176\", \"name\": \"taccjm.TACCClient\", \"levelname\": \"INFO\", \"message\": \"Processed command 4\", \"cmnd_config\": {\"id\": 4, \"cmd\": \"mamba list --name test\", \"ts\": \"2023-02-11T10:05:27.174167\", \"status\": \"COMPLETE\", \"stdout\": \"b'# packages in environment at /opt/conda/envs/test:\\\\n#\\\\n# Name                    Version                   Build  Channel\\\\n_libgcc_mutex             0.1                 conda_forge    conda-forge\\\\n_openmp'\", \"stderr\": \"b''\", \"history\": [{\"status\": \"STARTED\", \"ts\": \"2023-02-11T10:05:26.570477\"}], \"rt\": 0, \"rc\": 0}}\n",
      "{\"asctime\": \"2023-02-11 10:05:27,176\", \"name\": \"taccjm.TACCClient\", \"levelname\": \"INFO\", \"message\": \"Processed command 4\", \"cmnd_config\": {\"id\": 4, \"cmd\": \"mamba list --name test\", \"ts\": \"2023-02-11T10:05:27.174167\", \"status\": \"COMPLETE\", \"stdout\": \"b'# packages in environment at /opt/conda/envs/test:\\\\n#\\\\n# Name                    Version                   Build  Channel\\\\n_libgcc_mutex             0.1                 conda_forge    conda-forge\\\\n_openmp'\", \"stderr\": \"b''\", \"history\": [{\"status\": \"STARTED\", \"ts\": \"2023-02-11T10:05:26.570477\"}], \"rt\": 0, \"rc\": 0}}\n",
      "{\"asctime\": \"2023-02-11 10:05:27,176\", \"name\": \"taccjm.TACCClient\", \"levelname\": \"INFO\", \"message\": \"Processed command 4\", \"cmnd_config\": {\"id\": 4, \"cmd\": \"mamba list --name test\", \"ts\": \"2023-02-11T10:05:27.174167\", \"status\": \"COMPLETE\", \"stdout\": \"b'# packages in environment at /opt/conda/envs/test:\\\\n#\\\\n# Name                    Version                   Build  Channel\\\\n_libgcc_mutex             0.1                 conda_forge    conda-forge\\\\n_openmp'\", \"stderr\": \"b''\", \"history\": [{\"status\": \"STARTED\", \"ts\": \"2023-02-11T10:05:26.570477\"}], \"rt\": 0, \"rc\": 0}}\n",
      "{\"asctime\": \"2023-02-11 10:05:27,176\", \"name\": \"taccjm.TACCClient\", \"levelname\": \"INFO\", \"message\": \"Processed command 4\", \"cmnd_config\": {\"id\": 4, \"cmd\": \"mamba list --name test\", \"ts\": \"2023-02-11T10:05:27.174167\", \"status\": \"COMPLETE\", \"stdout\": \"b'# packages in environment at /opt/conda/envs/test:\\\\n#\\\\n# Name                    Version                   Build  Channel\\\\n_libgcc_mutex             0.1                 conda_forge    conda-forge\\\\n_openmp'\", \"stderr\": \"b''\", \"history\": [{\"status\": \"STARTED\", \"ts\": \"2023-02-11T10:05:26.570477\"}], \"rt\": 0, \"rc\": 0}}\n"
     ]
    },
    {
     "data": {
      "text/html": [
       "<div>\n",
       "<style scoped>\n",
       "    .dataframe tbody tr th:only-of-type {\n",
       "        vertical-align: middle;\n",
       "    }\n",
       "\n",
       "    .dataframe tbody tr th {\n",
       "        vertical-align: top;\n",
       "    }\n",
       "\n",
       "    .dataframe thead th {\n",
       "        text-align: right;\n",
       "    }\n",
       "</style>\n",
       "<table border=\"1\" class=\"dataframe\">\n",
       "  <thead>\n",
       "    <tr style=\"text-align: right;\">\n",
       "      <th></th>\n",
       "      <th>name</th>\n",
       "      <th>version</th>\n",
       "      <th>build</th>\n",
       "      <th>channel</th>\n",
       "      <th>path</th>\n",
       "    </tr>\n",
       "  </thead>\n",
       "  <tbody>\n",
       "    <tr>\n",
       "      <th>0</th>\n",
       "      <td>_libgcc_mutex</td>\n",
       "      <td>0.1</td>\n",
       "      <td>conda_forge</td>\n",
       "      <td>conda-forge</td>\n",
       "      <td>/opt/conda/envs/test</td>\n",
       "    </tr>\n",
       "    <tr>\n",
       "      <th>1</th>\n",
       "      <td>_openmp_mutex</td>\n",
       "      <td>4.5</td>\n",
       "      <td>2_gnu</td>\n",
       "      <td>conda-forge</td>\n",
       "      <td>/opt/conda/envs/test</td>\n",
       "    </tr>\n",
       "    <tr>\n",
       "      <th>2</th>\n",
       "      <td>bzip2</td>\n",
       "      <td>1.0.8</td>\n",
       "      <td>h7f98852_4</td>\n",
       "      <td>conda-forge</td>\n",
       "      <td>/opt/conda/envs/test</td>\n",
       "    </tr>\n",
       "    <tr>\n",
       "      <th>3</th>\n",
       "      <td>ca-certificates</td>\n",
       "      <td>2022.12.7</td>\n",
       "      <td>ha878542_0</td>\n",
       "      <td>conda-forge</td>\n",
       "      <td>/opt/conda/envs/test</td>\n",
       "    </tr>\n",
       "    <tr>\n",
       "      <th>4</th>\n",
       "      <td>ld_impl_linux-64</td>\n",
       "      <td>2.40</td>\n",
       "      <td>h41732ed_0</td>\n",
       "      <td>conda-forge</td>\n",
       "      <td>/opt/conda/envs/test</td>\n",
       "    </tr>\n",
       "    <tr>\n",
       "      <th>5</th>\n",
       "      <td>libffi</td>\n",
       "      <td>3.4.2</td>\n",
       "      <td>h7f98852_5</td>\n",
       "      <td>conda-forge</td>\n",
       "      <td>/opt/conda/envs/test</td>\n",
       "    </tr>\n",
       "    <tr>\n",
       "      <th>6</th>\n",
       "      <td>libgcc-ng</td>\n",
       "      <td>12.2.0</td>\n",
       "      <td>h65d4601_19</td>\n",
       "      <td>conda-forge</td>\n",
       "      <td>/opt/conda/envs/test</td>\n",
       "    </tr>\n",
       "    <tr>\n",
       "      <th>7</th>\n",
       "      <td>libgomp</td>\n",
       "      <td>12.2.0</td>\n",
       "      <td>h65d4601_19</td>\n",
       "      <td>conda-forge</td>\n",
       "      <td>/opt/conda/envs/test</td>\n",
       "    </tr>\n",
       "    <tr>\n",
       "      <th>8</th>\n",
       "      <td>libnsl</td>\n",
       "      <td>2.0.0</td>\n",
       "      <td>h7f98852_0</td>\n",
       "      <td>conda-forge</td>\n",
       "      <td>/opt/conda/envs/test</td>\n",
       "    </tr>\n",
       "    <tr>\n",
       "      <th>9</th>\n",
       "      <td>libsqlite</td>\n",
       "      <td>3.40.0</td>\n",
       "      <td>h753d276_0</td>\n",
       "      <td>conda-forge</td>\n",
       "      <td>/opt/conda/envs/test</td>\n",
       "    </tr>\n",
       "    <tr>\n",
       "      <th>10</th>\n",
       "      <td>libuuid</td>\n",
       "      <td>2.32.1</td>\n",
       "      <td>h7f98852_1000</td>\n",
       "      <td>conda-forge</td>\n",
       "      <td>/opt/conda/envs/test</td>\n",
       "    </tr>\n",
       "    <tr>\n",
       "      <th>11</th>\n",
       "      <td>libzlib</td>\n",
       "      <td>1.2.13</td>\n",
       "      <td>h166bdaf_4</td>\n",
       "      <td>conda-forge</td>\n",
       "      <td>/opt/conda/envs/test</td>\n",
       "    </tr>\n",
       "    <tr>\n",
       "      <th>12</th>\n",
       "      <td>ncurses</td>\n",
       "      <td>6.3</td>\n",
       "      <td>h27087fc_1</td>\n",
       "      <td>conda-forge</td>\n",
       "      <td>/opt/conda/envs/test</td>\n",
       "    </tr>\n",
       "    <tr>\n",
       "      <th>13</th>\n",
       "      <td>openssl</td>\n",
       "      <td>3.0.8</td>\n",
       "      <td>h0b41bf4_0</td>\n",
       "      <td>conda-forge</td>\n",
       "      <td>/opt/conda/envs/test</td>\n",
       "    </tr>\n",
       "    <tr>\n",
       "      <th>14</th>\n",
       "      <td>pip</td>\n",
       "      <td>23.0</td>\n",
       "      <td>pyhd8ed1ab_0</td>\n",
       "      <td>conda-forge</td>\n",
       "      <td>/opt/conda/envs/test</td>\n",
       "    </tr>\n",
       "    <tr>\n",
       "      <th>15</th>\n",
       "      <td>python</td>\n",
       "      <td>3.11.0</td>\n",
       "      <td>he550d4f_1_cpython</td>\n",
       "      <td>conda-forge</td>\n",
       "      <td>/opt/conda/envs/test</td>\n",
       "    </tr>\n",
       "    <tr>\n",
       "      <th>16</th>\n",
       "      <td>readline</td>\n",
       "      <td>8.1.2</td>\n",
       "      <td>h0f457ee_0</td>\n",
       "      <td>conda-forge</td>\n",
       "      <td>/opt/conda/envs/test</td>\n",
       "    </tr>\n",
       "    <tr>\n",
       "      <th>17</th>\n",
       "      <td>setuptools</td>\n",
       "      <td>67.1.0</td>\n",
       "      <td>pyhd8ed1ab_0</td>\n",
       "      <td>conda-forge</td>\n",
       "      <td>/opt/conda/envs/test</td>\n",
       "    </tr>\n",
       "    <tr>\n",
       "      <th>18</th>\n",
       "      <td>tk</td>\n",
       "      <td>8.6.12</td>\n",
       "      <td>h27826a3_0</td>\n",
       "      <td>conda-forge</td>\n",
       "      <td>/opt/conda/envs/test</td>\n",
       "    </tr>\n",
       "    <tr>\n",
       "      <th>19</th>\n",
       "      <td>tzdata</td>\n",
       "      <td>2022g</td>\n",
       "      <td>h191b570_0</td>\n",
       "      <td>conda-forge</td>\n",
       "      <td>/opt/conda/envs/test</td>\n",
       "    </tr>\n",
       "    <tr>\n",
       "      <th>20</th>\n",
       "      <td>wheel</td>\n",
       "      <td>0.38.4</td>\n",
       "      <td>pyhd8ed1ab_0</td>\n",
       "      <td>conda-forge</td>\n",
       "      <td>/opt/conda/envs/test</td>\n",
       "    </tr>\n",
       "    <tr>\n",
       "      <th>21</th>\n",
       "      <td>xz</td>\n",
       "      <td>5.2.6</td>\n",
       "      <td>h166bdaf_0</td>\n",
       "      <td>conda-forge</td>\n",
       "      <td>/opt/conda/envs/test</td>\n",
       "    </tr>\n",
       "  </tbody>\n",
       "</table>\n",
       "</div>"
      ],
      "text/plain": [
       "                name    version               build      channel  \\\n",
       "0      _libgcc_mutex        0.1         conda_forge  conda-forge   \n",
       "1      _openmp_mutex        4.5               2_gnu  conda-forge   \n",
       "2              bzip2      1.0.8          h7f98852_4  conda-forge   \n",
       "3    ca-certificates  2022.12.7          ha878542_0  conda-forge   \n",
       "4   ld_impl_linux-64       2.40          h41732ed_0  conda-forge   \n",
       "5             libffi      3.4.2          h7f98852_5  conda-forge   \n",
       "6          libgcc-ng     12.2.0         h65d4601_19  conda-forge   \n",
       "7            libgomp     12.2.0         h65d4601_19  conda-forge   \n",
       "8             libnsl      2.0.0          h7f98852_0  conda-forge   \n",
       "9          libsqlite     3.40.0          h753d276_0  conda-forge   \n",
       "10           libuuid     2.32.1       h7f98852_1000  conda-forge   \n",
       "11           libzlib     1.2.13          h166bdaf_4  conda-forge   \n",
       "12           ncurses        6.3          h27087fc_1  conda-forge   \n",
       "13           openssl      3.0.8          h0b41bf4_0  conda-forge   \n",
       "14               pip       23.0        pyhd8ed1ab_0  conda-forge   \n",
       "15            python     3.11.0  he550d4f_1_cpython  conda-forge   \n",
       "16          readline      8.1.2          h0f457ee_0  conda-forge   \n",
       "17        setuptools     67.1.0        pyhd8ed1ab_0  conda-forge   \n",
       "18                tk     8.6.12          h27826a3_0  conda-forge   \n",
       "19            tzdata      2022g          h191b570_0  conda-forge   \n",
       "20             wheel     0.38.4        pyhd8ed1ab_0  conda-forge   \n",
       "21                xz      5.2.6          h166bdaf_0  conda-forge   \n",
       "\n",
       "                    path  \n",
       "0   /opt/conda/envs/test  \n",
       "1   /opt/conda/envs/test  \n",
       "2   /opt/conda/envs/test  \n",
       "3   /opt/conda/envs/test  \n",
       "4   /opt/conda/envs/test  \n",
       "5   /opt/conda/envs/test  \n",
       "6   /opt/conda/envs/test  \n",
       "7   /opt/conda/envs/test  \n",
       "8   /opt/conda/envs/test  \n",
       "9   /opt/conda/envs/test  \n",
       "10  /opt/conda/envs/test  \n",
       "11  /opt/conda/envs/test  \n",
       "12  /opt/conda/envs/test  \n",
       "13  /opt/conda/envs/test  \n",
       "14  /opt/conda/envs/test  \n",
       "15  /opt/conda/envs/test  \n",
       "16  /opt/conda/envs/test  \n",
       "17  /opt/conda/envs/test  \n",
       "18  /opt/conda/envs/test  \n",
       "19  /opt/conda/envs/test  \n",
       "20  /opt/conda/envs/test  \n",
       "21  /opt/conda/envs/test  "
      ]
     },
     "execution_count": 25,
     "metadata": {},
     "output_type": "execute_result"
    }
   ],
   "source": [
    "envs = client.get_python_env('test')\n",
    "envs"
   ]
  },
  {
   "cell_type": "code",
   "execution_count": 11,
   "id": "b8673348-277b-470d-b0bf-e4bcca90b66f",
   "metadata": {},
   "outputs": [
    {
     "name": "stdout",
     "output_type": "stream",
     "text": [
      "{\"asctime\": \"2023-02-10 20:20:15,285\", \"name\": \"taccjm.TACCClient\", \"levelname\": \"INFO\", \"message\": \"Running command locally\", \"cmnd\": \"which pip\", \"wait\": true, \"error\": true}\n",
      "{\"asctime\": \"2023-02-10 20:20:15,285\", \"name\": \"taccjm.TACCClient\", \"levelname\": \"INFO\", \"message\": \"Running command locally\", \"cmnd\": \"which pip\", \"wait\": true, \"error\": true}\n",
      "{\"asctime\": \"2023-02-10 20:20:15,289\", \"name\": \"taccjm.TACCClient\", \"levelname\": \"INFO\", \"message\": \"Getting command 6 from local command list\"}\n",
      "{\"asctime\": \"2023-02-10 20:20:15,289\", \"name\": \"taccjm.TACCClient\", \"levelname\": \"INFO\", \"message\": \"Getting command 6 from local command list\"}\n",
      "{\"asctime\": \"2023-02-10 20:20:15,290\", \"name\": \"taccjm.TACCClient\", \"levelname\": \"INFO\", \"message\": \"Waiting for command 6 to finish....\"}\n",
      "{\"asctime\": \"2023-02-10 20:20:15,290\", \"name\": \"taccjm.TACCClient\", \"levelname\": \"INFO\", \"message\": \"Waiting for command 6 to finish....\"}\n",
      "{\"asctime\": \"2023-02-10 20:20:15,293\", \"name\": \"taccjm.TACCClient\", \"levelname\": \"INFO\", \"message\": \"Command 6 done. Reading output.\"}\n",
      "{\"asctime\": \"2023-02-10 20:20:15,293\", \"name\": \"taccjm.TACCClient\", \"levelname\": \"INFO\", \"message\": \"Command 6 done. Reading output.\"}\n",
      "{\"asctime\": \"2023-02-10 20:20:15,295\", \"name\": \"taccjm.TACCClient\", \"levelname\": \"INFO\", \"message\": \"Command 6 completed!\"}\n",
      "{\"asctime\": \"2023-02-10 20:20:15,295\", \"name\": \"taccjm.TACCClient\", \"levelname\": \"INFO\", \"message\": \"Command 6 completed!\"}\n",
      "{\"asctime\": \"2023-02-10 20:20:15,296\", \"name\": \"taccjm.TACCClient\", \"levelname\": \"INFO\", \"message\": \"Processed command 6\", \"cmnd_config\": {\"id\": 6, \"cmd\": \"which pip\", \"ts\": \"2023-02-10T20:20:15.295185\", \"status\": \"COMPLETE\", \"stdout\": \"b'/opt/conda/bin/pip\\\\n'\", \"stderr\": \"b''\", \"history\": [{\"status\": \"STARTED\", \"ts\": \"2023-02-10T20:20:15.289127\"}], \"rt\": 0, \"rc\": 0}}\n",
      "{\"asctime\": \"2023-02-10 20:20:15,296\", \"name\": \"taccjm.TACCClient\", \"levelname\": \"INFO\", \"message\": \"Processed command 6\", \"cmnd_config\": {\"id\": 6, \"cmd\": \"which pip\", \"ts\": \"2023-02-10T20:20:15.295185\", \"status\": \"COMPLETE\", \"stdout\": \"b'/opt/conda/bin/pip\\\\n'\", \"stderr\": \"b''\", \"history\": [{\"status\": \"STARTED\", \"ts\": \"2023-02-10T20:20:15.289127\"}], \"rt\": 0, \"rc\": 0}}\n"
     ]
    },
    {
     "data": {
      "text/plain": [
       "b'/opt/conda/bin/pip\\n'"
      ]
     },
     "execution_count": 11,
     "metadata": {},
     "output_type": "execute_result"
    }
   ],
   "source": [
    "fp = StringIO(output)"
   ]
  },
  {
   "cell_type": "code",
   "execution_count": 18,
   "id": "e9117a97-619b-4547-acf5-d6b31343b558",
   "metadata": {},
   "outputs": [
    {
     "data": {
      "text/plain": [
       "'/opt/conda/envs/test'"
      ]
     },
     "execution_count": 18,
     "metadata": {},
     "output_type": "execute_result"
    }
   ],
   "source": [
    "envs['path'][envs['name'] == 'test'].iloc[0]"
   ]
  },
  {
   "cell_type": "code",
   "execution_count": 45,
   "id": "2dc2991e-a01e-4667-998f-ad2efe97356f",
   "metadata": {},
   "outputs": [
    {
     "name": "stdout",
     "output_type": "stream",
     "text": [
      "# conda environments:\n",
      "#\n",
      "base                     /opt/conda\n",
      "test                     /opt/conda/envs/test\n",
      "\n",
      "\n"
     ]
    }
   ],
   "source": [
    "import pandas as pd\n",
    "print(envs.decode('utf-8'))"
   ]
  },
  {
   "cell_type": "code",
   "execution_count": 5,
   "id": "1d2bbaaf-b630-4370-9eef-0322bade95bf",
   "metadata": {},
   "outputs": [
    {
     "name": "stdout",
     "output_type": "stream",
     "text": [
      "{\"asctime\": \"2023-02-10 17:48:21,717\", \"name\": \"taccjm.TACCClient\", \"levelname\": \"INFO\", \"message\": \"Running command locally\", \"cmnd\": \"mamba --help\", \"wait\": false, \"error\": true}\n",
      "{\"asctime\": \"2023-02-10 17:48:21,719\", \"name\": \"taccjm.TACCClient\", \"levelname\": \"INFO\", \"message\": \"Running command locally\", \"cmnd\": \"conda --help\", \"wait\": false, \"error\": true}\n",
      "{\"asctime\": \"2023-02-10 17:48:21,721\", \"name\": \"taccjm.TACCClient\", \"levelname\": \"INFO\", \"message\": \"Getting command 2 from local command list\"}\n",
      "{\"asctime\": \"2023-02-10 17:48:21,722\", \"name\": \"taccjm.TACCClient\", \"levelname\": \"INFO\", \"message\": \"Waiting for command 2 to finish....\"}\n",
      "{\"asctime\": \"2023-02-10 17:48:22,190\", \"name\": \"taccjm.TACCClient\", \"levelname\": \"INFO\", \"message\": \"Command 2 done. Reading output.\"}\n",
      "{\"asctime\": \"2023-02-10 17:48:22,191\", \"name\": \"taccjm.TACCClient\", \"levelname\": \"INFO\", \"message\": \"Command 2 completed!\"}\n",
      "{\"asctime\": \"2023-02-10 17:48:22,192\", \"name\": \"taccjm.TACCClient\", \"levelname\": \"INFO\", \"message\": \"Processed command 2\", \"cmnd_config\": {\"id\": 2, \"cmd\": \"mamba --help\", \"ts\": \"2023-02-10T17:48:22.191525\", \"status\": \"COMPLETE\", \"stdout\": \"b'usage: mamba [-h] [-V] command ...\\\\n\\\\nconda is a tool for managing and deploying applications, environments and packages.\\\\n\\\\nOptions:\\\\n\\\\npositional arguments:\\\\n  command\\\\n    clean        Remove unused packages and caches.\\\\n    compare      Compare packages between conda environments.\\\\n    config       Modify configuration values in .condarc. This is modeled\\\\n                 after the git config command. Writes to the user .condarc\\\\n                 file (/.condarc) by default. Use the --show-sources flag to\\\\n                 display all identified configuration locations on your\\\\n                 computer.\\\\n    create       Create a new conda environment from a list of specified\\\\n                 packages.\\\\n    info         Display information about current conda install.\\\\n    init         Initialize conda for shell interaction.\\\\n    install      Installs a list of packages into a specified conda\\\\n                 environment.\\\\n    list         List installed packages in a conda environment.\\\\n    package      Low-level conda package utility. (EXPERIMENTAL)\\\\n    remove       Remove a list of packages from a specified conda environment.\\\\n    rename       Renames an existing environment.\\\\n    run          Run an executable in a conda environment.\\\\n    search       Search for packages and display associated information.The\\\\n                 input is a MatchSpec, a query language for conda packages.\\\\n                 See examples below.\\\\n    uninstall    Alias for conda remove.\\\\n    update       Updates conda packages to the latest compatible version.\\\\n    upgrade      Alias for conda update.\\\\n    notices      Retrieves latest channel notifications.\\\\n    repoquery    Query repositories using mamba.\\\\n\\\\noptions:\\\\n  -h, --help     Show this help message and exit.\\\\n  -V, --version  Show the conda version number and exit.\\\\n\\\\nconda commands available from other packages:\\\\n  env\\\\n'\", \"stderr\": \"b''\", \"history\": [{\"status\": \"STARTED\", \"ts\": \"2023-02-10T17:48:21.719740\"}], \"rt\": 0, \"rc\": 0}}\n",
      "{\"asctime\": \"2023-02-10 17:48:22,193\", \"name\": \"taccjm.TACCClient\", \"levelname\": \"INFO\", \"message\": \"Running command locally\", \"cmnd\": \"mamba activate taccjm && mamba list\", \"wait\": true, \"error\": true}\n",
      "{\"asctime\": \"2023-02-10 17:48:22,195\", \"name\": \"taccjm.TACCClient\", \"levelname\": \"INFO\", \"message\": \"Getting command 4 from local command list\"}\n",
      "{\"asctime\": \"2023-02-10 17:48:22,196\", \"name\": \"taccjm.TACCClient\", \"levelname\": \"INFO\", \"message\": \"Waiting for command 4 to finish....\"}\n",
      "{\"asctime\": \"2023-02-10 17:48:22,610\", \"name\": \"taccjm.TACCClient\", \"levelname\": \"INFO\", \"message\": \"Command 4 done. Reading output.\"}\n",
      "{\"asctime\": \"2023-02-10 17:48:22,611\", \"name\": \"taccjm.TACCClient\", \"levelname\": \"INFO\", \"message\": \"Command 4 failed!\"}\n",
      "{\"asctime\": \"2023-02-10 17:48:22,611\", \"name\": \"taccjm.TACCClient\", \"levelname\": \"ERROR\", \"message\": \"Command 4 failed\", \"cmnd_config\": {\"id\": 4, \"cmd\": \"mamba activate taccjm && mamba list\", \"ts\": \"2023-02-10T17:48:22.611067\", \"status\": \"FAILED\", \"stdout\": \"b''\", \"stderr\": \"b\\\"Run 'mamba init' to be able to run mamba activate/deactivate\\\\nand start a new shell session. Or use conda to activate/deactivate.\\\\n\\\\n\\\"\", \"history\": [{\"status\": \"STARTED\", \"ts\": \"2023-02-10T17:48:22.195682\"}], \"rt\": 0, \"rc\": 255}}\n"
     ]
    },
    {
     "ename": "TACCCommandError",
     "evalue": "Non-zero return code.\nb'jovyan'@ls6$ mamba activate taccjm && mamba list\nrc     : 255\nstdout : b''\nstderr : b\"Run 'mamba init' to be able to run mamba activate/deactivate\\nand start a new shell session. Or use conda to activate/deactivate.\\n\\n\"",
     "output_type": "error",
     "traceback": [
      "\u001b[0;31m---------------------------------------------------------------------------\u001b[0m",
      "\u001b[0;31mTACCCommandError\u001b[0m                          Traceback (most recent call last)",
      "Cell \u001b[0;32mIn[5], line 1\u001b[0m\n\u001b[0;32m----> 1\u001b[0m res \u001b[38;5;241m=\u001b[39m \u001b[43mclient\u001b[49m\u001b[38;5;241;43m.\u001b[39;49m\u001b[43mget_python_env\u001b[49m\u001b[43m(\u001b[49m\u001b[38;5;124;43m'\u001b[39;49m\u001b[38;5;124;43mtaccjm\u001b[39;49m\u001b[38;5;124;43m'\u001b[39;49m\u001b[43m)\u001b[49m\n",
      "File \u001b[0;32m~home/jovyan/work/repos/taccjm/src/taccjm/TACCClient.py:808\u001b[0m, in \u001b[0;36mTACCClient.get_python_env\u001b[0;34m(self, env)\u001b[0m\n\u001b[1;32m    805\u001b[0m \u001b[38;5;28;01mif\u001b[39;00m \u001b[38;5;28mself\u001b[39m\u001b[38;5;241m.\u001b[39mpm \u001b[38;5;129;01mis\u001b[39;00m \u001b[38;5;28;01mNone\u001b[39;00m:\n\u001b[1;32m    806\u001b[0m     \u001b[38;5;28mself\u001b[39m\u001b[38;5;241m.\u001b[39m_find_pm()\n\u001b[0;32m--> 808\u001b[0m res \u001b[38;5;241m=\u001b[39m \u001b[38;5;28;43mself\u001b[39;49m\u001b[38;5;241;43m.\u001b[39;49m\u001b[43mexec\u001b[49m\u001b[43m(\u001b[49m\u001b[38;5;124;43mf\u001b[39;49m\u001b[38;5;124;43m'\u001b[39;49m\u001b[38;5;132;43;01m{\u001b[39;49;00m\u001b[38;5;28;43mself\u001b[39;49m\u001b[38;5;241;43m.\u001b[39;49m\u001b[43mpm\u001b[49m\u001b[38;5;132;43;01m}\u001b[39;49;00m\u001b[38;5;124;43m activate \u001b[39;49m\u001b[38;5;132;43;01m{\u001b[39;49;00m\u001b[43menv\u001b[49m\u001b[38;5;132;43;01m}\u001b[39;49;00m\u001b[38;5;124;43m && \u001b[39;49m\u001b[38;5;132;43;01m{\u001b[39;49;00m\u001b[38;5;28;43mself\u001b[39;49m\u001b[38;5;241;43m.\u001b[39;49m\u001b[43mpm\u001b[49m\u001b[38;5;132;43;01m}\u001b[39;49;00m\u001b[38;5;124;43m list\u001b[39;49m\u001b[38;5;124;43m'\u001b[39;49m\u001b[43m,\u001b[49m\n\u001b[1;32m    809\u001b[0m \u001b[43m                \u001b[49m\u001b[43mwait\u001b[49m\u001b[38;5;241;43m=\u001b[39;49m\u001b[38;5;28;43;01mTrue\u001b[39;49;00m\u001b[43m,\u001b[49m\u001b[43m \u001b[49m\u001b[43merror\u001b[49m\u001b[38;5;241;43m=\u001b[39;49m\u001b[38;5;28;43;01mTrue\u001b[39;49;00m\u001b[43m)\u001b[49m\n\u001b[1;32m    810\u001b[0m df \u001b[38;5;241m=\u001b[39m pd\u001b[38;5;241m.\u001b[39mread_csv(StringIO(res[\u001b[38;5;124m'\u001b[39m\u001b[38;5;124mstdout\u001b[39m\u001b[38;5;124m'\u001b[39m]),\n\u001b[1;32m    811\u001b[0m                  delim_whitespace\u001b[38;5;241m=\u001b[39m\u001b[38;5;28;01mTrue\u001b[39;00m,\n\u001b[1;32m    812\u001b[0m                  names\u001b[38;5;241m=\u001b[39m[\u001b[38;5;124m'\u001b[39m\u001b[38;5;124mname\u001b[39m\u001b[38;5;124m'\u001b[39m, \u001b[38;5;124m'\u001b[39m\u001b[38;5;124mversion\u001b[39m\u001b[38;5;124m'\u001b[39m, \u001b[38;5;124m'\u001b[39m\u001b[38;5;124mbuild\u001b[39m\u001b[38;5;124m'\u001b[39m, \u001b[38;5;124m'\u001b[39m\u001b[38;5;124mchannel\u001b[39m\u001b[38;5;124m'\u001b[39m],\n\u001b[1;32m    813\u001b[0m                  header\u001b[38;5;241m=\u001b[39m\u001b[38;5;28;01mNone\u001b[39;00m, skiprows\u001b[38;5;241m=\u001b[39m\u001b[38;5;241m3\u001b[39m)\n\u001b[1;32m    814\u001b[0m \u001b[38;5;28;01mreturn\u001b[39;00m df\n",
      "File \u001b[0;32m~home/jovyan/work/repos/taccjm/src/taccjm/TACCClient.py:291\u001b[0m, in \u001b[0;36mTACCClient.exec\u001b[0;34m(self, cmnd, wait, error)\u001b[0m\n\u001b[1;32m    288\u001b[0m \u001b[38;5;28mself\u001b[39m\u001b[38;5;241m.\u001b[39mcommands[\u001b[38;5;28mstr\u001b[39m(cmnd_config[\u001b[38;5;124m'\u001b[39m\u001b[38;5;124mid\u001b[39m\u001b[38;5;124m'\u001b[39m])] \u001b[38;5;241m=\u001b[39m cmnd_config\n\u001b[1;32m    290\u001b[0m \u001b[38;5;28;01mif\u001b[39;00m wait:\n\u001b[0;32m--> 291\u001b[0m     \u001b[38;5;28;01mreturn\u001b[39;00m \u001b[38;5;28;43mself\u001b[39;49m\u001b[38;5;241;43m.\u001b[39;49m\u001b[43mprocess\u001b[49m\u001b[43m(\u001b[49m\u001b[43mcmnd_config\u001b[49m\u001b[43m[\u001b[49m\u001b[38;5;124;43m'\u001b[39;49m\u001b[38;5;124;43mid\u001b[39;49m\u001b[38;5;124;43m'\u001b[39;49m\u001b[43m]\u001b[49m\u001b[43m,\u001b[49m\u001b[43m \u001b[49m\u001b[43mwait\u001b[49m\u001b[38;5;241;43m=\u001b[39;49m\u001b[43mwait\u001b[49m\u001b[43m,\u001b[49m\u001b[43m \u001b[49m\u001b[43merror\u001b[49m\u001b[38;5;241;43m=\u001b[39;49m\u001b[43merror\u001b[49m\u001b[43m)\u001b[49m\n\u001b[1;32m    292\u001b[0m \u001b[38;5;28;01melse\u001b[39;00m:\n\u001b[1;32m    293\u001b[0m     \u001b[38;5;28;01mreturn\u001b[39;00m cmnd_config\n",
      "File \u001b[0;32m~home/jovyan/work/repos/taccjm/src/taccjm/TACCClient.py:343\u001b[0m, in \u001b[0;36mTACCClient.process\u001b[0;34m(self, cmnd_id, wait, error, nbytes)\u001b[0m\n\u001b[1;32m    341\u001b[0m     \u001b[38;5;28mself\u001b[39m\u001b[38;5;241m.\u001b[39mlog\u001b[38;5;241m.\u001b[39merror(msg, extra\u001b[38;5;241m=\u001b[39m{\u001b[38;5;124m'\u001b[39m\u001b[38;5;124mcmnd_config\u001b[39m\u001b[38;5;124m'\u001b[39m: logconfig})\n\u001b[1;32m    342\u001b[0m     \u001b[38;5;28;01mif\u001b[39;00m error:\n\u001b[0;32m--> 343\u001b[0m         \u001b[38;5;28;01mraise\u001b[39;00m TACCCommandError(\u001b[38;5;28mself\u001b[39m\u001b[38;5;241m.\u001b[39msystem, \u001b[38;5;28mself\u001b[39m\u001b[38;5;241m.\u001b[39muser, cmnd_config)\n\u001b[1;32m    345\u001b[0m \u001b[38;5;28mself\u001b[39m\u001b[38;5;241m.\u001b[39mlog\u001b[38;5;241m.\u001b[39minfo(\u001b[38;5;124mf\u001b[39m\u001b[38;5;124m'\u001b[39m\u001b[38;5;124mProcessed command \u001b[39m\u001b[38;5;132;01m{\u001b[39;00mcmnd_id\u001b[38;5;132;01m}\u001b[39;00m\u001b[38;5;124m'\u001b[39m,\n\u001b[1;32m    346\u001b[0m               extra\u001b[38;5;241m=\u001b[39m{\u001b[38;5;124m'\u001b[39m\u001b[38;5;124mcmnd_config\u001b[39m\u001b[38;5;124m'\u001b[39m: logconfig})\n\u001b[1;32m    348\u001b[0m \u001b[38;5;28;01mreturn\u001b[39;00m cmnd_config\n",
      "\u001b[0;31mTACCCommandError\u001b[0m: Non-zero return code.\nb'jovyan'@ls6$ mamba activate taccjm && mamba list\nrc     : 255\nstdout : b''\nstderr : b\"Run 'mamba init' to be able to run mamba activate/deactivate\\nand start a new shell session. Or use conda to activate/deactivate.\\n\\n\""
     ]
    }
   ],
   "source": [
    "res = client"
   ]
  },
  {
   "cell_type": "markdown",
   "id": "38c17da4-7efc-4eb4-acf2-2d684c0c18da",
   "metadata": {},
   "source": [
    "# TACC Base Simulation\n"
   ]
  },
  {
   "cell_type": "markdown",
   "id": "e812e0bd-a3da-4e1f-a319-50d90420ff39",
   "metadata": {
    "tags": []
   },
   "source": [
    "## Local Session - Testing"
   ]
  },
  {
   "cell_type": "code",
   "execution_count": 35,
   "id": "799bb2ad-c89e-4e7f-8611-adf2bebf291b",
   "metadata": {},
   "outputs": [],
   "source": [
    "import os\n",
    "from pathlib import Path\n",
    "from taccjm import TACCSimulation\n",
    "import logging"
   ]
  },
  {
   "cell_type": "code",
   "execution_count": 36,
   "id": "ef77a686-2854-45b8-b07c-daf0779b5509",
   "metadata": {},
   "outputs": [],
   "source": [
    "# Move TACC System\n",
    "\n",
    "def mock_tacc():\n",
    "    system = \"ls6\"\n",
    "    os.environ[\"HOSTNAME\"] = f\"login2.{system}.tacc.utexas.edu\"\n",
    "    os.environ[\"SCRATCH\"] = str(Path.cwd() / \"data/test-scratch\")\n",
    "    os.environ[\"HOME\"] = str(Path.cwd() / \"data/test-home\")\n",
    "    os.environ[\"WORK\"] = str(Path.cwd() / \"data/test-work\")\n",
    "\n",
    "def unmock_tacc():\n",
    "    os.environ[\"HOSTNAME\"] = \"\"\n",
    "    os.environ[\"SCRATCH\"] = \"\"\n",
    "    os.environ[\"HOME\"] = \"\"\n",
    "    os.environ[\"WORK\"] = \"\""
   ]
  },
  {
   "cell_type": "code",
   "execution_count": 39,
   "id": "bc166557-84dc-4d01-bd93-c603ab867741",
   "metadata": {},
   "outputs": [
    {
     "data": {
      "text/plain": [
       "<module 'taccjm.TACCSimulation' from '/home/jovyan/work/repos/taccjm/src/taccjm/TACCSimulation.py'>"
      ]
     },
     "execution_count": 39,
     "metadata": {},
     "output_type": "execute_result"
    }
   ],
   "source": [
    "import importlib\n",
    "importlib.reload(TACCSimulation)"
   ]
  },
  {
   "cell_type": "code",
   "execution_count": 40,
   "id": "e5f24763-2cb8-4cae-a860-01524aae0044",
   "metadata": {},
   "outputs": [],
   "source": [
    "mock_tacc()\n",
    "sim = TACCSimulation.TACCSimulation(system='ls6',\n",
    "                                    name='test',\n",
    "                                    log_config={'output': 'local-test.log', 'level': logging.INFO})\n",
    "unmock_tacc()"
   ]
  },
  {
   "cell_type": "code",
   "execution_count": 43,
   "id": "a209373b-a768-4040-adaa-91f81e2e868a",
   "metadata": {},
   "outputs": [
    {
     "data": {
      "text/plain": [
       "'TestClass'"
      ]
     },
     "execution_count": 43,
     "metadata": {},
     "output_type": "execute_result"
    }
   ],
   "source": [
    "'TestClass'.split('.')[-1]"
   ]
  },
  {
   "cell_type": "code",
   "execution_count": 5,
   "id": "0b34a1e7-f4ec-40c2-aa4c-39272beacb22",
   "metadata": {},
   "outputs": [
    {
     "data": {
      "text/plain": [
       "{'name': 'test',\n",
       " 'job_id': 'test_20230211_204452qdkgxt0c',\n",
       " 'job_dir': '/home/jovyan/work/repos/taccjm/notebooks/data/test-scratch/taccjm-ls6/jobs/test_20230211_204452qdkgxt0c',\n",
       " 'slurm': {'allocation': 'ADCIRC',\n",
       "  'node_count': 1,\n",
       "  'processors_per_node': 1,\n",
       "  'max_run_time': 0.1,\n",
       "  'queue': 'development',\n",
       "  'dependencies': []},\n",
       " 'args': {'input_file': '/home/jovyan/work/repos/taccjm/notebooks/data/test-scratch/taccjm-ls6/jobs/test_20230211_204452qdkgxt0c/test.txt',\n",
       "  'param': 5},\n",
       " 'submit_script': '/tmp/tmp2p_jr201/submit_script.sh',\n",
       " 'sim_script': '/tmp/tmp2p_jr201/test.py'}"
      ]
     },
     "execution_count": 5,
     "metadata": {},
     "output_type": "execute_result"
    }
   ],
   "source": [
    "job_config = sim.setup(args={'input_file': 'data/test.txt', 'param': 5}, slurm_config={'processors_per_node': 1, 'allocation': 'ADCIRC'}, stage=True, run=False)\n",
    "job_config"
   ]
  },
  {
   "cell_type": "code",
   "execution_count": 10,
   "id": "77b82d6e",
   "metadata": {},
   "outputs": [
    {
     "data": {
      "text/html": [
       "<div>\n",
       "<style scoped>\n",
       "    .dataframe tbody tr th:only-of-type {\n",
       "        vertical-align: middle;\n",
       "    }\n",
       "\n",
       "    .dataframe tbody tr th {\n",
       "        vertical-align: top;\n",
       "    }\n",
       "\n",
       "    .dataframe thead th {\n",
       "        text-align: right;\n",
       "    }\n",
       "</style>\n",
       "<table border=\"1\" class=\"dataframe\">\n",
       "  <thead>\n",
       "    <tr style=\"text-align: right;\">\n",
       "      <th></th>\n",
       "      <th>asctime</th>\n",
       "      <th>name</th>\n",
       "      <th>levelname</th>\n",
       "      <th>message</th>\n",
       "      <th>config</th>\n",
       "      <th>cmnd</th>\n",
       "      <th>wait</th>\n",
       "      <th>error</th>\n",
       "      <th>cmnd_config</th>\n",
       "      <th>inputs</th>\n",
       "      <th>slurm_config</th>\n",
       "      <th>arg</th>\n",
       "      <th>run_cmd</th>\n",
       "      <th>job_config</th>\n",
       "      <th>job_dir</th>\n",
       "      <th>src</th>\n",
       "      <th>dest</th>\n",
       "      <th>path</th>\n",
       "      <th>stage_commands</th>\n",
       "    </tr>\n",
       "  </thead>\n",
       "  <tbody>\n",
       "    <tr>\n",
       "      <th>0</th>\n",
       "      <td>2023-02-11 20:42:48,978</td>\n",
       "      <td>taccjm.TACCSimulation</td>\n",
       "      <td>INFO</td>\n",
       "      <td>Logger taccjm.TACCSimulation initialized</td>\n",
       "      <td>{'output': 'local-test.log', 'fmt': 'json', 'l...</td>\n",
       "      <td>NaN</td>\n",
       "      <td>NaN</td>\n",
       "      <td>NaN</td>\n",
       "      <td>NaN</td>\n",
       "      <td>NaN</td>\n",
       "      <td>NaN</td>\n",
       "      <td>NaN</td>\n",
       "      <td>NaN</td>\n",
       "      <td>NaN</td>\n",
       "      <td>NaN</td>\n",
       "      <td>NaN</td>\n",
       "      <td>NaN</td>\n",
       "      <td>NaN</td>\n",
       "      <td>NaN</td>\n",
       "    </tr>\n",
       "    <tr>\n",
       "      <th>1</th>\n",
       "      <td>2023-02-11 20:42:48,978</td>\n",
       "      <td>taccjm.TACCSimulation</td>\n",
       "      <td>INFO</td>\n",
       "      <td>Running from non-main script /home/jovyan/work...</td>\n",
       "      <td>NaN</td>\n",
       "      <td>NaN</td>\n",
       "      <td>NaN</td>\n",
       "      <td>NaN</td>\n",
       "      <td>NaN</td>\n",
       "      <td>NaN</td>\n",
       "      <td>NaN</td>\n",
       "      <td>NaN</td>\n",
       "      <td>NaN</td>\n",
       "      <td>NaN</td>\n",
       "      <td>NaN</td>\n",
       "      <td>NaN</td>\n",
       "      <td>NaN</td>\n",
       "      <td>NaN</td>\n",
       "      <td>NaN</td>\n",
       "    </tr>\n",
       "    <tr>\n",
       "      <th>2</th>\n",
       "      <td>2023-02-11 20:42:48,979</td>\n",
       "      <td>taccjm.TACCClient</td>\n",
       "      <td>INFO</td>\n",
       "      <td>Logger taccjm.TACCClient initialized</td>\n",
       "      <td>{'output': 'local-test.log', 'fmt': 'json', 'l...</td>\n",
       "      <td>NaN</td>\n",
       "      <td>NaN</td>\n",
       "      <td>NaN</td>\n",
       "      <td>NaN</td>\n",
       "      <td>NaN</td>\n",
       "      <td>NaN</td>\n",
       "      <td>NaN</td>\n",
       "      <td>NaN</td>\n",
       "      <td>NaN</td>\n",
       "      <td>NaN</td>\n",
       "      <td>NaN</td>\n",
       "      <td>NaN</td>\n",
       "      <td>NaN</td>\n",
       "      <td>NaN</td>\n",
       "    </tr>\n",
       "    <tr>\n",
       "      <th>3</th>\n",
       "      <td>2023-02-11 20:42:48,979</td>\n",
       "      <td>taccjm.TACCClient</td>\n",
       "      <td>INFO</td>\n",
       "      <td>Running command locally</td>\n",
       "      <td>NaN</td>\n",
       "      <td>whoami</td>\n",
       "      <td>1.0</td>\n",
       "      <td>1.0</td>\n",
       "      <td>NaN</td>\n",
       "      <td>NaN</td>\n",
       "      <td>NaN</td>\n",
       "      <td>NaN</td>\n",
       "      <td>NaN</td>\n",
       "      <td>NaN</td>\n",
       "      <td>NaN</td>\n",
       "      <td>NaN</td>\n",
       "      <td>NaN</td>\n",
       "      <td>NaN</td>\n",
       "      <td>NaN</td>\n",
       "    </tr>\n",
       "    <tr>\n",
       "      <th>4</th>\n",
       "      <td>2023-02-11 20:42:48,987</td>\n",
       "      <td>taccjm.TACCClient</td>\n",
       "      <td>INFO</td>\n",
       "      <td>Getting command 0 from local command list</td>\n",
       "      <td>NaN</td>\n",
       "      <td>NaN</td>\n",
       "      <td>NaN</td>\n",
       "      <td>NaN</td>\n",
       "      <td>NaN</td>\n",
       "      <td>NaN</td>\n",
       "      <td>NaN</td>\n",
       "      <td>NaN</td>\n",
       "      <td>NaN</td>\n",
       "      <td>NaN</td>\n",
       "      <td>NaN</td>\n",
       "      <td>NaN</td>\n",
       "      <td>NaN</td>\n",
       "      <td>NaN</td>\n",
       "      <td>NaN</td>\n",
       "    </tr>\n",
       "    <tr>\n",
       "      <th>...</th>\n",
       "      <td>...</td>\n",
       "      <td>...</td>\n",
       "      <td>...</td>\n",
       "      <td>...</td>\n",
       "      <td>...</td>\n",
       "      <td>...</td>\n",
       "      <td>...</td>\n",
       "      <td>...</td>\n",
       "      <td>...</td>\n",
       "      <td>...</td>\n",
       "      <td>...</td>\n",
       "      <td>...</td>\n",
       "      <td>...</td>\n",
       "      <td>...</td>\n",
       "      <td>...</td>\n",
       "      <td>...</td>\n",
       "      <td>...</td>\n",
       "      <td>...</td>\n",
       "      <td>...</td>\n",
       "    </tr>\n",
       "    <tr>\n",
       "      <th>123</th>\n",
       "      <td>2023-02-11 20:44:52,072</td>\n",
       "      <td>taccjm.TACCClient</td>\n",
       "      <td>INFO</td>\n",
       "      <td>Getting command 7 from local command list</td>\n",
       "      <td>NaN</td>\n",
       "      <td>NaN</td>\n",
       "      <td>NaN</td>\n",
       "      <td>NaN</td>\n",
       "      <td>NaN</td>\n",
       "      <td>NaN</td>\n",
       "      <td>NaN</td>\n",
       "      <td>NaN</td>\n",
       "      <td>NaN</td>\n",
       "      <td>NaN</td>\n",
       "      <td>NaN</td>\n",
       "      <td>NaN</td>\n",
       "      <td>NaN</td>\n",
       "      <td>NaN</td>\n",
       "      <td>NaN</td>\n",
       "    </tr>\n",
       "    <tr>\n",
       "      <th>124</th>\n",
       "      <td>2023-02-11 20:44:52,072</td>\n",
       "      <td>taccjm.TACCClient</td>\n",
       "      <td>INFO</td>\n",
       "      <td>Waiting for command 7 to finish....</td>\n",
       "      <td>NaN</td>\n",
       "      <td>NaN</td>\n",
       "      <td>NaN</td>\n",
       "      <td>NaN</td>\n",
       "      <td>NaN</td>\n",
       "      <td>NaN</td>\n",
       "      <td>NaN</td>\n",
       "      <td>NaN</td>\n",
       "      <td>NaN</td>\n",
       "      <td>NaN</td>\n",
       "      <td>NaN</td>\n",
       "      <td>NaN</td>\n",
       "      <td>NaN</td>\n",
       "      <td>NaN</td>\n",
       "      <td>NaN</td>\n",
       "    </tr>\n",
       "    <tr>\n",
       "      <th>125</th>\n",
       "      <td>2023-02-11 20:44:52,120</td>\n",
       "      <td>taccjm.TACCClient</td>\n",
       "      <td>INFO</td>\n",
       "      <td>Command 7 done. Reading output.</td>\n",
       "      <td>NaN</td>\n",
       "      <td>NaN</td>\n",
       "      <td>NaN</td>\n",
       "      <td>NaN</td>\n",
       "      <td>NaN</td>\n",
       "      <td>NaN</td>\n",
       "      <td>NaN</td>\n",
       "      <td>NaN</td>\n",
       "      <td>NaN</td>\n",
       "      <td>NaN</td>\n",
       "      <td>NaN</td>\n",
       "      <td>NaN</td>\n",
       "      <td>NaN</td>\n",
       "      <td>NaN</td>\n",
       "      <td>NaN</td>\n",
       "    </tr>\n",
       "    <tr>\n",
       "      <th>126</th>\n",
       "      <td>2023-02-11 20:44:52,120</td>\n",
       "      <td>taccjm.TACCClient</td>\n",
       "      <td>INFO</td>\n",
       "      <td>Command 7 completed!</td>\n",
       "      <td>NaN</td>\n",
       "      <td>NaN</td>\n",
       "      <td>NaN</td>\n",
       "      <td>NaN</td>\n",
       "      <td>NaN</td>\n",
       "      <td>NaN</td>\n",
       "      <td>NaN</td>\n",
       "      <td>NaN</td>\n",
       "      <td>NaN</td>\n",
       "      <td>NaN</td>\n",
       "      <td>NaN</td>\n",
       "      <td>NaN</td>\n",
       "      <td>NaN</td>\n",
       "      <td>NaN</td>\n",
       "      <td>NaN</td>\n",
       "    </tr>\n",
       "    <tr>\n",
       "      <th>127</th>\n",
       "      <td>2023-02-11 20:44:52,120</td>\n",
       "      <td>taccjm.TACCClient</td>\n",
       "      <td>INFO</td>\n",
       "      <td>Processed command 7</td>\n",
       "      <td>NaN</td>\n",
       "      <td>NaN</td>\n",
       "      <td>NaN</td>\n",
       "      <td>NaN</td>\n",
       "      <td>{'id': '7', 'cmd': 'rsync -a /tmp/tmp2p_jr201/...</td>\n",
       "      <td>NaN</td>\n",
       "      <td>NaN</td>\n",
       "      <td>NaN</td>\n",
       "      <td>NaN</td>\n",
       "      <td>NaN</td>\n",
       "      <td>NaN</td>\n",
       "      <td>NaN</td>\n",
       "      <td>NaN</td>\n",
       "      <td>NaN</td>\n",
       "      <td>NaN</td>\n",
       "    </tr>\n",
       "  </tbody>\n",
       "</table>\n",
       "<p>128 rows × 19 columns</p>\n",
       "</div>"
      ],
      "text/plain": [
       "                     asctime                   name levelname  \\\n",
       "0    2023-02-11 20:42:48,978  taccjm.TACCSimulation      INFO   \n",
       "1    2023-02-11 20:42:48,978  taccjm.TACCSimulation      INFO   \n",
       "2    2023-02-11 20:42:48,979      taccjm.TACCClient      INFO   \n",
       "3    2023-02-11 20:42:48,979      taccjm.TACCClient      INFO   \n",
       "4    2023-02-11 20:42:48,987      taccjm.TACCClient      INFO   \n",
       "..                       ...                    ...       ...   \n",
       "123  2023-02-11 20:44:52,072      taccjm.TACCClient      INFO   \n",
       "124  2023-02-11 20:44:52,072      taccjm.TACCClient      INFO   \n",
       "125  2023-02-11 20:44:52,120      taccjm.TACCClient      INFO   \n",
       "126  2023-02-11 20:44:52,120      taccjm.TACCClient      INFO   \n",
       "127  2023-02-11 20:44:52,120      taccjm.TACCClient      INFO   \n",
       "\n",
       "                                               message  \\\n",
       "0             Logger taccjm.TACCSimulation initialized   \n",
       "1    Running from non-main script /home/jovyan/work...   \n",
       "2                 Logger taccjm.TACCClient initialized   \n",
       "3                              Running command locally   \n",
       "4            Getting command 0 from local command list   \n",
       "..                                                 ...   \n",
       "123          Getting command 7 from local command list   \n",
       "124                Waiting for command 7 to finish....   \n",
       "125                    Command 7 done. Reading output.   \n",
       "126                               Command 7 completed!   \n",
       "127                                Processed command 7   \n",
       "\n",
       "                                                config    cmnd  wait  error  \\\n",
       "0    {'output': 'local-test.log', 'fmt': 'json', 'l...     NaN   NaN    NaN   \n",
       "1                                                  NaN     NaN   NaN    NaN   \n",
       "2    {'output': 'local-test.log', 'fmt': 'json', 'l...     NaN   NaN    NaN   \n",
       "3                                                  NaN  whoami   1.0    1.0   \n",
       "4                                                  NaN     NaN   NaN    NaN   \n",
       "..                                                 ...     ...   ...    ...   \n",
       "123                                                NaN     NaN   NaN    NaN   \n",
       "124                                                NaN     NaN   NaN    NaN   \n",
       "125                                                NaN     NaN   NaN    NaN   \n",
       "126                                                NaN     NaN   NaN    NaN   \n",
       "127                                                NaN     NaN   NaN    NaN   \n",
       "\n",
       "                                           cmnd_config inputs slurm_config  \\\n",
       "0                                                  NaN    NaN          NaN   \n",
       "1                                                  NaN    NaN          NaN   \n",
       "2                                                  NaN    NaN          NaN   \n",
       "3                                                  NaN    NaN          NaN   \n",
       "4                                                  NaN    NaN          NaN   \n",
       "..                                                 ...    ...          ...   \n",
       "123                                                NaN    NaN          NaN   \n",
       "124                                                NaN    NaN          NaN   \n",
       "125                                                NaN    NaN          NaN   \n",
       "126                                                NaN    NaN          NaN   \n",
       "127  {'id': '7', 'cmd': 'rsync -a /tmp/tmp2p_jr201/...    NaN          NaN   \n",
       "\n",
       "     arg run_cmd job_config job_dir  src dest path stage_commands  \n",
       "0    NaN     NaN        NaN     NaN  NaN  NaN  NaN            NaN  \n",
       "1    NaN     NaN        NaN     NaN  NaN  NaN  NaN            NaN  \n",
       "2    NaN     NaN        NaN     NaN  NaN  NaN  NaN            NaN  \n",
       "3    NaN     NaN        NaN     NaN  NaN  NaN  NaN            NaN  \n",
       "4    NaN     NaN        NaN     NaN  NaN  NaN  NaN            NaN  \n",
       "..   ...     ...        ...     ...  ...  ...  ...            ...  \n",
       "123  NaN     NaN        NaN     NaN  NaN  NaN  NaN            NaN  \n",
       "124  NaN     NaN        NaN     NaN  NaN  NaN  NaN            NaN  \n",
       "125  NaN     NaN        NaN     NaN  NaN  NaN  NaN            NaN  \n",
       "126  NaN     NaN        NaN     NaN  NaN  NaN  NaN            NaN  \n",
       "127  NaN     NaN        NaN     NaN  NaN  NaN  NaN            NaN  \n",
       "\n",
       "[128 rows x 19 columns]"
      ]
     },
     "execution_count": 10,
     "metadata": {},
     "output_type": "execute_result"
    }
   ],
   "source": [
    "sim._read_log()"
   ]
  },
  {
   "cell_type": "code",
   "execution_count": 7,
   "id": "fb11e0cb-4924-4710-91d9-08ef9ac7d4f6",
   "metadata": {},
   "outputs": [
    {
     "name": "stdout",
     "output_type": "stream",
     "text": [
      "{\"asctime\": \"2023-02-11 10:45:39,733\", \"name\": \"taccjm.TACCClient\", \"levelname\": \"INFO\", \"message\": \"Running command locally\", \"cmnd\": \"mamba list --name taccjm\", \"wait\": true, \"error\": true}\n",
      "{\"asctime\": \"2023-02-11 10:45:39,737\", \"name\": \"taccjm.TACCClient\", \"levelname\": \"INFO\", \"message\": \"Getting command 8 from local command list\"}\n",
      "{\"asctime\": \"2023-02-11 10:45:39,737\", \"name\": \"taccjm.TACCClient\", \"levelname\": \"INFO\", \"message\": \"Waiting for command 8 to finish....\"}\n",
      "{\"asctime\": \"2023-02-11 10:45:40,332\", \"name\": \"taccjm.TACCClient\", \"levelname\": \"INFO\", \"message\": \"Command 8 done. Reading output.\"}\n",
      "{\"asctime\": \"2023-02-11 10:45:40,333\", \"name\": \"taccjm.TACCClient\", \"levelname\": \"INFO\", \"message\": \"Command 8 completed!\"}\n",
      "{\"asctime\": \"2023-02-11 10:45:40,334\", \"name\": \"taccjm.TACCClient\", \"levelname\": \"INFO\", \"message\": \"Processed command 8\", \"cmnd_config\": {\"id\": 8, \"cmd\": \"mamba list --name taccjm\", \"ts\": \"2023-02-11T10:45:40.333318\", \"status\": \"COMPLETE\", \"stdout\": \"b'# packages in environment at /opt/conda/envs/taccjm:\\\\n#\\\\n# Name                    Version                   Build  Channel\\\\n_libgcc_mutex             0.1                 conda_forge    conda-forge\\\\n_open'\", \"stderr\": \"b''\", \"history\": [{\"status\": \"STARTED\", \"ts\": \"2023-02-11T10:45:39.737125\"}], \"rt\": 0, \"rc\": 0}}\n"
     ]
    },
    {
     "data": {
      "text/html": [
       "<div>\n",
       "<style scoped>\n",
       "    .dataframe tbody tr th:only-of-type {\n",
       "        vertical-align: middle;\n",
       "    }\n",
       "\n",
       "    .dataframe tbody tr th {\n",
       "        vertical-align: top;\n",
       "    }\n",
       "\n",
       "    .dataframe thead th {\n",
       "        text-align: right;\n",
       "    }\n",
       "</style>\n",
       "<table border=\"1\" class=\"dataframe\">\n",
       "  <thead>\n",
       "    <tr style=\"text-align: right;\">\n",
       "      <th></th>\n",
       "      <th>name</th>\n",
       "      <th>version</th>\n",
       "      <th>build</th>\n",
       "      <th>channel</th>\n",
       "      <th>path</th>\n",
       "    </tr>\n",
       "  </thead>\n",
       "  <tbody>\n",
       "    <tr>\n",
       "      <th>0</th>\n",
       "      <td>_libgcc_mutex</td>\n",
       "      <td>0.1</td>\n",
       "      <td>conda_forge</td>\n",
       "      <td>conda-forge</td>\n",
       "      <td>/opt/conda/envs/taccjm</td>\n",
       "    </tr>\n",
       "    <tr>\n",
       "      <th>1</th>\n",
       "      <td>_openmp_mutex</td>\n",
       "      <td>4.5</td>\n",
       "      <td>2_gnu</td>\n",
       "      <td>conda-forge</td>\n",
       "      <td>/opt/conda/envs/taccjm</td>\n",
       "    </tr>\n",
       "    <tr>\n",
       "      <th>2</th>\n",
       "      <td>bzip2</td>\n",
       "      <td>1.0.8</td>\n",
       "      <td>h7f98852_4</td>\n",
       "      <td>conda-forge</td>\n",
       "      <td>/opt/conda/envs/taccjm</td>\n",
       "    </tr>\n",
       "    <tr>\n",
       "      <th>3</th>\n",
       "      <td>ca-certificates</td>\n",
       "      <td>2022.12.7</td>\n",
       "      <td>ha878542_0</td>\n",
       "      <td>conda-forge</td>\n",
       "      <td>/opt/conda/envs/taccjm</td>\n",
       "    </tr>\n",
       "    <tr>\n",
       "      <th>4</th>\n",
       "      <td>ld_impl_linux-64</td>\n",
       "      <td>2.40</td>\n",
       "      <td>h41732ed_0</td>\n",
       "      <td>conda-forge</td>\n",
       "      <td>/opt/conda/envs/taccjm</td>\n",
       "    </tr>\n",
       "    <tr>\n",
       "      <th>5</th>\n",
       "      <td>libffi</td>\n",
       "      <td>3.4.2</td>\n",
       "      <td>h7f98852_5</td>\n",
       "      <td>conda-forge</td>\n",
       "      <td>/opt/conda/envs/taccjm</td>\n",
       "    </tr>\n",
       "    <tr>\n",
       "      <th>6</th>\n",
       "      <td>libgcc-ng</td>\n",
       "      <td>12.2.0</td>\n",
       "      <td>h65d4601_19</td>\n",
       "      <td>conda-forge</td>\n",
       "      <td>/opt/conda/envs/taccjm</td>\n",
       "    </tr>\n",
       "    <tr>\n",
       "      <th>7</th>\n",
       "      <td>libgomp</td>\n",
       "      <td>12.2.0</td>\n",
       "      <td>h65d4601_19</td>\n",
       "      <td>conda-forge</td>\n",
       "      <td>/opt/conda/envs/taccjm</td>\n",
       "    </tr>\n",
       "    <tr>\n",
       "      <th>8</th>\n",
       "      <td>libnsl</td>\n",
       "      <td>2.0.0</td>\n",
       "      <td>h7f98852_0</td>\n",
       "      <td>conda-forge</td>\n",
       "      <td>/opt/conda/envs/taccjm</td>\n",
       "    </tr>\n",
       "    <tr>\n",
       "      <th>9</th>\n",
       "      <td>libsqlite</td>\n",
       "      <td>3.40.0</td>\n",
       "      <td>h753d276_0</td>\n",
       "      <td>conda-forge</td>\n",
       "      <td>/opt/conda/envs/taccjm</td>\n",
       "    </tr>\n",
       "    <tr>\n",
       "      <th>10</th>\n",
       "      <td>libuuid</td>\n",
       "      <td>2.32.1</td>\n",
       "      <td>h7f98852_1000</td>\n",
       "      <td>conda-forge</td>\n",
       "      <td>/opt/conda/envs/taccjm</td>\n",
       "    </tr>\n",
       "    <tr>\n",
       "      <th>11</th>\n",
       "      <td>libzlib</td>\n",
       "      <td>1.2.13</td>\n",
       "      <td>h166bdaf_4</td>\n",
       "      <td>conda-forge</td>\n",
       "      <td>/opt/conda/envs/taccjm</td>\n",
       "    </tr>\n",
       "    <tr>\n",
       "      <th>12</th>\n",
       "      <td>ncurses</td>\n",
       "      <td>6.3</td>\n",
       "      <td>h27087fc_1</td>\n",
       "      <td>conda-forge</td>\n",
       "      <td>/opt/conda/envs/taccjm</td>\n",
       "    </tr>\n",
       "    <tr>\n",
       "      <th>13</th>\n",
       "      <td>openssl</td>\n",
       "      <td>3.0.8</td>\n",
       "      <td>h0b41bf4_0</td>\n",
       "      <td>conda-forge</td>\n",
       "      <td>/opt/conda/envs/taccjm</td>\n",
       "    </tr>\n",
       "    <tr>\n",
       "      <th>14</th>\n",
       "      <td>pip</td>\n",
       "      <td>23.0</td>\n",
       "      <td>pyhd8ed1ab_0</td>\n",
       "      <td>conda-forge</td>\n",
       "      <td>/opt/conda/envs/taccjm</td>\n",
       "    </tr>\n",
       "    <tr>\n",
       "      <th>15</th>\n",
       "      <td>python</td>\n",
       "      <td>3.11.0</td>\n",
       "      <td>he550d4f_1_cpython</td>\n",
       "      <td>conda-forge</td>\n",
       "      <td>/opt/conda/envs/taccjm</td>\n",
       "    </tr>\n",
       "    <tr>\n",
       "      <th>16</th>\n",
       "      <td>readline</td>\n",
       "      <td>8.1.2</td>\n",
       "      <td>h0f457ee_0</td>\n",
       "      <td>conda-forge</td>\n",
       "      <td>/opt/conda/envs/taccjm</td>\n",
       "    </tr>\n",
       "    <tr>\n",
       "      <th>17</th>\n",
       "      <td>setuptools</td>\n",
       "      <td>67.1.0</td>\n",
       "      <td>pyhd8ed1ab_0</td>\n",
       "      <td>conda-forge</td>\n",
       "      <td>/opt/conda/envs/taccjm</td>\n",
       "    </tr>\n",
       "    <tr>\n",
       "      <th>18</th>\n",
       "      <td>tk</td>\n",
       "      <td>8.6.12</td>\n",
       "      <td>h27826a3_0</td>\n",
       "      <td>conda-forge</td>\n",
       "      <td>/opt/conda/envs/taccjm</td>\n",
       "    </tr>\n",
       "    <tr>\n",
       "      <th>19</th>\n",
       "      <td>tzdata</td>\n",
       "      <td>2022g</td>\n",
       "      <td>h191b570_0</td>\n",
       "      <td>conda-forge</td>\n",
       "      <td>/opt/conda/envs/taccjm</td>\n",
       "    </tr>\n",
       "    <tr>\n",
       "      <th>20</th>\n",
       "      <td>wheel</td>\n",
       "      <td>0.38.4</td>\n",
       "      <td>pyhd8ed1ab_0</td>\n",
       "      <td>conda-forge</td>\n",
       "      <td>/opt/conda/envs/taccjm</td>\n",
       "    </tr>\n",
       "    <tr>\n",
       "      <th>21</th>\n",
       "      <td>xz</td>\n",
       "      <td>5.2.6</td>\n",
       "      <td>h166bdaf_0</td>\n",
       "      <td>conda-forge</td>\n",
       "      <td>/opt/conda/envs/taccjm</td>\n",
       "    </tr>\n",
       "  </tbody>\n",
       "</table>\n",
       "</div>"
      ],
      "text/plain": [
       "                name    version               build      channel  \\\n",
       "0      _libgcc_mutex        0.1         conda_forge  conda-forge   \n",
       "1      _openmp_mutex        4.5               2_gnu  conda-forge   \n",
       "2              bzip2      1.0.8          h7f98852_4  conda-forge   \n",
       "3    ca-certificates  2022.12.7          ha878542_0  conda-forge   \n",
       "4   ld_impl_linux-64       2.40          h41732ed_0  conda-forge   \n",
       "5             libffi      3.4.2          h7f98852_5  conda-forge   \n",
       "6          libgcc-ng     12.2.0         h65d4601_19  conda-forge   \n",
       "7            libgomp     12.2.0         h65d4601_19  conda-forge   \n",
       "8             libnsl      2.0.0          h7f98852_0  conda-forge   \n",
       "9          libsqlite     3.40.0          h753d276_0  conda-forge   \n",
       "10           libuuid     2.32.1       h7f98852_1000  conda-forge   \n",
       "11           libzlib     1.2.13          h166bdaf_4  conda-forge   \n",
       "12           ncurses        6.3          h27087fc_1  conda-forge   \n",
       "13           openssl      3.0.8          h0b41bf4_0  conda-forge   \n",
       "14               pip       23.0        pyhd8ed1ab_0  conda-forge   \n",
       "15            python     3.11.0  he550d4f_1_cpython  conda-forge   \n",
       "16          readline      8.1.2          h0f457ee_0  conda-forge   \n",
       "17        setuptools     67.1.0        pyhd8ed1ab_0  conda-forge   \n",
       "18                tk     8.6.12          h27826a3_0  conda-forge   \n",
       "19            tzdata      2022g          h191b570_0  conda-forge   \n",
       "20             wheel     0.38.4        pyhd8ed1ab_0  conda-forge   \n",
       "21                xz      5.2.6          h166bdaf_0  conda-forge   \n",
       "\n",
       "                      path  \n",
       "0   /opt/conda/envs/taccjm  \n",
       "1   /opt/conda/envs/taccjm  \n",
       "2   /opt/conda/envs/taccjm  \n",
       "3   /opt/conda/envs/taccjm  \n",
       "4   /opt/conda/envs/taccjm  \n",
       "5   /opt/conda/envs/taccjm  \n",
       "6   /opt/conda/envs/taccjm  \n",
       "7   /opt/conda/envs/taccjm  \n",
       "8   /opt/conda/envs/taccjm  \n",
       "9   /opt/conda/envs/taccjm  \n",
       "10  /opt/conda/envs/taccjm  \n",
       "11  /opt/conda/envs/taccjm  \n",
       "12  /opt/conda/envs/taccjm  \n",
       "13  /opt/conda/envs/taccjm  \n",
       "14  /opt/conda/envs/taccjm  \n",
       "15  /opt/conda/envs/taccjm  \n",
       "16  /opt/conda/envs/taccjm  \n",
       "17  /opt/conda/envs/taccjm  \n",
       "18  /opt/conda/envs/taccjm  \n",
       "19  /opt/conda/envs/taccjm  \n",
       "20  /opt/conda/envs/taccjm  \n",
       "21  /opt/conda/envs/taccjm  "
      ]
     },
     "execution_count": 7,
     "metadata": {},
     "output_type": "execute_result"
    }
   ],
   "source": [
    "sim.client.get_python_env(env='taccjm')"
   ]
  },
  {
   "cell_type": "markdown",
   "id": "08ddbcba-2ec7-4940-b8f4-b79fce8b0fea",
   "metadata": {},
   "source": [
    "## Remote Session"
   ]
  },
  {
   "cell_type": "code",
   "execution_count": 1,
   "id": "275087b4-7d99-4f20-968d-69faae398c1e",
   "metadata": {},
   "outputs": [],
   "source": [
    "import os\n",
    "from pathlib import Path\n",
    "from taccjm import TACCSimulation\n",
    "import logging"
   ]
  },
  {
   "cell_type": "code",
   "execution_count": 15,
   "id": "bb633b2c-9fa4-4579-b375-5904ab164ec2",
   "metadata": {},
   "outputs": [
    {
     "data": {
      "text/plain": [
       "<module 'taccjm.TACCSimulation' from '/home/jovyan/work/repos/taccjm/src/taccjm/TACCSimulation.py'>"
      ]
     },
     "execution_count": 15,
     "metadata": {},
     "output_type": "execute_result"
    }
   ],
   "source": [
    "import importlib\n",
    "importlib.reload(TACCSimulation)"
   ]
  },
  {
   "cell_type": "code",
   "execution_count": 16,
   "id": "84d958ee-09dd-4021-b1e3-5b3d43734863",
   "metadata": {},
   "outputs": [],
   "source": [
    "sim = TACCSimulation.TACCSimulation(system='ls6',\n",
    "                                    name='test',\n",
    "                                    log_config={'output': 'local-test.log', 'level': logging.INFO})"
   ]
  },
  {
   "cell_type": "code",
   "execution_count": 17,
   "id": "5cdfc242-6e3a-4f3a-b615-ffa2e0cc6ca2",
   "metadata": {},
   "outputs": [
    {
     "data": {
      "text/plain": [
       "{'name': 'test',\n",
       " 'job_id': 'test_20230213_1546433joyd64c',\n",
       " 'job_dir': '/scratch/06307/clos21/taccjm-ls6/jobs/test_20230213_1546433joyd64c',\n",
       " 'slurm': {'allocation': 'ADCIRC',\n",
       "  'node_count': 1,\n",
       "  'processors_per_node': 1,\n",
       "  'max_run_time': 0.1,\n",
       "  'queue': 'development',\n",
       "  'dependencies': []},\n",
       " 'args': {'input_file': '/scratch/06307/clos21/taccjm-ls6/jobs/test_20230213_1546433joyd64c/test.txt',\n",
       "  'param': 5},\n",
       " 'submit_script': '/scratch/06307/clos21/taccjm-ls6/jobs/test_20230213_1546433joyd64c/submit_script.sh',\n",
       " 'sim_script': '/scratch/06307/clos21/taccjm-ls6/jobs/test_20230213_1546433joyd64c/test.py',\n",
       " 'slurm_id': '698796'}"
      ]
     },
     "execution_count": 17,
     "metadata": {},
     "output_type": "execute_result"
    }
   ],
   "source": [
    "job_config = sim.run(args={'input_file': 'data/test.txt', 'param': 5}, slurm_config={'processors_per_node': 1, 'allocation': 'ADCIRC'})\n",
    "job_config"
   ]
  },
  {
   "cell_type": "code",
   "execution_count": 32,
   "id": "c4fe99c2-8210-4dd4-9846-590f092cc4d7",
   "metadata": {},
   "outputs": [
    {
     "data": {
      "text/plain": [
       "[]"
      ]
     },
     "execution_count": 32,
     "metadata": {},
     "output_type": "execute_result"
    }
   ],
   "source": [
    "sim.client.showq()"
   ]
  },
  {
   "cell_type": "code",
   "execution_count": 33,
   "id": "b1d38daf-57f3-46f1-a197-5343cae05386",
   "metadata": {},
   "outputs": [
    {
     "data": {
      "text/plain": [
       "[{'filename': 'job.json',\n",
       "  'st_atime': 1676324811,\n",
       "  'st_gid': 800588,\n",
       "  'st_mode': 33152,\n",
       "  'st_mtime': 1676324813,\n",
       "  'st_size': 615,\n",
       "  'st_uid': 856065,\n",
       "  'ls_str': '-rw-------   1 856065   800588        615 13 Feb 15:46 job.json'},\n",
       " {'filename': 'submit_script.sh',\n",
       "  'st_atime': 1676324807,\n",
       "  'st_gid': 800588,\n",
       "  'st_mode': 33152,\n",
       "  'st_mtime': 1676324804,\n",
       "  'st_size': 915,\n",
       "  'st_uid': 856065,\n",
       "  'ls_str': '-rw-------   1 856065   800588        915 13 Feb 15:46 submit_script.sh'},\n",
       " {'filename': 'test_20230213_1546433joyd64c.o698796',\n",
       "  'st_atime': 1676324856,\n",
       "  'st_gid': 800588,\n",
       "  'st_mode': 33152,\n",
       "  'st_mtime': 1676324930,\n",
       "  'st_size': 892,\n",
       "  'st_uid': 856065,\n",
       "  'ls_str': '-rw-------   1 856065   800588        892 13 Feb 15:48 test_20230213_1546433joyd64c.o698796'},\n",
       " {'filename': 'test_20230213_1546433joyd64c.e698796',\n",
       "  'st_atime': 1676324873,\n",
       "  'st_gid': 800588,\n",
       "  'st_mode': 33152,\n",
       "  'st_mtime': 1676324926,\n",
       "  'st_size': 1683,\n",
       "  'st_uid': 856065,\n",
       "  'ls_str': '-rw-------   1 856065   800588       1683 13 Feb 15:48 test_20230213_1546433joyd64c.e698796'},\n",
       " {'filename': 'out.txt',\n",
       "  'st_atime': 1676324912,\n",
       "  'st_gid': 800588,\n",
       "  'st_mode': 33152,\n",
       "  'st_mtime': 1676324912,\n",
       "  'st_size': 24,\n",
       "  'st_uid': 856065,\n",
       "  'ls_str': '-rw-------   1 856065   800588         24 13 Feb 15:48 out.txt'},\n",
       " {'filename': 'test.py',\n",
       "  'st_atime': 1676324807,\n",
       "  'st_gid': 800588,\n",
       "  'st_mode': 33216,\n",
       "  'st_mtime': 1676324804,\n",
       "  'st_size': 13547,\n",
       "  'st_uid': 856065,\n",
       "  'ls_str': '-rwx------   1 856065   800588      13547 13 Feb 15:46 test.py'},\n",
       " {'filename': 'test-log.json',\n",
       "  'st_atime': 1676324912,\n",
       "  'st_gid': 800588,\n",
       "  'st_mode': 33152,\n",
       "  'st_mtime': 1676324922,\n",
       "  'st_size': 5284,\n",
       "  'st_uid': 856065,\n",
       "  'ls_str': '-rw-------   1 856065   800588       5284 13 Feb 15:48 test-log.json'},\n",
       " {'filename': 'test.txt',\n",
       "  'st_atime': 1676324807,\n",
       "  'st_gid': 800588,\n",
       "  'st_mode': 33152,\n",
       "  'st_mtime': 1676052351,\n",
       "  'st_size': 24,\n",
       "  'st_uid': 856065,\n",
       "  'ls_str': '-rw-------   1 856065   800588         24 10 Feb 12:05 test.txt'},\n",
       " {'filename': 'remora_698796',\n",
       "  'st_atime': 1676324856,\n",
       "  'st_gid': 800588,\n",
       "  'st_mode': 16832,\n",
       "  'st_mtime': 1676324933,\n",
       "  'st_size': 10,\n",
       "  'st_uid': 856065,\n",
       "  'ls_str': 'drwx------   1 856065   800588         10 13 Feb 15:48 remora_698796'}]"
      ]
     },
     "execution_count": 33,
     "metadata": {},
     "output_type": "execute_result"
    }
   ],
   "source": [
    "files = sim.client.list_files('', job_id=job_config['job_id'], recurse=True)\n",
    "files"
   ]
  },
  {
   "cell_type": "code",
   "execution_count": 9,
   "id": "523c5e82-7f13-45e6-b463-7589b737e121",
   "metadata": {},
   "outputs": [
    {
     "name": "stdout",
     "output_type": "stream",
     "text": [
      "\n"
     ]
    }
   ],
   "source": [
    "print(sim.client.read(files[0]['filename'], job_id=job_config['job_id']))"
   ]
  },
  {
   "cell_type": "code",
   "execution_count": 34,
   "id": "9a279a60-6bee-4390-9457-dd2ab1feb79a",
   "metadata": {},
   "outputs": [
    {
     "data": {
      "text/plain": [
       "'data'"
      ]
     },
     "execution_count": 34,
     "metadata": {},
     "output_type": "execute_result"
    }
   ],
   "source": [
    "sim.client.download('', 'data', job_id=job_config['job_id'])"
   ]
  },
  {
   "cell_type": "code",
   "execution_count": 9,
   "id": "5452359c-fb4b-4327-8217-18e3795d2bb3",
   "metadata": {},
   "outputs": [
    {
     "ename": "TACCCommandError",
     "evalue": "Non-zero return code.\nclos21@ls6$ cd /scratch/06307/clos21/taccjm-ls6/jobs/test_20230211_205944unt993hu && sbatch /tmp/tmp99th7z3o/submit_script.sh\nrc     : 1\nstdout : \n-----------------------------------------------------------------\n          Welcome to the Lonestar6 Supercomputer          \n-----------------------------------------------------------------\n\n\nstderr : sbatch: error: Unable to open file /tmp/tmp99th7z3o/submit_script.sh\n",
     "output_type": "error",
     "traceback": [
      "\u001b[0;31m---------------------------------------------------------------------------\u001b[0m",
      "\u001b[0;31mTACCCommandError\u001b[0m                          Traceback (most recent call last)",
      "Cell \u001b[0;32mIn[9], line 1\u001b[0m\n\u001b[0;32m----> 1\u001b[0m job_config \u001b[38;5;241m=\u001b[39m \u001b[43msim\u001b[49m\u001b[38;5;241;43m.\u001b[39;49m\u001b[43mclient\u001b[49m\u001b[38;5;241;43m.\u001b[39;49m\u001b[43msubmit_job\u001b[49m\u001b[43m(\u001b[49m\u001b[43mjob_config\u001b[49m\u001b[43m[\u001b[49m\u001b[38;5;124;43m'\u001b[39;49m\u001b[38;5;124;43mjob_id\u001b[39;49m\u001b[38;5;124;43m'\u001b[39;49m\u001b[43m]\u001b[49m\u001b[43m)\u001b[49m\n\u001b[1;32m      2\u001b[0m job_config \n",
      "File \u001b[0;32m~/work/repos/taccjm/src/taccjm/TACCClient.py:676\u001b[0m, in \u001b[0;36mTACCClient.submit_job\u001b[0;34m(self, job_id)\u001b[0m\n\u001b[1;32m    674\u001b[0m cmnd \u001b[38;5;241m=\u001b[39m \u001b[38;5;124mf\u001b[39m\u001b[38;5;124m\"\u001b[39m\u001b[38;5;124mcd \u001b[39m\u001b[38;5;132;01m{\u001b[39;00mjob_config[\u001b[38;5;124m'\u001b[39m\u001b[38;5;124mjob_dir\u001b[39m\u001b[38;5;124m'\u001b[39m]\u001b[38;5;132;01m}\u001b[39;00m\u001b[38;5;124m && \u001b[39m\u001b[38;5;124m\"\u001b[39m\n\u001b[1;32m    675\u001b[0m cmnd \u001b[38;5;241m+\u001b[39m\u001b[38;5;241m=\u001b[39m \u001b[38;5;124mf\u001b[39m\u001b[38;5;124m\"\u001b[39m\u001b[38;5;124msbatch \u001b[39m\u001b[38;5;132;01m{\u001b[39;00mjob_config[\u001b[38;5;124m'\u001b[39m\u001b[38;5;124msubmit_script\u001b[39m\u001b[38;5;124m'\u001b[39m]\u001b[38;5;132;01m}\u001b[39;00m\u001b[38;5;124m\"\u001b[39m\n\u001b[0;32m--> 676\u001b[0m ret \u001b[38;5;241m=\u001b[39m \u001b[38;5;28;43mself\u001b[39;49m\u001b[38;5;241;43m.\u001b[39;49m\u001b[43mexec\u001b[49m\u001b[43m(\u001b[49m\u001b[43mcmnd\u001b[49m\u001b[43m,\u001b[49m\u001b[43m \u001b[49m\u001b[43merror\u001b[49m\u001b[38;5;241;43m=\u001b[39;49m\u001b[38;5;28;43;01mTrue\u001b[39;49;00m\u001b[43m)\u001b[49m\n\u001b[1;32m    677\u001b[0m job_config[\u001b[38;5;124m\"\u001b[39m\u001b[38;5;124mslurm_id\u001b[39m\u001b[38;5;124m\"\u001b[39m] \u001b[38;5;241m=\u001b[39m ret[\u001b[38;5;124m'\u001b[39m\u001b[38;5;124mstdout\u001b[39m\u001b[38;5;124m'\u001b[39m]\u001b[38;5;241m.\u001b[39msplit(\u001b[38;5;124m\"\u001b[39m\u001b[38;5;130;01m\\n\u001b[39;00m\u001b[38;5;124m\"\u001b[39m)[\u001b[38;5;241m-\u001b[39m\u001b[38;5;241m2\u001b[39m]\u001b[38;5;241m.\u001b[39msplit(\u001b[38;5;124m\"\u001b[39m\u001b[38;5;124m \u001b[39m\u001b[38;5;124m\"\u001b[39m)[\u001b[38;5;241m-\u001b[39m\u001b[38;5;241m1\u001b[39m]\n\u001b[1;32m    679\u001b[0m \u001b[38;5;66;03m# Save job config\u001b[39;00m\n",
      "File \u001b[0;32m~/work/repos/taccjm/src/taccjm/TACCClient.py:325\u001b[0m, in \u001b[0;36mTACCClient.exec\u001b[0;34m(self, cmnd, wait, error, local)\u001b[0m\n\u001b[1;32m    322\u001b[0m     \u001b[38;5;28mself\u001b[39m\u001b[38;5;241m.\u001b[39mremote_commands[\u001b[38;5;28mstr\u001b[39m(cmnd_config[\u001b[38;5;124m'\u001b[39m\u001b[38;5;124mid\u001b[39m\u001b[38;5;124m'\u001b[39m])] \u001b[38;5;241m=\u001b[39m cmnd_config\n\u001b[1;32m    324\u001b[0m \u001b[38;5;28;01mif\u001b[39;00m wait:\n\u001b[0;32m--> 325\u001b[0m     \u001b[38;5;28;01mreturn\u001b[39;00m \u001b[38;5;28;43mself\u001b[39;49m\u001b[38;5;241;43m.\u001b[39;49m\u001b[43mprocess\u001b[49m\u001b[43m(\u001b[49m\u001b[43mcmnd_config\u001b[49m\u001b[43m[\u001b[49m\u001b[38;5;124;43m'\u001b[39;49m\u001b[38;5;124;43mid\u001b[39;49m\u001b[38;5;124;43m'\u001b[39;49m\u001b[43m]\u001b[49m\u001b[43m,\u001b[49m\u001b[43m \u001b[49m\u001b[43mwait\u001b[49m\u001b[38;5;241;43m=\u001b[39;49m\u001b[43mwait\u001b[49m\u001b[43m,\u001b[49m\u001b[43m \u001b[49m\u001b[43merror\u001b[49m\u001b[38;5;241;43m=\u001b[39;49m\u001b[43merror\u001b[49m\u001b[43m)\u001b[49m\n\u001b[1;32m    326\u001b[0m \u001b[38;5;28;01melse\u001b[39;00m:\n\u001b[1;32m    327\u001b[0m     \u001b[38;5;28;01mreturn\u001b[39;00m cmnd_config\n",
      "File \u001b[0;32m~/work/repos/taccjm/src/taccjm/TACCClient.py:384\u001b[0m, in \u001b[0;36mTACCClient.process\u001b[0;34m(self, cmnd_id, wait, error, nbytes, local)\u001b[0m\n\u001b[1;32m    382\u001b[0m     \u001b[38;5;28mself\u001b[39m\u001b[38;5;241m.\u001b[39mlog\u001b[38;5;241m.\u001b[39merror(msg, extra\u001b[38;5;241m=\u001b[39m{\u001b[38;5;124m'\u001b[39m\u001b[38;5;124mcmnd_config\u001b[39m\u001b[38;5;124m'\u001b[39m: logconfig})\n\u001b[1;32m    383\u001b[0m     \u001b[38;5;28;01mif\u001b[39;00m error:\n\u001b[0;32m--> 384\u001b[0m         \u001b[38;5;28;01mraise\u001b[39;00m TACCCommandError(\u001b[38;5;28mself\u001b[39m\u001b[38;5;241m.\u001b[39msystem, \u001b[38;5;28mself\u001b[39m\u001b[38;5;241m.\u001b[39muser, cmnd_config)\n\u001b[1;32m    386\u001b[0m \u001b[38;5;28mself\u001b[39m\u001b[38;5;241m.\u001b[39mlog\u001b[38;5;241m.\u001b[39minfo(\u001b[38;5;124mf\u001b[39m\u001b[38;5;124m'\u001b[39m\u001b[38;5;124mProcessed command \u001b[39m\u001b[38;5;132;01m{\u001b[39;00mcmnd_id\u001b[38;5;132;01m}\u001b[39;00m\u001b[38;5;124m'\u001b[39m,\n\u001b[1;32m    387\u001b[0m               extra\u001b[38;5;241m=\u001b[39m{\u001b[38;5;124m'\u001b[39m\u001b[38;5;124mcmnd_config\u001b[39m\u001b[38;5;124m'\u001b[39m: \u001b[38;5;28mself\u001b[39m\u001b[38;5;241m.\u001b[39m_trim_cmnd_dict(cmnd_config)})\n\u001b[1;32m    389\u001b[0m \u001b[38;5;28;01mreturn\u001b[39;00m cmnd_config\n",
      "\u001b[0;31mTACCCommandError\u001b[0m: Non-zero return code.\nclos21@ls6$ cd /scratch/06307/clos21/taccjm-ls6/jobs/test_20230211_205944unt993hu && sbatch /tmp/tmp99th7z3o/submit_script.sh\nrc     : 1\nstdout : \n-----------------------------------------------------------------\n          Welcome to the Lonestar6 Supercomputer          \n-----------------------------------------------------------------\n\n\nstderr : sbatch: error: Unable to open file /tmp/tmp99th7z3o/submit_script.sh\n"
     ]
    }
   ],
   "source": [
    "job_config = sim.client.submit_job(job_config['job_id'])\n",
    "job_config "
   ]
  },
  {
   "cell_type": "code",
   "execution_count": 8,
   "id": "991a5a1d-3db6-427f-87fc-576bda99905e",
   "metadata": {},
   "outputs": [
    {
     "data": {
      "text/html": [
       "<div>\n",
       "<style scoped>\n",
       "    .dataframe tbody tr th:only-of-type {\n",
       "        vertical-align: middle;\n",
       "    }\n",
       "\n",
       "    .dataframe tbody tr th {\n",
       "        vertical-align: top;\n",
       "    }\n",
       "\n",
       "    .dataframe thead th {\n",
       "        text-align: right;\n",
       "    }\n",
       "</style>\n",
       "<table border=\"1\" class=\"dataframe\">\n",
       "  <thead>\n",
       "    <tr style=\"text-align: right;\">\n",
       "      <th></th>\n",
       "      <th>asctime</th>\n",
       "      <th>name</th>\n",
       "      <th>levelname</th>\n",
       "      <th>message</th>\n",
       "      <th>config</th>\n",
       "      <th>cmnd</th>\n",
       "      <th>wait</th>\n",
       "      <th>error</th>\n",
       "      <th>cmnd_config</th>\n",
       "      <th>inputs</th>\n",
       "      <th>...</th>\n",
       "      <th>id</th>\n",
       "      <th>sys</th>\n",
       "      <th>user</th>\n",
       "      <th>start</th>\n",
       "      <th>last_ts</th>\n",
       "      <th>log_level</th>\n",
       "      <th>log_file</th>\n",
       "      <th>home_dir</th>\n",
       "      <th>work_dir</th>\n",
       "      <th>scratch_dir</th>\n",
       "    </tr>\n",
       "  </thead>\n",
       "  <tbody>\n",
       "    <tr>\n",
       "      <th>0</th>\n",
       "      <td>2023-02-11 20:42:48,978</td>\n",
       "      <td>taccjm.TACCSimulation</td>\n",
       "      <td>INFO</td>\n",
       "      <td>Logger taccjm.TACCSimulation initialized</td>\n",
       "      <td>{'output': 'local-test.log', 'fmt': 'json', 'l...</td>\n",
       "      <td>NaN</td>\n",
       "      <td>NaN</td>\n",
       "      <td>NaN</td>\n",
       "      <td>NaN</td>\n",
       "      <td>NaN</td>\n",
       "      <td>...</td>\n",
       "      <td>NaN</td>\n",
       "      <td>NaN</td>\n",
       "      <td>NaN</td>\n",
       "      <td>NaN</td>\n",
       "      <td>NaN</td>\n",
       "      <td>NaN</td>\n",
       "      <td>NaN</td>\n",
       "      <td>NaN</td>\n",
       "      <td>NaN</td>\n",
       "      <td>NaN</td>\n",
       "    </tr>\n",
       "    <tr>\n",
       "      <th>1</th>\n",
       "      <td>2023-02-11 20:42:48,978</td>\n",
       "      <td>taccjm.TACCSimulation</td>\n",
       "      <td>INFO</td>\n",
       "      <td>Running from non-main script /home/jovyan/work...</td>\n",
       "      <td>NaN</td>\n",
       "      <td>NaN</td>\n",
       "      <td>NaN</td>\n",
       "      <td>NaN</td>\n",
       "      <td>NaN</td>\n",
       "      <td>NaN</td>\n",
       "      <td>...</td>\n",
       "      <td>NaN</td>\n",
       "      <td>NaN</td>\n",
       "      <td>NaN</td>\n",
       "      <td>NaN</td>\n",
       "      <td>NaN</td>\n",
       "      <td>NaN</td>\n",
       "      <td>NaN</td>\n",
       "      <td>NaN</td>\n",
       "      <td>NaN</td>\n",
       "      <td>NaN</td>\n",
       "    </tr>\n",
       "    <tr>\n",
       "      <th>2</th>\n",
       "      <td>2023-02-11 20:42:48,979</td>\n",
       "      <td>taccjm.TACCClient</td>\n",
       "      <td>INFO</td>\n",
       "      <td>Logger taccjm.TACCClient initialized</td>\n",
       "      <td>{'output': 'local-test.log', 'fmt': 'json', 'l...</td>\n",
       "      <td>NaN</td>\n",
       "      <td>NaN</td>\n",
       "      <td>NaN</td>\n",
       "      <td>NaN</td>\n",
       "      <td>NaN</td>\n",
       "      <td>...</td>\n",
       "      <td>NaN</td>\n",
       "      <td>NaN</td>\n",
       "      <td>NaN</td>\n",
       "      <td>NaN</td>\n",
       "      <td>NaN</td>\n",
       "      <td>NaN</td>\n",
       "      <td>NaN</td>\n",
       "      <td>NaN</td>\n",
       "      <td>NaN</td>\n",
       "      <td>NaN</td>\n",
       "    </tr>\n",
       "    <tr>\n",
       "      <th>3</th>\n",
       "      <td>2023-02-11 20:42:48,979</td>\n",
       "      <td>taccjm.TACCClient</td>\n",
       "      <td>INFO</td>\n",
       "      <td>Running command locally</td>\n",
       "      <td>NaN</td>\n",
       "      <td>whoami</td>\n",
       "      <td>1.0</td>\n",
       "      <td>1.0</td>\n",
       "      <td>NaN</td>\n",
       "      <td>NaN</td>\n",
       "      <td>...</td>\n",
       "      <td>NaN</td>\n",
       "      <td>NaN</td>\n",
       "      <td>NaN</td>\n",
       "      <td>NaN</td>\n",
       "      <td>NaN</td>\n",
       "      <td>NaN</td>\n",
       "      <td>NaN</td>\n",
       "      <td>NaN</td>\n",
       "      <td>NaN</td>\n",
       "      <td>NaN</td>\n",
       "    </tr>\n",
       "    <tr>\n",
       "      <th>4</th>\n",
       "      <td>2023-02-11 20:42:48,987</td>\n",
       "      <td>taccjm.TACCClient</td>\n",
       "      <td>INFO</td>\n",
       "      <td>Getting command 0 from local command list</td>\n",
       "      <td>NaN</td>\n",
       "      <td>NaN</td>\n",
       "      <td>NaN</td>\n",
       "      <td>NaN</td>\n",
       "      <td>NaN</td>\n",
       "      <td>NaN</td>\n",
       "      <td>...</td>\n",
       "      <td>NaN</td>\n",
       "      <td>NaN</td>\n",
       "      <td>NaN</td>\n",
       "      <td>NaN</td>\n",
       "      <td>NaN</td>\n",
       "      <td>NaN</td>\n",
       "      <td>NaN</td>\n",
       "      <td>NaN</td>\n",
       "      <td>NaN</td>\n",
       "      <td>NaN</td>\n",
       "    </tr>\n",
       "    <tr>\n",
       "      <th>...</th>\n",
       "      <td>...</td>\n",
       "      <td>...</td>\n",
       "      <td>...</td>\n",
       "      <td>...</td>\n",
       "      <td>...</td>\n",
       "      <td>...</td>\n",
       "      <td>...</td>\n",
       "      <td>...</td>\n",
       "      <td>...</td>\n",
       "      <td>...</td>\n",
       "      <td>...</td>\n",
       "      <td>...</td>\n",
       "      <td>...</td>\n",
       "      <td>...</td>\n",
       "      <td>...</td>\n",
       "      <td>...</td>\n",
       "      <td>...</td>\n",
       "      <td>...</td>\n",
       "      <td>...</td>\n",
       "      <td>...</td>\n",
       "      <td>...</td>\n",
       "    </tr>\n",
       "    <tr>\n",
       "      <th>350</th>\n",
       "      <td>2023-02-11 20:59:48,371</td>\n",
       "      <td>taccjm.TACCClient</td>\n",
       "      <td>INFO</td>\n",
       "      <td>Waiting for command 0 to finish....</td>\n",
       "      <td>NaN</td>\n",
       "      <td>NaN</td>\n",
       "      <td>NaN</td>\n",
       "      <td>NaN</td>\n",
       "      <td>NaN</td>\n",
       "      <td>NaN</td>\n",
       "      <td>...</td>\n",
       "      <td>NaN</td>\n",
       "      <td>NaN</td>\n",
       "      <td>NaN</td>\n",
       "      <td>NaN</td>\n",
       "      <td>NaN</td>\n",
       "      <td>NaN</td>\n",
       "      <td>NaN</td>\n",
       "      <td>NaN</td>\n",
       "      <td>NaN</td>\n",
       "      <td>NaN</td>\n",
       "    </tr>\n",
       "    <tr>\n",
       "      <th>351</th>\n",
       "      <td>2023-02-11 20:59:48,417</td>\n",
       "      <td>taccjm.TACCClient</td>\n",
       "      <td>INFO</td>\n",
       "      <td>Command 0 done. Reading output.</td>\n",
       "      <td>NaN</td>\n",
       "      <td>NaN</td>\n",
       "      <td>NaN</td>\n",
       "      <td>NaN</td>\n",
       "      <td>NaN</td>\n",
       "      <td>NaN</td>\n",
       "      <td>...</td>\n",
       "      <td>NaN</td>\n",
       "      <td>NaN</td>\n",
       "      <td>NaN</td>\n",
       "      <td>NaN</td>\n",
       "      <td>NaN</td>\n",
       "      <td>NaN</td>\n",
       "      <td>NaN</td>\n",
       "      <td>NaN</td>\n",
       "      <td>NaN</td>\n",
       "      <td>NaN</td>\n",
       "    </tr>\n",
       "    <tr>\n",
       "      <th>352</th>\n",
       "      <td>2023-02-11 20:59:48,417</td>\n",
       "      <td>taccjm.TACCClient</td>\n",
       "      <td>INFO</td>\n",
       "      <td>Command 0 completed!</td>\n",
       "      <td>NaN</td>\n",
       "      <td>NaN</td>\n",
       "      <td>NaN</td>\n",
       "      <td>NaN</td>\n",
       "      <td>NaN</td>\n",
       "      <td>NaN</td>\n",
       "      <td>...</td>\n",
       "      <td>NaN</td>\n",
       "      <td>NaN</td>\n",
       "      <td>NaN</td>\n",
       "      <td>NaN</td>\n",
       "      <td>NaN</td>\n",
       "      <td>NaN</td>\n",
       "      <td>NaN</td>\n",
       "      <td>NaN</td>\n",
       "      <td>NaN</td>\n",
       "      <td>NaN</td>\n",
       "    </tr>\n",
       "    <tr>\n",
       "      <th>353</th>\n",
       "      <td>2023-02-11 20:59:48,417</td>\n",
       "      <td>taccjm.TACCClient</td>\n",
       "      <td>INFO</td>\n",
       "      <td>Processed command 0</td>\n",
       "      <td>NaN</td>\n",
       "      <td>NaN</td>\n",
       "      <td>NaN</td>\n",
       "      <td>NaN</td>\n",
       "      <td>{'id': '0', 'cmd': 'rsync -a data/test.txt /tm...</td>\n",
       "      <td>NaN</td>\n",
       "      <td>...</td>\n",
       "      <td>NaN</td>\n",
       "      <td>NaN</td>\n",
       "      <td>NaN</td>\n",
       "      <td>NaN</td>\n",
       "      <td>NaN</td>\n",
       "      <td>NaN</td>\n",
       "      <td>NaN</td>\n",
       "      <td>NaN</td>\n",
       "      <td>NaN</td>\n",
       "      <td>NaN</td>\n",
       "    </tr>\n",
       "    <tr>\n",
       "      <th>354</th>\n",
       "      <td>2023-02-11 20:59:48,417</td>\n",
       "      <td>taccjm.TACCSimulation</td>\n",
       "      <td>INFO</td>\n",
       "      <td>Uploading job directory</td>\n",
       "      <td>NaN</td>\n",
       "      <td>NaN</td>\n",
       "      <td>NaN</td>\n",
       "      <td>NaN</td>\n",
       "      <td>NaN</td>\n",
       "      <td>NaN</td>\n",
       "      <td>...</td>\n",
       "      <td>NaN</td>\n",
       "      <td>NaN</td>\n",
       "      <td>NaN</td>\n",
       "      <td>NaN</td>\n",
       "      <td>NaN</td>\n",
       "      <td>NaN</td>\n",
       "      <td>NaN</td>\n",
       "      <td>NaN</td>\n",
       "      <td>NaN</td>\n",
       "      <td>NaN</td>\n",
       "    </tr>\n",
       "  </tbody>\n",
       "</table>\n",
       "<p>355 rows × 29 columns</p>\n",
       "</div>"
      ],
      "text/plain": [
       "                     asctime                   name levelname  \\\n",
       "0    2023-02-11 20:42:48,978  taccjm.TACCSimulation      INFO   \n",
       "1    2023-02-11 20:42:48,978  taccjm.TACCSimulation      INFO   \n",
       "2    2023-02-11 20:42:48,979      taccjm.TACCClient      INFO   \n",
       "3    2023-02-11 20:42:48,979      taccjm.TACCClient      INFO   \n",
       "4    2023-02-11 20:42:48,987      taccjm.TACCClient      INFO   \n",
       "..                       ...                    ...       ...   \n",
       "350  2023-02-11 20:59:48,371      taccjm.TACCClient      INFO   \n",
       "351  2023-02-11 20:59:48,417      taccjm.TACCClient      INFO   \n",
       "352  2023-02-11 20:59:48,417      taccjm.TACCClient      INFO   \n",
       "353  2023-02-11 20:59:48,417      taccjm.TACCClient      INFO   \n",
       "354  2023-02-11 20:59:48,417  taccjm.TACCSimulation      INFO   \n",
       "\n",
       "                                               message  \\\n",
       "0             Logger taccjm.TACCSimulation initialized   \n",
       "1    Running from non-main script /home/jovyan/work...   \n",
       "2                 Logger taccjm.TACCClient initialized   \n",
       "3                              Running command locally   \n",
       "4            Getting command 0 from local command list   \n",
       "..                                                 ...   \n",
       "350                Waiting for command 0 to finish....   \n",
       "351                    Command 0 done. Reading output.   \n",
       "352                               Command 0 completed!   \n",
       "353                                Processed command 0   \n",
       "354                            Uploading job directory   \n",
       "\n",
       "                                                config    cmnd  wait  error  \\\n",
       "0    {'output': 'local-test.log', 'fmt': 'json', 'l...     NaN   NaN    NaN   \n",
       "1                                                  NaN     NaN   NaN    NaN   \n",
       "2    {'output': 'local-test.log', 'fmt': 'json', 'l...     NaN   NaN    NaN   \n",
       "3                                                  NaN  whoami   1.0    1.0   \n",
       "4                                                  NaN     NaN   NaN    NaN   \n",
       "..                                                 ...     ...   ...    ...   \n",
       "350                                                NaN     NaN   NaN    NaN   \n",
       "351                                                NaN     NaN   NaN    NaN   \n",
       "352                                                NaN     NaN   NaN    NaN   \n",
       "353                                                NaN     NaN   NaN    NaN   \n",
       "354                                                NaN     NaN   NaN    NaN   \n",
       "\n",
       "                                           cmnd_config inputs  ...   id  sys  \\\n",
       "0                                                  NaN    NaN  ...  NaN  NaN   \n",
       "1                                                  NaN    NaN  ...  NaN  NaN   \n",
       "2                                                  NaN    NaN  ...  NaN  NaN   \n",
       "3                                                  NaN    NaN  ...  NaN  NaN   \n",
       "4                                                  NaN    NaN  ...  NaN  NaN   \n",
       "..                                                 ...    ...  ...  ...  ...   \n",
       "350                                                NaN    NaN  ...  NaN  NaN   \n",
       "351                                                NaN    NaN  ...  NaN  NaN   \n",
       "352                                                NaN    NaN  ...  NaN  NaN   \n",
       "353  {'id': '0', 'cmd': 'rsync -a data/test.txt /tm...    NaN  ...  NaN  NaN   \n",
       "354                                                NaN    NaN  ...  NaN  NaN   \n",
       "\n",
       "    user start last_ts log_level log_file home_dir work_dir scratch_dir  \n",
       "0    NaN   NaN     NaN       NaN      NaN      NaN      NaN         NaN  \n",
       "1    NaN   NaN     NaN       NaN      NaN      NaN      NaN         NaN  \n",
       "2    NaN   NaN     NaN       NaN      NaN      NaN      NaN         NaN  \n",
       "3    NaN   NaN     NaN       NaN      NaN      NaN      NaN         NaN  \n",
       "4    NaN   NaN     NaN       NaN      NaN      NaN      NaN         NaN  \n",
       "..   ...   ...     ...       ...      ...      ...      ...         ...  \n",
       "350  NaN   NaN     NaN       NaN      NaN      NaN      NaN         NaN  \n",
       "351  NaN   NaN     NaN       NaN      NaN      NaN      NaN         NaN  \n",
       "352  NaN   NaN     NaN       NaN      NaN      NaN      NaN         NaN  \n",
       "353  NaN   NaN     NaN       NaN      NaN      NaN      NaN         NaN  \n",
       "354  NaN   NaN     NaN       NaN      NaN      NaN      NaN         NaN  \n",
       "\n",
       "[355 rows x 29 columns]"
      ]
     },
     "execution_count": 8,
     "metadata": {},
     "output_type": "execute_result"
    }
   ],
   "source": [
    "sim._read_log()"
   ]
  },
  {
   "cell_type": "code",
   "execution_count": null,
   "id": "5e84a85e-cd3a-4281-adc1-3ac218953200",
   "metadata": {},
   "outputs": [],
   "source": []
  }
 ],
 "metadata": {
  "IMAGE_NAME": "taccsciapps/ds-nb-img:base-0.1.0",
  "UUID": "3bffd18a-c1f3-11ed-a539-c263dca5ecaa",
  "citation-manager": {
   "items": {}
  },
  "kernelspec": {
   "display_name": "Python [conda env:taccjm]",
   "language": "python",
   "name": "conda-env-taccjm-py"
  },
  "language_info": {
   "codemirror_mode": {
    "name": "ipython",
    "version": 3
   },
   "file_extension": ".py",
   "mimetype": "text/x-python",
   "name": "python",
   "nbconvert_exporter": "python",
   "pygments_lexer": "ipython3",
   "version": "3.11.0"
  },
  "toc-autonumbering": true
 },
 "nbformat": 4,
 "nbformat_minor": 5
}
