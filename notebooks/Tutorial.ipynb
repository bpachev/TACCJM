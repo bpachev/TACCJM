{
 "cells": [
  {
   "cell_type": "markdown",
   "id": "2b54650b-b40f-4ff1-874e-a44e1f42780b",
   "metadata": {
    "tags": []
   },
   "source": [
    "# TACCSSHClient Class\n",
    "\n",
    "The TACCSSHClient class is used to establish connections with TACC systems, using a user's login and 2FA code.\n",
    "\n",
    "The class then provides methods for (1)basic file operations, and for (2) execution of arbitrary commands.\n",
    "We will go over these two main areas of functionality in the tutorial"
   ]
  },
  {
   "cell_type": "markdown",
   "id": "a5778dff-6662-453f-8581-44fd089a329a",
   "metadata": {},
   "source": [
    "## Initialization\n",
    "\n",
    "To initialize a `TACCSSHClient` class object, you will to pass in the system you want to connect to. Currently supported systems include:\n",
    "\n",
    "- stampede2 - [Stampede2](https://portal.tacc.utexas.edu/user-guides/stampede)\n",
    "- ls6 - [Lonestar6](https://portal.tacc.utexas.edu/user-guides/lonestar6)\n",
    "- frontera - [Frontera](https://frontera-portal.tacc.utexas.edu/user-guide/)\n",
    "- maverick2 - [Maverick2](https://portal.tacc.utexas.edu/user-guides/maverick2)\n"
   ]
  },
  {
   "cell_type": "code",
   "execution_count": 6,
   "id": "3a5dbc3b-4793-42f9-9c0d-dc48ef613514",
   "metadata": {},
   "outputs": [
    {
     "name": "stdin",
     "output_type": "stream",
     "text": [
      "Password: ········\n",
      "TACC Token Code: 322732\n"
     ]
    },
    {
     "name": "stdout",
     "output_type": "stream",
     "text": [
      "> \u001b[0;32m/home/jovyan/work/repos/taccjm/src/taccjm/TACCSSHClient.py\u001b[0m(218)\u001b[0;36mprocess_command\u001b[0;34m()\u001b[0m\n",
      "\u001b[0;32m    216 \u001b[0;31m                       \"status\": command_config['status']}\n",
      "\u001b[0m\u001b[0;32m    217 \u001b[0;31m        \u001b[0mpdb\u001b[0m\u001b[0;34m.\u001b[0m\u001b[0mset_trace\u001b[0m\u001b[0;34m(\u001b[0m\u001b[0;34m)\u001b[0m\u001b[0;34m\u001b[0m\u001b[0;34m\u001b[0m\u001b[0m\n",
      "\u001b[0m\u001b[0;32m--> 218 \u001b[0;31m        \u001b[0;32mif\u001b[0m \u001b[0mcommand_config\u001b[0m\u001b[0;34m[\u001b[0m\u001b[0;34m\"channel\"\u001b[0m\u001b[0;34m]\u001b[0m\u001b[0;34m.\u001b[0m\u001b[0mexit_status_ready\u001b[0m\u001b[0;34m(\u001b[0m\u001b[0;34m)\u001b[0m \u001b[0;32mor\u001b[0m \u001b[0mwait\u001b[0m\u001b[0;34m:\u001b[0m\u001b[0;34m\u001b[0m\u001b[0;34m\u001b[0m\u001b[0m\n",
      "\u001b[0m\u001b[0;32m    219 \u001b[0;31m            \u001b[0mcommand_config\u001b[0m\u001b[0;34m[\u001b[0m\u001b[0;34m'history'\u001b[0m\u001b[0;34m]\u001b[0m\u001b[0;34m.\u001b[0m\u001b[0mappend\u001b[0m\u001b[0;34m(\u001b[0m\u001b[0mprev_status\u001b[0m\u001b[0;34m)\u001b[0m\u001b[0;34m\u001b[0m\u001b[0;34m\u001b[0m\u001b[0m\n",
      "\u001b[0m\u001b[0;32m    220 \u001b[0;31m            \u001b[0mcommand_config\u001b[0m\u001b[0;34m[\u001b[0m\u001b[0;34m\"rc\"\u001b[0m\u001b[0;34m]\u001b[0m \u001b[0;34m=\u001b[0m \u001b[0mcommand_config\u001b[0m\u001b[0;34m[\u001b[0m\u001b[0;34m\"channel\"\u001b[0m\u001b[0;34m]\u001b[0m\u001b[0;34m.\u001b[0m\u001b[0mrecv_exit_status\u001b[0m\u001b[0;34m(\u001b[0m\u001b[0;34m)\u001b[0m\u001b[0;34m\u001b[0m\u001b[0;34m\u001b[0m\u001b[0m\n",
      "\u001b[0m\n"
     ]
    },
    {
     "name": "stdin",
     "output_type": "stream",
     "text": [
      "ipdb>  c\n"
     ]
    },
    {
     "name": "stdout",
     "output_type": "stream",
     "text": [
      "> \u001b[0;32m/home/jovyan/work/repos/taccjm/src/taccjm/TACCSSHClient.py\u001b[0m(218)\u001b[0;36mprocess_command\u001b[0;34m()\u001b[0m\n",
      "\u001b[0;32m    216 \u001b[0;31m                       \"status\": command_config['status']}\n",
      "\u001b[0m\u001b[0;32m    217 \u001b[0;31m        \u001b[0mpdb\u001b[0m\u001b[0;34m.\u001b[0m\u001b[0mset_trace\u001b[0m\u001b[0;34m(\u001b[0m\u001b[0;34m)\u001b[0m\u001b[0;34m\u001b[0m\u001b[0;34m\u001b[0m\u001b[0m\n",
      "\u001b[0m\u001b[0;32m--> 218 \u001b[0;31m        \u001b[0;32mif\u001b[0m \u001b[0mcommand_config\u001b[0m\u001b[0;34m[\u001b[0m\u001b[0;34m\"channel\"\u001b[0m\u001b[0;34m]\u001b[0m\u001b[0;34m.\u001b[0m\u001b[0mexit_status_ready\u001b[0m\u001b[0;34m(\u001b[0m\u001b[0;34m)\u001b[0m \u001b[0;32mor\u001b[0m \u001b[0mwait\u001b[0m\u001b[0;34m:\u001b[0m\u001b[0;34m\u001b[0m\u001b[0;34m\u001b[0m\u001b[0m\n",
      "\u001b[0m\u001b[0;32m    219 \u001b[0;31m            \u001b[0mcommand_config\u001b[0m\u001b[0;34m[\u001b[0m\u001b[0;34m'history'\u001b[0m\u001b[0;34m]\u001b[0m\u001b[0;34m.\u001b[0m\u001b[0mappend\u001b[0m\u001b[0;34m(\u001b[0m\u001b[0mprev_status\u001b[0m\u001b[0;34m)\u001b[0m\u001b[0;34m\u001b[0m\u001b[0;34m\u001b[0m\u001b[0m\n",
      "\u001b[0m\u001b[0;32m    220 \u001b[0;31m            \u001b[0mcommand_config\u001b[0m\u001b[0;34m[\u001b[0m\u001b[0;34m\"rc\"\u001b[0m\u001b[0;34m]\u001b[0m \u001b[0;34m=\u001b[0m \u001b[0mcommand_config\u001b[0m\u001b[0;34m[\u001b[0m\u001b[0;34m\"channel\"\u001b[0m\u001b[0;34m]\u001b[0m\u001b[0;34m.\u001b[0m\u001b[0mrecv_exit_status\u001b[0m\u001b[0;34m(\u001b[0m\u001b[0;34m)\u001b[0m\u001b[0;34m\u001b[0m\u001b[0;34m\u001b[0m\u001b[0m\n",
      "\u001b[0m\n"
     ]
    },
    {
     "name": "stdin",
     "output_type": "stream",
     "text": [
      "ipdb>  c\n"
     ]
    },
    {
     "name": "stdout",
     "output_type": "stream",
     "text": [
      "> \u001b[0;32m/home/jovyan/work/repos/taccjm/src/taccjm/TACCSSHClient.py\u001b[0m(218)\u001b[0;36mprocess_command\u001b[0;34m()\u001b[0m\n",
      "\u001b[0;32m    216 \u001b[0;31m                       \"status\": command_config['status']}\n",
      "\u001b[0m\u001b[0;32m    217 \u001b[0;31m        \u001b[0mpdb\u001b[0m\u001b[0;34m.\u001b[0m\u001b[0mset_trace\u001b[0m\u001b[0;34m(\u001b[0m\u001b[0;34m)\u001b[0m\u001b[0;34m\u001b[0m\u001b[0;34m\u001b[0m\u001b[0m\n",
      "\u001b[0m\u001b[0;32m--> 218 \u001b[0;31m        \u001b[0;32mif\u001b[0m \u001b[0mcommand_config\u001b[0m\u001b[0;34m[\u001b[0m\u001b[0;34m\"channel\"\u001b[0m\u001b[0;34m]\u001b[0m\u001b[0;34m.\u001b[0m\u001b[0mexit_status_ready\u001b[0m\u001b[0;34m(\u001b[0m\u001b[0;34m)\u001b[0m \u001b[0;32mor\u001b[0m \u001b[0mwait\u001b[0m\u001b[0;34m:\u001b[0m\u001b[0;34m\u001b[0m\u001b[0;34m\u001b[0m\u001b[0m\n",
      "\u001b[0m\u001b[0;32m    219 \u001b[0;31m            \u001b[0mcommand_config\u001b[0m\u001b[0;34m[\u001b[0m\u001b[0;34m'history'\u001b[0m\u001b[0;34m]\u001b[0m\u001b[0;34m.\u001b[0m\u001b[0mappend\u001b[0m\u001b[0;34m(\u001b[0m\u001b[0mprev_status\u001b[0m\u001b[0;34m)\u001b[0m\u001b[0;34m\u001b[0m\u001b[0;34m\u001b[0m\u001b[0m\n",
      "\u001b[0m\u001b[0;32m    220 \u001b[0;31m            \u001b[0mcommand_config\u001b[0m\u001b[0;34m[\u001b[0m\u001b[0;34m\"rc\"\u001b[0m\u001b[0;34m]\u001b[0m \u001b[0;34m=\u001b[0m \u001b[0mcommand_config\u001b[0m\u001b[0;34m[\u001b[0m\u001b[0;34m\"channel\"\u001b[0m\u001b[0;34m]\u001b[0m\u001b[0;34m.\u001b[0m\u001b[0mrecv_exit_status\u001b[0m\u001b[0;34m(\u001b[0m\u001b[0;34m)\u001b[0m\u001b[0;34m\u001b[0m\u001b[0;34m\u001b[0m\u001b[0m\n",
      "\u001b[0m\n"
     ]
    },
    {
     "name": "stdin",
     "output_type": "stream",
     "text": [
      "ipdb>  c\n"
     ]
    }
   ],
   "source": [
    "from taccjm.TACCSSHClient import TACCSSHClient\n",
    "\n",
    "tsc = TACCSSHClient(\"stampede2\", \"clos21\")"
   ]
  },
  {
   "cell_type": "code",
   "execution_count": 9,
   "id": "bda8e5bb-4f2b-4a96-9a90-3184ed6e336b",
   "metadata": {},
   "outputs": [
    {
     "name": "stdout",
     "output_type": "stream",
     "text": [
      "> \u001b[0;32m/home/jovyan/work/repos/taccjm/src/taccjm/TACCSSHClient.py\u001b[0m(218)\u001b[0;36mprocess_command\u001b[0;34m()\u001b[0m\n",
      "\u001b[0;32m    216 \u001b[0;31m                       \"status\": command_config['status']}\n",
      "\u001b[0m\u001b[0;32m    217 \u001b[0;31m        \u001b[0mpdb\u001b[0m\u001b[0;34m.\u001b[0m\u001b[0mset_trace\u001b[0m\u001b[0;34m(\u001b[0m\u001b[0;34m)\u001b[0m\u001b[0;34m\u001b[0m\u001b[0;34m\u001b[0m\u001b[0m\n",
      "\u001b[0m\u001b[0;32m--> 218 \u001b[0;31m        \u001b[0;32mif\u001b[0m \u001b[0mcommand_config\u001b[0m\u001b[0;34m[\u001b[0m\u001b[0;34m\"channel\"\u001b[0m\u001b[0;34m]\u001b[0m\u001b[0;34m.\u001b[0m\u001b[0mexit_status_ready\u001b[0m\u001b[0;34m(\u001b[0m\u001b[0;34m)\u001b[0m \u001b[0;32mor\u001b[0m \u001b[0mwait\u001b[0m\u001b[0;34m:\u001b[0m\u001b[0;34m\u001b[0m\u001b[0;34m\u001b[0m\u001b[0m\n",
      "\u001b[0m\u001b[0;32m    219 \u001b[0;31m            \u001b[0mcommand_config\u001b[0m\u001b[0;34m[\u001b[0m\u001b[0;34m'history'\u001b[0m\u001b[0;34m]\u001b[0m\u001b[0;34m.\u001b[0m\u001b[0mappend\u001b[0m\u001b[0;34m(\u001b[0m\u001b[0mprev_status\u001b[0m\u001b[0;34m)\u001b[0m\u001b[0;34m\u001b[0m\u001b[0;34m\u001b[0m\u001b[0m\n",
      "\u001b[0m\u001b[0;32m    220 \u001b[0;31m            \u001b[0mcommand_config\u001b[0m\u001b[0;34m[\u001b[0m\u001b[0;34m\"rc\"\u001b[0m\u001b[0;34m]\u001b[0m \u001b[0;34m=\u001b[0m \u001b[0mcommand_config\u001b[0m\u001b[0;34m[\u001b[0m\u001b[0;34m\"channel\"\u001b[0m\u001b[0;34m]\u001b[0m\u001b[0;34m.\u001b[0m\u001b[0mrecv_exit_status\u001b[0m\u001b[0;34m(\u001b[0m\u001b[0;34m)\u001b[0m\u001b[0;34m\u001b[0m\u001b[0;34m\u001b[0m\u001b[0m\n",
      "\u001b[0m\n"
     ]
    },
    {
     "name": "stdin",
     "output_type": "stream",
     "text": [
      "ipdb>  command_config\n"
     ]
    },
    {
     "name": "stdout",
     "output_type": "stream",
     "text": [
      "{'id': 4, 'cmd': 'mamba env list', 'ts': datetime.datetime(2023, 2, 9, 18, 16, 29, 250062), 'status': 'STARTED', 'stdout': '', 'stderr': '', 'history': [], 'channel': <paramiko.Channel 4 (closed) -> <paramiko.Transport at 0x35d3df30 (cipher aes128-ctr, 128 bits) (active; 0 open channel(s))>>, 'rt': None}\n"
     ]
    },
    {
     "name": "stdin",
     "output_type": "stream",
     "text": [
      "ipdb>  n\n"
     ]
    },
    {
     "name": "stdout",
     "output_type": "stream",
     "text": [
      "> \u001b[0;32m/home/jovyan/work/repos/taccjm/src/taccjm/TACCSSHClient.py\u001b[0m(219)\u001b[0;36mprocess_command\u001b[0;34m()\u001b[0m\n",
      "\u001b[0;32m    217 \u001b[0;31m        \u001b[0mpdb\u001b[0m\u001b[0;34m.\u001b[0m\u001b[0mset_trace\u001b[0m\u001b[0;34m(\u001b[0m\u001b[0;34m)\u001b[0m\u001b[0;34m\u001b[0m\u001b[0;34m\u001b[0m\u001b[0m\n",
      "\u001b[0m\u001b[0;32m    218 \u001b[0;31m        \u001b[0;32mif\u001b[0m \u001b[0mcommand_config\u001b[0m\u001b[0;34m[\u001b[0m\u001b[0;34m\"channel\"\u001b[0m\u001b[0;34m]\u001b[0m\u001b[0;34m.\u001b[0m\u001b[0mexit_status_ready\u001b[0m\u001b[0;34m(\u001b[0m\u001b[0;34m)\u001b[0m \u001b[0;32mor\u001b[0m \u001b[0mwait\u001b[0m\u001b[0;34m:\u001b[0m\u001b[0;34m\u001b[0m\u001b[0;34m\u001b[0m\u001b[0m\n",
      "\u001b[0m\u001b[0;32m--> 219 \u001b[0;31m            \u001b[0mcommand_config\u001b[0m\u001b[0;34m[\u001b[0m\u001b[0;34m'history'\u001b[0m\u001b[0;34m]\u001b[0m\u001b[0;34m.\u001b[0m\u001b[0mappend\u001b[0m\u001b[0;34m(\u001b[0m\u001b[0mprev_status\u001b[0m\u001b[0;34m)\u001b[0m\u001b[0;34m\u001b[0m\u001b[0;34m\u001b[0m\u001b[0m\n",
      "\u001b[0m\u001b[0;32m    220 \u001b[0;31m            \u001b[0mcommand_config\u001b[0m\u001b[0;34m[\u001b[0m\u001b[0;34m\"rc\"\u001b[0m\u001b[0;34m]\u001b[0m \u001b[0;34m=\u001b[0m \u001b[0mcommand_config\u001b[0m\u001b[0;34m[\u001b[0m\u001b[0;34m\"channel\"\u001b[0m\u001b[0;34m]\u001b[0m\u001b[0;34m.\u001b[0m\u001b[0mrecv_exit_status\u001b[0m\u001b[0;34m(\u001b[0m\u001b[0;34m)\u001b[0m\u001b[0;34m\u001b[0m\u001b[0;34m\u001b[0m\u001b[0m\n",
      "\u001b[0m\u001b[0;32m    221 \u001b[0;31m            \u001b[0mts\u001b[0m \u001b[0;34m=\u001b[0m \u001b[0mdatetime\u001b[0m\u001b[0;34m.\u001b[0m\u001b[0mnow\u001b[0m\u001b[0;34m(\u001b[0m\u001b[0;34m)\u001b[0m\u001b[0;34m\u001b[0m\u001b[0;34m\u001b[0m\u001b[0m\n",
      "\u001b[0m\n"
     ]
    },
    {
     "name": "stdin",
     "output_type": "stream",
     "text": [
      "ipdb>  n\n"
     ]
    },
    {
     "name": "stdout",
     "output_type": "stream",
     "text": [
      "> \u001b[0;32m/home/jovyan/work/repos/taccjm/src/taccjm/TACCSSHClient.py\u001b[0m(220)\u001b[0;36mprocess_command\u001b[0;34m()\u001b[0m\n",
      "\u001b[0;32m    218 \u001b[0;31m        \u001b[0;32mif\u001b[0m \u001b[0mcommand_config\u001b[0m\u001b[0;34m[\u001b[0m\u001b[0;34m\"channel\"\u001b[0m\u001b[0;34m]\u001b[0m\u001b[0;34m.\u001b[0m\u001b[0mexit_status_ready\u001b[0m\u001b[0;34m(\u001b[0m\u001b[0;34m)\u001b[0m \u001b[0;32mor\u001b[0m \u001b[0mwait\u001b[0m\u001b[0;34m:\u001b[0m\u001b[0;34m\u001b[0m\u001b[0;34m\u001b[0m\u001b[0m\n",
      "\u001b[0m\u001b[0;32m    219 \u001b[0;31m            \u001b[0mcommand_config\u001b[0m\u001b[0;34m[\u001b[0m\u001b[0;34m'history'\u001b[0m\u001b[0;34m]\u001b[0m\u001b[0;34m.\u001b[0m\u001b[0mappend\u001b[0m\u001b[0;34m(\u001b[0m\u001b[0mprev_status\u001b[0m\u001b[0;34m)\u001b[0m\u001b[0;34m\u001b[0m\u001b[0;34m\u001b[0m\u001b[0m\n",
      "\u001b[0m\u001b[0;32m--> 220 \u001b[0;31m            \u001b[0mcommand_config\u001b[0m\u001b[0;34m[\u001b[0m\u001b[0;34m\"rc\"\u001b[0m\u001b[0;34m]\u001b[0m \u001b[0;34m=\u001b[0m \u001b[0mcommand_config\u001b[0m\u001b[0;34m[\u001b[0m\u001b[0;34m\"channel\"\u001b[0m\u001b[0;34m]\u001b[0m\u001b[0;34m.\u001b[0m\u001b[0mrecv_exit_status\u001b[0m\u001b[0;34m(\u001b[0m\u001b[0;34m)\u001b[0m\u001b[0;34m\u001b[0m\u001b[0;34m\u001b[0m\u001b[0m\n",
      "\u001b[0m\u001b[0;32m    221 \u001b[0;31m            \u001b[0mts\u001b[0m \u001b[0;34m=\u001b[0m \u001b[0mdatetime\u001b[0m\u001b[0;34m.\u001b[0m\u001b[0mnow\u001b[0m\u001b[0;34m(\u001b[0m\u001b[0;34m)\u001b[0m\u001b[0;34m\u001b[0m\u001b[0;34m\u001b[0m\u001b[0m\n",
      "\u001b[0m\u001b[0;32m    222 \u001b[0;31m            command_config[\"stdout\"] += (\n",
      "\u001b[0m\n"
     ]
    },
    {
     "name": "stdin",
     "output_type": "stream",
     "text": [
      "ipdb>  \n"
     ]
    },
    {
     "name": "stdout",
     "output_type": "stream",
     "text": [
      "> \u001b[0;32m/home/jovyan/work/repos/taccjm/src/taccjm/TACCSSHClient.py\u001b[0m(221)\u001b[0;36mprocess_command\u001b[0;34m()\u001b[0m\n",
      "\u001b[0;32m    219 \u001b[0;31m            \u001b[0mcommand_config\u001b[0m\u001b[0;34m[\u001b[0m\u001b[0;34m'history'\u001b[0m\u001b[0;34m]\u001b[0m\u001b[0;34m.\u001b[0m\u001b[0mappend\u001b[0m\u001b[0;34m(\u001b[0m\u001b[0mprev_status\u001b[0m\u001b[0;34m)\u001b[0m\u001b[0;34m\u001b[0m\u001b[0;34m\u001b[0m\u001b[0m\n",
      "\u001b[0m\u001b[0;32m    220 \u001b[0;31m            \u001b[0mcommand_config\u001b[0m\u001b[0;34m[\u001b[0m\u001b[0;34m\"rc\"\u001b[0m\u001b[0;34m]\u001b[0m \u001b[0;34m=\u001b[0m \u001b[0mcommand_config\u001b[0m\u001b[0;34m[\u001b[0m\u001b[0;34m\"channel\"\u001b[0m\u001b[0;34m]\u001b[0m\u001b[0;34m.\u001b[0m\u001b[0mrecv_exit_status\u001b[0m\u001b[0;34m(\u001b[0m\u001b[0;34m)\u001b[0m\u001b[0;34m\u001b[0m\u001b[0;34m\u001b[0m\u001b[0m\n",
      "\u001b[0m\u001b[0;32m--> 221 \u001b[0;31m            \u001b[0mts\u001b[0m \u001b[0;34m=\u001b[0m \u001b[0mdatetime\u001b[0m\u001b[0;34m.\u001b[0m\u001b[0mnow\u001b[0m\u001b[0;34m(\u001b[0m\u001b[0;34m)\u001b[0m\u001b[0;34m\u001b[0m\u001b[0;34m\u001b[0m\u001b[0m\n",
      "\u001b[0m\u001b[0;32m    222 \u001b[0;31m            command_config[\"stdout\"] += (\n",
      "\u001b[0m\u001b[0;32m    223 \u001b[0;31m                \u001b[0mcommand_config\u001b[0m\u001b[0;34m[\u001b[0m\u001b[0;34m\"channel\"\u001b[0m\u001b[0;34m]\u001b[0m\u001b[0;34m.\u001b[0m\u001b[0mrecv\u001b[0m\u001b[0;34m(\u001b[0m\u001b[0mmax_nbytes\u001b[0m\u001b[0;34m)\u001b[0m\u001b[0;34m.\u001b[0m\u001b[0mdecode\u001b[0m\u001b[0;34m(\u001b[0m\u001b[0;34m\"utf-8\"\u001b[0m\u001b[0;34m)\u001b[0m\u001b[0;34m\u001b[0m\u001b[0;34m\u001b[0m\u001b[0m\n",
      "\u001b[0m\n"
     ]
    },
    {
     "name": "stdin",
     "output_type": "stream",
     "text": [
      "ipdb>  command_config\n"
     ]
    },
    {
     "name": "stdout",
     "output_type": "stream",
     "text": [
      "{'id': 4, 'cmd': 'mamba env list', 'ts': datetime.datetime(2023, 2, 9, 18, 16, 29, 250062), 'status': 'STARTED', 'stdout': '', 'stderr': '', 'history': [{'ts': datetime.datetime(2023, 2, 9, 18, 16, 29, 250062), 'status': 'STARTED'}], 'channel': <paramiko.Channel 4 (closed) -> <paramiko.Transport at 0x35d3df30 (cipher aes128-ctr, 128 bits) (active; 0 open channel(s))>>, 'rt': None, 'rc': 127}\n"
     ]
    },
    {
     "name": "stdin",
     "output_type": "stream",
     "text": [
      "ipdb>  c\n"
     ]
    },
    {
     "name": "stdout",
     "output_type": "stream",
     "text": [
      "2023-02-09 18:16:58,449 | taccjm.TACCSSHClient | ERROR | Non-zero return code.\n",
      "clos21@stampede2.tacc.utexas.edu$ mamba env list\n",
      "rc     : 127\n",
      "stdout : \n",
      "stderr : bash: mamba: command not found\n",
      "\n"
     ]
    },
    {
     "ename": "SSHCommandError",
     "evalue": "Non-zero return code.\nclos21@stampede2.tacc.utexas.edu$ mamba env list\nrc     : 127\nstdout : \nstderr : bash: mamba: command not found\n",
     "output_type": "error",
     "traceback": [
      "\u001b[0;31m---------------------------------------------------------------------------\u001b[0m",
      "\u001b[0;31mSSHCommandError\u001b[0m                           Traceback (most recent call last)",
      "Cell \u001b[0;32mIn[9], line 1\u001b[0m\n\u001b[0;32m----> 1\u001b[0m \u001b[43mtsc\u001b[49m\u001b[38;5;241;43m.\u001b[39;49m\u001b[43mexecute_command\u001b[49m\u001b[43m(\u001b[49m\u001b[38;5;124;43m'\u001b[39;49m\u001b[38;5;124;43mmamba env list\u001b[39;49m\u001b[38;5;124;43m'\u001b[39;49m\u001b[43m,\u001b[49m\u001b[43m \u001b[49m\u001b[43mwait\u001b[49m\u001b[38;5;241;43m=\u001b[39;49m\u001b[38;5;28;43;01mTrue\u001b[39;49;00m\u001b[43m)\u001b[49m\n",
      "File \u001b[0;32m~/work/repos/taccjm/src/taccjm/TACCSSHClient.py:189\u001b[0m, in \u001b[0;36mTACCSSHClient.execute_command\u001b[0;34m(self, cmnd, wait, error)\u001b[0m\n\u001b[1;32m    186\u001b[0m \u001b[38;5;28mself\u001b[39m\u001b[38;5;241m.\u001b[39mcommands\u001b[38;5;241m.\u001b[39mappend(command_config)\n\u001b[1;32m    188\u001b[0m \u001b[38;5;28;01mif\u001b[39;00m wait:\n\u001b[0;32m--> 189\u001b[0m     \u001b[38;5;28;01mreturn\u001b[39;00m \u001b[38;5;28;43mself\u001b[39;49m\u001b[38;5;241;43m.\u001b[39;49m\u001b[43mprocess_command\u001b[49m\u001b[43m(\u001b[49m\u001b[43mcommand_id\u001b[49m\u001b[43m,\u001b[49m\u001b[43m \u001b[49m\u001b[43mwait\u001b[49m\u001b[38;5;241;43m=\u001b[39;49m\u001b[38;5;28;43;01mTrue\u001b[39;49;00m\u001b[43m,\u001b[49m\u001b[43m \u001b[49m\u001b[43merror\u001b[49m\u001b[38;5;241;43m=\u001b[39;49m\u001b[43merror\u001b[49m\u001b[43m)\u001b[49m\n\u001b[1;32m    190\u001b[0m \u001b[38;5;28;01melse\u001b[39;00m:\n\u001b[1;32m    191\u001b[0m     \u001b[38;5;28;01mreturn\u001b[39;00m command_config\n",
      "File \u001b[0;32m~/work/repos/taccjm/src/taccjm/TACCSSHClient.py:246\u001b[0m, in \u001b[0;36mTACCSSHClient.process_command\u001b[0;34m(self, command_id, nbytes, wait, error, max_nbytes)\u001b[0m\n\u001b[1;32m    244\u001b[0m         \u001b[38;5;66;03m# Update command list before erroring out\u001b[39;00m\n\u001b[1;32m    245\u001b[0m         \u001b[38;5;28mself\u001b[39m\u001b[38;5;241m.\u001b[39mcommands[command_id \u001b[38;5;241m-\u001b[39m \u001b[38;5;241m1\u001b[39m] \u001b[38;5;241m=\u001b[39m command_config\n\u001b[0;32m--> 246\u001b[0m         \u001b[38;5;28;01mraise\u001b[39;00m t\n\u001b[1;32m    247\u001b[0m \u001b[38;5;28;01melse\u001b[39;00m:\n\u001b[1;32m    248\u001b[0m     command_config[\u001b[38;5;124m\"\u001b[39m\u001b[38;5;124mstatus\u001b[39m\u001b[38;5;124m\"\u001b[39m] \u001b[38;5;241m=\u001b[39m \u001b[38;5;124m\"\u001b[39m\u001b[38;5;124mCOMPLETE\u001b[39m\u001b[38;5;124m\"\u001b[39m\n",
      "\u001b[0;31mSSHCommandError\u001b[0m: Non-zero return code.\nclos21@stampede2.tacc.utexas.edu$ mamba env list\nrc     : 127\nstdout : \nstderr : bash: mamba: command not found\n"
     ]
    }
   ],
   "source": [
    "tsc.execute_command('mamba env list', wait=True)"
   ]
  },
  {
   "cell_type": "markdown",
   "id": "0c8edc01-d7dd-4317-9511-8431c0a3cfb3",
   "metadata": {},
   "source": [
    "## Command Operations"
   ]
  },
  {
   "cell_type": "markdown",
   "id": "3c66849b-5367-4efb-8c93-1be9298ccf71",
   "metadata": {},
   "source": [
    "### `execute_command()`\n",
    "\n",
    "The TACCSSHClient offers the `execute_command()` function to execute arbitrary commands as if one were in an ssh session interactively. \n",
    "The commands are executed on a separately opened channel, spawned from the original paramiko transport object used to establish the main ssh connection when the class was initialized."
   ]
  },
  {
   "cell_type": "code",
   "execution_count": 2,
   "id": "5b8f716a-92a8-4f07-979f-ec59d97c2ee0",
   "metadata": {},
   "outputs": [
    {
     "name": "stdout",
     "output_type": "stream",
     "text": [
      "Using system default configuration file \n",
      "\n",
      "SUMMARY OF JOBS FOR USER: <clos21>\n",
      "\n",
      "ACTIVE JOBS--------------------\n",
      "JOBID     JOBNAME    USERNAME      STATE   NODES REMAINING STARTTIME\n",
      "================================================================================\n",
      "\n",
      "WAITING JOBS------------------------\n",
      "JOBID     JOBNAME    USERNAME      STATE   NODES WCLIMIT   QUEUETIME\n",
      "================================================================================\n",
      "\n",
      "Total Jobs: 0     Active Jobs: 0     Idle Jobs: 0     Blocked Jobs: 0   \n",
      "\n"
     ]
    }
   ],
   "source": [
    "print(tsc.execute_command(\"showq -u clos21\")[\"stdout\"])"
   ]
  },
  {
   "cell_type": "markdown",
   "id": "fa0f1adf-4748-42f7-8dbd-d17c6d0edd65",
   "metadata": {},
   "source": [
    "### Command Errors\n",
    "\n",
    "If the command fails, an error will be thrown:"
   ]
  },
  {
   "cell_type": "code",
   "execution_count": 3,
   "id": "572108de-a5c0-4985-982d-223cdd1d5faf",
   "metadata": {},
   "outputs": [
    {
     "name": "stderr",
     "output_type": "stream",
     "text": [
      "{\"asctime\": \"2023-02-07 17:36:29,795\", \"name\": \"taccjm.TACCSSHClient\", \"levelname\": \"ERROR\", \"message\": \"Non-zero return code.\\nclos21@ls6.tacc.utexas.edu$ showr\\nrc     : 127\\nstdout : \\nstderr : bash: showr: command not found\\n\"}\n"
     ]
    },
    {
     "ename": "SSHCommandError",
     "evalue": "Non-zero return code.\nclos21@ls6.tacc.utexas.edu$ showr\nrc     : 127\nstdout : \nstderr : bash: showr: command not found\n",
     "output_type": "error",
     "traceback": [
      "\u001b[0;31m---------------------------------------------------------------------------\u001b[0m",
      "\u001b[0;31mSSHCommandError\u001b[0m                           Traceback (most recent call last)",
      "Cell \u001b[0;32mIn[3], line 1\u001b[0m\n\u001b[0;32m----> 1\u001b[0m \u001b[43mtsc\u001b[49m\u001b[38;5;241;43m.\u001b[39;49m\u001b[43mexecute_command\u001b[49m\u001b[43m(\u001b[49m\u001b[38;5;124;43m'\u001b[39;49m\u001b[38;5;124;43mshowr\u001b[39;49m\u001b[38;5;124;43m'\u001b[39;49m\u001b[43m)\u001b[49m[\u001b[38;5;124m'\u001b[39m\u001b[38;5;124mstderr\u001b[39m\u001b[38;5;124m'\u001b[39m]\n",
      "File \u001b[0;32m~/work/repos/taccjm/src/taccjm/TACCSSHClient.py:179\u001b[0m, in \u001b[0;36mTACCSSHClient.execute_command\u001b[0;34m(self, cmnd, wait, error)\u001b[0m\n\u001b[1;32m    176\u001b[0m \u001b[38;5;28mself\u001b[39m\u001b[38;5;241m.\u001b[39mcommands\u001b[38;5;241m.\u001b[39mappend(command_config)\n\u001b[1;32m    178\u001b[0m \u001b[38;5;28;01mif\u001b[39;00m wait:\n\u001b[0;32m--> 179\u001b[0m     \u001b[38;5;28;01mreturn\u001b[39;00m \u001b[38;5;28;43mself\u001b[39;49m\u001b[38;5;241;43m.\u001b[39;49m\u001b[43mprocess_command\u001b[49m\u001b[43m(\u001b[49m\u001b[43mcommand_id\u001b[49m\u001b[43m,\u001b[49m\u001b[43m \u001b[49m\u001b[43mwait\u001b[49m\u001b[38;5;241;43m=\u001b[39;49m\u001b[38;5;28;43;01mTrue\u001b[39;49;00m\u001b[43m,\u001b[49m\u001b[43m \u001b[49m\u001b[43merror\u001b[49m\u001b[38;5;241;43m=\u001b[39;49m\u001b[43merror\u001b[49m\u001b[43m)\u001b[49m\n\u001b[1;32m    180\u001b[0m \u001b[38;5;28;01melse\u001b[39;00m:\n\u001b[1;32m    181\u001b[0m     \u001b[38;5;28;01mreturn\u001b[39;00m command_config\n",
      "File \u001b[0;32m~/work/repos/taccjm/src/taccjm/TACCSSHClient.py:235\u001b[0m, in \u001b[0;36mTACCSSHClient.process_command\u001b[0;34m(self, command_id, nbytes, wait, error, max_nbytes)\u001b[0m\n\u001b[1;32m    233\u001b[0m         \u001b[38;5;66;03m# Update command list before erroring out\u001b[39;00m\n\u001b[1;32m    234\u001b[0m         \u001b[38;5;28mself\u001b[39m\u001b[38;5;241m.\u001b[39mcommands[command_id \u001b[38;5;241m-\u001b[39m \u001b[38;5;241m1\u001b[39m] \u001b[38;5;241m=\u001b[39m command_config\n\u001b[0;32m--> 235\u001b[0m         \u001b[38;5;28;01mraise\u001b[39;00m t\n\u001b[1;32m    236\u001b[0m \u001b[38;5;28;01melse\u001b[39;00m:\n\u001b[1;32m    237\u001b[0m     command_config[\u001b[38;5;124m\"\u001b[39m\u001b[38;5;124mstatus\u001b[39m\u001b[38;5;124m\"\u001b[39m] \u001b[38;5;241m=\u001b[39m \u001b[38;5;124m\"\u001b[39m\u001b[38;5;124mCOMPLETE\u001b[39m\u001b[38;5;124m\"\u001b[39m\n",
      "\u001b[0;31mSSHCommandError\u001b[0m: Non-zero return code.\nclos21@ls6.tacc.utexas.edu$ showr\nrc     : 127\nstdout : \nstderr : bash: showr: command not found\n"
     ]
    }
   ],
   "source": [
    "tsc.execute_command(\"showr\")[\"stderr\"]"
   ]
  },
  {
   "cell_type": "markdown",
   "id": "501fe44b-0c6e-4d37-b2fd-e3009590bd9f",
   "metadata": {
    "tags": []
   },
   "source": [
    "As we can see, we get a good error clearly indicating:\n",
    "\n",
    "- system on which command was run (Lonestar6)\n",
    "- User running command (clos21)\n",
    "- Command being run, after the \"$\" sign, (showr)\n",
    "- The return code (127), stdout, and stderr\n",
    "\n",
    "So we can clearly see here that the command failed because `showr` is not a valid command. We probably meant `showq`"
   ]
  },
  {
   "cell_type": "markdown",
   "id": "084cae81-1a52-468e-b8df-e1a28a8fa52f",
   "metadata": {},
   "source": [
    "We can also supress the error by setting `error=False`.\n",
    "This allows use to check the error code/error message and handle it as necessary."
   ]
  },
  {
   "cell_type": "code",
   "execution_count": 4,
   "id": "4a6b018d-cb30-4ade-8676-ec32f89eab47",
   "metadata": {},
   "outputs": [
    {
     "data": {
      "text/plain": [
       "{'id': 4,\n",
       " 'cmd': 'showr',\n",
       " 'ts': datetime.datetime(2023, 2, 7, 17, 36, 31, 439860),\n",
       " 'status': 'FAILED',\n",
       " 'stdout': '',\n",
       " 'stderr': 'bash: showr: command not found\\n',\n",
       " 'history': [{'ts': datetime.datetime(2023, 2, 7, 17, 36, 30, 288107),\n",
       "   'status': 'STARTED'}],\n",
       " 'rt': 1,\n",
       " 'rc': 127}"
      ]
     },
     "execution_count": 4,
     "metadata": {},
     "output_type": "execute_result"
    }
   ],
   "source": [
    "tsc.execute_command(\"showr\", error=False)"
   ]
  },
  {
   "cell_type": "markdown",
   "id": "95305744-a7bf-4b7a-8e61-4db137416915",
   "metadata": {},
   "source": [
    "### `process_command()` - Asynchronous commands\n",
    "\n",
    "Commands can also be run in the background, for example if performing a long copy or monitoring some job. \n",
    "This is done by set the `wait=False` parameter, and then using the `process_command()` method to check on the status of the command using the command's ID."
   ]
  },
  {
   "cell_type": "code",
   "execution_count": 5,
   "id": "1b152d6a-9f39-4cf9-8f98-cdec8ee02c5c",
   "metadata": {},
   "outputs": [
    {
     "data": {
      "text/plain": [
       "{'id': 5,\n",
       " 'cmd': 'echo START; sleep 10; echo START',\n",
       " 'ts': datetime.datetime(2023, 2, 7, 17, 36, 31, 571251),\n",
       " 'status': 'STARTED',\n",
       " 'stdout': '',\n",
       " 'stderr': '',\n",
       " 'history': [],\n",
       " 'channel': <paramiko.Channel 4 (open) window=2097152 -> <paramiko.Transport at 0x3d257790 (cipher aes128-ctr, 128 bits) (active; 1 open channel(s))>>,\n",
       " 'rt': None}"
      ]
     },
     "execution_count": 5,
     "metadata": {},
     "output_type": "execute_result"
    }
   ],
   "source": [
    "cmnd = tsc.execute_command(\"echo START; sleep 10; echo START\", wait=False)\n",
    "cmnd"
   ]
  },
  {
   "cell_type": "code",
   "execution_count": 6,
   "id": "beee81aa-77a0-4c33-bf71-75190b1b1b72",
   "metadata": {},
   "outputs": [
    {
     "data": {
      "text/plain": [
       "{'id': 5,\n",
       " 'cmd': 'echo START; sleep 10; echo START',\n",
       " 'ts': datetime.datetime(2023, 2, 7, 17, 36, 31, 712024),\n",
       " 'status': 'RUNNING',\n",
       " 'stdout': '',\n",
       " 'stderr': '',\n",
       " 'history': [{'ts': datetime.datetime(2023, 2, 7, 17, 36, 31, 571251),\n",
       "   'status': 'STARTED'}],\n",
       " 'channel': <paramiko.Channel 4 (open) window=2097152 -> <paramiko.Transport at 0x3d257790 (cipher aes128-ctr, 128 bits) (active; 1 open channel(s))>>,\n",
       " 'rt': None}"
      ]
     },
     "execution_count": 6,
     "metadata": {},
     "output_type": "execute_result"
    }
   ],
   "source": [
    "cmnd = tsc.process_command(cmnd[\"id\"])\n",
    "cmnd"
   ]
  },
  {
   "cell_type": "markdown",
   "id": "9bfa2e43-3cf8-415b-b4ef-7d25efcc7337",
   "metadata": {},
   "source": [
    "Note the command's history of status's is stored.\n",
    "This history is compiled as the process is polled, with duplicate status's removed.\n",
    "Finally note how the `rt` field gives us a rough runtime for the command.\n",
    "Once again if the process was run in the background, this runtime is according to how the process was polled, not necessarily how long the command took to run."
   ]
  },
  {
   "cell_type": "markdown",
   "id": "1634387e-5cac-4363-8a48-b934f2e53a9f",
   "metadata": {},
   "source": [
    "### Buffering stdout from commands\n",
    "\n",
    "You can pass an `nbytes: int=None` parameter to the `process_command()` method to read the next `nbytes` available in the stdout buffer of an actively running command:"
   ]
  },
  {
   "cell_type": "code",
   "execution_count": 7,
   "id": "13b847a0-1a26-4a58-9044-3fb445e93890",
   "metadata": {},
   "outputs": [
    {
     "name": "stdout",
     "output_type": "stream",
     "text": [
      "stdout at time 0: START\n",
      "stdout at time 5: START\n",
      "\n",
      "stdout at time 10: START\n",
      "1\n",
      "\n",
      "stdout at time 15: START\n",
      "1\n",
      "2\n",
      "\n"
     ]
    }
   ],
   "source": [
    "import time\n",
    "\n",
    "cmnd = tsc.execute_command(\"echo START; sleep 7; echo 1; sleep 6; echo 2\", wait=False)\n",
    "\n",
    "t = 0\n",
    "while cmnd[\"status\"] not in [\"COMPLETE\", \"FAILED\"]:\n",
    "    cmnd = tsc.process_command(cmnd[\"id\"], wait=False, nbytes=5)\n",
    "    print(f\"stdout at time {t}: {cmnd['stdout']}\")\n",
    "    t += 5\n",
    "    time.sleep(5)"
   ]
  },
  {
   "cell_type": "markdown",
   "id": "17373137-d9bd-49e3-9f43-3778aea49792",
   "metadata": {},
   "source": [
    "Note how the output is appended to the 'stdout' field of the command config as it becomes available, and only `nbytes` are read on any given call."
   ]
  },
  {
   "cell_type": "markdown",
   "id": "27a5fbbc-0ba7-468c-9cfd-8066302d7df0",
   "metadata": {
    "tags": []
   },
   "source": [
    "## File Operations\n",
    "\n",
    "The TACCSHClient class uses its underlying ssh connection to open sftp connections and provide programmatic access to files on TACC systems.\n",
    "The following operations are offered to interact with files on TACC systems using the TACCSSHClient Class:\n",
    "\n",
    "- list_files - Get file and directory info (file stats)\n",
    "- upload - Upload a file/directory to TACC system via sftp.\n",
    "- downlaod - Download a file/directory from TACC system via sftp.\n",
    "- read - Read file contents (text or json) directly from TACC system via sftp.\n",
    "- write - Write data (string or dictioanry) directly from TACC system via sftp.\n",
    "\n",
    "Note:\n",
    "\n",
    "    1. All remote paths (paths on TACC systems) must use unix path separators '/'.\n",
    "    2. File operations currently aren't \"safe.\" \n",
    "       That is file uploads/downloads and reads/writes will overwrite contents on remote/local systems.\n",
    "    3. If absolute paths aren't specified, paths are relative to a user's $HOME diretory on TACC systems, and relative to the cwd for the local paths."
   ]
  },
  {
   "cell_type": "markdown",
   "id": "f6415c86-de28-46cd-8ee8-b34dc3ea5da2",
   "metadata": {
    "tags": []
   },
   "source": [
    "### `list_files()`\n",
    "\n",
    "The `list_files()` method provides basic file stat info, much like an `ls` command would in a shell session."
   ]
  },
  {
   "cell_type": "code",
   "execution_count": 2,
   "id": "4275a1f2-0cbb-4fed-8829-125f7df2a059",
   "metadata": {},
   "outputs": [
    {
     "data": {
      "text/plain": [
       "[{'filename': '/scratch/06307/clos21/',\n",
       "  'st_atime': 1634240870,\n",
       "  'st_gid': 800588,\n",
       "  'st_mode': 16832,\n",
       "  'st_mtime': 1675831233,\n",
       "  'st_size': 19,\n",
       "  'st_uid': 856065,\n",
       "  'ls_str': b'drwx------   1 856065   800588         19 07 Feb 22:40 ?'}]"
      ]
     },
     "execution_count": 2,
     "metadata": {},
     "output_type": "execute_result"
    }
   ],
   "source": [
    "scratch_dir = tsc.list_files(\"\")\n",
    "scratch_dir"
   ]
  },
  {
   "cell_type": "code",
   "execution_count": 3,
   "id": "6fc0f7f2-3223-4744-a7e8-6e2034a149a1",
   "metadata": {},
   "outputs": [
    {
     "data": {
      "text/plain": [
       "19"
      ]
     },
     "execution_count": 3,
     "metadata": {},
     "output_type": "execute_result"
    }
   ],
   "source": [
    "files = tsc.list_files(\"\", recurse=True)\n",
    "len(files)"
   ]
  },
  {
   "cell_type": "code",
   "execution_count": 4,
   "id": "08732b6e-f684-4987-b234-e3eff9b3aa81",
   "metadata": {},
   "outputs": [
    {
     "name": "stdout",
     "output_type": "stream",
     "text": [
      "drwx------   1 856065   800588          4 19 Aug 05:32 11\n",
      "drwx------   1 856065   800588          4 03 Jun 2022  taccjm\n",
      "drwx------   1 856065   800588          4 08 Sep 22:48 test-taccjm\n",
      "drwx------   1 856065   800588          1 02 Feb 12:00 ch-sim-tests\n",
      "drwx------   1 856065   800588          4 09 Sep 12:33 l2\n",
      "drwx------   1 856065   800588          4 14 Dec 2021  ls6\n",
      "-rw-------   1 856065   800588          5 07 Feb 22:31 upload_test.txt\n",
      "drwx------   1 856065   800588          9 12 May 2022  temp\n",
      "drwx------   1 856065   800588          7 02 Dec 2020  si-base\n",
      "drwx------   1 856065   800588          4 31 Jan 16:28 ch-sim-ls6\n",
      "drwx------   1 856065   800588          4 11 Jan 2022  test\n",
      "drwx------   1 856065   800588          2 30 Jan 15:54 ch-sim\n",
      "drwx------   1 856065   800588          1 09 Sep 18:29 ios-output\n",
      "drwx------   1 856065   800588          3 07 Feb 22:31 test-upload\n",
      "-rw-------   1 856065   800588         12 07 Feb 22:15 hello.txt\n",
      "-rw-------   1 856065   800588         36 07 Feb 22:17 hello.json\n",
      "drwx------   1 856065   800588          4 19 Aug 05:48 l1\n",
      "drwx------   1 856065   800588          4 30 Sep 20:52 test_ls6\n",
      "drwx------   1 856065   800588          4 25 Aug 11:21 ls1\n"
     ]
    }
   ],
   "source": [
    "print(\n",
    "    \"\\n\".join(\n",
    "        [\n",
    "            x[\"ls_str\"].decode(\"utf-8\")\n",
    "            for x in files\n",
    "            if not x[\"filename\"].startswith(\".\")\n",
    "        ]\n",
    "    )\n",
    ")"
   ]
  },
  {
   "cell_type": "code",
   "execution_count": 12,
   "id": "db0e0a44-d49e-48a4-8603-f08d3081f916",
   "metadata": {},
   "outputs": [
    {
     "name": "stdout",
     "output_type": "stream",
     "text": [
      "total 8\n",
      "drwx------ 2 clos21 G-800588 1 Feb  2 12:00 ch-sim-tests\n",
      "drwx------ 6 clos21 G-800588 4 Jan 31 16:28 ch-sim-ls6\n",
      "drwx------ 4 clos21 G-800588 2 Jan 30 15:54 ch-sim\n",
      "drwx------ 6 clos21 G-800588 4 Sep 30 20:52 test_ls6\n",
      "drwx------ 3 clos21 G-800588 1 Sep  9 18:29 ios-output\n",
      "drwx------ 6 clos21 G-800588 4 Sep  9 12:33 l2\n",
      "drwx------ 6 clos21 G-800588 4 Sep  8 22:48 test-taccjm\n",
      "drwx------ 6 clos21 G-800588 4 Aug 25 11:21 ls1\n",
      "drwx------ 6 clos21 G-800588 4 Aug 19 05:48 l1\n",
      "drwx------ 6 clos21 G-800588 4 Aug 19 05:32 11\n",
      "drwx------ 6 clos21 G-800588 4 Jun  3  2022 taccjm\n",
      "drwx------ 2 clos21 G-800588 9 May 12  2022 temp\n",
      "drwx------ 6 clos21 G-800588 4 Jan 11  2022 test\n",
      "drwx------ 6 clos21 G-800588 4 Dec 14  2021 ls6\n",
      "drwx------ 3 clos21 G-800588 7 Dec  2  2020 si-base\n",
      "\n"
     ]
    }
   ],
   "source": [
    "print(tsc.execute_command(\"ls -lt $SCRATCH\")[\"stdout\"])"
   ]
  },
  {
   "cell_type": "markdown",
   "id": "f01c28c3-f711-44cb-9090-955c791e72ae",
   "metadata": {},
   "source": [
    "### `upload()`\n",
    "\n",
    "To upload a local directory or file to TACC, use the upload method."
   ]
  },
  {
   "cell_type": "code",
   "execution_count": 38,
   "id": "4638c3a1-b2c7-4c2c-8da6-513dc9a176ba",
   "metadata": {},
   "outputs": [],
   "source": [
    "!rm -rf test; mkdir test; echo test > test/test.txt"
   ]
  },
  {
   "cell_type": "code",
   "execution_count": 39,
   "id": "d7b0a8d8-1569-4c49-abfb-7ffa4d04d1ab",
   "metadata": {},
   "outputs": [],
   "source": [
    "tsc.upload(\"test/test.txt\", \"test.txt\")"
   ]
  },
  {
   "cell_type": "code",
   "execution_count": 40,
   "id": "7f2e3f75-f6a7-40cb-9685-aca5c0a307d6",
   "metadata": {},
   "outputs": [
    {
     "data": {
      "text/plain": [
       "[{'filename': 'test.txt',\n",
       "  'st_atime': 1675808371,\n",
       "  'st_gid': 800588,\n",
       "  'st_mode': 33152,\n",
       "  'st_mtime': 1675808371,\n",
       "  'st_size': 5,\n",
       "  'st_uid': 856065,\n",
       "  'ls_str': b'-rw-------   1 856065   800588          5 07 Feb 16:19 ?'}]"
      ]
     },
     "execution_count": 40,
     "metadata": {},
     "output_type": "execute_result"
    }
   ],
   "source": [
    "tsc.list_files(\"test.txt\")"
   ]
  },
  {
   "cell_type": "code",
   "execution_count": 43,
   "id": "b4581cbb-5dbf-44f9-9803-75e748635aa3",
   "metadata": {},
   "outputs": [],
   "source": [
    "tsc.upload(\"test\", \"test\")"
   ]
  },
  {
   "cell_type": "code",
   "execution_count": 44,
   "id": "e274f6b0-d1e5-4140-965d-56aaed84b770",
   "metadata": {},
   "outputs": [
    {
     "data": {
      "text/plain": [
       "[{'filename': 'test.txt',\n",
       "  'st_atime': 1675808477,\n",
       "  'st_gid': 800588,\n",
       "  'st_mode': 33152,\n",
       "  'st_mtime': 1675808368,\n",
       "  'st_size': 5,\n",
       "  'st_uid': 856065,\n",
       "  'ls_str': b'-rw-------   1 856065   800588          5 07 Feb 16:19 test.txt'}]"
      ]
     },
     "execution_count": 44,
     "metadata": {},
     "output_type": "execute_result"
    }
   ],
   "source": [
    "tsc.list_files(\"test\")"
   ]
  },
  {
   "cell_type": "markdown",
   "id": "7cb0f4a2-af45-4708-a27a-bac963a029d9",
   "metadata": {},
   "source": [
    "### `download()`"
   ]
  },
  {
   "cell_type": "code",
   "execution_count": 45,
   "id": "17a13221-9618-4c90-bbd2-e397c9caa2d8",
   "metadata": {},
   "outputs": [],
   "source": [
    "tsc.download(\"test.txt\", \"foo.txt\")"
   ]
  },
  {
   "cell_type": "code",
   "execution_count": 47,
   "id": "a120806d-c806-4d35-aa97-5bd9e1ff5bed",
   "metadata": {},
   "outputs": [
    {
     "name": "stdout",
     "output_type": "stream",
     "text": [
      "test\n"
     ]
    }
   ],
   "source": [
    "!cat foo.txt"
   ]
  },
  {
   "cell_type": "code",
   "execution_count": 51,
   "id": "6c13a45a-481c-46e2-9f8e-b7c60804365f",
   "metadata": {},
   "outputs": [],
   "source": [
    "tsc.download(\"test\", \"foo\")"
   ]
  },
  {
   "cell_type": "code",
   "execution_count": 52,
   "id": "5ea2b8a7-3d42-4364-8c91-f972aa6a7145",
   "metadata": {},
   "outputs": [
    {
     "name": "stdout",
     "output_type": "stream",
     "text": [
      "test.txt\n"
     ]
    }
   ],
   "source": [
    "!ls foo/test"
   ]
  },
  {
   "cell_type": "markdown",
   "id": "4869a615-b525-4864-8170-378e8bf98486",
   "metadata": {},
   "source": [
    "### `write()`"
   ]
  },
  {
   "cell_type": "code",
   "execution_count": 54,
   "id": "aa0a84e8-5782-4011-9dc1-066d0f0bed20",
   "metadata": {},
   "outputs": [],
   "source": [
    "tsc.write(\"hello world!\\n\", \"test2.txt\")"
   ]
  },
  {
   "cell_type": "code",
   "execution_count": 55,
   "id": "b9a3f115-9bae-454b-b15f-130957d01519",
   "metadata": {},
   "outputs": [
    {
     "data": {
      "text/plain": [
       "[{'filename': 'test2.txt',\n",
       "  'st_atime': 1675808673,\n",
       "  'st_gid': 800588,\n",
       "  'st_mode': 33152,\n",
       "  'st_mtime': 1675808673,\n",
       "  'st_size': 13,\n",
       "  'st_uid': 856065,\n",
       "  'ls_str': b'-rw-------   1 856065   800588         13 07 Feb 16:24 ?'}]"
      ]
     },
     "execution_count": 55,
     "metadata": {},
     "output_type": "execute_result"
    }
   ],
   "source": [
    "tsc.list_files(\"test2.txt\")"
   ]
  },
  {
   "cell_type": "markdown",
   "id": "ea62ffde-9cb3-4079-ba06-3d12fdb17220",
   "metadata": {},
   "source": [
    "### `read()`"
   ]
  },
  {
   "cell_type": "code",
   "execution_count": 56,
   "id": "74b3107c-c685-40aa-8f68-509857c5b800",
   "metadata": {},
   "outputs": [
    {
     "name": "stdout",
     "output_type": "stream",
     "text": [
      "hello world!\n",
      "\n"
     ]
    }
   ],
   "source": [
    "msg = tsc.read(\"test2.txt\")\n",
    "print(msg)"
   ]
  },
  {
   "cell_type": "markdown",
   "id": "35f3f96e-35a2-4531-b454-edd947170ec0",
   "metadata": {},
   "source": [
    "# TACC SSH API - tacc_ssh_api.py\n",
    "\n",
    "The problem with managing individual TACCSSHClient classes is that they may time out after a period of inactivity, requiring you to login again.\n",
    "Instead of using the TACCSSHClient class directly, you can use the `tacc_ssh_api` to spawn a server that manages TACCSSHClient classes for you.\n",
    "These connections are kept alive (for as long as the server isn't restarted), and they can be interacted via methods in `tacc_ssh_api`.\n",
    "The main methods provided to interact with the SSH server are the following:\n",
    "\n",
    "- `list()` - List active ssh session\n",
    "- `get(connection_id: int)` - Get a session an active session\n",
    "- `init(...)` - Initialize an ssh session (by initializing a new TACCSSHClient object)\n",
    "- `exec(connection_id:int, ...)` - Run a command using `execute_command()` on a given session.\n",
    "- `process(connection_id:int, cmnd_id:int ...)` - Process a command run on a given session.\n",
    "- `list_files(connection_id:int, path:str ...)` - List files.\n",
    "- `read(connection_id:int, path:str ...)` - Read a file directly via sftp.\n",
    "- `write(connection_id:int, data, path:str)` - Write a file directly via sftp.\n",
    "- `upload(connection_id:int, local_path:str, remote_path:str)` - Upload files/folders\n",
    "- `download(connection_id:int, data, remote_path:str, local_path:Str)` - Download files/folders"
   ]
  },
  {
   "cell_type": "markdown",
   "id": "b2fccd9e-b67f-47f4-842d-6e36f9ee6aec",
   "metadata": {},
   "source": [
    "## Initializing a sessions"
   ]
  },
  {
   "cell_type": "code",
   "execution_count": 1,
   "id": "f09d9059-bb23-40d3-9606-a2e0f5bb3a2d",
   "metadata": {},
   "outputs": [],
   "source": [
    "from taccjm import tacc_ssh_api as tsa"
   ]
  },
  {
   "cell_type": "code",
   "execution_count": 2,
   "id": "22760014-158e-4060-bc2d-9c43ade1ccca",
   "metadata": {},
   "outputs": [
    {
     "data": {
      "text/plain": [
       "{'server': <Popen: returncode: None args: ['python', '/home/jovyan/work/repos/taccjm/sr...>,\n",
       " 'hb': <Popen: returncode: None args: ['python', '/home/jovyan/work/repos/taccjm/sr...>}"
      ]
     },
     "execution_count": 2,
     "metadata": {},
     "output_type": "execute_result"
    }
   ],
   "source": [
    "tsa.find_server(start=True, kill=True)"
   ]
  },
  {
   "cell_type": "code",
   "execution_count": 3,
   "id": "3e49e3ac-f403-4cf5-b47f-f2697c027b42",
   "metadata": {},
   "outputs": [
    {
     "name": "stdin",
     "output_type": "stream",
     "text": [
      "mfa:  683832\n"
     ]
    },
    {
     "data": {
      "text/plain": [
       "{'id': 'test',\n",
       " 'sys': 'ls6.tacc.utexas.edu',\n",
       " 'user': 'clos21',\n",
       " 'start': '2023-02-09T13:22:41.691522',\n",
       " 'last_ts': '2023-02-09T13:22:41.691538',\n",
       " 'log_level': '20',\n",
       " 'log_file': '/home/jovyan/.taccjm/test_ls6_clos21_log.json',\n",
       " 'home_dir': '/home1/06307/clos21',\n",
       " 'work_dir': '/work/06307/clos21/ls6',\n",
       " 'scratch_dir': '/scratch/06307/clos21'}"
      ]
     },
     "execution_count": 3,
     "metadata": {},
     "output_type": "execute_result"
    }
   ],
   "source": [
    "tsa.init(\"test\", \"ls6\", \"clos21\")"
   ]
  },
  {
   "cell_type": "code",
   "execution_count": 4,
   "id": "7ef81728-485c-4460-9591-c189bc8ef8e9",
   "metadata": {},
   "outputs": [
    {
     "data": {
      "text/plain": [
       "{'id': 'test',\n",
       " 'sys': 'ls6.tacc.utexas.edu',\n",
       " 'user': 'clos21',\n",
       " 'start': '2023-02-07T22:35:07.435852',\n",
       " 'last_ts': '2023-02-07T22:35:07.435853',\n",
       " 'loglevel': '20',\n",
       " 'logfile': '/home/jovyan/.taccjm/test_ls6_clos21_log.json'}"
      ]
     },
     "execution_count": 4,
     "metadata": {},
     "output_type": "execute_result"
    }
   ],
   "source": [
    "tsa.get(\"test\")"
   ]
  },
  {
   "cell_type": "markdown",
   "id": "3120014b-3929-403e-81ee-7300e960f0a0",
   "metadata": {
    "tags": []
   },
   "source": [
    "## Command Operations"
   ]
  },
  {
   "cell_type": "markdown",
   "id": "859bf398-fb93-4857-95d4-5d4637d7a191",
   "metadata": {},
   "source": [
    "### `exec()` - General Command Execution\n",
    "\n",
    "..."
   ]
  },
  {
   "cell_type": "code",
   "execution_count": 5,
   "id": "30cb9373-c992-4d75-87ef-424685e8d961",
   "metadata": {},
   "outputs": [],
   "source": [
    "ls_cmnd = tsa.exec(\"test\", \"ls $SCRATCH\", wait=False)"
   ]
  },
  {
   "cell_type": "markdown",
   "id": "156c3a44-ec02-4678-a32f-fb67ff637e82",
   "metadata": {},
   "source": [
    "### `process()` - Polling commands\n",
    "\n",
    "Pass a command ID to poll a specific command. \n",
    "Set `wait=False`, unless you want to wait until the command finishes.\n",
    "You can set `nbytes=int` to get the latest nbytes from the stdout buff ."
   ]
  },
  {
   "cell_type": "code",
   "execution_count": 13,
   "id": "3aa88cf0-fb03-4b87-9945-d4f07913be8c",
   "metadata": {},
   "outputs": [],
   "source": [
    "ls_cmnd = tsa.exec(\"test\", \"sleep 10; ls $SCRATCH\", wait=False)"
   ]
  },
  {
   "cell_type": "code",
   "execution_count": 14,
   "id": "9e740184-821d-431f-9fb2-404ff99d1fba",
   "metadata": {},
   "outputs": [
    {
     "data": {
      "text/plain": [
       "{'id': 10,\n",
       " 'cmd': 'sleep 10; ls $SCRATCH',\n",
       " 'ts': '2023-02-07T18:22:49.523330',\n",
       " 'status': 'RUNNING',\n",
       " 'stdout': '',\n",
       " 'stderr': '',\n",
       " 'history': [{'ts': '2023-02-07T18:22:48.983625', 'status': 'STARTED'}],\n",
       " 'rt': None}"
      ]
     },
     "execution_count": 14,
     "metadata": {},
     "output_type": "execute_result"
    }
   ],
   "source": [
    "tsa.process(\"test\", ls_cmnd[\"id\"], wait=False)"
   ]
  },
  {
   "cell_type": "markdown",
   "id": "dbb5c81f-33d9-47f5-9461-53cac1887881",
   "metadata": {},
   "source": [
    "### Processing all Active commands\n"
   ]
  },
  {
   "cell_type": "code",
   "execution_count": 5,
   "id": "1a5766d2-4902-40be-90a3-32fe92cfcfda",
   "metadata": {},
   "outputs": [],
   "source": [
    "cmnd_1 = tsa.exec(\"test\", \"sleep 10; ls $SCRATCH\", wait=False)\n",
    "cmnd_2 = tsa.exec(\"test\", \"sleep 20; ls $SCRATCH\", wait=False)\n",
    "cmnd_3 = tsa.exec(\"test\", \"sleep 30; ls $SCRATCH\", wait=False)"
   ]
  },
  {
   "cell_type": "code",
   "execution_count": 14,
   "id": "ecda11fd-0ec4-4c4e-ab5b-e3dfc8895cae",
   "metadata": {},
   "outputs": [
    {
     "data": {
      "text/plain": [
       "[{'id': 3,\n",
       "  'cmd': 'sleep 20; ls $SCRATCH',\n",
       "  'ts': '2023-02-07T18:28:00.670353',\n",
       "  'status': 'RUNNING',\n",
       "  'stdout': '',\n",
       "  'stderr': '',\n",
       "  'history': [{'ts': '2023-02-07T18:27:43.070502', 'status': 'STARTED'}],\n",
       "  'rt': None},\n",
       " {'id': 4,\n",
       "  'cmd': 'sleep 30; ls $SCRATCH',\n",
       "  'ts': '2023-02-07T18:28:00.670360',\n",
       "  'status': 'RUNNING',\n",
       "  'stdout': '',\n",
       "  'stderr': '',\n",
       "  'history': [{'ts': '2023-02-07T18:27:43.146205', 'status': 'STARTED'}],\n",
       "  'rt': None}]"
      ]
     },
     "execution_count": 14,
     "metadata": {},
     "output_type": "execute_result"
    }
   ],
   "source": [
    "tsa.process(\"test\")"
   ]
  },
  {
   "cell_type": "markdown",
   "id": "e5ccc375-ee0f-4f3f-9f21-9d03f140b4dd",
   "metadata": {},
   "source": [
    "## File Operations"
   ]
  },
  {
   "cell_type": "markdown",
   "id": "143a5fef-291f-43a7-bb31-7676b2cb7150",
   "metadata": {
    "tags": []
   },
   "source": [
    "### `list_files()`\n",
    "\n",
    "The `list_files()` method provides basic file stat info, much like an `ls` command would in a shell session."
   ]
  },
  {
   "cell_type": "code",
   "execution_count": 6,
   "id": "ba21aef1-0464-486a-a19f-2ed969a2e883",
   "metadata": {},
   "outputs": [
    {
     "data": {
      "text/plain": [
       "[{'filename': '/scratch/06307/clos21/',\n",
       "  'st_atime': 1634240870,\n",
       "  'st_gid': 800588,\n",
       "  'st_mode': 16832,\n",
       "  'st_mtime': 1675831233,\n",
       "  'st_size': 19,\n",
       "  'st_uid': 856065,\n",
       "  'ls_str': 'drwx------   1 856065   800588         19 07 Feb 22:40 ?'}]"
      ]
     },
     "execution_count": 6,
     "metadata": {},
     "output_type": "execute_result"
    }
   ],
   "source": [
    "scratch_dir = tsa.list_files(\"test\", \"\")\n",
    "scratch_dir "
   ]
  },
  {
   "cell_type": "code",
   "execution_count": 7,
   "id": "383b3cf9-ef4c-405b-8b27-64e577b3c9cf",
   "metadata": {},
   "outputs": [
    {
     "data": {
      "text/plain": [
       "19"
      ]
     },
     "execution_count": 7,
     "metadata": {},
     "output_type": "execute_result"
    }
   ],
   "source": [
    "files = tsa.list_files(\"test\", \"\", recurse=True)\n",
    "len(files)"
   ]
  },
  {
   "cell_type": "code",
   "execution_count": 8,
   "id": "1bb1f282-30ae-4e54-a665-742f6652aff9",
   "metadata": {},
   "outputs": [
    {
     "name": "stdout",
     "output_type": "stream",
     "text": [
      "drwx------   1 856065   800588          4 19 Aug 05:32 11\n",
      "drwx------   1 856065   800588          4 03 Jun 2022  taccjm\n",
      "drwx------   1 856065   800588          4 08 Sep 22:48 test-taccjm\n",
      "drwx------   1 856065   800588          1 02 Feb 12:00 ch-sim-tests\n",
      "drwx------   1 856065   800588          4 09 Sep 12:33 l2\n",
      "drwx------   1 856065   800588          4 14 Dec 2021  ls6\n",
      "-rw-------   1 856065   800588          5 07 Feb 22:31 upload_test.txt\n",
      "drwx------   1 856065   800588          9 12 May 2022  temp\n",
      "drwx------   1 856065   800588          7 02 Dec 2020  si-base\n",
      "drwx------   1 856065   800588          4 31 Jan 16:28 ch-sim-ls6\n",
      "drwx------   1 856065   800588          4 11 Jan 2022  test\n",
      "drwx------   1 856065   800588          2 30 Jan 15:54 ch-sim\n",
      "drwx------   1 856065   800588          1 09 Sep 18:29 ios-output\n",
      "drwx------   1 856065   800588          3 07 Feb 22:31 test-upload\n",
      "-rw-------   1 856065   800588         12 07 Feb 22:15 hello.txt\n",
      "-rw-------   1 856065   800588         36 07 Feb 22:17 hello.json\n",
      "drwx------   1 856065   800588          4 19 Aug 05:48 l1\n",
      "drwx------   1 856065   800588          4 30 Sep 20:52 test_ls6\n",
      "drwx------   1 856065   800588          4 25 Aug 11:21 ls1\n"
     ]
    }
   ],
   "source": [
    "print(\"\\n\".join([x[\"ls_str\"] for x in files if not x[\"filename\"].startswith(\".\")]))"
   ]
  },
  {
   "cell_type": "code",
   "execution_count": 9,
   "id": "dcf5ae2d-38c6-4c7f-a0fb-209eb9fe4325",
   "metadata": {},
   "outputs": [
    {
     "name": "stdout",
     "output_type": "stream",
     "text": [
      "total 10\n",
      "drwx------ 2 clos21 G-800588  3 Feb  7 22:31 test-upload\n",
      "-rw------- 1 clos21 G-800588  5 Feb  7 22:31 upload_test.txt\n",
      "-rw------- 1 clos21 G-800588 36 Feb  7 22:17 hello.json\n",
      "-rw------- 1 clos21 G-800588 12 Feb  7 22:15 hello.txt\n",
      "drwx------ 2 clos21 G-800588  1 Feb  2 12:00 ch-sim-tests\n",
      "drwx------ 6 clos21 G-800588  4 Jan 31 16:28 ch-sim-ls6\n",
      "drwx------ 4 clos21 G-800588  2 Jan 30 15:54 ch-sim\n",
      "drwx------ 6 clos21 G-800588  4 Sep 30 20:52 test_ls6\n",
      "drwx------ 3 clos21 G-800588  1 Sep  9 18:29 ios-output\n",
      "drwx------ 6 clos21 G-800588  4 Sep  9 12:33 l2\n",
      "drwx------ 6 clos21 G-800588  4 Sep  8 22:48 test-taccjm\n",
      "drwx------ 6 clos21 G-800588  4 Aug 25 11:21 ls1\n",
      "drwx------ 6 clos21 G-800588  4 Aug 19 05:48 l1\n",
      "drwx------ 6 clos21 G-800588  4 Aug 19 05:32 11\n",
      "drwx------ 6 clos21 G-800588  4 Jun  3  2022 taccjm\n",
      "drwx------ 2 clos21 G-800588  9 May 12  2022 temp\n",
      "drwx------ 6 clos21 G-800588  4 Jan 11  2022 test\n",
      "drwx------ 6 clos21 G-800588  4 Dec 14  2021 ls6\n",
      "drwx------ 3 clos21 G-800588  7 Dec  2  2020 si-base\n",
      "\n"
     ]
    }
   ],
   "source": [
    "print(tsa.exec(\"test\", \"ls -lt $SCRATCH\")[\"stdout\"])"
   ]
  },
  {
   "cell_type": "markdown",
   "id": "d835d1b6-b8d4-4c4f-87d2-2445bf4a630b",
   "metadata": {
    "tags": []
   },
   "source": [
    "### `write()` and `read()`\n",
    "\n",
    "Use to write directly to a file on TACC systems."
   ]
  },
  {
   "cell_type": "markdown",
   "id": "846268d9-7706-4b83-a4cb-4f7c7c708499",
   "metadata": {},
   "source": [
    "#### Text Data"
   ]
  },
  {
   "cell_type": "code",
   "execution_count": 4,
   "id": "ee9cd38c-9d5c-4bf2-af66-259c96bc31d0",
   "metadata": {},
   "outputs": [],
   "source": [
    "tsa.write(\"test\", \"hello world!\", \"hello.txt\")"
   ]
  },
  {
   "cell_type": "code",
   "execution_count": 5,
   "id": "9282e181-1cb1-45bf-998f-0ab9d2702ed6",
   "metadata": {},
   "outputs": [
    {
     "data": {
      "text/plain": [
       "{'path': 'hello.txt', 'data_type': 'text', 'data': 'hello world!'}"
      ]
     },
     "execution_count": 5,
     "metadata": {},
     "output_type": "execute_result"
    }
   ],
   "source": [
    "tsa.read(\"test\", \"hello.txt\")"
   ]
  },
  {
   "cell_type": "markdown",
   "id": "88cfd5e0-fc20-4909-9a33-895c31e3b517",
   "metadata": {},
   "source": [
    "#### json Data"
   ]
  },
  {
   "cell_type": "code",
   "execution_count": 7,
   "id": "f244bc22-33f6-443a-9fb1-93a9d326d871",
   "metadata": {},
   "outputs": [],
   "source": [
    "tsa.write(\"test\", {\"msg\": \"hello world!\", \"id\": 12312}, \"hello.json\")"
   ]
  },
  {
   "cell_type": "code",
   "execution_count": 8,
   "id": "c54d9218-f964-4659-961a-3225bacb79d0",
   "metadata": {},
   "outputs": [
    {
     "data": {
      "text/plain": [
       "{'path': 'hello.json',\n",
       " 'data_type': 'json',\n",
       " 'data': {'msg': 'hello world!', 'id': 12312}}"
      ]
     },
     "execution_count": 8,
     "metadata": {},
     "output_type": "execute_result"
    }
   ],
   "source": [
    "tsa.read(\"test\", \"hello.json\")"
   ]
  },
  {
   "cell_type": "markdown",
   "id": "3f395195-e6f1-469b-b907-3cc1f6bb1acb",
   "metadata": {},
   "source": [
    "### `upload()` and `download()`\n",
    "\n",
    "To upload a local directory or file to TACC, use the upload method."
   ]
  },
  {
   "cell_type": "code",
   "execution_count": 6,
   "id": "498563d0-c6dc-4096-8a3b-f669fe20452c",
   "metadata": {
    "tags": []
   },
   "outputs": [],
   "source": [
    "!rm -rf test-upload; mkdir test-upload; echo test > test-upload/test.txt"
   ]
  },
  {
   "cell_type": "markdown",
   "id": "a3b31cdc-f73b-4c95-9631-8ed9721a84b3",
   "metadata": {},
   "source": [
    "#### Files"
   ]
  },
  {
   "cell_type": "code",
   "execution_count": 5,
   "id": "afbde34b-8925-42bf-ada2-081f85bb1d78",
   "metadata": {
    "tags": []
   },
   "outputs": [],
   "source": [
    "tsa.upload(\"test\", \"test-upload/test.txt\", \"upload_test.txt\")"
   ]
  },
  {
   "cell_type": "code",
   "execution_count": 6,
   "id": "00d13aa0-c502-4527-91d2-b2671f9b7674",
   "metadata": {},
   "outputs": [
    {
     "data": {
      "text/plain": [
       "[{'filename': '/scratch/06307/clos21/upload_test.txt',\n",
       "  'st_atime': 1675830682,\n",
       "  'st_gid': 800588,\n",
       "  'st_mode': 33152,\n",
       "  'st_mtime': 1675830682,\n",
       "  'st_size': 5,\n",
       "  'st_uid': 856065,\n",
       "  'ls_str': '-rw-------   1 856065   800588          5 07 Feb 22:31 ?'}]"
      ]
     },
     "execution_count": 6,
     "metadata": {},
     "output_type": "execute_result"
    }
   ],
   "source": [
    "tsa.list_files(\"test\", \"upload_test.txt\")"
   ]
  },
  {
   "cell_type": "code",
   "execution_count": 7,
   "id": "49fd91b4-4d95-4da1-a882-d9c6994e2d68",
   "metadata": {},
   "outputs": [
    {
     "data": {
      "text/plain": [
       "'test-upload/download_test.txt'"
      ]
     },
     "execution_count": 7,
     "metadata": {},
     "output_type": "execute_result"
    }
   ],
   "source": [
    "tsa.download(\"test\", \"upload_test.txt\", \"test-upload/download_test.txt\")"
   ]
  },
  {
   "cell_type": "code",
   "execution_count": 8,
   "id": "99979c4e-fd5d-4c52-b5b2-400de2d89f0b",
   "metadata": {},
   "outputs": [
    {
     "name": "stdout",
     "output_type": "stream",
     "text": [
      "test\n"
     ]
    }
   ],
   "source": [
    "!cat test-upload/download_test.txt"
   ]
  },
  {
   "cell_type": "markdown",
   "id": "45047a95-d9e1-460a-9cd4-0a2917c8f749",
   "metadata": {},
   "source": [
    "#### Directories"
   ]
  },
  {
   "cell_type": "code",
   "execution_count": 5,
   "id": "1efe81e1-62b0-4c1b-83a3-3cbc718fb66e",
   "metadata": {},
   "outputs": [],
   "source": [
    "!echo 'another test' > test-upload/test2.txt"
   ]
  },
  {
   "cell_type": "code",
   "execution_count": 4,
   "id": "4fe6130f-9536-40bf-9412-b919b5caba32",
   "metadata": {},
   "outputs": [],
   "source": [
    "tsa.upload(\"test\", \"test-upload\", \"test-upload\")"
   ]
  },
  {
   "cell_type": "code",
   "execution_count": 5,
   "id": "004b6481-5606-4f9f-81e6-079fee19518f",
   "metadata": {},
   "outputs": [
    {
     "data": {
      "text/plain": [
       "[{'filename': 'download_test.txt',\n",
       "  'st_atime': 1675831198,\n",
       "  'st_gid': 800588,\n",
       "  'st_mode': 33152,\n",
       "  'st_mtime': 1675830687,\n",
       "  'st_size': 5,\n",
       "  'st_uid': 856065,\n",
       "  'ls_str': '-rw-------   1 856065   800588          5 07 Feb 22:31 download_test.txt'},\n",
       " {'filename': 'test2.txt',\n",
       "  'st_atime': 1675831199,\n",
       "  'st_gid': 800588,\n",
       "  'st_mode': 33152,\n",
       "  'st_mtime': 1675830915,\n",
       "  'st_size': 13,\n",
       "  'st_uid': 856065,\n",
       "  'ls_str': '-rw-------   1 856065   800588         13 07 Feb 22:35 test2.txt'},\n",
       " {'filename': 'test.txt',\n",
       "  'st_atime': 1675831199,\n",
       "  'st_gid': 800588,\n",
       "  'st_mode': 33152,\n",
       "  'st_mtime': 1675830340,\n",
       "  'st_size': 5,\n",
       "  'st_uid': 856065,\n",
       "  'ls_str': '-rw-------   1 856065   800588          5 07 Feb 22:25 test.txt'}]"
      ]
     },
     "execution_count": 5,
     "metadata": {},
     "output_type": "execute_result"
    }
   ],
   "source": [
    "tsa.list_files(\"test\", \"test-upload\")"
   ]
  },
  {
   "cell_type": "code",
   "execution_count": 6,
   "id": "78878cc0-7bd4-41f0-b4ae-c2c83e2c2ee8",
   "metadata": {},
   "outputs": [
    {
     "data": {
      "text/plain": [
       "'test-download'"
      ]
     },
     "execution_count": 6,
     "metadata": {},
     "output_type": "execute_result"
    }
   ],
   "source": [
    "tsa.download(\"test\", \"test-upload\", \"test-download\")"
   ]
  },
  {
   "cell_type": "code",
   "execution_count": 8,
   "id": "81c15ba0-7a4b-41b5-ac46-9b761094fb79",
   "metadata": {
    "jupyter": {
     "source_hidden": true
    },
    "tags": []
   },
   "outputs": [
    {
     "name": "stdout",
     "output_type": "stream",
     "text": [
      "test-download:\n",
      "test-upload\n",
      "\n",
      "test-download/test-upload:\n",
      "download_test.txt  test2.txt  test.txt\n"
     ]
    }
   ],
   "source": [
    "!ls -R test-download"
   ]
  },
  {
   "cell_type": "markdown",
   "id": "c68af88e-30ac-419d-bc82-10972c03a584",
   "metadata": {},
   "source": [
    "# TACC Client\n"
   ]
  },
  {
   "cell_type": "code",
   "execution_count": 1,
   "id": "9ae1c39e-816b-426c-a104-7d6980d0a1ef",
   "metadata": {
    "tags": []
   },
   "outputs": [],
   "source": [
    "import importlib\n",
    "import logging\n",
    "import os\n",
    "import sys\n",
    "from pathlib import Path\n",
    "\n",
    "from taccjm import TACCClient"
   ]
  },
  {
   "cell_type": "code",
   "execution_count": 2,
   "id": "a6ee5749-69b7-4d60-8427-4a18159c3d98",
   "metadata": {},
   "outputs": [
    {
     "data": {
      "text/plain": [
       "<module 'taccjm.TACCClient' from '/home/jovyan/work/repos/taccjm/src/taccjm/TACCClient.py'>"
      ]
     },
     "execution_count": 2,
     "metadata": {},
     "output_type": "execute_result"
    }
   ],
   "source": [
    "importlib.reload(TACCClient)"
   ]
  },
  {
   "cell_type": "markdown",
   "id": "4a4b9359-26c9-4ad2-8682-a5420a28e752",
   "metadata": {},
   "source": [
    "## Remote Connections\n",
    "\n",
    "If we aren't running on TACC, SSH session will be started."
   ]
  },
  {
   "cell_type": "code",
   "execution_count": 3,
   "id": "60d1424b-024d-4f3f-888b-ac1260566776",
   "metadata": {},
   "outputs": [],
   "source": [
    "os.environ[\"HOSTNAME\"] = \"\""
   ]
  },
  {
   "cell_type": "code",
   "execution_count": 4,
   "id": "4ac8c555-85f5-4eda-90d0-7ad541aae151",
   "metadata": {},
   "outputs": [
    {
     "name": "stderr",
     "output_type": "stream",
     "text": [
      "get_jm error\n"
     ]
    },
    {
     "name": "stdin",
     "output_type": "stream",
     "text": [
      "Username:  clos21\n",
      "psw:  ········\n",
      "mfa:  506268\n"
     ]
    }
   ],
   "source": [
    "client = TACCClient.TACCClient(system='stampede2')"
   ]
  },
  {
   "cell_type": "code",
   "execution_count": 5,
   "id": "b66c7312-47dd-4230-b60c-a7500bd26910",
   "metadata": {},
   "outputs": [
    {
     "data": {
      "text/plain": [
       "('/scratch/06307/clos21', '/home1/06307/clos21', '/work/06307/clos21/ls6')"
      ]
     },
     "execution_count": 5,
     "metadata": {},
     "output_type": "execute_result"
    }
   ],
   "source": [
    "client.scratch_dir, client.home_dir, client.work_dir,"
   ]
  },
  {
   "cell_type": "code",
   "execution_count": 6,
   "id": "1ac83947-277b-4d2f-9918-1c80fd8601a1",
   "metadata": {},
   "outputs": [
    {
     "data": {
      "text/plain": [
       "('/scratch/06307/clos21/taccjm-ls6/jobs',\n",
       " '/work/06307/clos21/ls6/taccjm-ls6/scripts',\n",
       " '/work/06307/clos21/ls6/taccjm-ls6/apps',\n",
       " '/scratch/06307/clos21/taccjm-ls6/trash')"
      ]
     },
     "execution_count": 6,
     "metadata": {},
     "output_type": "execute_result"
    }
   ],
   "source": [
    "client.jobs_dir, client.scripts_dir, client.apps_dir, client.trash_dir"
   ]
  },
  {
   "cell_type": "code",
   "execution_count": 7,
   "id": "5636708d-3add-4d1b-ba75-7edacd082fae",
   "metadata": {},
   "outputs": [
    {
     "data": {
      "text/plain": [
       "[{'filename': '/scratch/06307/clos21/',\n",
       "  'st_atime': 1634240870,\n",
       "  'st_gid': 800588,\n",
       "  'st_mode': 16832,\n",
       "  'st_mtime': 1675977420,\n",
       "  'st_size': 20,\n",
       "  'st_uid': 856065,\n",
       "  'ls_str': 'drwx------   1 856065   800588         20 09 Feb 15:17 ?'}]"
      ]
     },
     "execution_count": 7,
     "metadata": {},
     "output_type": "execute_result"
    }
   ],
   "source": [
    "scratch_dir = client.list_files()\n",
    "scratch_dir"
   ]
  },
  {
   "cell_type": "code",
   "execution_count": 11,
   "id": "21d4b5ab-34bc-4dd1-93bc-3d6e5ed8837c",
   "metadata": {},
   "outputs": [
    {
     "data": {
      "text/plain": [
       "19"
      ]
     },
     "execution_count": 11,
     "metadata": {},
     "output_type": "execute_result"
    }
   ],
   "source": [
    "files = client.list_files(recurse=True)\n",
    "len(files)"
   ]
  },
  {
   "cell_type": "markdown",
   "id": "f0f8ece0-e989-484d-a92e-d0c1e641dbee",
   "metadata": {},
   "source": [
    "### Mamba Environments"
   ]
  },
  {
   "cell_type": "code",
   "execution_count": 5,
   "id": "c0bcf77a-6ba9-4b70-8915-8c3dcedade62",
   "metadata": {},
   "outputs": [
    {
     "ename": "TACCCommandError",
     "evalue": "Non-zero return code.\nclos21@stampede2$ mamba env list\nrc     : 127\nstdout : \nstderr : bash: mamba: command not found\n",
     "output_type": "error",
     "traceback": [
      "\u001b[0;31m---------------------------------------------------------------------------\u001b[0m",
      "\u001b[0;31mTACCCommandError\u001b[0m                          Traceback (most recent call last)",
      "Cell \u001b[0;32mIn[5], line 1\u001b[0m\n\u001b[0;32m----> 1\u001b[0m \u001b[43mclient\u001b[49m\u001b[38;5;241;43m.\u001b[39;49m\u001b[43mexec\u001b[49m\u001b[43m(\u001b[49m\u001b[38;5;124;43m'\u001b[39;49m\u001b[38;5;124;43mmamba env list\u001b[39;49m\u001b[38;5;124;43m'\u001b[39;49m\u001b[43m)\u001b[49m\n",
      "File \u001b[0;32m~/work/repos/taccjm/src/taccjm/TACCClient.py:254\u001b[0m, in \u001b[0;36mTACCClient.exec\u001b[0;34m(self, cmnd, wait, error)\u001b[0m\n\u001b[1;32m    251\u001b[0m \u001b[38;5;28mself\u001b[39m\u001b[38;5;241m.\u001b[39mcommands[\u001b[38;5;28mstr\u001b[39m(cmnd_config[\u001b[38;5;124m'\u001b[39m\u001b[38;5;124mid\u001b[39m\u001b[38;5;124m'\u001b[39m])] \u001b[38;5;241m=\u001b[39m cmnd_config\n\u001b[1;32m    253\u001b[0m \u001b[38;5;28;01mif\u001b[39;00m wait:\n\u001b[0;32m--> 254\u001b[0m     \u001b[38;5;28;01mreturn\u001b[39;00m \u001b[38;5;28;43mself\u001b[39;49m\u001b[38;5;241;43m.\u001b[39;49m\u001b[43mprocess\u001b[49m\u001b[43m(\u001b[49m\u001b[43mcmnd_config\u001b[49m\u001b[43m[\u001b[49m\u001b[38;5;124;43m'\u001b[39;49m\u001b[38;5;124;43mid\u001b[39;49m\u001b[38;5;124;43m'\u001b[39;49m\u001b[43m]\u001b[49m\u001b[43m,\u001b[49m\u001b[43m \u001b[49m\u001b[43mwait\u001b[49m\u001b[38;5;241;43m=\u001b[39;49m\u001b[43mwait\u001b[49m\u001b[43m,\u001b[49m\u001b[43m \u001b[49m\u001b[43merror\u001b[49m\u001b[38;5;241;43m=\u001b[39;49m\u001b[43merror\u001b[49m\u001b[43m)\u001b[49m\n\u001b[1;32m    255\u001b[0m \u001b[38;5;28;01melse\u001b[39;00m:\n\u001b[1;32m    256\u001b[0m     \u001b[38;5;28;01mreturn\u001b[39;00m cmnd_config\n",
      "File \u001b[0;32m~/work/repos/taccjm/src/taccjm/TACCClient.py:306\u001b[0m, in \u001b[0;36mTACCClient.process\u001b[0;34m(self, cmnd_id, wait, error, nbytes)\u001b[0m\n\u001b[1;32m    304\u001b[0m     \u001b[38;5;28mself\u001b[39m\u001b[38;5;241m.\u001b[39mlog\u001b[38;5;241m.\u001b[39merror(msg, extra\u001b[38;5;241m=\u001b[39m{\u001b[38;5;124m'\u001b[39m\u001b[38;5;124mcmnd_config\u001b[39m\u001b[38;5;124m'\u001b[39m: logconfig})\n\u001b[1;32m    305\u001b[0m     \u001b[38;5;28;01mif\u001b[39;00m error:\n\u001b[0;32m--> 306\u001b[0m         \u001b[38;5;28;01mraise\u001b[39;00m TACCCommandError(\u001b[38;5;28mself\u001b[39m\u001b[38;5;241m.\u001b[39msystem, \u001b[38;5;28mself\u001b[39m\u001b[38;5;241m.\u001b[39muser, cmnd_config)\n\u001b[1;32m    308\u001b[0m \u001b[38;5;28mself\u001b[39m\u001b[38;5;241m.\u001b[39mlog\u001b[38;5;241m.\u001b[39minfo(\u001b[38;5;124mf\u001b[39m\u001b[38;5;124m'\u001b[39m\u001b[38;5;124mProcessed command \u001b[39m\u001b[38;5;132;01m{\u001b[39;00mcmnd_id\u001b[38;5;132;01m}\u001b[39;00m\u001b[38;5;124m'\u001b[39m,\n\u001b[1;32m    309\u001b[0m               extra\u001b[38;5;241m=\u001b[39m{\u001b[38;5;124m'\u001b[39m\u001b[38;5;124mcmnd_config\u001b[39m\u001b[38;5;124m'\u001b[39m: logconfig})\n\u001b[1;32m    311\u001b[0m \u001b[38;5;28;01mreturn\u001b[39;00m cmnd_config\n",
      "\u001b[0;31mTACCCommandError\u001b[0m: Non-zero return code.\nclos21@stampede2$ mamba env list\nrc     : 127\nstdout : \nstderr : bash: mamba: command not found\n"
     ]
    }
   ],
   "source": [
    "client.exec('mamba env list')"
   ]
  },
  {
   "cell_type": "markdown",
   "id": "66fa78c6-5d2e-4448-a542-9e48a1618e96",
   "metadata": {},
   "source": [
    "## Local TACC Sessions\n",
    "\n",
    "Can mock being on TACC systems by setting the appropriate environment variables"
   ]
  },
  {
   "cell_type": "code",
   "execution_count": 1,
   "id": "74c77ea3-6b8a-42d2-8961-975f6f6ad74c",
   "metadata": {
    "tags": []
   },
   "outputs": [],
   "source": [
    "import importlib\n",
    "import logging\n",
    "import os\n",
    "import sys\n",
    "from pathlib import Path\n",
    "\n",
    "from taccjm import TACCClient"
   ]
  },
  {
   "cell_type": "code",
   "execution_count": 10,
   "id": "2abfb8b6-97d6-4195-a6c6-da372ac57b6a",
   "metadata": {},
   "outputs": [
    {
     "data": {
      "text/plain": [
       "<module 'taccjm.TACCClient' from '/home/jovyan/work/repos/taccjm/src/taccjm/TACCClient.py'>"
      ]
     },
     "execution_count": 10,
     "metadata": {},
     "output_type": "execute_result"
    }
   ],
   "source": [
    "importlib.reload(TACCClient)"
   ]
  },
  {
   "cell_type": "code",
   "execution_count": 11,
   "id": "07de066d-eb41-4b41-b11e-fb90410eb150",
   "metadata": {},
   "outputs": [
    {
     "name": "stdout",
     "output_type": "stream",
     "text": [
      "mkdir: cannot create directory ‘data/test-scratch’: File exists\n",
      "mkdir: cannot create directory ‘data/test-home’: File exists\n",
      "mkdir: cannot create directory ‘data/test-work’: File exists\n"
     ]
    }
   ],
   "source": [
    "!mkdir data/test-scratch; mkdir data/test-home; mkdir data/test-work"
   ]
  },
  {
   "cell_type": "code",
   "execution_count": 12,
   "id": "5062fba1-0e72-4df5-aa50-eb44e8f163c3",
   "metadata": {},
   "outputs": [
    {
     "name": "stdout",
     "output_type": "stream",
     "text": [
      "{\"asctime\": \"2023-02-09 15:36:06,144\", \"name\": \"taccjm.TACCClient\", \"levelname\": \"INFO\", \"message\": \"Logger taccjm.TACCClient initialized\", \"config\": {\"output\": \"<ipykernel.iostream.OutStream object at 0x7f89585027a0>\", \"fmt\": \"json\", \"level\": 20}}\n",
      "{\"asctime\": \"2023-02-09 15:36:06,144\", \"name\": \"taccjm.TACCClient\", \"levelname\": \"INFO\", \"message\": \"Logger taccjm.TACCClient initialized\", \"config\": {\"output\": \"<ipykernel.iostream.OutStream object at 0x7f89585027a0>\", \"fmt\": \"json\", \"level\": 20}}\n",
      "{\"asctime\": \"2023-02-09 15:36:06,147\", \"name\": \"taccjm.TACCClient\", \"levelname\": \"INFO\", \"message\": \"Running command locally\", \"cmnd\": \"mkdir -p /home/jovyan/work/repos/taccjm/notebooks/data/test-work/taccjm-ls6/apps\", \"wait\": true, \"error\": true}\n",
      "{\"asctime\": \"2023-02-09 15:36:06,147\", \"name\": \"taccjm.TACCClient\", \"levelname\": \"INFO\", \"message\": \"Running command locally\", \"cmnd\": \"mkdir -p /home/jovyan/work/repos/taccjm/notebooks/data/test-work/taccjm-ls6/apps\", \"wait\": true, \"error\": true}\n",
      "{\"asctime\": \"2023-02-09 15:36:06,150\", \"name\": \"taccjm.TACCClient\", \"levelname\": \"INFO\", \"message\": \"Getting command 0 from local command list\"}\n",
      "{\"asctime\": \"2023-02-09 15:36:06,150\", \"name\": \"taccjm.TACCClient\", \"levelname\": \"INFO\", \"message\": \"Getting command 0 from local command list\"}\n",
      "{\"asctime\": \"2023-02-09 15:36:06,152\", \"name\": \"taccjm.TACCClient\", \"levelname\": \"INFO\", \"message\": \"Waiting for command 0 to finish....\"}\n",
      "{\"asctime\": \"2023-02-09 15:36:06,152\", \"name\": \"taccjm.TACCClient\", \"levelname\": \"INFO\", \"message\": \"Waiting for command 0 to finish....\"}\n",
      "{\"asctime\": \"2023-02-09 15:36:06,154\", \"name\": \"taccjm.TACCClient\", \"levelname\": \"INFO\", \"message\": \"Command 0 done. Reading output.\"}\n",
      "{\"asctime\": \"2023-02-09 15:36:06,154\", \"name\": \"taccjm.TACCClient\", \"levelname\": \"INFO\", \"message\": \"Command 0 done. Reading output.\"}\n",
      "{\"asctime\": \"2023-02-09 15:36:06,156\", \"name\": \"taccjm.TACCClient\", \"levelname\": \"INFO\", \"message\": \"Command 0 completed!\"}\n",
      "{\"asctime\": \"2023-02-09 15:36:06,156\", \"name\": \"taccjm.TACCClient\", \"levelname\": \"INFO\", \"message\": \"Command 0 completed!\"}\n",
      "{\"asctime\": \"2023-02-09 15:36:06,158\", \"name\": \"taccjm.TACCClient\", \"levelname\": \"INFO\", \"message\": \"Processed command 0\", \"cmnd_config\": {\"id\": 0, \"cmd\": \"mkdir -p /home/jovyan/work/repos/taccjm/notebooks/data/test-work/taccjm-ls6/apps\", \"ts\": \"2023-02-09T15:36:06.155973\", \"status\": \"COMPLETE\", \"stdout\": \"b''\", \"stderr\": \"b''\", \"history\": [{\"status\": \"STARTED\", \"ts\": \"2023-02-09T15:36:06.150407\"}], \"rt\": 0, \"rc\": 0}}\n",
      "{\"asctime\": \"2023-02-09 15:36:06,158\", \"name\": \"taccjm.TACCClient\", \"levelname\": \"INFO\", \"message\": \"Processed command 0\", \"cmnd_config\": {\"id\": 0, \"cmd\": \"mkdir -p /home/jovyan/work/repos/taccjm/notebooks/data/test-work/taccjm-ls6/apps\", \"ts\": \"2023-02-09T15:36:06.155973\", \"status\": \"COMPLETE\", \"stdout\": \"b''\", \"stderr\": \"b''\", \"history\": [{\"status\": \"STARTED\", \"ts\": \"2023-02-09T15:36:06.150407\"}], \"rt\": 0, \"rc\": 0}}\n",
      "{\"asctime\": \"2023-02-09 15:36:06,159\", \"name\": \"taccjm.TACCClient\", \"levelname\": \"INFO\", \"message\": \"Running command locally\", \"cmnd\": \"mkdir -p /home/jovyan/work/repos/taccjm/notebooks/data/test-work/taccjm-ls6/scripts\", \"wait\": true, \"error\": true}\n",
      "{\"asctime\": \"2023-02-09 15:36:06,159\", \"name\": \"taccjm.TACCClient\", \"levelname\": \"INFO\", \"message\": \"Running command locally\", \"cmnd\": \"mkdir -p /home/jovyan/work/repos/taccjm/notebooks/data/test-work/taccjm-ls6/scripts\", \"wait\": true, \"error\": true}\n",
      "{\"asctime\": \"2023-02-09 15:36:06,162\", \"name\": \"taccjm.TACCClient\", \"levelname\": \"INFO\", \"message\": \"Getting command 1 from local command list\"}\n",
      "{\"asctime\": \"2023-02-09 15:36:06,162\", \"name\": \"taccjm.TACCClient\", \"levelname\": \"INFO\", \"message\": \"Getting command 1 from local command list\"}\n",
      "{\"asctime\": \"2023-02-09 15:36:06,163\", \"name\": \"taccjm.TACCClient\", \"levelname\": \"INFO\", \"message\": \"Waiting for command 1 to finish....\"}\n",
      "{\"asctime\": \"2023-02-09 15:36:06,163\", \"name\": \"taccjm.TACCClient\", \"levelname\": \"INFO\", \"message\": \"Waiting for command 1 to finish....\"}\n",
      "{\"asctime\": \"2023-02-09 15:36:06,165\", \"name\": \"taccjm.TACCClient\", \"levelname\": \"INFO\", \"message\": \"Command 1 done. Reading output.\"}\n",
      "{\"asctime\": \"2023-02-09 15:36:06,165\", \"name\": \"taccjm.TACCClient\", \"levelname\": \"INFO\", \"message\": \"Command 1 done. Reading output.\"}\n",
      "{\"asctime\": \"2023-02-09 15:36:06,167\", \"name\": \"taccjm.TACCClient\", \"levelname\": \"INFO\", \"message\": \"Command 1 completed!\"}\n",
      "{\"asctime\": \"2023-02-09 15:36:06,167\", \"name\": \"taccjm.TACCClient\", \"levelname\": \"INFO\", \"message\": \"Command 1 completed!\"}\n",
      "{\"asctime\": \"2023-02-09 15:36:06,168\", \"name\": \"taccjm.TACCClient\", \"levelname\": \"INFO\", \"message\": \"Processed command 1\", \"cmnd_config\": {\"id\": 1, \"cmd\": \"mkdir -p /home/jovyan/work/repos/taccjm/notebooks/data/test-work/taccjm-ls6/scripts\", \"ts\": \"2023-02-09T15:36:06.167356\", \"status\": \"COMPLETE\", \"stdout\": \"b''\", \"stderr\": \"b''\", \"history\": [{\"status\": \"STARTED\", \"ts\": \"2023-02-09T15:36:06.162349\"}], \"rt\": 0, \"rc\": 0}}\n",
      "{\"asctime\": \"2023-02-09 15:36:06,168\", \"name\": \"taccjm.TACCClient\", \"levelname\": \"INFO\", \"message\": \"Processed command 1\", \"cmnd_config\": {\"id\": 1, \"cmd\": \"mkdir -p /home/jovyan/work/repos/taccjm/notebooks/data/test-work/taccjm-ls6/scripts\", \"ts\": \"2023-02-09T15:36:06.167356\", \"status\": \"COMPLETE\", \"stdout\": \"b''\", \"stderr\": \"b''\", \"history\": [{\"status\": \"STARTED\", \"ts\": \"2023-02-09T15:36:06.162349\"}], \"rt\": 0, \"rc\": 0}}\n",
      "{\"asctime\": \"2023-02-09 15:36:06,170\", \"name\": \"taccjm.TACCClient\", \"levelname\": \"INFO\", \"message\": \"Running command locally\", \"cmnd\": \"mkdir -p /home/jovyan/work/repos/taccjm/notebooks/data/test-scratch/taccjm-ls6/jobs\", \"wait\": true, \"error\": true}\n",
      "{\"asctime\": \"2023-02-09 15:36:06,170\", \"name\": \"taccjm.TACCClient\", \"levelname\": \"INFO\", \"message\": \"Running command locally\", \"cmnd\": \"mkdir -p /home/jovyan/work/repos/taccjm/notebooks/data/test-scratch/taccjm-ls6/jobs\", \"wait\": true, \"error\": true}\n",
      "{\"asctime\": \"2023-02-09 15:36:06,172\", \"name\": \"taccjm.TACCClient\", \"levelname\": \"INFO\", \"message\": \"Getting command 2 from local command list\"}\n",
      "{\"asctime\": \"2023-02-09 15:36:06,172\", \"name\": \"taccjm.TACCClient\", \"levelname\": \"INFO\", \"message\": \"Getting command 2 from local command list\"}\n",
      "{\"asctime\": \"2023-02-09 15:36:06,174\", \"name\": \"taccjm.TACCClient\", \"levelname\": \"INFO\", \"message\": \"Waiting for command 2 to finish....\"}\n",
      "{\"asctime\": \"2023-02-09 15:36:06,174\", \"name\": \"taccjm.TACCClient\", \"levelname\": \"INFO\", \"message\": \"Waiting for command 2 to finish....\"}\n",
      "{\"asctime\": \"2023-02-09 15:36:06,176\", \"name\": \"taccjm.TACCClient\", \"levelname\": \"INFO\", \"message\": \"Command 2 done. Reading output.\"}\n",
      "{\"asctime\": \"2023-02-09 15:36:06,176\", \"name\": \"taccjm.TACCClient\", \"levelname\": \"INFO\", \"message\": \"Command 2 done. Reading output.\"}\n",
      "{\"asctime\": \"2023-02-09 15:36:06,179\", \"name\": \"taccjm.TACCClient\", \"levelname\": \"INFO\", \"message\": \"Command 2 completed!\"}\n",
      "{\"asctime\": \"2023-02-09 15:36:06,179\", \"name\": \"taccjm.TACCClient\", \"levelname\": \"INFO\", \"message\": \"Command 2 completed!\"}\n",
      "{\"asctime\": \"2023-02-09 15:36:06,180\", \"name\": \"taccjm.TACCClient\", \"levelname\": \"INFO\", \"message\": \"Processed command 2\", \"cmnd_config\": {\"id\": 2, \"cmd\": \"mkdir -p /home/jovyan/work/repos/taccjm/notebooks/data/test-scratch/taccjm-ls6/jobs\", \"ts\": \"2023-02-09T15:36:06.179015\", \"status\": \"COMPLETE\", \"stdout\": \"b''\", \"stderr\": \"b''\", \"history\": [{\"status\": \"STARTED\", \"ts\": \"2023-02-09T15:36:06.172612\"}], \"rt\": 0, \"rc\": 0}}\n",
      "{\"asctime\": \"2023-02-09 15:36:06,180\", \"name\": \"taccjm.TACCClient\", \"levelname\": \"INFO\", \"message\": \"Processed command 2\", \"cmnd_config\": {\"id\": 2, \"cmd\": \"mkdir -p /home/jovyan/work/repos/taccjm/notebooks/data/test-scratch/taccjm-ls6/jobs\", \"ts\": \"2023-02-09T15:36:06.179015\", \"status\": \"COMPLETE\", \"stdout\": \"b''\", \"stderr\": \"b''\", \"history\": [{\"status\": \"STARTED\", \"ts\": \"2023-02-09T15:36:06.172612\"}], \"rt\": 0, \"rc\": 0}}\n",
      "{\"asctime\": \"2023-02-09 15:36:06,182\", \"name\": \"taccjm.TACCClient\", \"levelname\": \"INFO\", \"message\": \"Running command locally\", \"cmnd\": \"mkdir -p /home/jovyan/work/repos/taccjm/notebooks/data/test-scratch/taccjm-ls6/trash\", \"wait\": true, \"error\": true}\n",
      "{\"asctime\": \"2023-02-09 15:36:06,182\", \"name\": \"taccjm.TACCClient\", \"levelname\": \"INFO\", \"message\": \"Running command locally\", \"cmnd\": \"mkdir -p /home/jovyan/work/repos/taccjm/notebooks/data/test-scratch/taccjm-ls6/trash\", \"wait\": true, \"error\": true}\n",
      "{\"asctime\": \"2023-02-09 15:36:06,185\", \"name\": \"taccjm.TACCClient\", \"levelname\": \"INFO\", \"message\": \"Getting command 3 from local command list\"}\n",
      "{\"asctime\": \"2023-02-09 15:36:06,185\", \"name\": \"taccjm.TACCClient\", \"levelname\": \"INFO\", \"message\": \"Getting command 3 from local command list\"}\n",
      "{\"asctime\": \"2023-02-09 15:36:06,187\", \"name\": \"taccjm.TACCClient\", \"levelname\": \"INFO\", \"message\": \"Waiting for command 3 to finish....\"}\n",
      "{\"asctime\": \"2023-02-09 15:36:06,187\", \"name\": \"taccjm.TACCClient\", \"levelname\": \"INFO\", \"message\": \"Waiting for command 3 to finish....\"}\n",
      "{\"asctime\": \"2023-02-09 15:36:06,188\", \"name\": \"taccjm.TACCClient\", \"levelname\": \"INFO\", \"message\": \"Command 3 done. Reading output.\"}\n",
      "{\"asctime\": \"2023-02-09 15:36:06,188\", \"name\": \"taccjm.TACCClient\", \"levelname\": \"INFO\", \"message\": \"Command 3 done. Reading output.\"}\n",
      "{\"asctime\": \"2023-02-09 15:36:06,190\", \"name\": \"taccjm.TACCClient\", \"levelname\": \"INFO\", \"message\": \"Command 3 completed!\"}\n",
      "{\"asctime\": \"2023-02-09 15:36:06,190\", \"name\": \"taccjm.TACCClient\", \"levelname\": \"INFO\", \"message\": \"Command 3 completed!\"}\n",
      "{\"asctime\": \"2023-02-09 15:36:06,191\", \"name\": \"taccjm.TACCClient\", \"levelname\": \"INFO\", \"message\": \"Processed command 3\", \"cmnd_config\": {\"id\": 3, \"cmd\": \"mkdir -p /home/jovyan/work/repos/taccjm/notebooks/data/test-scratch/taccjm-ls6/trash\", \"ts\": \"2023-02-09T15:36:06.190348\", \"status\": \"COMPLETE\", \"stdout\": \"b''\", \"stderr\": \"b''\", \"history\": [{\"status\": \"STARTED\", \"ts\": \"2023-02-09T15:36:06.185414\"}], \"rt\": 0, \"rc\": 0}}\n",
      "{\"asctime\": \"2023-02-09 15:36:06,191\", \"name\": \"taccjm.TACCClient\", \"levelname\": \"INFO\", \"message\": \"Processed command 3\", \"cmnd_config\": {\"id\": 3, \"cmd\": \"mkdir -p /home/jovyan/work/repos/taccjm/notebooks/data/test-scratch/taccjm-ls6/trash\", \"ts\": \"2023-02-09T15:36:06.190348\", \"status\": \"COMPLETE\", \"stdout\": \"b''\", \"stderr\": \"b''\", \"history\": [{\"status\": \"STARTED\", \"ts\": \"2023-02-09T15:36:06.185414\"}], \"rt\": 0, \"rc\": 0}}\n"
     ]
    }
   ],
   "source": [
    "system = \"ls6\"\n",
    "os.environ[\"HOSTNAME\"] = f\"login2.{system}.tacc.utexas.edu\"\n",
    "os.environ[\"SCRATCH\"] = str(Path.cwd() / \"data/test-scratch\")\n",
    "os.environ[\"HOME\"] = str(Path.cwd() / \"data/test-home\")\n",
    "os.environ[\"WORK\"] = str(Path.cwd() / \"data/test-work\")\n",
    "client = TACCClient.TACCClient(\n",
    "    \"ls6\", log_config={'output': sys.stdout, 'fmt': 'json', 'level': logging.INFO}\n",
    ")\n",
    "os.environ[\"HOSTNAME\"] = \"\"\n",
    "os.environ[\"SCRATCH\"] = \"\"\n",
    "os.environ[\"HOME\"] = \"\"\n",
    "os.environ[\"WORK\"] = \"\""
   ]
  },
  {
   "cell_type": "code",
   "execution_count": 6,
   "id": "4fc02cea-9458-4636-8faa-f3e9a1e66f7e",
   "metadata": {},
   "outputs": [
    {
     "data": {
      "text/plain": [
       "('/home/jovyan/work/repos/taccjm/notebooks/data/test-work/taccjm-ls6/apps',\n",
       " '/home/jovyan/work/repos/taccjm/notebooks/data/test-scratch/taccjm-ls6/jobs',\n",
       " '/home/jovyan/work/repos/taccjm/notebooks/data/test-work/taccjm-ls6/scripts',\n",
       " '/home/jovyan/work/repos/taccjm/notebooks/data/test-scratch/taccjm-ls6/jobs',\n",
       " '/home/jovyan/work/repos/taccjm/notebooks/data/test-scratch/taccjm-ls6/trash')"
      ]
     },
     "execution_count": 6,
     "metadata": {},
     "output_type": "execute_result"
    }
   ],
   "source": [
    "client.apps_dir, client.jobs_dir, client.scripts_dir, client.jobs_dir, client.trash_dir"
   ]
  },
  {
   "cell_type": "markdown",
   "id": "65546335-e770-4a85-93b4-500713cde6ea",
   "metadata": {},
   "source": [
    "### Command Operations"
   ]
  },
  {
   "cell_type": "code",
   "execution_count": 26,
   "id": "958d05c4-0354-46c5-a8ab-97830c198147",
   "metadata": {},
   "outputs": [
    {
     "name": "stdout",
     "output_type": "stream",
     "text": [
      "2023-02-08 16:16:07,429 | taccjm.TACCSimulation | INFO | Running command locally\n",
      "2023-02-08 16:16:07,429 | taccjm.TACCSimulation | INFO | Running command locally\n",
      "2023-02-08 16:16:07,429 | taccjm.TACCSimulation | INFO | Running command locally\n",
      "2023-02-08 16:16:07,429 | taccjm.TACCSimulation | INFO | Running command locally\n",
      "2023-02-08 16:16:07,429 | taccjm.TACCSimulation | INFO | Running command locally\n",
      "2023-02-08 16:16:07,435 | taccjm.TACCSimulation | INFO | Getting command 0 from local command list\n",
      "2023-02-08 16:16:07,435 | taccjm.TACCSimulation | INFO | Getting command 0 from local command list\n",
      "2023-02-08 16:16:07,435 | taccjm.TACCSimulation | INFO | Getting command 0 from local command list\n",
      "2023-02-08 16:16:07,435 | taccjm.TACCSimulation | INFO | Getting command 0 from local command list\n",
      "2023-02-08 16:16:07,435 | taccjm.TACCSimulation | INFO | Getting command 0 from local command list\n",
      "2023-02-08 16:16:07,439 | taccjm.TACCSimulation | INFO | Waiting for command 0 to finish....\n",
      "2023-02-08 16:16:07,439 | taccjm.TACCSimulation | INFO | Waiting for command 0 to finish....\n",
      "2023-02-08 16:16:07,439 | taccjm.TACCSimulation | INFO | Waiting for command 0 to finish....\n",
      "2023-02-08 16:16:07,439 | taccjm.TACCSimulation | INFO | Waiting for command 0 to finish....\n",
      "2023-02-08 16:16:07,439 | taccjm.TACCSimulation | INFO | Waiting for command 0 to finish....\n"
     ]
    },
    {
     "data": {
      "text/plain": [
       "{'id': 0,\n",
       " 'cmd': 'ls',\n",
       " 'ts': datetime.datetime(2023, 2, 8, 16, 16, 7, 442880),\n",
       " 'status': 'STARTED',\n",
       " 'stdout': b'data\\ntest.json\\nTutorial.ipynb\\n',\n",
       " 'stderr': b'',\n",
       " 'history': [{'status': 'STARTED',\n",
       "   'ts': datetime.datetime(2023, 2, 8, 16, 16, 7, 435737)}],\n",
       " 'process': <Popen: returncode: 0 args: 'ls'>,\n",
       " 'rt': 0,\n",
       " 'rc': 0}"
      ]
     },
     "execution_count": 26,
     "metadata": {},
     "output_type": "execute_result"
    }
   ],
   "source": [
    "client.exec(\"ls\")"
   ]
  },
  {
   "cell_type": "code",
   "execution_count": 27,
   "id": "dc3a5086-b864-4d3f-972e-64076ea1dd10",
   "metadata": {},
   "outputs": [
    {
     "name": "stdout",
     "output_type": "stream",
     "text": [
      "2023-02-08 16:17:46,454 | taccjm.TACCSimulation | INFO | Running command locally\n",
      "2023-02-08 16:17:46,454 | taccjm.TACCSimulation | INFO | Running command locally\n",
      "2023-02-08 16:17:46,454 | taccjm.TACCSimulation | INFO | Running command locally\n",
      "2023-02-08 16:17:46,454 | taccjm.TACCSimulation | INFO | Running command locally\n",
      "2023-02-08 16:17:46,454 | taccjm.TACCSimulation | INFO | Running command locally\n"
     ]
    },
    {
     "data": {
      "text/plain": [
       "{'id': 1,\n",
       " 'cmd': 'echo START; sleep 10; echo END',\n",
       " 'ts': datetime.datetime(2023, 2, 8, 16, 17, 46, 461570),\n",
       " 'status': 'STARTED',\n",
       " 'stdout': '',\n",
       " 'stderr': '',\n",
       " 'history': [],\n",
       " 'process': <Popen: returncode: None args: 'echo START; sleep 10; echo END'>,\n",
       " 'rt': None}"
      ]
     },
     "execution_count": 27,
     "metadata": {},
     "output_type": "execute_result"
    }
   ],
   "source": [
    "client.exec(\"echo START; sleep 10; echo END\", wait=False)"
   ]
  },
  {
   "cell_type": "code",
   "execution_count": 30,
   "id": "15fe1874-af4e-4e13-a95e-c7a30edd6b05",
   "metadata": {},
   "outputs": [
    {
     "name": "stdout",
     "output_type": "stream",
     "text": [
      "2023-02-08 16:18:09,027 | taccjm.TACCSimulation | INFO | Getting command 1 from local command list\n",
      "2023-02-08 16:18:09,027 | taccjm.TACCSimulation | INFO | Getting command 1 from local command list\n",
      "2023-02-08 16:18:09,027 | taccjm.TACCSimulation | INFO | Getting command 1 from local command list\n",
      "2023-02-08 16:18:09,027 | taccjm.TACCSimulation | INFO | Getting command 1 from local command list\n",
      "2023-02-08 16:18:09,027 | taccjm.TACCSimulation | INFO | Getting command 1 from local command list\n",
      "2023-02-08 16:18:09,032 | taccjm.TACCSimulation | INFO | Waiting for command 1 to finish....\n",
      "2023-02-08 16:18:09,032 | taccjm.TACCSimulation | INFO | Waiting for command 1 to finish....\n",
      "2023-02-08 16:18:09,032 | taccjm.TACCSimulation | INFO | Waiting for command 1 to finish....\n",
      "2023-02-08 16:18:09,032 | taccjm.TACCSimulation | INFO | Waiting for command 1 to finish....\n",
      "2023-02-08 16:18:09,032 | taccjm.TACCSimulation | INFO | Waiting for command 1 to finish....\n"
     ]
    },
    {
     "data": {
      "text/plain": [
       "{'id': 1,\n",
       " 'cmd': 'echo START; sleep 10; echo END',\n",
       " 'ts': datetime.datetime(2023, 2, 8, 16, 18, 9, 36562),\n",
       " 'status': 'STARTED',\n",
       " 'stdout': b'START\\nEND\\n',\n",
       " 'stderr': b'',\n",
       " 'history': [{'status': 'STARTED',\n",
       "   'ts': datetime.datetime(2023, 2, 8, 16, 17, 46, 461570)}],\n",
       " 'process': <Popen: returncode: 0 args: 'echo START; sleep 10; echo END'>,\n",
       " 'rt': 22,\n",
       " 'rc': 0}"
      ]
     },
     "execution_count": 30,
     "metadata": {},
     "output_type": "execute_result"
    }
   ],
   "source": [
    "client.process(1)"
   ]
  },
  {
   "cell_type": "markdown",
   "id": "9f63f862-1283-4bb6-96a4-74319b0cbf61",
   "metadata": {},
   "source": [
    "### File Operations\n",
    "\n",
    "Note: Upload and download don't really mean much when executing on TACC itself. "
   ]
  },
  {
   "cell_type": "code",
   "execution_count": 12,
   "id": "beb09206-8570-421f-ac1c-9cf3372990b8",
   "metadata": {},
   "outputs": [
    {
     "data": {
      "text/plain": [
       "[[{'filename': '/home/jovyan/work/repos/taccjm/notebooks',\n",
       "   'st_atime': 1675972885.788579,\n",
       "   'st_gid': 100,\n",
       "   'st_mode': 17901,\n",
       "   'st_mtime': 1675972885.753579,\n",
       "   'st_size': 4096,\n",
       "   'st_uid': 1000}]]"
      ]
     },
     "execution_count": 12,
     "metadata": {},
     "output_type": "execute_result"
    }
   ],
   "source": [
    "current_dir = client.list_files(\"\")\n",
    "current_dir"
   ]
  },
  {
   "cell_type": "code",
   "execution_count": 15,
   "id": "5c524095-7d4d-4ced-a557-e162cb39995f",
   "metadata": {},
   "outputs": [
    {
     "data": {
      "text/plain": [
       "10"
      ]
     },
     "execution_count": 15,
     "metadata": {},
     "output_type": "execute_result"
    }
   ],
   "source": [
    "files = client.list_files(\"\", recurse=True)\n",
    "len(files)"
   ]
  },
  {
   "cell_type": "code",
   "execution_count": 12,
   "id": "c384ef64-2145-408f-9dd9-fd1dbc3c3a8a",
   "metadata": {},
   "outputs": [],
   "source": [
    "client.write({\"test\": 1231}, \"test.json\")"
   ]
  },
  {
   "cell_type": "code",
   "execution_count": 13,
   "id": "14208b0e-1daa-4e2b-9637-335e23ed8119",
   "metadata": {},
   "outputs": [
    {
     "data": {
      "text/plain": [
       "[{'filename': '/home/jovyan/work/repos/taccjm/notebooks/test.json',\n",
       "  'st_atime': 1675972951.953107,\n",
       "  'st_gid': 100,\n",
       "  'st_mode': 33188,\n",
       "  'st_mtime': 1675977509.267336,\n",
       "  'st_size': 14,\n",
       "  'st_uid': 1000}]"
      ]
     },
     "execution_count": 13,
     "metadata": {},
     "output_type": "execute_result"
    }
   ],
   "source": [
    "client.list_files(\"test.json\")"
   ]
  },
  {
   "cell_type": "code",
   "execution_count": 14,
   "id": "fa24e568-597d-4a49-a692-a31846954805",
   "metadata": {},
   "outputs": [
    {
     "data": {
      "text/plain": [
       "'{\"test\": 1231}'"
      ]
     },
     "execution_count": 14,
     "metadata": {},
     "output_type": "execute_result"
    }
   ],
   "source": [
    "client.read(\"test.json\")"
   ]
  },
  {
   "cell_type": "code",
   "execution_count": 23,
   "id": "b35c4b29-cf15-4ce7-a08f-754eca933ad8",
   "metadata": {},
   "outputs": [
    {
     "data": {
      "text/plain": [
       "[[{'filename': '/home/jovyan/work',\n",
       "   'st_atime': 1675970669.301117,\n",
       "   'st_gid': 100,\n",
       "   'st_mode': 19965,\n",
       "   'st_mtime': 1675966498.928591,\n",
       "   'st_size': 4096,\n",
       "   'st_uid': 1000}]]"
      ]
     },
     "execution_count": 23,
     "metadata": {},
     "output_type": "execute_result"
    }
   ],
   "source": [
    "client.list_files('../../..')"
   ]
  },
  {
   "cell_type": "markdown",
   "id": "07ca91d6-cc39-4b6d-95a9-36733e062362",
   "metadata": {
    "tags": []
   },
   "source": [
    "### Trash operations"
   ]
  },
  {
   "cell_type": "code",
   "execution_count": 4,
   "id": "2d50ef9a-4a06-407e-9490-30bc3e68b986",
   "metadata": {},
   "outputs": [
    {
     "data": {
      "text/plain": [
       "'/home/jovyan/work/repos/taccjm/notebooks/data/test-scratch/taccjm-ls6/trash'"
      ]
     },
     "execution_count": 4,
     "metadata": {},
     "output_type": "execute_result"
    }
   ],
   "source": [
    "client.trash_dir"
   ]
  },
  {
   "cell_type": "code",
   "execution_count": 4,
   "id": "7d80925b-76ab-4832-b0a3-6ea6f1f869e1",
   "metadata": {},
   "outputs": [
    {
     "data": {
      "text/plain": [
       "[]"
      ]
     },
     "execution_count": 4,
     "metadata": {},
     "output_type": "execute_result"
    }
   ],
   "source": [
    "client.ls_trash()"
   ]
  },
  {
   "cell_type": "code",
   "execution_count": 5,
   "id": "16eb44d8-8f76-4337-9c41-360b28f3176b",
   "metadata": {},
   "outputs": [
    {
     "name": "stdout",
     "output_type": "stream",
     "text": [
      "{\"asctime\": \"2023-02-09 15:34:52,791\", \"name\": \"taccjm.TACCClient\", \"levelname\": \"INFO\", \"message\": \"Running command locally\", \"cmnd\": \"rsync -a /home/jovyan/work/repos/taccjm/notebooks/test.json /home/jovyan/work/repos/taccjm/notebooks/data/test-scratch/taccjm-ls6/trash/___home___jovyan___work___repos___taccjm___notebooks___test.json && rm -rf /home/jovyan/work/repos/taccjm/notebooks/test.json\", \"wait\": false, \"error\": true}\n"
     ]
    },
    {
     "data": {
      "text/plain": [
       "{'id': 4,\n",
       " 'cmd': 'rsync -a /home/jovyan/work/repos/taccjm/notebooks/test.json /home/jovyan/work/repos/taccjm/notebooks/data/test-scratch/taccjm-ls6/trash/___home___jovyan___work___repos___taccjm___notebooks___test.json && rm -rf /home/jovyan/work/repos/taccjm/notebooks/test.json',\n",
       " 'ts': datetime.datetime(2023, 2, 9, 15, 34, 52, 792784),\n",
       " 'status': 'STARTED',\n",
       " 'stdout': '',\n",
       " 'stderr': '',\n",
       " 'history': [],\n",
       " 'process': <Popen: returncode: None args: 'rsync -a /home/jovyan/work/repos/taccjm/note...>,\n",
       " 'rt': None}"
      ]
     },
     "execution_count": 5,
     "metadata": {},
     "output_type": "execute_result"
    }
   ],
   "source": [
    "client.rm('test.json')"
   ]
  },
  {
   "cell_type": "code",
   "execution_count": 6,
   "id": "0a21d300-b3a0-4855-b072-2f4b572041f9",
   "metadata": {},
   "outputs": [
    {
     "name": "stdout",
     "output_type": "stream",
     "text": [
      "{\"asctime\": \"2023-02-09 15:34:54,600\", \"name\": \"taccjm.TACCClient\", \"levelname\": \"INFO\", \"message\": \"Getting command 4 from local command list\"}\n",
      "{\"asctime\": \"2023-02-09 15:34:54,603\", \"name\": \"taccjm.TACCClient\", \"levelname\": \"INFO\", \"message\": \"Waiting for command 4 to finish....\"}\n",
      "{\"asctime\": \"2023-02-09 15:34:54,604\", \"name\": \"taccjm.TACCClient\", \"levelname\": \"INFO\", \"message\": \"Command 4 done. Reading output.\"}\n",
      "{\"asctime\": \"2023-02-09 15:34:54,605\", \"name\": \"taccjm.TACCClient\", \"levelname\": \"INFO\", \"message\": \"Command 4 completed!\"}\n",
      "{\"asctime\": \"2023-02-09 15:34:54,606\", \"name\": \"taccjm.TACCClient\", \"levelname\": \"INFO\", \"message\": \"Processed command 4\", \"cmnd_config\": {\"id\": 4, \"cmd\": \"rsync -a /home/jovyan/work/repos/taccjm/notebooks/test.json /home/jovyan/work/repos/taccjm/notebooks/data/test-scratch/taccjm-ls6/trash/___home___jovyan___work___repos___taccjm___notebooks___test.json && rm -rf /home/jovyan/work/repos/taccjm/notebooks/test.json\", \"ts\": \"2023-02-09T15:34:54.605277\", \"status\": \"COMPLETE\", \"stdout\": \"b''\", \"stderr\": \"b''\", \"history\": [{\"status\": \"STARTED\", \"ts\": \"2023-02-09T15:34:52.792784\"}], \"rt\": 1, \"rc\": 0}}\n"
     ]
    },
    {
     "data": {
      "text/plain": [
       "{'id': 4,\n",
       " 'cmd': 'rsync -a /home/jovyan/work/repos/taccjm/notebooks/test.json /home/jovyan/work/repos/taccjm/notebooks/data/test-scratch/taccjm-ls6/trash/___home___jovyan___work___repos___taccjm___notebooks___test.json && rm -rf /home/jovyan/work/repos/taccjm/notebooks/test.json',\n",
       " 'ts': datetime.datetime(2023, 2, 9, 15, 34, 54, 605277),\n",
       " 'status': 'COMPLETE',\n",
       " 'stdout': b'',\n",
       " 'stderr': b'',\n",
       " 'history': [{'status': 'STARTED',\n",
       "   'ts': datetime.datetime(2023, 2, 9, 15, 34, 52, 792784)}],\n",
       " 'process': <Popen: returncode: 0 args: 'rsync -a /home/jovyan/work/repos/taccjm/noteboo...>,\n",
       " 'rt': 1,\n",
       " 'rc': 0}"
      ]
     },
     "execution_count": 6,
     "metadata": {},
     "output_type": "execute_result"
    }
   ],
   "source": [
    "client.process(4)"
   ]
  },
  {
   "cell_type": "code",
   "execution_count": 13,
   "id": "c459acd9-d8a9-4dae-9373-a2a2190a25ce",
   "metadata": {},
   "outputs": [
    {
     "data": {
      "text/plain": [
       "[{'filename': '/home/jovyan/work/repos/taccjm/notebooks/test.json',\n",
       "  'st_atime': 1675978492.799484,\n",
       "  'st_gid': 100,\n",
       "  'st_mode': 33188,\n",
       "  'st_mtime': 1675977509.267336,\n",
       "  'st_size': 14,\n",
       "  'st_uid': 1000}]"
      ]
     },
     "execution_count": 13,
     "metadata": {},
     "output_type": "execute_result"
    }
   ],
   "source": [
    "client.ls_trash()"
   ]
  },
  {
   "cell_type": "code",
   "execution_count": 14,
   "id": "3d2dc95b-b8c6-458e-b18d-da03a12624e3",
   "metadata": {},
   "outputs": [
    {
     "ename": "ValueError",
     "evalue": "Error getting stats for /home/jovyan/work/repos/taccjm/notebooks/test.json: [Errno 2] No such file or directory: '/home/jovyan/work/repos/taccjm/notebooks/test.json'",
     "output_type": "error",
     "traceback": [
      "\u001b[0;31m---------------------------------------------------------------------------\u001b[0m",
      "\u001b[0;31mValueError\u001b[0m                                Traceback (most recent call last)",
      "Cell \u001b[0;32mIn[14], line 1\u001b[0m\n\u001b[0;32m----> 1\u001b[0m \u001b[43mclient\u001b[49m\u001b[38;5;241;43m.\u001b[39;49m\u001b[43mlist_files\u001b[49m\u001b[43m(\u001b[49m\u001b[38;5;124;43m\"\u001b[39;49m\u001b[38;5;124;43mtest.json\u001b[39;49m\u001b[38;5;124;43m\"\u001b[39;49m\u001b[43m)\u001b[49m\n",
      "File \u001b[0;32m~home/jovyan/work/repos/taccjm/src/taccjm/TACCClient.py:170\u001b[0m, in \u001b[0;36mTACCClient.list_files\u001b[0;34m(self, path, attrs, recurse, hidden, search, match, job_id)\u001b[0m\n\u001b[1;32m    167\u001b[0m     path \u001b[38;5;241m=\u001b[39m \u001b[38;5;28mself\u001b[39m\u001b[38;5;241m.\u001b[39mabspath(path)\n\u001b[1;32m    169\u001b[0m \u001b[38;5;28;01mif\u001b[39;00m \u001b[38;5;28mself\u001b[39m\u001b[38;5;241m.\u001b[39mssh_client \u001b[38;5;129;01mis\u001b[39;00m \u001b[38;5;28;01mNone\u001b[39;00m:\n\u001b[0;32m--> 170\u001b[0m     \u001b[38;5;28;01mreturn\u001b[39;00m \u001b[43mstat_all_files_and_folders\u001b[49m\u001b[43m(\u001b[49m\u001b[43mpath\u001b[49m\u001b[43m,\u001b[49m\u001b[43m \u001b[49m\u001b[43mrecurse\u001b[49m\u001b[38;5;241;43m=\u001b[39;49m\u001b[43mrecurse\u001b[49m\u001b[43m)\u001b[49m\n\u001b[1;32m    171\u001b[0m \u001b[38;5;28;01melse\u001b[39;00m:\n\u001b[1;32m    172\u001b[0m     \u001b[38;5;28;01mreturn\u001b[39;00m tsa\u001b[38;5;241m.\u001b[39mlist_files(\n\u001b[1;32m    173\u001b[0m         \u001b[38;5;28mself\u001b[39m\u001b[38;5;241m.\u001b[39mid,\n\u001b[1;32m    174\u001b[0m         path\u001b[38;5;241m=\u001b[39mpath,\n\u001b[0;32m   (...)\u001b[0m\n\u001b[1;32m    179\u001b[0m         match\u001b[38;5;241m=\u001b[39mmatch,\n\u001b[1;32m    180\u001b[0m     )\n",
      "File \u001b[0;32m~home/jovyan/work/repos/taccjm/src/taccjm/utils.py:425\u001b[0m, in \u001b[0;36mstat_all_files_and_folders\u001b[0;34m(path, f_attrs, recurse)\u001b[0m\n\u001b[1;32m    423\u001b[0m result \u001b[38;5;241m=\u001b[39m stat_file_or_folder(\u001b[38;5;28mstr\u001b[39m(Path(path)\u001b[38;5;241m.\u001b[39mresolve()))\n\u001b[1;32m    424\u001b[0m \u001b[38;5;28;01mif\u001b[39;00m \u001b[38;5;28misinstance\u001b[39m(result, \u001b[38;5;28mstr\u001b[39m):\n\u001b[0;32m--> 425\u001b[0m     \u001b[38;5;28;01mraise\u001b[39;00m \u001b[38;5;167;01mValueError\u001b[39;00m(result)\n\u001b[1;32m    426\u001b[0m \u001b[38;5;28;01mif\u001b[39;00m \u001b[38;5;129;01mnot\u001b[39;00m stat\u001b[38;5;241m.\u001b[39mS_ISDIR(result[\u001b[38;5;241m1\u001b[39m]\u001b[38;5;241m.\u001b[39mst_mode) \u001b[38;5;129;01mor\u001b[39;00m \u001b[38;5;129;01mnot\u001b[39;00m recurse:\n\u001b[1;32m    427\u001b[0m     \u001b[38;5;28;01mreturn\u001b[39;00m [_process(result)]\n",
      "\u001b[0;31mValueError\u001b[0m: Error getting stats for /home/jovyan/work/repos/taccjm/notebooks/test.json: [Errno 2] No such file or directory: '/home/jovyan/work/repos/taccjm/notebooks/test.json'"
     ]
    }
   ],
   "source": [
    "client.list_files(\"test.json\")"
   ]
  },
  {
   "cell_type": "code",
   "execution_count": 15,
   "id": "08c8ebd2-9367-4380-8c5e-f0190249ded5",
   "metadata": {},
   "outputs": [
    {
     "name": "stdout",
     "output_type": "stream",
     "text": [
      "{\"asctime\": \"2023-02-09 15:36:16,137\", \"name\": \"taccjm.TACCClient\", \"levelname\": \"INFO\", \"message\": \"Running command locally\", \"cmnd\": \"rsync -a /home/jovyan/work/repos/taccjm/notebooks/data/test-scratch/taccjm-ls6/trash/___home___jovyan___work___repos___taccjm___notebooks___test.json /home/jovyan/work/repos/taccjm/notebooks/test.json && rm -rf /home/jovyan/work/repos/taccjm/notebooks/data/test-scratch/taccjm-ls6/trash/___home___jovyan___work___repos___taccjm___notebooks___test.json\", \"wait\": false, \"error\": true}\n",
      "{\"asctime\": \"2023-02-09 15:36:16,137\", \"name\": \"taccjm.TACCClient\", \"levelname\": \"INFO\", \"message\": \"Running command locally\", \"cmnd\": \"rsync -a /home/jovyan/work/repos/taccjm/notebooks/data/test-scratch/taccjm-ls6/trash/___home___jovyan___work___repos___taccjm___notebooks___test.json /home/jovyan/work/repos/taccjm/notebooks/test.json && rm -rf /home/jovyan/work/repos/taccjm/notebooks/data/test-scratch/taccjm-ls6/trash/___home___jovyan___work___repos___taccjm___notebooks___test.json\", \"wait\": false, \"error\": true}\n"
     ]
    },
    {
     "data": {
      "text/plain": [
       "{'id': 4,\n",
       " 'cmd': 'rsync -a /home/jovyan/work/repos/taccjm/notebooks/data/test-scratch/taccjm-ls6/trash/___home___jovyan___work___repos___taccjm___notebooks___test.json /home/jovyan/work/repos/taccjm/notebooks/test.json && rm -rf /home/jovyan/work/repos/taccjm/notebooks/data/test-scratch/taccjm-ls6/trash/___home___jovyan___work___repos___taccjm___notebooks___test.json',\n",
       " 'ts': datetime.datetime(2023, 2, 9, 15, 36, 16, 139573),\n",
       " 'status': 'STARTED',\n",
       " 'stdout': '',\n",
       " 'stderr': '',\n",
       " 'history': [],\n",
       " 'process': <Popen: returncode: None args: 'rsync -a /home/jovyan/work/repos/taccjm/note...>,\n",
       " 'rt': None}"
      ]
     },
     "execution_count": 15,
     "metadata": {},
     "output_type": "execute_result"
    }
   ],
   "source": [
    "client.rm('test.json', restore=True)"
   ]
  },
  {
   "cell_type": "code",
   "execution_count": 16,
   "id": "949ccbf6-198f-4e77-a9a2-4ba641537121",
   "metadata": {},
   "outputs": [
    {
     "data": {
      "text/plain": [
       "[{'filename': '/home/jovyan/work/repos/taccjm/notebooks/test.json',\n",
       "  'st_atime': 1675978576.145376,\n",
       "  'st_gid': 100,\n",
       "  'st_mode': 33188,\n",
       "  'st_mtime': 1675977509.267336,\n",
       "  'st_size': 14,\n",
       "  'st_uid': 1000}]"
      ]
     },
     "execution_count": 16,
     "metadata": {},
     "output_type": "execute_result"
    }
   ],
   "source": [
    "client.list_files(\"test.json\")"
   ]
  },
  {
   "cell_type": "code",
   "execution_count": 17,
   "id": "084e9682-195d-41e5-87df-f79ed4bc555a",
   "metadata": {},
   "outputs": [
    {
     "data": {
      "text/plain": [
       "'{\"test\": 1231}'"
      ]
     },
     "execution_count": 17,
     "metadata": {},
     "output_type": "execute_result"
    }
   ],
   "source": [
    "client.read('test.json')"
   ]
  },
  {
   "cell_type": "markdown",
   "id": "38c17da4-7efc-4eb4-acf2-2d684c0c18da",
   "metadata": {},
   "source": [
    "### Simulation\n",
    "\n",
    "In the Py"
   ]
  },
  {
   "cell_type": "code",
   "execution_count": 25,
   "id": "a79bfac1-9999-41dc-99f7-f39d8e09e4a3",
   "metadata": {},
   "outputs": [
    {
     "data": {
      "text/plain": [
       "'bas.txt'"
      ]
     },
     "execution_count": 25,
     "metadata": {},
     "output_type": "execute_result"
    }
   ],
   "source": [
    "import posixpath\n",
    "posixpath.basename('/foo/bar/bas.txt')"
   ]
  },
  {
   "cell_type": "code",
   "execution_count": 38,
   "id": "799bb2ad-c89e-4e7f-8611-adf2bebf291b",
   "metadata": {},
   "outputs": [
    {
     "ename": "AttributeError",
     "evalue": "'TACCSimulationManager' object has no attribute 'get_apps'",
     "output_type": "error",
     "traceback": [
      "\u001b[0;31m---------------------------------------------------------------------------\u001b[0m",
      "\u001b[0;31mAttributeError\u001b[0m                            Traceback (most recent call last)",
      "Cell \u001b[0;32mIn[38], line 1\u001b[0m\n\u001b[0;32m----> 1\u001b[0m \u001b[43mmanager\u001b[49m\u001b[38;5;241;43m.\u001b[39;49m\u001b[43mget_apps\u001b[49m()\n",
      "\u001b[0;31mAttributeError\u001b[0m: 'TACCSimulationManager' object has no attribute 'get_apps'"
     ]
    }
   ],
   "source": [
    "manager.get_apps()"
   ]
  },
  {
   "cell_type": "code",
   "execution_count": 20,
   "id": "e5f24763-2cb8-4cae-a860-01524aae0044",
   "metadata": {},
   "outputs": [
    {
     "name": "stdout",
     "output_type": "stream",
     "text": [
      "{\"asctime\": \"2023-02-09 15:51:31,709\", \"name\": \"taccjm.TACCClient\", \"levelname\": \"INFO\", \"message\": \"Running command locally\", \"cmnd\": \"conda env list\", \"wait\": true, \"error\": true}\n",
      "{\"asctime\": \"2023-02-09 15:51:31,709\", \"name\": \"taccjm.TACCClient\", \"levelname\": \"INFO\", \"message\": \"Running command locally\", \"cmnd\": \"conda env list\", \"wait\": true, \"error\": true}\n",
      "{\"asctime\": \"2023-02-09 15:51:31,713\", \"name\": \"taccjm.TACCClient\", \"levelname\": \"INFO\", \"message\": \"Getting command 7 from local command list\"}\n",
      "{\"asctime\": \"2023-02-09 15:51:31,713\", \"name\": \"taccjm.TACCClient\", \"levelname\": \"INFO\", \"message\": \"Getting command 7 from local command list\"}\n",
      "{\"asctime\": \"2023-02-09 15:51:31,715\", \"name\": \"taccjm.TACCClient\", \"levelname\": \"INFO\", \"message\": \"Waiting for command 7 to finish....\"}\n",
      "{\"asctime\": \"2023-02-09 15:51:31,715\", \"name\": \"taccjm.TACCClient\", \"levelname\": \"INFO\", \"message\": \"Waiting for command 7 to finish....\"}\n",
      "{\"asctime\": \"2023-02-09 15:51:32,502\", \"name\": \"taccjm.TACCClient\", \"levelname\": \"INFO\", \"message\": \"Command 7 done. Reading output.\"}\n",
      "{\"asctime\": \"2023-02-09 15:51:32,502\", \"name\": \"taccjm.TACCClient\", \"levelname\": \"INFO\", \"message\": \"Command 7 done. Reading output.\"}\n",
      "{\"asctime\": \"2023-02-09 15:51:32,504\", \"name\": \"taccjm.TACCClient\", \"levelname\": \"INFO\", \"message\": \"Command 7 completed!\"}\n",
      "{\"asctime\": \"2023-02-09 15:51:32,504\", \"name\": \"taccjm.TACCClient\", \"levelname\": \"INFO\", \"message\": \"Command 7 completed!\"}\n",
      "{\"asctime\": \"2023-02-09 15:51:32,506\", \"name\": \"taccjm.TACCClient\", \"levelname\": \"INFO\", \"message\": \"Processed command 7\", \"cmnd_config\": {\"id\": 7, \"cmd\": \"conda env list\", \"ts\": \"2023-02-09T15:51:32.504493\", \"status\": \"COMPLETE\", \"stdout\": \"b'# conda environments:\\\\n#\\\\nbase                     /opt/conda\\\\n\\\\n'\", \"stderr\": \"b''\", \"history\": [{\"status\": \"STARTED\", \"ts\": \"2023-02-09T15:51:31.713434\"}], \"rt\": 0, \"rc\": 0}}\n",
      "{\"asctime\": \"2023-02-09 15:51:32,506\", \"name\": \"taccjm.TACCClient\", \"levelname\": \"INFO\", \"message\": \"Processed command 7\", \"cmnd_config\": {\"id\": 7, \"cmd\": \"conda env list\", \"ts\": \"2023-02-09T15:51:32.504493\", \"status\": \"COMPLETE\", \"stdout\": \"b'# conda environments:\\\\n#\\\\nbase                     /opt/conda\\\\n\\\\n'\", \"stderr\": \"b''\", \"history\": [{\"status\": \"STARTED\", \"ts\": \"2023-02-09T15:51:31.713434\"}], \"rt\": 0, \"rc\": 0}}\n"
     ]
    },
    {
     "data": {
      "text/plain": [
       "b'# conda environments:\\n#\\nbase                     /opt/conda\\n\\n'"
      ]
     },
     "execution_count": 20,
     "metadata": {},
     "output_type": "execute_result"
    }
   ],
   "source": [
    "client.exec('conda env list')['stdout']"
   ]
  },
  {
   "cell_type": "code",
   "execution_count": null,
   "id": "0b34a1e7-f4ec-40c2-aa4c-39272beacb22",
   "metadata": {},
   "outputs": [],
   "source": []
  }
 ],
 "metadata": {
  "citation-manager": {
   "items": {}
  },
  "kernelspec": {
   "display_name": "Python 3 (ipykernel)",
   "language": "python",
   "name": "python3"
  },
  "language_info": {
   "codemirror_mode": {
    "name": "ipython",
    "version": 3
   },
   "file_extension": ".py",
   "mimetype": "text/x-python",
   "name": "python",
   "nbconvert_exporter": "python",
   "pygments_lexer": "ipython3",
   "version": "3.10.8"
  },
  "toc-autonumbering": true
 },
 "nbformat": 4,
 "nbformat_minor": 5
}
