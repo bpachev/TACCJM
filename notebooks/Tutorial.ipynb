{
 "cells": [
  {
   "cell_type": "markdown",
   "id": "2b54650b-b40f-4ff1-874e-a44e1f42780b",
   "metadata": {
    "tags": []
   },
   "source": [
    "# TACCSSHClient Class\n",
    "\n",
    "The TACCSSHClient class is used to establish connections with TACC systems, using a user's login and 2FA code.\n",
    "\n",
    "The class then provides methods for (1)basic file operations, and for (2) execution of arbitrary commands.\n",
    "We will go over these two main areas of functionality in the tutorial"
   ]
  },
  {
   "cell_type": "markdown",
   "id": "a5778dff-6662-453f-8581-44fd089a329a",
   "metadata": {},
   "source": [
    "## Initialization\n",
    "\n",
    "To initialize a `TACCSSHClient` class object, you will to pass in the system you want to connect to. Currently supported systems include:\n",
    "\n",
    "- stampede2 - [Stampede2](https://portal.tacc.utexas.edu/user-guides/stampede)\n",
    "- ls6 - [Lonestar6](https://portal.tacc.utexas.edu/user-guides/lonestar6)\n",
    "- frontera - [Frontera](https://frontera-portal.tacc.utexas.edu/user-guide/)\n",
    "- maverick2 - [Maverick2](https://portal.tacc.utexas.edu/user-guides/maverick2)\n"
   ]
  },
  {
   "cell_type": "code",
   "execution_count": 1,
   "id": "3a5dbc3b-4793-42f9-9c0d-dc48ef613514",
   "metadata": {},
   "outputs": [
    {
     "name": "stdin",
     "output_type": "stream",
     "text": [
      "Password: ········\n",
      "TACC Token Code: 247738\n"
     ]
    }
   ],
   "source": [
    "from taccjm.TACCSSHClient import TACCSSHClient\n",
    "tsc = TACCSSHClient('ls6', 'clos21')"
   ]
  },
  {
   "cell_type": "markdown",
   "id": "0c8edc01-d7dd-4317-9511-8431c0a3cfb3",
   "metadata": {},
   "source": [
    "## Command Operations"
   ]
  },
  {
   "cell_type": "markdown",
   "id": "3c66849b-5367-4efb-8c93-1be9298ccf71",
   "metadata": {},
   "source": [
    "### `execute_command()`\n",
    "\n",
    "The TACCSSHClient offers the `execute_command()` function to execute arbitrary commands as if one were in an ssh session interactively. \n",
    "The commands are executed on a separately opened channel, spawned from the original paramiko transport object used to establish the main ssh connection when the class was initialized."
   ]
  },
  {
   "cell_type": "code",
   "execution_count": 2,
   "id": "5b8f716a-92a8-4f07-979f-ec59d97c2ee0",
   "metadata": {},
   "outputs": [
    {
     "name": "stdout",
     "output_type": "stream",
     "text": [
      "Using system default configuration file \n",
      "\n",
      "SUMMARY OF JOBS FOR USER: <clos21>\n",
      "\n",
      "ACTIVE JOBS--------------------\n",
      "JOBID     JOBNAME    USERNAME      STATE   NODES REMAINING STARTTIME\n",
      "================================================================================\n",
      "\n",
      "WAITING JOBS------------------------\n",
      "JOBID     JOBNAME    USERNAME      STATE   NODES WCLIMIT   QUEUETIME\n",
      "================================================================================\n",
      "\n",
      "Total Jobs: 0     Active Jobs: 0     Idle Jobs: 0     Blocked Jobs: 0   \n",
      "\n"
     ]
    }
   ],
   "source": [
    "print(tsc.execute_command('showq -u clos21')['stdout'])"
   ]
  },
  {
   "cell_type": "markdown",
   "id": "fa0f1adf-4748-42f7-8dbd-d17c6d0edd65",
   "metadata": {},
   "source": [
    "### Command Errors\n",
    "\n",
    "If the command fails, an error will be thrown:"
   ]
  },
  {
   "cell_type": "code",
   "execution_count": 3,
   "id": "572108de-a5c0-4985-982d-223cdd1d5faf",
   "metadata": {},
   "outputs": [
    {
     "name": "stderr",
     "output_type": "stream",
     "text": [
      "{\"asctime\": \"2023-02-07 17:36:29,795\", \"name\": \"taccjm.TACCSSHClient\", \"levelname\": \"ERROR\", \"message\": \"Non-zero return code.\\nclos21@ls6.tacc.utexas.edu$ showr\\nrc     : 127\\nstdout : \\nstderr : bash: showr: command not found\\n\"}\n"
     ]
    },
    {
     "ename": "SSHCommandError",
     "evalue": "Non-zero return code.\nclos21@ls6.tacc.utexas.edu$ showr\nrc     : 127\nstdout : \nstderr : bash: showr: command not found\n",
     "output_type": "error",
     "traceback": [
      "\u001b[0;31m---------------------------------------------------------------------------\u001b[0m",
      "\u001b[0;31mSSHCommandError\u001b[0m                           Traceback (most recent call last)",
      "Cell \u001b[0;32mIn[3], line 1\u001b[0m\n\u001b[0;32m----> 1\u001b[0m \u001b[43mtsc\u001b[49m\u001b[38;5;241;43m.\u001b[39;49m\u001b[43mexecute_command\u001b[49m\u001b[43m(\u001b[49m\u001b[38;5;124;43m'\u001b[39;49m\u001b[38;5;124;43mshowr\u001b[39;49m\u001b[38;5;124;43m'\u001b[39;49m\u001b[43m)\u001b[49m[\u001b[38;5;124m'\u001b[39m\u001b[38;5;124mstderr\u001b[39m\u001b[38;5;124m'\u001b[39m]\n",
      "File \u001b[0;32m~/work/repos/taccjm/src/taccjm/TACCSSHClient.py:179\u001b[0m, in \u001b[0;36mTACCSSHClient.execute_command\u001b[0;34m(self, cmnd, wait, error)\u001b[0m\n\u001b[1;32m    176\u001b[0m \u001b[38;5;28mself\u001b[39m\u001b[38;5;241m.\u001b[39mcommands\u001b[38;5;241m.\u001b[39mappend(command_config)\n\u001b[1;32m    178\u001b[0m \u001b[38;5;28;01mif\u001b[39;00m wait:\n\u001b[0;32m--> 179\u001b[0m     \u001b[38;5;28;01mreturn\u001b[39;00m \u001b[38;5;28;43mself\u001b[39;49m\u001b[38;5;241;43m.\u001b[39;49m\u001b[43mprocess_command\u001b[49m\u001b[43m(\u001b[49m\u001b[43mcommand_id\u001b[49m\u001b[43m,\u001b[49m\u001b[43m \u001b[49m\u001b[43mwait\u001b[49m\u001b[38;5;241;43m=\u001b[39;49m\u001b[38;5;28;43;01mTrue\u001b[39;49;00m\u001b[43m,\u001b[49m\u001b[43m \u001b[49m\u001b[43merror\u001b[49m\u001b[38;5;241;43m=\u001b[39;49m\u001b[43merror\u001b[49m\u001b[43m)\u001b[49m\n\u001b[1;32m    180\u001b[0m \u001b[38;5;28;01melse\u001b[39;00m:\n\u001b[1;32m    181\u001b[0m     \u001b[38;5;28;01mreturn\u001b[39;00m command_config\n",
      "File \u001b[0;32m~/work/repos/taccjm/src/taccjm/TACCSSHClient.py:235\u001b[0m, in \u001b[0;36mTACCSSHClient.process_command\u001b[0;34m(self, command_id, nbytes, wait, error, max_nbytes)\u001b[0m\n\u001b[1;32m    233\u001b[0m         \u001b[38;5;66;03m# Update command list before erroring out\u001b[39;00m\n\u001b[1;32m    234\u001b[0m         \u001b[38;5;28mself\u001b[39m\u001b[38;5;241m.\u001b[39mcommands[command_id \u001b[38;5;241m-\u001b[39m \u001b[38;5;241m1\u001b[39m] \u001b[38;5;241m=\u001b[39m command_config\n\u001b[0;32m--> 235\u001b[0m         \u001b[38;5;28;01mraise\u001b[39;00m t\n\u001b[1;32m    236\u001b[0m \u001b[38;5;28;01melse\u001b[39;00m:\n\u001b[1;32m    237\u001b[0m     command_config[\u001b[38;5;124m\"\u001b[39m\u001b[38;5;124mstatus\u001b[39m\u001b[38;5;124m\"\u001b[39m] \u001b[38;5;241m=\u001b[39m \u001b[38;5;124m\"\u001b[39m\u001b[38;5;124mCOMPLETE\u001b[39m\u001b[38;5;124m\"\u001b[39m\n",
      "\u001b[0;31mSSHCommandError\u001b[0m: Non-zero return code.\nclos21@ls6.tacc.utexas.edu$ showr\nrc     : 127\nstdout : \nstderr : bash: showr: command not found\n"
     ]
    }
   ],
   "source": [
    "tsc.execute_command('showr')['stderr']"
   ]
  },
  {
   "cell_type": "markdown",
   "id": "501fe44b-0c6e-4d37-b2fd-e3009590bd9f",
   "metadata": {
    "tags": []
   },
   "source": [
    "As we can see, we get a good error clearly indicating:\n",
    "\n",
    "- system on which command was run (Lonestar6)\n",
    "- User running command (clos21)\n",
    "- Command being run, after the \"$\" sign, (showr)\n",
    "- The return code (127), stdout, and stderr\n",
    "\n",
    "So we can clearly see here that the command failed because `showr` is not a valid command. We probably meant `showq`"
   ]
  },
  {
   "cell_type": "markdown",
   "id": "084cae81-1a52-468e-b8df-e1a28a8fa52f",
   "metadata": {},
   "source": [
    "We can also supress the error by setting `error=False`.\n",
    "This allows use to check the error code/error message and handle it as necessary."
   ]
  },
  {
   "cell_type": "code",
   "execution_count": 4,
   "id": "4a6b018d-cb30-4ade-8676-ec32f89eab47",
   "metadata": {},
   "outputs": [
    {
     "data": {
      "text/plain": [
       "{'id': 4,\n",
       " 'cmd': 'showr',\n",
       " 'ts': datetime.datetime(2023, 2, 7, 17, 36, 31, 439860),\n",
       " 'status': 'FAILED',\n",
       " 'stdout': '',\n",
       " 'stderr': 'bash: showr: command not found\\n',\n",
       " 'history': [{'ts': datetime.datetime(2023, 2, 7, 17, 36, 30, 288107),\n",
       "   'status': 'STARTED'}],\n",
       " 'rt': 1,\n",
       " 'rc': 127}"
      ]
     },
     "execution_count": 4,
     "metadata": {},
     "output_type": "execute_result"
    }
   ],
   "source": [
    "tsc.execute_command('showr', error=False)"
   ]
  },
  {
   "cell_type": "markdown",
   "id": "95305744-a7bf-4b7a-8e61-4db137416915",
   "metadata": {},
   "source": [
    "### `process_command()` - Asynchronous commands\n",
    "\n",
    "Commands can also be run in the background, for example if performing a long copy or monitoring some job. \n",
    "This is done by set the `wait=False` parameter, and then using the `process_command()` method to check on the status of the command using the command's ID."
   ]
  },
  {
   "cell_type": "code",
   "execution_count": 5,
   "id": "1b152d6a-9f39-4cf9-8f98-cdec8ee02c5c",
   "metadata": {},
   "outputs": [
    {
     "data": {
      "text/plain": [
       "{'id': 5,\n",
       " 'cmd': 'echo START; sleep 10; echo START',\n",
       " 'ts': datetime.datetime(2023, 2, 7, 17, 36, 31, 571251),\n",
       " 'status': 'STARTED',\n",
       " 'stdout': '',\n",
       " 'stderr': '',\n",
       " 'history': [],\n",
       " 'channel': <paramiko.Channel 4 (open) window=2097152 -> <paramiko.Transport at 0x3d257790 (cipher aes128-ctr, 128 bits) (active; 1 open channel(s))>>,\n",
       " 'rt': None}"
      ]
     },
     "execution_count": 5,
     "metadata": {},
     "output_type": "execute_result"
    }
   ],
   "source": [
    "cmnd = tsc.execute_command('echo START; sleep 10; echo START', wait=False)\n",
    "cmnd"
   ]
  },
  {
   "cell_type": "code",
   "execution_count": 6,
   "id": "beee81aa-77a0-4c33-bf71-75190b1b1b72",
   "metadata": {},
   "outputs": [
    {
     "data": {
      "text/plain": [
       "{'id': 5,\n",
       " 'cmd': 'echo START; sleep 10; echo START',\n",
       " 'ts': datetime.datetime(2023, 2, 7, 17, 36, 31, 712024),\n",
       " 'status': 'RUNNING',\n",
       " 'stdout': '',\n",
       " 'stderr': '',\n",
       " 'history': [{'ts': datetime.datetime(2023, 2, 7, 17, 36, 31, 571251),\n",
       "   'status': 'STARTED'}],\n",
       " 'channel': <paramiko.Channel 4 (open) window=2097152 -> <paramiko.Transport at 0x3d257790 (cipher aes128-ctr, 128 bits) (active; 1 open channel(s))>>,\n",
       " 'rt': None}"
      ]
     },
     "execution_count": 6,
     "metadata": {},
     "output_type": "execute_result"
    }
   ],
   "source": [
    "cmnd = tsc.process_command(cmnd['id'])\n",
    "cmnd"
   ]
  },
  {
   "cell_type": "markdown",
   "id": "9bfa2e43-3cf8-415b-b4ef-7d25efcc7337",
   "metadata": {},
   "source": [
    "Note the command's history of status's is stored.\n",
    "This history is compiled as the process is polled, with duplicate status's removed.\n",
    "Finally note how the `rt` field gives us a rough runtime for the command.\n",
    "Once again if the process was run in the background, this runtime is according to how the process was polled, not necessarily how long the command took to run."
   ]
  },
  {
   "cell_type": "markdown",
   "id": "1634387e-5cac-4363-8a48-b934f2e53a9f",
   "metadata": {},
   "source": [
    "### Buffering stdout from commands\n",
    "\n",
    "You can pass an `nbytes: int=None` parameter to the `process_command()` method to read the next `nbytes` available in the stdout buffer of an actively running command:"
   ]
  },
  {
   "cell_type": "code",
   "execution_count": 7,
   "id": "13b847a0-1a26-4a58-9044-3fb445e93890",
   "metadata": {},
   "outputs": [
    {
     "name": "stdout",
     "output_type": "stream",
     "text": [
      "stdout at time 0: START\n",
      "stdout at time 5: START\n",
      "\n",
      "stdout at time 10: START\n",
      "1\n",
      "\n",
      "stdout at time 15: START\n",
      "1\n",
      "2\n",
      "\n"
     ]
    }
   ],
   "source": [
    "import time \n",
    "\n",
    "cmnd = tsc.execute_command('echo START; sleep 7; echo 1; sleep 6; echo 2', wait=False)\n",
    "\n",
    "t = 0\n",
    "while cmnd['status'] not in ['COMPLETE', 'FAILED']:\n",
    "    cmnd = tsc.process_command(cmnd['id'], wait=False, nbytes=5)\n",
    "    print(f\"stdout at time {t}: {cmnd['stdout']}\")\n",
    "    t += 5\n",
    "    time.sleep(5)"
   ]
  },
  {
   "cell_type": "markdown",
   "id": "17373137-d9bd-49e3-9f43-3778aea49792",
   "metadata": {},
   "source": [
    "Note how the output is appended to the 'stdout' field of the command config as it becomes available, and only `nbytes` are read on any given call."
   ]
  },
  {
   "cell_type": "markdown",
   "id": "27a5fbbc-0ba7-468c-9cfd-8066302d7df0",
   "metadata": {
    "tags": []
   },
   "source": [
    "## File Operations\n",
    "\n",
    "The TACCSHClient class uses its underlying ssh connection to open sftp connections and provide programmatic access to files on TACC systems.\n",
    "The following operations are offered to interact with files on TACC systems using the TACCSSHClient Class:\n",
    "\n",
    "- list_files - Get file and directory info (file stats)\n",
    "- upload - Upload a file/directory to TACC system via sftp.\n",
    "- downlaod - Download a file/directory from TACC system via sftp.\n",
    "- read - Read file contents (text or json) directly from TACC system via sftp.\n",
    "- write - Write data (string or dictioanry) directly from TACC system via sftp.\n",
    "\n",
    "Note:\n",
    "\n",
    "    1. All remote paths (paths on TACC systems) must use unix path separators '/'.\n",
    "    2. File operations currently aren't \"safe.\" \n",
    "       That is file uploads/downloads and reads/writes will overwrite contents on remote/local systems.\n",
    "    3. If absolute paths aren't specified, paths are relative to a user's $HOME diretory on TACC systems, and relative to the cwd for the local paths."
   ]
  },
  {
   "cell_type": "markdown",
   "id": "f6415c86-de28-46cd-8ee8-b34dc3ea5da2",
   "metadata": {
    "tags": []
   },
   "source": [
    "### `list_files()`\n",
    "\n",
    "The `list_files()` method provides basic file stat info, much like an `ls` command would in a shell session."
   ]
  },
  {
   "cell_type": "code",
   "execution_count": 9,
   "id": "4275a1f2-0cbb-4fed-8829-125f7df2a059",
   "metadata": {},
   "outputs": [
    {
     "data": {
      "text/plain": [
       "15"
      ]
     },
     "execution_count": 9,
     "metadata": {},
     "output_type": "execute_result"
    }
   ],
   "source": [
    "files = tsc.list_files('')\n",
    "len(files)"
   ]
  },
  {
   "cell_type": "code",
   "execution_count": 10,
   "id": "6fc0f7f2-3223-4744-a7e8-6e2034a149a1",
   "metadata": {},
   "outputs": [
    {
     "data": {
      "text/plain": [
       "{'filename': '11',\n",
       " 'st_atime': 1660905150,\n",
       " 'st_gid': 800588,\n",
       " 'st_mode': 16832,\n",
       " 'st_mtime': 1660905152,\n",
       " 'st_size': 4,\n",
       " 'st_uid': 856065,\n",
       " 'ls_str': b'drwx------   1 856065   800588          4 19 Aug 05:32 11'}"
      ]
     },
     "execution_count": 10,
     "metadata": {},
     "output_type": "execute_result"
    }
   ],
   "source": [
    "files[0]"
   ]
  },
  {
   "cell_type": "code",
   "execution_count": 11,
   "id": "08732b6e-f684-4987-b234-e3eff9b3aa81",
   "metadata": {},
   "outputs": [
    {
     "name": "stdout",
     "output_type": "stream",
     "text": [
      "drwx------   1 856065   800588          4 19 Aug 05:32 11\n",
      "drwx------   1 856065   800588          4 03 Jun 2022  taccjm\n",
      "drwx------   1 856065   800588          4 08 Sep 22:48 test-taccjm\n",
      "drwx------   1 856065   800588          1 02 Feb 12:00 ch-sim-tests\n",
      "drwx------   1 856065   800588          4 09 Sep 12:33 l2\n",
      "drwx------   1 856065   800588          4 14 Dec 2021  ls6\n",
      "drwx------   1 856065   800588          9 12 May 2022  temp\n",
      "drwx------   1 856065   800588          7 02 Dec 2020  si-base\n",
      "drwx------   1 856065   800588          4 31 Jan 16:28 ch-sim-ls6\n",
      "drwx------   1 856065   800588          4 11 Jan 2022  test\n",
      "drwx------   1 856065   800588          2 30 Jan 15:54 ch-sim\n",
      "drwx------   1 856065   800588          1 09 Sep 18:29 ios-output\n",
      "drwx------   1 856065   800588          4 19 Aug 05:48 l1\n",
      "drwx------   1 856065   800588          4 30 Sep 20:52 test_ls6\n",
      "drwx------   1 856065   800588          4 25 Aug 11:21 ls1\n"
     ]
    }
   ],
   "source": [
    "print('\\n'.join([x['ls_str'].decode('utf-8') for x in files if not x['filename'].startswith('.')]))"
   ]
  },
  {
   "cell_type": "code",
   "execution_count": 12,
   "id": "db0e0a44-d49e-48a4-8603-f08d3081f916",
   "metadata": {},
   "outputs": [
    {
     "name": "stdout",
     "output_type": "stream",
     "text": [
      "total 8\n",
      "drwx------ 2 clos21 G-800588 1 Feb  2 12:00 ch-sim-tests\n",
      "drwx------ 6 clos21 G-800588 4 Jan 31 16:28 ch-sim-ls6\n",
      "drwx------ 4 clos21 G-800588 2 Jan 30 15:54 ch-sim\n",
      "drwx------ 6 clos21 G-800588 4 Sep 30 20:52 test_ls6\n",
      "drwx------ 3 clos21 G-800588 1 Sep  9 18:29 ios-output\n",
      "drwx------ 6 clos21 G-800588 4 Sep  9 12:33 l2\n",
      "drwx------ 6 clos21 G-800588 4 Sep  8 22:48 test-taccjm\n",
      "drwx------ 6 clos21 G-800588 4 Aug 25 11:21 ls1\n",
      "drwx------ 6 clos21 G-800588 4 Aug 19 05:48 l1\n",
      "drwx------ 6 clos21 G-800588 4 Aug 19 05:32 11\n",
      "drwx------ 6 clos21 G-800588 4 Jun  3  2022 taccjm\n",
      "drwx------ 2 clos21 G-800588 9 May 12  2022 temp\n",
      "drwx------ 6 clos21 G-800588 4 Jan 11  2022 test\n",
      "drwx------ 6 clos21 G-800588 4 Dec 14  2021 ls6\n",
      "drwx------ 3 clos21 G-800588 7 Dec  2  2020 si-base\n",
      "\n"
     ]
    }
   ],
   "source": [
    "print(tsc.execute_command('ls -lt $SCRATCH')['stdout'])"
   ]
  },
  {
   "cell_type": "markdown",
   "id": "f01c28c3-f711-44cb-9090-955c791e72ae",
   "metadata": {},
   "source": [
    "### `upload()`\n",
    "\n",
    "To upload a local directory or file to TACC, use the upload method."
   ]
  },
  {
   "cell_type": "code",
   "execution_count": 38,
   "id": "4638c3a1-b2c7-4c2c-8da6-513dc9a176ba",
   "metadata": {},
   "outputs": [],
   "source": [
    "!rm -rf test; mkdir test; echo test > test/test.txt"
   ]
  },
  {
   "cell_type": "code",
   "execution_count": 39,
   "id": "d7b0a8d8-1569-4c49-abfb-7ffa4d04d1ab",
   "metadata": {},
   "outputs": [],
   "source": [
    "tsc.upload('test/test.txt', 'test.txt')"
   ]
  },
  {
   "cell_type": "code",
   "execution_count": 40,
   "id": "7f2e3f75-f6a7-40cb-9685-aca5c0a307d6",
   "metadata": {},
   "outputs": [
    {
     "data": {
      "text/plain": [
       "[{'filename': 'test.txt',\n",
       "  'st_atime': 1675808371,\n",
       "  'st_gid': 800588,\n",
       "  'st_mode': 33152,\n",
       "  'st_mtime': 1675808371,\n",
       "  'st_size': 5,\n",
       "  'st_uid': 856065,\n",
       "  'ls_str': b'-rw-------   1 856065   800588          5 07 Feb 16:19 ?'}]"
      ]
     },
     "execution_count": 40,
     "metadata": {},
     "output_type": "execute_result"
    }
   ],
   "source": [
    "tsc.list_files('test.txt')"
   ]
  },
  {
   "cell_type": "code",
   "execution_count": 43,
   "id": "b4581cbb-5dbf-44f9-9803-75e748635aa3",
   "metadata": {},
   "outputs": [],
   "source": [
    "tsc.upload('test', 'test')"
   ]
  },
  {
   "cell_type": "code",
   "execution_count": 44,
   "id": "e274f6b0-d1e5-4140-965d-56aaed84b770",
   "metadata": {},
   "outputs": [
    {
     "data": {
      "text/plain": [
       "[{'filename': 'test.txt',\n",
       "  'st_atime': 1675808477,\n",
       "  'st_gid': 800588,\n",
       "  'st_mode': 33152,\n",
       "  'st_mtime': 1675808368,\n",
       "  'st_size': 5,\n",
       "  'st_uid': 856065,\n",
       "  'ls_str': b'-rw-------   1 856065   800588          5 07 Feb 16:19 test.txt'}]"
      ]
     },
     "execution_count": 44,
     "metadata": {},
     "output_type": "execute_result"
    }
   ],
   "source": [
    "tsc.list_files('test')"
   ]
  },
  {
   "cell_type": "markdown",
   "id": "7cb0f4a2-af45-4708-a27a-bac963a029d9",
   "metadata": {},
   "source": [
    "### `download()`"
   ]
  },
  {
   "cell_type": "code",
   "execution_count": 45,
   "id": "17a13221-9618-4c90-bbd2-e397c9caa2d8",
   "metadata": {},
   "outputs": [],
   "source": [
    "tsc.download('test.txt', 'foo.txt')"
   ]
  },
  {
   "cell_type": "code",
   "execution_count": 47,
   "id": "a120806d-c806-4d35-aa97-5bd9e1ff5bed",
   "metadata": {},
   "outputs": [
    {
     "name": "stdout",
     "output_type": "stream",
     "text": [
      "test\n"
     ]
    }
   ],
   "source": [
    "!cat foo.txt"
   ]
  },
  {
   "cell_type": "code",
   "execution_count": 51,
   "id": "6c13a45a-481c-46e2-9f8e-b7c60804365f",
   "metadata": {},
   "outputs": [],
   "source": [
    "tsc.download('test', 'foo')"
   ]
  },
  {
   "cell_type": "code",
   "execution_count": 52,
   "id": "5ea2b8a7-3d42-4364-8c91-f972aa6a7145",
   "metadata": {},
   "outputs": [
    {
     "name": "stdout",
     "output_type": "stream",
     "text": [
      "test.txt\n"
     ]
    }
   ],
   "source": [
    "!ls foo/test"
   ]
  },
  {
   "cell_type": "markdown",
   "id": "4869a615-b525-4864-8170-378e8bf98486",
   "metadata": {},
   "source": [
    "### `write()`"
   ]
  },
  {
   "cell_type": "code",
   "execution_count": 54,
   "id": "aa0a84e8-5782-4011-9dc1-066d0f0bed20",
   "metadata": {},
   "outputs": [],
   "source": [
    "tsc.write('hello world!\\n', 'test2.txt')"
   ]
  },
  {
   "cell_type": "code",
   "execution_count": 55,
   "id": "b9a3f115-9bae-454b-b15f-130957d01519",
   "metadata": {},
   "outputs": [
    {
     "data": {
      "text/plain": [
       "[{'filename': 'test2.txt',\n",
       "  'st_atime': 1675808673,\n",
       "  'st_gid': 800588,\n",
       "  'st_mode': 33152,\n",
       "  'st_mtime': 1675808673,\n",
       "  'st_size': 13,\n",
       "  'st_uid': 856065,\n",
       "  'ls_str': b'-rw-------   1 856065   800588         13 07 Feb 16:24 ?'}]"
      ]
     },
     "execution_count": 55,
     "metadata": {},
     "output_type": "execute_result"
    }
   ],
   "source": [
    "tsc.list_files('test2.txt')"
   ]
  },
  {
   "cell_type": "markdown",
   "id": "ea62ffde-9cb3-4079-ba06-3d12fdb17220",
   "metadata": {},
   "source": [
    "### `read()`"
   ]
  },
  {
   "cell_type": "code",
   "execution_count": 56,
   "id": "74b3107c-c685-40aa-8f68-509857c5b800",
   "metadata": {},
   "outputs": [
    {
     "name": "stdout",
     "output_type": "stream",
     "text": [
      "hello world!\n",
      "\n"
     ]
    }
   ],
   "source": [
    "msg = tsc.read('test2.txt')\n",
    "print(msg)"
   ]
  },
  {
   "cell_type": "markdown",
   "id": "35f3f96e-35a2-4531-b454-edd947170ec0",
   "metadata": {},
   "source": [
    "# TACC SSH API - tacc_ssh_api.py\n",
    "\n",
    "The problem with managing individual TACCSSHClient classes is that they may time out after a period of inactivity, requiring you to login again.\n",
    "Instead of using the TACCSSHClient class directly, you can use the `tacc_ssh_api` to spawn a server that manages TACCSSHClient classes for you.\n",
    "These connections are kept alive (for as long as the server isn't restarted), and they can be interacted via methods in `tacc_ssh_api`.\n",
    "The main methods provided to interact with the SSH server are the following:\n",
    "\n",
    "- `list()` - List active ssh session\n",
    "- `get(connection_id: int)` - Get a session an active session\n",
    "- `init(...)` - Initialize an ssh session (by initializing a new TACCSSHClient object)\n",
    "- `exec(connection_id:int, ...)` - Run a command using `execute_command()` on a given session.\n",
    "- `process(connection_id:int, cmnd_id:int ...)` - Process a command run on a given session.\n",
    "- `list_files(connection_id:int, path:str ...)` - List files.\n",
    "- `read(connection_id:int, path:str ...)` - Read a file directly via sftp.\n",
    "- `write(connection_id:int, data, path:str)` - Write a file directly via sftp.\n",
    "- `upload(connection_id:int, local_path:str, remote_path:str)` - Upload files/folders\n",
    "- `download(connection_id:int, data, remote_path:str, local_path:Str)` - Download files/folders"
   ]
  },
  {
   "cell_type": "markdown",
   "id": "b2fccd9e-b67f-47f4-842d-6e36f9ee6aec",
   "metadata": {},
   "source": [
    "## Initializing a sessions"
   ]
  },
  {
   "cell_type": "code",
   "execution_count": 1,
   "id": "f09d9059-bb23-40d3-9606-a2e0f5bb3a2d",
   "metadata": {},
   "outputs": [],
   "source": [
    "from taccjm import tacc_ssh_api as tsa"
   ]
  },
  {
   "cell_type": "code",
   "execution_count": 2,
   "id": "22760014-158e-4060-bc2d-9c43ade1ccca",
   "metadata": {},
   "outputs": [
    {
     "data": {
      "text/plain": [
       "{'server': <Popen: returncode: None args: ['python', '/home/jovyan/work/repos/taccjm/sr...>,\n",
       " 'hb': <Popen: returncode: None args: ['python', '/home/jovyan/work/repos/taccjm/sr...>}"
      ]
     },
     "execution_count": 2,
     "metadata": {},
     "output_type": "execute_result"
    }
   ],
   "source": [
    "tsa.find_server(start=True, kill=True)"
   ]
  },
  {
   "cell_type": "code",
   "execution_count": 3,
   "id": "3e49e3ac-f403-4cf5-b47f-f2697c027b42",
   "metadata": {},
   "outputs": [
    {
     "name": "stdin",
     "output_type": "stream",
     "text": [
      "mfa:  138528\n"
     ]
    },
    {
     "data": {
      "text/plain": [
       "{'id': 'test',\n",
       " 'sys': 'ls6.tacc.utexas.edu',\n",
       " 'user': 'clos21',\n",
       " 'start': '2023-02-07T22:39:48.288785',\n",
       " 'last_ts': '2023-02-07T22:39:48.288787',\n",
       " 'loglevel': '20',\n",
       " 'logfile': '/home/jovyan/.taccjm/test_ls6_clos21_log.json'}"
      ]
     },
     "execution_count": 3,
     "metadata": {},
     "output_type": "execute_result"
    }
   ],
   "source": [
    "tsa.init('test', 'ls6', 'clos21', 'Leo#21Wanda')"
   ]
  },
  {
   "cell_type": "code",
   "execution_count": 4,
   "id": "7ef81728-485c-4460-9591-c189bc8ef8e9",
   "metadata": {},
   "outputs": [
    {
     "data": {
      "text/plain": [
       "{'id': 'test',\n",
       " 'sys': 'ls6.tacc.utexas.edu',\n",
       " 'user': 'clos21',\n",
       " 'start': '2023-02-07T22:35:07.435852',\n",
       " 'last_ts': '2023-02-07T22:35:07.435853',\n",
       " 'loglevel': '20',\n",
       " 'logfile': '/home/jovyan/.taccjm/test_ls6_clos21_log.json'}"
      ]
     },
     "execution_count": 4,
     "metadata": {},
     "output_type": "execute_result"
    }
   ],
   "source": [
    "tsa.get('test')"
   ]
  },
  {
   "cell_type": "markdown",
   "id": "3120014b-3929-403e-81ee-7300e960f0a0",
   "metadata": {
    "tags": []
   },
   "source": [
    "## Command Operations"
   ]
  },
  {
   "cell_type": "markdown",
   "id": "859bf398-fb93-4857-95d4-5d4637d7a191",
   "metadata": {},
   "source": [
    "### `exec()` - General Command Execution\n",
    "\n",
    "..."
   ]
  },
  {
   "cell_type": "code",
   "execution_count": 5,
   "id": "30cb9373-c992-4d75-87ef-424685e8d961",
   "metadata": {},
   "outputs": [],
   "source": [
    "ls_cmnd = tsa.exec('test', 'ls $SCRATCH', wait=False)"
   ]
  },
  {
   "cell_type": "markdown",
   "id": "156c3a44-ec02-4678-a32f-fb67ff637e82",
   "metadata": {},
   "source": [
    "### `process()` - Polling commands\n",
    "\n",
    "Pass a command ID to poll a specific command. \n",
    "Set `wait=False`, unless you want to wait until the command finishes.\n",
    "You can set `nbytes=int` to get the latest nbytes from the stdout buff ."
   ]
  },
  {
   "cell_type": "code",
   "execution_count": 13,
   "id": "3aa88cf0-fb03-4b87-9945-d4f07913be8c",
   "metadata": {},
   "outputs": [],
   "source": [
    "ls_cmnd = tsa.exec('test', 'sleep 10; ls $SCRATCH', wait=False)"
   ]
  },
  {
   "cell_type": "code",
   "execution_count": 14,
   "id": "9e740184-821d-431f-9fb2-404ff99d1fba",
   "metadata": {},
   "outputs": [
    {
     "data": {
      "text/plain": [
       "{'id': 10,\n",
       " 'cmd': 'sleep 10; ls $SCRATCH',\n",
       " 'ts': '2023-02-07T18:22:49.523330',\n",
       " 'status': 'RUNNING',\n",
       " 'stdout': '',\n",
       " 'stderr': '',\n",
       " 'history': [{'ts': '2023-02-07T18:22:48.983625', 'status': 'STARTED'}],\n",
       " 'rt': None}"
      ]
     },
     "execution_count": 14,
     "metadata": {},
     "output_type": "execute_result"
    }
   ],
   "source": [
    "tsa.process('test', ls_cmnd['id'], wait=False)"
   ]
  },
  {
   "cell_type": "markdown",
   "id": "dbb5c81f-33d9-47f5-9461-53cac1887881",
   "metadata": {},
   "source": [
    "### Processing all Active commands\n"
   ]
  },
  {
   "cell_type": "code",
   "execution_count": 5,
   "id": "1a5766d2-4902-40be-90a3-32fe92cfcfda",
   "metadata": {},
   "outputs": [],
   "source": [
    "cmnd_1 = tsa.exec('test', 'sleep 10; ls $SCRATCH', wait=False)\n",
    "cmnd_2 = tsa.exec('test', 'sleep 20; ls $SCRATCH', wait=False)\n",
    "cmnd_3 = tsa.exec('test', 'sleep 30; ls $SCRATCH', wait=False)"
   ]
  },
  {
   "cell_type": "code",
   "execution_count": 14,
   "id": "ecda11fd-0ec4-4c4e-ab5b-e3dfc8895cae",
   "metadata": {},
   "outputs": [
    {
     "data": {
      "text/plain": [
       "[{'id': 3,\n",
       "  'cmd': 'sleep 20; ls $SCRATCH',\n",
       "  'ts': '2023-02-07T18:28:00.670353',\n",
       "  'status': 'RUNNING',\n",
       "  'stdout': '',\n",
       "  'stderr': '',\n",
       "  'history': [{'ts': '2023-02-07T18:27:43.070502', 'status': 'STARTED'}],\n",
       "  'rt': None},\n",
       " {'id': 4,\n",
       "  'cmd': 'sleep 30; ls $SCRATCH',\n",
       "  'ts': '2023-02-07T18:28:00.670360',\n",
       "  'status': 'RUNNING',\n",
       "  'stdout': '',\n",
       "  'stderr': '',\n",
       "  'history': [{'ts': '2023-02-07T18:27:43.146205', 'status': 'STARTED'}],\n",
       "  'rt': None}]"
      ]
     },
     "execution_count": 14,
     "metadata": {},
     "output_type": "execute_result"
    }
   ],
   "source": [
    "tsa.process('test')"
   ]
  },
  {
   "cell_type": "markdown",
   "id": "e5ccc375-ee0f-4f3f-9f21-9d03f140b4dd",
   "metadata": {},
   "source": [
    "## File Operations"
   ]
  },
  {
   "cell_type": "markdown",
   "id": "143a5fef-291f-43a7-bb31-7676b2cb7150",
   "metadata": {
    "tags": []
   },
   "source": [
    "### `list_files()`\n",
    "\n",
    "The `list_files()` method provides basic file stat info, much like an `ls` command would in a shell session."
   ]
  },
  {
   "cell_type": "code",
   "execution_count": 21,
   "id": "ba21aef1-0464-486a-a19f-2ed969a2e883",
   "metadata": {},
   "outputs": [
    {
     "data": {
      "text/plain": [
       "[{'filename': 'trash',\n",
       "  'st_atime': 1641927888,\n",
       "  'st_gid': 800588,\n",
       "  'st_mode': 16832,\n",
       "  'st_mtime': 1662657040,\n",
       "  'st_size': 4,\n",
       "  'st_uid': 856065,\n",
       "  'ls_str': 'drwx------   1 856065   800588          4 08 Sep 12:10 trash'},\n",
       " {'filename': 'scripts',\n",
       "  'st_atime': 1641927887,\n",
       "  'st_gid': 800588,\n",
       "  'st_mode': 16832,\n",
       "  'st_mtime': 1661545891,\n",
       "  'st_size': 1,\n",
       "  'st_uid': 856065,\n",
       "  'ls_str': 'drwx------   1 856065   800588          1 26 Aug 15:31 scripts'},\n",
       " {'filename': 'jobs',\n",
       "  'st_atime': 1641927886,\n",
       "  'st_gid': 800588,\n",
       "  'st_mode': 16832,\n",
       "  'st_mtime': 1641927886,\n",
       "  'st_size': 0,\n",
       "  'st_uid': 856065,\n",
       "  'ls_str': 'drwx------   1 856065   800588          0 11 Jan 2022  jobs'},\n",
       " {'filename': 'apps',\n",
       "  'st_atime': 1641927887,\n",
       "  'st_gid': 800588,\n",
       "  'st_mode': 16832,\n",
       "  'st_mtime': 1661789712,\n",
       "  'st_size': 3,\n",
       "  'st_uid': 856065,\n",
       "  'ls_str': 'drwx------   1 856065   800588          3 29 Aug 11:15 apps'}]"
      ]
     },
     "execution_count": 21,
     "metadata": {},
     "output_type": "execute_result"
    }
   ],
   "source": [
    "files = tsa.list_files('test', 'test')\n",
    "files"
   ]
  },
  {
   "cell_type": "code",
   "execution_count": 6,
   "id": "1bb1f282-30ae-4e54-a665-742f6652aff9",
   "metadata": {},
   "outputs": [
    {
     "name": "stdout",
     "output_type": "stream",
     "text": [
      "drwx------   1 856065   800588          4 19 Aug 05:32 11\n",
      "drwx------   1 856065   800588          4 03 Jun 2022  taccjm\n",
      "drwx------   1 856065   800588          4 08 Sep 22:48 test-taccjm\n",
      "drwx------   1 856065   800588          1 02 Feb 12:00 ch-sim-tests\n",
      "drwx------   1 856065   800588          4 09 Sep 12:33 l2\n",
      "drwx------   1 856065   800588          4 14 Dec 2021  ls6\n",
      "drwx------   1 856065   800588          9 12 May 2022  temp\n",
      "drwx------   1 856065   800588          7 02 Dec 2020  si-base\n",
      "drwx------   1 856065   800588          4 31 Jan 16:28 ch-sim-ls6\n",
      "drwx------   1 856065   800588          4 11 Jan 2022  test\n",
      "drwx------   1 856065   800588          2 30 Jan 15:54 ch-sim\n",
      "drwx------   1 856065   800588          1 09 Sep 18:29 ios-output\n",
      "drwx------   1 856065   800588          4 19 Aug 05:48 l1\n",
      "drwx------   1 856065   800588          4 30 Sep 20:52 test_ls6\n",
      "drwx------   1 856065   800588          4 25 Aug 11:21 ls1\n"
     ]
    }
   ],
   "source": [
    "print('\\n'.join([x['ls_str'] for x in files if not x['filename'].startswith('.')]))"
   ]
  },
  {
   "cell_type": "code",
   "execution_count": 10,
   "id": "dcf5ae2d-38c6-4c7f-a0fb-209eb9fe4325",
   "metadata": {},
   "outputs": [
    {
     "name": "stdout",
     "output_type": "stream",
     "text": [
      "total 8\n",
      "drwx------ 2 clos21 G-800588 1 Feb  2 12:00 ch-sim-tests\n",
      "drwx------ 6 clos21 G-800588 4 Jan 31 16:28 ch-sim-ls6\n",
      "drwx------ 4 clos21 G-800588 2 Jan 30 15:54 ch-sim\n",
      "drwx------ 6 clos21 G-800588 4 Sep 30 20:52 test_ls6\n",
      "drwx------ 3 clos21 G-800588 1 Sep  9 18:29 ios-output\n",
      "drwx------ 6 clos21 G-800588 4 Sep  9 12:33 l2\n",
      "drwx------ 6 clos21 G-800588 4 Sep  8 22:48 test-taccjm\n",
      "drwx------ 6 clos21 G-800588 4 Aug 25 11:21 ls1\n",
      "drwx------ 6 clos21 G-800588 4 Aug 19 05:48 l1\n",
      "drwx------ 6 clos21 G-800588 4 Aug 19 05:32 11\n",
      "drwx------ 6 clos21 G-800588 4 Jun  3  2022 taccjm\n",
      "drwx------ 2 clos21 G-800588 9 May 12  2022 temp\n",
      "drwx------ 6 clos21 G-800588 4 Jan 11  2022 test\n",
      "drwx------ 6 clos21 G-800588 4 Dec 14  2021 ls6\n",
      "drwx------ 3 clos21 G-800588 7 Dec  2  2020 si-base\n",
      "\n"
     ]
    }
   ],
   "source": [
    "print(tsa.exec('test', 'ls -lt $SCRATCH')['stdout'])"
   ]
  },
  {
   "cell_type": "markdown",
   "id": "d835d1b6-b8d4-4c4f-87d2-2445bf4a630b",
   "metadata": {
    "tags": []
   },
   "source": [
    "### `write()` and `read()`\n",
    "\n",
    "Use to write directly to a file on TACC systems."
   ]
  },
  {
   "cell_type": "markdown",
   "id": "846268d9-7706-4b83-a4cb-4f7c7c708499",
   "metadata": {},
   "source": [
    "#### Text Data"
   ]
  },
  {
   "cell_type": "code",
   "execution_count": 4,
   "id": "ee9cd38c-9d5c-4bf2-af66-259c96bc31d0",
   "metadata": {},
   "outputs": [],
   "source": [
    "tsa.write('test', 'hello world!', 'hello.txt')"
   ]
  },
  {
   "cell_type": "code",
   "execution_count": 5,
   "id": "9282e181-1cb1-45bf-998f-0ab9d2702ed6",
   "metadata": {},
   "outputs": [
    {
     "data": {
      "text/plain": [
       "{'path': 'hello.txt', 'data_type': 'text', 'data': 'hello world!'}"
      ]
     },
     "execution_count": 5,
     "metadata": {},
     "output_type": "execute_result"
    }
   ],
   "source": [
    "tsa.read('test', 'hello.txt')"
   ]
  },
  {
   "cell_type": "markdown",
   "id": "88cfd5e0-fc20-4909-9a33-895c31e3b517",
   "metadata": {},
   "source": [
    "#### json Data"
   ]
  },
  {
   "cell_type": "code",
   "execution_count": 7,
   "id": "f244bc22-33f6-443a-9fb1-93a9d326d871",
   "metadata": {},
   "outputs": [],
   "source": [
    "tsa.write('test', {'msg':'hello world!', 'id': 12312}, 'hello.json')"
   ]
  },
  {
   "cell_type": "code",
   "execution_count": 8,
   "id": "c54d9218-f964-4659-961a-3225bacb79d0",
   "metadata": {},
   "outputs": [
    {
     "data": {
      "text/plain": [
       "{'path': 'hello.json',\n",
       " 'data_type': 'json',\n",
       " 'data': {'msg': 'hello world!', 'id': 12312}}"
      ]
     },
     "execution_count": 8,
     "metadata": {},
     "output_type": "execute_result"
    }
   ],
   "source": [
    "tsa.read('test', 'hello.json')"
   ]
  },
  {
   "cell_type": "markdown",
   "id": "3f395195-e6f1-469b-b907-3cc1f6bb1acb",
   "metadata": {},
   "source": [
    "### `upload()` and `download()`\n",
    "\n",
    "To upload a local directory or file to TACC, use the upload method."
   ]
  },
  {
   "cell_type": "code",
   "execution_count": 6,
   "id": "498563d0-c6dc-4096-8a3b-f669fe20452c",
   "metadata": {
    "tags": []
   },
   "outputs": [],
   "source": [
    "!rm -rf test-upload; mkdir test-upload; echo test > test-upload/test.txt"
   ]
  },
  {
   "cell_type": "markdown",
   "id": "a3b31cdc-f73b-4c95-9631-8ed9721a84b3",
   "metadata": {},
   "source": [
    "#### Files"
   ]
  },
  {
   "cell_type": "code",
   "execution_count": 5,
   "id": "afbde34b-8925-42bf-ada2-081f85bb1d78",
   "metadata": {
    "tags": []
   },
   "outputs": [],
   "source": [
    "tsa.upload('test', 'test-upload/test.txt', 'upload_test.txt')"
   ]
  },
  {
   "cell_type": "code",
   "execution_count": 6,
   "id": "00d13aa0-c502-4527-91d2-b2671f9b7674",
   "metadata": {},
   "outputs": [
    {
     "data": {
      "text/plain": [
       "[{'filename': '/scratch/06307/clos21/upload_test.txt',\n",
       "  'st_atime': 1675830682,\n",
       "  'st_gid': 800588,\n",
       "  'st_mode': 33152,\n",
       "  'st_mtime': 1675830682,\n",
       "  'st_size': 5,\n",
       "  'st_uid': 856065,\n",
       "  'ls_str': '-rw-------   1 856065   800588          5 07 Feb 22:31 ?'}]"
      ]
     },
     "execution_count": 6,
     "metadata": {},
     "output_type": "execute_result"
    }
   ],
   "source": [
    "tsa.list_files('test', 'upload_test.txt')"
   ]
  },
  {
   "cell_type": "code",
   "execution_count": 7,
   "id": "49fd91b4-4d95-4da1-a882-d9c6994e2d68",
   "metadata": {},
   "outputs": [
    {
     "data": {
      "text/plain": [
       "'test-upload/download_test.txt'"
      ]
     },
     "execution_count": 7,
     "metadata": {},
     "output_type": "execute_result"
    }
   ],
   "source": [
    "tsa.download('test', 'upload_test.txt', 'test-upload/download_test.txt')"
   ]
  },
  {
   "cell_type": "code",
   "execution_count": 8,
   "id": "99979c4e-fd5d-4c52-b5b2-400de2d89f0b",
   "metadata": {},
   "outputs": [
    {
     "name": "stdout",
     "output_type": "stream",
     "text": [
      "test\n"
     ]
    }
   ],
   "source": [
    "!cat test-upload/download_test.txt"
   ]
  },
  {
   "cell_type": "markdown",
   "id": "45047a95-d9e1-460a-9cd4-0a2917c8f749",
   "metadata": {},
   "source": [
    "#### Directories"
   ]
  },
  {
   "cell_type": "code",
   "execution_count": 5,
   "id": "1efe81e1-62b0-4c1b-83a3-3cbc718fb66e",
   "metadata": {},
   "outputs": [],
   "source": [
    "!echo 'another test' > test-upload/test2.txt"
   ]
  },
  {
   "cell_type": "code",
   "execution_count": 4,
   "id": "4fe6130f-9536-40bf-9412-b919b5caba32",
   "metadata": {},
   "outputs": [],
   "source": [
    "tsa.upload('test', 'test-upload', 'test-upload')"
   ]
  },
  {
   "cell_type": "code",
   "execution_count": 5,
   "id": "004b6481-5606-4f9f-81e6-079fee19518f",
   "metadata": {},
   "outputs": [
    {
     "data": {
      "text/plain": [
       "[{'filename': 'download_test.txt',\n",
       "  'st_atime': 1675831198,\n",
       "  'st_gid': 800588,\n",
       "  'st_mode': 33152,\n",
       "  'st_mtime': 1675830687,\n",
       "  'st_size': 5,\n",
       "  'st_uid': 856065,\n",
       "  'ls_str': '-rw-------   1 856065   800588          5 07 Feb 22:31 download_test.txt'},\n",
       " {'filename': 'test2.txt',\n",
       "  'st_atime': 1675831199,\n",
       "  'st_gid': 800588,\n",
       "  'st_mode': 33152,\n",
       "  'st_mtime': 1675830915,\n",
       "  'st_size': 13,\n",
       "  'st_uid': 856065,\n",
       "  'ls_str': '-rw-------   1 856065   800588         13 07 Feb 22:35 test2.txt'},\n",
       " {'filename': 'test.txt',\n",
       "  'st_atime': 1675831199,\n",
       "  'st_gid': 800588,\n",
       "  'st_mode': 33152,\n",
       "  'st_mtime': 1675830340,\n",
       "  'st_size': 5,\n",
       "  'st_uid': 856065,\n",
       "  'ls_str': '-rw-------   1 856065   800588          5 07 Feb 22:25 test.txt'}]"
      ]
     },
     "execution_count": 5,
     "metadata": {},
     "output_type": "execute_result"
    }
   ],
   "source": [
    "tsa.list_files('test', 'test-upload')"
   ]
  },
  {
   "cell_type": "code",
   "execution_count": 6,
   "id": "78878cc0-7bd4-41f0-b4ae-c2c83e2c2ee8",
   "metadata": {},
   "outputs": [
    {
     "data": {
      "text/plain": [
       "'test-download'"
      ]
     },
     "execution_count": 6,
     "metadata": {},
     "output_type": "execute_result"
    }
   ],
   "source": [
    "tsa.download('test', 'test-upload', 'test-download')"
   ]
  },
  {
   "cell_type": "code",
   "execution_count": 8,
   "id": "81c15ba0-7a4b-41b5-ac46-9b761094fb79",
   "metadata": {},
   "outputs": [
    {
     "name": "stdout",
     "output_type": "stream",
     "text": [
      "test-download:\n",
      "test-upload\n",
      "\n",
      "test-download/test-upload:\n",
      "download_test.txt  test2.txt  test.txt\n"
     ]
    }
   ],
   "source": [
    "!ls -R test-download"
   ]
  }
 ],
 "metadata": {
  "citation-manager": {
   "items": {}
  },
  "kernelspec": {
   "display_name": "taccjm",
   "language": "python",
   "name": "taccjm"
  },
  "language_info": {
   "codemirror_mode": {
    "name": "ipython",
    "version": 3
   },
   "file_extension": ".py",
   "mimetype": "text/x-python",
   "name": "python",
   "nbconvert_exporter": "python",
   "pygments_lexer": "ipython3",
   "version": "3.11.0"
  },
  "toc-autonumbering": true
 },
 "nbformat": 4,
 "nbformat_minor": 5
}
