{
 "cells": [
  {
   "cell_type": "markdown",
   "id": "2fdc9eb2-f218-4e18-a273-9193bd539fe6",
   "metadata": {},
   "source": [
    "# TACC Ensemble Simulation"
   ]
  },
  {
   "cell_type": "code",
   "execution_count": 14,
   "id": "f0ad41bf-acbe-42d8-8d9f-37749ba36bc6",
   "metadata": {
    "tags": []
   },
   "outputs": [],
   "source": [
    "import logging\n",
    "import os\n",
    "from pathlib import Path\n",
    "\n",
    "from taccjm import EnsembleTACCSimulation"
   ]
  },
  {
   "cell_type": "code",
   "execution_count": 15,
   "id": "04aabc6d-5438-45ec-8535-608aff1b1ef6",
   "metadata": {
    "tags": []
   },
   "outputs": [
    {
     "data": {
      "text/plain": [
       "({'cores': 1,\n",
       "  'workdir': 'runs/run_0',\n",
       "  'pre': 'mkdir another-dir',\n",
       "  'cdir': 'another-dir',\n",
       "  'cmnd': 'touch foo_0.txt; sleep 0; echo DONE > foo_0.txt',\n",
       "  'post': 'cp another-dir/foo_0.txt ../../outputs/foo_0.txt'},\n",
       " {'cores': 1,\n",
       "  'workdir': 'runs/run_9',\n",
       "  'pre': 'mkdir another-dir',\n",
       "  'cdir': 'another-dir',\n",
       "  'cmnd': 'touch foo_9.txt; sleep 9; echo DONE > foo_9.txt',\n",
       "  'post': 'cp another-dir/foo_9.txt ../../outputs/foo_9.txt'})"
      ]
     },
     "execution_count": 15,
     "metadata": {},
     "output_type": "execute_result"
    }
   ],
   "source": [
    "tasks = [\n",
    "    {\n",
    "        \"cores\": 1,\n",
    "        \"workdir\": f\"runs/run_{n}\",\n",
    "        \"pre\": f\"mkdir another-dir\",\n",
    "        \"cdir\": f\"another-dir\",\n",
    "        \"cmnd\": f\"touch foo_{n}.txt; sleep {n}; echo DONE > foo_{n}.txt\",\n",
    "        \"post\": f\"cp another-dir/foo_{n}.txt ../../outputs/foo_{n}.txt\",\n",
    "    }\n",
    "    for n in range(10)\n",
    "]\n",
    "tasks[0], tasks[-1]"
   ]
  },
  {
   "cell_type": "code",
   "execution_count": 16,
   "id": "5a084f74-bf2f-45d4-b528-efb6807c583c",
   "metadata": {
    "tags": []
   },
   "outputs": [
    {
     "name": "stdout",
     "output_type": "stream",
     "text": [
      "{\"asctime\": \"2023-04-18 16:45:44,865\", \"name\": \"taccjm.client.TACCClient\", \"levelname\": \"INFO\", \"message\": \"Not running on TACC. Starting SSH session.\"}\n",
      "{\"asctime\": \"2023-04-18 16:45:44,866\", \"name\": \"taccjm.client.TACCClient\", \"levelname\": \"INFO\", \"message\": \"Looking for ssh_connection taccjm-ls6\"}\n",
      "{\"asctime\": \"2023-04-18 16:45:44,871\", \"name\": \"taccjm.client.TACCClient\", \"levelname\": \"INFO\", \"message\": \"Found ssh session taccjm-ls6\", \"id\": \"taccjm-ls6\", \"sys\": \"ls6.tacc.utexas.edu\", \"user\": \"clos21\", \"start\": \"2023-03-29T11:46:14.064258\", \"last_ts\": \"2023-04-18T16:41:42.558934\", \"home_dir\": \"/home1/06307/clos21\", \"work_dir\": \"/work/06307/clos21/ls6\", \"scratch_dir\": \"/scratch/06307/clos21\"}\n",
      "{\"asctime\": \"2023-04-18 16:45:46,820\", \"name\": \"taccjm.client.TACCClient\", \"levelname\": \"INFO\", \"message\": \"Processed command 51\", \"cmnd_config\": {\"id\": 51, \"key\": \"SYSTEM\", \"cmd\": \"mkdir -p /work/06307/clos21/ls6/taccjm-ls6/apps /work/06307/clos21/ls6/taccjm-ls6/scripts /scratch/06307/clos21/taccjm-ls6/jobs /scratch/06307/clos21/taccjm-ls6/trash\", \"ts\": \"2023-04-18T16:45:46.811433\", \"status\": \"COMPLETE\", \"stdout\": \"\", \"stderr\": \"\", \"history\": [{\"ts\": \"2023-04-18T16:45:44.938086\", \"status\": \"STARTED\"}], \"rt\": 1.0, \"rc\": 0, \"fail\": true}}\n"
     ]
    }
   ],
   "source": [
    "sim = EnsembleTACCSimulation(\n",
    "    system=\"ls6\", name=\"test\", log_config={\"level\": logging.INFO}\n",
    ")"
   ]
  },
  {
   "cell_type": "code",
   "execution_count": 17,
   "id": "fe7c6346-0c83-49cd-bf5d-3ff0489402d7",
   "metadata": {
    "tags": []
   },
   "outputs": [
    {
     "name": "stdout",
     "output_type": "stream",
     "text": [
      "{\"asctime\": \"2023-04-18 16:45:51,440\", \"name\": \"taccjm.client.TACCClient\", \"levelname\": \"INFO\", \"message\": \"Processed command 52\", \"cmnd_config\": {\"id\": 52, \"key\": \"SYSTEM\", \"cmd\": \"mamba --help\", \"ts\": \"2023-04-18T16:45:51.437027\", \"status\": \"COMPLETE\", \"stdout\": \"usage: mamba [-h] [-V] command ...\\n\\nconda is a tool for managing and deploying applications, environments and packages.\\n\\nOptions:\\n\\npositional arguments:\\n  command\\n    clean        Remove unused packag\", \"stderr\": \"\", \"history\": [{\"ts\": \"2023-04-18T16:45:48.728451\", \"status\": \"STARTED\"}], \"rt\": 2.0, \"rc\": 0, \"fail\": true}}\n",
      "{\"asctime\": \"2023-04-18 16:45:53,911\", \"name\": \"taccjm.client.TACCClient\", \"levelname\": \"INFO\", \"message\": \"Processed command 54\", \"cmnd_config\": {\"id\": 54, \"key\": \"SYSTEM\", \"cmd\": \"mamba env list\", \"ts\": \"2023-04-18T16:45:53.902879\", \"status\": \"COMPLETE\", \"stdout\": \"# conda environments:\\n#\\nbase                  *  /work/06307/clos21/ls6/mambaforge\\nch-sim                   /work/06307/clos21/ls6/mambaforge/envs/ch-sim\\ndev                      /work/06307/clos21/ls\", \"stderr\": \"\", \"history\": [{\"ts\": \"2023-04-18T16:45:51.540648\", \"status\": \"STARTED\"}], \"rt\": 2.0, \"rc\": 0, \"fail\": true}}\n",
      "{\"asctime\": \"2023-04-18 16:45:53,914\", \"name\": \"taccjm.client.TACCClient\", \"levelname\": \"INFO\", \"message\": \"Getting/Installing taccjm\", \"pm\": \"mamba\", \"env\": \"taccjm\", \"conda\": [], \"pip\": []}\n",
      "{\"asctime\": \"2023-04-18 16:45:56,421\", \"name\": \"taccjm.client.TACCClient\", \"levelname\": \"INFO\", \"message\": \"Processed command 55\", \"cmnd_config\": {\"id\": 55, \"key\": \"SYSTEM\", \"cmd\": \"mamba env list\", \"ts\": \"2023-04-18T16:45:56.413840\", \"status\": \"COMPLETE\", \"stdout\": \"# conda environments:\\n#\\nbase                  *  /work/06307/clos21/ls6/mambaforge\\nch-sim                   /work/06307/clos21/ls6/mambaforge/envs/ch-sim\\ndev                      /work/06307/clos21/ls\", \"stderr\": \"\", \"history\": [{\"ts\": \"2023-04-18T16:45:54.044858\", \"status\": \"STARTED\"}], \"rt\": 2.0, \"rc\": 0, \"fail\": true}}\n",
      "{\"asctime\": \"2023-04-18 16:45:56,424\", \"name\": \"taccjm.client.TACCClient\", \"levelname\": \"INFO\", \"message\": \"Installing conda packages\"}\n"
     ]
    },
    {
     "data": {
      "text/html": [
       "<pre style=\"white-space:pre;overflow-x:auto;line-height:normal;font-family:Menlo,'DejaVu Sans Mono',consolas,'Courier New',monospace\"><span style=\"color: #000080; text-decoration-color: #000080\">╭────────────────────────────────────── </span><span style=\"color: #000080; text-decoration-color: #000080; font-weight: bold\">&lt;</span><span style=\"color: #ff00ff; text-decoration-color: #ff00ff; font-weight: bold\">class</span><span style=\"color: #000000; text-decoration-color: #000000\"> </span><span style=\"color: #008000; text-decoration-color: #008000\">'requests.models.Response'</span><span style=\"color: #000080; text-decoration-color: #000080; font-weight: bold\">&gt;</span><span style=\"color: #000080; text-decoration-color: #000080\"> ───────────────────────────────────────╮</span>\n",
       "<span style=\"color: #000080; text-decoration-color: #000080\">│</span> <span style=\"color: #008080; text-decoration-color: #008080\">The :class:`Response </span><span style=\"color: #008080; text-decoration-color: #008080; font-weight: bold\">&lt;</span><span style=\"color: #ff00ff; text-decoration-color: #ff00ff; font-weight: bold\">Response</span><span style=\"color: #008080; text-decoration-color: #008080; font-weight: bold\">&gt;</span><span style=\"color: #008080; text-decoration-color: #008080\">` object, which contains a</span>                                                       <span style=\"color: #000080; text-decoration-color: #000080\">│</span>\n",
       "<span style=\"color: #000080; text-decoration-color: #000080\">│</span> <span style=\"color: #008080; text-decoration-color: #008080\">server's response to an HTTP request.</span>                                                                           <span style=\"color: #000080; text-decoration-color: #000080\">│</span>\n",
       "<span style=\"color: #000080; text-decoration-color: #000080\">│</span>                                                                                                                 <span style=\"color: #000080; text-decoration-color: #000080\">│</span>\n",
       "<span style=\"color: #000080; text-decoration-color: #000080\">│</span> <span style=\"color: #008000; text-decoration-color: #008000\">╭─────────────────────────────────────────────────────────────────────────────────────────────────────────────╮</span> <span style=\"color: #000080; text-decoration-color: #000080\">│</span>\n",
       "<span style=\"color: #000080; text-decoration-color: #000080\">│</span> <span style=\"color: #008000; text-decoration-color: #008000\">│</span> <span style=\"font-weight: bold\">&lt;</span><span style=\"color: #ff00ff; text-decoration-color: #ff00ff; font-weight: bold\">Response</span><span style=\"color: #000000; text-decoration-color: #000000\"> </span><span style=\"color: #000000; text-decoration-color: #000000; font-weight: bold\">[</span><span style=\"color: #008080; text-decoration-color: #008080; font-weight: bold\">500</span><span style=\"color: #000000; text-decoration-color: #000000; font-weight: bold\">]</span><span style=\"font-weight: bold\">&gt;</span>                                                                                            <span style=\"color: #008000; text-decoration-color: #008000\">│</span> <span style=\"color: #000080; text-decoration-color: #000080\">│</span>\n",
       "<span style=\"color: #000080; text-decoration-color: #000080\">│</span> <span style=\"color: #008000; text-decoration-color: #008000\">╰─────────────────────────────────────────────────────────────────────────────────────────────────────────────╯</span> <span style=\"color: #000080; text-decoration-color: #000080\">│</span>\n",
       "<span style=\"color: #000080; text-decoration-color: #000080\">│</span>                                                                                                                 <span style=\"color: #000080; text-decoration-color: #000080\">│</span>\n",
       "<span style=\"color: #000080; text-decoration-color: #000080\">│</span>     <span style=\"color: #808000; text-decoration-color: #808000; font-style: italic\">apparent_encoding</span> = <span style=\"color: #008000; text-decoration-color: #008000\">'ascii'</span>                                                                                 <span style=\"color: #000080; text-decoration-color: #000080\">│</span>\n",
       "<span style=\"color: #000080; text-decoration-color: #000080\">│</span>            <span style=\"color: #808000; text-decoration-color: #808000; font-style: italic\">connection</span> = <span style=\"font-weight: bold\">&lt;</span><span style=\"color: #ff00ff; text-decoration-color: #ff00ff; font-weight: bold\">requests.adapters.HTTPAdapter</span><span style=\"color: #000000; text-decoration-color: #000000\"> object at </span><span style=\"color: #008080; text-decoration-color: #008080; font-weight: bold\">0x7fdeaf40cb50</span><span style=\"font-weight: bold\">&gt;</span>                                <span style=\"color: #000080; text-decoration-color: #000080\">│</span>\n",
       "<span style=\"color: #000080; text-decoration-color: #000080\">│</span>               <span style=\"color: #808000; text-decoration-color: #808000; font-style: italic\">content</span> = <span style=\"color: #008000; text-decoration-color: #008000\">b'Internal Server Error'</span>                                                                <span style=\"color: #000080; text-decoration-color: #000080\">│</span>\n",
       "<span style=\"color: #000080; text-decoration-color: #000080\">│</span>               <span style=\"color: #808000; text-decoration-color: #808000; font-style: italic\">cookies</span> = <span style=\"font-weight: bold\">&lt;</span><span style=\"color: #ff00ff; text-decoration-color: #ff00ff; font-weight: bold\">RequestsCookieJar</span><span style=\"color: #000000; text-decoration-color: #000000; font-weight: bold\">[]</span><span style=\"font-weight: bold\">&gt;</span>                                                                   <span style=\"color: #000080; text-decoration-color: #000080\">│</span>\n",
       "<span style=\"color: #000080; text-decoration-color: #000080\">│</span>               <span style=\"color: #808000; text-decoration-color: #808000; font-style: italic\">elapsed</span> = <span style=\"color: #800080; text-decoration-color: #800080; font-weight: bold\">datetime.timedelta</span><span style=\"font-weight: bold\">(</span><span style=\"color: #808000; text-decoration-color: #808000\">seconds</span>=<span style=\"color: #008080; text-decoration-color: #008080; font-weight: bold\">2</span>, <span style=\"color: #808000; text-decoration-color: #808000\">microseconds</span>=<span style=\"color: #008080; text-decoration-color: #008080; font-weight: bold\">212621</span><span style=\"font-weight: bold\">)</span>                                      <span style=\"color: #000080; text-decoration-color: #000080\">│</span>\n",
       "<span style=\"color: #000080; text-decoration-color: #000080\">│</span>              <span style=\"color: #808000; text-decoration-color: #808000; font-style: italic\">encoding</span> = <span style=\"color: #008000; text-decoration-color: #008000\">'utf-8'</span>                                                                                 <span style=\"color: #000080; text-decoration-color: #000080\">│</span>\n",
       "<span style=\"color: #000080; text-decoration-color: #000080\">│</span>               <span style=\"color: #808000; text-decoration-color: #808000; font-style: italic\">headers</span> = <span style=\"font-weight: bold\">{</span><span style=\"color: #008000; text-decoration-color: #008000\">'date'</span>: <span style=\"color: #008000; text-decoration-color: #008000\">'Tue, 18 Apr 2023 21:45:55 GMT'</span>, <span style=\"color: #008000; text-decoration-color: #008000\">'server'</span>: <span style=\"color: #008000; text-decoration-color: #008000\">'uvicorn'</span>, <span style=\"color: #008000; text-decoration-color: #008000\">'content-length'</span>: <span style=\"color: #008000; text-decoration-color: #008000\">'21'</span>,  <span style=\"color: #000080; text-decoration-color: #000080\">│</span>\n",
       "<span style=\"color: #000080; text-decoration-color: #000080\">│</span>                         <span style=\"color: #008000; text-decoration-color: #008000\">'content-type'</span>: <span style=\"color: #008000; text-decoration-color: #008000\">'text/plain; charset=utf-8'</span><span style=\"font-weight: bold\">}</span>                                            <span style=\"color: #000080; text-decoration-color: #000080\">│</span>\n",
       "<span style=\"color: #000080; text-decoration-color: #000080\">│</span>               <span style=\"color: #808000; text-decoration-color: #808000; font-style: italic\">history</span> = <span style=\"font-weight: bold\">[]</span>                                                                                      <span style=\"color: #000080; text-decoration-color: #000080\">│</span>\n",
       "<span style=\"color: #000080; text-decoration-color: #000080\">│</span> <span style=\"color: #808000; text-decoration-color: #808000; font-style: italic\">is_permanent_redirect</span> = <span style=\"color: #ff0000; text-decoration-color: #ff0000; font-style: italic\">False</span>                                                                                   <span style=\"color: #000080; text-decoration-color: #000080\">│</span>\n",
       "<span style=\"color: #000080; text-decoration-color: #000080\">│</span>           <span style=\"color: #808000; text-decoration-color: #808000; font-style: italic\">is_redirect</span> = <span style=\"color: #ff0000; text-decoration-color: #ff0000; font-style: italic\">False</span>                                                                                   <span style=\"color: #000080; text-decoration-color: #000080\">│</span>\n",
       "<span style=\"color: #000080; text-decoration-color: #000080\">│</span>                 <span style=\"color: #808000; text-decoration-color: #808000; font-style: italic\">links</span> = <span style=\"font-weight: bold\">{}</span>                                                                                      <span style=\"color: #000080; text-decoration-color: #000080\">│</span>\n",
       "<span style=\"color: #000080; text-decoration-color: #000080\">│</span>                  <span style=\"color: #808000; text-decoration-color: #808000; font-style: italic\">next</span> = <span style=\"color: #800080; text-decoration-color: #800080; font-style: italic\">None</span>                                                                                    <span style=\"color: #000080; text-decoration-color: #000080\">│</span>\n",
       "<span style=\"color: #000080; text-decoration-color: #000080\">│</span>                    <span style=\"color: #808000; text-decoration-color: #808000; font-style: italic\">ok</span> = <span style=\"color: #ff0000; text-decoration-color: #ff0000; font-style: italic\">False</span>                                                                                   <span style=\"color: #000080; text-decoration-color: #000080\">│</span>\n",
       "<span style=\"color: #000080; text-decoration-color: #000080\">│</span>                   <span style=\"color: #808000; text-decoration-color: #808000; font-style: italic\">raw</span> = <span style=\"font-weight: bold\">&lt;</span><span style=\"color: #ff00ff; text-decoration-color: #ff00ff; font-weight: bold\">urllib3.response.HTTPResponse</span><span style=\"color: #000000; text-decoration-color: #000000\"> object at </span><span style=\"color: #008080; text-decoration-color: #008080; font-weight: bold\">0x7fdf08adc910</span><span style=\"font-weight: bold\">&gt;</span>                                <span style=\"color: #000080; text-decoration-color: #000080\">│</span>\n",
       "<span style=\"color: #000080; text-decoration-color: #000080\">│</span>                <span style=\"color: #808000; text-decoration-color: #808000; font-style: italic\">reason</span> = <span style=\"color: #008000; text-decoration-color: #008000\">'Internal Server Error'</span>                                                                 <span style=\"color: #000080; text-decoration-color: #000080\">│</span>\n",
       "<span style=\"color: #000080; text-decoration-color: #000080\">│</span>               <span style=\"color: #808000; text-decoration-color: #808000; font-style: italic\">request</span> = <span style=\"font-weight: bold\">&lt;</span><span style=\"color: #ff00ff; text-decoration-color: #ff00ff; font-weight: bold\">PreparedRequest</span><span style=\"color: #000000; text-decoration-color: #000000\"> </span><span style=\"color: #000000; text-decoration-color: #000000; font-weight: bold\">[</span><span style=\"color: #000000; text-decoration-color: #000000\">POST</span><span style=\"color: #000000; text-decoration-color: #000000; font-weight: bold\">]</span><span style=\"font-weight: bold\">&gt;</span>                                                                <span style=\"color: #000080; text-decoration-color: #000080\">│</span>\n",
       "<span style=\"color: #000080; text-decoration-color: #000080\">│</span>           <span style=\"color: #808000; text-decoration-color: #808000; font-style: italic\">status_code</span> = <span style=\"color: #008080; text-decoration-color: #008080; font-weight: bold\">500</span>                                                                                     <span style=\"color: #000080; text-decoration-color: #000080\">│</span>\n",
       "<span style=\"color: #000080; text-decoration-color: #000080\">│</span>                  <span style=\"color: #808000; text-decoration-color: #808000; font-style: italic\">text</span> = <span style=\"color: #008000; text-decoration-color: #008000\">'Internal Server Error'</span>                                                                 <span style=\"color: #000080; text-decoration-color: #000080\">│</span>\n",
       "<span style=\"color: #000080; text-decoration-color: #000080\">│</span>                   <span style=\"color: #808000; text-decoration-color: #808000; font-style: italic\">url</span> = <span style=\"color: #008000; text-decoration-color: #008000\">'http://0.0.0.0:8225/taccjm-ls6/exec'</span>                                                   <span style=\"color: #000080; text-decoration-color: #000080\">│</span>\n",
       "<span style=\"color: #000080; text-decoration-color: #000080\">╰─────────────────────────────────────────────────────────────────────────────────────────────────────────────────╯</span>\n",
       "</pre>\n"
      ],
      "text/plain": [
       "\u001b[34m╭─\u001b[0m\u001b[34m─────────────────────────────────────\u001b[0m\u001b[34m \u001b[0m\u001b[1;34m<\u001b[0m\u001b[1;95mclass\u001b[0m\u001b[39m \u001b[0m\u001b[32m'requests.models.Response'\u001b[0m\u001b[1;34m>\u001b[0m\u001b[34m \u001b[0m\u001b[34m──────────────────────────────────────\u001b[0m\u001b[34m─╮\u001b[0m\n",
       "\u001b[34m│\u001b[0m \u001b[36mThe :class:`Response \u001b[0m\u001b[1;36m<\u001b[0m\u001b[1;95mResponse\u001b[0m\u001b[1;36m>\u001b[0m\u001b[36m` object, which contains a\u001b[0m                                                       \u001b[34m│\u001b[0m\n",
       "\u001b[34m│\u001b[0m \u001b[36mserver's response to an HTTP request.\u001b[0m                                                                           \u001b[34m│\u001b[0m\n",
       "\u001b[34m│\u001b[0m                                                                                                                 \u001b[34m│\u001b[0m\n",
       "\u001b[34m│\u001b[0m \u001b[32m╭─────────────────────────────────────────────────────────────────────────────────────────────────────────────╮\u001b[0m \u001b[34m│\u001b[0m\n",
       "\u001b[34m│\u001b[0m \u001b[32m│\u001b[0m \u001b[1m<\u001b[0m\u001b[1;95mResponse\u001b[0m\u001b[39m \u001b[0m\u001b[1;39m[\u001b[0m\u001b[1;36m500\u001b[0m\u001b[1;39m]\u001b[0m\u001b[1m>\u001b[0m                                                                                            \u001b[32m│\u001b[0m \u001b[34m│\u001b[0m\n",
       "\u001b[34m│\u001b[0m \u001b[32m╰─────────────────────────────────────────────────────────────────────────────────────────────────────────────╯\u001b[0m \u001b[34m│\u001b[0m\n",
       "\u001b[34m│\u001b[0m                                                                                                                 \u001b[34m│\u001b[0m\n",
       "\u001b[34m│\u001b[0m     \u001b[3;33mapparent_encoding\u001b[0m = \u001b[32m'ascii'\u001b[0m                                                                                 \u001b[34m│\u001b[0m\n",
       "\u001b[34m│\u001b[0m            \u001b[3;33mconnection\u001b[0m = \u001b[1m<\u001b[0m\u001b[1;95mrequests.adapters.HTTPAdapter\u001b[0m\u001b[39m object at \u001b[0m\u001b[1;36m0x7fdeaf40cb50\u001b[0m\u001b[1m>\u001b[0m                                \u001b[34m│\u001b[0m\n",
       "\u001b[34m│\u001b[0m               \u001b[3;33mcontent\u001b[0m = \u001b[32mb'Internal Server Error'\u001b[0m                                                                \u001b[34m│\u001b[0m\n",
       "\u001b[34m│\u001b[0m               \u001b[3;33mcookies\u001b[0m = \u001b[1m<\u001b[0m\u001b[1;95mRequestsCookieJar\u001b[0m\u001b[1;39m[\u001b[0m\u001b[1;39m]\u001b[0m\u001b[1m>\u001b[0m                                                                   \u001b[34m│\u001b[0m\n",
       "\u001b[34m│\u001b[0m               \u001b[3;33melapsed\u001b[0m = \u001b[1;35mdatetime.timedelta\u001b[0m\u001b[1m(\u001b[0m\u001b[33mseconds\u001b[0m=\u001b[1;36m2\u001b[0m, \u001b[33mmicroseconds\u001b[0m=\u001b[1;36m212621\u001b[0m\u001b[1m)\u001b[0m                                      \u001b[34m│\u001b[0m\n",
       "\u001b[34m│\u001b[0m              \u001b[3;33mencoding\u001b[0m = \u001b[32m'utf-8'\u001b[0m                                                                                 \u001b[34m│\u001b[0m\n",
       "\u001b[34m│\u001b[0m               \u001b[3;33mheaders\u001b[0m = \u001b[1m{\u001b[0m\u001b[32m'date'\u001b[0m: \u001b[32m'Tue, 18 Apr 2023 21:45:55 GMT'\u001b[0m, \u001b[32m'server'\u001b[0m: \u001b[32m'uvicorn'\u001b[0m, \u001b[32m'content-length'\u001b[0m: \u001b[32m'21'\u001b[0m,  \u001b[34m│\u001b[0m\n",
       "\u001b[34m│\u001b[0m                         \u001b[32m'content-type'\u001b[0m: \u001b[32m'text/plain; \u001b[0m\u001b[32mcharset\u001b[0m\u001b[32m=\u001b[0m\u001b[32mutf\u001b[0m\u001b[32m-8'\u001b[0m\u001b[1m}\u001b[0m                                            \u001b[34m│\u001b[0m\n",
       "\u001b[34m│\u001b[0m               \u001b[3;33mhistory\u001b[0m = \u001b[1m[\u001b[0m\u001b[1m]\u001b[0m                                                                                      \u001b[34m│\u001b[0m\n",
       "\u001b[34m│\u001b[0m \u001b[3;33mis_permanent_redirect\u001b[0m = \u001b[3;91mFalse\u001b[0m                                                                                   \u001b[34m│\u001b[0m\n",
       "\u001b[34m│\u001b[0m           \u001b[3;33mis_redirect\u001b[0m = \u001b[3;91mFalse\u001b[0m                                                                                   \u001b[34m│\u001b[0m\n",
       "\u001b[34m│\u001b[0m                 \u001b[3;33mlinks\u001b[0m = \u001b[1m{\u001b[0m\u001b[1m}\u001b[0m                                                                                      \u001b[34m│\u001b[0m\n",
       "\u001b[34m│\u001b[0m                  \u001b[3;33mnext\u001b[0m = \u001b[3;35mNone\u001b[0m                                                                                    \u001b[34m│\u001b[0m\n",
       "\u001b[34m│\u001b[0m                    \u001b[3;33mok\u001b[0m = \u001b[3;91mFalse\u001b[0m                                                                                   \u001b[34m│\u001b[0m\n",
       "\u001b[34m│\u001b[0m                   \u001b[3;33mraw\u001b[0m = \u001b[1m<\u001b[0m\u001b[1;95murllib3.response.HTTPResponse\u001b[0m\u001b[39m object at \u001b[0m\u001b[1;36m0x7fdf08adc910\u001b[0m\u001b[1m>\u001b[0m                                \u001b[34m│\u001b[0m\n",
       "\u001b[34m│\u001b[0m                \u001b[3;33mreason\u001b[0m = \u001b[32m'Internal Server Error'\u001b[0m                                                                 \u001b[34m│\u001b[0m\n",
       "\u001b[34m│\u001b[0m               \u001b[3;33mrequest\u001b[0m = \u001b[1m<\u001b[0m\u001b[1;95mPreparedRequest\u001b[0m\u001b[39m \u001b[0m\u001b[1;39m[\u001b[0m\u001b[39mPOST\u001b[0m\u001b[1;39m]\u001b[0m\u001b[1m>\u001b[0m                                                                \u001b[34m│\u001b[0m\n",
       "\u001b[34m│\u001b[0m           \u001b[3;33mstatus_code\u001b[0m = \u001b[1;36m500\u001b[0m                                                                                     \u001b[34m│\u001b[0m\n",
       "\u001b[34m│\u001b[0m                  \u001b[3;33mtext\u001b[0m = \u001b[32m'Internal Server Error'\u001b[0m                                                                 \u001b[34m│\u001b[0m\n",
       "\u001b[34m│\u001b[0m                   \u001b[3;33murl\u001b[0m = \u001b[32m'http://0.0.0.0:8225/taccjm-ls6/exec'\u001b[0m                                                   \u001b[34m│\u001b[0m\n",
       "\u001b[34m╰─────────────────────────────────────────────────────────────────────────────────────────────────────────────────╯\u001b[0m\n"
      ]
     },
     "metadata": {},
     "output_type": "display_data"
    },
    {
     "data": {
      "text/html": [
       "<pre style=\"white-space:pre;overflow-x:auto;line-height:normal;font-family:Menlo,'DejaVu Sans Mono',consolas,'Courier New',monospace\"><span style=\"color: #800000; text-decoration-color: #800000\">╭─────────────────────────────── </span><span style=\"color: #800000; text-decoration-color: #800000; font-weight: bold\">Traceback </span><span style=\"color: #bf7f7f; text-decoration-color: #bf7f7f; font-weight: bold\">(most recent call last)</span><span style=\"color: #800000; text-decoration-color: #800000\"> ────────────────────────────────╮</span>\n",
       "<span style=\"color: #800000; text-decoration-color: #800000\">│</span> in <span style=\"color: #00ff00; text-decoration-color: #00ff00\">&lt;module&gt;</span>:<span style=\"color: #0000ff; text-decoration-color: #0000ff\">2</span>                                                                                    <span style=\"color: #800000; text-decoration-color: #800000\">│</span>\n",
       "<span style=\"color: #800000; text-decoration-color: #800000\">│</span>                                                                                                  <span style=\"color: #800000; text-decoration-color: #800000\">│</span>\n",
       "<span style=\"color: #800000; text-decoration-color: #800000\">│</span>   <span style=\"color: #7f7f7f; text-decoration-color: #7f7f7f\"> 1 </span>slurm_config = {<span style=\"color: #808000; text-decoration-color: #808000\">\"node_cound\"</span>: <span style=\"color: #0000ff; text-decoration-color: #0000ff\">1</span>, <span style=\"color: #808000; text-decoration-color: #808000\">\"processors_per_node\"</span>: <span style=\"color: #0000ff; text-decoration-color: #0000ff\">5</span>}                                  <span style=\"color: #800000; text-decoration-color: #800000\">│</span>\n",
       "<span style=\"color: #800000; text-decoration-color: #800000\">│</span> <span style=\"color: #800000; text-decoration-color: #800000\">❱ </span> 2 job_config = sim.run(                                                                       <span style=\"color: #800000; text-decoration-color: #800000\">│</span>\n",
       "<span style=\"color: #800000; text-decoration-color: #800000\">│</span>   <span style=\"color: #7f7f7f; text-decoration-color: #7f7f7f\"> 3 │   </span>args={<span style=\"color: #808000; text-decoration-color: #808000\">\"tasks\"</span>: tasks},                                                                  <span style=\"color: #800000; text-decoration-color: #800000\">│</span>\n",
       "<span style=\"color: #800000; text-decoration-color: #800000\">│</span>   <span style=\"color: #7f7f7f; text-decoration-color: #7f7f7f\"> 4 │   </span>slurm_config=slurm_config,                                                              <span style=\"color: #800000; text-decoration-color: #800000\">│</span>\n",
       "<span style=\"color: #800000; text-decoration-color: #800000\">│</span>   <span style=\"color: #7f7f7f; text-decoration-color: #7f7f7f\"> 5 │   </span>stage=<span style=\"color: #0000ff; text-decoration-color: #0000ff\">True</span>,                                                                             <span style=\"color: #800000; text-decoration-color: #800000\">│</span>\n",
       "<span style=\"color: #800000; text-decoration-color: #800000\">│</span>                                                                                                  <span style=\"color: #800000; text-decoration-color: #800000\">│</span>\n",
       "<span style=\"color: #800000; text-decoration-color: #800000\">│</span> <span style=\"color: #bfbf7f; text-decoration-color: #bfbf7f\">/home/jovyan/work/repos/taccjm_ds/src/taccjm/sim/</span><span style=\"color: #808000; text-decoration-color: #808000; font-weight: bold\">TACCSimulation.py</span>:<span style=\"color: #0000ff; text-decoration-color: #0000ff\">399</span> in <span style=\"color: #00ff00; text-decoration-color: #00ff00\">run</span>                    <span style=\"color: #800000; text-decoration-color: #800000\">│</span>\n",
       "<span style=\"color: #800000; text-decoration-color: #800000\">│</span>                                                                                                  <span style=\"color: #800000; text-decoration-color: #800000\">│</span>\n",
       "<span style=\"color: #800000; text-decoration-color: #800000\">│</span>   <span style=\"color: #7f7f7f; text-decoration-color: #7f7f7f\">396 │   │   </span>job_dir = os.getenv(<span style=\"color: #808000; text-decoration-color: #808000\">\"SLURM_SUBMIT_DIR\"</span>)                                            <span style=\"color: #800000; text-decoration-color: #800000\">│</span>\n",
       "<span style=\"color: #800000; text-decoration-color: #800000\">│</span>   <span style=\"color: #7f7f7f; text-decoration-color: #7f7f7f\">397 │   │   </span><span style=\"color: #0000ff; text-decoration-color: #0000ff\">if</span> job_dir <span style=\"color: #ff00ff; text-decoration-color: #ff00ff\">is</span> <span style=\"color: #0000ff; text-decoration-color: #0000ff\">None</span>:                                                                <span style=\"color: #800000; text-decoration-color: #800000\">│</span>\n",
       "<span style=\"color: #800000; text-decoration-color: #800000\">│</span>   <span style=\"color: #7f7f7f; text-decoration-color: #7f7f7f\">398 │   │   │   </span>logger.info(<span style=\"color: #808000; text-decoration-color: #808000\">\"Not in execution environment. Setting up job...\"</span>)                 <span style=\"color: #800000; text-decoration-color: #800000\">│</span>\n",
       "<span style=\"color: #800000; text-decoration-color: #800000\">│</span> <span style=\"color: #800000; text-decoration-color: #800000\">❱ </span>399 <span style=\"color: #7f7f7f; text-decoration-color: #7f7f7f\">│   │   │   </span>job_config = <span style=\"color: #00ffff; text-decoration-color: #00ffff\">self</span>.setup(                                                       <span style=\"color: #800000; text-decoration-color: #800000\">│</span>\n",
       "<span style=\"color: #800000; text-decoration-color: #800000\">│</span>   <span style=\"color: #7f7f7f; text-decoration-color: #7f7f7f\">400 │   │   │   │   </span>args=args,                                                                 <span style=\"color: #800000; text-decoration-color: #800000\">│</span>\n",
       "<span style=\"color: #800000; text-decoration-color: #800000\">│</span>   <span style=\"color: #7f7f7f; text-decoration-color: #7f7f7f\">401 │   │   │   │   </span>slurm_config=slurm_config,                                                 <span style=\"color: #800000; text-decoration-color: #800000\">│</span>\n",
       "<span style=\"color: #800000; text-decoration-color: #800000\">│</span>   <span style=\"color: #7f7f7f; text-decoration-color: #7f7f7f\">402 │   │   │   │   </span>stage=stage,                                                               <span style=\"color: #800000; text-decoration-color: #800000\">│</span>\n",
       "<span style=\"color: #800000; text-decoration-color: #800000\">│</span>                                                                                                  <span style=\"color: #800000; text-decoration-color: #800000\">│</span>\n",
       "<span style=\"color: #800000; text-decoration-color: #800000\">│</span> <span style=\"color: #bfbf7f; text-decoration-color: #bfbf7f\">/home/jovyan/work/repos/taccjm_ds/src/taccjm/sim/</span><span style=\"color: #808000; text-decoration-color: #808000; font-weight: bold\">TACCSimulation.py</span>:<span style=\"color: #0000ff; text-decoration-color: #0000ff\">219</span> in <span style=\"color: #00ff00; text-decoration-color: #00ff00\">setup</span>                  <span style=\"color: #800000; text-decoration-color: #800000\">│</span>\n",
       "<span style=\"color: #800000; text-decoration-color: #800000\">│</span>                                                                                                  <span style=\"color: #800000; text-decoration-color: #800000\">│</span>\n",
       "<span style=\"color: #800000; text-decoration-color: #800000\">│</span>   <span style=\"color: #7f7f7f; text-decoration-color: #7f7f7f\">216 │   │   </span><span style=\"color: #0000ff; text-decoration-color: #0000ff\">if</span> <span style=\"color: #ff00ff; text-decoration-color: #ff00ff\">not</span> <span style=\"color: #00ffff; text-decoration-color: #00ffff\">any</span>(envs[<span style=\"color: #808000; text-decoration-color: #808000\">\"name\"</span>] == <span style=\"color: #00ffff; text-decoration-color: #00ffff\">self</span>.ENV_CONFIG[<span style=\"color: #808000; text-decoration-color: #808000\">\"conda_env\"</span>]):                          <span style=\"color: #800000; text-decoration-color: #800000\">│</span>\n",
       "<span style=\"color: #800000; text-decoration-color: #800000\">│</span>   <span style=\"color: #7f7f7f; text-decoration-color: #7f7f7f\">217 │   │   │   </span>python_setup = <span style=\"color: #0000ff; text-decoration-color: #0000ff\">True</span>                                                            <span style=\"color: #800000; text-decoration-color: #800000\">│</span>\n",
       "<span style=\"color: #800000; text-decoration-color: #800000\">│</span>   <span style=\"color: #7f7f7f; text-decoration-color: #7f7f7f\">218 │   │   </span><span style=\"color: #0000ff; text-decoration-color: #0000ff\">if</span> python_setup:                                                                   <span style=\"color: #800000; text-decoration-color: #800000\">│</span>\n",
       "<span style=\"color: #800000; text-decoration-color: #800000\">│</span> <span style=\"color: #800000; text-decoration-color: #800000\">❱ </span>219 <span style=\"color: #7f7f7f; text-decoration-color: #7f7f7f\">│   │   │   </span><span style=\"color: #00ffff; text-decoration-color: #00ffff\">self</span>.client.python_env = <span style=\"color: #00ffff; text-decoration-color: #00ffff\">self</span>.client.get_install_env(                          <span style=\"color: #800000; text-decoration-color: #800000\">│</span>\n",
       "<span style=\"color: #800000; text-decoration-color: #800000\">│</span>   <span style=\"color: #7f7f7f; text-decoration-color: #7f7f7f\">220 │   │   │   │   </span><span style=\"color: #00ffff; text-decoration-color: #00ffff\">self</span>.ENV_CONFIG[<span style=\"color: #808000; text-decoration-color: #808000\">\"conda_env\"</span>],                                              <span style=\"color: #800000; text-decoration-color: #800000\">│</span>\n",
       "<span style=\"color: #800000; text-decoration-color: #800000\">│</span>   <span style=\"color: #7f7f7f; text-decoration-color: #7f7f7f\">221 │   │   │   │   </span>conda=<span style=\"color: #00ffff; text-decoration-color: #00ffff\">self</span>.ENV_CONFIG[<span style=\"color: #808000; text-decoration-color: #808000\">\"conda_packages\"</span>],                                   <span style=\"color: #800000; text-decoration-color: #800000\">│</span>\n",
       "<span style=\"color: #800000; text-decoration-color: #800000\">│</span>   <span style=\"color: #7f7f7f; text-decoration-color: #7f7f7f\">222 │   │   │   │   </span>pip=<span style=\"color: #00ffff; text-decoration-color: #00ffff\">self</span>.ENV_CONFIG[<span style=\"color: #808000; text-decoration-color: #808000\">\"pip_packages\"</span>],                                       <span style=\"color: #800000; text-decoration-color: #800000\">│</span>\n",
       "<span style=\"color: #800000; text-decoration-color: #800000\">│</span>                                                                                                  <span style=\"color: #800000; text-decoration-color: #800000\">│</span>\n",
       "<span style=\"color: #800000; text-decoration-color: #800000\">│</span> <span style=\"color: #bfbf7f; text-decoration-color: #bfbf7f\">/home/jovyan/work/repos/taccjm_ds/src/taccjm/client/</span><span style=\"color: #808000; text-decoration-color: #808000; font-weight: bold\">TACCClient.py</span>:<span style=\"color: #0000ff; text-decoration-color: #0000ff\">965</span> in <span style=\"color: #00ff00; text-decoration-color: #00ff00\">get_install_env</span>         <span style=\"color: #800000; text-decoration-color: #800000\">│</span>\n",
       "<span style=\"color: #800000; text-decoration-color: #800000\">│</span>                                                                                                  <span style=\"color: #800000; text-decoration-color: #800000\">│</span>\n",
       "<span style=\"color: #800000; text-decoration-color: #800000\">│</span>   <span style=\"color: #7f7f7f; text-decoration-color: #7f7f7f\"> 962 │   │   </span>                                                                                  <span style=\"color: #800000; text-decoration-color: #800000\">│</span>\n",
       "<span style=\"color: #800000; text-decoration-color: #800000\">│</span>   <span style=\"color: #7f7f7f; text-decoration-color: #7f7f7f\"> 963 │   │   </span><span style=\"color: #0000ff; text-decoration-color: #0000ff\">if</span> conda <span style=\"color: #ff00ff; text-decoration-color: #ff00ff\">is</span> <span style=\"color: #ff00ff; text-decoration-color: #ff00ff\">not</span> <span style=\"color: #0000ff; text-decoration-color: #0000ff\">None</span>:                                                             <span style=\"color: #800000; text-decoration-color: #800000\">│</span>\n",
       "<span style=\"color: #800000; text-decoration-color: #800000\">│</span>   <span style=\"color: #7f7f7f; text-decoration-color: #7f7f7f\"> 964 │   │   │   </span><span style=\"color: #00ffff; text-decoration-color: #00ffff\">self</span>.log.info(<span style=\"color: #808000; text-decoration-color: #808000\">\"Installing conda packages\"</span>)                                    <span style=\"color: #800000; text-decoration-color: #800000\">│</span>\n",
       "<span style=\"color: #800000; text-decoration-color: #800000\">│</span> <span style=\"color: #800000; text-decoration-color: #800000\">❱ </span> 965 <span style=\"color: #7f7f7f; text-decoration-color: #7f7f7f\">│   │   │   </span><span style=\"color: #00ffff; text-decoration-color: #00ffff\">self</span>.exec(<span style=\"color: #808000; text-decoration-color: #808000\">f\"{</span><span style=\"color: #00ffff; text-decoration-color: #00ffff\">self</span>.pm<span style=\"color: #808000; text-decoration-color: #808000\">} install -n {</span>env<span style=\"color: #808000; text-decoration-color: #808000\">} -y {</span>conda<span style=\"color: #808000; text-decoration-color: #808000\">}\"</span>)                           <span style=\"color: #800000; text-decoration-color: #800000\">│</span>\n",
       "<span style=\"color: #800000; text-decoration-color: #800000\">│</span>   <span style=\"color: #7f7f7f; text-decoration-color: #7f7f7f\"> 966 │   │   </span>                                                                                  <span style=\"color: #800000; text-decoration-color: #800000\">│</span>\n",
       "<span style=\"color: #800000; text-decoration-color: #800000\">│</span>   <span style=\"color: #7f7f7f; text-decoration-color: #7f7f7f\"> 967 │   │   </span><span style=\"color: #0000ff; text-decoration-color: #0000ff\">if</span> pip <span style=\"color: #ff00ff; text-decoration-color: #ff00ff\">is</span> <span style=\"color: #ff00ff; text-decoration-color: #ff00ff\">not</span> <span style=\"color: #0000ff; text-decoration-color: #0000ff\">None</span>:                                                               <span style=\"color: #800000; text-decoration-color: #800000\">│</span>\n",
       "<span style=\"color: #800000; text-decoration-color: #800000\">│</span>   <span style=\"color: #7f7f7f; text-decoration-color: #7f7f7f\"> 968 │   │   │   </span>envs = <span style=\"color: #00ffff; text-decoration-color: #00ffff\">self</span>.get_python_env()                                                  <span style=\"color: #800000; text-decoration-color: #800000\">│</span>\n",
       "<span style=\"color: #800000; text-decoration-color: #800000\">│</span>                                                                                                  <span style=\"color: #800000; text-decoration-color: #800000\">│</span>\n",
       "<span style=\"color: #800000; text-decoration-color: #800000\">│</span> <span style=\"color: #bfbf7f; text-decoration-color: #bfbf7f\">/home/jovyan/work/repos/taccjm_ds/src/taccjm/client/</span><span style=\"color: #808000; text-decoration-color: #808000; font-weight: bold\">TACCClient.py</span>:<span style=\"color: #0000ff; text-decoration-color: #0000ff\">337</span> in <span style=\"color: #00ff00; text-decoration-color: #00ff00\">exec</span>                    <span style=\"color: #800000; text-decoration-color: #800000\">│</span>\n",
       "<span style=\"color: #800000; text-decoration-color: #800000\">│</span>                                                                                                  <span style=\"color: #800000; text-decoration-color: #800000\">│</span>\n",
       "<span style=\"color: #800000; text-decoration-color: #800000\">│</span>   <span style=\"color: #7f7f7f; text-decoration-color: #7f7f7f\"> 334 │   │   │   </span>}                                                                             <span style=\"color: #800000; text-decoration-color: #800000\">│</span>\n",
       "<span style=\"color: #800000; text-decoration-color: #800000\">│</span>   <span style=\"color: #7f7f7f; text-decoration-color: #7f7f7f\"> 335 │   │   │   </span><span style=\"color: #00ffff; text-decoration-color: #00ffff\">self</span>.local_commands[<span style=\"color: #00ffff; text-decoration-color: #00ffff\">str</span>(cmnd_config[<span style=\"color: #808000; text-decoration-color: #808000\">\"id\"</span>])] = cmnd_config                     <span style=\"color: #800000; text-decoration-color: #800000\">│</span>\n",
       "<span style=\"color: #800000; text-decoration-color: #800000\">│</span>   <span style=\"color: #7f7f7f; text-decoration-color: #7f7f7f\"> 336 │   │   </span><span style=\"color: #0000ff; text-decoration-color: #0000ff\">else</span>:                                                                             <span style=\"color: #800000; text-decoration-color: #800000\">│</span>\n",
       "<span style=\"color: #800000; text-decoration-color: #800000\">│</span> <span style=\"color: #800000; text-decoration-color: #800000\">❱ </span> 337 <span style=\"color: #7f7f7f; text-decoration-color: #7f7f7f\">│   │   │   </span>cmnd_config = tsa.exec(<span style=\"color: #00ffff; text-decoration-color: #00ffff\">self</span>.id, cmnd, wait=wait,                              <span style=\"color: #800000; text-decoration-color: #800000\">│</span>\n",
       "<span style=\"color: #800000; text-decoration-color: #800000\">│</span>   <span style=\"color: #7f7f7f; text-decoration-color: #7f7f7f\"> 338 │   │   │   │   │   │   │   │      </span>key=key, fail=fail)                                    <span style=\"color: #800000; text-decoration-color: #800000\">│</span>\n",
       "<span style=\"color: #800000; text-decoration-color: #800000\">│</span>   <span style=\"color: #7f7f7f; text-decoration-color: #7f7f7f\"> 339 │   │   │   </span><span style=\"color: #00ffff; text-decoration-color: #00ffff\">self</span>.remote_commands[<span style=\"color: #00ffff; text-decoration-color: #00ffff\">str</span>(cmnd_config[<span style=\"color: #808000; text-decoration-color: #808000\">\"id\"</span>])] = cmnd_config                    <span style=\"color: #800000; text-decoration-color: #800000\">│</span>\n",
       "<span style=\"color: #800000; text-decoration-color: #800000\">│</span>   <span style=\"color: #7f7f7f; text-decoration-color: #7f7f7f\"> 340 </span>                                                                                          <span style=\"color: #800000; text-decoration-color: #800000\">│</span>\n",
       "<span style=\"color: #800000; text-decoration-color: #800000\">│</span>                                                                                                  <span style=\"color: #800000; text-decoration-color: #800000\">│</span>\n",
       "<span style=\"color: #800000; text-decoration-color: #800000\">│</span> <span style=\"color: #bfbf7f; text-decoration-color: #bfbf7f\">/home/jovyan/work/repos/taccjm_ds/src/taccjm/client/</span><span style=\"color: #808000; text-decoration-color: #808000; font-weight: bold\">tacc_ssh_api.py</span>:<span style=\"color: #0000ff; text-decoration-color: #0000ff\">441</span> in <span style=\"color: #00ff00; text-decoration-color: #00ff00\">exec</span>                  <span style=\"color: #800000; text-decoration-color: #800000\">│</span>\n",
       "<span style=\"color: #800000; text-decoration-color: #800000\">│</span>                                                                                                  <span style=\"color: #800000; text-decoration-color: #800000\">│</span>\n",
       "<span style=\"color: #800000; text-decoration-color: #800000\">│</span>   <span style=\"color: #7f7f7f; text-decoration-color: #7f7f7f\">438 │   </span><span style=\"color: #0000ff; text-decoration-color: #0000ff\">except</span> TACCJMError <span style=\"color: #0000ff; text-decoration-color: #0000ff\">as</span> e:                                                               <span style=\"color: #800000; text-decoration-color: #800000\">│</span>\n",
       "<span style=\"color: #800000; text-decoration-color: #800000\">│</span>   <span style=\"color: #7f7f7f; text-decoration-color: #7f7f7f\">439 │   │   </span>e.message = <span style=\"color: #808000; text-decoration-color: #808000\">f\"Error executing command {</span>cmnd<span style=\"color: #808000; text-decoration-color: #808000\">}\"</span>                                      <span style=\"color: #800000; text-decoration-color: #800000\">│</span>\n",
       "<span style=\"color: #800000; text-decoration-color: #800000\">│</span>   <span style=\"color: #7f7f7f; text-decoration-color: #7f7f7f\">440 │   │   </span>logger.error(e.message)                                                            <span style=\"color: #800000; text-decoration-color: #800000\">│</span>\n",
       "<span style=\"color: #800000; text-decoration-color: #800000\">│</span> <span style=\"color: #800000; text-decoration-color: #800000\">❱ </span>441 <span style=\"color: #7f7f7f; text-decoration-color: #7f7f7f\">│   │   </span><span style=\"color: #0000ff; text-decoration-color: #0000ff\">raise</span> e                                                                            <span style=\"color: #800000; text-decoration-color: #800000\">│</span>\n",
       "<span style=\"color: #800000; text-decoration-color: #800000\">│</span>   <span style=\"color: #7f7f7f; text-decoration-color: #7f7f7f\">442 │   </span>                                                                                       <span style=\"color: #800000; text-decoration-color: #800000\">│</span>\n",
       "<span style=\"color: #800000; text-decoration-color: #800000\">│</span>   <span style=\"color: #7f7f7f; text-decoration-color: #7f7f7f\">443 │   </span><span style=\"color: #0000ff; text-decoration-color: #0000ff\">return</span> res                                                                             <span style=\"color: #800000; text-decoration-color: #800000\">│</span>\n",
       "<span style=\"color: #800000; text-decoration-color: #800000\">│</span>   <span style=\"color: #7f7f7f; text-decoration-color: #7f7f7f\">444 </span>                                                                                           <span style=\"color: #800000; text-decoration-color: #800000\">│</span>\n",
       "<span style=\"color: #800000; text-decoration-color: #800000\">│</span>                                                                                                  <span style=\"color: #800000; text-decoration-color: #800000\">│</span>\n",
       "<span style=\"color: #800000; text-decoration-color: #800000\">│</span> <span style=\"color: #bfbf7f; text-decoration-color: #bfbf7f\">/home/jovyan/work/repos/taccjm_ds/src/taccjm/client/</span><span style=\"color: #808000; text-decoration-color: #808000; font-weight: bold\">tacc_ssh_api.py</span>:<span style=\"color: #0000ff; text-decoration-color: #0000ff\">437</span> in <span style=\"color: #00ff00; text-decoration-color: #00ff00\">exec</span>                  <span style=\"color: #800000; text-decoration-color: #800000\">│</span>\n",
       "<span style=\"color: #800000; text-decoration-color: #800000\">│</span>                                                                                                  <span style=\"color: #800000; text-decoration-color: #800000\">│</span>\n",
       "<span style=\"color: #800000; text-decoration-color: #800000\">│</span>   <span style=\"color: #7f7f7f; text-decoration-color: #7f7f7f\">434 │   </span>                                                                                       <span style=\"color: #800000; text-decoration-color: #800000\">│</span>\n",
       "<span style=\"color: #800000; text-decoration-color: #800000\">│</span>   <span style=\"color: #7f7f7f; text-decoration-color: #7f7f7f\">435 │   # Make API call</span>                                                                        <span style=\"color: #800000; text-decoration-color: #800000\">│</span>\n",
       "<span style=\"color: #800000; text-decoration-color: #800000\">│</span>   <span style=\"color: #7f7f7f; text-decoration-color: #7f7f7f\">436 │   </span><span style=\"color: #0000ff; text-decoration-color: #0000ff\">try</span>:                                                                                   <span style=\"color: #800000; text-decoration-color: #800000\">│</span>\n",
       "<span style=\"color: #800000; text-decoration-color: #800000\">│</span> <span style=\"color: #800000; text-decoration-color: #800000\">❱ </span>437 <span style=\"color: #7f7f7f; text-decoration-color: #7f7f7f\">│   │   </span>res = api_call(<span style=\"color: #808000; text-decoration-color: #808000\">\"POST\"</span>, <span style=\"color: #808000; text-decoration-color: #808000\">f\"{</span>connection_id<span style=\"color: #808000; text-decoration-color: #808000\">}/exec\"</span>, json_data=json_data)               <span style=\"color: #800000; text-decoration-color: #800000\">│</span>\n",
       "<span style=\"color: #800000; text-decoration-color: #800000\">│</span>   <span style=\"color: #7f7f7f; text-decoration-color: #7f7f7f\">438 │   </span><span style=\"color: #0000ff; text-decoration-color: #0000ff\">except</span> TACCJMError <span style=\"color: #0000ff; text-decoration-color: #0000ff\">as</span> e:                                                               <span style=\"color: #800000; text-decoration-color: #800000\">│</span>\n",
       "<span style=\"color: #800000; text-decoration-color: #800000\">│</span>   <span style=\"color: #7f7f7f; text-decoration-color: #7f7f7f\">439 │   │   </span>e.message = <span style=\"color: #808000; text-decoration-color: #808000\">f\"Error executing command {</span>cmnd<span style=\"color: #808000; text-decoration-color: #808000\">}\"</span>                                      <span style=\"color: #800000; text-decoration-color: #800000\">│</span>\n",
       "<span style=\"color: #800000; text-decoration-color: #800000\">│</span>   <span style=\"color: #7f7f7f; text-decoration-color: #7f7f7f\">440 │   │   </span>logger.error(e.message)                                                            <span style=\"color: #800000; text-decoration-color: #800000\">│</span>\n",
       "<span style=\"color: #800000; text-decoration-color: #800000\">│</span>                                                                                                  <span style=\"color: #800000; text-decoration-color: #800000\">│</span>\n",
       "<span style=\"color: #800000; text-decoration-color: #800000\">│</span> <span style=\"color: #bfbf7f; text-decoration-color: #bfbf7f\">/home/jovyan/work/repos/taccjm_ds/src/taccjm/client/</span><span style=\"color: #808000; text-decoration-color: #808000; font-weight: bold\">tacc_ssh_api.py</span>:<span style=\"color: #0000ff; text-decoration-color: #0000ff\">266</span> in <span style=\"color: #00ff00; text-decoration-color: #00ff00\">api_call</span>              <span style=\"color: #800000; text-decoration-color: #800000\">│</span>\n",
       "<span style=\"color: #800000; text-decoration-color: #800000\">│</span>                                                                                                  <span style=\"color: #800000; text-decoration-color: #800000\">│</span>\n",
       "<span style=\"color: #800000; text-decoration-color: #800000\">│</span>   <span style=\"color: #7f7f7f; text-decoration-color: #7f7f7f\">263 │   │   </span><span style=\"color: #0000ff; text-decoration-color: #0000ff\">return</span> json.loads(res.text)                                                        <span style=\"color: #800000; text-decoration-color: #800000\">│</span>\n",
       "<span style=\"color: #800000; text-decoration-color: #800000\">│</span>   <span style=\"color: #7f7f7f; text-decoration-color: #7f7f7f\">264 │   </span><span style=\"color: #0000ff; text-decoration-color: #0000ff\">else</span>:                                                                                  <span style=\"color: #800000; text-decoration-color: #800000\">│</span>\n",
       "<span style=\"color: #800000; text-decoration-color: #800000\">│</span>   <span style=\"color: #7f7f7f; text-decoration-color: #7f7f7f\">265 │   │   </span>inspect(res)                                                                       <span style=\"color: #800000; text-decoration-color: #800000\">│</span>\n",
       "<span style=\"color: #800000; text-decoration-color: #800000\">│</span> <span style=\"color: #800000; text-decoration-color: #800000\">❱ </span>266 <span style=\"color: #7f7f7f; text-decoration-color: #7f7f7f\">│   │   </span><span style=\"color: #0000ff; text-decoration-color: #0000ff\">raise</span> TACCJMError(res)                                                             <span style=\"color: #800000; text-decoration-color: #800000\">│</span>\n",
       "<span style=\"color: #800000; text-decoration-color: #800000\">│</span>   <span style=\"color: #7f7f7f; text-decoration-color: #7f7f7f\">267 </span>                                                                                           <span style=\"color: #800000; text-decoration-color: #800000\">│</span>\n",
       "<span style=\"color: #800000; text-decoration-color: #800000\">│</span>   <span style=\"color: #7f7f7f; text-decoration-color: #7f7f7f\">268 </span>                                                                                           <span style=\"color: #800000; text-decoration-color: #800000\">│</span>\n",
       "<span style=\"color: #800000; text-decoration-color: #800000\">│</span>   <span style=\"color: #7f7f7f; text-decoration-color: #7f7f7f\">269 </span><span style=\"color: #0000ff; text-decoration-color: #0000ff\">def</span> <span style=\"color: #00ff00; text-decoration-color: #00ff00\">list_sessions</span>() -&gt; List[<span style=\"color: #00ffff; text-decoration-color: #00ffff\">str</span>]:                                                          <span style=\"color: #800000; text-decoration-color: #800000\">│</span>\n",
       "<span style=\"color: #800000; text-decoration-color: #800000\">╰──────────────────────────────────────────────────────────────────────────────────────────────────╯</span>\n",
       "<span style=\"color: #ff0000; text-decoration-color: #ff0000; font-weight: bold\">TACCJMError: </span><span style=\"font-weight: bold\">&lt;</span><span style=\"color: #ff00ff; text-decoration-color: #ff00ff; font-weight: bold\">Response</span><span style=\"color: #000000; text-decoration-color: #000000\"> </span><span style=\"color: #000000; text-decoration-color: #000000; font-weight: bold\">[</span><span style=\"color: #008080; text-decoration-color: #008080; font-weight: bold\">500</span><span style=\"color: #000000; text-decoration-color: #000000; font-weight: bold\">]</span><span style=\"font-weight: bold\">&gt;</span>Unable to parse json errors. Raw content:Internal Server Error\n",
       "</pre>\n"
      ],
      "text/plain": [
       "\u001b[31m╭─\u001b[0m\u001b[31m──────────────────────────────\u001b[0m\u001b[31m \u001b[0m\u001b[1;31mTraceback \u001b[0m\u001b[1;2;31m(most recent call last)\u001b[0m\u001b[31m \u001b[0m\u001b[31m───────────────────────────────\u001b[0m\u001b[31m─╮\u001b[0m\n",
       "\u001b[31m│\u001b[0m in \u001b[92m<module>\u001b[0m:\u001b[94m2\u001b[0m                                                                                    \u001b[31m│\u001b[0m\n",
       "\u001b[31m│\u001b[0m                                                                                                  \u001b[31m│\u001b[0m\n",
       "\u001b[31m│\u001b[0m   \u001b[2m 1 \u001b[0mslurm_config = {\u001b[33m\"\u001b[0m\u001b[33mnode_cound\u001b[0m\u001b[33m\"\u001b[0m: \u001b[94m1\u001b[0m, \u001b[33m\"\u001b[0m\u001b[33mprocessors_per_node\u001b[0m\u001b[33m\"\u001b[0m: \u001b[94m5\u001b[0m}                                  \u001b[31m│\u001b[0m\n",
       "\u001b[31m│\u001b[0m \u001b[31m❱ \u001b[0m 2 job_config = sim.run(                                                                       \u001b[31m│\u001b[0m\n",
       "\u001b[31m│\u001b[0m   \u001b[2m 3 \u001b[0m\u001b[2m│   \u001b[0margs={\u001b[33m\"\u001b[0m\u001b[33mtasks\u001b[0m\u001b[33m\"\u001b[0m: tasks},                                                                  \u001b[31m│\u001b[0m\n",
       "\u001b[31m│\u001b[0m   \u001b[2m 4 \u001b[0m\u001b[2m│   \u001b[0mslurm_config=slurm_config,                                                              \u001b[31m│\u001b[0m\n",
       "\u001b[31m│\u001b[0m   \u001b[2m 5 \u001b[0m\u001b[2m│   \u001b[0mstage=\u001b[94mTrue\u001b[0m,                                                                             \u001b[31m│\u001b[0m\n",
       "\u001b[31m│\u001b[0m                                                                                                  \u001b[31m│\u001b[0m\n",
       "\u001b[31m│\u001b[0m \u001b[2;33m/home/jovyan/work/repos/taccjm_ds/src/taccjm/sim/\u001b[0m\u001b[1;33mTACCSimulation.py\u001b[0m:\u001b[94m399\u001b[0m in \u001b[92mrun\u001b[0m                    \u001b[31m│\u001b[0m\n",
       "\u001b[31m│\u001b[0m                                                                                                  \u001b[31m│\u001b[0m\n",
       "\u001b[31m│\u001b[0m   \u001b[2m396 \u001b[0m\u001b[2m│   │   \u001b[0mjob_dir = os.getenv(\u001b[33m\"\u001b[0m\u001b[33mSLURM_SUBMIT_DIR\u001b[0m\u001b[33m\"\u001b[0m)                                            \u001b[31m│\u001b[0m\n",
       "\u001b[31m│\u001b[0m   \u001b[2m397 \u001b[0m\u001b[2m│   │   \u001b[0m\u001b[94mif\u001b[0m job_dir \u001b[95mis\u001b[0m \u001b[94mNone\u001b[0m:                                                                \u001b[31m│\u001b[0m\n",
       "\u001b[31m│\u001b[0m   \u001b[2m398 \u001b[0m\u001b[2m│   │   │   \u001b[0mlogger.info(\u001b[33m\"\u001b[0m\u001b[33mNot in execution environment. Setting up job...\u001b[0m\u001b[33m\"\u001b[0m)                 \u001b[31m│\u001b[0m\n",
       "\u001b[31m│\u001b[0m \u001b[31m❱ \u001b[0m399 \u001b[2m│   │   │   \u001b[0mjob_config = \u001b[96mself\u001b[0m.setup(                                                       \u001b[31m│\u001b[0m\n",
       "\u001b[31m│\u001b[0m   \u001b[2m400 \u001b[0m\u001b[2m│   │   │   │   \u001b[0margs=args,                                                                 \u001b[31m│\u001b[0m\n",
       "\u001b[31m│\u001b[0m   \u001b[2m401 \u001b[0m\u001b[2m│   │   │   │   \u001b[0mslurm_config=slurm_config,                                                 \u001b[31m│\u001b[0m\n",
       "\u001b[31m│\u001b[0m   \u001b[2m402 \u001b[0m\u001b[2m│   │   │   │   \u001b[0mstage=stage,                                                               \u001b[31m│\u001b[0m\n",
       "\u001b[31m│\u001b[0m                                                                                                  \u001b[31m│\u001b[0m\n",
       "\u001b[31m│\u001b[0m \u001b[2;33m/home/jovyan/work/repos/taccjm_ds/src/taccjm/sim/\u001b[0m\u001b[1;33mTACCSimulation.py\u001b[0m:\u001b[94m219\u001b[0m in \u001b[92msetup\u001b[0m                  \u001b[31m│\u001b[0m\n",
       "\u001b[31m│\u001b[0m                                                                                                  \u001b[31m│\u001b[0m\n",
       "\u001b[31m│\u001b[0m   \u001b[2m216 \u001b[0m\u001b[2m│   │   \u001b[0m\u001b[94mif\u001b[0m \u001b[95mnot\u001b[0m \u001b[96many\u001b[0m(envs[\u001b[33m\"\u001b[0m\u001b[33mname\u001b[0m\u001b[33m\"\u001b[0m] == \u001b[96mself\u001b[0m.ENV_CONFIG[\u001b[33m\"\u001b[0m\u001b[33mconda_env\u001b[0m\u001b[33m\"\u001b[0m]):                          \u001b[31m│\u001b[0m\n",
       "\u001b[31m│\u001b[0m   \u001b[2m217 \u001b[0m\u001b[2m│   │   │   \u001b[0mpython_setup = \u001b[94mTrue\u001b[0m                                                            \u001b[31m│\u001b[0m\n",
       "\u001b[31m│\u001b[0m   \u001b[2m218 \u001b[0m\u001b[2m│   │   \u001b[0m\u001b[94mif\u001b[0m python_setup:                                                                   \u001b[31m│\u001b[0m\n",
       "\u001b[31m│\u001b[0m \u001b[31m❱ \u001b[0m219 \u001b[2m│   │   │   \u001b[0m\u001b[96mself\u001b[0m.client.python_env = \u001b[96mself\u001b[0m.client.get_install_env(                          \u001b[31m│\u001b[0m\n",
       "\u001b[31m│\u001b[0m   \u001b[2m220 \u001b[0m\u001b[2m│   │   │   │   \u001b[0m\u001b[96mself\u001b[0m.ENV_CONFIG[\u001b[33m\"\u001b[0m\u001b[33mconda_env\u001b[0m\u001b[33m\"\u001b[0m],                                              \u001b[31m│\u001b[0m\n",
       "\u001b[31m│\u001b[0m   \u001b[2m221 \u001b[0m\u001b[2m│   │   │   │   \u001b[0mconda=\u001b[96mself\u001b[0m.ENV_CONFIG[\u001b[33m\"\u001b[0m\u001b[33mconda_packages\u001b[0m\u001b[33m\"\u001b[0m],                                   \u001b[31m│\u001b[0m\n",
       "\u001b[31m│\u001b[0m   \u001b[2m222 \u001b[0m\u001b[2m│   │   │   │   \u001b[0mpip=\u001b[96mself\u001b[0m.ENV_CONFIG[\u001b[33m\"\u001b[0m\u001b[33mpip_packages\u001b[0m\u001b[33m\"\u001b[0m],                                       \u001b[31m│\u001b[0m\n",
       "\u001b[31m│\u001b[0m                                                                                                  \u001b[31m│\u001b[0m\n",
       "\u001b[31m│\u001b[0m \u001b[2;33m/home/jovyan/work/repos/taccjm_ds/src/taccjm/client/\u001b[0m\u001b[1;33mTACCClient.py\u001b[0m:\u001b[94m965\u001b[0m in \u001b[92mget_install_env\u001b[0m         \u001b[31m│\u001b[0m\n",
       "\u001b[31m│\u001b[0m                                                                                                  \u001b[31m│\u001b[0m\n",
       "\u001b[31m│\u001b[0m   \u001b[2m 962 \u001b[0m\u001b[2m│   │   \u001b[0m                                                                                  \u001b[31m│\u001b[0m\n",
       "\u001b[31m│\u001b[0m   \u001b[2m 963 \u001b[0m\u001b[2m│   │   \u001b[0m\u001b[94mif\u001b[0m conda \u001b[95mis\u001b[0m \u001b[95mnot\u001b[0m \u001b[94mNone\u001b[0m:                                                             \u001b[31m│\u001b[0m\n",
       "\u001b[31m│\u001b[0m   \u001b[2m 964 \u001b[0m\u001b[2m│   │   │   \u001b[0m\u001b[96mself\u001b[0m.log.info(\u001b[33m\"\u001b[0m\u001b[33mInstalling conda packages\u001b[0m\u001b[33m\"\u001b[0m)                                    \u001b[31m│\u001b[0m\n",
       "\u001b[31m│\u001b[0m \u001b[31m❱ \u001b[0m 965 \u001b[2m│   │   │   \u001b[0m\u001b[96mself\u001b[0m.exec(\u001b[33mf\u001b[0m\u001b[33m\"\u001b[0m\u001b[33m{\u001b[0m\u001b[96mself\u001b[0m.pm\u001b[33m}\u001b[0m\u001b[33m install -n \u001b[0m\u001b[33m{\u001b[0menv\u001b[33m}\u001b[0m\u001b[33m -y \u001b[0m\u001b[33m{\u001b[0mconda\u001b[33m}\u001b[0m\u001b[33m\"\u001b[0m)                           \u001b[31m│\u001b[0m\n",
       "\u001b[31m│\u001b[0m   \u001b[2m 966 \u001b[0m\u001b[2m│   │   \u001b[0m                                                                                  \u001b[31m│\u001b[0m\n",
       "\u001b[31m│\u001b[0m   \u001b[2m 967 \u001b[0m\u001b[2m│   │   \u001b[0m\u001b[94mif\u001b[0m pip \u001b[95mis\u001b[0m \u001b[95mnot\u001b[0m \u001b[94mNone\u001b[0m:                                                               \u001b[31m│\u001b[0m\n",
       "\u001b[31m│\u001b[0m   \u001b[2m 968 \u001b[0m\u001b[2m│   │   │   \u001b[0menvs = \u001b[96mself\u001b[0m.get_python_env()                                                  \u001b[31m│\u001b[0m\n",
       "\u001b[31m│\u001b[0m                                                                                                  \u001b[31m│\u001b[0m\n",
       "\u001b[31m│\u001b[0m \u001b[2;33m/home/jovyan/work/repos/taccjm_ds/src/taccjm/client/\u001b[0m\u001b[1;33mTACCClient.py\u001b[0m:\u001b[94m337\u001b[0m in \u001b[92mexec\u001b[0m                    \u001b[31m│\u001b[0m\n",
       "\u001b[31m│\u001b[0m                                                                                                  \u001b[31m│\u001b[0m\n",
       "\u001b[31m│\u001b[0m   \u001b[2m 334 \u001b[0m\u001b[2m│   │   │   \u001b[0m}                                                                             \u001b[31m│\u001b[0m\n",
       "\u001b[31m│\u001b[0m   \u001b[2m 335 \u001b[0m\u001b[2m│   │   │   \u001b[0m\u001b[96mself\u001b[0m.local_commands[\u001b[96mstr\u001b[0m(cmnd_config[\u001b[33m\"\u001b[0m\u001b[33mid\u001b[0m\u001b[33m\"\u001b[0m])] = cmnd_config                     \u001b[31m│\u001b[0m\n",
       "\u001b[31m│\u001b[0m   \u001b[2m 336 \u001b[0m\u001b[2m│   │   \u001b[0m\u001b[94melse\u001b[0m:                                                                             \u001b[31m│\u001b[0m\n",
       "\u001b[31m│\u001b[0m \u001b[31m❱ \u001b[0m 337 \u001b[2m│   │   │   \u001b[0mcmnd_config = tsa.exec(\u001b[96mself\u001b[0m.id, cmnd, wait=wait,                              \u001b[31m│\u001b[0m\n",
       "\u001b[31m│\u001b[0m   \u001b[2m 338 \u001b[0m\u001b[2m│   │   │   │   │   │   │   │      \u001b[0mkey=key, fail=fail)                                    \u001b[31m│\u001b[0m\n",
       "\u001b[31m│\u001b[0m   \u001b[2m 339 \u001b[0m\u001b[2m│   │   │   \u001b[0m\u001b[96mself\u001b[0m.remote_commands[\u001b[96mstr\u001b[0m(cmnd_config[\u001b[33m\"\u001b[0m\u001b[33mid\u001b[0m\u001b[33m\"\u001b[0m])] = cmnd_config                    \u001b[31m│\u001b[0m\n",
       "\u001b[31m│\u001b[0m   \u001b[2m 340 \u001b[0m                                                                                          \u001b[31m│\u001b[0m\n",
       "\u001b[31m│\u001b[0m                                                                                                  \u001b[31m│\u001b[0m\n",
       "\u001b[31m│\u001b[0m \u001b[2;33m/home/jovyan/work/repos/taccjm_ds/src/taccjm/client/\u001b[0m\u001b[1;33mtacc_ssh_api.py\u001b[0m:\u001b[94m441\u001b[0m in \u001b[92mexec\u001b[0m                  \u001b[31m│\u001b[0m\n",
       "\u001b[31m│\u001b[0m                                                                                                  \u001b[31m│\u001b[0m\n",
       "\u001b[31m│\u001b[0m   \u001b[2m438 \u001b[0m\u001b[2m│   \u001b[0m\u001b[94mexcept\u001b[0m TACCJMError \u001b[94mas\u001b[0m e:                                                               \u001b[31m│\u001b[0m\n",
       "\u001b[31m│\u001b[0m   \u001b[2m439 \u001b[0m\u001b[2m│   │   \u001b[0me.message = \u001b[33mf\u001b[0m\u001b[33m\"\u001b[0m\u001b[33mError executing command \u001b[0m\u001b[33m{\u001b[0mcmnd\u001b[33m}\u001b[0m\u001b[33m\"\u001b[0m                                      \u001b[31m│\u001b[0m\n",
       "\u001b[31m│\u001b[0m   \u001b[2m440 \u001b[0m\u001b[2m│   │   \u001b[0mlogger.error(e.message)                                                            \u001b[31m│\u001b[0m\n",
       "\u001b[31m│\u001b[0m \u001b[31m❱ \u001b[0m441 \u001b[2m│   │   \u001b[0m\u001b[94mraise\u001b[0m e                                                                            \u001b[31m│\u001b[0m\n",
       "\u001b[31m│\u001b[0m   \u001b[2m442 \u001b[0m\u001b[2m│   \u001b[0m                                                                                       \u001b[31m│\u001b[0m\n",
       "\u001b[31m│\u001b[0m   \u001b[2m443 \u001b[0m\u001b[2m│   \u001b[0m\u001b[94mreturn\u001b[0m res                                                                             \u001b[31m│\u001b[0m\n",
       "\u001b[31m│\u001b[0m   \u001b[2m444 \u001b[0m                                                                                           \u001b[31m│\u001b[0m\n",
       "\u001b[31m│\u001b[0m                                                                                                  \u001b[31m│\u001b[0m\n",
       "\u001b[31m│\u001b[0m \u001b[2;33m/home/jovyan/work/repos/taccjm_ds/src/taccjm/client/\u001b[0m\u001b[1;33mtacc_ssh_api.py\u001b[0m:\u001b[94m437\u001b[0m in \u001b[92mexec\u001b[0m                  \u001b[31m│\u001b[0m\n",
       "\u001b[31m│\u001b[0m                                                                                                  \u001b[31m│\u001b[0m\n",
       "\u001b[31m│\u001b[0m   \u001b[2m434 \u001b[0m\u001b[2m│   \u001b[0m                                                                                       \u001b[31m│\u001b[0m\n",
       "\u001b[31m│\u001b[0m   \u001b[2m435 \u001b[0m\u001b[2m│   \u001b[0m\u001b[2m# Make API call\u001b[0m                                                                        \u001b[31m│\u001b[0m\n",
       "\u001b[31m│\u001b[0m   \u001b[2m436 \u001b[0m\u001b[2m│   \u001b[0m\u001b[94mtry\u001b[0m:                                                                                   \u001b[31m│\u001b[0m\n",
       "\u001b[31m│\u001b[0m \u001b[31m❱ \u001b[0m437 \u001b[2m│   │   \u001b[0mres = api_call(\u001b[33m\"\u001b[0m\u001b[33mPOST\u001b[0m\u001b[33m\"\u001b[0m, \u001b[33mf\u001b[0m\u001b[33m\"\u001b[0m\u001b[33m{\u001b[0mconnection_id\u001b[33m}\u001b[0m\u001b[33m/exec\u001b[0m\u001b[33m\"\u001b[0m, json_data=json_data)               \u001b[31m│\u001b[0m\n",
       "\u001b[31m│\u001b[0m   \u001b[2m438 \u001b[0m\u001b[2m│   \u001b[0m\u001b[94mexcept\u001b[0m TACCJMError \u001b[94mas\u001b[0m e:                                                               \u001b[31m│\u001b[0m\n",
       "\u001b[31m│\u001b[0m   \u001b[2m439 \u001b[0m\u001b[2m│   │   \u001b[0me.message = \u001b[33mf\u001b[0m\u001b[33m\"\u001b[0m\u001b[33mError executing command \u001b[0m\u001b[33m{\u001b[0mcmnd\u001b[33m}\u001b[0m\u001b[33m\"\u001b[0m                                      \u001b[31m│\u001b[0m\n",
       "\u001b[31m│\u001b[0m   \u001b[2m440 \u001b[0m\u001b[2m│   │   \u001b[0mlogger.error(e.message)                                                            \u001b[31m│\u001b[0m\n",
       "\u001b[31m│\u001b[0m                                                                                                  \u001b[31m│\u001b[0m\n",
       "\u001b[31m│\u001b[0m \u001b[2;33m/home/jovyan/work/repos/taccjm_ds/src/taccjm/client/\u001b[0m\u001b[1;33mtacc_ssh_api.py\u001b[0m:\u001b[94m266\u001b[0m in \u001b[92mapi_call\u001b[0m              \u001b[31m│\u001b[0m\n",
       "\u001b[31m│\u001b[0m                                                                                                  \u001b[31m│\u001b[0m\n",
       "\u001b[31m│\u001b[0m   \u001b[2m263 \u001b[0m\u001b[2m│   │   \u001b[0m\u001b[94mreturn\u001b[0m json.loads(res.text)                                                        \u001b[31m│\u001b[0m\n",
       "\u001b[31m│\u001b[0m   \u001b[2m264 \u001b[0m\u001b[2m│   \u001b[0m\u001b[94melse\u001b[0m:                                                                                  \u001b[31m│\u001b[0m\n",
       "\u001b[31m│\u001b[0m   \u001b[2m265 \u001b[0m\u001b[2m│   │   \u001b[0minspect(res)                                                                       \u001b[31m│\u001b[0m\n",
       "\u001b[31m│\u001b[0m \u001b[31m❱ \u001b[0m266 \u001b[2m│   │   \u001b[0m\u001b[94mraise\u001b[0m TACCJMError(res)                                                             \u001b[31m│\u001b[0m\n",
       "\u001b[31m│\u001b[0m   \u001b[2m267 \u001b[0m                                                                                           \u001b[31m│\u001b[0m\n",
       "\u001b[31m│\u001b[0m   \u001b[2m268 \u001b[0m                                                                                           \u001b[31m│\u001b[0m\n",
       "\u001b[31m│\u001b[0m   \u001b[2m269 \u001b[0m\u001b[94mdef\u001b[0m \u001b[92mlist_sessions\u001b[0m() -> List[\u001b[96mstr\u001b[0m]:                                                          \u001b[31m│\u001b[0m\n",
       "\u001b[31m╰──────────────────────────────────────────────────────────────────────────────────────────────────╯\u001b[0m\n",
       "\u001b[1;91mTACCJMError: \u001b[0m\u001b[1m<\u001b[0m\u001b[1;95mResponse\u001b[0m\u001b[39m \u001b[0m\u001b[1;39m[\u001b[0m\u001b[1;36m500\u001b[0m\u001b[1;39m]\u001b[0m\u001b[1m>\u001b[0mUnable to parse json errors. Raw content:Internal Server Error\n"
      ]
     },
     "metadata": {},
     "output_type": "display_data"
    }
   ],
   "source": [
    "slurm_config = {\"node_cound\": 1, \"processors_per_node\": 5}\n",
    "job_config = sim.run(\n",
    "    args={\"tasks\": tasks},\n",
    "    slurm_config=slurm_config,\n",
    "    stage=True,\n",
    "    python_setup=True,\n",
    "    run=True,\n",
    "    remora=True,\n",
    ")"
   ]
  },
  {
   "cell_type": "code",
   "execution_count": 5,
   "id": "fd5d955e-f93c-4895-aa2d-b26cbb08fff3",
   "metadata": {
    "tags": []
   },
   "outputs": [
    {
     "data": {
      "text/plain": [
       "{'name': 'test',\n",
       " 'job_id': 'test_20230418_164048t_8jd_nl',\n",
       " 'job_dir': '/scratch/06307/clos21/taccjm-ls6/jobs/test_20230418_164048t_8jd_nl',\n",
       " 'slurm': {'allocation': 'ADCIRC',\n",
       "  'node_count': 1,\n",
       "  'processors_per_node': 5,\n",
       "  'max_run_time': 0.2,\n",
       "  'queue': 'development',\n",
       "  'dependencies': [],\n",
       "  'node_cound': 1},\n",
       " 'args': {'tasks': [{'cores': 1,\n",
       "    'workdir': 'runs/run_0',\n",
       "    'pre': 'mkdir another-dir',\n",
       "    'cdir': 'another-dir',\n",
       "    'cmnd': 'touch foo_0.txt; sleep 0; echo DONE > foo_0.txt',\n",
       "    'post': 'cp another-dir/foo_0.txt ../../outputs/foo_0.txt'},\n",
       "   {'cores': 1,\n",
       "    'workdir': 'runs/run_1',\n",
       "    'pre': 'mkdir another-dir',\n",
       "    'cdir': 'another-dir',\n",
       "    'cmnd': 'touch foo_1.txt; sleep 1; echo DONE > foo_1.txt',\n",
       "    'post': 'cp another-dir/foo_1.txt ../../outputs/foo_1.txt'},\n",
       "   {'cores': 1,\n",
       "    'workdir': 'runs/run_2',\n",
       "    'pre': 'mkdir another-dir',\n",
       "    'cdir': 'another-dir',\n",
       "    'cmnd': 'touch foo_2.txt; sleep 2; echo DONE > foo_2.txt',\n",
       "    'post': 'cp another-dir/foo_2.txt ../../outputs/foo_2.txt'},\n",
       "   {'cores': 1,\n",
       "    'workdir': 'runs/run_3',\n",
       "    'pre': 'mkdir another-dir',\n",
       "    'cdir': 'another-dir',\n",
       "    'cmnd': 'touch foo_3.txt; sleep 3; echo DONE > foo_3.txt',\n",
       "    'post': 'cp another-dir/foo_3.txt ../../outputs/foo_3.txt'},\n",
       "   {'cores': 1,\n",
       "    'workdir': 'runs/run_4',\n",
       "    'pre': 'mkdir another-dir',\n",
       "    'cdir': 'another-dir',\n",
       "    'cmnd': 'touch foo_4.txt; sleep 4; echo DONE > foo_4.txt',\n",
       "    'post': 'cp another-dir/foo_4.txt ../../outputs/foo_4.txt'},\n",
       "   {'cores': 1,\n",
       "    'workdir': 'runs/run_5',\n",
       "    'pre': 'mkdir another-dir',\n",
       "    'cdir': 'another-dir',\n",
       "    'cmnd': 'touch foo_5.txt; sleep 5; echo DONE > foo_5.txt',\n",
       "    'post': 'cp another-dir/foo_5.txt ../../outputs/foo_5.txt'},\n",
       "   {'cores': 1,\n",
       "    'workdir': 'runs/run_6',\n",
       "    'pre': 'mkdir another-dir',\n",
       "    'cdir': 'another-dir',\n",
       "    'cmnd': 'touch foo_6.txt; sleep 6; echo DONE > foo_6.txt',\n",
       "    'post': 'cp another-dir/foo_6.txt ../../outputs/foo_6.txt'},\n",
       "   {'cores': 1,\n",
       "    'workdir': 'runs/run_7',\n",
       "    'pre': 'mkdir another-dir',\n",
       "    'cdir': 'another-dir',\n",
       "    'cmnd': 'touch foo_7.txt; sleep 7; echo DONE > foo_7.txt',\n",
       "    'post': 'cp another-dir/foo_7.txt ../../outputs/foo_7.txt'},\n",
       "   {'cores': 1,\n",
       "    'workdir': 'runs/run_8',\n",
       "    'pre': 'mkdir another-dir',\n",
       "    'cdir': 'another-dir',\n",
       "    'cmnd': 'touch foo_8.txt; sleep 8; echo DONE > foo_8.txt',\n",
       "    'post': 'cp another-dir/foo_8.txt ../../outputs/foo_8.txt'},\n",
       "   {'cores': 1,\n",
       "    'workdir': 'runs/run_9',\n",
       "    'pre': 'mkdir another-dir',\n",
       "    'cdir': 'another-dir',\n",
       "    'cmnd': 'touch foo_9.txt; sleep 9; echo DONE > foo_9.txt',\n",
       "    'post': 'cp another-dir/foo_9.txt ../../outputs/foo_9.txt'}],\n",
       "  'task_max_runtime': 0.1,\n",
       "  'max_runtime': 0.2,\n",
       "  'summary_interval': 60},\n",
       " 'submit_script': '/scratch/06307/clos21/taccjm-ls6/jobs/test_20230418_164048t_8jd_nl/submit_script.sh',\n",
       " 'sim_script': '/scratch/06307/clos21/taccjm-ls6/jobs/test_20230418_164048t_8jd_nl/test.py',\n",
       " 'slurm_id': '814652'}"
      ]
     },
     "execution_count": 5,
     "metadata": {},
     "output_type": "execute_result"
    }
   ],
   "source": [
    "job_config"
   ]
  },
  {
   "cell_type": "code",
   "execution_count": 9,
   "id": "c2e96a5c-02a7-4c27-a778-f1585a0799b8",
   "metadata": {
    "tags": []
   },
   "outputs": [
    {
     "name": "stdout",
     "output_type": "stream",
     "text": [
      "{\"asctime\": \"2023-04-18 16:41:42,561\", \"name\": \"taccjm.client.TACCClient\", \"levelname\": \"INFO\", \"message\": \"Processed command 50\", \"cmnd_config\": {\"id\": 50, \"key\": \"SYSTEM\", \"cmd\": \"showq -U clos21\", \"ts\": \"2023-04-18T16:41:42.552721\", \"status\": \"COMPLETE\", \"stdout\": \"Using system default configuration file \\n\\nSUMMARY OF JOBS FOR USER: <clos21>\\n\\nACTIVE JOBS--------------------\\nJOBID     JOBNAME    USERNAME      STATE   NODES REMAINING STARTTIME\\n=====================\", \"stderr\": \"\", \"history\": [{\"ts\": \"2023-04-18T16:41:41.295198\", \"status\": \"STARTED\"}], \"rt\": 1.0, \"rc\": 0, \"fail\": true}}\n"
     ]
    },
    {
     "data": {
      "text/plain": [
       "[{'job_id': '814652',\n",
       "  'job_name': 'test_20230',\n",
       "  'username': 'clos21',\n",
       "  'state': 'Running',\n",
       "  'nodes': '1',\n",
       "  'remaining': '1',\n",
       "  'start_time': '0:11:18'}]"
      ]
     },
     "execution_count": 9,
     "metadata": {},
     "output_type": "execute_result"
    }
   ],
   "source": [
    "sim.client.showq()"
   ]
  },
  {
   "cell_type": "code",
   "execution_count": 10,
   "id": "90a7e3c7-d6b2-41b0-b599-764310f00b6f",
   "metadata": {
    "tags": []
   },
   "outputs": [
    {
     "data": {
      "text/plain": [
       "[{'filename': 'remora_814652',\n",
       "  'st_atime': 1681854062,\n",
       "  'st_gid': 800588,\n",
       "  'st_mode': 16832,\n",
       "  'st_mtime': 1681854105,\n",
       "  'st_size': 28,\n",
       "  'st_uid': 856065,\n",
       "  'ls_str': 'drwx------   1 856065   800588         28 18 Apr 16:41 remora_814652'},\n",
       " {'filename': 'test_20230418_164048t_8jd_nl.o814652',\n",
       "  'st_atime': 1681854065,\n",
       "  'st_gid': 800588,\n",
       "  'st_mode': 33152,\n",
       "  'st_mtime': 1681854065,\n",
       "  'st_size': 96,\n",
       "  'st_uid': 856065,\n",
       "  'ls_str': '-rw-------   1 856065   800588         96 18 Apr 16:41 test_20230418_164048t_8jd_nl.o814652'},\n",
       " {'filename': 'test_20230418_164048t_8jd_nl.e814652',\n",
       "  'st_atime': 1681854066,\n",
       "  'st_gid': 800588,\n",
       "  'st_mode': 33152,\n",
       "  'st_mtime': 1681854105,\n",
       "  'st_size': 2011,\n",
       "  'st_uid': 856065,\n",
       "  'ls_str': '-rw-------   1 856065   800588       2011 18 Apr 16:41 test_20230418_164048t_8jd_nl.e814652'},\n",
       " {'filename': 'job.json',\n",
       "  'st_atime': 1681854061,\n",
       "  'st_gid': 800588,\n",
       "  'st_mode': 33152,\n",
       "  'st_mtime': 1681854071,\n",
       "  'st_size': 2697,\n",
       "  'st_uid': 856065,\n",
       "  'ls_str': '-rw-------   1 856065   800588       2697 18 Apr 16:41 job.json'},\n",
       " {'filename': 'test.py',\n",
       "  'st_atime': 1681854057,\n",
       "  'st_gid': 800588,\n",
       "  'st_mode': 33216,\n",
       "  'st_mtime': 1681854051,\n",
       "  'st_size': 4179,\n",
       "  'st_uid': 856065,\n",
       "  'ls_str': '-rwx------   1 856065   800588       4179 18 Apr 16:40 test.py'},\n",
       " {'filename': 'submit_script.sh',\n",
       "  'st_atime': 1681854056,\n",
       "  'st_gid': 800588,\n",
       "  'st_mode': 33152,\n",
       "  'st_mtime': 1681854051,\n",
       "  'st_size': 915,\n",
       "  'st_uid': 856065,\n",
       "  'ls_str': '-rw-------   1 856065   800588        915 18 Apr 16:40 submit_script.sh'}]"
      ]
     },
     "execution_count": 10,
     "metadata": {},
     "output_type": "execute_result"
    }
   ],
   "source": [
    "sim.client.list_files(\"\", job_id=job_config[\"job_id\"], recurse=True)"
   ]
  },
  {
   "cell_type": "code",
   "execution_count": 11,
   "id": "fcc782d1-b51f-4f6c-9e6c-162240863c5b",
   "metadata": {
    "tags": []
   },
   "outputs": [
    {
     "data": {
      "text/plain": [
       "{'name': 'test',\n",
       " 'job_id': 'test_20230418_164048t_8jd_nl',\n",
       " 'job_dir': '/scratch/06307/clos21/taccjm-ls6/jobs/test_20230418_164048t_8jd_nl',\n",
       " 'slurm': {'allocation': 'ADCIRC',\n",
       "  'node_count': 1,\n",
       "  'processors_per_node': 5,\n",
       "  'max_run_time': 0.2,\n",
       "  'queue': 'development',\n",
       "  'dependencies': [],\n",
       "  'node_cound': 1},\n",
       " 'args': {'tasks': [{'cores': 1,\n",
       "    'workdir': 'runs/run_0',\n",
       "    'pre': 'mkdir another-dir',\n",
       "    'cdir': 'another-dir',\n",
       "    'cmnd': 'touch foo_0.txt; sleep 0; echo DONE > foo_0.txt',\n",
       "    'post': 'cp another-dir/foo_0.txt ../../outputs/foo_0.txt'},\n",
       "   {'cores': 1,\n",
       "    'workdir': 'runs/run_1',\n",
       "    'pre': 'mkdir another-dir',\n",
       "    'cdir': 'another-dir',\n",
       "    'cmnd': 'touch foo_1.txt; sleep 1; echo DONE > foo_1.txt',\n",
       "    'post': 'cp another-dir/foo_1.txt ../../outputs/foo_1.txt'},\n",
       "   {'cores': 1,\n",
       "    'workdir': 'runs/run_2',\n",
       "    'pre': 'mkdir another-dir',\n",
       "    'cdir': 'another-dir',\n",
       "    'cmnd': 'touch foo_2.txt; sleep 2; echo DONE > foo_2.txt',\n",
       "    'post': 'cp another-dir/foo_2.txt ../../outputs/foo_2.txt'},\n",
       "   {'cores': 1,\n",
       "    'workdir': 'runs/run_3',\n",
       "    'pre': 'mkdir another-dir',\n",
       "    'cdir': 'another-dir',\n",
       "    'cmnd': 'touch foo_3.txt; sleep 3; echo DONE > foo_3.txt',\n",
       "    'post': 'cp another-dir/foo_3.txt ../../outputs/foo_3.txt'},\n",
       "   {'cores': 1,\n",
       "    'workdir': 'runs/run_4',\n",
       "    'pre': 'mkdir another-dir',\n",
       "    'cdir': 'another-dir',\n",
       "    'cmnd': 'touch foo_4.txt; sleep 4; echo DONE > foo_4.txt',\n",
       "    'post': 'cp another-dir/foo_4.txt ../../outputs/foo_4.txt'},\n",
       "   {'cores': 1,\n",
       "    'workdir': 'runs/run_5',\n",
       "    'pre': 'mkdir another-dir',\n",
       "    'cdir': 'another-dir',\n",
       "    'cmnd': 'touch foo_5.txt; sleep 5; echo DONE > foo_5.txt',\n",
       "    'post': 'cp another-dir/foo_5.txt ../../outputs/foo_5.txt'},\n",
       "   {'cores': 1,\n",
       "    'workdir': 'runs/run_6',\n",
       "    'pre': 'mkdir another-dir',\n",
       "    'cdir': 'another-dir',\n",
       "    'cmnd': 'touch foo_6.txt; sleep 6; echo DONE > foo_6.txt',\n",
       "    'post': 'cp another-dir/foo_6.txt ../../outputs/foo_6.txt'},\n",
       "   {'cores': 1,\n",
       "    'workdir': 'runs/run_7',\n",
       "    'pre': 'mkdir another-dir',\n",
       "    'cdir': 'another-dir',\n",
       "    'cmnd': 'touch foo_7.txt; sleep 7; echo DONE > foo_7.txt',\n",
       "    'post': 'cp another-dir/foo_7.txt ../../outputs/foo_7.txt'},\n",
       "   {'cores': 1,\n",
       "    'workdir': 'runs/run_8',\n",
       "    'pre': 'mkdir another-dir',\n",
       "    'cdir': 'another-dir',\n",
       "    'cmnd': 'touch foo_8.txt; sleep 8; echo DONE > foo_8.txt',\n",
       "    'post': 'cp another-dir/foo_8.txt ../../outputs/foo_8.txt'},\n",
       "   {'cores': 1,\n",
       "    'workdir': 'runs/run_9',\n",
       "    'pre': 'mkdir another-dir',\n",
       "    'cdir': 'another-dir',\n",
       "    'cmnd': 'touch foo_9.txt; sleep 9; echo DONE > foo_9.txt',\n",
       "    'post': 'cp another-dir/foo_9.txt ../../outputs/foo_9.txt'}],\n",
       "  'task_max_runtime': 0.1,\n",
       "  'max_runtime': 0.2,\n",
       "  'summary_interval': 60},\n",
       " 'submit_script': '/scratch/06307/clos21/taccjm-ls6/jobs/test_20230418_164048t_8jd_nl/submit_script.sh',\n",
       " 'sim_script': '/scratch/06307/clos21/taccjm-ls6/jobs/test_20230418_164048t_8jd_nl/test.py',\n",
       " 'slurm_id': '814652'}"
      ]
     },
     "execution_count": 11,
     "metadata": {},
     "output_type": "execute_result"
    }
   ],
   "source": [
    "saved_config = sim.client.read(\"job.json\", job_id=job_config[\"job_id\"])\n",
    "saved_config"
   ]
  },
  {
   "cell_type": "code",
   "execution_count": 12,
   "id": "cd123ea6-920f-4521-8ec3-d8b05ef3d8eb",
   "metadata": {
    "tags": []
   },
   "outputs": [],
   "source": [
    "err_file = sim.client.read(\n",
    "    \"test_20230418_164048t_8jd_nl.e814652\", job_id=job_config[\"job_id\"]\n",
    ")"
   ]
  },
  {
   "cell_type": "code",
   "execution_count": 13,
   "id": "cdb1bc1c-c61c-4b3c-8e7c-710aae393b75",
   "metadata": {
    "tags": []
   },
   "outputs": [
    {
     "name": "stdout",
     "output_type": "stream",
     "text": [
      "@@@@@@@@@@@@@@@@@@@@@@@@@@@@@@@@@@@@@@@@@@@@@@@@@@@@@@@@@@@\n",
      "@    WARNING: REMOTE HOST IDENTIFICATION HAS CHANGED!     @\n",
      "@@@@@@@@@@@@@@@@@@@@@@@@@@@@@@@@@@@@@@@@@@@@@@@@@@@@@@@@@@@\n",
      "IT IS POSSIBLE THAT SOMEONE IS DOING SOMETHING NASTY!\n",
      "Someone could be eavesdropping on you right now (man-in-the-middle attack)!\n",
      "It is also possible that a host key has just been changed.\n",
      "The fingerprint for the ECDSA key sent by the remote host is\n",
      "SHA256:4ohAkN2Ef22y48GGijuux2REtKHW6INY0VLof7lUHAI.\n",
      "Please contact your system administrator.\n",
      "Add correct host key in /home1/06307/clos21/.ssh/known_hosts to get rid of this message.\n",
      "Offending ECDSA key in /home1/06307/clos21/.ssh/known_hosts:41\n",
      "Password authentication is disabled to avoid man-in-the-middle attacks.\n",
      "Keyboard-interactive authentication is disabled to avoid man-in-the-middle attacks.\n",
      "cat: '/proc/fs/lustre/mdc/work*/stats': No such file or directory\n",
      "cat: '/proc/fs/lustre/llite/work*/stats': No such file or directory\n",
      "cat: '/proc/fs/lustre/llite/work*/stats': No such file or directory\n",
      "cat: /proc/sys/lnet/stats: No such file or directory\n",
      "cat: '/proc/fs/lustre/mdc/work*/stats': No such file or directory\n",
      "cat: '/proc/fs/lustre/llite/work*/stats': No such file or directory\n",
      "cat: '/proc/fs/lustre/llite/work*/stats': No such file or directory\n",
      "cat: /proc/sys/lnet/stats: No such file or directory\n",
      "cat: '/proc/fs/lustre/mdc/work*/stats': No such file or directory\n",
      "cat: '/proc/fs/lustre/llite/work*/stats': No such file or directory\n",
      "cat: '/proc/fs/lustre/llite/work*/stats': No such file or directory\n",
      "Traceback (most recent call last):\n",
      "  File \"/scratch/06307/clos21/taccjm-ls6/jobs/test_20230418_164048t_8jd_nl/./test.py\", line 13, in <module>\n",
      "cat: /proc/sys/lnet/stats: No such file or directory\n",
      "    class EnsembleTACCSimulation(TACCSimulation):\n",
      "TypeError: module() takes at most 2 arguments (3 given)\n",
      "Runtime error (func=(main), adr=9): Divide by zero\n",
      "Runtime error (func=(main), adr=9): Divide by zero\n",
      "Runtime error (func=(main), adr=9): Divide by zero\n",
      "@@@@@@@@@@@@@@@@@@@@@@@@@@@@@@@@@@@@@@@@@@@@@@@@@@@@@@@@@@@\n",
      "@    WARNING: REMOTE HOST IDENTIFICATION HAS CHANGED!     @\n",
      "@@@@@@@@@@@@@@@@@@@@@@@@@@@@@@@@@@@@@@@@@@@@@@@@@@@@@@@@@@@\n",
      "IT IS POSSIBLE THAT SOMEONE IS DOING SOMETHING NASTY!\n",
      "Someone could be eavesdropping on you right now (man-in-the-middle attack)!\n",
      "It is also possible that a host key has just been changed.\n",
      "The fingerprint for the ECDSA key sent by the remote host is\n",
      "SHA256:4ohAkN2Ef22y48GGijuux2REtKHW6INY0VLof7lUHAI.\n",
      "Please contact your system administrator.\n",
      "Add correct host key in /home1/06307/clos21/.ssh/known_hosts to get rid of this message.\n",
      "Offending ECDSA key in /home1/06307/clos21/.ssh/known_hosts:41\n",
      "Password authentication is disabled to avoid man-in-the-middle attacks.\n",
      "Keyboard-interactive authentication is disabled to avoid man-in-the-middle attacks.\n",
      "\n"
     ]
    }
   ],
   "source": [
    "print(err_file)"
   ]
  },
  {
   "cell_type": "code",
   "execution_count": 17,
   "id": "4a201cbd-c1f5-4874-8934-ef9db47d18cd",
   "metadata": {
    "tags": []
   },
   "outputs": [
    {
     "data": {
      "text/html": [
       "<pre style=\"white-space:pre;overflow-x:auto;line-height:normal;font-family:Menlo,'DejaVu Sans Mono',consolas,'Courier New',monospace\"><span style=\"color: #000080; text-decoration-color: #000080\">╭────────────────────────────────────── </span><span style=\"color: #000080; text-decoration-color: #000080; font-weight: bold\">&lt;</span><span style=\"color: #ff00ff; text-decoration-color: #ff00ff; font-weight: bold\">class</span><span style=\"color: #000000; text-decoration-color: #000000\"> </span><span style=\"color: #008000; text-decoration-color: #008000\">'requests.models.Response'</span><span style=\"color: #000080; text-decoration-color: #000080; font-weight: bold\">&gt;</span><span style=\"color: #000080; text-decoration-color: #000080\"> ───────────────────────────────────────╮</span>\n",
       "<span style=\"color: #000080; text-decoration-color: #000080\">│</span> <span style=\"color: #008080; text-decoration-color: #008080\">The :class:`Response </span><span style=\"color: #008080; text-decoration-color: #008080; font-weight: bold\">&lt;</span><span style=\"color: #ff00ff; text-decoration-color: #ff00ff; font-weight: bold\">Response</span><span style=\"color: #008080; text-decoration-color: #008080; font-weight: bold\">&gt;</span><span style=\"color: #008080; text-decoration-color: #008080\">` object, which contains a</span>                                                       <span style=\"color: #000080; text-decoration-color: #000080\">│</span>\n",
       "<span style=\"color: #000080; text-decoration-color: #000080\">│</span> <span style=\"color: #008080; text-decoration-color: #008080\">server's response to an HTTP request.</span>                                                                           <span style=\"color: #000080; text-decoration-color: #000080\">│</span>\n",
       "<span style=\"color: #000080; text-decoration-color: #000080\">│</span>                                                                                                                 <span style=\"color: #000080; text-decoration-color: #000080\">│</span>\n",
       "<span style=\"color: #000080; text-decoration-color: #000080\">│</span> <span style=\"color: #008000; text-decoration-color: #008000\">╭─────────────────────────────────────────────────────────────────────────────────────────────────────────────╮</span> <span style=\"color: #000080; text-decoration-color: #000080\">│</span>\n",
       "<span style=\"color: #000080; text-decoration-color: #000080\">│</span> <span style=\"color: #008000; text-decoration-color: #008000\">│</span> <span style=\"font-weight: bold\">&lt;</span><span style=\"color: #ff00ff; text-decoration-color: #ff00ff; font-weight: bold\">Response</span><span style=\"color: #000000; text-decoration-color: #000000\"> </span><span style=\"color: #000000; text-decoration-color: #000000; font-weight: bold\">[</span><span style=\"color: #008080; text-decoration-color: #008080; font-weight: bold\">404</span><span style=\"color: #000000; text-decoration-color: #000000; font-weight: bold\">]</span><span style=\"font-weight: bold\">&gt;</span>                                                                                            <span style=\"color: #008000; text-decoration-color: #008000\">│</span> <span style=\"color: #000080; text-decoration-color: #000080\">│</span>\n",
       "<span style=\"color: #000080; text-decoration-color: #000080\">│</span> <span style=\"color: #008000; text-decoration-color: #008000\">╰─────────────────────────────────────────────────────────────────────────────────────────────────────────────╯</span> <span style=\"color: #000080; text-decoration-color: #000080\">│</span>\n",
       "<span style=\"color: #000080; text-decoration-color: #000080\">│</span>                                                                                                                 <span style=\"color: #000080; text-decoration-color: #000080\">│</span>\n",
       "<span style=\"color: #000080; text-decoration-color: #000080\">│</span>     <span style=\"color: #808000; text-decoration-color: #808000; font-style: italic\">apparent_encoding</span> = <span style=\"color: #008000; text-decoration-color: #008000\">'ascii'</span>                                                                                 <span style=\"color: #000080; text-decoration-color: #000080\">│</span>\n",
       "<span style=\"color: #000080; text-decoration-color: #000080\">│</span>            <span style=\"color: #808000; text-decoration-color: #808000; font-style: italic\">connection</span> = <span style=\"font-weight: bold\">&lt;</span><span style=\"color: #ff00ff; text-decoration-color: #ff00ff; font-weight: bold\">requests.adapters.HTTPAdapter</span><span style=\"color: #000000; text-decoration-color: #000000\"> object at </span><span style=\"color: #008080; text-decoration-color: #008080; font-weight: bold\">0x7f48386833d0</span><span style=\"font-weight: bold\">&gt;</span>                                <span style=\"color: #000080; text-decoration-color: #000080\">│</span>\n",
       "<span style=\"color: #000080; text-decoration-color: #000080\">│</span>               <span style=\"color: #808000; text-decoration-color: #808000; font-style: italic\">content</span> = <span style=\"color: #008000; text-decoration-color: #008000\">b'{\"detail\":\"Error accessing </span>                                                           <span style=\"color: #000080; text-decoration-color: #000080\">│</span>\n",
       "<span style=\"color: #000080; text-decoration-color: #000080\">│</span>                         <span style=\"color: #008000; text-decoration-color: #008000\">/scratch/06307/clos21/taccjm-ls6/jobs/test_20230418_163643dvirthhk/task-queue not found</span> <span style=\"color: #000080; text-decoration-color: #000080\">│</span>\n",
       "<span style=\"color: #000080; text-decoration-color: #000080\">│</span>                         <span style=\"color: #008000; text-decoration-color: #008000\">: \"}'</span>                                                                                   <span style=\"color: #000080; text-decoration-color: #000080\">│</span>\n",
       "<span style=\"color: #000080; text-decoration-color: #000080\">│</span>               <span style=\"color: #808000; text-decoration-color: #808000; font-style: italic\">cookies</span> = <span style=\"font-weight: bold\">&lt;</span><span style=\"color: #ff00ff; text-decoration-color: #ff00ff; font-weight: bold\">RequestsCookieJar</span><span style=\"color: #000000; text-decoration-color: #000000; font-weight: bold\">[]</span><span style=\"font-weight: bold\">&gt;</span>                                                                   <span style=\"color: #000080; text-decoration-color: #000080\">│</span>\n",
       "<span style=\"color: #000080; text-decoration-color: #000080\">│</span>               <span style=\"color: #808000; text-decoration-color: #808000; font-style: italic\">elapsed</span> = <span style=\"color: #800080; text-decoration-color: #800080; font-weight: bold\">datetime.timedelta</span><span style=\"font-weight: bold\">(</span><span style=\"color: #808000; text-decoration-color: #808000\">seconds</span>=<span style=\"color: #008080; text-decoration-color: #008080; font-weight: bold\">1</span>, <span style=\"color: #808000; text-decoration-color: #808000\">microseconds</span>=<span style=\"color: #008080; text-decoration-color: #008080; font-weight: bold\">322526</span><span style=\"font-weight: bold\">)</span>                                      <span style=\"color: #000080; text-decoration-color: #000080\">│</span>\n",
       "<span style=\"color: #000080; text-decoration-color: #000080\">│</span>              <span style=\"color: #808000; text-decoration-color: #808000; font-style: italic\">encoding</span> = <span style=\"color: #008000; text-decoration-color: #008000\">'utf-8'</span>                                                                                 <span style=\"color: #000080; text-decoration-color: #000080\">│</span>\n",
       "<span style=\"color: #000080; text-decoration-color: #000080\">│</span>               <span style=\"color: #808000; text-decoration-color: #808000; font-style: italic\">headers</span> = <span style=\"font-weight: bold\">{</span><span style=\"color: #008000; text-decoration-color: #008000\">'date'</span>: <span style=\"color: #008000; text-decoration-color: #008000\">'Tue, 18 Apr 2023 21:39:13 GMT'</span>, <span style=\"color: #008000; text-decoration-color: #008000\">'server'</span>: <span style=\"color: #008000; text-decoration-color: #008000\">'uvicorn'</span>, <span style=\"color: #008000; text-decoration-color: #008000\">'content-length'</span>: <span style=\"color: #008000; text-decoration-color: #008000\">'119'</span>, <span style=\"color: #000080; text-decoration-color: #000080\">│</span>\n",
       "<span style=\"color: #000080; text-decoration-color: #000080\">│</span>                         <span style=\"color: #008000; text-decoration-color: #008000\">'content-type'</span>: <span style=\"color: #008000; text-decoration-color: #008000\">'application/json'</span><span style=\"font-weight: bold\">}</span>                                                     <span style=\"color: #000080; text-decoration-color: #000080\">│</span>\n",
       "<span style=\"color: #000080; text-decoration-color: #000080\">│</span>               <span style=\"color: #808000; text-decoration-color: #808000; font-style: italic\">history</span> = <span style=\"font-weight: bold\">[]</span>                                                                                      <span style=\"color: #000080; text-decoration-color: #000080\">│</span>\n",
       "<span style=\"color: #000080; text-decoration-color: #000080\">│</span> <span style=\"color: #808000; text-decoration-color: #808000; font-style: italic\">is_permanent_redirect</span> = <span style=\"color: #ff0000; text-decoration-color: #ff0000; font-style: italic\">False</span>                                                                                   <span style=\"color: #000080; text-decoration-color: #000080\">│</span>\n",
       "<span style=\"color: #000080; text-decoration-color: #000080\">│</span>           <span style=\"color: #808000; text-decoration-color: #808000; font-style: italic\">is_redirect</span> = <span style=\"color: #ff0000; text-decoration-color: #ff0000; font-style: italic\">False</span>                                                                                   <span style=\"color: #000080; text-decoration-color: #000080\">│</span>\n",
       "<span style=\"color: #000080; text-decoration-color: #000080\">│</span>                 <span style=\"color: #808000; text-decoration-color: #808000; font-style: italic\">links</span> = <span style=\"font-weight: bold\">{}</span>                                                                                      <span style=\"color: #000080; text-decoration-color: #000080\">│</span>\n",
       "<span style=\"color: #000080; text-decoration-color: #000080\">│</span>                  <span style=\"color: #808000; text-decoration-color: #808000; font-style: italic\">next</span> = <span style=\"color: #800080; text-decoration-color: #800080; font-style: italic\">None</span>                                                                                    <span style=\"color: #000080; text-decoration-color: #000080\">│</span>\n",
       "<span style=\"color: #000080; text-decoration-color: #000080\">│</span>                    <span style=\"color: #808000; text-decoration-color: #808000; font-style: italic\">ok</span> = <span style=\"color: #ff0000; text-decoration-color: #ff0000; font-style: italic\">False</span>                                                                                   <span style=\"color: #000080; text-decoration-color: #000080\">│</span>\n",
       "<span style=\"color: #000080; text-decoration-color: #000080\">│</span>                   <span style=\"color: #808000; text-decoration-color: #808000; font-style: italic\">raw</span> = <span style=\"font-weight: bold\">&lt;</span><span style=\"color: #ff00ff; text-decoration-color: #ff00ff; font-weight: bold\">urllib3.response.HTTPResponse</span><span style=\"color: #000000; text-decoration-color: #000000\"> object at </span><span style=\"color: #008080; text-decoration-color: #008080; font-weight: bold\">0x7f489232ec80</span><span style=\"font-weight: bold\">&gt;</span>                                <span style=\"color: #000080; text-decoration-color: #000080\">│</span>\n",
       "<span style=\"color: #000080; text-decoration-color: #000080\">│</span>                <span style=\"color: #808000; text-decoration-color: #808000; font-style: italic\">reason</span> = <span style=\"color: #008000; text-decoration-color: #008000\">'Not Found'</span>                                                                             <span style=\"color: #000080; text-decoration-color: #000080\">│</span>\n",
       "<span style=\"color: #000080; text-decoration-color: #000080\">│</span>               <span style=\"color: #808000; text-decoration-color: #808000; font-style: italic\">request</span> = <span style=\"font-weight: bold\">&lt;</span><span style=\"color: #ff00ff; text-decoration-color: #ff00ff; font-weight: bold\">PreparedRequest</span><span style=\"color: #000000; text-decoration-color: #000000\"> </span><span style=\"color: #000000; text-decoration-color: #000000; font-weight: bold\">[</span><span style=\"color: #000000; text-decoration-color: #000000\">GET</span><span style=\"color: #000000; text-decoration-color: #000000; font-weight: bold\">]</span><span style=\"font-weight: bold\">&gt;</span>                                                                 <span style=\"color: #000080; text-decoration-color: #000080\">│</span>\n",
       "<span style=\"color: #000080; text-decoration-color: #000080\">│</span>           <span style=\"color: #808000; text-decoration-color: #808000; font-style: italic\">status_code</span> = <span style=\"color: #008080; text-decoration-color: #008080; font-weight: bold\">404</span>                                                                                     <span style=\"color: #000080; text-decoration-color: #000080\">│</span>\n",
       "<span style=\"color: #000080; text-decoration-color: #000080\">│</span>                  <span style=\"color: #808000; text-decoration-color: #808000; font-style: italic\">text</span> = <span style=\"color: #008000; text-decoration-color: #008000\">'{\"detail\":\"Error accessing </span>                                                            <span style=\"color: #000080; text-decoration-color: #000080\">│</span>\n",
       "<span style=\"color: #000080; text-decoration-color: #000080\">│</span>                         <span style=\"color: #008000; text-decoration-color: #008000\">/scratch/06307/clos21/taccjm-ls6/jobs/test_20230418_163643dvirthhk/task-queue not found</span> <span style=\"color: #000080; text-decoration-color: #000080\">│</span>\n",
       "<span style=\"color: #000080; text-decoration-color: #000080\">│</span>                         <span style=\"color: #008000; text-decoration-color: #008000\">: \"}'</span>                                                                                   <span style=\"color: #000080; text-decoration-color: #000080\">│</span>\n",
       "<span style=\"color: #000080; text-decoration-color: #000080\">│</span>                   <span style=\"color: #808000; text-decoration-color: #808000; font-style: italic\">url</span> = <span style=\"color: #008000; text-decoration-color: #008000\">'http://0.0.0.0:8225/taccjm-ls6/lsr//scratch/06307/clos21/taccjm-ls6/jobs/test_2023041…</span> <span style=\"color: #000080; text-decoration-color: #000080\">│</span>\n",
       "<span style=\"color: #000080; text-decoration-color: #000080\">╰─────────────────────────────────────────────────────────────────────────────────────────────────────────────────╯</span>\n",
       "</pre>\n"
      ],
      "text/plain": [
       "\u001b[34m╭─\u001b[0m\u001b[34m─────────────────────────────────────\u001b[0m\u001b[34m \u001b[0m\u001b[1;34m<\u001b[0m\u001b[1;95mclass\u001b[0m\u001b[39m \u001b[0m\u001b[32m'requests.models.Response'\u001b[0m\u001b[1;34m>\u001b[0m\u001b[34m \u001b[0m\u001b[34m──────────────────────────────────────\u001b[0m\u001b[34m─╮\u001b[0m\n",
       "\u001b[34m│\u001b[0m \u001b[36mThe :class:`Response \u001b[0m\u001b[1;36m<\u001b[0m\u001b[1;95mResponse\u001b[0m\u001b[1;36m>\u001b[0m\u001b[36m` object, which contains a\u001b[0m                                                       \u001b[34m│\u001b[0m\n",
       "\u001b[34m│\u001b[0m \u001b[36mserver's response to an HTTP request.\u001b[0m                                                                           \u001b[34m│\u001b[0m\n",
       "\u001b[34m│\u001b[0m                                                                                                                 \u001b[34m│\u001b[0m\n",
       "\u001b[34m│\u001b[0m \u001b[32m╭─────────────────────────────────────────────────────────────────────────────────────────────────────────────╮\u001b[0m \u001b[34m│\u001b[0m\n",
       "\u001b[34m│\u001b[0m \u001b[32m│\u001b[0m \u001b[1m<\u001b[0m\u001b[1;95mResponse\u001b[0m\u001b[39m \u001b[0m\u001b[1;39m[\u001b[0m\u001b[1;36m404\u001b[0m\u001b[1;39m]\u001b[0m\u001b[1m>\u001b[0m                                                                                            \u001b[32m│\u001b[0m \u001b[34m│\u001b[0m\n",
       "\u001b[34m│\u001b[0m \u001b[32m╰─────────────────────────────────────────────────────────────────────────────────────────────────────────────╯\u001b[0m \u001b[34m│\u001b[0m\n",
       "\u001b[34m│\u001b[0m                                                                                                                 \u001b[34m│\u001b[0m\n",
       "\u001b[34m│\u001b[0m     \u001b[3;33mapparent_encoding\u001b[0m = \u001b[32m'ascii'\u001b[0m                                                                                 \u001b[34m│\u001b[0m\n",
       "\u001b[34m│\u001b[0m            \u001b[3;33mconnection\u001b[0m = \u001b[1m<\u001b[0m\u001b[1;95mrequests.adapters.HTTPAdapter\u001b[0m\u001b[39m object at \u001b[0m\u001b[1;36m0x7f48386833d0\u001b[0m\u001b[1m>\u001b[0m                                \u001b[34m│\u001b[0m\n",
       "\u001b[34m│\u001b[0m               \u001b[3;33mcontent\u001b[0m = \u001b[32mb'\u001b[0m\u001b[32m{\u001b[0m\u001b[32m\"detail\":\"Error accessing \u001b[0m                                                           \u001b[34m│\u001b[0m\n",
       "\u001b[34m│\u001b[0m                         \u001b[32m/scratch/06307/clos21/taccjm-ls6/jobs/test_20230418_163643dvirthhk/task-queue not found\u001b[0m \u001b[34m│\u001b[0m\n",
       "\u001b[34m│\u001b[0m                         \u001b[32m: \"\u001b[0m\u001b[32m}\u001b[0m\u001b[32m'\u001b[0m                                                                                   \u001b[34m│\u001b[0m\n",
       "\u001b[34m│\u001b[0m               \u001b[3;33mcookies\u001b[0m = \u001b[1m<\u001b[0m\u001b[1;95mRequestsCookieJar\u001b[0m\u001b[1;39m[\u001b[0m\u001b[1;39m]\u001b[0m\u001b[1m>\u001b[0m                                                                   \u001b[34m│\u001b[0m\n",
       "\u001b[34m│\u001b[0m               \u001b[3;33melapsed\u001b[0m = \u001b[1;35mdatetime.timedelta\u001b[0m\u001b[1m(\u001b[0m\u001b[33mseconds\u001b[0m=\u001b[1;36m1\u001b[0m, \u001b[33mmicroseconds\u001b[0m=\u001b[1;36m322526\u001b[0m\u001b[1m)\u001b[0m                                      \u001b[34m│\u001b[0m\n",
       "\u001b[34m│\u001b[0m              \u001b[3;33mencoding\u001b[0m = \u001b[32m'utf-8'\u001b[0m                                                                                 \u001b[34m│\u001b[0m\n",
       "\u001b[34m│\u001b[0m               \u001b[3;33mheaders\u001b[0m = \u001b[1m{\u001b[0m\u001b[32m'date'\u001b[0m: \u001b[32m'Tue, 18 Apr 2023 21:39:13 GMT'\u001b[0m, \u001b[32m'server'\u001b[0m: \u001b[32m'uvicorn'\u001b[0m, \u001b[32m'content-length'\u001b[0m: \u001b[32m'119'\u001b[0m, \u001b[34m│\u001b[0m\n",
       "\u001b[34m│\u001b[0m                         \u001b[32m'content-type'\u001b[0m: \u001b[32m'application/json'\u001b[0m\u001b[1m}\u001b[0m                                                     \u001b[34m│\u001b[0m\n",
       "\u001b[34m│\u001b[0m               \u001b[3;33mhistory\u001b[0m = \u001b[1m[\u001b[0m\u001b[1m]\u001b[0m                                                                                      \u001b[34m│\u001b[0m\n",
       "\u001b[34m│\u001b[0m \u001b[3;33mis_permanent_redirect\u001b[0m = \u001b[3;91mFalse\u001b[0m                                                                                   \u001b[34m│\u001b[0m\n",
       "\u001b[34m│\u001b[0m           \u001b[3;33mis_redirect\u001b[0m = \u001b[3;91mFalse\u001b[0m                                                                                   \u001b[34m│\u001b[0m\n",
       "\u001b[34m│\u001b[0m                 \u001b[3;33mlinks\u001b[0m = \u001b[1m{\u001b[0m\u001b[1m}\u001b[0m                                                                                      \u001b[34m│\u001b[0m\n",
       "\u001b[34m│\u001b[0m                  \u001b[3;33mnext\u001b[0m = \u001b[3;35mNone\u001b[0m                                                                                    \u001b[34m│\u001b[0m\n",
       "\u001b[34m│\u001b[0m                    \u001b[3;33mok\u001b[0m = \u001b[3;91mFalse\u001b[0m                                                                                   \u001b[34m│\u001b[0m\n",
       "\u001b[34m│\u001b[0m                   \u001b[3;33mraw\u001b[0m = \u001b[1m<\u001b[0m\u001b[1;95murllib3.response.HTTPResponse\u001b[0m\u001b[39m object at \u001b[0m\u001b[1;36m0x7f489232ec80\u001b[0m\u001b[1m>\u001b[0m                                \u001b[34m│\u001b[0m\n",
       "\u001b[34m│\u001b[0m                \u001b[3;33mreason\u001b[0m = \u001b[32m'Not Found'\u001b[0m                                                                             \u001b[34m│\u001b[0m\n",
       "\u001b[34m│\u001b[0m               \u001b[3;33mrequest\u001b[0m = \u001b[1m<\u001b[0m\u001b[1;95mPreparedRequest\u001b[0m\u001b[39m \u001b[0m\u001b[1;39m[\u001b[0m\u001b[39mGET\u001b[0m\u001b[1;39m]\u001b[0m\u001b[1m>\u001b[0m                                                                 \u001b[34m│\u001b[0m\n",
       "\u001b[34m│\u001b[0m           \u001b[3;33mstatus_code\u001b[0m = \u001b[1;36m404\u001b[0m                                                                                     \u001b[34m│\u001b[0m\n",
       "\u001b[34m│\u001b[0m                  \u001b[3;33mtext\u001b[0m = \u001b[32m'\u001b[0m\u001b[32m{\u001b[0m\u001b[32m\"detail\":\"Error accessing \u001b[0m                                                            \u001b[34m│\u001b[0m\n",
       "\u001b[34m│\u001b[0m                         \u001b[32m/scratch/06307/clos21/taccjm-ls6/jobs/test_20230418_163643dvirthhk/task-queue not found\u001b[0m \u001b[34m│\u001b[0m\n",
       "\u001b[34m│\u001b[0m                         \u001b[32m: \"\u001b[0m\u001b[32m}\u001b[0m\u001b[32m'\u001b[0m                                                                                   \u001b[34m│\u001b[0m\n",
       "\u001b[34m│\u001b[0m                   \u001b[3;33murl\u001b[0m = \u001b[32m'http://0.0.0.0:8225/taccjm-ls6/lsr//scratch/06307/clos21/taccjm-ls6/jobs/test_2023041…\u001b[0m \u001b[34m│\u001b[0m\n",
       "\u001b[34m╰─────────────────────────────────────────────────────────────────────────────────────────────────────────────────╯\u001b[0m\n"
      ]
     },
     "metadata": {},
     "output_type": "display_data"
    },
    {
     "data": {
      "text/html": [
       "<pre style=\"white-space:pre;overflow-x:auto;line-height:normal;font-family:Menlo,'DejaVu Sans Mono',consolas,'Courier New',monospace\"><span style=\"color: #800000; text-decoration-color: #800000\">╭─────────────────────────────── </span><span style=\"color: #800000; text-decoration-color: #800000; font-weight: bold\">Traceback </span><span style=\"color: #bf7f7f; text-decoration-color: #bf7f7f; font-weight: bold\">(most recent call last)</span><span style=\"color: #800000; text-decoration-color: #800000\"> ────────────────────────────────╮</span>\n",
       "<span style=\"color: #800000; text-decoration-color: #800000\">│</span> in <span style=\"color: #00ff00; text-decoration-color: #00ff00\">&lt;module&gt;</span>:<span style=\"color: #0000ff; text-decoration-color: #0000ff\">1</span>                                                                                    <span style=\"color: #800000; text-decoration-color: #800000\">│</span>\n",
       "<span style=\"color: #800000; text-decoration-color: #800000\">│</span>                                                                                                  <span style=\"color: #800000; text-decoration-color: #800000\">│</span>\n",
       "<span style=\"color: #800000; text-decoration-color: #800000\">│</span> <span style=\"color: #800000; text-decoration-color: #800000\">❱ </span>1 sim.client.list_files(<span style=\"color: #808000; text-decoration-color: #808000\">\"task-queue\"</span>, job_id=job_config[<span style=\"color: #808000; text-decoration-color: #808000\">\"job_id\"</span>], recurse=<span style=\"color: #0000ff; text-decoration-color: #0000ff\">True</span>)               <span style=\"color: #800000; text-decoration-color: #800000\">│</span>\n",
       "<span style=\"color: #800000; text-decoration-color: #800000\">│</span>   <span style=\"color: #7f7f7f; text-decoration-color: #7f7f7f\">2 </span>                                                                                             <span style=\"color: #800000; text-decoration-color: #800000\">│</span>\n",
       "<span style=\"color: #800000; text-decoration-color: #800000\">│</span>                                                                                                  <span style=\"color: #800000; text-decoration-color: #800000\">│</span>\n",
       "<span style=\"color: #800000; text-decoration-color: #800000\">│</span> <span style=\"color: #bfbf7f; text-decoration-color: #bfbf7f\">/home/jovyan/work/repos/taccjm_ds/src/taccjm/client/</span><span style=\"color: #808000; text-decoration-color: #808000; font-weight: bold\">TACCClient.py</span>:<span style=\"color: #0000ff; text-decoration-color: #0000ff\">199</span> in <span style=\"color: #00ff00; text-decoration-color: #00ff00\">list_files</span>              <span style=\"color: #800000; text-decoration-color: #800000\">│</span>\n",
       "<span style=\"color: #800000; text-decoration-color: #800000\">│</span>                                                                                                  <span style=\"color: #800000; text-decoration-color: #800000\">│</span>\n",
       "<span style=\"color: #800000; text-decoration-color: #800000\">│</span>   <span style=\"color: #7f7f7f; text-decoration-color: #7f7f7f\"> 196 │   │   </span><span style=\"color: #0000ff; text-decoration-color: #0000ff\">if</span> <span style=\"color: #00ffff; text-decoration-color: #00ffff\">self</span>.ssh_client <span style=\"color: #ff00ff; text-decoration-color: #ff00ff\">is</span> <span style=\"color: #0000ff; text-decoration-color: #0000ff\">None</span> <span style=\"color: #ff00ff; text-decoration-color: #ff00ff\">or</span> local:                                              <span style=\"color: #800000; text-decoration-color: #800000\">│</span>\n",
       "<span style=\"color: #800000; text-decoration-color: #800000\">│</span>   <span style=\"color: #7f7f7f; text-decoration-color: #7f7f7f\"> 197 │   │   │   </span><span style=\"color: #0000ff; text-decoration-color: #0000ff\">return</span> stat_all_files_and_folders(path, recurse=recurse)                      <span style=\"color: #800000; text-decoration-color: #800000\">│</span>\n",
       "<span style=\"color: #800000; text-decoration-color: #800000\">│</span>   <span style=\"color: #7f7f7f; text-decoration-color: #7f7f7f\"> 198 │   │   </span><span style=\"color: #0000ff; text-decoration-color: #0000ff\">else</span>:                                                                             <span style=\"color: #800000; text-decoration-color: #800000\">│</span>\n",
       "<span style=\"color: #800000; text-decoration-color: #800000\">│</span> <span style=\"color: #800000; text-decoration-color: #800000\">❱ </span> 199 <span style=\"color: #7f7f7f; text-decoration-color: #7f7f7f\">│   │   │   </span><span style=\"color: #0000ff; text-decoration-color: #0000ff\">return</span> tsa.list_files(                                                        <span style=\"color: #800000; text-decoration-color: #800000\">│</span>\n",
       "<span style=\"color: #800000; text-decoration-color: #800000\">│</span>   <span style=\"color: #7f7f7f; text-decoration-color: #7f7f7f\"> 200 │   │   │   │   </span><span style=\"color: #00ffff; text-decoration-color: #00ffff\">self</span>.id,                                                                  <span style=\"color: #800000; text-decoration-color: #800000\">│</span>\n",
       "<span style=\"color: #800000; text-decoration-color: #800000\">│</span>   <span style=\"color: #7f7f7f; text-decoration-color: #7f7f7f\"> 201 │   │   │   │   </span>path=path,                                                                <span style=\"color: #800000; text-decoration-color: #800000\">│</span>\n",
       "<span style=\"color: #800000; text-decoration-color: #800000\">│</span>   <span style=\"color: #7f7f7f; text-decoration-color: #7f7f7f\"> 202 │   │   │   │   </span>attrs=attrs,                                                              <span style=\"color: #800000; text-decoration-color: #800000\">│</span>\n",
       "<span style=\"color: #800000; text-decoration-color: #800000\">│</span>                                                                                                  <span style=\"color: #800000; text-decoration-color: #800000\">│</span>\n",
       "<span style=\"color: #800000; text-decoration-color: #800000\">│</span> <span style=\"color: #bfbf7f; text-decoration-color: #bfbf7f\">/home/jovyan/work/repos/taccjm_ds/src/taccjm/client/</span><span style=\"color: #808000; text-decoration-color: #808000; font-weight: bold\">tacc_ssh_api.py</span>:<span style=\"color: #0000ff; text-decoration-color: #0000ff\">536</span> in <span style=\"color: #00ff00; text-decoration-color: #00ff00\">list_files</span>            <span style=\"color: #800000; text-decoration-color: #800000\">│</span>\n",
       "<span style=\"color: #800000; text-decoration-color: #800000\">│</span>                                                                                                  <span style=\"color: #800000; text-decoration-color: #800000\">│</span>\n",
       "<span style=\"color: #800000; text-decoration-color: #800000\">│</span>   <span style=\"color: #7f7f7f; text-decoration-color: #7f7f7f\">533 │   </span><span style=\"color: #0000ff; text-decoration-color: #0000ff\">except</span> TACCJMError <span style=\"color: #0000ff; text-decoration-color: #0000ff\">as</span> e:                                                               <span style=\"color: #800000; text-decoration-color: #800000\">│</span>\n",
       "<span style=\"color: #800000; text-decoration-color: #800000\">│</span>   <span style=\"color: #7f7f7f; text-decoration-color: #7f7f7f\">534 │   │   </span>e.message = <span style=\"color: #808000; text-decoration-color: #808000\">\"list_files error\"</span>                                                     <span style=\"color: #800000; text-decoration-color: #800000\">│</span>\n",
       "<span style=\"color: #800000; text-decoration-color: #800000\">│</span>   <span style=\"color: #7f7f7f; text-decoration-color: #7f7f7f\">535 │   │   </span>logger.error(e.message)                                                            <span style=\"color: #800000; text-decoration-color: #800000\">│</span>\n",
       "<span style=\"color: #800000; text-decoration-color: #800000\">│</span> <span style=\"color: #800000; text-decoration-color: #800000\">❱ </span>536 <span style=\"color: #7f7f7f; text-decoration-color: #7f7f7f\">│   │   </span><span style=\"color: #0000ff; text-decoration-color: #0000ff\">raise</span> e                                                                            <span style=\"color: #800000; text-decoration-color: #800000\">│</span>\n",
       "<span style=\"color: #800000; text-decoration-color: #800000\">│</span>   <span style=\"color: #7f7f7f; text-decoration-color: #7f7f7f\">537 │   </span>                                                                                       <span style=\"color: #800000; text-decoration-color: #800000\">│</span>\n",
       "<span style=\"color: #800000; text-decoration-color: #800000\">│</span>   <span style=\"color: #7f7f7f; text-decoration-color: #7f7f7f\">538 │   </span>files = filter_files(files, attrs=attrs, hidden=hidden, search=search, match=match)    <span style=\"color: #800000; text-decoration-color: #800000\">│</span>\n",
       "<span style=\"color: #800000; text-decoration-color: #800000\">│</span>   <span style=\"color: #7f7f7f; text-decoration-color: #7f7f7f\">539 </span>                                                                                           <span style=\"color: #800000; text-decoration-color: #800000\">│</span>\n",
       "<span style=\"color: #800000; text-decoration-color: #800000\">│</span>                                                                                                  <span style=\"color: #800000; text-decoration-color: #800000\">│</span>\n",
       "<span style=\"color: #800000; text-decoration-color: #800000\">│</span> <span style=\"color: #bfbf7f; text-decoration-color: #bfbf7f\">/home/jovyan/work/repos/taccjm_ds/src/taccjm/client/</span><span style=\"color: #808000; text-decoration-color: #808000; font-weight: bold\">tacc_ssh_api.py</span>:<span style=\"color: #0000ff; text-decoration-color: #0000ff\">532</span> in <span style=\"color: #00ff00; text-decoration-color: #00ff00\">list_files</span>            <span style=\"color: #800000; text-decoration-color: #800000\">│</span>\n",
       "<span style=\"color: #800000; text-decoration-color: #800000\">│</span>                                                                                                  <span style=\"color: #800000; text-decoration-color: #800000\">│</span>\n",
       "<span style=\"color: #800000; text-decoration-color: #800000\">│</span>   <span style=\"color: #7f7f7f; text-decoration-color: #7f7f7f\">529 │   </span>endpoint = <span style=\"color: #808000; text-decoration-color: #808000\">\"ls\"</span> <span style=\"color: #0000ff; text-decoration-color: #0000ff\">if</span> <span style=\"color: #ff00ff; text-decoration-color: #ff00ff\">not</span> recurse <span style=\"color: #0000ff; text-decoration-color: #0000ff\">else</span> <span style=\"color: #808000; text-decoration-color: #808000\">\"lsr\"</span>                                              <span style=\"color: #800000; text-decoration-color: #800000\">│</span>\n",
       "<span style=\"color: #800000; text-decoration-color: #800000\">│</span>   <span style=\"color: #7f7f7f; text-decoration-color: #7f7f7f\">530 │   </span>                                                                                       <span style=\"color: #800000; text-decoration-color: #800000\">│</span>\n",
       "<span style=\"color: #800000; text-decoration-color: #800000\">│</span>   <span style=\"color: #7f7f7f; text-decoration-color: #7f7f7f\">531 │   </span><span style=\"color: #0000ff; text-decoration-color: #0000ff\">try</span>:                                                                                   <span style=\"color: #800000; text-decoration-color: #800000\">│</span>\n",
       "<span style=\"color: #800000; text-decoration-color: #800000\">│</span> <span style=\"color: #800000; text-decoration-color: #800000\">❱ </span>532 <span style=\"color: #7f7f7f; text-decoration-color: #7f7f7f\">│   │   </span>files = api_call(<span style=\"color: #808000; text-decoration-color: #808000\">\"GET\"</span>, <span style=\"color: #808000; text-decoration-color: #808000\">f\"{</span>connection_id<span style=\"color: #808000; text-decoration-color: #808000\">}/{</span>endpoint<span style=\"color: #808000; text-decoration-color: #808000\">}/{</span>path<span style=\"color: #808000; text-decoration-color: #808000\">}\"</span>)                      <span style=\"color: #800000; text-decoration-color: #800000\">│</span>\n",
       "<span style=\"color: #800000; text-decoration-color: #800000\">│</span>   <span style=\"color: #7f7f7f; text-decoration-color: #7f7f7f\">533 │   </span><span style=\"color: #0000ff; text-decoration-color: #0000ff\">except</span> TACCJMError <span style=\"color: #0000ff; text-decoration-color: #0000ff\">as</span> e:                                                               <span style=\"color: #800000; text-decoration-color: #800000\">│</span>\n",
       "<span style=\"color: #800000; text-decoration-color: #800000\">│</span>   <span style=\"color: #7f7f7f; text-decoration-color: #7f7f7f\">534 │   │   </span>e.message = <span style=\"color: #808000; text-decoration-color: #808000\">\"list_files error\"</span>                                                     <span style=\"color: #800000; text-decoration-color: #800000\">│</span>\n",
       "<span style=\"color: #800000; text-decoration-color: #800000\">│</span>   <span style=\"color: #7f7f7f; text-decoration-color: #7f7f7f\">535 │   │   </span>logger.error(e.message)                                                            <span style=\"color: #800000; text-decoration-color: #800000\">│</span>\n",
       "<span style=\"color: #800000; text-decoration-color: #800000\">│</span>                                                                                                  <span style=\"color: #800000; text-decoration-color: #800000\">│</span>\n",
       "<span style=\"color: #800000; text-decoration-color: #800000\">│</span> <span style=\"color: #bfbf7f; text-decoration-color: #bfbf7f\">/home/jovyan/work/repos/taccjm_ds/src/taccjm/client/</span><span style=\"color: #808000; text-decoration-color: #808000; font-weight: bold\">tacc_ssh_api.py</span>:<span style=\"color: #0000ff; text-decoration-color: #0000ff\">266</span> in <span style=\"color: #00ff00; text-decoration-color: #00ff00\">api_call</span>              <span style=\"color: #800000; text-decoration-color: #800000\">│</span>\n",
       "<span style=\"color: #800000; text-decoration-color: #800000\">│</span>                                                                                                  <span style=\"color: #800000; text-decoration-color: #800000\">│</span>\n",
       "<span style=\"color: #800000; text-decoration-color: #800000\">│</span>   <span style=\"color: #7f7f7f; text-decoration-color: #7f7f7f\">263 │   │   </span><span style=\"color: #0000ff; text-decoration-color: #0000ff\">return</span> json.loads(res.text)                                                        <span style=\"color: #800000; text-decoration-color: #800000\">│</span>\n",
       "<span style=\"color: #800000; text-decoration-color: #800000\">│</span>   <span style=\"color: #7f7f7f; text-decoration-color: #7f7f7f\">264 │   </span><span style=\"color: #0000ff; text-decoration-color: #0000ff\">else</span>:                                                                                  <span style=\"color: #800000; text-decoration-color: #800000\">│</span>\n",
       "<span style=\"color: #800000; text-decoration-color: #800000\">│</span>   <span style=\"color: #7f7f7f; text-decoration-color: #7f7f7f\">265 │   │   </span>inspect(res)                                                                       <span style=\"color: #800000; text-decoration-color: #800000\">│</span>\n",
       "<span style=\"color: #800000; text-decoration-color: #800000\">│</span> <span style=\"color: #800000; text-decoration-color: #800000\">❱ </span>266 <span style=\"color: #7f7f7f; text-decoration-color: #7f7f7f\">│   │   </span><span style=\"color: #0000ff; text-decoration-color: #0000ff\">raise</span> TACCJMError(res)                                                             <span style=\"color: #800000; text-decoration-color: #800000\">│</span>\n",
       "<span style=\"color: #800000; text-decoration-color: #800000\">│</span>   <span style=\"color: #7f7f7f; text-decoration-color: #7f7f7f\">267 </span>                                                                                           <span style=\"color: #800000; text-decoration-color: #800000\">│</span>\n",
       "<span style=\"color: #800000; text-decoration-color: #800000\">│</span>   <span style=\"color: #7f7f7f; text-decoration-color: #7f7f7f\">268 </span>                                                                                           <span style=\"color: #800000; text-decoration-color: #800000\">│</span>\n",
       "<span style=\"color: #800000; text-decoration-color: #800000\">│</span>   <span style=\"color: #7f7f7f; text-decoration-color: #7f7f7f\">269 </span><span style=\"color: #0000ff; text-decoration-color: #0000ff\">def</span> <span style=\"color: #00ff00; text-decoration-color: #00ff00\">list_sessions</span>() -&gt; List[<span style=\"color: #00ffff; text-decoration-color: #00ffff\">str</span>]:                                                          <span style=\"color: #800000; text-decoration-color: #800000\">│</span>\n",
       "<span style=\"color: #800000; text-decoration-color: #800000\">╰──────────────────────────────────────────────────────────────────────────────────────────────────╯</span>\n",
       "<span style=\"color: #ff0000; text-decoration-color: #ff0000; font-weight: bold\">TACCJMError: </span><span style=\"font-weight: bold\">&lt;</span><span style=\"color: #ff00ff; text-decoration-color: #ff00ff; font-weight: bold\">Response</span><span style=\"color: #000000; text-decoration-color: #000000\"> </span><span style=\"color: #000000; text-decoration-color: #000000; font-weight: bold\">[</span><span style=\"color: #008080; text-decoration-color: #008080; font-weight: bold\">404</span><span style=\"color: #000000; text-decoration-color: #000000; font-weight: bold\">]</span><span style=\"font-weight: bold\">&gt;</span>Unable to parse json errors. Raw content:<span style=\"font-weight: bold\">{</span><span style=\"color: #008000; text-decoration-color: #008000\">\"detail\"</span>:<span style=\"color: #008000; text-decoration-color: #008000\">\"Error accessing </span>\n",
       "<span style=\"color: #008000; text-decoration-color: #008000\">/scratch/06307/clos21/taccjm-ls6/jobs/test_20230418_163643dvirthhk/task-queue not found : \"</span><span style=\"font-weight: bold\">}</span>\n",
       "</pre>\n"
      ],
      "text/plain": [
       "\u001b[31m╭─\u001b[0m\u001b[31m──────────────────────────────\u001b[0m\u001b[31m \u001b[0m\u001b[1;31mTraceback \u001b[0m\u001b[1;2;31m(most recent call last)\u001b[0m\u001b[31m \u001b[0m\u001b[31m───────────────────────────────\u001b[0m\u001b[31m─╮\u001b[0m\n",
       "\u001b[31m│\u001b[0m in \u001b[92m<module>\u001b[0m:\u001b[94m1\u001b[0m                                                                                    \u001b[31m│\u001b[0m\n",
       "\u001b[31m│\u001b[0m                                                                                                  \u001b[31m│\u001b[0m\n",
       "\u001b[31m│\u001b[0m \u001b[31m❱ \u001b[0m1 sim.client.list_files(\u001b[33m\"\u001b[0m\u001b[33mtask-queue\u001b[0m\u001b[33m\"\u001b[0m, job_id=job_config[\u001b[33m\"\u001b[0m\u001b[33mjob_id\u001b[0m\u001b[33m\"\u001b[0m], recurse=\u001b[94mTrue\u001b[0m)               \u001b[31m│\u001b[0m\n",
       "\u001b[31m│\u001b[0m   \u001b[2m2 \u001b[0m                                                                                             \u001b[31m│\u001b[0m\n",
       "\u001b[31m│\u001b[0m                                                                                                  \u001b[31m│\u001b[0m\n",
       "\u001b[31m│\u001b[0m \u001b[2;33m/home/jovyan/work/repos/taccjm_ds/src/taccjm/client/\u001b[0m\u001b[1;33mTACCClient.py\u001b[0m:\u001b[94m199\u001b[0m in \u001b[92mlist_files\u001b[0m              \u001b[31m│\u001b[0m\n",
       "\u001b[31m│\u001b[0m                                                                                                  \u001b[31m│\u001b[0m\n",
       "\u001b[31m│\u001b[0m   \u001b[2m 196 \u001b[0m\u001b[2m│   │   \u001b[0m\u001b[94mif\u001b[0m \u001b[96mself\u001b[0m.ssh_client \u001b[95mis\u001b[0m \u001b[94mNone\u001b[0m \u001b[95mor\u001b[0m local:                                              \u001b[31m│\u001b[0m\n",
       "\u001b[31m│\u001b[0m   \u001b[2m 197 \u001b[0m\u001b[2m│   │   │   \u001b[0m\u001b[94mreturn\u001b[0m stat_all_files_and_folders(path, recurse=recurse)                      \u001b[31m│\u001b[0m\n",
       "\u001b[31m│\u001b[0m   \u001b[2m 198 \u001b[0m\u001b[2m│   │   \u001b[0m\u001b[94melse\u001b[0m:                                                                             \u001b[31m│\u001b[0m\n",
       "\u001b[31m│\u001b[0m \u001b[31m❱ \u001b[0m 199 \u001b[2m│   │   │   \u001b[0m\u001b[94mreturn\u001b[0m tsa.list_files(                                                        \u001b[31m│\u001b[0m\n",
       "\u001b[31m│\u001b[0m   \u001b[2m 200 \u001b[0m\u001b[2m│   │   │   │   \u001b[0m\u001b[96mself\u001b[0m.id,                                                                  \u001b[31m│\u001b[0m\n",
       "\u001b[31m│\u001b[0m   \u001b[2m 201 \u001b[0m\u001b[2m│   │   │   │   \u001b[0mpath=path,                                                                \u001b[31m│\u001b[0m\n",
       "\u001b[31m│\u001b[0m   \u001b[2m 202 \u001b[0m\u001b[2m│   │   │   │   \u001b[0mattrs=attrs,                                                              \u001b[31m│\u001b[0m\n",
       "\u001b[31m│\u001b[0m                                                                                                  \u001b[31m│\u001b[0m\n",
       "\u001b[31m│\u001b[0m \u001b[2;33m/home/jovyan/work/repos/taccjm_ds/src/taccjm/client/\u001b[0m\u001b[1;33mtacc_ssh_api.py\u001b[0m:\u001b[94m536\u001b[0m in \u001b[92mlist_files\u001b[0m            \u001b[31m│\u001b[0m\n",
       "\u001b[31m│\u001b[0m                                                                                                  \u001b[31m│\u001b[0m\n",
       "\u001b[31m│\u001b[0m   \u001b[2m533 \u001b[0m\u001b[2m│   \u001b[0m\u001b[94mexcept\u001b[0m TACCJMError \u001b[94mas\u001b[0m e:                                                               \u001b[31m│\u001b[0m\n",
       "\u001b[31m│\u001b[0m   \u001b[2m534 \u001b[0m\u001b[2m│   │   \u001b[0me.message = \u001b[33m\"\u001b[0m\u001b[33mlist_files error\u001b[0m\u001b[33m\"\u001b[0m                                                     \u001b[31m│\u001b[0m\n",
       "\u001b[31m│\u001b[0m   \u001b[2m535 \u001b[0m\u001b[2m│   │   \u001b[0mlogger.error(e.message)                                                            \u001b[31m│\u001b[0m\n",
       "\u001b[31m│\u001b[0m \u001b[31m❱ \u001b[0m536 \u001b[2m│   │   \u001b[0m\u001b[94mraise\u001b[0m e                                                                            \u001b[31m│\u001b[0m\n",
       "\u001b[31m│\u001b[0m   \u001b[2m537 \u001b[0m\u001b[2m│   \u001b[0m                                                                                       \u001b[31m│\u001b[0m\n",
       "\u001b[31m│\u001b[0m   \u001b[2m538 \u001b[0m\u001b[2m│   \u001b[0mfiles = filter_files(files, attrs=attrs, hidden=hidden, search=search, match=match)    \u001b[31m│\u001b[0m\n",
       "\u001b[31m│\u001b[0m   \u001b[2m539 \u001b[0m                                                                                           \u001b[31m│\u001b[0m\n",
       "\u001b[31m│\u001b[0m                                                                                                  \u001b[31m│\u001b[0m\n",
       "\u001b[31m│\u001b[0m \u001b[2;33m/home/jovyan/work/repos/taccjm_ds/src/taccjm/client/\u001b[0m\u001b[1;33mtacc_ssh_api.py\u001b[0m:\u001b[94m532\u001b[0m in \u001b[92mlist_files\u001b[0m            \u001b[31m│\u001b[0m\n",
       "\u001b[31m│\u001b[0m                                                                                                  \u001b[31m│\u001b[0m\n",
       "\u001b[31m│\u001b[0m   \u001b[2m529 \u001b[0m\u001b[2m│   \u001b[0mendpoint = \u001b[33m\"\u001b[0m\u001b[33mls\u001b[0m\u001b[33m\"\u001b[0m \u001b[94mif\u001b[0m \u001b[95mnot\u001b[0m recurse \u001b[94melse\u001b[0m \u001b[33m\"\u001b[0m\u001b[33mlsr\u001b[0m\u001b[33m\"\u001b[0m                                              \u001b[31m│\u001b[0m\n",
       "\u001b[31m│\u001b[0m   \u001b[2m530 \u001b[0m\u001b[2m│   \u001b[0m                                                                                       \u001b[31m│\u001b[0m\n",
       "\u001b[31m│\u001b[0m   \u001b[2m531 \u001b[0m\u001b[2m│   \u001b[0m\u001b[94mtry\u001b[0m:                                                                                   \u001b[31m│\u001b[0m\n",
       "\u001b[31m│\u001b[0m \u001b[31m❱ \u001b[0m532 \u001b[2m│   │   \u001b[0mfiles = api_call(\u001b[33m\"\u001b[0m\u001b[33mGET\u001b[0m\u001b[33m\"\u001b[0m, \u001b[33mf\u001b[0m\u001b[33m\"\u001b[0m\u001b[33m{\u001b[0mconnection_id\u001b[33m}\u001b[0m\u001b[33m/\u001b[0m\u001b[33m{\u001b[0mendpoint\u001b[33m}\u001b[0m\u001b[33m/\u001b[0m\u001b[33m{\u001b[0mpath\u001b[33m}\u001b[0m\u001b[33m\"\u001b[0m)                      \u001b[31m│\u001b[0m\n",
       "\u001b[31m│\u001b[0m   \u001b[2m533 \u001b[0m\u001b[2m│   \u001b[0m\u001b[94mexcept\u001b[0m TACCJMError \u001b[94mas\u001b[0m e:                                                               \u001b[31m│\u001b[0m\n",
       "\u001b[31m│\u001b[0m   \u001b[2m534 \u001b[0m\u001b[2m│   │   \u001b[0me.message = \u001b[33m\"\u001b[0m\u001b[33mlist_files error\u001b[0m\u001b[33m\"\u001b[0m                                                     \u001b[31m│\u001b[0m\n",
       "\u001b[31m│\u001b[0m   \u001b[2m535 \u001b[0m\u001b[2m│   │   \u001b[0mlogger.error(e.message)                                                            \u001b[31m│\u001b[0m\n",
       "\u001b[31m│\u001b[0m                                                                                                  \u001b[31m│\u001b[0m\n",
       "\u001b[31m│\u001b[0m \u001b[2;33m/home/jovyan/work/repos/taccjm_ds/src/taccjm/client/\u001b[0m\u001b[1;33mtacc_ssh_api.py\u001b[0m:\u001b[94m266\u001b[0m in \u001b[92mapi_call\u001b[0m              \u001b[31m│\u001b[0m\n",
       "\u001b[31m│\u001b[0m                                                                                                  \u001b[31m│\u001b[0m\n",
       "\u001b[31m│\u001b[0m   \u001b[2m263 \u001b[0m\u001b[2m│   │   \u001b[0m\u001b[94mreturn\u001b[0m json.loads(res.text)                                                        \u001b[31m│\u001b[0m\n",
       "\u001b[31m│\u001b[0m   \u001b[2m264 \u001b[0m\u001b[2m│   \u001b[0m\u001b[94melse\u001b[0m:                                                                                  \u001b[31m│\u001b[0m\n",
       "\u001b[31m│\u001b[0m   \u001b[2m265 \u001b[0m\u001b[2m│   │   \u001b[0minspect(res)                                                                       \u001b[31m│\u001b[0m\n",
       "\u001b[31m│\u001b[0m \u001b[31m❱ \u001b[0m266 \u001b[2m│   │   \u001b[0m\u001b[94mraise\u001b[0m TACCJMError(res)                                                             \u001b[31m│\u001b[0m\n",
       "\u001b[31m│\u001b[0m   \u001b[2m267 \u001b[0m                                                                                           \u001b[31m│\u001b[0m\n",
       "\u001b[31m│\u001b[0m   \u001b[2m268 \u001b[0m                                                                                           \u001b[31m│\u001b[0m\n",
       "\u001b[31m│\u001b[0m   \u001b[2m269 \u001b[0m\u001b[94mdef\u001b[0m \u001b[92mlist_sessions\u001b[0m() -> List[\u001b[96mstr\u001b[0m]:                                                          \u001b[31m│\u001b[0m\n",
       "\u001b[31m╰──────────────────────────────────────────────────────────────────────────────────────────────────╯\u001b[0m\n",
       "\u001b[1;91mTACCJMError: \u001b[0m\u001b[1m<\u001b[0m\u001b[1;95mResponse\u001b[0m\u001b[39m \u001b[0m\u001b[1;39m[\u001b[0m\u001b[1;36m404\u001b[0m\u001b[1;39m]\u001b[0m\u001b[1m>\u001b[0mUnable to parse json errors. Raw content:\u001b[1m{\u001b[0m\u001b[32m\"detail\"\u001b[0m:\u001b[32m\"Error accessing \u001b[0m\n",
       "\u001b[32m/scratch/06307/clos21/taccjm-ls6/jobs/test_20230418_163643dvirthhk/task-queue not found : \"\u001b[0m\u001b[1m}\u001b[0m\n"
      ]
     },
     "metadata": {},
     "output_type": "display_data"
    }
   ],
   "source": [
    "sim.client.list_files(\"task-queue\", job_id=job_config[\"job_id\"], recurse=True)"
   ]
  },
  {
   "cell_type": "code",
   "execution_count": 13,
   "id": "e4b88a2b-8a3a-4fb1-9894-fcb9dec7f6c0",
   "metadata": {},
   "outputs": [
    {
     "data": {
      "text/plain": [
       "'data'"
      ]
     },
     "execution_count": 13,
     "metadata": {},
     "output_type": "execute_result"
    }
   ],
   "source": [
    "sim.client.download(\"\", \"data\", job_id=job_config[\"job_id\"])"
   ]
  },
  {
   "cell_type": "markdown",
   "id": "47ee8f64-873f-4e20-9214-5904a0589397",
   "metadata": {},
   "source": [
    "## Local Test"
   ]
  },
  {
   "cell_type": "code",
   "execution_count": 4,
   "id": "ef77a686-2854-45b8-b07c-daf0779b5509",
   "metadata": {},
   "outputs": [],
   "source": [
    "# Move TACC System\n",
    "\n",
    "\n",
    "def mock_tacc():\n",
    "    system = \"ls6\"\n",
    "    os.environ[\"HOSTNAME\"] = f\"login2.{system}.tacc.utexas.edu\"\n",
    "    os.environ[\"SCRATCH\"] = str(Path.cwd() / \"data/test-scratch\")\n",
    "    os.environ[\"HOME\"] = str(Path.cwd() / \"data/test-home\")\n",
    "    os.environ[\"WORK\"] = str(Path.cwd() / \"data/test-work\")\n",
    "\n",
    "\n",
    "def unmock_tacc():\n",
    "    os.environ[\"HOSTNAME\"] = \"\"\n",
    "    os.environ[\"SCRATCH\"] = \"\"\n",
    "    os.environ[\"HOME\"] = \"\"\n",
    "    os.environ[\"WORK\"] = \"\""
   ]
  },
  {
   "cell_type": "code",
   "execution_count": 5,
   "id": "bc166557-84dc-4d01-bd93-c603ab867741",
   "metadata": {},
   "outputs": [
    {
     "data": {
      "text/plain": [
       "<module 'taccjm.EnsembleTACCSimulation' from '/home/jovyan/work/repos/taccjm/src/taccjm/EnsembleTACCSimulation.py'>"
      ]
     },
     "execution_count": 5,
     "metadata": {},
     "output_type": "execute_result"
    }
   ],
   "source": [
    "import importlib\n",
    "\n",
    "importlib.reload(EnsembleTACCSimulation)"
   ]
  },
  {
   "cell_type": "code",
   "execution_count": 6,
   "id": "e5f24763-2cb8-4cae-a860-01524aae0044",
   "metadata": {},
   "outputs": [
    {
     "name": "stdout",
     "output_type": "stream",
     "text": [
      "{\"asctime\": \"2023-02-14 13:18:27,294\", \"name\": \"taccjm.TACCSimulation\", \"levelname\": \"INFO\", \"message\": \"Logger taccjm.TACCSimulation initialized\", \"config\": {\"output\": \"<ipykernel.iostream.OutStream object at 0x7fd23221b850>\", \"fmt\": \"json\", \"level\": 20}}\n",
      "{\"asctime\": \"2023-02-14 13:18:27,296\", \"name\": \"taccjm.TACCSimulation\", \"levelname\": \"INFO\", \"message\": \"Running from inherited class at /home/jovyan/work/repos/taccjm/src/taccjm/EnsembleTACCSimulation.py\"}\n",
      "{\"asctime\": \"2023-02-14 13:18:27,297\", \"name\": \"taccjm.TACCClient\", \"levelname\": \"INFO\", \"message\": \"Logger taccjm.TACCClient initialized\", \"config\": {\"output\": \"<ipykernel.iostream.OutStream object at 0x7fd23221b850>\", \"fmt\": \"json\", \"level\": 20}}\n",
      "{\"asctime\": \"2023-02-14 13:18:27,298\", \"name\": \"taccjm.TACCClient\", \"levelname\": \"INFO\", \"message\": \"Not running on TACC. Starting SSH session.\"}\n",
      "{\"asctime\": \"2023-02-14 13:18:27,299\", \"name\": \"taccjm.TACCClient\", \"levelname\": \"INFO\", \"message\": \"Looking for ssh_connection taccjm-ls6\"}\n",
      "{\"asctime\": \"2023-02-14 13:18:27,306\", \"name\": \"taccjm.TACCClient\", \"levelname\": \"INFO\", \"message\": \"Found ssh session taccjm-ls6\", \"id\": \"taccjm-ls6\", \"sys\": \"ls6.tacc.utexas.edu\", \"user\": \"clos21\", \"start\": \"2023-02-13T15:35:44.081530\", \"last_ts\": \"2023-02-14T13:18:13.361656\", \"log_level\": \"20\", \"log_file\": \"/home/jovyan/.taccjm/taccjm-ls6_ls6_clos21_log.json\", \"home_dir\": \"/home1/06307/clos21\", \"work_dir\": \"/work/06307/clos21/ls6\", \"scratch_dir\": \"/scratch/06307/clos21\"}\n",
      "{\"asctime\": \"2023-02-14 13:18:28,809\", \"name\": \"taccjm.TACCClient\", \"levelname\": \"INFO\", \"message\": \"Processed command 2571\", \"cmnd_config\": {\"id\": 2571, \"cmd\": \"mkdir -p /work/06307/clos21/ls6/taccjm-ls6/apps /work/06307/clos21/ls6/taccjm-ls6/scripts /scratch/06307/clos21/taccjm-ls6/jobs /scratch/06307/clos21/taccjm-ls6/trash\", \"ts\": \"2023-02-14T13:18:28.803907\", \"status\": \"COMPLETE\", \"stdout\": \"\", \"stderr\": \"\", \"history\": [{\"ts\": \"2023-02-14T13:18:27.678892\", \"status\": \"STARTED\"}], \"rt\": 1.0, \"rc\": 0}}\n"
     ]
    }
   ],
   "source": [
    "mock_tacc()\n",
    "sim = EnsembleTACCSimulation.EnsembleTACCSimulation(\n",
    "    system=\"ls6\", name=\"test\", log_config={\"level\": logging.INFO}\n",
    ")\n",
    "unmock_tacc()"
   ]
  },
  {
   "cell_type": "code",
   "execution_count": 7,
   "id": "9efaa66c-a1c5-4c2c-90fe-c95eead3e164",
   "metadata": {},
   "outputs": [
    {
     "data": {
      "text/plain": [
       "'EnsembleTACCSimulation'"
      ]
     },
     "execution_count": 7,
     "metadata": {},
     "output_type": "execute_result"
    }
   ],
   "source": [
    "sim.class_name"
   ]
  },
  {
   "cell_type": "code",
   "execution_count": 10,
   "id": "a191f7ba-1986-47fc-8e43-fcb397f83f0a",
   "metadata": {},
   "outputs": [
    {
     "name": "stdout",
     "output_type": "stream",
     "text": [
      "{\"asctime\": \"2023-02-14 13:18:47,536\", \"name\": \"taccjm.TACCSimulation\", \"levelname\": \"INFO\", \"message\": \"Not in execution environment. Setting up job...\"}\n",
      "{\"asctime\": \"2023-02-14 13:18:47,539\", \"name\": \"taccjm.TACCSimulation\", \"levelname\": \"INFO\", \"message\": \"Starting simulation set-up.\", \"inputs\": {\"args\": {}, \"slurm_config\": {\"node_cound\": 1, \"processors_per_node\": 4}, \"stage\": true, \"run\": false}}\n",
      "{\"asctime\": \"2023-02-14 13:18:47,540\", \"name\": \"taccjm.TACCSimulation\", \"levelname\": \"INFO\", \"message\": \"Setting up python execution environment\"}\n",
      "{\"asctime\": \"2023-02-14 13:18:57,950\", \"name\": \"taccjm.TACCClient\", \"levelname\": \"INFO\", \"message\": \"Processed command 2573\", \"cmnd_config\": {\"id\": 2573, \"cmd\": \"mamba --help\", \"ts\": \"2023-02-14T13:18:57.947675\", \"status\": \"COMPLETE\", \"stdout\": \"usage: mamba [-h] [-V] command ...\\n\\nconda is a tool for managing and deploying applications, environments and packages.\\n\\nOptions:\\n\\npositional arguments:\\n  command\\n    clean        Remove unused packag\", \"stderr\": \"\", \"history\": [{\"ts\": \"2023-02-14T13:18:47.940757\", \"status\": \"STARTED\"}], \"rt\": 10.0, \"rc\": 0}}\n",
      "{\"asctime\": \"2023-02-14 13:19:00,779\", \"name\": \"taccjm.TACCClient\", \"levelname\": \"INFO\", \"message\": \"Processed command 2575\", \"cmnd_config\": {\"id\": 2575, \"cmd\": \"mamba env list\", \"ts\": \"2023-02-14T13:19:00.773760\", \"status\": \"COMPLETE\", \"stdout\": \"# conda environments:\\n#\\nbase                  *  /work/06307/clos21/ls6/mambaforge\\nch-sim                   /work/06307/clos21/ls6/mambaforge/envs/ch-sim\\ntaccjm                   /work/06307/clos21/ls\", \"stderr\": \"\", \"history\": [{\"ts\": \"2023-02-14T13:18:58.359241\", \"status\": \"STARTED\"}], \"rt\": 2.0, \"rc\": 0}}\n",
      "{\"asctime\": \"2023-02-14 13:19:00,784\", \"name\": \"taccjm.TACCClient\", \"levelname\": \"INFO\", \"message\": \"Getting/Installing taccjm\", \"pm\": \"mamba\", \"env\": \"taccjm\", \"conda\": \"pip\", \"pip\": \"git+https://github.com/cdelcastillo21/taccjm.git@0.0.5-improv\"}\n",
      "{\"asctime\": \"2023-02-14 13:19:03,165\", \"name\": \"taccjm.TACCClient\", \"levelname\": \"INFO\", \"message\": \"Processed command 2576\", \"cmnd_config\": {\"id\": 2576, \"cmd\": \"mamba env list\", \"ts\": \"2023-02-14T13:19:03.159504\", \"status\": \"COMPLETE\", \"stdout\": \"# conda environments:\\n#\\nbase                  *  /work/06307/clos21/ls6/mambaforge\\nch-sim                   /work/06307/clos21/ls6/mambaforge/envs/ch-sim\\ntaccjm                   /work/06307/clos21/ls\", \"stderr\": \"\", \"history\": [{\"ts\": \"2023-02-14T13:19:00.909467\", \"status\": \"STARTED\"}], \"rt\": 2.0, \"rc\": 0}}\n",
      "{\"asctime\": \"2023-02-14 13:19:03,167\", \"name\": \"taccjm.TACCClient\", \"levelname\": \"INFO\", \"message\": \"Installing conda packages\"}\n",
      "{\"asctime\": \"2023-02-14 13:19:18,467\", \"name\": \"taccjm.TACCClient\", \"levelname\": \"INFO\", \"message\": \"Processed command 2577\", \"cmnd_config\": {\"id\": 2577, \"cmd\": \"mamba install -n taccjm -y pip\", \"ts\": \"2023-02-14T13:19:18.462094\", \"status\": \"COMPLETE\", \"stdout\": \"Transaction\\n\\n  Prefix: /work/06307/clos21/ls6/mambaforge/envs/taccjm\\n\\n  All requested packages already installed\\n\\n\\nLooking for: ['pip']\\n\\n\\nPinned packages:\\n  - python 3.11.*\\n\\n\\n\", \"stderr\": \"\", \"history\": [{\"ts\": \"2023-02-14T13:19:03.295115\", \"status\": \"STARTED\"}], \"rt\": 15.0, \"rc\": 0}}\n",
      "{\"asctime\": \"2023-02-14 13:19:20,873\", \"name\": \"taccjm.TACCClient\", \"levelname\": \"INFO\", \"message\": \"Processed command 2579\", \"cmnd_config\": {\"id\": 2579, \"cmd\": \"mamba env list\", \"ts\": \"2023-02-14T13:19:20.866703\", \"status\": \"COMPLETE\", \"stdout\": \"# conda environments:\\n#\\nbase                  *  /work/06307/clos21/ls6/mambaforge\\nch-sim                   /work/06307/clos21/ls6/mambaforge/envs/ch-sim\\ntaccjm                   /work/06307/clos21/ls\", \"stderr\": \"\", \"history\": [{\"ts\": \"2023-02-14T13:19:18.547143\", \"status\": \"STARTED\"}], \"rt\": 2.0, \"rc\": 0}}\n",
      "{\"asctime\": \"2023-02-14 13:19:20,876\", \"name\": \"taccjm.TACCClient\", \"levelname\": \"INFO\", \"message\": \"Installing pip packages using pip path /work/06307/clos21/ls6/mambaforge/envs/taccjm/bin/pip\"}\n",
      "{\"asctime\": \"2023-02-14 13:19:44,251\", \"name\": \"taccjm.TACCClient\", \"levelname\": \"INFO\", \"message\": \"Processed command 2580\", \"cmnd_config\": {\"id\": 2580, \"cmd\": \"/work/06307/clos21/ls6/mambaforge/envs/taccjm/bin/pip install git+https://github.com/cdelcastillo21/taccjm.git@0.0.5-improv\", \"ts\": \"2023-02-14T13:19:44.245443\", \"status\": \"COMPLETE\", \"stdout\": \"Collecting git+https://github.com/cdelcastillo21/taccjm.git@0.0.5-improv\\n  Cloning https://github.com/cdelcastillo21/taccjm.git (to revision 0.0.5-improv) to /tmp/pip-req-build-8tzqxc3l\\n  Resolved htt\", \"stderr\": \"  Running command git clone --filter=blob:none --quiet https://github.com/cdelcastillo21/taccjm.git /tmp/pip-req-build-8tzqxc3l\\n  Running command git checkout -b 0.0.5-improv --track origin/0.0.5-improv\\n  Switched to a new branch '0.0.5-improv'\\n  Branch '0.0.5-improv' set up to track remote branch '0.0.5-improv' from 'origin'.\\n\", \"history\": [{\"ts\": \"2023-02-14T13:19:21.002013\", \"status\": \"STARTED\"}], \"rt\": 23.0, \"rc\": 0}}\n",
      "{\"asctime\": \"2023-02-14 13:19:49,169\", \"name\": \"taccjm.TACCClient\", \"levelname\": \"INFO\", \"message\": \"Processed command 2581\", \"cmnd_config\": {\"id\": 2581, \"cmd\": \"mamba list --name taccjm\", \"ts\": \"2023-02-14T13:19:49.163734\", \"status\": \"COMPLETE\", \"stdout\": \"# packages in environment at /work/06307/clos21/ls6/mambaforge/envs/taccjm:\\n#\\n# Name                    Version                   Build  Channel\\n_libgcc_mutex             0.1                 conda_for\", \"stderr\": \"\", \"history\": [{\"ts\": \"2023-02-14T13:19:44.363878\", \"status\": \"STARTED\"}], \"rt\": 4.0, \"rc\": 0}}\n",
      "{\"asctime\": \"2023-02-14 13:19:49,173\", \"name\": \"taccjm.TACCClient\", \"levelname\": \"INFO\", \"message\": \"Environment configuration done\", \"env\": {\"name\": {\"0\": \"_libgcc_mutex\", \"1\": \"_openmp_mutex\", \"2\": \"anyio\", \"3\": \"bcrypt\", \"4\": \"begins\", \"5\": \"bzip2\", \"6\": \"ca-certificates\", \"7\": \"certifi\", \"8\": \"cffi\", \"9\": \"charset-normalizer\", \"10\": \"click\", \"11\": \"cryptography\", \"12\": \"falcon\", \"13\": \"fastapi\", \"14\": \"h11\", \"15\": \"httpcore\", \"16\": \"httpx\", \"17\": \"hug\", \"18\": \"idna\", \"19\": \"ld_impl_linux-64\", \"20\": \"libffi\", \"21\": \"libgcc-ng\", \"22\": \"libgomp\", \"23\": \"libnsl\", \"24\": \"libsqlite\", \"25\": \"libuuid\", \"26\": \"libzlib\", \"27\": \"ncurses\", \"28\": \"numpy\", \"29\": \"openssl\", \"30\": \"pandas\", \"31\": \"paramiko\", \"32\": \"pip\", \"33\": \"prettytable\", \"34\": \"psutil\", \"35\": \"pycparser\", \"36\": \"pydantic\", \"37\": \"pynacl\", \"38\": \"python\", \"39\": \"python-dateutil\", \"40\": \"python-dotenv\", \"41\": \"python-json-logger\", \"42\": \"pytz\", \"43\": \"readline\", \"44\": \"requests\", \"45\": \"rfc3986\", \"46\": \"setuptools\", \"47\": \"six\", \"48\": \"sniffio\", \"49\": \"starlette\", \"50\": \"taccjm\", \"51\": \"tk\", \"52\": \"typing-extensions\", \"53\": \"tzdata\", \"54\": \"urllib3\", \"55\": \"uvicorn\", \"56\": \"wcwidth\", \"57\": \"wheel\", \"58\": \"xz\"}, \"version\": {\"0\": \"0.1\", \"1\": \"4.5\", \"2\": \"3.6.2\", \"3\": \"4.0.1\", \"4\": \"0.9\", \"5\": \"1.0.8\", \"6\": \"2022.12.7\", \"7\": \"2022.12.7\", \"8\": \"1.15.1\", \"9\": \"3.0.1\", \"10\": \"8.1.3\", \"11\": \"39.0.1\", \"12\": \"2.0.0\", \"13\": \"0.91.0\", \"14\": \"0.14.0\", \"15\": \"0.16.3\", \"16\": \"0.23.3\", \"17\": \"2.6.1\", \"18\": \"3.4\", \"19\": \"2.40\", \"20\": \"3.4.2\", \"21\": \"12.2.0\", \"22\": \"12.2.0\", \"23\": \"2.0.0\", \"24\": \"3.40.0\", \"25\": \"2.32.1\", \"26\": \"1.2.13\", \"27\": \"6.3\", \"28\": \"1.24.2\", \"29\": \"3.0.8\", \"30\": \"1.5.3\", \"31\": \"3.0.0\", \"32\": \"23.0\", \"33\": \"3.6.0\", \"34\": \"5.9.4\", \"35\": \"2.21\", \"36\": \"1.10.4\", \"37\": \"1.5.0\", \"38\": \"3.11.0\", \"39\": \"2.8.2\", \"40\": \"0.21.1\", \"41\": \"2.0.5\", \"42\": \"2022.7.1\", \"43\": \"8.1.2\", \"44\": \"2.28.2\", \"45\": \"1.5.0\", \"46\": \"67.1.0\", \"47\": \"1.16.0\", \"48\": \"1.3.0\", \"49\": \"0.24.0\", \"50\": \"0.0.3.post1.dev24+gee13c40\", \"51\": \"8.6.12\", \"52\": \"4.4.0\", \"53\": \"2022g\", \"54\": \"1.26.14\", \"55\": \"0.20.0\", \"56\": \"0.2.6\", \"57\": \"0.38.4\", \"58\": \"5.2.6\"}, \"build\": {\"0\": \"conda_forge\", \"1\": \"2_gnu\", \"2\": \"pypi_0\", \"3\": \"pypi_0\", \"4\": \"pypi_0\", \"5\": \"h7f98852_4\", \"6\": \"ha878542_0\", \"7\": \"pypi_0\", \"8\": \"pypi_0\", \"9\": \"pypi_0\", \"10\": \"pypi_0\", \"11\": \"pypi_0\", \"12\": \"pypi_0\", \"13\": \"pypi_0\", \"14\": \"pypi_0\", \"15\": \"pypi_0\", \"16\": \"pypi_0\", \"17\": \"pypi_0\", \"18\": \"pypi_0\", \"19\": \"h41732ed_0\", \"20\": \"h7f98852_5\", \"21\": \"h65d4601_19\", \"22\": \"h65d4601_19\", \"23\": \"h7f98852_0\", \"24\": \"h753d276_0\", \"25\": \"h7f98852_1000\", \"26\": \"h166bdaf_4\", \"27\": \"h27087fc_1\", \"28\": \"pypi_0\", \"29\": \"h0b41bf4_0\", \"30\": \"pypi_0\", \"31\": \"pypi_0\", \"32\": \"pyhd8ed1ab_0\", \"33\": \"pypi_0\", \"34\": \"pypi_0\", \"35\": \"pypi_0\", \"36\": \"pypi_0\", \"37\": \"pypi_0\", \"38\": \"he550d4f_1_cpython\", \"39\": \"pypi_0\", \"40\": \"pypi_0\", \"41\": \"pypi_0\", \"42\": \"pypi_0\", \"43\": \"h0f457ee_0\", \"44\": \"pypi_0\", \"45\": \"pypi_0\", \"46\": \"pyhd8ed1ab_0\", \"47\": \"pypi_0\", \"48\": \"pypi_0\", \"49\": \"pypi_0\", \"50\": \"pypi_0\", \"51\": \"h27826a3_0\", \"52\": \"pypi_0\", \"53\": \"h191b570_0\", \"54\": \"pypi_0\", \"55\": \"pypi_0\", \"56\": \"pypi_0\", \"57\": \"pyhd8ed1ab_0\", \"58\": \"h166bdaf_0\"}, \"channel\": {\"0\": \"conda-forge\", \"1\": \"conda-forge\", \"2\": \"pypi\", \"3\": \"pypi\", \"4\": \"pypi\", \"5\": \"conda-forge\", \"6\": \"conda-forge\", \"7\": \"pypi\", \"8\": \"pypi\", \"9\": \"pypi\", \"10\": \"pypi\", \"11\": \"pypi\", \"12\": \"pypi\", \"13\": \"pypi\", \"14\": \"pypi\", \"15\": \"pypi\", \"16\": \"pypi\", \"17\": \"pypi\", \"18\": \"pypi\", \"19\": \"conda-forge\", \"20\": \"conda-forge\", \"21\": \"conda-forge\", \"22\": \"conda-forge\", \"23\": \"conda-forge\", \"24\": \"conda-forge\", \"25\": \"conda-forge\", \"26\": \"conda-forge\", \"27\": \"conda-forge\", \"28\": \"pypi\", \"29\": \"conda-forge\", \"30\": \"pypi\", \"31\": \"pypi\", \"32\": \"conda-forge\", \"33\": \"pypi\", \"34\": \"pypi\", \"35\": \"pypi\", \"36\": \"pypi\", \"37\": \"pypi\", \"38\": \"conda-forge\", \"39\": \"pypi\", \"40\": \"pypi\", \"41\": \"pypi\", \"42\": \"pypi\", \"43\": \"conda-forge\", \"44\": \"pypi\", \"45\": \"pypi\", \"46\": \"conda-forge\", \"47\": \"pypi\", \"48\": \"pypi\", \"49\": \"pypi\", \"50\": \"pypi\", \"51\": \"conda-forge\", \"52\": \"pypi\", \"53\": \"conda-forge\", \"54\": \"pypi\", \"55\": \"pypi\", \"56\": \"pypi\", \"57\": \"conda-forge\", \"58\": \"conda-forge\"}, \"path\": {\"0\": \"/work/06307/clos21/ls6/mambaforge/envs/taccjm\", \"1\": \"/work/06307/clos21/ls6/mambaforge/envs/taccjm\", \"2\": \"/work/06307/clos21/ls6/mambaforge/envs/taccjm\", \"3\": \"/work/06307/clos21/ls6/mambaforge/envs/taccjm\", \"4\": \"/work/06307/clos21/ls6/mambaforge/envs/taccjm\", \"5\": \"/work/06307/clos21/ls6/mambaforge/envs/taccjm\", \"6\": \"/work/06307/clos21/ls6/mambaforge/envs/taccjm\", \"7\": \"/work/06307/clos21/ls6/mambaforge/envs/taccjm\", \"8\": \"/work/06307/clos21/ls6/mambaforge/envs/taccjm\", \"9\": \"/work/06307/clos21/ls6/mambaforge/envs/taccjm\", \"10\": \"/work/06307/clos21/ls6/mambaforge/envs/taccjm\", \"11\": \"/work/06307/clos21/ls6/mambaforge/envs/taccjm\", \"12\": \"/work/06307/clos21/ls6/mambaforge/envs/taccjm\", \"13\": \"/work/06307/clos21/ls6/mambaforge/envs/taccjm\", \"14\": \"/work/06307/clos21/ls6/mambaforge/envs/taccjm\", \"15\": \"/work/06307/clos21/ls6/mambaforge/envs/taccjm\", \"16\": \"/work/06307/clos21/ls6/mambaforge/envs/taccjm\", \"17\": \"/work/06307/clos21/ls6/mambaforge/envs/taccjm\", \"18\": \"/work/06307/clos21/ls6/mambaforge/envs/taccjm\", \"19\": \"/work/06307/clos21/ls6/mambaforge/envs/taccjm\", \"20\": \"/work/06307/clos21/ls6/mambaforge/envs/taccjm\", \"21\": \"/work/06307/clos21/ls6/mambaforge/envs/taccjm\", \"22\": \"/work/06307/clos21/ls6/mambaforge/envs/taccjm\", \"23\": \"/work/06307/clos21/ls6/mambaforge/envs/taccjm\", \"24\": \"/work/06307/clos21/ls6/mambaforge/envs/taccjm\", \"25\": \"/work/06307/clos21/ls6/mambaforge/envs/taccjm\", \"26\": \"/work/06307/clos21/ls6/mambaforge/envs/taccjm\", \"27\": \"/work/06307/clos21/ls6/mambaforge/envs/taccjm\", \"28\": \"/work/06307/clos21/ls6/mambaforge/envs/taccjm\", \"29\": \"/work/06307/clos21/ls6/mambaforge/envs/taccjm\", \"30\": \"/work/06307/clos21/ls6/mambaforge/envs/taccjm\", \"31\": \"/work/06307/clos21/ls6/mambaforge/envs/taccjm\", \"32\": \"/work/06307/clos21/ls6/mambaforge/envs/taccjm\", \"33\": \"/work/06307/clos21/ls6/mambaforge/envs/taccjm\", \"34\": \"/work/06307/clos21/ls6/mambaforge/envs/taccjm\", \"35\": \"/work/06307/clos21/ls6/mambaforge/envs/taccjm\", \"36\": \"/work/06307/clos21/ls6/mambaforge/envs/taccjm\", \"37\": \"/work/06307/clos21/ls6/mambaforge/envs/taccjm\", \"38\": \"/work/06307/clos21/ls6/mambaforge/envs/taccjm\", \"39\": \"/work/06307/clos21/ls6/mambaforge/envs/taccjm\", \"40\": \"/work/06307/clos21/ls6/mambaforge/envs/taccjm\", \"41\": \"/work/06307/clos21/ls6/mambaforge/envs/taccjm\", \"42\": \"/work/06307/clos21/ls6/mambaforge/envs/taccjm\", \"43\": \"/work/06307/clos21/ls6/mambaforge/envs/taccjm\", \"44\": \"/work/06307/clos21/ls6/mambaforge/envs/taccjm\", \"45\": \"/work/06307/clos21/ls6/mambaforge/envs/taccjm\", \"46\": \"/work/06307/clos21/ls6/mambaforge/envs/taccjm\", \"47\": \"/work/06307/clos21/ls6/mambaforge/envs/taccjm\", \"48\": \"/work/06307/clos21/ls6/mambaforge/envs/taccjm\", \"49\": \"/work/06307/clos21/ls6/mambaforge/envs/taccjm\", \"50\": \"/work/06307/clos21/ls6/mambaforge/envs/taccjm\", \"51\": \"/work/06307/clos21/ls6/mambaforge/envs/taccjm\", \"52\": \"/work/06307/clos21/ls6/mambaforge/envs/taccjm\", \"53\": \"/work/06307/clos21/ls6/mambaforge/envs/taccjm\", \"54\": \"/work/06307/clos21/ls6/mambaforge/envs/taccjm\", \"55\": \"/work/06307/clos21/ls6/mambaforge/envs/taccjm\", \"56\": \"/work/06307/clos21/ls6/mambaforge/envs/taccjm\", \"57\": \"/work/06307/clos21/ls6/mambaforge/envs/taccjm\", \"58\": \"/work/06307/clos21/ls6/mambaforge/envs/taccjm\"}}}\n",
      "{\"asctime\": \"2023-02-14 13:19:49,174\", \"name\": \"taccjm.TACCSimulation\", \"levelname\": \"INFO\", \"message\": \"Creating job config.\"}\n",
      "{\"asctime\": \"2023-02-14 13:19:50,530\", \"name\": \"taccjm.TACCClient\", \"levelname\": \"INFO\", \"message\": \"Processed command 2583\", \"cmnd_config\": {\"id\": 2583, \"cmd\": \"/usr/local/etc/taccinfo\", \"ts\": \"2023-02-14T13:19:50.524920\", \"status\": \"COMPLETE\", \"stdout\": \"---------------------- Project balances for user clos21 -----------------------\\n| Name           Avail SUs     Expires |                                      |\\n| ADCIRC              3804  2023-03-31 |\", \"stderr\": \"\", \"history\": [{\"ts\": \"2023-02-14T13:19:49.260894\", \"status\": \"STARTED\"}], \"rt\": 1.0, \"rc\": 0}}\n",
      "{\"asctime\": \"2023-02-14 13:19:50,531\", \"name\": \"taccjm.TACCSimulation\", \"levelname\": \"INFO\", \"message\": \"Allocation not specified. Using ADCIRC.\", \"allocations\": [{\"name\": \"ADCIRC\", \"service_units\": 3804, \"exp_date\": \"2023-03-31\"}]}\n",
      "{\"asctime\": \"2023-02-14 13:19:50,532\", \"name\": \"taccjm.TACCSimulation\", \"levelname\": \"INFO\", \"message\": \"Slurm settings configured\", \"slurm_config\": {\"allocation\": \"ADCIRC\", \"node_count\": 1, \"processors_per_node\": 4, \"max_run_time\": 0.5, \"queue\": \"development\", \"dependencies\": [], \"node_cound\": 1}}\n",
      "{\"asctime\": \"2023-02-14 13:19:50,533\", \"name\": \"taccjm.TACCSimulation\", \"levelname\": \"INFO\", \"message\": \"Processing Arguments\"}\n",
      "{\"asctime\": \"2023-02-14 13:19:50,533\", \"name\": \"taccjm.TACCSimulation\", \"levelname\": \"INFO\", \"message\": \"Setting arg default value\"}\n",
      "{\"asctime\": \"2023-02-14 13:19:50,534\", \"name\": \"taccjm.TACCSimulation\", \"levelname\": \"INFO\", \"message\": \"Found apram tasks\", \"arg\": {\"name\": \"tasks\", \"type\": \"apram\", \"desc\": \"List of tasks for ensemble\", \"default\": []}}\n",
      "{\"asctime\": \"2023-02-14 13:19:50,535\", \"name\": \"taccjm.TACCSimulation\", \"levelname\": \"INFO\", \"message\": \"Setting arg default value\"}\n",
      "{\"asctime\": \"2023-02-14 13:19:50,537\", \"name\": \"taccjm.TACCSimulation\", \"levelname\": \"INFO\", \"message\": \"Found param task_max_runtime\", \"arg\": {\"name\": \"task_max_runtime\", \"type\": \"param\", \"desc\": \"Max runtime (in hours) for tasks in ensemble.\", \"default\": 0.1}}\n",
      "{\"asctime\": \"2023-02-14 13:19:50,537\", \"name\": \"taccjm.TACCSimulation\", \"levelname\": \"INFO\", \"message\": \"Setting arg default value\"}\n",
      "{\"asctime\": \"2023-02-14 13:19:50,538\", \"name\": \"taccjm.TACCSimulation\", \"levelname\": \"INFO\", \"message\": \"Found param max_runtime\", \"arg\": {\"name\": \"max_runtime\", \"type\": \"param\", \"desc\": \"Max runtime for the whole ensemble.\", \"default\": 0.5}}\n",
      "{\"asctime\": \"2023-02-14 13:19:50,539\", \"name\": \"taccjm.TACCSimulation\", \"levelname\": \"INFO\", \"message\": \"Setting arg default value\"}\n",
      "{\"asctime\": \"2023-02-14 13:19:50,540\", \"name\": \"taccjm.TACCSimulation\", \"levelname\": \"INFO\", \"message\": \"Found param summary_interval\", \"arg\": {\"name\": \"summary_interval\", \"type\": \"param\", \"desc\": \"Interval (in seconds) of output of task-queue summary\", \"default\": 60}}\n",
      "{\"asctime\": \"2023-02-14 13:19:50,541\", \"name\": \"taccjm.TACCSimulation\", \"levelname\": \"INFO\", \"message\": \"Parsing submit script\", \"run_cmd\": \"chmod +x test.py\\n\\nremora ./test.py\"}\n",
      "{\"asctime\": \"2023-02-14 13:19:50,542\", \"name\": \"taccjm.TACCSimulation\", \"levelname\": \"INFO\", \"message\": \"Reading sim script at /home/jovyan/work/repos/taccjm/src/taccjm/EnsembleTACCSimulation.py\"}\n",
      "{\"asctime\": \"2023-02-14 13:19:50,544\", \"name\": \"taccjm.TACCSimulation\", \"levelname\": \"INFO\", \"message\": \"Detected no main clause... adding.\"}\n",
      "{\"asctime\": \"2023-02-14 13:19:50,545\", \"name\": \"taccjm.TACCSimulation\", \"levelname\": \"INFO\", \"message\": \"Job configuration done!\", \"job_config\": {\"name\": \"test\", \"job_id\": \"test_20230214_131949kfsqwjjz\", \"job_dir\": \"/scratch/06307/clos21/taccjm-ls6/jobs/test_20230214_131949kfsqwjjz\", \"slurm\": {\"allocation\": \"ADCIRC\", \"node_count\": 1, \"processors_per_node\": 4, \"max_run_time\": 0.5, \"queue\": \"development\", \"dependencies\": [], \"node_cound\": 1}, \"args\": {\"tasks\": [], \"task_max_runtime\": 0.1, \"max_runtime\": 0.5, \"summary_interval\": 60}, \"submit_script\": \"#!/bin/bash\\n#----------------------------------------------------\\n# test \\n#\\n#----------------------------------------------------\\n\\n#SBATCH -J test_20230214_131949kfsqwjjz     # Job name\\n#SBATCH -o /scratch/06307/clos21/taccjm-ls6/jobs/test_20230214_131949kfsqwjjz/test_20230214_131949kfsqwjjz.o%j # Name of stdout output file\\n#SBATCH -e /scratch/06307/clos21/taccjm-ls6/jobs/test_20230214_131949kfsqwjjz/test_20230214_131949kfsqwjjz.e%j # Name of stderr error file\\n#SBATCH -p development      # Queue (partition) name\\n#SBATCH -N 1          # Total num nodes\\n#SBATCH -n 4          # Total num mpi tasks\\n#SBATCH -t 00:30:00         # Run time (hh:mm:ss)\\n#SBATCH --ntasks-per-node 4 # tasks per node\\n#SBATCH -A ADCIRC # Allocation name\\n\\n#----------------------------------------------------\\n\\ncd /scratch/06307/clos21/taccjm-ls6/jobs/test_20230214_131949kfsqwjjz\\n\\nmodule load remora\\n\\nchmod +x test.py\\n\\nremora ./test.py\\n\", \"sim_script\": \"#!/work/06307/clos21/ls6/mambaforge/envs/taccjm/bin/python\\n\\n\\\"\\\"\\\"\\nEnsemble TACC Simulation\\n\\n\\\"\\\"\\\"\\nimport logging\\n\\nfrom taccjm.pyslurmtq.SLURMTaskQueue import SLURMTaskQueue\\nfrom taccjm.TACCSimulation impo\"}}\n",
      "{\"asctime\": \"2023-02-14 13:19:50,547\", \"name\": \"taccjm.TACCSimulation\", \"levelname\": \"INFO\", \"message\": \"Staging job to /tmp/tmpc2tyldjq\", \"job_dir\": \"/scratch/06307/clos21/taccjm-ls6/jobs/test_20230214_131949kfsqwjjz\"}\n",
      "{\"asctime\": \"2023-02-14 13:19:51,828\", \"name\": \"taccjm.TACCClient\", \"levelname\": \"INFO\", \"message\": \"Processed command 2584\", \"cmnd_config\": {\"id\": 2584, \"cmd\": \"mkdir /scratch/06307/clos21/taccjm-ls6/jobs/test_20230214_131949kfsqwjjz\", \"ts\": \"2023-02-14T13:19:51.822735\", \"status\": \"COMPLETE\", \"stdout\": \"\", \"stderr\": \"\", \"history\": [{\"ts\": \"2023-02-14T13:19:50.649409\", \"status\": \"STARTED\"}], \"rt\": 1.0, \"rc\": 0}}\n",
      "{\"asctime\": \"2023-02-14 13:19:51,829\", \"name\": \"taccjm.TACCSimulation\", \"levelname\": \"INFO\", \"message\": \"Writing submit script\", \"path\": \"/tmp/tmpc2tyldjq/submit_script.sh\"}\n",
      "{\"asctime\": \"2023-02-14 13:19:51,830\", \"name\": \"taccjm.TACCSimulation\", \"levelname\": \"INFO\", \"message\": \"Writing sim script\", \"path\": \"/tmp/tmpc2tyldjq/test.py\"}\n",
      "{\"asctime\": \"2023-02-14 13:19:51,832\", \"name\": \"taccjm.TACCSimulation\", \"levelname\": \"INFO\", \"message\": \"Writing job config\", \"path\": \"/tmp/tmpc2tyldjq/job.json\"}\n",
      "{\"asctime\": \"2023-02-14 13:19:51,833\", \"name\": \"taccjm.TACCSimulation\", \"levelname\": \"INFO\", \"message\": \"Waiting for inputs to finish staging\", \"stage_commands\": []}\n",
      "{\"asctime\": \"2023-02-14 13:19:51,833\", \"name\": \"taccjm.TACCSimulation\", \"levelname\": \"INFO\", \"message\": \"Uploading job directory\", \"path\": \"/tmp/tmpc2tyldjq/job.json\"}\n",
      "{\"asctime\": \"2023-02-14 13:19:55,457\", \"name\": \"taccjm.TACCSimulation\", \"levelname\": \"INFO\", \"message\": \"Job {job_config['job_id']} set up and submitted\", \"job_config\": {\"name\": \"test\", \"job_id\": \"test_20230214_131949kfsqwjjz\", \"job_dir\": \"/scratch/06307/clos21/taccjm-ls6/jobs/test_20230214_131949kfsqwjjz\", \"slurm\": {\"allocation\": \"ADCIRC\", \"node_count\": 1, \"processors_per_node\": 4, \"max_run_time\": 0.5, \"queue\": \"development\", \"dependencies\": [], \"node_cound\": 1}, \"args\": {\"tasks\": [], \"task_max_runtime\": 0.1, \"max_runtime\": 0.5, \"summary_interval\": 60}, \"submit_script\": \"/scratch/06307/clos21/taccjm-ls6/jobs/test_20230214_131949kfsqwjjz/submit_script.sh\", \"sim_script\": \"/scratch/06307/clos21/taccjm-ls6/jobs/test_20230214_131949kfsqwjjz/test.py\"}}\n"
     ]
    }
   ],
   "source": [
    "job_config = sim.run(\n",
    "    args={},\n",
    "    slurm_config=slurm_config,\n",
    "    stage=True,\n",
    "    python_setup=True,\n",
    "    run=False,\n",
    "    remora=True,\n",
    ")"
   ]
  },
  {
   "cell_type": "code",
   "execution_count": 11,
   "id": "81b84ce6-1fd1-46a8-a951-8bc03a365444",
   "metadata": {},
   "outputs": [
    {
     "data": {
      "text/plain": [
       "{'name': 'test',\n",
       " 'job_id': 'test_20230214_131949kfsqwjjz',\n",
       " 'job_dir': '/scratch/06307/clos21/taccjm-ls6/jobs/test_20230214_131949kfsqwjjz',\n",
       " 'slurm': {'allocation': 'ADCIRC',\n",
       "  'node_count': 1,\n",
       "  'processors_per_node': 4,\n",
       "  'max_run_time': 0.5,\n",
       "  'queue': 'development',\n",
       "  'dependencies': [],\n",
       "  'node_cound': 1},\n",
       " 'args': {'tasks': [],\n",
       "  'task_max_runtime': 0.1,\n",
       "  'max_runtime': 0.5,\n",
       "  'summary_interval': 60},\n",
       " 'submit_script': '/scratch/06307/clos21/taccjm-ls6/jobs/test_20230214_131949kfsqwjjz/submit_script.sh',\n",
       " 'sim_script': '/scratch/06307/clos21/taccjm-ls6/jobs/test_20230214_131949kfsqwjjz/test.py'}"
      ]
     },
     "execution_count": 11,
     "metadata": {},
     "output_type": "execute_result"
    }
   ],
   "source": [
    "job_config"
   ]
  },
  {
   "cell_type": "code",
   "execution_count": 12,
   "id": "2e947112-a049-4545-9dc7-0a2e61cf3a51",
   "metadata": {},
   "outputs": [
    {
     "data": {
      "text/plain": [
       "'data'"
      ]
     },
     "execution_count": 12,
     "metadata": {},
     "output_type": "execute_result"
    }
   ],
   "source": [
    "sim.client.download(\"\", \"data\", job_id=job_config[\"job_id\"])"
   ]
  },
  {
   "cell_type": "code",
   "execution_count": 13,
   "id": "6930c77a-34b6-47e9-a65a-25770fe7a9bd",
   "metadata": {},
   "outputs": [
    {
     "name": "stdout",
     "output_type": "stream",
     "text": [
      "{\"asctime\": \"2023-02-14 13:22:40,711\", \"name\": \"taccjm.TACCClient\", \"levelname\": \"INFO\", \"message\": \"Processed command 2593\", \"cmnd_config\": {\"id\": 2593, \"cmd\": \"cd /scratch/06307/clos21/taccjm-ls6/jobs/test_20230214_131949kfsqwjjz && sbatch /scratch/06307/clos21/taccjm-ls6/jobs/test_20230214_131949kfsqwjjz/submit_script.sh\", \"ts\": \"2023-02-14T13:22:40.706228\", \"status\": \"COMPLETE\", \"stdout\": \"\\n-----------------------------------------------------------------\\n          Welcome to the Lonestar6 Supercomputer          \\n-----------------------------------------------------------------\\n\\nNo rese\", \"stderr\": \"\", \"history\": [{\"ts\": \"2023-02-14T13:22:39.493995\", \"status\": \"STARTED\"}], \"rt\": 1.0, \"rc\": 0}}\n"
     ]
    },
    {
     "data": {
      "text/plain": [
       "{'name': 'test',\n",
       " 'job_id': 'test_20230214_131949kfsqwjjz',\n",
       " 'job_dir': '/scratch/06307/clos21/taccjm-ls6/jobs/test_20230214_131949kfsqwjjz',\n",
       " 'slurm': {'allocation': 'ADCIRC',\n",
       "  'node_count': 1,\n",
       "  'processors_per_node': 4,\n",
       "  'max_run_time': 0.5,\n",
       "  'queue': 'development',\n",
       "  'dependencies': [],\n",
       "  'node_cound': 1},\n",
       " 'args': {'tasks': [],\n",
       "  'task_max_runtime': 0.1,\n",
       "  'max_runtime': 0.5,\n",
       "  'summary_interval': 60},\n",
       " 'submit_script': '/scratch/06307/clos21/taccjm-ls6/jobs/test_20230214_131949kfsqwjjz/submit_script.sh',\n",
       " 'sim_script': '/scratch/06307/clos21/taccjm-ls6/jobs/test_20230214_131949kfsqwjjz/test.py',\n",
       " 'slurm_id': '701781'}"
      ]
     },
     "execution_count": 13,
     "metadata": {},
     "output_type": "execute_result"
    }
   ],
   "source": [
    "sim.client.submit_job(job_config[\"job_id\"])"
   ]
  },
  {
   "cell_type": "code",
   "execution_count": 14,
   "id": "704d3a2f-0b6d-4549-8987-f05fa288612c",
   "metadata": {},
   "outputs": [
    {
     "name": "stdout",
     "output_type": "stream",
     "text": [
      "{\"asctime\": \"2023-02-14 13:22:54,939\", \"name\": \"taccjm.TACCClient\", \"levelname\": \"INFO\", \"message\": \"Processed command 2594\", \"cmnd_config\": {\"id\": 2594, \"cmd\": \"showq -U clos21\", \"ts\": \"2023-02-14T13:22:54.933239\", \"status\": \"COMPLETE\", \"stdout\": \"Using system default configuration file \\n\\nSUMMARY OF JOBS FOR USER: <clos21>\\n\\nACTIVE JOBS--------------------\\nJOBID     JOBNAME    USERNAME      STATE   NODES REMAINING STARTTIME\\n=====================\", \"stderr\": \"\", \"history\": [{\"ts\": \"2023-02-14T13:22:53.736636\", \"status\": \"STARTED\"}], \"rt\": 1.0, \"rc\": 0}}\n"
     ]
    },
    {
     "data": {
      "text/plain": [
       "[{'job_id': '701781',\n",
       "  'job_name': 'test_20230',\n",
       "  'username': 'clos21',\n",
       "  'state': 'Running',\n",
       "  'nodes': '1',\n",
       "  'remaining': '1',\n",
       "  'start_time': '0:29:47'}]"
      ]
     },
     "execution_count": 14,
     "metadata": {},
     "output_type": "execute_result"
    }
   ],
   "source": [
    "sim.client.showq()"
   ]
  },
  {
   "cell_type": "code",
   "execution_count": 16,
   "id": "685af85a-ecc9-4422-ad9b-bf3f5f468508",
   "metadata": {},
   "outputs": [
    {
     "data": {
      "text/plain": [
       "[{'filename': 'submit_script.sh',\n",
       "  'st_atime': 1676402395,\n",
       "  'st_gid': 800588,\n",
       "  'st_mode': 33152,\n",
       "  'st_mtime': 1676402391,\n",
       "  'st_size': 915,\n",
       "  'st_uid': 856065,\n",
       "  'ls_str': '-rw-------   1 856065   800588        915 14 Feb 13:19 submit_script.sh'},\n",
       " {'filename': 'remora_701781',\n",
       "  'st_atime': 1676402562,\n",
       "  'st_gid': 800588,\n",
       "  'st_mode': 16832,\n",
       "  'st_mtime': 1676402609,\n",
       "  'st_size': 34,\n",
       "  'st_uid': 856065,\n",
       "  'ls_str': 'drwx------   1 856065   800588         34 14 Feb 13:23 remora_701781'},\n",
       " {'filename': 'test_20230214_131949kfsqwjjz.o701781',\n",
       "  'st_atime': 1676402563,\n",
       "  'st_gid': 800588,\n",
       "  'st_mode': 33152,\n",
       "  'st_mtime': 1676402609,\n",
       "  'st_size': 177,\n",
       "  'st_uid': 856065,\n",
       "  'ls_str': '-rw-------   1 856065   800588        177 14 Feb 13:23 test_20230214_131949kfsqwjjz.o701781'},\n",
       " {'filename': 'test.py',\n",
       "  'st_atime': 1676402395,\n",
       "  'st_gid': 800588,\n",
       "  'st_mode': 33216,\n",
       "  'st_mtime': 1676402391,\n",
       "  'st_size': 3907,\n",
       "  'st_uid': 856065,\n",
       "  'ls_str': '-rwx------   1 856065   800588       3907 14 Feb 13:19 test.py'},\n",
       " {'filename': 'test_20230214_131949kfsqwjjz.e701781',\n",
       "  'st_atime': 1676402564,\n",
       "  'st_gid': 800588,\n",
       "  'st_mode': 33152,\n",
       "  'st_mtime': 1676402605,\n",
       "  'st_size': 1484,\n",
       "  'st_uid': 856065,\n",
       "  'ls_str': '-rw-------   1 856065   800588       1484 14 Feb 13:23 test_20230214_131949kfsqwjjz.e701781'},\n",
       " {'filename': 'job.json',\n",
       "  'st_atime': 1676402562,\n",
       "  'st_gid': 800588,\n",
       "  'st_mode': 33152,\n",
       "  'st_mtime': 1676402564,\n",
       "  'st_size': 609,\n",
       "  'st_uid': 856065,\n",
       "  'ls_str': '-rw-------   1 856065   800588        609 14 Feb 13:22 job.json'}]"
      ]
     },
     "execution_count": 16,
     "metadata": {},
     "output_type": "execute_result"
    }
   ],
   "source": [
    "sim.client.list_files(\"\", job_id=job_config[\"job_id\"], recurse=True)"
   ]
  },
  {
   "cell_type": "code",
   "execution_count": 18,
   "id": "a51e4a17-7c66-4d13-a94c-500164d3bbdb",
   "metadata": {},
   "outputs": [],
   "source": [
    "err_file = sim.client.read(\n",
    "    \"test_20230214_131949kfsqwjjz.e701781\", job_id=job_config[\"job_id\"]\n",
    ")"
   ]
  },
  {
   "cell_type": "code",
   "execution_count": 19,
   "id": "abe6eded-0f2b-48ab-a4ed-325b764751f6",
   "metadata": {},
   "outputs": [
    {
     "name": "stdout",
     "output_type": "stream",
     "text": [
      "Warning: Permanently added 'c307-006' (ECDSA) to the list of known hosts.\n",
      "cat: '/proc/fs/lustre/mdc/work*/stats': No such file or directory\n",
      "cat: '/proc/fs/lustre/llite/work*/stats': No such file or directory\n",
      "cat: '/proc/fs/lustre/llite/work*/stats': No such file or directory\n",
      "cat: /proc/sys/lnet/stats: No such file or directory\n",
      "cat: '/proc/fs/lustre/mdc/work*/stats': No such file or directory\n",
      "cat: '/proc/fs/lustre/llite/work*/stats': No such file or directory\n",
      "cat: '/proc/fs/lustre/llite/work*/stats': No such file or directory\n",
      "cat: /proc/sys/lnet/stats: No such file or directory\n",
      "cat: '/proc/fs/lustre/mdc/work*/stats': No such file or directory\n",
      "cat: '/proc/fs/lustre/llite/work*/stats': No such file or directory\n",
      "cat: '/proc/fs/lustre/llite/work*/stats': No such file or directory\n",
      "cat: /proc/sys/lnet/stats: No such file or directory\n",
      "Traceback (most recent call last):\n",
      "  File \"/scratch/06307/clos21/taccjm-ls6/jobs/test_20230214_131949kfsqwjjz/./test.py\", line 123, in <module>\n",
      "    simulation = EnsembleTACCSimulation(name='test',\n",
      "                 ^^^^^^^^^^^^^^^^^^^^^^^^^^^^^^^^^^^\n",
      "  File \"/scratch/06307/clos21/taccjm-ls6/jobs/test_20230214_131949kfsqwjjz/./test.py\", line 65, in __init__\n",
      "    super().__init__(name, system, log_config,\n",
      "TypeError: TACCSimulation.__init__() got an unexpected keyword argument 'script_file'\n",
      "Runtime error (func=(main), adr=9): Divide by zero\n",
      "Runtime error (func=(main), adr=9): Divide by zero\n",
      "Runtime error (func=(main), adr=9): Divide by zero\n",
      "\n"
     ]
    }
   ],
   "source": [
    "print(err_file)"
   ]
  },
  {
   "cell_type": "code",
   "execution_count": null,
   "id": "4e571b27-6690-4c55-b394-f81f47743d22",
   "metadata": {},
   "outputs": [],
   "source": []
  }
 ],
 "metadata": {
  "IMAGE_NAME": "taccsciapps/ds-nb-img:base-0.1.0",
  "UUID": "88a2cf1a-c428-11ed-a539-c263dca5ecaa",
  "citation-manager": {
   "items": {}
  },
  "kernelspec": {
   "display_name": "pyadcirc",
   "language": "python",
   "name": "aws"
  },
  "language_info": {
   "codemirror_mode": {
    "name": "ipython",
    "version": 3
   },
   "file_extension": ".py",
   "mimetype": "text/x-python",
   "name": "python",
   "nbconvert_exporter": "python",
   "pygments_lexer": "ipython3",
   "version": "3.11.0"
  }
 },
 "nbformat": 4,
 "nbformat_minor": 5
}
