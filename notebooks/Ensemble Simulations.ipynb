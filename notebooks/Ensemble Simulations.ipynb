{
 "cells": [
  {
   "cell_type": "markdown",
   "id": "2fdc9eb2-f218-4e18-a273-9193bd539fe6",
   "metadata": {},
   "source": [
    "# TACC Ensemble Simulation"
   ]
  },
  {
   "cell_type": "code",
   "execution_count": 1,
   "id": "f0ad41bf-acbe-42d8-8d9f-37749ba36bc6",
   "metadata": {},
   "outputs": [],
   "source": [
    "import logging\n",
    "import os\n",
    "from pathlib import Path\n",
    "\n",
    "from taccjm import EnsembleTACCSimulation"
   ]
  },
  {
   "cell_type": "code",
   "execution_count": 2,
   "id": "2a514330-4a0f-476a-bd3e-a41b1d05c0f8",
   "metadata": {},
   "outputs": [
    {
     "data": {
      "text/plain": [
       "<module 'taccjm.EnsembleTACCSimulation' from '/home/jovyan/work/repos/taccjm/src/taccjm/EnsembleTACCSimulation.py'>"
      ]
     },
     "execution_count": 2,
     "metadata": {},
     "output_type": "execute_result"
    }
   ],
   "source": [
    "import importlib\n",
    "\n",
    "importlib.reload(EnsembleTACCSimulation)"
   ]
  },
  {
   "cell_type": "code",
   "execution_count": 3,
   "id": "04aabc6d-5438-45ec-8535-608aff1b1ef6",
   "metadata": {},
   "outputs": [
    {
     "data": {
      "text/plain": [
       "({'cores': 1,\n",
       "  'workdir': 'runs/run_0',\n",
       "  'pre': 'mkdir another-dir',\n",
       "  'cdir': 'another-dir',\n",
       "  'cmnd': 'touch foo_0.txt; sleep 0; echo DONE > foo_0.txt',\n",
       "  'post': 'cp another-dir/foo_0.txt ../../outputs/foo_0.txt'},\n",
       " {'cores': 1,\n",
       "  'workdir': 'runs/run_9',\n",
       "  'pre': 'mkdir another-dir',\n",
       "  'cdir': 'another-dir',\n",
       "  'cmnd': 'touch foo_9.txt; sleep 9; echo DONE > foo_9.txt',\n",
       "  'post': 'cp another-dir/foo_9.txt ../../outputs/foo_9.txt'})"
      ]
     },
     "execution_count": 3,
     "metadata": {},
     "output_type": "execute_result"
    }
   ],
   "source": [
    "tasks = [\n",
    "    {\n",
    "        \"cores\": 1,\n",
    "        \"workdir\": f\"runs/run_{n}\",\n",
    "        \"pre\": f\"mkdir another-dir\",\n",
    "        \"cdir\": f\"another-dir\",\n",
    "        \"cmnd\": f\"touch foo_{n}.txt; sleep {n}; echo DONE > foo_{n}.txt\",\n",
    "        \"post\": f\"cp another-dir/foo_{n}.txt ../../outputs/foo_{n}.txt\",\n",
    "    }\n",
    "    for n in range(10)\n",
    "]\n",
    "tasks[0], tasks[-1]"
   ]
  },
  {
   "cell_type": "code",
   "execution_count": 4,
   "id": "5a084f74-bf2f-45d4-b528-efb6807c583c",
   "metadata": {},
   "outputs": [
    {
     "name": "stdout",
     "output_type": "stream",
     "text": [
      "{\"asctime\": \"2023-02-14 18:07:05,751\", \"name\": \"taccjm.TACCSimulation\", \"levelname\": \"INFO\", \"message\": \"Logger taccjm.TACCSimulation initialized\", \"config\": {\"output\": \"<ipykernel.iostream.OutStream object at 0x7f7695553850>\", \"fmt\": \"json\", \"level\": 20}}\n",
      "{\"asctime\": \"2023-02-14 18:07:05,753\", \"name\": \"taccjm.TACCSimulation\", \"levelname\": \"INFO\", \"message\": \"Running from inherited class at /home/jovyan/work/repos/taccjm/src/taccjm/EnsembleTACCSimulation.py\"}\n",
      "{\"asctime\": \"2023-02-14 18:07:05,754\", \"name\": \"taccjm.TACCClient\", \"levelname\": \"INFO\", \"message\": \"Logger taccjm.TACCClient initialized\", \"config\": {\"output\": \"<ipykernel.iostream.OutStream object at 0x7f7695553850>\", \"fmt\": \"json\", \"level\": 20}}\n",
      "{\"asctime\": \"2023-02-14 18:07:05,755\", \"name\": \"taccjm.TACCClient\", \"levelname\": \"INFO\", \"message\": \"Not running on TACC. Starting SSH session.\"}\n",
      "{\"asctime\": \"2023-02-14 18:07:05,756\", \"name\": \"taccjm.TACCClient\", \"levelname\": \"INFO\", \"message\": \"Looking for ssh_connection taccjm-ls6\"}\n",
      "{\"asctime\": \"2023-02-14 18:07:05,762\", \"name\": \"taccjm.TACCClient\", \"levelname\": \"INFO\", \"message\": \"Found ssh session taccjm-ls6\", \"id\": \"taccjm-ls6\", \"sys\": \"ls6.tacc.utexas.edu\", \"user\": \"clos21\", \"start\": \"2023-02-13T15:35:44.081530\", \"last_ts\": \"2023-02-14T18:06:52.938744\", \"log_level\": \"20\", \"log_file\": \"/home/jovyan/.taccjm/taccjm-ls6_ls6_clos21_log.json\", \"home_dir\": \"/home1/06307/clos21\", \"work_dir\": \"/work/06307/clos21/ls6\", \"scratch_dir\": \"/scratch/06307/clos21\"}\n",
      "{\"asctime\": \"2023-02-14 18:07:07,368\", \"name\": \"taccjm.TACCClient\", \"levelname\": \"INFO\", \"message\": \"Processed command 3265\", \"cmnd_config\": {\"id\": 3265, \"cmd\": \"mkdir -p /work/06307/clos21/ls6/taccjm-ls6/apps /work/06307/clos21/ls6/taccjm-ls6/scripts /scratch/06307/clos21/taccjm-ls6/jobs /scratch/06307/clos21/taccjm-ls6/trash\", \"ts\": \"2023-02-14T18:07:07.363024\", \"status\": \"COMPLETE\", \"stdout\": \"\", \"stderr\": \"\", \"history\": [{\"ts\": \"2023-02-14T18:07:06.136893\", \"status\": \"STARTED\"}], \"rt\": 1.0, \"rc\": 0}}\n"
     ]
    }
   ],
   "source": [
    "sim = EnsembleTACCSimulation.EnsembleTACCSimulation(\n",
    "    system=\"ls6\", name=\"test\", log_config={\"level\": logging.INFO}\n",
    ")"
   ]
  },
  {
   "cell_type": "code",
   "execution_count": 5,
   "id": "fe7c6346-0c83-49cd-bf5d-3ff0489402d7",
   "metadata": {},
   "outputs": [
    {
     "name": "stdout",
     "output_type": "stream",
     "text": [
      "{\"asctime\": \"2023-02-14 18:07:10,033\", \"name\": \"taccjm.TACCSimulation\", \"levelname\": \"INFO\", \"message\": \"Not in execution environment. Setting up job...\"}\n",
      "{\"asctime\": \"2023-02-14 18:07:10,035\", \"name\": \"taccjm.TACCSimulation\", \"levelname\": \"INFO\", \"message\": \"Starting simulation set-up.\", \"inputs\": {\"args\": {\"tasks\": [{\"cores\": 1, \"workdir\": \"runs/run_0\", \"pre\": \"mkdir another-dir\", \"cdir\": \"another-dir\", \"cmnd\": \"touch foo_0.txt; sleep 0; echo DONE > foo_0.txt\", \"post\": \"cp another-dir/foo_0.txt ../../outputs/foo_0.txt\"}, {\"cores\": 1, \"workdir\": \"runs/run_1\", \"pre\": \"mkdir another-dir\", \"cdir\": \"another-dir\", \"cmnd\": \"touch foo_1.txt; sleep 1; echo DONE > foo_1.txt\", \"post\": \"cp another-dir/foo_1.txt ../../outputs/foo_1.txt\"}, {\"cores\": 1, \"workdir\": \"runs/run_2\", \"pre\": \"mkdir another-dir\", \"cdir\": \"another-dir\", \"cmnd\": \"touch foo_2.txt; sleep 2; echo DONE > foo_2.txt\", \"post\": \"cp another-dir/foo_2.txt ../../outputs/foo_2.txt\"}, {\"cores\": 1, \"workdir\": \"runs/run_3\", \"pre\": \"mkdir another-dir\", \"cdir\": \"another-dir\", \"cmnd\": \"touch foo_3.txt; sleep 3; echo DONE > foo_3.txt\", \"post\": \"cp another-dir/foo_3.txt ../../outputs/foo_3.txt\"}, {\"cores\": 1, \"workdir\": \"runs/run_4\", \"pre\": \"mkdir another-dir\", \"cdir\": \"another-dir\", \"cmnd\": \"touch foo_4.txt; sleep 4; echo DONE > foo_4.txt\", \"post\": \"cp another-dir/foo_4.txt ../../outputs/foo_4.txt\"}, {\"cores\": 1, \"workdir\": \"runs/run_5\", \"pre\": \"mkdir another-dir\", \"cdir\": \"another-dir\", \"cmnd\": \"touch foo_5.txt; sleep 5; echo DONE > foo_5.txt\", \"post\": \"cp another-dir/foo_5.txt ../../outputs/foo_5.txt\"}, {\"cores\": 1, \"workdir\": \"runs/run_6\", \"pre\": \"mkdir another-dir\", \"cdir\": \"another-dir\", \"cmnd\": \"touch foo_6.txt; sleep 6; echo DONE > foo_6.txt\", \"post\": \"cp another-dir/foo_6.txt ../../outputs/foo_6.txt\"}, {\"cores\": 1, \"workdir\": \"runs/run_7\", \"pre\": \"mkdir another-dir\", \"cdir\": \"another-dir\", \"cmnd\": \"touch foo_7.txt; sleep 7; echo DONE > foo_7.txt\", \"post\": \"cp another-dir/foo_7.txt ../../outputs/foo_7.txt\"}, {\"cores\": 1, \"workdir\": \"runs/run_8\", \"pre\": \"mkdir another-dir\", \"cdir\": \"another-dir\", \"cmnd\": \"touch foo_8.txt; sleep 8; echo DONE > foo_8.txt\", \"post\": \"cp another-dir/foo_8.txt ../../outputs/foo_8.txt\"}, {\"cores\": 1, \"workdir\": \"runs/run_9\", \"pre\": \"mkdir another-dir\", \"cdir\": \"another-dir\", \"cmnd\": \"touch foo_9.txt; sleep 9; echo DONE > foo_9.txt\", \"post\": \"cp another-dir/foo_9.txt ../../outputs/foo_9.txt\"}]}, \"slurm_config\": {\"node_cound\": 1, \"processors_per_node\": 5}, \"stage\": true, \"run\": true}}\n",
      "{\"asctime\": \"2023-02-14 18:07:10,036\", \"name\": \"taccjm.TACCSimulation\", \"levelname\": \"INFO\", \"message\": \"Setting up python execution environment\"}\n",
      "{\"asctime\": \"2023-02-14 18:07:12,285\", \"name\": \"taccjm.TACCClient\", \"levelname\": \"INFO\", \"message\": \"Processed command 3266\", \"cmnd_config\": {\"id\": 3266, \"cmd\": \"mamba --help\", \"ts\": \"2023-02-14T18:07:12.283132\", \"status\": \"COMPLETE\", \"stdout\": \"usage: mamba [-h] [-V] command ...\\n\\nconda is a tool for managing and deploying applications, environments and packages.\\n\\nOptions:\\n\\npositional arguments:\\n  command\\n    clean        Remove unused packag\", \"stderr\": \"\", \"history\": [{\"ts\": \"2023-02-14T18:07:10.449515\", \"status\": \"STARTED\"}], \"rt\": 1.0, \"rc\": 0}}\n",
      "{\"asctime\": \"2023-02-14 18:07:14,879\", \"name\": \"taccjm.TACCClient\", \"levelname\": \"INFO\", \"message\": \"Processed command 3268\", \"cmnd_config\": {\"id\": 3268, \"cmd\": \"mamba env list\", \"ts\": \"2023-02-14T18:07:14.873288\", \"status\": \"COMPLETE\", \"stdout\": \"# conda environments:\\n#\\nbase                  *  /work/06307/clos21/ls6/mambaforge\\nch-sim                   /work/06307/clos21/ls6/mambaforge/envs/ch-sim\\ntaccjm                   /work/06307/clos21/ls\", \"stderr\": \"\", \"history\": [{\"ts\": \"2023-02-14T18:07:12.442492\", \"status\": \"STARTED\"}], \"rt\": 2.0, \"rc\": 0}}\n",
      "{\"asctime\": \"2023-02-14 18:07:14,884\", \"name\": \"taccjm.TACCClient\", \"levelname\": \"INFO\", \"message\": \"Getting/Installing taccjm\", \"pm\": \"mamba\", \"env\": \"taccjm\", \"conda\": \"pip\", \"pip\": \"git+https://github.com/cdelcastillo21/taccjm.git@0.0.5-improv\"}\n",
      "{\"asctime\": \"2023-02-14 18:07:17,470\", \"name\": \"taccjm.TACCClient\", \"levelname\": \"INFO\", \"message\": \"Processed command 3269\", \"cmnd_config\": {\"id\": 3269, \"cmd\": \"mamba env list\", \"ts\": \"2023-02-14T18:07:17.464772\", \"status\": \"COMPLETE\", \"stdout\": \"# conda environments:\\n#\\nbase                  *  /work/06307/clos21/ls6/mambaforge\\nch-sim                   /work/06307/clos21/ls6/mambaforge/envs/ch-sim\\ntaccjm                   /work/06307/clos21/ls\", \"stderr\": \"\", \"history\": [{\"ts\": \"2023-02-14T18:07:15.020728\", \"status\": \"STARTED\"}], \"rt\": 2.0, \"rc\": 0}}\n",
      "{\"asctime\": \"2023-02-14 18:07:17,473\", \"name\": \"taccjm.TACCClient\", \"levelname\": \"INFO\", \"message\": \"Installing conda packages\"}\n",
      "{\"asctime\": \"2023-02-14 18:07:24,701\", \"name\": \"taccjm.TACCClient\", \"levelname\": \"INFO\", \"message\": \"Processed command 3270\", \"cmnd_config\": {\"id\": 3270, \"cmd\": \"mamba install -n taccjm -y pip\", \"ts\": \"2023-02-14T18:07:24.695201\", \"status\": \"COMPLETE\", \"stdout\": \"Transaction\\n\\n  Prefix: /work/06307/clos21/ls6/mambaforge/envs/taccjm\\n\\n  All requested packages already installed\\n\\n\\nLooking for: ['pip']\\n\\n\\nPinned packages:\\n  - python 3.11.*\\n\\n\\n\", \"stderr\": \"\", \"history\": [{\"ts\": \"2023-02-14T18:07:17.605945\", \"status\": \"STARTED\"}], \"rt\": 7.0, \"rc\": 0}}\n",
      "{\"asctime\": \"2023-02-14 18:07:27,318\", \"name\": \"taccjm.TACCClient\", \"levelname\": \"INFO\", \"message\": \"Processed command 3272\", \"cmnd_config\": {\"id\": 3272, \"cmd\": \"mamba env list\", \"ts\": \"2023-02-14T18:07:27.313044\", \"status\": \"COMPLETE\", \"stdout\": \"# conda environments:\\n#\\nbase                  *  /work/06307/clos21/ls6/mambaforge\\nch-sim                   /work/06307/clos21/ls6/mambaforge/envs/ch-sim\\ntaccjm                   /work/06307/clos21/ls\", \"stderr\": \"\", \"history\": [{\"ts\": \"2023-02-14T18:07:24.789846\", \"status\": \"STARTED\"}], \"rt\": 2.0, \"rc\": 0}}\n",
      "{\"asctime\": \"2023-02-14 18:07:27,322\", \"name\": \"taccjm.TACCClient\", \"levelname\": \"INFO\", \"message\": \"Installing pip packages using pip path /work/06307/clos21/ls6/mambaforge/envs/taccjm/bin/pip\"}\n",
      "{\"asctime\": \"2023-02-14 18:07:35,144\", \"name\": \"taccjm.TACCClient\", \"levelname\": \"INFO\", \"message\": \"Processed command 3273\", \"cmnd_config\": {\"id\": 3273, \"cmd\": \"/work/06307/clos21/ls6/mambaforge/envs/taccjm/bin/pip install git+https://github.com/cdelcastillo21/taccjm.git@0.0.5-improv\", \"ts\": \"2023-02-14T18:07:35.137871\", \"status\": \"COMPLETE\", \"stdout\": \"Collecting git+https://github.com/cdelcastillo21/taccjm.git@0.0.5-improv\\n  Cloning https://github.com/cdelcastillo21/taccjm.git (to revision 0.0.5-improv) to /tmp/pip-req-build-o0j4hp1x\\n  Resolved htt\", \"stderr\": \"  Running command git clone --filter=blob:none --quiet https://github.com/cdelcastillo21/taccjm.git /tmp/pip-req-build-o0j4hp1x\\n  Running command git checkout -b 0.0.5-improv --track origin/0.0.5-improv\\n  Switched to a new branch '0.0.5-improv'\\n  Branch '0.0.5-improv' set up to track remote branch '0.0.5-improv' from 'origin'.\\n\", \"history\": [{\"ts\": \"2023-02-14T18:07:27.444890\", \"status\": \"STARTED\"}], \"rt\": 7.0, \"rc\": 0}}\n",
      "{\"asctime\": \"2023-02-14 18:07:37,490\", \"name\": \"taccjm.TACCClient\", \"levelname\": \"INFO\", \"message\": \"Processed command 3274\", \"cmnd_config\": {\"id\": 3274, \"cmd\": \"mamba list --name taccjm\", \"ts\": \"2023-02-14T18:07:37.484163\", \"status\": \"COMPLETE\", \"stdout\": \"# packages in environment at /work/06307/clos21/ls6/mambaforge/envs/taccjm:\\n#\\n# Name                    Version                   Build  Channel\\n_libgcc_mutex             0.1                 conda_for\", \"stderr\": \"\", \"history\": [{\"ts\": \"2023-02-14T18:07:35.271062\", \"status\": \"STARTED\"}], \"rt\": 2.0, \"rc\": 0}}\n",
      "{\"asctime\": \"2023-02-14 18:07:37,494\", \"name\": \"taccjm.TACCClient\", \"levelname\": \"INFO\", \"message\": \"Environment configuration done\", \"env\": {\"name\": {\"0\": \"_libgcc_mutex\", \"1\": \"_openmp_mutex\", \"2\": \"anyio\", \"3\": \"bcrypt\", \"4\": \"begins\", \"5\": \"bzip2\", \"6\": \"ca-certificates\", \"7\": \"certifi\", \"8\": \"cffi\", \"9\": \"charset-normalizer\", \"10\": \"click\", \"11\": \"cryptography\", \"12\": \"falcon\", \"13\": \"fastapi\", \"14\": \"h11\", \"15\": \"httpcore\", \"16\": \"httpx\", \"17\": \"hug\", \"18\": \"idna\", \"19\": \"ld_impl_linux-64\", \"20\": \"libffi\", \"21\": \"libgcc-ng\", \"22\": \"libgomp\", \"23\": \"libnsl\", \"24\": \"libsqlite\", \"25\": \"libuuid\", \"26\": \"libzlib\", \"27\": \"ncurses\", \"28\": \"numpy\", \"29\": \"openssl\", \"30\": \"pandas\", \"31\": \"paramiko\", \"32\": \"pip\", \"33\": \"prettytable\", \"34\": \"psutil\", \"35\": \"pycparser\", \"36\": \"pydantic\", \"37\": \"pynacl\", \"38\": \"python\", \"39\": \"python-dateutil\", \"40\": \"python-dotenv\", \"41\": \"python-json-logger\", \"42\": \"pytz\", \"43\": \"readline\", \"44\": \"requests\", \"45\": \"rfc3986\", \"46\": \"setuptools\", \"47\": \"six\", \"48\": \"sniffio\", \"49\": \"starlette\", \"50\": \"taccjm\", \"51\": \"tk\", \"52\": \"typing-extensions\", \"53\": \"tzdata\", \"54\": \"urllib3\", \"55\": \"uvicorn\", \"56\": \"wcwidth\", \"57\": \"wheel\", \"58\": \"xz\"}, \"version\": {\"0\": \"0.1\", \"1\": \"4.5\", \"2\": \"3.6.2\", \"3\": \"4.0.1\", \"4\": \"0.9\", \"5\": \"1.0.8\", \"6\": \"2022.12.7\", \"7\": \"2022.12.7\", \"8\": \"1.15.1\", \"9\": \"3.0.1\", \"10\": \"8.1.3\", \"11\": \"39.0.1\", \"12\": \"2.0.0\", \"13\": \"0.91.0\", \"14\": \"0.14.0\", \"15\": \"0.16.3\", \"16\": \"0.23.3\", \"17\": \"2.6.1\", \"18\": \"3.4\", \"19\": \"2.40\", \"20\": \"3.4.2\", \"21\": \"12.2.0\", \"22\": \"12.2.0\", \"23\": \"2.0.0\", \"24\": \"3.40.0\", \"25\": \"2.32.1\", \"26\": \"1.2.13\", \"27\": \"6.3\", \"28\": \"1.24.2\", \"29\": \"3.0.8\", \"30\": \"1.5.3\", \"31\": \"3.0.0\", \"32\": \"23.0\", \"33\": \"3.6.0\", \"34\": \"5.9.4\", \"35\": \"2.21\", \"36\": \"1.10.4\", \"37\": \"1.5.0\", \"38\": \"3.11.0\", \"39\": \"2.8.2\", \"40\": \"0.21.1\", \"41\": \"2.0.5\", \"42\": \"2022.7.1\", \"43\": \"8.1.2\", \"44\": \"2.28.2\", \"45\": \"1.5.0\", \"46\": \"67.1.0\", \"47\": \"1.16.0\", \"48\": \"1.3.0\", \"49\": \"0.24.0\", \"50\": \"0.0.3.post1.dev29+gb5fa323\", \"51\": \"8.6.12\", \"52\": \"4.4.0\", \"53\": \"2022g\", \"54\": \"1.26.14\", \"55\": \"0.20.0\", \"56\": \"0.2.6\", \"57\": \"0.38.4\", \"58\": \"5.2.6\"}, \"build\": {\"0\": \"conda_forge\", \"1\": \"2_gnu\", \"2\": \"pypi_0\", \"3\": \"pypi_0\", \"4\": \"pypi_0\", \"5\": \"h7f98852_4\", \"6\": \"ha878542_0\", \"7\": \"pypi_0\", \"8\": \"pypi_0\", \"9\": \"pypi_0\", \"10\": \"pypi_0\", \"11\": \"pypi_0\", \"12\": \"pypi_0\", \"13\": \"pypi_0\", \"14\": \"pypi_0\", \"15\": \"pypi_0\", \"16\": \"pypi_0\", \"17\": \"pypi_0\", \"18\": \"pypi_0\", \"19\": \"h41732ed_0\", \"20\": \"h7f98852_5\", \"21\": \"h65d4601_19\", \"22\": \"h65d4601_19\", \"23\": \"h7f98852_0\", \"24\": \"h753d276_0\", \"25\": \"h7f98852_1000\", \"26\": \"h166bdaf_4\", \"27\": \"h27087fc_1\", \"28\": \"pypi_0\", \"29\": \"h0b41bf4_0\", \"30\": \"pypi_0\", \"31\": \"pypi_0\", \"32\": \"pyhd8ed1ab_0\", \"33\": \"pypi_0\", \"34\": \"pypi_0\", \"35\": \"pypi_0\", \"36\": \"pypi_0\", \"37\": \"pypi_0\", \"38\": \"he550d4f_1_cpython\", \"39\": \"pypi_0\", \"40\": \"pypi_0\", \"41\": \"pypi_0\", \"42\": \"pypi_0\", \"43\": \"h0f457ee_0\", \"44\": \"pypi_0\", \"45\": \"pypi_0\", \"46\": \"pyhd8ed1ab_0\", \"47\": \"pypi_0\", \"48\": \"pypi_0\", \"49\": \"pypi_0\", \"50\": \"pypi_0\", \"51\": \"h27826a3_0\", \"52\": \"pypi_0\", \"53\": \"h191b570_0\", \"54\": \"pypi_0\", \"55\": \"pypi_0\", \"56\": \"pypi_0\", \"57\": \"pyhd8ed1ab_0\", \"58\": \"h166bdaf_0\"}, \"channel\": {\"0\": \"conda-forge\", \"1\": \"conda-forge\", \"2\": \"pypi\", \"3\": \"pypi\", \"4\": \"pypi\", \"5\": \"conda-forge\", \"6\": \"conda-forge\", \"7\": \"pypi\", \"8\": \"pypi\", \"9\": \"pypi\", \"10\": \"pypi\", \"11\": \"pypi\", \"12\": \"pypi\", \"13\": \"pypi\", \"14\": \"pypi\", \"15\": \"pypi\", \"16\": \"pypi\", \"17\": \"pypi\", \"18\": \"pypi\", \"19\": \"conda-forge\", \"20\": \"conda-forge\", \"21\": \"conda-forge\", \"22\": \"conda-forge\", \"23\": \"conda-forge\", \"24\": \"conda-forge\", \"25\": \"conda-forge\", \"26\": \"conda-forge\", \"27\": \"conda-forge\", \"28\": \"pypi\", \"29\": \"conda-forge\", \"30\": \"pypi\", \"31\": \"pypi\", \"32\": \"conda-forge\", \"33\": \"pypi\", \"34\": \"pypi\", \"35\": \"pypi\", \"36\": \"pypi\", \"37\": \"pypi\", \"38\": \"conda-forge\", \"39\": \"pypi\", \"40\": \"pypi\", \"41\": \"pypi\", \"42\": \"pypi\", \"43\": \"conda-forge\", \"44\": \"pypi\", \"45\": \"pypi\", \"46\": \"conda-forge\", \"47\": \"pypi\", \"48\": \"pypi\", \"49\": \"pypi\", \"50\": \"pypi\", \"51\": \"conda-forge\", \"52\": \"pypi\", \"53\": \"conda-forge\", \"54\": \"pypi\", \"55\": \"pypi\", \"56\": \"pypi\", \"57\": \"conda-forge\", \"58\": \"conda-forge\"}, \"path\": {\"0\": \"/work/06307/clos21/ls6/mambaforge/envs/taccjm\", \"1\": \"/work/06307/clos21/ls6/mambaforge/envs/taccjm\", \"2\": \"/work/06307/clos21/ls6/mambaforge/envs/taccjm\", \"3\": \"/work/06307/clos21/ls6/mambaforge/envs/taccjm\", \"4\": \"/work/06307/clos21/ls6/mambaforge/envs/taccjm\", \"5\": \"/work/06307/clos21/ls6/mambaforge/envs/taccjm\", \"6\": \"/work/06307/clos21/ls6/mambaforge/envs/taccjm\", \"7\": \"/work/06307/clos21/ls6/mambaforge/envs/taccjm\", \"8\": \"/work/06307/clos21/ls6/mambaforge/envs/taccjm\", \"9\": \"/work/06307/clos21/ls6/mambaforge/envs/taccjm\", \"10\": \"/work/06307/clos21/ls6/mambaforge/envs/taccjm\", \"11\": \"/work/06307/clos21/ls6/mambaforge/envs/taccjm\", \"12\": \"/work/06307/clos21/ls6/mambaforge/envs/taccjm\", \"13\": \"/work/06307/clos21/ls6/mambaforge/envs/taccjm\", \"14\": \"/work/06307/clos21/ls6/mambaforge/envs/taccjm\", \"15\": \"/work/06307/clos21/ls6/mambaforge/envs/taccjm\", \"16\": \"/work/06307/clos21/ls6/mambaforge/envs/taccjm\", \"17\": \"/work/06307/clos21/ls6/mambaforge/envs/taccjm\", \"18\": \"/work/06307/clos21/ls6/mambaforge/envs/taccjm\", \"19\": \"/work/06307/clos21/ls6/mambaforge/envs/taccjm\", \"20\": \"/work/06307/clos21/ls6/mambaforge/envs/taccjm\", \"21\": \"/work/06307/clos21/ls6/mambaforge/envs/taccjm\", \"22\": \"/work/06307/clos21/ls6/mambaforge/envs/taccjm\", \"23\": \"/work/06307/clos21/ls6/mambaforge/envs/taccjm\", \"24\": \"/work/06307/clos21/ls6/mambaforge/envs/taccjm\", \"25\": \"/work/06307/clos21/ls6/mambaforge/envs/taccjm\", \"26\": \"/work/06307/clos21/ls6/mambaforge/envs/taccjm\", \"27\": \"/work/06307/clos21/ls6/mambaforge/envs/taccjm\", \"28\": \"/work/06307/clos21/ls6/mambaforge/envs/taccjm\", \"29\": \"/work/06307/clos21/ls6/mambaforge/envs/taccjm\", \"30\": \"/work/06307/clos21/ls6/mambaforge/envs/taccjm\", \"31\": \"/work/06307/clos21/ls6/mambaforge/envs/taccjm\", \"32\": \"/work/06307/clos21/ls6/mambaforge/envs/taccjm\", \"33\": \"/work/06307/clos21/ls6/mambaforge/envs/taccjm\", \"34\": \"/work/06307/clos21/ls6/mambaforge/envs/taccjm\", \"35\": \"/work/06307/clos21/ls6/mambaforge/envs/taccjm\", \"36\": \"/work/06307/clos21/ls6/mambaforge/envs/taccjm\", \"37\": \"/work/06307/clos21/ls6/mambaforge/envs/taccjm\", \"38\": \"/work/06307/clos21/ls6/mambaforge/envs/taccjm\", \"39\": \"/work/06307/clos21/ls6/mambaforge/envs/taccjm\", \"40\": \"/work/06307/clos21/ls6/mambaforge/envs/taccjm\", \"41\": \"/work/06307/clos21/ls6/mambaforge/envs/taccjm\", \"42\": \"/work/06307/clos21/ls6/mambaforge/envs/taccjm\", \"43\": \"/work/06307/clos21/ls6/mambaforge/envs/taccjm\", \"44\": \"/work/06307/clos21/ls6/mambaforge/envs/taccjm\", \"45\": \"/work/06307/clos21/ls6/mambaforge/envs/taccjm\", \"46\": \"/work/06307/clos21/ls6/mambaforge/envs/taccjm\", \"47\": \"/work/06307/clos21/ls6/mambaforge/envs/taccjm\", \"48\": \"/work/06307/clos21/ls6/mambaforge/envs/taccjm\", \"49\": \"/work/06307/clos21/ls6/mambaforge/envs/taccjm\", \"50\": \"/work/06307/clos21/ls6/mambaforge/envs/taccjm\", \"51\": \"/work/06307/clos21/ls6/mambaforge/envs/taccjm\", \"52\": \"/work/06307/clos21/ls6/mambaforge/envs/taccjm\", \"53\": \"/work/06307/clos21/ls6/mambaforge/envs/taccjm\", \"54\": \"/work/06307/clos21/ls6/mambaforge/envs/taccjm\", \"55\": \"/work/06307/clos21/ls6/mambaforge/envs/taccjm\", \"56\": \"/work/06307/clos21/ls6/mambaforge/envs/taccjm\", \"57\": \"/work/06307/clos21/ls6/mambaforge/envs/taccjm\", \"58\": \"/work/06307/clos21/ls6/mambaforge/envs/taccjm\"}}}\n",
      "{\"asctime\": \"2023-02-14 18:07:37,495\", \"name\": \"taccjm.TACCSimulation\", \"levelname\": \"INFO\", \"message\": \"Creating job config.\"}\n",
      "{\"asctime\": \"2023-02-14 18:07:38,974\", \"name\": \"taccjm.TACCClient\", \"levelname\": \"INFO\", \"message\": \"Processed command 3275\", \"cmnd_config\": {\"id\": 3275, \"cmd\": \"/usr/local/etc/taccinfo\", \"ts\": \"2023-02-14T18:07:38.969056\", \"status\": \"COMPLETE\", \"stdout\": \"---------------------- Project balances for user clos21 -----------------------\\n| Name           Avail SUs     Expires |                                      |\\n| ADCIRC              3799  2023-03-31 |\", \"stderr\": \"\", \"history\": [{\"ts\": \"2023-02-14T18:07:37.620087\", \"status\": \"STARTED\"}], \"rt\": 1.0, \"rc\": 0}}\n",
      "{\"asctime\": \"2023-02-14 18:07:38,975\", \"name\": \"taccjm.TACCSimulation\", \"levelname\": \"INFO\", \"message\": \"Allocation not specified. Using ADCIRC.\", \"allocations\": [{\"name\": \"ADCIRC\", \"service_units\": 3799, \"exp_date\": \"2023-03-31\"}]}\n",
      "{\"asctime\": \"2023-02-14 18:07:38,976\", \"name\": \"taccjm.TACCSimulation\", \"levelname\": \"INFO\", \"message\": \"Slurm settings configured\", \"slurm_config\": {\"allocation\": \"ADCIRC\", \"node_count\": 1, \"processors_per_node\": 5, \"max_run_time\": 0.2, \"queue\": \"development\", \"dependencies\": [], \"node_cound\": 1}}\n",
      "{\"asctime\": \"2023-02-14 18:07:38,977\", \"name\": \"taccjm.TACCSimulation\", \"levelname\": \"INFO\", \"message\": \"Processing Arguments\"}\n",
      "{\"asctime\": \"2023-02-14 18:07:38,977\", \"name\": \"taccjm.TACCSimulation\", \"levelname\": \"INFO\", \"message\": \"Found apram tasks\", \"arg\": {\"name\": \"tasks\", \"type\": \"apram\", \"desc\": \"List of tasks for ensemble\", \"default\": []}}\n",
      "{\"asctime\": \"2023-02-14 18:07:38,978\", \"name\": \"taccjm.TACCSimulation\", \"levelname\": \"INFO\", \"message\": \"Setting arg default value\"}\n",
      "{\"asctime\": \"2023-02-14 18:07:38,979\", \"name\": \"taccjm.TACCSimulation\", \"levelname\": \"INFO\", \"message\": \"Found param task_max_runtime\", \"arg\": {\"name\": \"task_max_runtime\", \"type\": \"param\", \"desc\": \"Max runtime (in hours) for tasks in ensemble.\", \"default\": 0.1}}\n",
      "{\"asctime\": \"2023-02-14 18:07:38,981\", \"name\": \"taccjm.TACCSimulation\", \"levelname\": \"INFO\", \"message\": \"Setting arg default value\"}\n",
      "{\"asctime\": \"2023-02-14 18:07:38,981\", \"name\": \"taccjm.TACCSimulation\", \"levelname\": \"INFO\", \"message\": \"Found param max_runtime\", \"arg\": {\"name\": \"max_runtime\", \"type\": \"param\", \"desc\": \"Max runtime for the whole ensemble.\", \"default\": 0.2}}\n",
      "{\"asctime\": \"2023-02-14 18:07:38,982\", \"name\": \"taccjm.TACCSimulation\", \"levelname\": \"INFO\", \"message\": \"Setting arg default value\"}\n",
      "{\"asctime\": \"2023-02-14 18:07:38,983\", \"name\": \"taccjm.TACCSimulation\", \"levelname\": \"INFO\", \"message\": \"Found param summary_interval\", \"arg\": {\"name\": \"summary_interval\", \"type\": \"param\", \"desc\": \"Interval (in seconds) of output of task-queue summary\", \"default\": 60}}\n",
      "{\"asctime\": \"2023-02-14 18:07:38,983\", \"name\": \"taccjm.TACCSimulation\", \"levelname\": \"INFO\", \"message\": \"Parsing submit script\", \"run_cmd\": \"chmod +x test.py\\n\\nremora ./test.py\"}\n",
      "{\"asctime\": \"2023-02-14 18:07:38,984\", \"name\": \"taccjm.TACCSimulation\", \"levelname\": \"INFO\", \"message\": \"Reading sim script at /home/jovyan/work/repos/taccjm/src/taccjm/EnsembleTACCSimulation.py\"}\n",
      "{\"asctime\": \"2023-02-14 18:07:38,986\", \"name\": \"taccjm.TACCSimulation\", \"levelname\": \"INFO\", \"message\": \"Detected no main clause... adding.\"}\n",
      "{\"asctime\": \"2023-02-14 18:07:38,987\", \"name\": \"taccjm.TACCSimulation\", \"levelname\": \"INFO\", \"message\": \"Job configuration done!\", \"job_config\": {\"name\": \"test\", \"job_id\": \"test_20230214_180737h_snak84\", \"job_dir\": \"/scratch/06307/clos21/taccjm-ls6/jobs/test_20230214_180737h_snak84\", \"slurm\": {\"allocation\": \"ADCIRC\", \"node_count\": 1, \"processors_per_node\": 5, \"max_run_time\": 0.2, \"queue\": \"development\", \"dependencies\": [], \"node_cound\": 1}, \"args\": {\"tasks\": [{\"cores\": 1, \"workdir\": \"runs/run_0\", \"pre\": \"mkdir another-dir\", \"cdir\": \"another-dir\", \"cmnd\": \"touch foo_0.txt; sleep 0; echo DONE > foo_0.txt\", \"post\": \"cp another-dir/foo_0.txt ../../outputs/foo_0.txt\"}, {\"cores\": 1, \"workdir\": \"runs/run_1\", \"pre\": \"mkdir another-dir\", \"cdir\": \"another-dir\", \"cmnd\": \"touch foo_1.txt; sleep 1; echo DONE > foo_1.txt\", \"post\": \"cp another-dir/foo_1.txt ../../outputs/foo_1.txt\"}, {\"cores\": 1, \"workdir\": \"runs/run_2\", \"pre\": \"mkdir another-dir\", \"cdir\": \"another-dir\", \"cmnd\": \"touch foo_2.txt; sleep 2; echo DONE > foo_2.txt\", \"post\": \"cp another-dir/foo_2.txt ../../outputs/foo_2.txt\"}, {\"cores\": 1, \"workdir\": \"runs/run_3\", \"pre\": \"mkdir another-dir\", \"cdir\": \"another-dir\", \"cmnd\": \"touch foo_3.txt; sleep 3; echo DONE > foo_3.txt\", \"post\": \"cp another-dir/foo_3.txt ../../outputs/foo_3.txt\"}, {\"cores\": 1, \"workdir\": \"runs/run_4\", \"pre\": \"mkdir another-dir\", \"cdir\": \"another-dir\", \"cmnd\": \"touch foo_4.txt; sleep 4; echo DONE > foo_4.txt\", \"post\": \"cp another-dir/foo_4.txt ../../outputs/foo_4.txt\"}, {\"cores\": 1, \"workdir\": \"runs/run_5\", \"pre\": \"mkdir another-dir\", \"cdir\": \"another-dir\", \"cmnd\": \"touch foo_5.txt; sleep 5; echo DONE > foo_5.txt\", \"post\": \"cp another-dir/foo_5.txt ../../outputs/foo_5.txt\"}, {\"cores\": 1, \"workdir\": \"runs/run_6\", \"pre\": \"mkdir another-dir\", \"cdir\": \"another-dir\", \"cmnd\": \"touch foo_6.txt; sleep 6; echo DONE > foo_6.txt\", \"post\": \"cp another-dir/foo_6.txt ../../outputs/foo_6.txt\"}, {\"cores\": 1, \"workdir\": \"runs/run_7\", \"pre\": \"mkdir another-dir\", \"cdir\": \"another-dir\", \"cmnd\": \"touch foo_7.txt; sleep 7; echo DONE > foo_7.txt\", \"post\": \"cp another-dir/foo_7.txt ../../outputs/foo_7.txt\"}, {\"cores\": 1, \"workdir\": \"runs/run_8\", \"pre\": \"mkdir another-dir\", \"cdir\": \"another-dir\", \"cmnd\": \"touch foo_8.txt; sleep 8; echo DONE > foo_8.txt\", \"post\": \"cp another-dir/foo_8.txt ../../outputs/foo_8.txt\"}, {\"cores\": 1, \"workdir\": \"runs/run_9\", \"pre\": \"mkdir another-dir\", \"cdir\": \"another-dir\", \"cmnd\": \"touch foo_9.txt; sleep 9; echo DONE > foo_9.txt\", \"post\": \"cp another-dir/foo_9.txt ../../outputs/foo_9.txt\"}], \"task_max_runtime\": 0.1, \"max_runtime\": 0.2, \"summary_interval\": 60}, \"submit_script\": \"#!/bin/bash\\n#----------------------------------------------------\\n# test \\n#\\n#----------------------------------------------------\\n\\n#SBATCH -J test_20230214_180737h_snak84     # Job name\\n#SBATCH -o /scratch/06307/clos21/taccjm-ls6/jobs/test_20230214_180737h_snak84/test_20230214_180737h_snak84.o%j # Name of stdout output file\\n#SBATCH -e /scratch/06307/clos21/taccjm-ls6/jobs/test_20230214_180737h_snak84/test_20230214_180737h_snak84.e%j # Name of stderr error file\\n#SBATCH -p development      # Queue (partition) name\\n#SBATCH -N 1          # Total num nodes\\n#SBATCH -n 5          # Total num mpi tasks\\n#SBATCH -t 00:12:00         # Run time (hh:mm:ss)\\n#SBATCH --ntasks-per-node 5 # tasks per node\\n#SBATCH -A ADCIRC # Allocation name\\n\\n#----------------------------------------------------\\n\\ncd /scratch/06307/clos21/taccjm-ls6/jobs/test_20230214_180737h_snak84\\n\\nmodule load remora\\n\\nchmod +x test.py\\n\\nremora ./test.py\\n\", \"sim_script\": \"#!/work/06307/clos21/ls6/mambaforge/envs/taccjm/bin/python\\n\\n\\\"\\\"\\\"\\nEnsemble TACC Simulation\\n\\n\\\"\\\"\\\"\\nimport logging\\n\\nfrom taccjm.pyslurmtq.SLURMTaskQueue import SLURMTaskQueue\\nfrom taccjm.TACCSimulation impo\"}}\n",
      "{\"asctime\": \"2023-02-14 18:07:38,988\", \"name\": \"taccjm.TACCSimulation\", \"levelname\": \"INFO\", \"message\": \"Staging job to /tmp/tmp7y1jun4h\", \"job_dir\": \"/scratch/06307/clos21/taccjm-ls6/jobs/test_20230214_180737h_snak84\"}\n",
      "{\"asctime\": \"2023-02-14 18:07:40,328\", \"name\": \"taccjm.TACCClient\", \"levelname\": \"INFO\", \"message\": \"Processed command 3276\", \"cmnd_config\": {\"id\": 3276, \"cmd\": \"mkdir /scratch/06307/clos21/taccjm-ls6/jobs/test_20230214_180737h_snak84\", \"ts\": \"2023-02-14T18:07:40.322310\", \"status\": \"COMPLETE\", \"stdout\": \"\", \"stderr\": \"\", \"history\": [{\"ts\": \"2023-02-14T18:07:39.106385\", \"status\": \"STARTED\"}], \"rt\": 1.0, \"rc\": 0}}\n",
      "{\"asctime\": \"2023-02-14 18:07:40,329\", \"name\": \"taccjm.TACCSimulation\", \"levelname\": \"INFO\", \"message\": \"Writing submit script\", \"path\": \"/tmp/tmp7y1jun4h/submit_script.sh\"}\n",
      "{\"asctime\": \"2023-02-14 18:07:40,331\", \"name\": \"taccjm.TACCSimulation\", \"levelname\": \"INFO\", \"message\": \"Writing sim script\", \"path\": \"/tmp/tmp7y1jun4h/test.py\"}\n",
      "{\"asctime\": \"2023-02-14 18:07:40,332\", \"name\": \"taccjm.TACCSimulation\", \"levelname\": \"INFO\", \"message\": \"Writing job config\", \"path\": \"/tmp/tmp7y1jun4h/job.json\"}\n",
      "{\"asctime\": \"2023-02-14 18:07:40,334\", \"name\": \"taccjm.TACCSimulation\", \"levelname\": \"INFO\", \"message\": \"Waiting for inputs to finish staging\", \"stage_commands\": []}\n",
      "{\"asctime\": \"2023-02-14 18:07:40,335\", \"name\": \"taccjm.TACCSimulation\", \"levelname\": \"INFO\", \"message\": \"Uploading job directory\", \"path\": \"/tmp/tmp7y1jun4h/job.json\"}\n",
      "{\"asctime\": \"2023-02-14 18:07:43,989\", \"name\": \"taccjm.TACCSimulation\", \"levelname\": \"INFO\", \"message\": \"Submitting job\"}\n",
      "{\"asctime\": \"2023-02-14 18:07:46,759\", \"name\": \"taccjm.TACCClient\", \"levelname\": \"INFO\", \"message\": \"Processed command 3278\", \"cmnd_config\": {\"id\": 3278, \"cmd\": \"cd /scratch/06307/clos21/taccjm-ls6/jobs/test_20230214_180737h_snak84 && sbatch /scratch/06307/clos21/taccjm-ls6/jobs/test_20230214_180737h_snak84/submit_script.sh\", \"ts\": \"2023-02-14T18:07:46.753720\", \"status\": \"COMPLETE\", \"stdout\": \"\\n-----------------------------------------------------------------\\n          Welcome to the Lonestar6 Supercomputer          \\n-----------------------------------------------------------------\\n\\nNo rese\", \"stderr\": \"\", \"history\": [{\"ts\": \"2023-02-14T18:07:45.511877\", \"status\": \"STARTED\"}], \"rt\": 1.0, \"rc\": 0}}\n",
      "{\"asctime\": \"2023-02-14 18:07:57,941\", \"name\": \"taccjm.TACCSimulation\", \"levelname\": \"INFO\", \"message\": \"Job submitted\", \"slurm_config\": {\"allocation\": \"ADCIRC\", \"node_count\": 1, \"processors_per_node\": 5, \"max_run_time\": 0.2, \"queue\": \"development\", \"dependencies\": [], \"node_cound\": 1}}\n",
      "{\"asctime\": \"2023-02-14 18:07:57,942\", \"name\": \"taccjm.TACCSimulation\", \"levelname\": \"INFO\", \"message\": \"Job {job_config['job_id']} set up and submitted\", \"job_config\": {\"name\": \"test\", \"job_id\": \"test_20230214_180737h_snak84\", \"job_dir\": \"/scratch/06307/clos21/taccjm-ls6/jobs/test_20230214_180737h_snak84\", \"slurm\": {\"allocation\": \"ADCIRC\", \"node_count\": 1, \"processors_per_node\": 5, \"max_run_time\": 0.2, \"queue\": \"development\", \"dependencies\": [], \"node_cound\": 1}, \"args\": {\"tasks\": [{\"cores\": 1, \"workdir\": \"runs/run_0\", \"pre\": \"mkdir another-dir\", \"cdir\": \"another-dir\", \"cmnd\": \"touch foo_0.txt; sleep 0; echo DONE > foo_0.txt\", \"post\": \"cp another-dir/foo_0.txt ../../outputs/foo_0.txt\"}, {\"cores\": 1, \"workdir\": \"runs/run_1\", \"pre\": \"mkdir another-dir\", \"cdir\": \"another-dir\", \"cmnd\": \"touch foo_1.txt; sleep 1; echo DONE > foo_1.txt\", \"post\": \"cp another-dir/foo_1.txt ../../outputs/foo_1.txt\"}, {\"cores\": 1, \"workdir\": \"runs/run_2\", \"pre\": \"mkdir another-dir\", \"cdir\": \"another-dir\", \"cmnd\": \"touch foo_2.txt; sleep 2; echo DONE > foo_2.txt\", \"post\": \"cp another-dir/foo_2.txt ../../outputs/foo_2.txt\"}, {\"cores\": 1, \"workdir\": \"runs/run_3\", \"pre\": \"mkdir another-dir\", \"cdir\": \"another-dir\", \"cmnd\": \"touch foo_3.txt; sleep 3; echo DONE > foo_3.txt\", \"post\": \"cp another-dir/foo_3.txt ../../outputs/foo_3.txt\"}, {\"cores\": 1, \"workdir\": \"runs/run_4\", \"pre\": \"mkdir another-dir\", \"cdir\": \"another-dir\", \"cmnd\": \"touch foo_4.txt; sleep 4; echo DONE > foo_4.txt\", \"post\": \"cp another-dir/foo_4.txt ../../outputs/foo_4.txt\"}, {\"cores\": 1, \"workdir\": \"runs/run_5\", \"pre\": \"mkdir another-dir\", \"cdir\": \"another-dir\", \"cmnd\": \"touch foo_5.txt; sleep 5; echo DONE > foo_5.txt\", \"post\": \"cp another-dir/foo_5.txt ../../outputs/foo_5.txt\"}, {\"cores\": 1, \"workdir\": \"runs/run_6\", \"pre\": \"mkdir another-dir\", \"cdir\": \"another-dir\", \"cmnd\": \"touch foo_6.txt; sleep 6; echo DONE > foo_6.txt\", \"post\": \"cp another-dir/foo_6.txt ../../outputs/foo_6.txt\"}, {\"cores\": 1, \"workdir\": \"runs/run_7\", \"pre\": \"mkdir another-dir\", \"cdir\": \"another-dir\", \"cmnd\": \"touch foo_7.txt; sleep 7; echo DONE > foo_7.txt\", \"post\": \"cp another-dir/foo_7.txt ../../outputs/foo_7.txt\"}, {\"cores\": 1, \"workdir\": \"runs/run_8\", \"pre\": \"mkdir another-dir\", \"cdir\": \"another-dir\", \"cmnd\": \"touch foo_8.txt; sleep 8; echo DONE > foo_8.txt\", \"post\": \"cp another-dir/foo_8.txt ../../outputs/foo_8.txt\"}, {\"cores\": 1, \"workdir\": \"runs/run_9\", \"pre\": \"mkdir another-dir\", \"cdir\": \"another-dir\", \"cmnd\": \"touch foo_9.txt; sleep 9; echo DONE > foo_9.txt\", \"post\": \"cp another-dir/foo_9.txt ../../outputs/foo_9.txt\"}], \"task_max_runtime\": 0.1, \"max_runtime\": 0.2, \"summary_interval\": 60}, \"submit_script\": \"/scratch/06307/clos21/taccjm-ls6/jobs/test_20230214_180737h_snak84/submit_script.sh\", \"sim_script\": \"/scratch/06307/clos21/taccjm-ls6/jobs/test_20230214_180737h_snak84/test.py\", \"slurm_id\": \"702444\"}}\n"
     ]
    }
   ],
   "source": [
    "slurm_config = {\"node_cound\": 1, \"processors_per_node\": 5}\n",
    "job_config = sim.run(\n",
    "    args={\"tasks\": tasks},\n",
    "    slurm_config=slurm_config,\n",
    "    stage=True,\n",
    "    python_setup=True,\n",
    "    run=True,\n",
    "    remora=True,\n",
    ")"
   ]
  },
  {
   "cell_type": "code",
   "execution_count": 6,
   "id": "fd5d955e-f93c-4895-aa2d-b26cbb08fff3",
   "metadata": {},
   "outputs": [
    {
     "data": {
      "text/plain": [
       "{'name': 'test',\n",
       " 'job_id': 'test_20230214_180737h_snak84',\n",
       " 'job_dir': '/scratch/06307/clos21/taccjm-ls6/jobs/test_20230214_180737h_snak84',\n",
       " 'slurm': {'allocation': 'ADCIRC',\n",
       "  'node_count': 1,\n",
       "  'processors_per_node': 5,\n",
       "  'max_run_time': 0.2,\n",
       "  'queue': 'development',\n",
       "  'dependencies': [],\n",
       "  'node_cound': 1},\n",
       " 'args': {'tasks': [{'cores': 1,\n",
       "    'workdir': 'runs/run_0',\n",
       "    'pre': 'mkdir another-dir',\n",
       "    'cdir': 'another-dir',\n",
       "    'cmnd': 'touch foo_0.txt; sleep 0; echo DONE > foo_0.txt',\n",
       "    'post': 'cp another-dir/foo_0.txt ../../outputs/foo_0.txt'},\n",
       "   {'cores': 1,\n",
       "    'workdir': 'runs/run_1',\n",
       "    'pre': 'mkdir another-dir',\n",
       "    'cdir': 'another-dir',\n",
       "    'cmnd': 'touch foo_1.txt; sleep 1; echo DONE > foo_1.txt',\n",
       "    'post': 'cp another-dir/foo_1.txt ../../outputs/foo_1.txt'},\n",
       "   {'cores': 1,\n",
       "    'workdir': 'runs/run_2',\n",
       "    'pre': 'mkdir another-dir',\n",
       "    'cdir': 'another-dir',\n",
       "    'cmnd': 'touch foo_2.txt; sleep 2; echo DONE > foo_2.txt',\n",
       "    'post': 'cp another-dir/foo_2.txt ../../outputs/foo_2.txt'},\n",
       "   {'cores': 1,\n",
       "    'workdir': 'runs/run_3',\n",
       "    'pre': 'mkdir another-dir',\n",
       "    'cdir': 'another-dir',\n",
       "    'cmnd': 'touch foo_3.txt; sleep 3; echo DONE > foo_3.txt',\n",
       "    'post': 'cp another-dir/foo_3.txt ../../outputs/foo_3.txt'},\n",
       "   {'cores': 1,\n",
       "    'workdir': 'runs/run_4',\n",
       "    'pre': 'mkdir another-dir',\n",
       "    'cdir': 'another-dir',\n",
       "    'cmnd': 'touch foo_4.txt; sleep 4; echo DONE > foo_4.txt',\n",
       "    'post': 'cp another-dir/foo_4.txt ../../outputs/foo_4.txt'},\n",
       "   {'cores': 1,\n",
       "    'workdir': 'runs/run_5',\n",
       "    'pre': 'mkdir another-dir',\n",
       "    'cdir': 'another-dir',\n",
       "    'cmnd': 'touch foo_5.txt; sleep 5; echo DONE > foo_5.txt',\n",
       "    'post': 'cp another-dir/foo_5.txt ../../outputs/foo_5.txt'},\n",
       "   {'cores': 1,\n",
       "    'workdir': 'runs/run_6',\n",
       "    'pre': 'mkdir another-dir',\n",
       "    'cdir': 'another-dir',\n",
       "    'cmnd': 'touch foo_6.txt; sleep 6; echo DONE > foo_6.txt',\n",
       "    'post': 'cp another-dir/foo_6.txt ../../outputs/foo_6.txt'},\n",
       "   {'cores': 1,\n",
       "    'workdir': 'runs/run_7',\n",
       "    'pre': 'mkdir another-dir',\n",
       "    'cdir': 'another-dir',\n",
       "    'cmnd': 'touch foo_7.txt; sleep 7; echo DONE > foo_7.txt',\n",
       "    'post': 'cp another-dir/foo_7.txt ../../outputs/foo_7.txt'},\n",
       "   {'cores': 1,\n",
       "    'workdir': 'runs/run_8',\n",
       "    'pre': 'mkdir another-dir',\n",
       "    'cdir': 'another-dir',\n",
       "    'cmnd': 'touch foo_8.txt; sleep 8; echo DONE > foo_8.txt',\n",
       "    'post': 'cp another-dir/foo_8.txt ../../outputs/foo_8.txt'},\n",
       "   {'cores': 1,\n",
       "    'workdir': 'runs/run_9',\n",
       "    'pre': 'mkdir another-dir',\n",
       "    'cdir': 'another-dir',\n",
       "    'cmnd': 'touch foo_9.txt; sleep 9; echo DONE > foo_9.txt',\n",
       "    'post': 'cp another-dir/foo_9.txt ../../outputs/foo_9.txt'}],\n",
       "  'task_max_runtime': 0.1,\n",
       "  'max_runtime': 0.2,\n",
       "  'summary_interval': 60},\n",
       " 'submit_script': '/scratch/06307/clos21/taccjm-ls6/jobs/test_20230214_180737h_snak84/submit_script.sh',\n",
       " 'sim_script': '/scratch/06307/clos21/taccjm-ls6/jobs/test_20230214_180737h_snak84/test.py',\n",
       " 'slurm_id': '702444'}"
      ]
     },
     "execution_count": 6,
     "metadata": {},
     "output_type": "execute_result"
    }
   ],
   "source": [
    "job_config"
   ]
  },
  {
   "cell_type": "code",
   "execution_count": 11,
   "id": "c2e96a5c-02a7-4c27-a778-f1585a0799b8",
   "metadata": {},
   "outputs": [
    {
     "name": "stdout",
     "output_type": "stream",
     "text": [
      "{\"asctime\": \"2023-02-14 18:11:16,404\", \"name\": \"taccjm.TACCClient\", \"levelname\": \"INFO\", \"message\": \"Processed command 3288\", \"cmnd_config\": {\"id\": 3288, \"cmd\": \"showq -U clos21\", \"ts\": \"2023-02-14T18:11:16.398286\", \"status\": \"COMPLETE\", \"stdout\": \"Using system default configuration file \\n\\nSUMMARY OF JOBS FOR USER: <clos21>\\n\\nACTIVE JOBS--------------------\\nJOBID     JOBNAME    USERNAME      STATE   NODES REMAINING STARTTIME\\n=====================\", \"stderr\": \"\", \"history\": [{\"ts\": \"2023-02-14T18:11:15.182527\", \"status\": \"STARTED\"}], \"rt\": 1.0, \"rc\": 0}}\n"
     ]
    },
    {
     "data": {
      "text/plain": [
       "[]"
      ]
     },
     "execution_count": 11,
     "metadata": {},
     "output_type": "execute_result"
    }
   ],
   "source": [
    "sim.client.showq()"
   ]
  },
  {
   "cell_type": "code",
   "execution_count": 12,
   "id": "90a7e3c7-d6b2-41b0-b599-764310f00b6f",
   "metadata": {},
   "outputs": [
    {
     "data": {
      "text/plain": [
       "[{'filename': 'runs',\n",
       "  'st_atime': 1676419798,\n",
       "  'st_gid': 800588,\n",
       "  'st_mode': 16832,\n",
       "  'st_mtime': 1676419798,\n",
       "  'st_size': 10,\n",
       "  'st_uid': 856065,\n",
       "  'ls_str': 'drwx------   1 856065   800588         10 14 Feb 18:09 runs'},\n",
       " {'filename': 'job.json',\n",
       "  'st_atime': 1676419668,\n",
       "  'st_gid': 800588,\n",
       "  'st_mode': 33152,\n",
       "  'st_mtime': 1676419677,\n",
       "  'st_size': 2697,\n",
       "  'st_uid': 856065,\n",
       "  'ls_str': '-rw-------   1 856065   800588       2697 14 Feb 18:07 job.json'},\n",
       " {'filename': 'outputs',\n",
       "  'st_atime': 1676419798,\n",
       "  'st_gid': 800588,\n",
       "  'st_mode': 16832,\n",
       "  'st_mtime': 1676419798,\n",
       "  'st_size': 0,\n",
       "  'st_uid': 856065,\n",
       "  'ls_str': 'drwx------   1 856065   800588          0 14 Feb 18:09 outputs'},\n",
       " {'filename': 'submit_script.sh',\n",
       "  'st_atime': 1676419663,\n",
       "  'st_gid': 800588,\n",
       "  'st_mode': 33152,\n",
       "  'st_mtime': 1676419660,\n",
       "  'st_size': 915,\n",
       "  'st_uid': 856065,\n",
       "  'ls_str': '-rw-------   1 856065   800588        915 14 Feb 18:07 submit_script.sh'},\n",
       " {'filename': 'test-log',\n",
       "  'st_atime': 1676419798,\n",
       "  'st_gid': 800588,\n",
       "  'st_mode': 33152,\n",
       "  'st_mtime': 1676419798,\n",
       "  'st_size': 12580,\n",
       "  'st_uid': 856065,\n",
       "  'ls_str': '-rw-------   1 856065   800588      12580 14 Feb 18:09 test-log'},\n",
       " {'filename': 'test.py',\n",
       "  'st_atime': 1676419663,\n",
       "  'st_gid': 800588,\n",
       "  'st_mode': 33216,\n",
       "  'st_mtime': 1676419660,\n",
       "  'st_size': 4382,\n",
       "  'st_uid': 856065,\n",
       "  'ls_str': '-rwx------   1 856065   800588       4382 14 Feb 18:07 test.py'},\n",
       " {'filename': 'test_20230214_180737h_snak84.e702444',\n",
       "  'st_atime': 1676419765,\n",
       "  'st_gid': 800588,\n",
       "  'st_mode': 33152,\n",
       "  'st_mtime': 1676419802,\n",
       "  'st_size': 1173,\n",
       "  'st_uid': 856065,\n",
       "  'ls_str': '-rw-------   1 856065   800588       1173 14 Feb 18:10 test_20230214_180737h_snak84.e702444'},\n",
       " {'filename': 'test_20230214_180737h_snak84.o702444',\n",
       "  'st_atime': 1676419755,\n",
       "  'st_gid': 800588,\n",
       "  'st_mode': 33152,\n",
       "  'st_mtime': 1676419808,\n",
       "  'st_size': 892,\n",
       "  'st_uid': 856065,\n",
       "  'ls_str': '-rw-------   1 856065   800588        892 14 Feb 18:10 test_20230214_180737h_snak84.o702444'},\n",
       " {'filename': 'task-queue',\n",
       "  'st_atime': 1676419798,\n",
       "  'st_gid': 800588,\n",
       "  'st_mode': 16832,\n",
       "  'st_mtime': 1676419798,\n",
       "  'st_size': 3,\n",
       "  'st_uid': 856065,\n",
       "  'ls_str': 'drwx------   1 856065   800588          3 14 Feb 18:09 task-queue'},\n",
       " {'filename': 'remora_702444',\n",
       "  'st_atime': 1676419754,\n",
       "  'st_gid': 800588,\n",
       "  'st_mode': 16832,\n",
       "  'st_mtime': 1676419811,\n",
       "  'st_size': 10,\n",
       "  'st_uid': 856065,\n",
       "  'ls_str': 'drwx------   1 856065   800588         10 14 Feb 18:10 remora_702444'}]"
      ]
     },
     "execution_count": 12,
     "metadata": {},
     "output_type": "execute_result"
    }
   ],
   "source": [
    "sim.client.list_files(\"\", job_id=job_config[\"job_id\"], recurse=True)"
   ]
  },
  {
   "cell_type": "code",
   "execution_count": 10,
   "id": "fcc782d1-b51f-4f6c-9e6c-162240863c5b",
   "metadata": {},
   "outputs": [
    {
     "data": {
      "text/plain": [
       "{'name': 'test',\n",
       " 'job_id': 'test_20230214_180737h_snak84',\n",
       " 'job_dir': '/scratch/06307/clos21/taccjm-ls6/jobs/test_20230214_180737h_snak84',\n",
       " 'slurm': {'allocation': 'ADCIRC',\n",
       "  'node_count': 1,\n",
       "  'processors_per_node': 5,\n",
       "  'max_run_time': 0.2,\n",
       "  'queue': 'development',\n",
       "  'dependencies': [],\n",
       "  'node_cound': 1},\n",
       " 'args': {'tasks': [{'cores': 1,\n",
       "    'workdir': 'runs/run_0',\n",
       "    'pre': 'mkdir another-dir',\n",
       "    'cdir': 'another-dir',\n",
       "    'cmnd': 'touch foo_0.txt; sleep 0; echo DONE > foo_0.txt',\n",
       "    'post': 'cp another-dir/foo_0.txt ../../outputs/foo_0.txt'},\n",
       "   {'cores': 1,\n",
       "    'workdir': 'runs/run_1',\n",
       "    'pre': 'mkdir another-dir',\n",
       "    'cdir': 'another-dir',\n",
       "    'cmnd': 'touch foo_1.txt; sleep 1; echo DONE > foo_1.txt',\n",
       "    'post': 'cp another-dir/foo_1.txt ../../outputs/foo_1.txt'},\n",
       "   {'cores': 1,\n",
       "    'workdir': 'runs/run_2',\n",
       "    'pre': 'mkdir another-dir',\n",
       "    'cdir': 'another-dir',\n",
       "    'cmnd': 'touch foo_2.txt; sleep 2; echo DONE > foo_2.txt',\n",
       "    'post': 'cp another-dir/foo_2.txt ../../outputs/foo_2.txt'},\n",
       "   {'cores': 1,\n",
       "    'workdir': 'runs/run_3',\n",
       "    'pre': 'mkdir another-dir',\n",
       "    'cdir': 'another-dir',\n",
       "    'cmnd': 'touch foo_3.txt; sleep 3; echo DONE > foo_3.txt',\n",
       "    'post': 'cp another-dir/foo_3.txt ../../outputs/foo_3.txt'},\n",
       "   {'cores': 1,\n",
       "    'workdir': 'runs/run_4',\n",
       "    'pre': 'mkdir another-dir',\n",
       "    'cdir': 'another-dir',\n",
       "    'cmnd': 'touch foo_4.txt; sleep 4; echo DONE > foo_4.txt',\n",
       "    'post': 'cp another-dir/foo_4.txt ../../outputs/foo_4.txt'},\n",
       "   {'cores': 1,\n",
       "    'workdir': 'runs/run_5',\n",
       "    'pre': 'mkdir another-dir',\n",
       "    'cdir': 'another-dir',\n",
       "    'cmnd': 'touch foo_5.txt; sleep 5; echo DONE > foo_5.txt',\n",
       "    'post': 'cp another-dir/foo_5.txt ../../outputs/foo_5.txt'},\n",
       "   {'cores': 1,\n",
       "    'workdir': 'runs/run_6',\n",
       "    'pre': 'mkdir another-dir',\n",
       "    'cdir': 'another-dir',\n",
       "    'cmnd': 'touch foo_6.txt; sleep 6; echo DONE > foo_6.txt',\n",
       "    'post': 'cp another-dir/foo_6.txt ../../outputs/foo_6.txt'},\n",
       "   {'cores': 1,\n",
       "    'workdir': 'runs/run_7',\n",
       "    'pre': 'mkdir another-dir',\n",
       "    'cdir': 'another-dir',\n",
       "    'cmnd': 'touch foo_7.txt; sleep 7; echo DONE > foo_7.txt',\n",
       "    'post': 'cp another-dir/foo_7.txt ../../outputs/foo_7.txt'},\n",
       "   {'cores': 1,\n",
       "    'workdir': 'runs/run_8',\n",
       "    'pre': 'mkdir another-dir',\n",
       "    'cdir': 'another-dir',\n",
       "    'cmnd': 'touch foo_8.txt; sleep 8; echo DONE > foo_8.txt',\n",
       "    'post': 'cp another-dir/foo_8.txt ../../outputs/foo_8.txt'},\n",
       "   {'cores': 1,\n",
       "    'workdir': 'runs/run_9',\n",
       "    'pre': 'mkdir another-dir',\n",
       "    'cdir': 'another-dir',\n",
       "    'cmnd': 'touch foo_9.txt; sleep 9; echo DONE > foo_9.txt',\n",
       "    'post': 'cp another-dir/foo_9.txt ../../outputs/foo_9.txt'}],\n",
       "  'task_max_runtime': 0.1,\n",
       "  'max_runtime': 0.2,\n",
       "  'summary_interval': 60},\n",
       " 'submit_script': '/scratch/06307/clos21/taccjm-ls6/jobs/test_20230214_180737h_snak84/submit_script.sh',\n",
       " 'sim_script': '/scratch/06307/clos21/taccjm-ls6/jobs/test_20230214_180737h_snak84/test.py',\n",
       " 'slurm_id': '702444'}"
      ]
     },
     "execution_count": 10,
     "metadata": {},
     "output_type": "execute_result"
    }
   ],
   "source": [
    "saved_config = sim.client.read(\"job.json\", job_id=job_config[\"job_id\"])\n",
    "saved_config"
   ]
  },
  {
   "cell_type": "code",
   "execution_count": 18,
   "id": "cd123ea6-920f-4521-8ec3-d8b05ef3d8eb",
   "metadata": {},
   "outputs": [],
   "source": [
    "err_file = sim.client.read(\n",
    "    \"test_20230214_174009f1lxc8i0.e702406\", job_id=job_config[\"job_id\"]\n",
    ")"
   ]
  },
  {
   "cell_type": "code",
   "execution_count": 19,
   "id": "cdb1bc1c-c61c-4b3c-8e7c-710aae393b75",
   "metadata": {},
   "outputs": [
    {
     "name": "stdout",
     "output_type": "stream",
     "text": [
      "cat: '/proc/fs/lustre/mdc/work*/stats': No such file or directory\n",
      "cat: '/proc/fs/lustre/llite/work*/stats': No such file or directory\n",
      "cat: '/proc/fs/lustre/llite/work*/stats': No such file or directory\n",
      "cat: /proc/sys/lnet/stats: No such file or directory\n",
      "cat: '/proc/fs/lustre/mdc/work*/stats': No such file or directory\n",
      "cat: '/proc/fs/lustre/llite/work*/stats': No such file or directory\n",
      "cat: '/proc/fs/lustre/llite/work*/stats': No such file or directory\n",
      "cat: /proc/sys/lnet/stats: No such file or directory\n",
      "cat: '/proc/fs/lustre/mdc/work*/stats': No such file or directory\n",
      "cat: '/proc/fs/lustre/llite/work*/stats': No such file or directory\n",
      "cat: '/proc/fs/lustre/llite/work*/stats': No such file or directory\n",
      "cat: /proc/sys/lnet/stats: No such file or directory\n",
      "Traceback (most recent call last):\n",
      "  File \"/scratch/06307/clos21/taccjm-ls6/jobs/test_20230214_174009f1lxc8i0/./test.py\", line 127, in <module>\n",
      "    simulation.run()\n",
      "  File \"/work/06307/clos21/ls6/mambaforge/envs/taccjm/lib/python3.11/site-packages/taccjm/TACCSimulation.py\", line 349, in run\n",
      "    self.run_job()\n",
      "  File \"/scratch/06307/clos21/taccjm-ls6/jobs/test_20230214_174009f1lxc8i0/./test.py\", line 105, in run_job\n",
      "    tq = SLURMTaskQueue(\n",
      "         ^^^^^^^^^^^^^^^\n",
      "  File \"/work/06307/clos21/ls6/mambaforge/envs/taccjm/lib/python3.11/site-packages/taccjm/pyslurmtq/SLURMTaskQueue.py\", line 110, in __init__\n",
      "    self.workdir.mkdir(exist_ok=True)\n",
      "  File \"/work/06307/clos21/ls6/mambaforge/envs/taccjm/lib/python3.11/pathlib.py\", line 1116, in mkdir\n",
      "    os.mkdir(self, mode)\n",
      "FileNotFoundError: [Errno 2] No such file or directory: '/scratch/06307/clos21/taccjm-ls6/jobs/task-queue/test_20230214_174009f1lxc8i0'\n",
      "Runtime error (func=(main), adr=9): Divide by zero\n",
      "Runtime error (func=(main), adr=9): Divide by zero\n",
      "Runtime error (func=(main), adr=9): Divide by zero\n",
      "\n"
     ]
    }
   ],
   "source": [
    "print(err_file)"
   ]
  },
  {
   "cell_type": "code",
   "execution_count": 15,
   "id": "4a201cbd-c1f5-4874-8934-ef9db47d18cd",
   "metadata": {},
   "outputs": [
    {
     "data": {
      "text/plain": [
       "[{'filename': 'tq_log',\n",
       "  'st_atime': 1676419266,\n",
       "  'st_gid': 800588,\n",
       "  'st_mode': 33152,\n",
       "  'st_mtime': 1676419266,\n",
       "  'st_size': 13644,\n",
       "  'st_uid': 856065,\n",
       "  'ls_str': '-rw-------   1 856065   800588      13644 14 Feb 18:01 tq_log'}]"
      ]
     },
     "execution_count": 15,
     "metadata": {},
     "output_type": "execute_result"
    }
   ],
   "source": [
    "sim.client.list_files(\"task-queue\", job_id=job_config[\"job_id\"], recurse=True)"
   ]
  },
  {
   "cell_type": "code",
   "execution_count": 13,
   "id": "e4b88a2b-8a3a-4fb1-9894-fcb9dec7f6c0",
   "metadata": {},
   "outputs": [
    {
     "data": {
      "text/plain": [
       "'data'"
      ]
     },
     "execution_count": 13,
     "metadata": {},
     "output_type": "execute_result"
    }
   ],
   "source": [
    "sim.client.download(\"\", \"data\", job_id=job_config[\"job_id\"])"
   ]
  },
  {
   "cell_type": "code",
   "execution_count": null,
   "id": "354b523d-b663-4d5f-9222-f831b14983b8",
   "metadata": {},
   "outputs": [],
   "source": []
  },
  {
   "cell_type": "markdown",
   "id": "47ee8f64-873f-4e20-9214-5904a0589397",
   "metadata": {},
   "source": [
    "## Local Test"
   ]
  },
  {
   "cell_type": "code",
   "execution_count": 4,
   "id": "ef77a686-2854-45b8-b07c-daf0779b5509",
   "metadata": {},
   "outputs": [],
   "source": [
    "# Move TACC System\n",
    "\n",
    "\n",
    "def mock_tacc():\n",
    "    system = \"ls6\"\n",
    "    os.environ[\"HOSTNAME\"] = f\"login2.{system}.tacc.utexas.edu\"\n",
    "    os.environ[\"SCRATCH\"] = str(Path.cwd() / \"data/test-scratch\")\n",
    "    os.environ[\"HOME\"] = str(Path.cwd() / \"data/test-home\")\n",
    "    os.environ[\"WORK\"] = str(Path.cwd() / \"data/test-work\")\n",
    "\n",
    "\n",
    "def unmock_tacc():\n",
    "    os.environ[\"HOSTNAME\"] = \"\"\n",
    "    os.environ[\"SCRATCH\"] = \"\"\n",
    "    os.environ[\"HOME\"] = \"\"\n",
    "    os.environ[\"WORK\"] = \"\""
   ]
  },
  {
   "cell_type": "code",
   "execution_count": 5,
   "id": "bc166557-84dc-4d01-bd93-c603ab867741",
   "metadata": {},
   "outputs": [
    {
     "data": {
      "text/plain": [
       "<module 'taccjm.EnsembleTACCSimulation' from '/home/jovyan/work/repos/taccjm/src/taccjm/EnsembleTACCSimulation.py'>"
      ]
     },
     "execution_count": 5,
     "metadata": {},
     "output_type": "execute_result"
    }
   ],
   "source": [
    "import importlib\n",
    "\n",
    "importlib.reload(EnsembleTACCSimulation)"
   ]
  },
  {
   "cell_type": "code",
   "execution_count": 6,
   "id": "e5f24763-2cb8-4cae-a860-01524aae0044",
   "metadata": {},
   "outputs": [
    {
     "name": "stdout",
     "output_type": "stream",
     "text": [
      "{\"asctime\": \"2023-02-14 13:18:27,294\", \"name\": \"taccjm.TACCSimulation\", \"levelname\": \"INFO\", \"message\": \"Logger taccjm.TACCSimulation initialized\", \"config\": {\"output\": \"<ipykernel.iostream.OutStream object at 0x7fd23221b850>\", \"fmt\": \"json\", \"level\": 20}}\n",
      "{\"asctime\": \"2023-02-14 13:18:27,296\", \"name\": \"taccjm.TACCSimulation\", \"levelname\": \"INFO\", \"message\": \"Running from inherited class at /home/jovyan/work/repos/taccjm/src/taccjm/EnsembleTACCSimulation.py\"}\n",
      "{\"asctime\": \"2023-02-14 13:18:27,297\", \"name\": \"taccjm.TACCClient\", \"levelname\": \"INFO\", \"message\": \"Logger taccjm.TACCClient initialized\", \"config\": {\"output\": \"<ipykernel.iostream.OutStream object at 0x7fd23221b850>\", \"fmt\": \"json\", \"level\": 20}}\n",
      "{\"asctime\": \"2023-02-14 13:18:27,298\", \"name\": \"taccjm.TACCClient\", \"levelname\": \"INFO\", \"message\": \"Not running on TACC. Starting SSH session.\"}\n",
      "{\"asctime\": \"2023-02-14 13:18:27,299\", \"name\": \"taccjm.TACCClient\", \"levelname\": \"INFO\", \"message\": \"Looking for ssh_connection taccjm-ls6\"}\n",
      "{\"asctime\": \"2023-02-14 13:18:27,306\", \"name\": \"taccjm.TACCClient\", \"levelname\": \"INFO\", \"message\": \"Found ssh session taccjm-ls6\", \"id\": \"taccjm-ls6\", \"sys\": \"ls6.tacc.utexas.edu\", \"user\": \"clos21\", \"start\": \"2023-02-13T15:35:44.081530\", \"last_ts\": \"2023-02-14T13:18:13.361656\", \"log_level\": \"20\", \"log_file\": \"/home/jovyan/.taccjm/taccjm-ls6_ls6_clos21_log.json\", \"home_dir\": \"/home1/06307/clos21\", \"work_dir\": \"/work/06307/clos21/ls6\", \"scratch_dir\": \"/scratch/06307/clos21\"}\n",
      "{\"asctime\": \"2023-02-14 13:18:28,809\", \"name\": \"taccjm.TACCClient\", \"levelname\": \"INFO\", \"message\": \"Processed command 2571\", \"cmnd_config\": {\"id\": 2571, \"cmd\": \"mkdir -p /work/06307/clos21/ls6/taccjm-ls6/apps /work/06307/clos21/ls6/taccjm-ls6/scripts /scratch/06307/clos21/taccjm-ls6/jobs /scratch/06307/clos21/taccjm-ls6/trash\", \"ts\": \"2023-02-14T13:18:28.803907\", \"status\": \"COMPLETE\", \"stdout\": \"\", \"stderr\": \"\", \"history\": [{\"ts\": \"2023-02-14T13:18:27.678892\", \"status\": \"STARTED\"}], \"rt\": 1.0, \"rc\": 0}}\n"
     ]
    }
   ],
   "source": [
    "mock_tacc()\n",
    "sim = EnsembleTACCSimulation.EnsembleTACCSimulation(\n",
    "    system=\"ls6\", name=\"test\", log_config={\"level\": logging.INFO}\n",
    ")\n",
    "unmock_tacc()"
   ]
  },
  {
   "cell_type": "code",
   "execution_count": 7,
   "id": "9efaa66c-a1c5-4c2c-90fe-c95eead3e164",
   "metadata": {},
   "outputs": [
    {
     "data": {
      "text/plain": [
       "'EnsembleTACCSimulation'"
      ]
     },
     "execution_count": 7,
     "metadata": {},
     "output_type": "execute_result"
    }
   ],
   "source": [
    "sim.class_name"
   ]
  },
  {
   "cell_type": "code",
   "execution_count": 10,
   "id": "a191f7ba-1986-47fc-8e43-fcb397f83f0a",
   "metadata": {},
   "outputs": [
    {
     "name": "stdout",
     "output_type": "stream",
     "text": [
      "{\"asctime\": \"2023-02-14 13:18:47,536\", \"name\": \"taccjm.TACCSimulation\", \"levelname\": \"INFO\", \"message\": \"Not in execution environment. Setting up job...\"}\n",
      "{\"asctime\": \"2023-02-14 13:18:47,539\", \"name\": \"taccjm.TACCSimulation\", \"levelname\": \"INFO\", \"message\": \"Starting simulation set-up.\", \"inputs\": {\"args\": {}, \"slurm_config\": {\"node_cound\": 1, \"processors_per_node\": 4}, \"stage\": true, \"run\": false}}\n",
      "{\"asctime\": \"2023-02-14 13:18:47,540\", \"name\": \"taccjm.TACCSimulation\", \"levelname\": \"INFO\", \"message\": \"Setting up python execution environment\"}\n",
      "{\"asctime\": \"2023-02-14 13:18:57,950\", \"name\": \"taccjm.TACCClient\", \"levelname\": \"INFO\", \"message\": \"Processed command 2573\", \"cmnd_config\": {\"id\": 2573, \"cmd\": \"mamba --help\", \"ts\": \"2023-02-14T13:18:57.947675\", \"status\": \"COMPLETE\", \"stdout\": \"usage: mamba [-h] [-V] command ...\\n\\nconda is a tool for managing and deploying applications, environments and packages.\\n\\nOptions:\\n\\npositional arguments:\\n  command\\n    clean        Remove unused packag\", \"stderr\": \"\", \"history\": [{\"ts\": \"2023-02-14T13:18:47.940757\", \"status\": \"STARTED\"}], \"rt\": 10.0, \"rc\": 0}}\n",
      "{\"asctime\": \"2023-02-14 13:19:00,779\", \"name\": \"taccjm.TACCClient\", \"levelname\": \"INFO\", \"message\": \"Processed command 2575\", \"cmnd_config\": {\"id\": 2575, \"cmd\": \"mamba env list\", \"ts\": \"2023-02-14T13:19:00.773760\", \"status\": \"COMPLETE\", \"stdout\": \"# conda environments:\\n#\\nbase                  *  /work/06307/clos21/ls6/mambaforge\\nch-sim                   /work/06307/clos21/ls6/mambaforge/envs/ch-sim\\ntaccjm                   /work/06307/clos21/ls\", \"stderr\": \"\", \"history\": [{\"ts\": \"2023-02-14T13:18:58.359241\", \"status\": \"STARTED\"}], \"rt\": 2.0, \"rc\": 0}}\n",
      "{\"asctime\": \"2023-02-14 13:19:00,784\", \"name\": \"taccjm.TACCClient\", \"levelname\": \"INFO\", \"message\": \"Getting/Installing taccjm\", \"pm\": \"mamba\", \"env\": \"taccjm\", \"conda\": \"pip\", \"pip\": \"git+https://github.com/cdelcastillo21/taccjm.git@0.0.5-improv\"}\n",
      "{\"asctime\": \"2023-02-14 13:19:03,165\", \"name\": \"taccjm.TACCClient\", \"levelname\": \"INFO\", \"message\": \"Processed command 2576\", \"cmnd_config\": {\"id\": 2576, \"cmd\": \"mamba env list\", \"ts\": \"2023-02-14T13:19:03.159504\", \"status\": \"COMPLETE\", \"stdout\": \"# conda environments:\\n#\\nbase                  *  /work/06307/clos21/ls6/mambaforge\\nch-sim                   /work/06307/clos21/ls6/mambaforge/envs/ch-sim\\ntaccjm                   /work/06307/clos21/ls\", \"stderr\": \"\", \"history\": [{\"ts\": \"2023-02-14T13:19:00.909467\", \"status\": \"STARTED\"}], \"rt\": 2.0, \"rc\": 0}}\n",
      "{\"asctime\": \"2023-02-14 13:19:03,167\", \"name\": \"taccjm.TACCClient\", \"levelname\": \"INFO\", \"message\": \"Installing conda packages\"}\n",
      "{\"asctime\": \"2023-02-14 13:19:18,467\", \"name\": \"taccjm.TACCClient\", \"levelname\": \"INFO\", \"message\": \"Processed command 2577\", \"cmnd_config\": {\"id\": 2577, \"cmd\": \"mamba install -n taccjm -y pip\", \"ts\": \"2023-02-14T13:19:18.462094\", \"status\": \"COMPLETE\", \"stdout\": \"Transaction\\n\\n  Prefix: /work/06307/clos21/ls6/mambaforge/envs/taccjm\\n\\n  All requested packages already installed\\n\\n\\nLooking for: ['pip']\\n\\n\\nPinned packages:\\n  - python 3.11.*\\n\\n\\n\", \"stderr\": \"\", \"history\": [{\"ts\": \"2023-02-14T13:19:03.295115\", \"status\": \"STARTED\"}], \"rt\": 15.0, \"rc\": 0}}\n",
      "{\"asctime\": \"2023-02-14 13:19:20,873\", \"name\": \"taccjm.TACCClient\", \"levelname\": \"INFO\", \"message\": \"Processed command 2579\", \"cmnd_config\": {\"id\": 2579, \"cmd\": \"mamba env list\", \"ts\": \"2023-02-14T13:19:20.866703\", \"status\": \"COMPLETE\", \"stdout\": \"# conda environments:\\n#\\nbase                  *  /work/06307/clos21/ls6/mambaforge\\nch-sim                   /work/06307/clos21/ls6/mambaforge/envs/ch-sim\\ntaccjm                   /work/06307/clos21/ls\", \"stderr\": \"\", \"history\": [{\"ts\": \"2023-02-14T13:19:18.547143\", \"status\": \"STARTED\"}], \"rt\": 2.0, \"rc\": 0}}\n",
      "{\"asctime\": \"2023-02-14 13:19:20,876\", \"name\": \"taccjm.TACCClient\", \"levelname\": \"INFO\", \"message\": \"Installing pip packages using pip path /work/06307/clos21/ls6/mambaforge/envs/taccjm/bin/pip\"}\n",
      "{\"asctime\": \"2023-02-14 13:19:44,251\", \"name\": \"taccjm.TACCClient\", \"levelname\": \"INFO\", \"message\": \"Processed command 2580\", \"cmnd_config\": {\"id\": 2580, \"cmd\": \"/work/06307/clos21/ls6/mambaforge/envs/taccjm/bin/pip install git+https://github.com/cdelcastillo21/taccjm.git@0.0.5-improv\", \"ts\": \"2023-02-14T13:19:44.245443\", \"status\": \"COMPLETE\", \"stdout\": \"Collecting git+https://github.com/cdelcastillo21/taccjm.git@0.0.5-improv\\n  Cloning https://github.com/cdelcastillo21/taccjm.git (to revision 0.0.5-improv) to /tmp/pip-req-build-8tzqxc3l\\n  Resolved htt\", \"stderr\": \"  Running command git clone --filter=blob:none --quiet https://github.com/cdelcastillo21/taccjm.git /tmp/pip-req-build-8tzqxc3l\\n  Running command git checkout -b 0.0.5-improv --track origin/0.0.5-improv\\n  Switched to a new branch '0.0.5-improv'\\n  Branch '0.0.5-improv' set up to track remote branch '0.0.5-improv' from 'origin'.\\n\", \"history\": [{\"ts\": \"2023-02-14T13:19:21.002013\", \"status\": \"STARTED\"}], \"rt\": 23.0, \"rc\": 0}}\n",
      "{\"asctime\": \"2023-02-14 13:19:49,169\", \"name\": \"taccjm.TACCClient\", \"levelname\": \"INFO\", \"message\": \"Processed command 2581\", \"cmnd_config\": {\"id\": 2581, \"cmd\": \"mamba list --name taccjm\", \"ts\": \"2023-02-14T13:19:49.163734\", \"status\": \"COMPLETE\", \"stdout\": \"# packages in environment at /work/06307/clos21/ls6/mambaforge/envs/taccjm:\\n#\\n# Name                    Version                   Build  Channel\\n_libgcc_mutex             0.1                 conda_for\", \"stderr\": \"\", \"history\": [{\"ts\": \"2023-02-14T13:19:44.363878\", \"status\": \"STARTED\"}], \"rt\": 4.0, \"rc\": 0}}\n",
      "{\"asctime\": \"2023-02-14 13:19:49,173\", \"name\": \"taccjm.TACCClient\", \"levelname\": \"INFO\", \"message\": \"Environment configuration done\", \"env\": {\"name\": {\"0\": \"_libgcc_mutex\", \"1\": \"_openmp_mutex\", \"2\": \"anyio\", \"3\": \"bcrypt\", \"4\": \"begins\", \"5\": \"bzip2\", \"6\": \"ca-certificates\", \"7\": \"certifi\", \"8\": \"cffi\", \"9\": \"charset-normalizer\", \"10\": \"click\", \"11\": \"cryptography\", \"12\": \"falcon\", \"13\": \"fastapi\", \"14\": \"h11\", \"15\": \"httpcore\", \"16\": \"httpx\", \"17\": \"hug\", \"18\": \"idna\", \"19\": \"ld_impl_linux-64\", \"20\": \"libffi\", \"21\": \"libgcc-ng\", \"22\": \"libgomp\", \"23\": \"libnsl\", \"24\": \"libsqlite\", \"25\": \"libuuid\", \"26\": \"libzlib\", \"27\": \"ncurses\", \"28\": \"numpy\", \"29\": \"openssl\", \"30\": \"pandas\", \"31\": \"paramiko\", \"32\": \"pip\", \"33\": \"prettytable\", \"34\": \"psutil\", \"35\": \"pycparser\", \"36\": \"pydantic\", \"37\": \"pynacl\", \"38\": \"python\", \"39\": \"python-dateutil\", \"40\": \"python-dotenv\", \"41\": \"python-json-logger\", \"42\": \"pytz\", \"43\": \"readline\", \"44\": \"requests\", \"45\": \"rfc3986\", \"46\": \"setuptools\", \"47\": \"six\", \"48\": \"sniffio\", \"49\": \"starlette\", \"50\": \"taccjm\", \"51\": \"tk\", \"52\": \"typing-extensions\", \"53\": \"tzdata\", \"54\": \"urllib3\", \"55\": \"uvicorn\", \"56\": \"wcwidth\", \"57\": \"wheel\", \"58\": \"xz\"}, \"version\": {\"0\": \"0.1\", \"1\": \"4.5\", \"2\": \"3.6.2\", \"3\": \"4.0.1\", \"4\": \"0.9\", \"5\": \"1.0.8\", \"6\": \"2022.12.7\", \"7\": \"2022.12.7\", \"8\": \"1.15.1\", \"9\": \"3.0.1\", \"10\": \"8.1.3\", \"11\": \"39.0.1\", \"12\": \"2.0.0\", \"13\": \"0.91.0\", \"14\": \"0.14.0\", \"15\": \"0.16.3\", \"16\": \"0.23.3\", \"17\": \"2.6.1\", \"18\": \"3.4\", \"19\": \"2.40\", \"20\": \"3.4.2\", \"21\": \"12.2.0\", \"22\": \"12.2.0\", \"23\": \"2.0.0\", \"24\": \"3.40.0\", \"25\": \"2.32.1\", \"26\": \"1.2.13\", \"27\": \"6.3\", \"28\": \"1.24.2\", \"29\": \"3.0.8\", \"30\": \"1.5.3\", \"31\": \"3.0.0\", \"32\": \"23.0\", \"33\": \"3.6.0\", \"34\": \"5.9.4\", \"35\": \"2.21\", \"36\": \"1.10.4\", \"37\": \"1.5.0\", \"38\": \"3.11.0\", \"39\": \"2.8.2\", \"40\": \"0.21.1\", \"41\": \"2.0.5\", \"42\": \"2022.7.1\", \"43\": \"8.1.2\", \"44\": \"2.28.2\", \"45\": \"1.5.0\", \"46\": \"67.1.0\", \"47\": \"1.16.0\", \"48\": \"1.3.0\", \"49\": \"0.24.0\", \"50\": \"0.0.3.post1.dev24+gee13c40\", \"51\": \"8.6.12\", \"52\": \"4.4.0\", \"53\": \"2022g\", \"54\": \"1.26.14\", \"55\": \"0.20.0\", \"56\": \"0.2.6\", \"57\": \"0.38.4\", \"58\": \"5.2.6\"}, \"build\": {\"0\": \"conda_forge\", \"1\": \"2_gnu\", \"2\": \"pypi_0\", \"3\": \"pypi_0\", \"4\": \"pypi_0\", \"5\": \"h7f98852_4\", \"6\": \"ha878542_0\", \"7\": \"pypi_0\", \"8\": \"pypi_0\", \"9\": \"pypi_0\", \"10\": \"pypi_0\", \"11\": \"pypi_0\", \"12\": \"pypi_0\", \"13\": \"pypi_0\", \"14\": \"pypi_0\", \"15\": \"pypi_0\", \"16\": \"pypi_0\", \"17\": \"pypi_0\", \"18\": \"pypi_0\", \"19\": \"h41732ed_0\", \"20\": \"h7f98852_5\", \"21\": \"h65d4601_19\", \"22\": \"h65d4601_19\", \"23\": \"h7f98852_0\", \"24\": \"h753d276_0\", \"25\": \"h7f98852_1000\", \"26\": \"h166bdaf_4\", \"27\": \"h27087fc_1\", \"28\": \"pypi_0\", \"29\": \"h0b41bf4_0\", \"30\": \"pypi_0\", \"31\": \"pypi_0\", \"32\": \"pyhd8ed1ab_0\", \"33\": \"pypi_0\", \"34\": \"pypi_0\", \"35\": \"pypi_0\", \"36\": \"pypi_0\", \"37\": \"pypi_0\", \"38\": \"he550d4f_1_cpython\", \"39\": \"pypi_0\", \"40\": \"pypi_0\", \"41\": \"pypi_0\", \"42\": \"pypi_0\", \"43\": \"h0f457ee_0\", \"44\": \"pypi_0\", \"45\": \"pypi_0\", \"46\": \"pyhd8ed1ab_0\", \"47\": \"pypi_0\", \"48\": \"pypi_0\", \"49\": \"pypi_0\", \"50\": \"pypi_0\", \"51\": \"h27826a3_0\", \"52\": \"pypi_0\", \"53\": \"h191b570_0\", \"54\": \"pypi_0\", \"55\": \"pypi_0\", \"56\": \"pypi_0\", \"57\": \"pyhd8ed1ab_0\", \"58\": \"h166bdaf_0\"}, \"channel\": {\"0\": \"conda-forge\", \"1\": \"conda-forge\", \"2\": \"pypi\", \"3\": \"pypi\", \"4\": \"pypi\", \"5\": \"conda-forge\", \"6\": \"conda-forge\", \"7\": \"pypi\", \"8\": \"pypi\", \"9\": \"pypi\", \"10\": \"pypi\", \"11\": \"pypi\", \"12\": \"pypi\", \"13\": \"pypi\", \"14\": \"pypi\", \"15\": \"pypi\", \"16\": \"pypi\", \"17\": \"pypi\", \"18\": \"pypi\", \"19\": \"conda-forge\", \"20\": \"conda-forge\", \"21\": \"conda-forge\", \"22\": \"conda-forge\", \"23\": \"conda-forge\", \"24\": \"conda-forge\", \"25\": \"conda-forge\", \"26\": \"conda-forge\", \"27\": \"conda-forge\", \"28\": \"pypi\", \"29\": \"conda-forge\", \"30\": \"pypi\", \"31\": \"pypi\", \"32\": \"conda-forge\", \"33\": \"pypi\", \"34\": \"pypi\", \"35\": \"pypi\", \"36\": \"pypi\", \"37\": \"pypi\", \"38\": \"conda-forge\", \"39\": \"pypi\", \"40\": \"pypi\", \"41\": \"pypi\", \"42\": \"pypi\", \"43\": \"conda-forge\", \"44\": \"pypi\", \"45\": \"pypi\", \"46\": \"conda-forge\", \"47\": \"pypi\", \"48\": \"pypi\", \"49\": \"pypi\", \"50\": \"pypi\", \"51\": \"conda-forge\", \"52\": \"pypi\", \"53\": \"conda-forge\", \"54\": \"pypi\", \"55\": \"pypi\", \"56\": \"pypi\", \"57\": \"conda-forge\", \"58\": \"conda-forge\"}, \"path\": {\"0\": \"/work/06307/clos21/ls6/mambaforge/envs/taccjm\", \"1\": \"/work/06307/clos21/ls6/mambaforge/envs/taccjm\", \"2\": \"/work/06307/clos21/ls6/mambaforge/envs/taccjm\", \"3\": \"/work/06307/clos21/ls6/mambaforge/envs/taccjm\", \"4\": \"/work/06307/clos21/ls6/mambaforge/envs/taccjm\", \"5\": \"/work/06307/clos21/ls6/mambaforge/envs/taccjm\", \"6\": \"/work/06307/clos21/ls6/mambaforge/envs/taccjm\", \"7\": \"/work/06307/clos21/ls6/mambaforge/envs/taccjm\", \"8\": \"/work/06307/clos21/ls6/mambaforge/envs/taccjm\", \"9\": \"/work/06307/clos21/ls6/mambaforge/envs/taccjm\", \"10\": \"/work/06307/clos21/ls6/mambaforge/envs/taccjm\", \"11\": \"/work/06307/clos21/ls6/mambaforge/envs/taccjm\", \"12\": \"/work/06307/clos21/ls6/mambaforge/envs/taccjm\", \"13\": \"/work/06307/clos21/ls6/mambaforge/envs/taccjm\", \"14\": \"/work/06307/clos21/ls6/mambaforge/envs/taccjm\", \"15\": \"/work/06307/clos21/ls6/mambaforge/envs/taccjm\", \"16\": \"/work/06307/clos21/ls6/mambaforge/envs/taccjm\", \"17\": \"/work/06307/clos21/ls6/mambaforge/envs/taccjm\", \"18\": \"/work/06307/clos21/ls6/mambaforge/envs/taccjm\", \"19\": \"/work/06307/clos21/ls6/mambaforge/envs/taccjm\", \"20\": \"/work/06307/clos21/ls6/mambaforge/envs/taccjm\", \"21\": \"/work/06307/clos21/ls6/mambaforge/envs/taccjm\", \"22\": \"/work/06307/clos21/ls6/mambaforge/envs/taccjm\", \"23\": \"/work/06307/clos21/ls6/mambaforge/envs/taccjm\", \"24\": \"/work/06307/clos21/ls6/mambaforge/envs/taccjm\", \"25\": \"/work/06307/clos21/ls6/mambaforge/envs/taccjm\", \"26\": \"/work/06307/clos21/ls6/mambaforge/envs/taccjm\", \"27\": \"/work/06307/clos21/ls6/mambaforge/envs/taccjm\", \"28\": \"/work/06307/clos21/ls6/mambaforge/envs/taccjm\", \"29\": \"/work/06307/clos21/ls6/mambaforge/envs/taccjm\", \"30\": \"/work/06307/clos21/ls6/mambaforge/envs/taccjm\", \"31\": \"/work/06307/clos21/ls6/mambaforge/envs/taccjm\", \"32\": \"/work/06307/clos21/ls6/mambaforge/envs/taccjm\", \"33\": \"/work/06307/clos21/ls6/mambaforge/envs/taccjm\", \"34\": \"/work/06307/clos21/ls6/mambaforge/envs/taccjm\", \"35\": \"/work/06307/clos21/ls6/mambaforge/envs/taccjm\", \"36\": \"/work/06307/clos21/ls6/mambaforge/envs/taccjm\", \"37\": \"/work/06307/clos21/ls6/mambaforge/envs/taccjm\", \"38\": \"/work/06307/clos21/ls6/mambaforge/envs/taccjm\", \"39\": \"/work/06307/clos21/ls6/mambaforge/envs/taccjm\", \"40\": \"/work/06307/clos21/ls6/mambaforge/envs/taccjm\", \"41\": \"/work/06307/clos21/ls6/mambaforge/envs/taccjm\", \"42\": \"/work/06307/clos21/ls6/mambaforge/envs/taccjm\", \"43\": \"/work/06307/clos21/ls6/mambaforge/envs/taccjm\", \"44\": \"/work/06307/clos21/ls6/mambaforge/envs/taccjm\", \"45\": \"/work/06307/clos21/ls6/mambaforge/envs/taccjm\", \"46\": \"/work/06307/clos21/ls6/mambaforge/envs/taccjm\", \"47\": \"/work/06307/clos21/ls6/mambaforge/envs/taccjm\", \"48\": \"/work/06307/clos21/ls6/mambaforge/envs/taccjm\", \"49\": \"/work/06307/clos21/ls6/mambaforge/envs/taccjm\", \"50\": \"/work/06307/clos21/ls6/mambaforge/envs/taccjm\", \"51\": \"/work/06307/clos21/ls6/mambaforge/envs/taccjm\", \"52\": \"/work/06307/clos21/ls6/mambaforge/envs/taccjm\", \"53\": \"/work/06307/clos21/ls6/mambaforge/envs/taccjm\", \"54\": \"/work/06307/clos21/ls6/mambaforge/envs/taccjm\", \"55\": \"/work/06307/clos21/ls6/mambaforge/envs/taccjm\", \"56\": \"/work/06307/clos21/ls6/mambaforge/envs/taccjm\", \"57\": \"/work/06307/clos21/ls6/mambaforge/envs/taccjm\", \"58\": \"/work/06307/clos21/ls6/mambaforge/envs/taccjm\"}}}\n",
      "{\"asctime\": \"2023-02-14 13:19:49,174\", \"name\": \"taccjm.TACCSimulation\", \"levelname\": \"INFO\", \"message\": \"Creating job config.\"}\n",
      "{\"asctime\": \"2023-02-14 13:19:50,530\", \"name\": \"taccjm.TACCClient\", \"levelname\": \"INFO\", \"message\": \"Processed command 2583\", \"cmnd_config\": {\"id\": 2583, \"cmd\": \"/usr/local/etc/taccinfo\", \"ts\": \"2023-02-14T13:19:50.524920\", \"status\": \"COMPLETE\", \"stdout\": \"---------------------- Project balances for user clos21 -----------------------\\n| Name           Avail SUs     Expires |                                      |\\n| ADCIRC              3804  2023-03-31 |\", \"stderr\": \"\", \"history\": [{\"ts\": \"2023-02-14T13:19:49.260894\", \"status\": \"STARTED\"}], \"rt\": 1.0, \"rc\": 0}}\n",
      "{\"asctime\": \"2023-02-14 13:19:50,531\", \"name\": \"taccjm.TACCSimulation\", \"levelname\": \"INFO\", \"message\": \"Allocation not specified. Using ADCIRC.\", \"allocations\": [{\"name\": \"ADCIRC\", \"service_units\": 3804, \"exp_date\": \"2023-03-31\"}]}\n",
      "{\"asctime\": \"2023-02-14 13:19:50,532\", \"name\": \"taccjm.TACCSimulation\", \"levelname\": \"INFO\", \"message\": \"Slurm settings configured\", \"slurm_config\": {\"allocation\": \"ADCIRC\", \"node_count\": 1, \"processors_per_node\": 4, \"max_run_time\": 0.5, \"queue\": \"development\", \"dependencies\": [], \"node_cound\": 1}}\n",
      "{\"asctime\": \"2023-02-14 13:19:50,533\", \"name\": \"taccjm.TACCSimulation\", \"levelname\": \"INFO\", \"message\": \"Processing Arguments\"}\n",
      "{\"asctime\": \"2023-02-14 13:19:50,533\", \"name\": \"taccjm.TACCSimulation\", \"levelname\": \"INFO\", \"message\": \"Setting arg default value\"}\n",
      "{\"asctime\": \"2023-02-14 13:19:50,534\", \"name\": \"taccjm.TACCSimulation\", \"levelname\": \"INFO\", \"message\": \"Found apram tasks\", \"arg\": {\"name\": \"tasks\", \"type\": \"apram\", \"desc\": \"List of tasks for ensemble\", \"default\": []}}\n",
      "{\"asctime\": \"2023-02-14 13:19:50,535\", \"name\": \"taccjm.TACCSimulation\", \"levelname\": \"INFO\", \"message\": \"Setting arg default value\"}\n",
      "{\"asctime\": \"2023-02-14 13:19:50,537\", \"name\": \"taccjm.TACCSimulation\", \"levelname\": \"INFO\", \"message\": \"Found param task_max_runtime\", \"arg\": {\"name\": \"task_max_runtime\", \"type\": \"param\", \"desc\": \"Max runtime (in hours) for tasks in ensemble.\", \"default\": 0.1}}\n",
      "{\"asctime\": \"2023-02-14 13:19:50,537\", \"name\": \"taccjm.TACCSimulation\", \"levelname\": \"INFO\", \"message\": \"Setting arg default value\"}\n",
      "{\"asctime\": \"2023-02-14 13:19:50,538\", \"name\": \"taccjm.TACCSimulation\", \"levelname\": \"INFO\", \"message\": \"Found param max_runtime\", \"arg\": {\"name\": \"max_runtime\", \"type\": \"param\", \"desc\": \"Max runtime for the whole ensemble.\", \"default\": 0.5}}\n",
      "{\"asctime\": \"2023-02-14 13:19:50,539\", \"name\": \"taccjm.TACCSimulation\", \"levelname\": \"INFO\", \"message\": \"Setting arg default value\"}\n",
      "{\"asctime\": \"2023-02-14 13:19:50,540\", \"name\": \"taccjm.TACCSimulation\", \"levelname\": \"INFO\", \"message\": \"Found param summary_interval\", \"arg\": {\"name\": \"summary_interval\", \"type\": \"param\", \"desc\": \"Interval (in seconds) of output of task-queue summary\", \"default\": 60}}\n",
      "{\"asctime\": \"2023-02-14 13:19:50,541\", \"name\": \"taccjm.TACCSimulation\", \"levelname\": \"INFO\", \"message\": \"Parsing submit script\", \"run_cmd\": \"chmod +x test.py\\n\\nremora ./test.py\"}\n",
      "{\"asctime\": \"2023-02-14 13:19:50,542\", \"name\": \"taccjm.TACCSimulation\", \"levelname\": \"INFO\", \"message\": \"Reading sim script at /home/jovyan/work/repos/taccjm/src/taccjm/EnsembleTACCSimulation.py\"}\n",
      "{\"asctime\": \"2023-02-14 13:19:50,544\", \"name\": \"taccjm.TACCSimulation\", \"levelname\": \"INFO\", \"message\": \"Detected no main clause... adding.\"}\n",
      "{\"asctime\": \"2023-02-14 13:19:50,545\", \"name\": \"taccjm.TACCSimulation\", \"levelname\": \"INFO\", \"message\": \"Job configuration done!\", \"job_config\": {\"name\": \"test\", \"job_id\": \"test_20230214_131949kfsqwjjz\", \"job_dir\": \"/scratch/06307/clos21/taccjm-ls6/jobs/test_20230214_131949kfsqwjjz\", \"slurm\": {\"allocation\": \"ADCIRC\", \"node_count\": 1, \"processors_per_node\": 4, \"max_run_time\": 0.5, \"queue\": \"development\", \"dependencies\": [], \"node_cound\": 1}, \"args\": {\"tasks\": [], \"task_max_runtime\": 0.1, \"max_runtime\": 0.5, \"summary_interval\": 60}, \"submit_script\": \"#!/bin/bash\\n#----------------------------------------------------\\n# test \\n#\\n#----------------------------------------------------\\n\\n#SBATCH -J test_20230214_131949kfsqwjjz     # Job name\\n#SBATCH -o /scratch/06307/clos21/taccjm-ls6/jobs/test_20230214_131949kfsqwjjz/test_20230214_131949kfsqwjjz.o%j # Name of stdout output file\\n#SBATCH -e /scratch/06307/clos21/taccjm-ls6/jobs/test_20230214_131949kfsqwjjz/test_20230214_131949kfsqwjjz.e%j # Name of stderr error file\\n#SBATCH -p development      # Queue (partition) name\\n#SBATCH -N 1          # Total num nodes\\n#SBATCH -n 4          # Total num mpi tasks\\n#SBATCH -t 00:30:00         # Run time (hh:mm:ss)\\n#SBATCH --ntasks-per-node 4 # tasks per node\\n#SBATCH -A ADCIRC # Allocation name\\n\\n#----------------------------------------------------\\n\\ncd /scratch/06307/clos21/taccjm-ls6/jobs/test_20230214_131949kfsqwjjz\\n\\nmodule load remora\\n\\nchmod +x test.py\\n\\nremora ./test.py\\n\", \"sim_script\": \"#!/work/06307/clos21/ls6/mambaforge/envs/taccjm/bin/python\\n\\n\\\"\\\"\\\"\\nEnsemble TACC Simulation\\n\\n\\\"\\\"\\\"\\nimport logging\\n\\nfrom taccjm.pyslurmtq.SLURMTaskQueue import SLURMTaskQueue\\nfrom taccjm.TACCSimulation impo\"}}\n",
      "{\"asctime\": \"2023-02-14 13:19:50,547\", \"name\": \"taccjm.TACCSimulation\", \"levelname\": \"INFO\", \"message\": \"Staging job to /tmp/tmpc2tyldjq\", \"job_dir\": \"/scratch/06307/clos21/taccjm-ls6/jobs/test_20230214_131949kfsqwjjz\"}\n",
      "{\"asctime\": \"2023-02-14 13:19:51,828\", \"name\": \"taccjm.TACCClient\", \"levelname\": \"INFO\", \"message\": \"Processed command 2584\", \"cmnd_config\": {\"id\": 2584, \"cmd\": \"mkdir /scratch/06307/clos21/taccjm-ls6/jobs/test_20230214_131949kfsqwjjz\", \"ts\": \"2023-02-14T13:19:51.822735\", \"status\": \"COMPLETE\", \"stdout\": \"\", \"stderr\": \"\", \"history\": [{\"ts\": \"2023-02-14T13:19:50.649409\", \"status\": \"STARTED\"}], \"rt\": 1.0, \"rc\": 0}}\n",
      "{\"asctime\": \"2023-02-14 13:19:51,829\", \"name\": \"taccjm.TACCSimulation\", \"levelname\": \"INFO\", \"message\": \"Writing submit script\", \"path\": \"/tmp/tmpc2tyldjq/submit_script.sh\"}\n",
      "{\"asctime\": \"2023-02-14 13:19:51,830\", \"name\": \"taccjm.TACCSimulation\", \"levelname\": \"INFO\", \"message\": \"Writing sim script\", \"path\": \"/tmp/tmpc2tyldjq/test.py\"}\n",
      "{\"asctime\": \"2023-02-14 13:19:51,832\", \"name\": \"taccjm.TACCSimulation\", \"levelname\": \"INFO\", \"message\": \"Writing job config\", \"path\": \"/tmp/tmpc2tyldjq/job.json\"}\n",
      "{\"asctime\": \"2023-02-14 13:19:51,833\", \"name\": \"taccjm.TACCSimulation\", \"levelname\": \"INFO\", \"message\": \"Waiting for inputs to finish staging\", \"stage_commands\": []}\n",
      "{\"asctime\": \"2023-02-14 13:19:51,833\", \"name\": \"taccjm.TACCSimulation\", \"levelname\": \"INFO\", \"message\": \"Uploading job directory\", \"path\": \"/tmp/tmpc2tyldjq/job.json\"}\n",
      "{\"asctime\": \"2023-02-14 13:19:55,457\", \"name\": \"taccjm.TACCSimulation\", \"levelname\": \"INFO\", \"message\": \"Job {job_config['job_id']} set up and submitted\", \"job_config\": {\"name\": \"test\", \"job_id\": \"test_20230214_131949kfsqwjjz\", \"job_dir\": \"/scratch/06307/clos21/taccjm-ls6/jobs/test_20230214_131949kfsqwjjz\", \"slurm\": {\"allocation\": \"ADCIRC\", \"node_count\": 1, \"processors_per_node\": 4, \"max_run_time\": 0.5, \"queue\": \"development\", \"dependencies\": [], \"node_cound\": 1}, \"args\": {\"tasks\": [], \"task_max_runtime\": 0.1, \"max_runtime\": 0.5, \"summary_interval\": 60}, \"submit_script\": \"/scratch/06307/clos21/taccjm-ls6/jobs/test_20230214_131949kfsqwjjz/submit_script.sh\", \"sim_script\": \"/scratch/06307/clos21/taccjm-ls6/jobs/test_20230214_131949kfsqwjjz/test.py\"}}\n"
     ]
    }
   ],
   "source": [
    "job_config = sim.run(\n",
    "    args={},\n",
    "    slurm_config=slurm_config,\n",
    "    stage=True,\n",
    "    python_setup=True,\n",
    "    run=False,\n",
    "    remora=True,\n",
    ")"
   ]
  },
  {
   "cell_type": "code",
   "execution_count": 11,
   "id": "81b84ce6-1fd1-46a8-a951-8bc03a365444",
   "metadata": {},
   "outputs": [
    {
     "data": {
      "text/plain": [
       "{'name': 'test',\n",
       " 'job_id': 'test_20230214_131949kfsqwjjz',\n",
       " 'job_dir': '/scratch/06307/clos21/taccjm-ls6/jobs/test_20230214_131949kfsqwjjz',\n",
       " 'slurm': {'allocation': 'ADCIRC',\n",
       "  'node_count': 1,\n",
       "  'processors_per_node': 4,\n",
       "  'max_run_time': 0.5,\n",
       "  'queue': 'development',\n",
       "  'dependencies': [],\n",
       "  'node_cound': 1},\n",
       " 'args': {'tasks': [],\n",
       "  'task_max_runtime': 0.1,\n",
       "  'max_runtime': 0.5,\n",
       "  'summary_interval': 60},\n",
       " 'submit_script': '/scratch/06307/clos21/taccjm-ls6/jobs/test_20230214_131949kfsqwjjz/submit_script.sh',\n",
       " 'sim_script': '/scratch/06307/clos21/taccjm-ls6/jobs/test_20230214_131949kfsqwjjz/test.py'}"
      ]
     },
     "execution_count": 11,
     "metadata": {},
     "output_type": "execute_result"
    }
   ],
   "source": [
    "job_config"
   ]
  },
  {
   "cell_type": "code",
   "execution_count": 12,
   "id": "2e947112-a049-4545-9dc7-0a2e61cf3a51",
   "metadata": {},
   "outputs": [
    {
     "data": {
      "text/plain": [
       "'data'"
      ]
     },
     "execution_count": 12,
     "metadata": {},
     "output_type": "execute_result"
    }
   ],
   "source": [
    "sim.client.download(\"\", \"data\", job_id=job_config[\"job_id\"])"
   ]
  },
  {
   "cell_type": "code",
   "execution_count": 13,
   "id": "6930c77a-34b6-47e9-a65a-25770fe7a9bd",
   "metadata": {},
   "outputs": [
    {
     "name": "stdout",
     "output_type": "stream",
     "text": [
      "{\"asctime\": \"2023-02-14 13:22:40,711\", \"name\": \"taccjm.TACCClient\", \"levelname\": \"INFO\", \"message\": \"Processed command 2593\", \"cmnd_config\": {\"id\": 2593, \"cmd\": \"cd /scratch/06307/clos21/taccjm-ls6/jobs/test_20230214_131949kfsqwjjz && sbatch /scratch/06307/clos21/taccjm-ls6/jobs/test_20230214_131949kfsqwjjz/submit_script.sh\", \"ts\": \"2023-02-14T13:22:40.706228\", \"status\": \"COMPLETE\", \"stdout\": \"\\n-----------------------------------------------------------------\\n          Welcome to the Lonestar6 Supercomputer          \\n-----------------------------------------------------------------\\n\\nNo rese\", \"stderr\": \"\", \"history\": [{\"ts\": \"2023-02-14T13:22:39.493995\", \"status\": \"STARTED\"}], \"rt\": 1.0, \"rc\": 0}}\n"
     ]
    },
    {
     "data": {
      "text/plain": [
       "{'name': 'test',\n",
       " 'job_id': 'test_20230214_131949kfsqwjjz',\n",
       " 'job_dir': '/scratch/06307/clos21/taccjm-ls6/jobs/test_20230214_131949kfsqwjjz',\n",
       " 'slurm': {'allocation': 'ADCIRC',\n",
       "  'node_count': 1,\n",
       "  'processors_per_node': 4,\n",
       "  'max_run_time': 0.5,\n",
       "  'queue': 'development',\n",
       "  'dependencies': [],\n",
       "  'node_cound': 1},\n",
       " 'args': {'tasks': [],\n",
       "  'task_max_runtime': 0.1,\n",
       "  'max_runtime': 0.5,\n",
       "  'summary_interval': 60},\n",
       " 'submit_script': '/scratch/06307/clos21/taccjm-ls6/jobs/test_20230214_131949kfsqwjjz/submit_script.sh',\n",
       " 'sim_script': '/scratch/06307/clos21/taccjm-ls6/jobs/test_20230214_131949kfsqwjjz/test.py',\n",
       " 'slurm_id': '701781'}"
      ]
     },
     "execution_count": 13,
     "metadata": {},
     "output_type": "execute_result"
    }
   ],
   "source": [
    "sim.client.submit_job(job_config[\"job_id\"])"
   ]
  },
  {
   "cell_type": "code",
   "execution_count": 14,
   "id": "704d3a2f-0b6d-4549-8987-f05fa288612c",
   "metadata": {},
   "outputs": [
    {
     "name": "stdout",
     "output_type": "stream",
     "text": [
      "{\"asctime\": \"2023-02-14 13:22:54,939\", \"name\": \"taccjm.TACCClient\", \"levelname\": \"INFO\", \"message\": \"Processed command 2594\", \"cmnd_config\": {\"id\": 2594, \"cmd\": \"showq -U clos21\", \"ts\": \"2023-02-14T13:22:54.933239\", \"status\": \"COMPLETE\", \"stdout\": \"Using system default configuration file \\n\\nSUMMARY OF JOBS FOR USER: <clos21>\\n\\nACTIVE JOBS--------------------\\nJOBID     JOBNAME    USERNAME      STATE   NODES REMAINING STARTTIME\\n=====================\", \"stderr\": \"\", \"history\": [{\"ts\": \"2023-02-14T13:22:53.736636\", \"status\": \"STARTED\"}], \"rt\": 1.0, \"rc\": 0}}\n"
     ]
    },
    {
     "data": {
      "text/plain": [
       "[{'job_id': '701781',\n",
       "  'job_name': 'test_20230',\n",
       "  'username': 'clos21',\n",
       "  'state': 'Running',\n",
       "  'nodes': '1',\n",
       "  'remaining': '1',\n",
       "  'start_time': '0:29:47'}]"
      ]
     },
     "execution_count": 14,
     "metadata": {},
     "output_type": "execute_result"
    }
   ],
   "source": [
    "sim.client.showq()"
   ]
  },
  {
   "cell_type": "code",
   "execution_count": 16,
   "id": "685af85a-ecc9-4422-ad9b-bf3f5f468508",
   "metadata": {},
   "outputs": [
    {
     "data": {
      "text/plain": [
       "[{'filename': 'submit_script.sh',\n",
       "  'st_atime': 1676402395,\n",
       "  'st_gid': 800588,\n",
       "  'st_mode': 33152,\n",
       "  'st_mtime': 1676402391,\n",
       "  'st_size': 915,\n",
       "  'st_uid': 856065,\n",
       "  'ls_str': '-rw-------   1 856065   800588        915 14 Feb 13:19 submit_script.sh'},\n",
       " {'filename': 'remora_701781',\n",
       "  'st_atime': 1676402562,\n",
       "  'st_gid': 800588,\n",
       "  'st_mode': 16832,\n",
       "  'st_mtime': 1676402609,\n",
       "  'st_size': 34,\n",
       "  'st_uid': 856065,\n",
       "  'ls_str': 'drwx------   1 856065   800588         34 14 Feb 13:23 remora_701781'},\n",
       " {'filename': 'test_20230214_131949kfsqwjjz.o701781',\n",
       "  'st_atime': 1676402563,\n",
       "  'st_gid': 800588,\n",
       "  'st_mode': 33152,\n",
       "  'st_mtime': 1676402609,\n",
       "  'st_size': 177,\n",
       "  'st_uid': 856065,\n",
       "  'ls_str': '-rw-------   1 856065   800588        177 14 Feb 13:23 test_20230214_131949kfsqwjjz.o701781'},\n",
       " {'filename': 'test.py',\n",
       "  'st_atime': 1676402395,\n",
       "  'st_gid': 800588,\n",
       "  'st_mode': 33216,\n",
       "  'st_mtime': 1676402391,\n",
       "  'st_size': 3907,\n",
       "  'st_uid': 856065,\n",
       "  'ls_str': '-rwx------   1 856065   800588       3907 14 Feb 13:19 test.py'},\n",
       " {'filename': 'test_20230214_131949kfsqwjjz.e701781',\n",
       "  'st_atime': 1676402564,\n",
       "  'st_gid': 800588,\n",
       "  'st_mode': 33152,\n",
       "  'st_mtime': 1676402605,\n",
       "  'st_size': 1484,\n",
       "  'st_uid': 856065,\n",
       "  'ls_str': '-rw-------   1 856065   800588       1484 14 Feb 13:23 test_20230214_131949kfsqwjjz.e701781'},\n",
       " {'filename': 'job.json',\n",
       "  'st_atime': 1676402562,\n",
       "  'st_gid': 800588,\n",
       "  'st_mode': 33152,\n",
       "  'st_mtime': 1676402564,\n",
       "  'st_size': 609,\n",
       "  'st_uid': 856065,\n",
       "  'ls_str': '-rw-------   1 856065   800588        609 14 Feb 13:22 job.json'}]"
      ]
     },
     "execution_count": 16,
     "metadata": {},
     "output_type": "execute_result"
    }
   ],
   "source": [
    "sim.client.list_files(\"\", job_id=job_config[\"job_id\"], recurse=True)"
   ]
  },
  {
   "cell_type": "code",
   "execution_count": 18,
   "id": "a51e4a17-7c66-4d13-a94c-500164d3bbdb",
   "metadata": {},
   "outputs": [],
   "source": [
    "err_file = sim.client.read(\n",
    "    \"test_20230214_131949kfsqwjjz.e701781\", job_id=job_config[\"job_id\"]\n",
    ")"
   ]
  },
  {
   "cell_type": "code",
   "execution_count": 19,
   "id": "abe6eded-0f2b-48ab-a4ed-325b764751f6",
   "metadata": {},
   "outputs": [
    {
     "name": "stdout",
     "output_type": "stream",
     "text": [
      "Warning: Permanently added 'c307-006' (ECDSA) to the list of known hosts.\n",
      "cat: '/proc/fs/lustre/mdc/work*/stats': No such file or directory\n",
      "cat: '/proc/fs/lustre/llite/work*/stats': No such file or directory\n",
      "cat: '/proc/fs/lustre/llite/work*/stats': No such file or directory\n",
      "cat: /proc/sys/lnet/stats: No such file or directory\n",
      "cat: '/proc/fs/lustre/mdc/work*/stats': No such file or directory\n",
      "cat: '/proc/fs/lustre/llite/work*/stats': No such file or directory\n",
      "cat: '/proc/fs/lustre/llite/work*/stats': No such file or directory\n",
      "cat: /proc/sys/lnet/stats: No such file or directory\n",
      "cat: '/proc/fs/lustre/mdc/work*/stats': No such file or directory\n",
      "cat: '/proc/fs/lustre/llite/work*/stats': No such file or directory\n",
      "cat: '/proc/fs/lustre/llite/work*/stats': No such file or directory\n",
      "cat: /proc/sys/lnet/stats: No such file or directory\n",
      "Traceback (most recent call last):\n",
      "  File \"/scratch/06307/clos21/taccjm-ls6/jobs/test_20230214_131949kfsqwjjz/./test.py\", line 123, in <module>\n",
      "    simulation = EnsembleTACCSimulation(name='test',\n",
      "                 ^^^^^^^^^^^^^^^^^^^^^^^^^^^^^^^^^^^\n",
      "  File \"/scratch/06307/clos21/taccjm-ls6/jobs/test_20230214_131949kfsqwjjz/./test.py\", line 65, in __init__\n",
      "    super().__init__(name, system, log_config,\n",
      "TypeError: TACCSimulation.__init__() got an unexpected keyword argument 'script_file'\n",
      "Runtime error (func=(main), adr=9): Divide by zero\n",
      "Runtime error (func=(main), adr=9): Divide by zero\n",
      "Runtime error (func=(main), adr=9): Divide by zero\n",
      "\n"
     ]
    }
   ],
   "source": [
    "print(err_file)"
   ]
  },
  {
   "cell_type": "code",
   "execution_count": null,
   "id": "4e571b27-6690-4c55-b394-f81f47743d22",
   "metadata": {},
   "outputs": [],
   "source": []
  }
 ],
 "metadata": {
  "citation-manager": {
   "items": {}
  },
  "kernelspec": {
   "display_name": "Python 3 (ipykernel)",
   "language": "python",
   "name": "python3"
  },
  "language_info": {
   "codemirror_mode": {
    "name": "ipython",
    "version": 3
   },
   "file_extension": ".py",
   "mimetype": "text/x-python",
   "name": "python",
   "nbconvert_exporter": "python",
   "pygments_lexer": "ipython3",
   "version": "3.10.8"
  }
 },
 "nbformat": 4,
 "nbformat_minor": 5
}
